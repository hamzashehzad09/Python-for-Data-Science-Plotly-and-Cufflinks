{
 "cells": [
  {
   "cell_type": "markdown",
   "metadata": {},
   "source": [
    "# Only works with Jupyter Notebook"
   ]
  },
  {
   "cell_type": "code",
   "execution_count": 13,
   "metadata": {},
   "outputs": [],
   "source": [
    "import pandas as pd\n",
    "import numpy as np\n",
    "\n",
    "\n"
   ]
  },
  {
   "cell_type": "code",
   "execution_count": 14,
   "metadata": {},
   "outputs": [],
   "source": [
    "import matplotlib.pyplot as plt\n",
    "%matplotlib inline\n",
    "\n"
   ]
  },
  {
   "cell_type": "code",
   "execution_count": 15,
   "metadata": {},
   "outputs": [],
   "source": [
    "import chart_studio.plotly as py"
   ]
  },
  {
   "cell_type": "code",
   "execution_count": 16,
   "metadata": {},
   "outputs": [],
   "source": [
    "from plotly import __version__"
   ]
  },
  {
   "cell_type": "code",
   "execution_count": 17,
   "metadata": {},
   "outputs": [
    {
     "name": "stdout",
     "output_type": "stream",
     "text": [
      "4.8.2\n"
     ]
    }
   ],
   "source": [
    "print(__version__)"
   ]
  },
  {
   "cell_type": "code",
   "execution_count": 18,
   "metadata": {},
   "outputs": [],
   "source": [
    "import cufflinks as cf"
   ]
  },
  {
   "cell_type": "code",
   "execution_count": 19,
   "metadata": {},
   "outputs": [],
   "source": [
    "from plotly.offline import download_plotlyjs, init_notebook_mode,plot, iplot"
   ]
  },
  {
   "cell_type": "code",
   "execution_count": 20,
   "metadata": {},
   "outputs": [
    {
     "data": {
      "text/html": [
       "        <script type=\"text/javascript\">\n",
       "        window.PlotlyConfig = {MathJaxConfig: 'local'};\n",
       "        if (window.MathJax) {MathJax.Hub.Config({SVG: {font: \"STIX-Web\"}});}\n",
       "        if (typeof require !== 'undefined') {\n",
       "        require.undef(\"plotly\");\n",
       "        requirejs.config({\n",
       "            paths: {\n",
       "                'plotly': ['https://cdn.plot.ly/plotly-latest.min']\n",
       "            }\n",
       "        });\n",
       "        require(['plotly'], function(Plotly) {\n",
       "            window._Plotly = Plotly;\n",
       "        });\n",
       "        }\n",
       "        </script>\n",
       "        "
      ]
     },
     "metadata": {},
     "output_type": "display_data"
    }
   ],
   "source": [
    "init_notebook_mode(connected = True)\n",
    "#it will connect javascript "
   ]
  },
  {
   "cell_type": "code",
   "execution_count": 21,
   "metadata": {},
   "outputs": [
    {
     "data": {
      "text/html": [
       "        <script type=\"text/javascript\">\n",
       "        window.PlotlyConfig = {MathJaxConfig: 'local'};\n",
       "        if (window.MathJax) {MathJax.Hub.Config({SVG: {font: \"STIX-Web\"}});}\n",
       "        if (typeof require !== 'undefined') {\n",
       "        require.undef(\"plotly\");\n",
       "        requirejs.config({\n",
       "            paths: {\n",
       "                'plotly': ['https://cdn.plot.ly/plotly-latest.min']\n",
       "            }\n",
       "        });\n",
       "        require(['plotly'], function(Plotly) {\n",
       "            window._Plotly = Plotly;\n",
       "        });\n",
       "        }\n",
       "        </script>\n",
       "        "
      ]
     },
     "metadata": {},
     "output_type": "display_data"
    }
   ],
   "source": [
    "cf.go_offline()\n",
    "\n",
    "#using cufflinks offline"
   ]
  },
  {
   "cell_type": "code",
   "execution_count": 22,
   "metadata": {},
   "outputs": [
    {
     "data": {
      "text/html": [
       "<div>\n",
       "<style scoped>\n",
       "    .dataframe tbody tr th:only-of-type {\n",
       "        vertical-align: middle;\n",
       "    }\n",
       "\n",
       "    .dataframe tbody tr th {\n",
       "        vertical-align: top;\n",
       "    }\n",
       "\n",
       "    .dataframe thead th {\n",
       "        text-align: right;\n",
       "    }\n",
       "</style>\n",
       "<table border=\"1\" class=\"dataframe\">\n",
       "  <thead>\n",
       "    <tr style=\"text-align: right;\">\n",
       "      <th></th>\n",
       "      <th>A</th>\n",
       "      <th>B</th>\n",
       "      <th>C</th>\n",
       "      <th>D</th>\n",
       "    </tr>\n",
       "  </thead>\n",
       "  <tbody>\n",
       "    <tr>\n",
       "      <th>0</th>\n",
       "      <td>-2.159555</td>\n",
       "      <td>1.459200</td>\n",
       "      <td>0.579468</td>\n",
       "      <td>-0.098549</td>\n",
       "    </tr>\n",
       "    <tr>\n",
       "      <th>1</th>\n",
       "      <td>-1.617324</td>\n",
       "      <td>0.964198</td>\n",
       "      <td>0.501731</td>\n",
       "      <td>-0.222912</td>\n",
       "    </tr>\n",
       "    <tr>\n",
       "      <th>2</th>\n",
       "      <td>1.067493</td>\n",
       "      <td>-0.354537</td>\n",
       "      <td>-1.496202</td>\n",
       "      <td>-0.056039</td>\n",
       "    </tr>\n",
       "    <tr>\n",
       "      <th>3</th>\n",
       "      <td>0.439513</td>\n",
       "      <td>0.456216</td>\n",
       "      <td>1.154145</td>\n",
       "      <td>-0.160444</td>\n",
       "    </tr>\n",
       "    <tr>\n",
       "      <th>4</th>\n",
       "      <td>0.362796</td>\n",
       "      <td>-0.357808</td>\n",
       "      <td>0.689178</td>\n",
       "      <td>0.993427</td>\n",
       "    </tr>\n",
       "  </tbody>\n",
       "</table>\n",
       "</div>"
      ],
      "text/plain": [
       "          A         B         C         D\n",
       "0 -2.159555  1.459200  0.579468 -0.098549\n",
       "1 -1.617324  0.964198  0.501731 -0.222912\n",
       "2  1.067493 -0.354537 -1.496202 -0.056039\n",
       "3  0.439513  0.456216  1.154145 -0.160444\n",
       "4  0.362796 -0.357808  0.689178  0.993427"
      ]
     },
     "execution_count": 22,
     "metadata": {},
     "output_type": "execute_result"
    }
   ],
   "source": [
    "#Data\n",
    "\n",
    "df = pd.DataFrame(np.random.randn(100,4), columns = 'A B C D'.split())\n",
    "df.head()"
   ]
  },
  {
   "cell_type": "code",
   "execution_count": 23,
   "metadata": {},
   "outputs": [
    {
     "data": {
      "text/html": [
       "<div>\n",
       "<style scoped>\n",
       "    .dataframe tbody tr th:only-of-type {\n",
       "        vertical-align: middle;\n",
       "    }\n",
       "\n",
       "    .dataframe tbody tr th {\n",
       "        vertical-align: top;\n",
       "    }\n",
       "\n",
       "    .dataframe thead th {\n",
       "        text-align: right;\n",
       "    }\n",
       "</style>\n",
       "<table border=\"1\" class=\"dataframe\">\n",
       "  <thead>\n",
       "    <tr style=\"text-align: right;\">\n",
       "      <th></th>\n",
       "      <th>Category</th>\n",
       "      <th>Values</th>\n",
       "    </tr>\n",
       "  </thead>\n",
       "  <tbody>\n",
       "    <tr>\n",
       "      <th>0</th>\n",
       "      <td>A</td>\n",
       "      <td>32</td>\n",
       "    </tr>\n",
       "    <tr>\n",
       "      <th>1</th>\n",
       "      <td>B</td>\n",
       "      <td>43</td>\n",
       "    </tr>\n",
       "    <tr>\n",
       "      <th>2</th>\n",
       "      <td>C</td>\n",
       "      <td>50</td>\n",
       "    </tr>\n",
       "  </tbody>\n",
       "</table>\n",
       "</div>"
      ],
      "text/plain": [
       "  Category  Values\n",
       "0        A      32\n",
       "1        B      43\n",
       "2        C      50"
      ]
     },
     "execution_count": 23,
     "metadata": {},
     "output_type": "execute_result"
    }
   ],
   "source": [
    "df2 = pd.DataFrame({'Category':['A', 'B', 'C'], 'Values' : [32, 43 , 50]})\n",
    "df2.head()"
   ]
  },
  {
   "cell_type": "code",
   "execution_count": null,
   "metadata": {},
   "outputs": [],
   "source": []
  },
  {
   "cell_type": "code",
   "execution_count": null,
   "metadata": {},
   "outputs": [],
   "source": []
  },
  {
   "cell_type": "code",
   "execution_count": null,
   "metadata": {},
   "outputs": [],
   "source": []
  },
  {
   "cell_type": "code",
   "execution_count": null,
   "metadata": {},
   "outputs": [],
   "source": []
  },
  {
   "cell_type": "code",
   "execution_count": 24,
   "metadata": {},
   "outputs": [
    {
     "data": {
      "text/plain": [
       "<matplotlib.axes._subplots.AxesSubplot at 0x1b47ac6d348>"
      ]
     },
     "execution_count": 24,
     "metadata": {},
     "output_type": "execute_result"
    },
    {
     "data": {
      "image/png": "[encoded data removed]",
      "text/plain": [
       "<Figure size 432x288 with 1 Axes>"
      ]
     },
     "metadata": {
      "needs_background": "light"
     },
     "output_type": "display_data"
    }
   ],
   "source": [
    "df.plot() #by doing this pandas will plot something with matplotlb"
   ]
  },
  {
   "cell_type": "code",
   "execution_count": 25,
   "metadata": {
    "scrolled": true
   },
   "outputs": [
    {
     "data": {
      "application/vnd.plotly.v1+json": {
       "config": {
        "linkText": "Export to plot.ly",
        "plotlyServerURL": "https://plot.ly",
        "showLink": true
       },
       "data": [
        {
         "line": {
          "color": "rgba(255, 153, 51, 1.0)",
          "dash": "solid",
          "shape": "linear",
          "width": 1.3
         },
         "mode": "lines",
         "name": "A",
         "text": "",
         "type": "scatter",
         "x": [
          0,
          1,
          2,
          3,
          4,
          5,
          6,
          7,
          8,
          9,
          10,
          11,
          12,
          13,
          14,
          15,
          16,
          17,
          18,
          19,
          20,
          21,
          22,
          23,
          24,
          25,
          26,
          27,
          28,
          29,
          30,
          31,
          32,
          33,
          34,
          35,
          36,
          37,
          38,
          39,
          40,
          41,
          42,
          43,
          44,
          45,
          46,
          47,
          48,
          49,
          50,
          51,
          52,
          53,
          54,
          55,
          56,
          57,
          58,
          59,
          60,
          61,
          62,
          63,
          64,
          65,
          66,
          67,
          68,
          69,
          70,
          71,
          72,
          73,
          74,
          75,
          76,
          77,
          78,
          79,
          80,
          81,
          82,
          83,
          84,
          85,
          86,
          87,
          88,
          89,
          90,
          91,
          92,
          93,
          94,
          95,
          96,
          97,
          98,
          99
         ],
         "y": [
          -2.1595551128013284,
          -1.6173242898516864,
          1.0674927611835447,
          0.439513031659266,
          0.36279596254513036,
          0.600173062285224,
          -1.2305524839434807,
          0.8746937230690675,
          0.11640091615535893,
          0.08329582563318474,
          -1.0447940555120276,
          0.2866984367184956,
          -0.7804251491738313,
          0.34032909152602303,
          0.16765058868614027,
          -1.5296597160601109,
          0.5795236318778799,
          0.21113731116682144,
          -0.696442616619319,
          -0.9998392359486835,
          1.329383270272273,
          0.7517844673592072,
          -0.24031730901126605,
          0.6818402629440957,
          -1.4653621224896143,
          1.687649280894785,
          0.9981040537249494,
          0.15861966716117912,
          -0.36282322214130874,
          0.27924717780783115,
          0.28992046088081813,
          -1.3984726905908844,
          1.893976585621253,
          -1.6141235585168021,
          -0.39393868993438785,
          0.3437997112868393,
          -1.173543574871991,
          -0.8838390865195862,
          -0.9355575902731905,
          0.27371354622528726,
          0.05160437312171493,
          -1.8358448571424413,
          -0.8058211780388287,
          -0.732316251321196,
          -0.010386755237048722,
          -1.3849984076183435,
          0.9447522796880747,
          0.08667779165764636,
          -1.7715368550246202,
          -0.8928684210681702,
          -2.737754594551864,
          0.7632387196780179,
          -1.858079865253876,
          0.9382449457982923,
          0.057605652159602484,
          0.35001307742775006,
          1.2975578859253716,
          -1.879629717348173,
          -0.7028013642022829,
          -1.276849241601867,
          -0.7084942780129913,
          0.9603062395086082,
          -0.29122712851705307,
          -0.06626856152534549,
          -0.5890574344828009,
          -1.2176930694033774,
          -1.2688541908453956,
          0.7875845472803842,
          0.01718829550456086,
          0.6754117368612261,
          1.1835223881038262,
          1.143348078480234,
          0.3515601920504283,
          -1.364077246993153,
          -0.2072748954860949,
          -1.4434036675940296,
          1.2610560302052172,
          -1.3207854109660424,
          -1.1331955431274854,
          0.4928363352442773,
          0.3381151543801492,
          2.077740789386813,
          0.6986883191752687,
          0.036166062453457694,
          0.37080693257464536,
          0.058122135506190706,
          0.34072378973502304,
          -0.9859503478488252,
          0.6959107992382784,
          -0.3132716314885966,
          1.1575066319665304,
          -0.640822700603181,
          0.8590011585090338,
          0.26590755576391517,
          -0.40565841874420194,
          -1.3114323899851146,
          -0.4092136632061438,
          -2.443718077463361,
          -0.40323372381243794,
          1.7361820923496287
         ]
        },
        {
         "line": {
          "color": "rgba(55, 128, 191, 1.0)",
          "dash": "solid",
          "shape": "linear",
          "width": 1.3
         },
         "mode": "lines",
         "name": "B",
         "text": "",
         "type": "scatter",
         "x": [
          0,
          1,
          2,
          3,
          4,
          5,
          6,
          7,
          8,
          9,
          10,
          11,
          12,
          13,
          14,
          15,
          16,
          17,
          18,
          19,
          20,
          21,
          22,
          23,
          24,
          25,
          26,
          27,
          28,
          29,
          30,
          31,
          32,
          33,
          34,
          35,
          36,
          37,
          38,
          39,
          40,
          41,
          42,
          43,
          44,
          45,
          46,
          47,
          48,
          49,
          50,
          51,
          52,
          53,
          54,
          55,
          56,
          57,
          58,
          59,
          60,
          61,
          62,
          63,
          64,
          65,
          66,
          67,
          68,
          69,
          70,
          71,
          72,
          73,
          74,
          75,
          76,
          77,
          78,
          79,
          80,
          81,
          82,
          83,
          84,
          85,
          86,
          87,
          88,
          89,
          90,
          91,
          92,
          93,
          94,
          95,
          96,
          97,
          98,
          99
         ],
         "y": [
          1.4592000208289093,
          0.964198056386624,
          -0.3545365578357637,
          0.4562156461352419,
          -0.35780829304500317,
          0.2923062810269013,
          -0.573725181355843,
          0.8714618853034701,
          0.15748256435182453,
          -2.0153881582947273,
          -1.4423973823876555,
          -0.6957913732505749,
          0.6586112495677865,
          0.2861085912008684,
          0.515959224580303,
          -1.230267203221121,
          0.41276020132790575,
          -0.21690161797783022,
          1.9087584210999025,
          1.7869020876854367,
          1.4943344086087573,
          -1.05350831067552,
          0.1685870131827114,
          1.2749765964185702,
          -1.9927034723818542,
          -0.25512766703461726,
          2.224066184435049,
          0.4531495369022115,
          1.7766607769742329,
          -0.7040569863068262,
          -0.09339300027020869,
          -0.1481268546993301,
          0.017934896786732348,
          0.9245948440993917,
          -0.38335690164848596,
          0.3156975877305662,
          -0.04130995125404242,
          -1.2969585562991228,
          0.8876823442603106,
          1.9467992753764507,
          -0.8694044880254235,
          1.1149036226764923,
          0.06303902996119262,
          -0.7546426748980145,
          -0.10093449120341683,
          0.05872570955082937,
          1.4030489733182951,
          1.5523552011133506,
          -1.7107199735275513,
          0.4806186140463261,
          0.7321791060879436,
          -1.1651253386182734,
          -1.113986670108338,
          -1.434156433332877,
          1.17533818820652,
          -0.4040667742334181,
          0.7874647566080882,
          0.3986027828133385,
          -0.1717075349366136,
          1.6706827228728545,
          1.1441107438259974,
          -0.009941051957703647,
          -1.2601083964921593,
          0.41632531300085235,
          0.9915573868922075,
          1.5757344516704244,
          0.6506313912351971,
          -1.2446155517601565,
          0.9466919275591655,
          -0.14447844121663178,
          -0.3429560008658638,
          0.726744767174271,
          -1.137023908469773,
          0.4659120864493864,
          -0.8612420271527861,
          0.42907710532127724,
          -2.2087974571652773,
          0.11373515913039517,
          1.4138131418823359,
          1.1174159891542308,
          -1.8461061947181268,
          -0.8244927053386425,
          1.382083515344372,
          0.5301551005414858,
          -1.2799227684693713,
          -0.97907695137764,
          -0.3661777733039764,
          -1.3899535648824415,
          0.09902669135632002,
          1.4929791530505998,
          -0.025483633148594916,
          1.134650174116771,
          0.1252055257162927,
          -0.406592778474004,
          0.2506500289936139,
          2.12020624419413,
          0.281816072656867,
          -0.475066104476711,
          -0.5882116783620391,
          0.820717473818895
         ]
        },
        {
         "line": {
          "color": "rgba(50, 171, 96, 1.0)",
          "dash": "solid",
          "shape": "linear",
          "width": 1.3
         },
         "mode": "lines",
         "name": "C",
         "text": "",
         "type": "scatter",
         "x": [
          0,
          1,
          2,
          3,
          4,
          5,
          6,
          7,
          8,
          9,
          10,
          11,
          12,
          13,
          14,
          15,
          16,
          17,
          18,
          19,
          20,
          21,
          22,
          23,
          24,
          25,
          26,
          27,
          28,
          29,
          30,
          31,
          32,
          33,
          34,
          35,
          36,
          37,
          38,
          39,
          40,
          41,
          42,
          43,
          44,
          45,
          46,
          47,
          48,
          49,
          50,
          51,
          52,
          53,
          54,
          55,
          56,
          57,
          58,
          59,
          60,
          61,
          62,
          63,
          64,
          65,
          66,
          67,
          68,
          69,
          70,
          71,
          72,
          73,
          74,
          75,
          76,
          77,
          78,
          79,
          80,
          81,
          82,
          83,
          84,
          85,
          86,
          87,
          88,
          89,
          90,
          91,
          92,
          93,
          94,
          95,
          96,
          97,
          98,
          99
         ],
         "y": [
          0.5794677191950642,
          0.501730933890134,
          -1.4962018032936957,
          1.1541445595189708,
          0.6891778077042365,
          -0.31160390161792123,
          -0.03343271758929688,
          0.5690022233838526,
          0.16597279523743197,
          1.1765828116207073,
          1.4597870878070323,
          -1.8481255054723023,
          0.13330338698040667,
          -0.37908423194793744,
          0.8000420147504629,
          1.8050033400646475,
          0.6817899745637668,
          1.1049559291351492,
          1.1189254250395677,
          0.9848892181359132,
          1.113524136058006,
          -0.32215014750661963,
          -0.2615377353379887,
          0.8516191639158683,
          -1.4288186244479841,
          -0.0992336682479304,
          0.13761164275859242,
          1.4935648199638034,
          0.5992367713893278,
          -0.10136490116258687,
          -2.5495040640112605,
          -1.164465367858444,
          0.08112461748759348,
          0.43673052524547706,
          -0.3540586232330371,
          -0.26601001281407366,
          3.116382105079835,
          -1.0082399713783279,
          0.9258405971834435,
          0.32299994992652165,
          0.31345810753157605,
          -1.6907954908750393,
          -0.49869640763385903,
          -0.550312008156532,
          -0.642178028991801,
          0.11561143241361704,
          0.5371731993294667,
          1.615975730616186,
          -0.2998580932090495,
          -0.996147086733614,
          1.3145823344147758,
          0.33926924189979185,
          0.3607314115005695,
          -0.9225597508089038,
          -1.350377677608704,
          -0.5300051444841131,
          0.22514117832963032,
          0.43758779238141954,
          0.8369023282649397,
          -0.9317211729498661,
          0.9334577398325917,
          -0.47869544987191,
          -0.2741311952041577,
          0.967762935295436,
          0.48311725624558566,
          1.1076784051256234,
          -1.8415703676590454,
          0.8009476065118966,
          -0.2962390267871729,
          0.27400436136898576,
          0.9103310566336221,
          0.34522548230632827,
          -1.0935723668050579,
          0.10485349522484715,
          0.1086775871631306,
          1.0880303320245401,
          -1.012061987980604,
          -0.02109663276978071,
          -1.704949563316796,
          0.028169944895947357,
          -1.0734196490483634,
          0.4718297098388197,
          -0.008532919072018983,
          0.9138921400915136,
          0.9605374458946714,
          -0.4209490955570628,
          0.9168606267063014,
          0.2479189644628064,
          0.290905939646268,
          -1.245022619751132,
          0.9805534981284733,
          0.25484587184535146,
          0.06837460426071436,
          -1.2325605609141812,
          -0.6511241354293731,
          -0.9339517294261299,
          0.4286605259543922,
          -1.4480549224830839,
          0.6526429990937497,
          0.399035375449021
         ]
        },
        {
         "line": {
          "color": "rgba(128, 0, 128, 1.0)",
          "dash": "solid",
          "shape": "linear",
          "width": 1.3
         },
         "mode": "lines",
         "name": "D",
         "text": "",
         "type": "scatter",
         "x": [
          0,
          1,
          2,
          3,
          4,
          5,
          6,
          7,
          8,
          9,
          10,
          11,
          12,
          13,
          14,
          15,
          16,
          17,
          18,
          19,
          20,
          21,
          22,
          23,
          24,
          25,
          26,
          27,
          28,
          29,
          30,
          31,
          32,
          33,
          34,
          35,
          36,
          37,
          38,
          39,
          40,
          41,
          42,
          43,
          44,
          45,
          46,
          47,
          48,
          49,
          50,
          51,
          52,
          53,
          54,
          55,
          56,
          57,
          58,
          59,
          60,
          61,
          62,
          63,
          64,
          65,
          66,
          67,
          68,
          69,
          70,
          71,
          72,
          73,
          74,
          75,
          76,
          77,
          78,
          79,
          80,
          81,
          82,
          83,
          84,
          85,
          86,
          87,
          88,
          89,
          90,
          91,
          92,
          93,
          94,
          95,
          96,
          97,
          98,
          99
         ],
         "y": [
          -0.09854883291907926,
          -0.22291197202715327,
          -0.05603926952495826,
          -0.16044366970398954,
          0.9934266499590423,
          -0.9434231704637164,
          -2.3628669888427156,
          0.9614866320852399,
          -1.03743742328673,
          -0.02285967277143715,
          -0.3221357779899134,
          -0.10602840236428528,
          -0.6376909296609188,
          0.7891907542277319,
          1.1047870204630394,
          -0.6053854529280241,
          0.17038111791732993,
          0.49364527284788395,
          0.22200679620427322,
          0.3310369585799776,
          1.4599222464370203,
          -0.43924208397441294,
          -0.20647399684547882,
          -1.0356083122740205,
          -0.3300536030422579,
          -0.78804073348034,
          2.3173323073783085,
          -0.46471973214763534,
          -1.4300800670977507,
          -0.07567517564352919,
          0.6524017353107875,
          0.7043998780944764,
          1.0031685132352863,
          0.03820954899075879,
          -0.5856568861653925,
          -1.5415818603169196,
          0.46249988776960027,
          0.4123415938089824,
          -1.5044482817603138,
          1.78103045711766,
          0.094790348751115,
          0.12462144680004582,
          0.33157326931674935,
          -2.173232723364673,
          -1.3711736975717812,
          -0.12105965214112185,
          -0.1707193781422474,
          -1.2548941777362426,
          1.6777075823000378,
          0.4631910423817079,
          1.0312839620026275,
          1.1150544413777015,
          0.32880637542368235,
          -1.2221075188191968,
          1.3513742669080777,
          -0.7940422391938328,
          1.5752637248786878,
          -0.3735541695100036,
          1.9736243707533643,
          -1.879393106598821,
          0.9475434500061293,
          0.38049342970262595,
          0.92529244285909,
          -0.31738997222860627,
          -1.1550980779247648,
          -2.790996308231615,
          -0.038823415261053686,
          -1.770596331605831,
          -1.3901563264920571,
          -0.06944339938706642,
          -0.07338252850507204,
          1.2155722622665548,
          -1.183222756535476,
          -0.07581025404718007,
          -0.24719609359034153,
          -1.4102482776887537,
          -0.6307036443920538,
          0.13508691970311446,
          0.0720295216429219,
          0.16083003123127926,
          -0.11435468800843425,
          -1.5885637420959238,
          0.04309459940423492,
          1.2000173377538228,
          0.1976740200389952,
          -0.10814313316407707,
          0.5175464437127201,
          0.6028464203151045,
          2.852092228048044,
          0.39759955635671906,
          0.06035410776437869,
          0.017370209948719465,
          0.378174312868864,
          -1.5250611360546271,
          0.3756302724436199,
          1.6448917322553387,
          1.5515661824805973,
          0.1621319498240945,
          1.7993966671496153,
          0.582172543791085
         ]
        }
       ],
       "layout": {
        "legend": {
         "bgcolor": "#F5F6F9",
         "font": {
          "color": "#4D5663"
         }
        },
        "paper_bgcolor": "#F5F6F9",
        "plot_bgcolor": "#F5F6F9",
        "template": {
         "data": {
          "bar": [
           {
            "error_x": {
             "color": "#2a3f5f"
            },
            "error_y": {
             "color": "#2a3f5f"
            },
            "marker": {
             "line": {
              "color": "#E5ECF6",
              "width": 0.5
             }
            },
            "type": "bar"
           }
          ],
          "barpolar": [
           {
            "marker": {
             "line": {
              "color": "#E5ECF6",
              "width": 0.5
             }
            },
            "type": "barpolar"
           }
          ],
          "carpet": [
           {
            "aaxis": {
             "endlinecolor": "#2a3f5f",
             "gridcolor": "white",
             "linecolor": "white",
             "minorgridcolor": "white",
             "startlinecolor": "#2a3f5f"
            },
            "baxis": {
             "endlinecolor": "#2a3f5f",
             "gridcolor": "white",
             "linecolor": "white",
             "minorgridcolor": "white",
             "startlinecolor": "#2a3f5f"
            },
            "type": "carpet"
           }
          ],
          "choropleth": [
           {
            "colorbar": {
             "outlinewidth": 0,
             "ticks": ""
            },
            "type": "choropleth"
           }
          ],
          "contour": [
           {
            "colorbar": {
             "outlinewidth": 0,
             "ticks": ""
            },
            "colorscale": [
             [
              0,
              "#0d0887"
             ],
             [
              0.1111111111111111,
              "#46039f"
             ],
             [
              0.2222222222222222,
              "#7201a8"
             ],
             [
              0.3333333333333333,
              "#9c179e"
             ],
             [
              0.4444444444444444,
              "#bd3786"
             ],
             [
              0.5555555555555556,
              "#d8576b"
             ],
             [
              0.6666666666666666,
              "#ed7953"
             ],
             [
              0.7777777777777778,
              "#fb9f3a"
             ],
             [
              0.8888888888888888,
              "#fdca26"
             ],
             [
              1,
              "#f0f921"
             ]
            ],
            "type": "contour"
           }
          ],
          "contourcarpet": [
           {
            "colorbar": {
             "outlinewidth": 0,
             "ticks": ""
            },
            "type": "contourcarpet"
           }
          ],
          "heatmap": [
           {
            "colorbar": {
             "outlinewidth": 0,
             "ticks": ""
            },
            "colorscale": [
             [
              0,
              "#0d0887"
             ],
             [
              0.1111111111111111,
              "#46039f"
             ],
             [
              0.2222222222222222,
              "#7201a8"
             ],
             [
              0.3333333333333333,
              "#9c179e"
             ],
             [
              0.4444444444444444,
              "#bd3786"
             ],
             [
              0.5555555555555556,
              "#d8576b"
             ],
             [
              0.6666666666666666,
              "#ed7953"
             ],
             [
              0.7777777777777778,
              "#fb9f3a"
             ],
             [
              0.8888888888888888,
              "#fdca26"
             ],
             [
              1,
              "#f0f921"
             ]
            ],
            "type": "heatmap"
           }
          ],
          "heatmapgl": [
           {
            "colorbar": {
             "outlinewidth": 0,
             "ticks": ""
            },
            "colorscale": [
             [
              0,
              "#0d0887"
             ],
             [
              0.1111111111111111,
              "#46039f"
             ],
             [
              0.2222222222222222,
              "#7201a8"
             ],
             [
              0.3333333333333333,
              "#9c179e"
             ],
             [
              0.4444444444444444,
              "#bd3786"
             ],
             [
              0.5555555555555556,
              "#d8576b"
             ],
             [
              0.6666666666666666,
              "#ed7953"
             ],
             [
              0.7777777777777778,
              "#fb9f3a"
             ],
             [
              0.8888888888888888,
              "#fdca26"
             ],
             [
              1,
              "#f0f921"
             ]
            ],
            "type": "heatmapgl"
           }
          ],
          "histogram": [
           {
            "marker": {
             "colorbar": {
              "outlinewidth": 0,
              "ticks": ""
             }
            },
            "type": "histogram"
           }
          ],
          "histogram2d": [
           {
            "colorbar": {
             "outlinewidth": 0,
             "ticks": ""
            },
            "colorscale": [
             [
              0,
              "#0d0887"
             ],
             [
              0.1111111111111111,
              "#46039f"
             ],
             [
              0.2222222222222222,
              "#7201a8"
             ],
             [
              0.3333333333333333,
              "#9c179e"
             ],
             [
              0.4444444444444444,
              "#bd3786"
             ],
             [
              0.5555555555555556,
              "#d8576b"
             ],
             [
              0.6666666666666666,
              "#ed7953"
             ],
             [
              0.7777777777777778,
              "#fb9f3a"
             ],
             [
              0.8888888888888888,
              "#fdca26"
             ],
             [
              1,
              "#f0f921"
             ]
            ],
            "type": "histogram2d"
           }
          ],
          "histogram2dcontour": [
           {
            "colorbar": {
             "outlinewidth": 0,
             "ticks": ""
            },
            "colorscale": [
             [
              0,
              "#0d0887"
             ],
             [
              0.1111111111111111,
              "#46039f"
             ],
             [
              0.2222222222222222,
              "#7201a8"
             ],
             [
              0.3333333333333333,
              "#9c179e"
             ],
             [
              0.4444444444444444,
              "#bd3786"
             ],
             [
              0.5555555555555556,
              "#d8576b"
             ],
             [
              0.6666666666666666,
              "#ed7953"
             ],
             [
              0.7777777777777778,
              "#fb9f3a"
             ],
             [
              0.8888888888888888,
              "#fdca26"
             ],
             [
              1,
              "#f0f921"
             ]
            ],
            "type": "histogram2dcontour"
           }
          ],
          "mesh3d": [
           {
            "colorbar": {
             "outlinewidth": 0,
             "ticks": ""
            },
            "type": "mesh3d"
           }
          ],
          "parcoords": [
           {
            "line": {
             "colorbar": {
              "outlinewidth": 0,
              "ticks": ""
             }
            },
            "type": "parcoords"
           }
          ],
          "pie": [
           {
            "automargin": true,
            "type": "pie"
           }
          ],
          "scatter": [
           {
            "marker": {
             "colorbar": {
              "outlinewidth": 0,
              "ticks": ""
             }
            },
            "type": "scatter"
           }
          ],
          "scatter3d": [
           {
            "line": {
             "colorbar": {
              "outlinewidth": 0,
              "ticks": ""
             }
            },
            "marker": {
             "colorbar": {
              "outlinewidth": 0,
              "ticks": ""
             }
            },
            "type": "scatter3d"
           }
          ],
          "scattercarpet": [
           {
            "marker": {
             "colorbar": {
              "outlinewidth": 0,
              "ticks": ""
             }
            },
            "type": "scattercarpet"
           }
          ],
          "scattergeo": [
           {
            "marker": {
             "colorbar": {
              "outlinewidth": 0,
              "ticks": ""
             }
            },
            "type": "scattergeo"
           }
          ],
          "scattergl": [
           {
            "marker": {
             "colorbar": {
              "outlinewidth": 0,
              "ticks": ""
             }
            },
            "type": "scattergl"
           }
          ],
          "scattermapbox": [
           {
            "marker": {
             "colorbar": {
              "outlinewidth": 0,
              "ticks": ""
             }
            },
            "type": "scattermapbox"
           }
          ],
          "scatterpolar": [
           {
            "marker": {
             "colorbar": {
              "outlinewidth": 0,
              "ticks": ""
             }
            },
            "type": "scatterpolar"
           }
          ],
          "scatterpolargl": [
           {
            "marker": {
             "colorbar": {
              "outlinewidth": 0,
              "ticks": ""
             }
            },
            "type": "scatterpolargl"
           }
          ],
          "scatterternary": [
           {
            "marker": {
             "colorbar": {
              "outlinewidth": 0,
              "ticks": ""
             }
            },
            "type": "scatterternary"
           }
          ],
          "surface": [
           {
            "colorbar": {
             "outlinewidth": 0,
             "ticks": ""
            },
            "colorscale": [
             [
              0,
              "#0d0887"
             ],
             [
              0.1111111111111111,
              "#46039f"
             ],
             [
              0.2222222222222222,
              "#7201a8"
             ],
             [
              0.3333333333333333,
              "#9c179e"
             ],
             [
              0.4444444444444444,
              "#bd3786"
             ],
             [
              0.5555555555555556,
              "#d8576b"
             ],
             [
              0.6666666666666666,
              "#ed7953"
             ],
             [
              0.7777777777777778,
              "#fb9f3a"
             ],
             [
              0.8888888888888888,
              "#fdca26"
             ],
             [
              1,
              "#f0f921"
             ]
            ],
            "type": "surface"
           }
          ],
          "table": [
           {
            "cells": {
             "fill": {
              "color": "#EBF0F8"
             },
             "line": {
              "color": "white"
             }
            },
            "header": {
             "fill": {
              "color": "#C8D4E3"
             },
             "line": {
              "color": "white"
             }
            },
            "type": "table"
           }
          ]
         },
         "layout": {
          "annotationdefaults": {
           "arrowcolor": "#2a3f5f",
           "arrowhead": 0,
           "arrowwidth": 1
          },
          "coloraxis": {
           "colorbar": {
            "outlinewidth": 0,
            "ticks": ""
           }
          },
          "colorscale": {
           "diverging": [
            [
             0,
             "#8e0152"
            ],
            [
             0.1,
             "#c51b7d"
            ],
            [
             0.2,
             "#de77ae"
            ],
            [
             0.3,
             "#f1b6da"
            ],
            [
             0.4,
             "#fde0ef"
            ],
            [
             0.5,
             "#f7f7f7"
            ],
            [
             0.6,
             "#e6f5d0"
            ],
            [
             0.7,
             "#b8e186"
            ],
            [
             0.8,
             "#7fbc41"
            ],
            [
             0.9,
             "#4d9221"
            ],
            [
             1,
             "#276419"
            ]
           ],
           "sequential": [
            [
             0,
             "#0d0887"
            ],
            [
             0.1111111111111111,
             "#46039f"
            ],
            [
             0.2222222222222222,
             "#7201a8"
            ],
            [
             0.3333333333333333,
             "#9c179e"
            ],
            [
             0.4444444444444444,
             "#bd3786"
            ],
            [
             0.5555555555555556,
             "#d8576b"
            ],
            [
             0.6666666666666666,
             "#ed7953"
            ],
            [
             0.7777777777777778,
             "#fb9f3a"
            ],
            [
             0.8888888888888888,
             "#fdca26"
            ],
            [
             1,
             "#f0f921"
            ]
           ],
           "sequentialminus": [
            [
             0,
             "#0d0887"
            ],
            [
             0.1111111111111111,
             "#46039f"
            ],
            [
             0.2222222222222222,
             "#7201a8"
            ],
            [
             0.3333333333333333,
             "#9c179e"
            ],
            [
             0.4444444444444444,
             "#bd3786"
            ],
            [
             0.5555555555555556,
             "#d8576b"
            ],
            [
             0.6666666666666666,
             "#ed7953"
            ],
            [
             0.7777777777777778,
             "#fb9f3a"
            ],
            [
             0.8888888888888888,
             "#fdca26"
            ],
            [
             1,
             "#f0f921"
            ]
           ]
          },
          "colorway": [
           "#636efa",
           "#EF553B",
           "#00cc96",
           "#ab63fa",
           "#FFA15A",
           "#19d3f3",
           "#FF6692",
           "#B6E880",
           "#FF97FF",
           "#FECB52"
          ],
          "font": {
           "color": "#2a3f5f"
          },
          "geo": {
           "bgcolor": "white",
           "lakecolor": "white",
           "landcolor": "#E5ECF6",
           "showlakes": true,
           "showland": true,
           "subunitcolor": "white"
          },
          "hoverlabel": {
           "align": "left"
          },
          "hovermode": "closest",
          "mapbox": {
           "style": "light"
          },
          "paper_bgcolor": "white",
          "plot_bgcolor": "#E5ECF6",
          "polar": {
           "angularaxis": {
            "gridcolor": "white",
            "linecolor": "white",
            "ticks": ""
           },
           "bgcolor": "#E5ECF6",
           "radialaxis": {
            "gridcolor": "white",
            "linecolor": "white",
            "ticks": ""
           }
          },
          "scene": {
           "xaxis": {
            "backgroundcolor": "#E5ECF6",
            "gridcolor": "white",
            "gridwidth": 2,
            "linecolor": "white",
            "showbackground": true,
            "ticks": "",
            "zerolinecolor": "white"
           },
           "yaxis": {
            "backgroundcolor": "#E5ECF6",
            "gridcolor": "white",
            "gridwidth": 2,
            "linecolor": "white",
            "showbackground": true,
            "ticks": "",
            "zerolinecolor": "white"
           },
           "zaxis": {
            "backgroundcolor": "#E5ECF6",
            "gridcolor": "white",
            "gridwidth": 2,
            "linecolor": "white",
            "showbackground": true,
            "ticks": "",
            "zerolinecolor": "white"
           }
          },
          "shapedefaults": {
           "line": {
            "color": "#2a3f5f"
           }
          },
          "ternary": {
           "aaxis": {
            "gridcolor": "white",
            "linecolor": "white",
            "ticks": ""
           },
           "baxis": {
            "gridcolor": "white",
            "linecolor": "white",
            "ticks": ""
           },
           "bgcolor": "#E5ECF6",
           "caxis": {
            "gridcolor": "white",
            "linecolor": "white",
            "ticks": ""
           }
          },
          "title": {
           "x": 0.05
          },
          "xaxis": {
           "automargin": true,
           "gridcolor": "white",
           "linecolor": "white",
           "ticks": "",
           "title": {
            "standoff": 15
           },
           "zerolinecolor": "white",
           "zerolinewidth": 2
          },
          "yaxis": {
           "automargin": true,
           "gridcolor": "white",
           "linecolor": "white",
           "ticks": "",
           "title": {
            "standoff": 15
           },
           "zerolinecolor": "white",
           "zerolinewidth": 2
          }
         }
        },
        "title": {
         "font": {
          "color": "#4D5663"
         }
        },
        "xaxis": {
         "gridcolor": "#E1E5ED",
         "showgrid": true,
         "tickfont": {
          "color": "#4D5663"
         },
         "title": {
          "font": {
           "color": "#4D5663"
          },
          "text": ""
         },
         "zerolinecolor": "#E1E5ED"
        },
        "yaxis": {
         "gridcolor": "#E1E5ED",
         "showgrid": true,
         "tickfont": {
          "color": "#4D5663"
         },
         "title": {
          "font": {
           "color": "#4D5663"
          },
          "text": ""
         },
         "zerolinecolor": "#E1E5ED"
        }
       }
      },
      "text/html": [
       "<div>\n",
       "        \n",
       "        \n",
       "            <div id=\"826bb49f-770e-4e43-a28d-4d30b0abb009\" class=\"plotly-graph-div\" style=\"height:525px; width:100%;\"></div>\n",
       "            <script type=\"text/javascript\">\n",
       "                require([\"plotly\"], function(Plotly) {\n",
       "                    window.PLOTLYENV=window.PLOTLYENV || {};\n",
       "                    window.PLOTLYENV.BASE_URL='https://plot.ly';\n",
       "                    \n",
       "                if (document.getElementById(\"826bb49f-770e-4e43-a28d-4d30b0abb009\")) {\n",
       "                    Plotly.newPlot(\n",
       "                        '826bb49f-770e-4e43-a28d-4d30b0abb009',\n",
       "                        [{\"line\": {\"color\": \"rgba(255, 153, 51, 1.0)\", \"dash\": \"solid\", \"shape\": \"linear\", \"width\": 1.3}, \"mode\": \"lines\", \"name\": \"A\", \"text\": \"\", \"type\": \"scatter\", \"x\": [0, 1, 2, 3, 4, 5, 6, 7, 8, 9, 10, 11, 12, 13, 14, 15, 16, 17, 18, 19, 20, 21, 22, 23, 24, 25, 26, 27, 28, 29, 30, 31, 32, 33, 34, 35, 36, 37, 38, 39, 40, 41, 42, 43, 44, 45, 46, 47, 48, 49, 50, 51, 52, 53, 54, 55, 56, 57, 58, 59, 60, 61, 62, 63, 64, 65, 66, 67, 68, 69, 70, 71, 72, 73, 74, 75, 76, 77, 78, 79, 80, 81, 82, 83, 84, 85, 86, 87, 88, 89, 90, 91, 92, 93, 94, 95, 96, 97, 98, 99], \"y\": [-2.1595551128013284, -1.6173242898516864, 1.0674927611835447, 0.439513031659266, 0.36279596254513036, 0.600173062285224, -1.2305524839434807, 0.8746937230690675, 0.11640091615535893, 0.08329582563318474, -1.0447940555120276, 0.2866984367184956, -0.7804251491738313, 0.34032909152602303, 0.16765058868614027, -1.5296597160601109, 0.5795236318778799, 0.21113731116682144, -0.696442616619319, -0.9998392359486835, 1.329383270272273, 0.7517844673592072, -0.24031730901126605, 0.6818402629440957, -1.4653621224896143, 1.687649280894785, 0.9981040537249494, 0.15861966716117912, -0.36282322214130874, 0.27924717780783115, 0.28992046088081813, -1.3984726905908844, 1.893976585621253, -1.6141235585168021, -0.39393868993438785, 0.3437997112868393, -1.173543574871991, -0.8838390865195862, -0.9355575902731905, 0.27371354622528726, 0.05160437312171493, -1.8358448571424413, -0.8058211780388287, -0.732316251321196, -0.010386755237048722, -1.3849984076183435, 0.9447522796880747, 0.08667779165764636, -1.7715368550246202, -0.8928684210681702, -2.737754594551864, 0.7632387196780179, -1.858079865253876, 0.9382449457982923, 0.057605652159602484, 0.35001307742775006, 1.2975578859253716, -1.879629717348173, -0.7028013642022829, -1.276849241601867, -0.7084942780129913, 0.9603062395086082, -0.29122712851705307, -0.06626856152534549, -0.5890574344828009, -1.2176930694033774, -1.2688541908453956, 0.7875845472803842, 0.01718829550456086, 0.6754117368612261, 1.1835223881038262, 1.143348078480234, 0.3515601920504283, -1.364077246993153, -0.2072748954860949, -1.4434036675940296, 1.2610560302052172, -1.3207854109660424, -1.1331955431274854, 0.4928363352442773, 0.3381151543801492, 2.077740789386813, 0.6986883191752687, 0.036166062453457694, 0.37080693257464536, 0.058122135506190706, 0.34072378973502304, -0.9859503478488252, 0.6959107992382784, -0.3132716314885966, 1.1575066319665304, -0.640822700603181, 0.8590011585090338, 0.26590755576391517, -0.40565841874420194, -1.3114323899851146, -0.4092136632061438, -2.443718077463361, -0.40323372381243794, 1.7361820923496287]}, {\"line\": {\"color\": \"rgba(55, 128, 191, 1.0)\", \"dash\": \"solid\", \"shape\": \"linear\", \"width\": 1.3}, \"mode\": \"lines\", \"name\": \"B\", \"text\": \"\", \"type\": \"scatter\", \"x\": [0, 1, 2, 3, 4, 5, 6, 7, 8, 9, 10, 11, 12, 13, 14, 15, 16, 17, 18, 19, 20, 21, 22, 23, 24, 25, 26, 27, 28, 29, 30, 31, 32, 33, 34, 35, 36, 37, 38, 39, 40, 41, 42, 43, 44, 45, 46, 47, 48, 49, 50, 51, 52, 53, 54, 55, 56, 57, 58, 59, 60, 61, 62, 63, 64, 65, 66, 67, 68, 69, 70, 71, 72, 73, 74, 75, 76, 77, 78, 79, 80, 81, 82, 83, 84, 85, 86, 87, 88, 89, 90, 91, 92, 93, 94, 95, 96, 97, 98, 99], \"y\": [1.4592000208289093, 0.964198056386624, -0.3545365578357637, 0.4562156461352419, -0.35780829304500317, 0.2923062810269013, -0.573725181355843, 0.8714618853034701, 0.15748256435182453, -2.0153881582947273, -1.4423973823876555, -0.6957913732505749, 0.6586112495677865, 0.2861085912008684, 0.515959224580303, -1.230267203221121, 0.41276020132790575, -0.21690161797783022, 1.9087584210999025, 1.7869020876854367, 1.4943344086087573, -1.05350831067552, 0.1685870131827114, 1.2749765964185702, -1.9927034723818542, -0.25512766703461726, 2.224066184435049, 0.4531495369022115, 1.7766607769742329, -0.7040569863068262, -0.09339300027020869, -0.1481268546993301, 0.017934896786732348, 0.9245948440993917, -0.38335690164848596, 0.3156975877305662, -0.04130995125404242, -1.2969585562991228, 0.8876823442603106, 1.9467992753764507, -0.8694044880254235, 1.1149036226764923, 0.06303902996119262, -0.7546426748980145, -0.10093449120341683, 0.05872570955082937, 1.4030489733182951, 1.5523552011133506, -1.7107199735275513, 0.4806186140463261, 0.7321791060879436, -1.1651253386182734, -1.113986670108338, -1.434156433332877, 1.17533818820652, -0.4040667742334181, 0.7874647566080882, 0.3986027828133385, -0.1717075349366136, 1.6706827228728545, 1.1441107438259974, -0.009941051957703647, -1.2601083964921593, 0.41632531300085235, 0.9915573868922075, 1.5757344516704244, 0.6506313912351971, -1.2446155517601565, 0.9466919275591655, -0.14447844121663178, -0.3429560008658638, 0.726744767174271, -1.137023908469773, 0.4659120864493864, -0.8612420271527861, 0.42907710532127724, -2.2087974571652773, 0.11373515913039517, 1.4138131418823359, 1.1174159891542308, -1.8461061947181268, -0.8244927053386425, 1.382083515344372, 0.5301551005414858, -1.2799227684693713, -0.97907695137764, -0.3661777733039764, -1.3899535648824415, 0.09902669135632002, 1.4929791530505998, -0.025483633148594916, 1.134650174116771, 0.1252055257162927, -0.406592778474004, 0.2506500289936139, 2.12020624419413, 0.281816072656867, -0.475066104476711, -0.5882116783620391, 0.820717473818895]}, {\"line\": {\"color\": \"rgba(50, 171, 96, 1.0)\", \"dash\": \"solid\", \"shape\": \"linear\", \"width\": 1.3}, \"mode\": \"lines\", \"name\": \"C\", \"text\": \"\", \"type\": \"scatter\", \"x\": [0, 1, 2, 3, 4, 5, 6, 7, 8, 9, 10, 11, 12, 13, 14, 15, 16, 17, 18, 19, 20, 21, 22, 23, 24, 25, 26, 27, 28, 29, 30, 31, 32, 33, 34, 35, 36, 37, 38, 39, 40, 41, 42, 43, 44, 45, 46, 47, 48, 49, 50, 51, 52, 53, 54, 55, 56, 57, 58, 59, 60, 61, 62, 63, 64, 65, 66, 67, 68, 69, 70, 71, 72, 73, 74, 75, 76, 77, 78, 79, 80, 81, 82, 83, 84, 85, 86, 87, 88, 89, 90, 91, 92, 93, 94, 95, 96, 97, 98, 99], \"y\": [0.5794677191950642, 0.501730933890134, -1.4962018032936957, 1.1541445595189708, 0.6891778077042365, -0.31160390161792123, -0.03343271758929688, 0.5690022233838526, 0.16597279523743197, 1.1765828116207073, 1.4597870878070323, -1.8481255054723023, 0.13330338698040667, -0.37908423194793744, 0.8000420147504629, 1.8050033400646475, 0.6817899745637668, 1.1049559291351492, 1.1189254250395677, 0.9848892181359132, 1.113524136058006, -0.32215014750661963, -0.2615377353379887, 0.8516191639158683, -1.4288186244479841, -0.0992336682479304, 0.13761164275859242, 1.4935648199638034, 0.5992367713893278, -0.10136490116258687, -2.5495040640112605, -1.164465367858444, 0.08112461748759348, 0.43673052524547706, -0.3540586232330371, -0.26601001281407366, 3.116382105079835, -1.0082399713783279, 0.9258405971834435, 0.32299994992652165, 0.31345810753157605, -1.6907954908750393, -0.49869640763385903, -0.550312008156532, -0.642178028991801, 0.11561143241361704, 0.5371731993294667, 1.615975730616186, -0.2998580932090495, -0.996147086733614, 1.3145823344147758, 0.33926924189979185, 0.3607314115005695, -0.9225597508089038, -1.350377677608704, -0.5300051444841131, 0.22514117832963032, 0.43758779238141954, 0.8369023282649397, -0.9317211729498661, 0.9334577398325917, -0.47869544987191, -0.2741311952041577, 0.967762935295436, 0.48311725624558566, 1.1076784051256234, -1.8415703676590454, 0.8009476065118966, -0.2962390267871729, 0.27400436136898576, 0.9103310566336221, 0.34522548230632827, -1.0935723668050579, 0.10485349522484715, 0.1086775871631306, 1.0880303320245401, -1.012061987980604, -0.02109663276978071, -1.704949563316796, 0.028169944895947357, -1.0734196490483634, 0.4718297098388197, -0.008532919072018983, 0.9138921400915136, 0.9605374458946714, -0.4209490955570628, 0.9168606267063014, 0.2479189644628064, 0.290905939646268, -1.245022619751132, 0.9805534981284733, 0.25484587184535146, 0.06837460426071436, -1.2325605609141812, -0.6511241354293731, -0.9339517294261299, 0.4286605259543922, -1.4480549224830839, 0.6526429990937497, 0.399035375449021]}, {\"line\": {\"color\": \"rgba(128, 0, 128, 1.0)\", \"dash\": \"solid\", \"shape\": \"linear\", \"width\": 1.3}, \"mode\": \"lines\", \"name\": \"D\", \"text\": \"\", \"type\": \"scatter\", \"x\": [0, 1, 2, 3, 4, 5, 6, 7, 8, 9, 10, 11, 12, 13, 14, 15, 16, 17, 18, 19, 20, 21, 22, 23, 24, 25, 26, 27, 28, 29, 30, 31, 32, 33, 34, 35, 36, 37, 38, 39, 40, 41, 42, 43, 44, 45, 46, 47, 48, 49, 50, 51, 52, 53, 54, 55, 56, 57, 58, 59, 60, 61, 62, 63, 64, 65, 66, 67, 68, 69, 70, 71, 72, 73, 74, 75, 76, 77, 78, 79, 80, 81, 82, 83, 84, 85, 86, 87, 88, 89, 90, 91, 92, 93, 94, 95, 96, 97, 98, 99], \"y\": [-0.09854883291907926, -0.22291197202715327, -0.05603926952495826, -0.16044366970398954, 0.9934266499590423, -0.9434231704637164, -2.3628669888427156, 0.9614866320852399, -1.03743742328673, -0.02285967277143715, -0.3221357779899134, -0.10602840236428528, -0.6376909296609188, 0.7891907542277319, 1.1047870204630394, -0.6053854529280241, 0.17038111791732993, 0.49364527284788395, 0.22200679620427322, 0.3310369585799776, 1.4599222464370203, -0.43924208397441294, -0.20647399684547882, -1.0356083122740205, -0.3300536030422579, -0.78804073348034, 2.3173323073783085, -0.46471973214763534, -1.4300800670977507, -0.07567517564352919, 0.6524017353107875, 0.7043998780944764, 1.0031685132352863, 0.03820954899075879, -0.5856568861653925, -1.5415818603169196, 0.46249988776960027, 0.4123415938089824, -1.5044482817603138, 1.78103045711766, 0.094790348751115, 0.12462144680004582, 0.33157326931674935, -2.173232723364673, -1.3711736975717812, -0.12105965214112185, -0.1707193781422474, -1.2548941777362426, 1.6777075823000378, 0.4631910423817079, 1.0312839620026275, 1.1150544413777015, 0.32880637542368235, -1.2221075188191968, 1.3513742669080777, -0.7940422391938328, 1.5752637248786878, -0.3735541695100036, 1.9736243707533643, -1.879393106598821, 0.9475434500061293, 0.38049342970262595, 0.92529244285909, -0.31738997222860627, -1.1550980779247648, -2.790996308231615, -0.038823415261053686, -1.770596331605831, -1.3901563264920571, -0.06944339938706642, -0.07338252850507204, 1.2155722622665548, -1.183222756535476, -0.07581025404718007, -0.24719609359034153, -1.4102482776887537, -0.6307036443920538, 0.13508691970311446, 0.0720295216429219, 0.16083003123127926, -0.11435468800843425, -1.5885637420959238, 0.04309459940423492, 1.2000173377538228, 0.1976740200389952, -0.10814313316407707, 0.5175464437127201, 0.6028464203151045, 2.852092228048044, 0.39759955635671906, 0.06035410776437869, 0.017370209948719465, 0.378174312868864, -1.5250611360546271, 0.3756302724436199, 1.6448917322553387, 1.5515661824805973, 0.1621319498240945, 1.7993966671496153, 0.582172543791085]}],\n",
       "                        {\"legend\": {\"bgcolor\": \"#F5F6F9\", \"font\": {\"color\": \"#4D5663\"}}, \"paper_bgcolor\": \"#F5F6F9\", \"plot_bgcolor\": \"#F5F6F9\", \"template\": {\"data\": {\"bar\": [{\"error_x\": {\"color\": \"#2a3f5f\"}, \"error_y\": {\"color\": \"#2a3f5f\"}, \"marker\": {\"line\": {\"color\": \"#E5ECF6\", \"width\": 0.5}}, \"type\": \"bar\"}], \"barpolar\": [{\"marker\": {\"line\": {\"color\": \"#E5ECF6\", \"width\": 0.5}}, \"type\": \"barpolar\"}], \"carpet\": [{\"aaxis\": {\"endlinecolor\": \"#2a3f5f\", \"gridcolor\": \"white\", \"linecolor\": \"white\", \"minorgridcolor\": \"white\", \"startlinecolor\": \"#2a3f5f\"}, \"baxis\": {\"endlinecolor\": \"#2a3f5f\", \"gridcolor\": \"white\", \"linecolor\": \"white\", \"minorgridcolor\": \"white\", \"startlinecolor\": \"#2a3f5f\"}, \"type\": \"carpet\"}], \"choropleth\": [{\"colorbar\": {\"outlinewidth\": 0, \"ticks\": \"\"}, \"type\": \"choropleth\"}], \"contour\": [{\"colorbar\": {\"outlinewidth\": 0, \"ticks\": \"\"}, \"colorscale\": [[0.0, \"#0d0887\"], [0.1111111111111111, \"#46039f\"], [0.2222222222222222, \"#7201a8\"], [0.3333333333333333, \"#9c179e\"], [0.4444444444444444, \"#bd3786\"], [0.5555555555555556, \"#d8576b\"], [0.6666666666666666, \"#ed7953\"], [0.7777777777777778, \"#fb9f3a\"], [0.8888888888888888, \"#fdca26\"], [1.0, \"#f0f921\"]], \"type\": \"contour\"}], \"contourcarpet\": [{\"colorbar\": {\"outlinewidth\": 0, \"ticks\": \"\"}, \"type\": \"contourcarpet\"}], \"heatmap\": [{\"colorbar\": {\"outlinewidth\": 0, \"ticks\": \"\"}, \"colorscale\": [[0.0, \"#0d0887\"], [0.1111111111111111, \"#46039f\"], [0.2222222222222222, \"#7201a8\"], [0.3333333333333333, \"#9c179e\"], [0.4444444444444444, \"#bd3786\"], [0.5555555555555556, \"#d8576b\"], [0.6666666666666666, \"#ed7953\"], [0.7777777777777778, \"#fb9f3a\"], [0.8888888888888888, \"#fdca26\"], [1.0, \"#f0f921\"]], \"type\": \"heatmap\"}], \"heatmapgl\": [{\"colorbar\": {\"outlinewidth\": 0, \"ticks\": \"\"}, \"colorscale\": [[0.0, \"#0d0887\"], [0.1111111111111111, \"#46039f\"], [0.2222222222222222, \"#7201a8\"], [0.3333333333333333, \"#9c179e\"], [0.4444444444444444, \"#bd3786\"], [0.5555555555555556, \"#d8576b\"], [0.6666666666666666, \"#ed7953\"], [0.7777777777777778, \"#fb9f3a\"], [0.8888888888888888, \"#fdca26\"], [1.0, \"#f0f921\"]], \"type\": \"heatmapgl\"}], \"histogram\": [{\"marker\": {\"colorbar\": {\"outlinewidth\": 0, \"ticks\": \"\"}}, \"type\": \"histogram\"}], \"histogram2d\": [{\"colorbar\": {\"outlinewidth\": 0, \"ticks\": \"\"}, \"colorscale\": [[0.0, \"#0d0887\"], [0.1111111111111111, \"#46039f\"], [0.2222222222222222, \"#7201a8\"], [0.3333333333333333, \"#9c179e\"], [0.4444444444444444, \"#bd3786\"], [0.5555555555555556, \"#d8576b\"], [0.6666666666666666, \"#ed7953\"], [0.7777777777777778, \"#fb9f3a\"], [0.8888888888888888, \"#fdca26\"], [1.0, \"#f0f921\"]], \"type\": \"histogram2d\"}], \"histogram2dcontour\": [{\"colorbar\": {\"outlinewidth\": 0, \"ticks\": \"\"}, \"colorscale\": [[0.0, \"#0d0887\"], [0.1111111111111111, \"#46039f\"], [0.2222222222222222, \"#7201a8\"], [0.3333333333333333, \"#9c179e\"], [0.4444444444444444, \"#bd3786\"], [0.5555555555555556, \"#d8576b\"], [0.6666666666666666, \"#ed7953\"], [0.7777777777777778, \"#fb9f3a\"], [0.8888888888888888, \"#fdca26\"], [1.0, \"#f0f921\"]], \"type\": \"histogram2dcontour\"}], \"mesh3d\": [{\"colorbar\": {\"outlinewidth\": 0, \"ticks\": \"\"}, \"type\": \"mesh3d\"}], \"parcoords\": [{\"line\": {\"colorbar\": {\"outlinewidth\": 0, \"ticks\": \"\"}}, \"type\": \"parcoords\"}], \"pie\": [{\"automargin\": true, \"type\": \"pie\"}], \"scatter\": [{\"marker\": {\"colorbar\": {\"outlinewidth\": 0, \"ticks\": \"\"}}, \"type\": \"scatter\"}], \"scatter3d\": [{\"line\": {\"colorbar\": {\"outlinewidth\": 0, \"ticks\": \"\"}}, \"marker\": {\"colorbar\": {\"outlinewidth\": 0, \"ticks\": \"\"}}, \"type\": \"scatter3d\"}], \"scattercarpet\": [{\"marker\": {\"colorbar\": {\"outlinewidth\": 0, \"ticks\": \"\"}}, \"type\": \"scattercarpet\"}], \"scattergeo\": [{\"marker\": {\"colorbar\": {\"outlinewidth\": 0, \"ticks\": \"\"}}, \"type\": \"scattergeo\"}], \"scattergl\": [{\"marker\": {\"colorbar\": {\"outlinewidth\": 0, \"ticks\": \"\"}}, \"type\": \"scattergl\"}], \"scattermapbox\": [{\"marker\": {\"colorbar\": {\"outlinewidth\": 0, \"ticks\": \"\"}}, \"type\": \"scattermapbox\"}], \"scatterpolar\": [{\"marker\": {\"colorbar\": {\"outlinewidth\": 0, \"ticks\": \"\"}}, \"type\": \"scatterpolar\"}], \"scatterpolargl\": [{\"marker\": {\"colorbar\": {\"outlinewidth\": 0, \"ticks\": \"\"}}, \"type\": \"scatterpolargl\"}], \"scatterternary\": [{\"marker\": {\"colorbar\": {\"outlinewidth\": 0, \"ticks\": \"\"}}, \"type\": \"scatterternary\"}], \"surface\": [{\"colorbar\": {\"outlinewidth\": 0, \"ticks\": \"\"}, \"colorscale\": [[0.0, \"#0d0887\"], [0.1111111111111111, \"#46039f\"], [0.2222222222222222, \"#7201a8\"], [0.3333333333333333, \"#9c179e\"], [0.4444444444444444, \"#bd3786\"], [0.5555555555555556, \"#d8576b\"], [0.6666666666666666, \"#ed7953\"], [0.7777777777777778, \"#fb9f3a\"], [0.8888888888888888, \"#fdca26\"], [1.0, \"#f0f921\"]], \"type\": \"surface\"}], \"table\": [{\"cells\": {\"fill\": {\"color\": \"#EBF0F8\"}, \"line\": {\"color\": \"white\"}}, \"header\": {\"fill\": {\"color\": \"#C8D4E3\"}, \"line\": {\"color\": \"white\"}}, \"type\": \"table\"}]}, \"layout\": {\"annotationdefaults\": {\"arrowcolor\": \"#2a3f5f\", \"arrowhead\": 0, \"arrowwidth\": 1}, \"coloraxis\": {\"colorbar\": {\"outlinewidth\": 0, \"ticks\": \"\"}}, \"colorscale\": {\"diverging\": [[0, \"#8e0152\"], [0.1, \"#c51b7d\"], [0.2, \"#de77ae\"], [0.3, \"#f1b6da\"], [0.4, \"#fde0ef\"], [0.5, \"#f7f7f7\"], [0.6, \"#e6f5d0\"], [0.7, \"#b8e186\"], [0.8, \"#7fbc41\"], [0.9, \"#4d9221\"], [1, \"#276419\"]], \"sequential\": [[0.0, \"#0d0887\"], [0.1111111111111111, \"#46039f\"], [0.2222222222222222, \"#7201a8\"], [0.3333333333333333, \"#9c179e\"], [0.4444444444444444, \"#bd3786\"], [0.5555555555555556, \"#d8576b\"], [0.6666666666666666, \"#ed7953\"], [0.7777777777777778, \"#fb9f3a\"], [0.8888888888888888, \"#fdca26\"], [1.0, \"#f0f921\"]], \"sequentialminus\": [[0.0, \"#0d0887\"], [0.1111111111111111, \"#46039f\"], [0.2222222222222222, \"#7201a8\"], [0.3333333333333333, \"#9c179e\"], [0.4444444444444444, \"#bd3786\"], [0.5555555555555556, \"#d8576b\"], [0.6666666666666666, \"#ed7953\"], [0.7777777777777778, \"#fb9f3a\"], [0.8888888888888888, \"#fdca26\"], [1.0, \"#f0f921\"]]}, \"colorway\": [\"#636efa\", \"#EF553B\", \"#00cc96\", \"#ab63fa\", \"#FFA15A\", \"#19d3f3\", \"#FF6692\", \"#B6E880\", \"#FF97FF\", \"#FECB52\"], \"font\": {\"color\": \"#2a3f5f\"}, \"geo\": {\"bgcolor\": \"white\", \"lakecolor\": \"white\", \"landcolor\": \"#E5ECF6\", \"showlakes\": true, \"showland\": true, \"subunitcolor\": \"white\"}, \"hoverlabel\": {\"align\": \"left\"}, \"hovermode\": \"closest\", \"mapbox\": {\"style\": \"light\"}, \"paper_bgcolor\": \"white\", \"plot_bgcolor\": \"#E5ECF6\", \"polar\": {\"angularaxis\": {\"gridcolor\": \"white\", \"linecolor\": \"white\", \"ticks\": \"\"}, \"bgcolor\": \"#E5ECF6\", \"radialaxis\": {\"gridcolor\": \"white\", \"linecolor\": \"white\", \"ticks\": \"\"}}, \"scene\": {\"xaxis\": {\"backgroundcolor\": \"#E5ECF6\", \"gridcolor\": \"white\", \"gridwidth\": 2, \"linecolor\": \"white\", \"showbackground\": true, \"ticks\": \"\", \"zerolinecolor\": \"white\"}, \"yaxis\": {\"backgroundcolor\": \"#E5ECF6\", \"gridcolor\": \"white\", \"gridwidth\": 2, \"linecolor\": \"white\", \"showbackground\": true, \"ticks\": \"\", \"zerolinecolor\": \"white\"}, \"zaxis\": {\"backgroundcolor\": \"#E5ECF6\", \"gridcolor\": \"white\", \"gridwidth\": 2, \"linecolor\": \"white\", \"showbackground\": true, \"ticks\": \"\", \"zerolinecolor\": \"white\"}}, \"shapedefaults\": {\"line\": {\"color\": \"#2a3f5f\"}}, \"ternary\": {\"aaxis\": {\"gridcolor\": \"white\", \"linecolor\": \"white\", \"ticks\": \"\"}, \"baxis\": {\"gridcolor\": \"white\", \"linecolor\": \"white\", \"ticks\": \"\"}, \"bgcolor\": \"#E5ECF6\", \"caxis\": {\"gridcolor\": \"white\", \"linecolor\": \"white\", \"ticks\": \"\"}}, \"title\": {\"x\": 0.05}, \"xaxis\": {\"automargin\": true, \"gridcolor\": \"white\", \"linecolor\": \"white\", \"ticks\": \"\", \"title\": {\"standoff\": 15}, \"zerolinecolor\": \"white\", \"zerolinewidth\": 2}, \"yaxis\": {\"automargin\": true, \"gridcolor\": \"white\", \"linecolor\": \"white\", \"ticks\": \"\", \"title\": {\"standoff\": 15}, \"zerolinecolor\": \"white\", \"zerolinewidth\": 2}}}, \"title\": {\"font\": {\"color\": \"#4D5663\"}}, \"xaxis\": {\"gridcolor\": \"#E1E5ED\", \"showgrid\": true, \"tickfont\": {\"color\": \"#4D5663\"}, \"title\": {\"font\": {\"color\": \"#4D5663\"}, \"text\": \"\"}, \"zerolinecolor\": \"#E1E5ED\"}, \"yaxis\": {\"gridcolor\": \"#E1E5ED\", \"showgrid\": true, \"tickfont\": {\"color\": \"#4D5663\"}, \"title\": {\"font\": {\"color\": \"#4D5663\"}, \"text\": \"\"}, \"zerolinecolor\": \"#E1E5ED\"}},\n",
       "                        {\"showLink\": true, \"linkText\": \"Export to plot.ly\", \"plotlyServerURL\": \"https://plot.ly\", \"responsive\": true}\n",
       "                    ).then(function(){\n",
       "                            \n",
       "var gd = document.getElementById('826bb49f-770e-4e43-a28d-4d30b0abb009');\n",
       "var x = new MutationObserver(function (mutations, observer) {{\n",
       "        var display = window.getComputedStyle(gd).display;\n",
       "        if (!display || display === 'none') {{\n",
       "            console.log([gd, 'removed!']);\n",
       "            Plotly.purge(gd);\n",
       "            observer.disconnect();\n",
       "        }}\n",
       "}});\n",
       "\n",
       "// Listen for the removal of the full notebook cells\n",
       "var notebookContainer = gd.closest('#notebook-container');\n",
       "if (notebookContainer) {{\n",
       "    x.observe(notebookContainer, {childList: true});\n",
       "}}\n",
       "\n",
       "// Listen for the clearing of the current output cell\n",
       "var outputEl = gd.closest('.output');\n",
       "if (outputEl) {{\n",
       "    x.observe(outputEl, {childList: true});\n",
       "}}\n",
       "\n",
       "                        })\n",
       "                };\n",
       "                });\n",
       "            </script>\n",
       "        </div>"
      ]
     },
     "metadata": {},
     "output_type": "display_data"
    }
   ],
   "source": [
    "#pands using iplot\n",
    "\n",
    "df.iplot()"
   ]
  },
  {
   "cell_type": "code",
   "execution_count": 28,
   "metadata": {},
   "outputs": [
    {
     "ename": "SyntaxError",
     "evalue": "invalid syntax (<ipython-input-28-534217bd20c7>, line 1)",
     "output_type": "error",
     "traceback": [
      "\u001b[1;36m  File \u001b[1;32m\"<ipython-input-28-534217bd20c7>\"\u001b[1;36m, line \u001b[1;32m1\u001b[0m\n\u001b[1;33m    jupyter labextension install jupyterlab-plotly@4.8.2\u001b[0m\n\u001b[1;37m                       ^\u001b[0m\n\u001b[1;31mSyntaxError\u001b[0m\u001b[1;31m:\u001b[0m invalid syntax\n"
     ]
    }
   ],
   "source": [
    "jupyter labextension install jupyterlab-plotly@4.8.2"
   ]
  },
  {
   "cell_type": "code",
   "execution_count": 26,
   "metadata": {
    "scrolled": true
   },
   "outputs": [
    {
     "data": {
      "application/vnd.plotly.v1+json": {
       "config": {
        "plotlyServerURL": "https://plot.ly"
       },
       "data": [
        {
         "type": "bar",
         "y": [
          2,
          3,
          1
         ]
        }
       ],
       "layout": {
        "template": {
         "data": {
          "bar": [
           {
            "error_x": {
             "color": "#2a3f5f"
            },
            "error_y": {
             "color": "#2a3f5f"
            },
            "marker": {
             "line": {
              "color": "#E5ECF6",
              "width": 0.5
             }
            },
            "type": "bar"
           }
          ],
          "barpolar": [
           {
            "marker": {
             "line": {
              "color": "#E5ECF6",
              "width": 0.5
             }
            },
            "type": "barpolar"
           }
          ],
          "carpet": [
           {
            "aaxis": {
             "endlinecolor": "#2a3f5f",
             "gridcolor": "white",
             "linecolor": "white",
             "minorgridcolor": "white",
             "startlinecolor": "#2a3f5f"
            },
            "baxis": {
             "endlinecolor": "#2a3f5f",
             "gridcolor": "white",
             "linecolor": "white",
             "minorgridcolor": "white",
             "startlinecolor": "#2a3f5f"
            },
            "type": "carpet"
           }
          ],
          "choropleth": [
           {
            "colorbar": {
             "outlinewidth": 0,
             "ticks": ""
            },
            "type": "choropleth"
           }
          ],
          "contour": [
           {
            "colorbar": {
             "outlinewidth": 0,
             "ticks": ""
            },
            "colorscale": [
             [
              0,
              "#0d0887"
             ],
             [
              0.1111111111111111,
              "#46039f"
             ],
             [
              0.2222222222222222,
              "#7201a8"
             ],
             [
              0.3333333333333333,
              "#9c179e"
             ],
             [
              0.4444444444444444,
              "#bd3786"
             ],
             [
              0.5555555555555556,
              "#d8576b"
             ],
             [
              0.6666666666666666,
              "#ed7953"
             ],
             [
              0.7777777777777778,
              "#fb9f3a"
             ],
             [
              0.8888888888888888,
              "#fdca26"
             ],
             [
              1,
              "#f0f921"
             ]
            ],
            "type": "contour"
           }
          ],
          "contourcarpet": [
           {
            "colorbar": {
             "outlinewidth": 0,
             "ticks": ""
            },
            "type": "contourcarpet"
           }
          ],
          "heatmap": [
           {
            "colorbar": {
             "outlinewidth": 0,
             "ticks": ""
            },
            "colorscale": [
             [
              0,
              "#0d0887"
             ],
             [
              0.1111111111111111,
              "#46039f"
             ],
             [
              0.2222222222222222,
              "#7201a8"
             ],
             [
              0.3333333333333333,
              "#9c179e"
             ],
             [
              0.4444444444444444,
              "#bd3786"
             ],
             [
              0.5555555555555556,
              "#d8576b"
             ],
             [
              0.6666666666666666,
              "#ed7953"
             ],
             [
              0.7777777777777778,
              "#fb9f3a"
             ],
             [
              0.8888888888888888,
              "#fdca26"
             ],
             [
              1,
              "#f0f921"
             ]
            ],
            "type": "heatmap"
           }
          ],
          "heatmapgl": [
           {
            "colorbar": {
             "outlinewidth": 0,
             "ticks": ""
            },
            "colorscale": [
             [
              0,
              "#0d0887"
             ],
             [
              0.1111111111111111,
              "#46039f"
             ],
             [
              0.2222222222222222,
              "#7201a8"
             ],
             [
              0.3333333333333333,
              "#9c179e"
             ],
             [
              0.4444444444444444,
              "#bd3786"
             ],
             [
              0.5555555555555556,
              "#d8576b"
             ],
             [
              0.6666666666666666,
              "#ed7953"
             ],
             [
              0.7777777777777778,
              "#fb9f3a"
             ],
             [
              0.8888888888888888,
              "#fdca26"
             ],
             [
              1,
              "#f0f921"
             ]
            ],
            "type": "heatmapgl"
           }
          ],
          "histogram": [
           {
            "marker": {
             "colorbar": {
              "outlinewidth": 0,
              "ticks": ""
             }
            },
            "type": "histogram"
           }
          ],
          "histogram2d": [
           {
            "colorbar": {
             "outlinewidth": 0,
             "ticks": ""
            },
            "colorscale": [
             [
              0,
              "#0d0887"
             ],
             [
              0.1111111111111111,
              "#46039f"
             ],
             [
              0.2222222222222222,
              "#7201a8"
             ],
             [
              0.3333333333333333,
              "#9c179e"
             ],
             [
              0.4444444444444444,
              "#bd3786"
             ],
             [
              0.5555555555555556,
              "#d8576b"
             ],
             [
              0.6666666666666666,
              "#ed7953"
             ],
             [
              0.7777777777777778,
              "#fb9f3a"
             ],
             [
              0.8888888888888888,
              "#fdca26"
             ],
             [
              1,
              "#f0f921"
             ]
            ],
            "type": "histogram2d"
           }
          ],
          "histogram2dcontour": [
           {
            "colorbar": {
             "outlinewidth": 0,
             "ticks": ""
            },
            "colorscale": [
             [
              0,
              "#0d0887"
             ],
             [
              0.1111111111111111,
              "#46039f"
             ],
             [
              0.2222222222222222,
              "#7201a8"
             ],
             [
              0.3333333333333333,
              "#9c179e"
             ],
             [
              0.4444444444444444,
              "#bd3786"
             ],
             [
              0.5555555555555556,
              "#d8576b"
             ],
             [
              0.6666666666666666,
              "#ed7953"
             ],
             [
              0.7777777777777778,
              "#fb9f3a"
             ],
             [
              0.8888888888888888,
              "#fdca26"
             ],
             [
              1,
              "#f0f921"
             ]
            ],
            "type": "histogram2dcontour"
           }
          ],
          "mesh3d": [
           {
            "colorbar": {
             "outlinewidth": 0,
             "ticks": ""
            },
            "type": "mesh3d"
           }
          ],
          "parcoords": [
           {
            "line": {
             "colorbar": {
              "outlinewidth": 0,
              "ticks": ""
             }
            },
            "type": "parcoords"
           }
          ],
          "pie": [
           {
            "automargin": true,
            "type": "pie"
           }
          ],
          "scatter": [
           {
            "marker": {
             "colorbar": {
              "outlinewidth": 0,
              "ticks": ""
             }
            },
            "type": "scatter"
           }
          ],
          "scatter3d": [
           {
            "line": {
             "colorbar": {
              "outlinewidth": 0,
              "ticks": ""
             }
            },
            "marker": {
             "colorbar": {
              "outlinewidth": 0,
              "ticks": ""
             }
            },
            "type": "scatter3d"
           }
          ],
          "scattercarpet": [
           {
            "marker": {
             "colorbar": {
              "outlinewidth": 0,
              "ticks": ""
             }
            },
            "type": "scattercarpet"
           }
          ],
          "scattergeo": [
           {
            "marker": {
             "colorbar": {
              "outlinewidth": 0,
              "ticks": ""
             }
            },
            "type": "scattergeo"
           }
          ],
          "scattergl": [
           {
            "marker": {
             "colorbar": {
              "outlinewidth": 0,
              "ticks": ""
             }
            },
            "type": "scattergl"
           }
          ],
          "scattermapbox": [
           {
            "marker": {
             "colorbar": {
              "outlinewidth": 0,
              "ticks": ""
             }
            },
            "type": "scattermapbox"
           }
          ],
          "scatterpolar": [
           {
            "marker": {
             "colorbar": {
              "outlinewidth": 0,
              "ticks": ""
             }
            },
            "type": "scatterpolar"
           }
          ],
          "scatterpolargl": [
           {
            "marker": {
             "colorbar": {
              "outlinewidth": 0,
              "ticks": ""
             }
            },
            "type": "scatterpolargl"
           }
          ],
          "scatterternary": [
           {
            "marker": {
             "colorbar": {
              "outlinewidth": 0,
              "ticks": ""
             }
            },
            "type": "scatterternary"
           }
          ],
          "surface": [
           {
            "colorbar": {
             "outlinewidth": 0,
             "ticks": ""
            },
            "colorscale": [
             [
              0,
              "#0d0887"
             ],
             [
              0.1111111111111111,
              "#46039f"
             ],
             [
              0.2222222222222222,
              "#7201a8"
             ],
             [
              0.3333333333333333,
              "#9c179e"
             ],
             [
              0.4444444444444444,
              "#bd3786"
             ],
             [
              0.5555555555555556,
              "#d8576b"
             ],
             [
              0.6666666666666666,
              "#ed7953"
             ],
             [
              0.7777777777777778,
              "#fb9f3a"
             ],
             [
              0.8888888888888888,
              "#fdca26"
             ],
             [
              1,
              "#f0f921"
             ]
            ],
            "type": "surface"
           }
          ],
          "table": [
           {
            "cells": {
             "fill": {
              "color": "#EBF0F8"
             },
             "line": {
              "color": "white"
             }
            },
            "header": {
             "fill": {
              "color": "#C8D4E3"
             },
             "line": {
              "color": "white"
             }
            },
            "type": "table"
           }
          ]
         },
         "layout": {
          "annotationdefaults": {
           "arrowcolor": "#2a3f5f",
           "arrowhead": 0,
           "arrowwidth": 1
          },
          "coloraxis": {
           "colorbar": {
            "outlinewidth": 0,
            "ticks": ""
           }
          },
          "colorscale": {
           "diverging": [
            [
             0,
             "#8e0152"
            ],
            [
             0.1,
             "#c51b7d"
            ],
            [
             0.2,
             "#de77ae"
            ],
            [
             0.3,
             "#f1b6da"
            ],
            [
             0.4,
             "#fde0ef"
            ],
            [
             0.5,
             "#f7f7f7"
            ],
            [
             0.6,
             "#e6f5d0"
            ],
            [
             0.7,
             "#b8e186"
            ],
            [
             0.8,
             "#7fbc41"
            ],
            [
             0.9,
             "#4d9221"
            ],
            [
             1,
             "#276419"
            ]
           ],
           "sequential": [
            [
             0,
             "#0d0887"
            ],
            [
             0.1111111111111111,
             "#46039f"
            ],
            [
             0.2222222222222222,
             "#7201a8"
            ],
            [
             0.3333333333333333,
             "#9c179e"
            ],
            [
             0.4444444444444444,
             "#bd3786"
            ],
            [
             0.5555555555555556,
             "#d8576b"
            ],
            [
             0.6666666666666666,
             "#ed7953"
            ],
            [
             0.7777777777777778,
             "#fb9f3a"
            ],
            [
             0.8888888888888888,
             "#fdca26"
            ],
            [
             1,
             "#f0f921"
            ]
           ],
           "sequentialminus": [
            [
             0,
             "#0d0887"
            ],
            [
             0.1111111111111111,
             "#46039f"
            ],
            [
             0.2222222222222222,
             "#7201a8"
            ],
            [
             0.3333333333333333,
             "#9c179e"
            ],
            [
             0.4444444444444444,
             "#bd3786"
            ],
            [
             0.5555555555555556,
             "#d8576b"
            ],
            [
             0.6666666666666666,
             "#ed7953"
            ],
            [
             0.7777777777777778,
             "#fb9f3a"
            ],
            [
             0.8888888888888888,
             "#fdca26"
            ],
            [
             1,
             "#f0f921"
            ]
           ]
          },
          "colorway": [
           "#636efa",
           "#EF553B",
           "#00cc96",
           "#ab63fa",
           "#FFA15A",
           "#19d3f3",
           "#FF6692",
           "#B6E880",
           "#FF97FF",
           "#FECB52"
          ],
          "font": {
           "color": "#2a3f5f"
          },
          "geo": {
           "bgcolor": "white",
           "lakecolor": "white",
           "landcolor": "#E5ECF6",
           "showlakes": true,
           "showland": true,
           "subunitcolor": "white"
          },
          "hoverlabel": {
           "align": "left"
          },
          "hovermode": "closest",
          "mapbox": {
           "style": "light"
          },
          "paper_bgcolor": "white",
          "plot_bgcolor": "#E5ECF6",
          "polar": {
           "angularaxis": {
            "gridcolor": "white",
            "linecolor": "white",
            "ticks": ""
           },
           "bgcolor": "#E5ECF6",
           "radialaxis": {
            "gridcolor": "white",
            "linecolor": "white",
            "ticks": ""
           }
          },
          "scene": {
           "xaxis": {
            "backgroundcolor": "#E5ECF6",
            "gridcolor": "white",
            "gridwidth": 2,
            "linecolor": "white",
            "showbackground": true,
            "ticks": "",
            "zerolinecolor": "white"
           },
           "yaxis": {
            "backgroundcolor": "#E5ECF6",
            "gridcolor": "white",
            "gridwidth": 2,
            "linecolor": "white",
            "showbackground": true,
            "ticks": "",
            "zerolinecolor": "white"
           },
           "zaxis": {
            "backgroundcolor": "#E5ECF6",
            "gridcolor": "white",
            "gridwidth": 2,
            "linecolor": "white",
            "showbackground": true,
            "ticks": "",
            "zerolinecolor": "white"
           }
          },
          "shapedefaults": {
           "line": {
            "color": "#2a3f5f"
           }
          },
          "ternary": {
           "aaxis": {
            "gridcolor": "white",
            "linecolor": "white",
            "ticks": ""
           },
           "baxis": {
            "gridcolor": "white",
            "linecolor": "white",
            "ticks": ""
           },
           "bgcolor": "#E5ECF6",
           "caxis": {
            "gridcolor": "white",
            "linecolor": "white",
            "ticks": ""
           }
          },
          "title": {
           "x": 0.05
          },
          "xaxis": {
           "automargin": true,
           "gridcolor": "white",
           "linecolor": "white",
           "ticks": "",
           "title": {
            "standoff": 15
           },
           "zerolinecolor": "white",
           "zerolinewidth": 2
          },
          "yaxis": {
           "automargin": true,
           "gridcolor": "white",
           "linecolor": "white",
           "ticks": "",
           "title": {
            "standoff": 15
           },
           "zerolinecolor": "white",
           "zerolinewidth": 2
          }
         }
        }
       }
      },
      "text/html": [
       "<div>\n",
       "        \n",
       "        \n",
       "            <div id=\"79901ad8-8d25-4829-9f64-98f42feec5eb\" class=\"plotly-graph-div\" style=\"height:525px; width:100%;\"></div>\n",
       "            <script type=\"text/javascript\">\n",
       "                require([\"plotly\"], function(Plotly) {\n",
       "                    window.PLOTLYENV=window.PLOTLYENV || {};\n",
       "                    \n",
       "                if (document.getElementById(\"79901ad8-8d25-4829-9f64-98f42feec5eb\")) {\n",
       "                    Plotly.newPlot(\n",
       "                        '79901ad8-8d25-4829-9f64-98f42feec5eb',\n",
       "                        [{\"type\": \"bar\", \"y\": [2, 3, 1]}],\n",
       "                        {\"template\": {\"data\": {\"bar\": [{\"error_x\": {\"color\": \"#2a3f5f\"}, \"error_y\": {\"color\": \"#2a3f5f\"}, \"marker\": {\"line\": {\"color\": \"#E5ECF6\", \"width\": 0.5}}, \"type\": \"bar\"}], \"barpolar\": [{\"marker\": {\"line\": {\"color\": \"#E5ECF6\", \"width\": 0.5}}, \"type\": \"barpolar\"}], \"carpet\": [{\"aaxis\": {\"endlinecolor\": \"#2a3f5f\", \"gridcolor\": \"white\", \"linecolor\": \"white\", \"minorgridcolor\": \"white\", \"startlinecolor\": \"#2a3f5f\"}, \"baxis\": {\"endlinecolor\": \"#2a3f5f\", \"gridcolor\": \"white\", \"linecolor\": \"white\", \"minorgridcolor\": \"white\", \"startlinecolor\": \"#2a3f5f\"}, \"type\": \"carpet\"}], \"choropleth\": [{\"colorbar\": {\"outlinewidth\": 0, \"ticks\": \"\"}, \"type\": \"choropleth\"}], \"contour\": [{\"colorbar\": {\"outlinewidth\": 0, \"ticks\": \"\"}, \"colorscale\": [[0.0, \"#0d0887\"], [0.1111111111111111, \"#46039f\"], [0.2222222222222222, \"#7201a8\"], [0.3333333333333333, \"#9c179e\"], [0.4444444444444444, \"#bd3786\"], [0.5555555555555556, \"#d8576b\"], [0.6666666666666666, \"#ed7953\"], [0.7777777777777778, \"#fb9f3a\"], [0.8888888888888888, \"#fdca26\"], [1.0, \"#f0f921\"]], \"type\": \"contour\"}], \"contourcarpet\": [{\"colorbar\": {\"outlinewidth\": 0, \"ticks\": \"\"}, \"type\": \"contourcarpet\"}], \"heatmap\": [{\"colorbar\": {\"outlinewidth\": 0, \"ticks\": \"\"}, \"colorscale\": [[0.0, \"#0d0887\"], [0.1111111111111111, \"#46039f\"], [0.2222222222222222, \"#7201a8\"], [0.3333333333333333, \"#9c179e\"], [0.4444444444444444, \"#bd3786\"], [0.5555555555555556, \"#d8576b\"], [0.6666666666666666, \"#ed7953\"], [0.7777777777777778, \"#fb9f3a\"], [0.8888888888888888, \"#fdca26\"], [1.0, \"#f0f921\"]], \"type\": \"heatmap\"}], \"heatmapgl\": [{\"colorbar\": {\"outlinewidth\": 0, \"ticks\": \"\"}, \"colorscale\": [[0.0, \"#0d0887\"], [0.1111111111111111, \"#46039f\"], [0.2222222222222222, \"#7201a8\"], [0.3333333333333333, \"#9c179e\"], [0.4444444444444444, \"#bd3786\"], [0.5555555555555556, \"#d8576b\"], [0.6666666666666666, \"#ed7953\"], [0.7777777777777778, \"#fb9f3a\"], [0.8888888888888888, \"#fdca26\"], [1.0, \"#f0f921\"]], \"type\": \"heatmapgl\"}], \"histogram\": [{\"marker\": {\"colorbar\": {\"outlinewidth\": 0, \"ticks\": \"\"}}, \"type\": \"histogram\"}], \"histogram2d\": [{\"colorbar\": {\"outlinewidth\": 0, \"ticks\": \"\"}, \"colorscale\": [[0.0, \"#0d0887\"], [0.1111111111111111, \"#46039f\"], [0.2222222222222222, \"#7201a8\"], [0.3333333333333333, \"#9c179e\"], [0.4444444444444444, \"#bd3786\"], [0.5555555555555556, \"#d8576b\"], [0.6666666666666666, \"#ed7953\"], [0.7777777777777778, \"#fb9f3a\"], [0.8888888888888888, \"#fdca26\"], [1.0, \"#f0f921\"]], \"type\": \"histogram2d\"}], \"histogram2dcontour\": [{\"colorbar\": {\"outlinewidth\": 0, \"ticks\": \"\"}, \"colorscale\": [[0.0, \"#0d0887\"], [0.1111111111111111, \"#46039f\"], [0.2222222222222222, \"#7201a8\"], [0.3333333333333333, \"#9c179e\"], [0.4444444444444444, \"#bd3786\"], [0.5555555555555556, \"#d8576b\"], [0.6666666666666666, \"#ed7953\"], [0.7777777777777778, \"#fb9f3a\"], [0.8888888888888888, \"#fdca26\"], [1.0, \"#f0f921\"]], \"type\": \"histogram2dcontour\"}], \"mesh3d\": [{\"colorbar\": {\"outlinewidth\": 0, \"ticks\": \"\"}, \"type\": \"mesh3d\"}], \"parcoords\": [{\"line\": {\"colorbar\": {\"outlinewidth\": 0, \"ticks\": \"\"}}, \"type\": \"parcoords\"}], \"pie\": [{\"automargin\": true, \"type\": \"pie\"}], \"scatter\": [{\"marker\": {\"colorbar\": {\"outlinewidth\": 0, \"ticks\": \"\"}}, \"type\": \"scatter\"}], \"scatter3d\": [{\"line\": {\"colorbar\": {\"outlinewidth\": 0, \"ticks\": \"\"}}, \"marker\": {\"colorbar\": {\"outlinewidth\": 0, \"ticks\": \"\"}}, \"type\": \"scatter3d\"}], \"scattercarpet\": [{\"marker\": {\"colorbar\": {\"outlinewidth\": 0, \"ticks\": \"\"}}, \"type\": \"scattercarpet\"}], \"scattergeo\": [{\"marker\": {\"colorbar\": {\"outlinewidth\": 0, \"ticks\": \"\"}}, \"type\": \"scattergeo\"}], \"scattergl\": [{\"marker\": {\"colorbar\": {\"outlinewidth\": 0, \"ticks\": \"\"}}, \"type\": \"scattergl\"}], \"scattermapbox\": [{\"marker\": {\"colorbar\": {\"outlinewidth\": 0, \"ticks\": \"\"}}, \"type\": \"scattermapbox\"}], \"scatterpolar\": [{\"marker\": {\"colorbar\": {\"outlinewidth\": 0, \"ticks\": \"\"}}, \"type\": \"scatterpolar\"}], \"scatterpolargl\": [{\"marker\": {\"colorbar\": {\"outlinewidth\": 0, \"ticks\": \"\"}}, \"type\": \"scatterpolargl\"}], \"scatterternary\": [{\"marker\": {\"colorbar\": {\"outlinewidth\": 0, \"ticks\": \"\"}}, \"type\": \"scatterternary\"}], \"surface\": [{\"colorbar\": {\"outlinewidth\": 0, \"ticks\": \"\"}, \"colorscale\": [[0.0, \"#0d0887\"], [0.1111111111111111, \"#46039f\"], [0.2222222222222222, \"#7201a8\"], [0.3333333333333333, \"#9c179e\"], [0.4444444444444444, \"#bd3786\"], [0.5555555555555556, \"#d8576b\"], [0.6666666666666666, \"#ed7953\"], [0.7777777777777778, \"#fb9f3a\"], [0.8888888888888888, \"#fdca26\"], [1.0, \"#f0f921\"]], \"type\": \"surface\"}], \"table\": [{\"cells\": {\"fill\": {\"color\": \"#EBF0F8\"}, \"line\": {\"color\": \"white\"}}, \"header\": {\"fill\": {\"color\": \"#C8D4E3\"}, \"line\": {\"color\": \"white\"}}, \"type\": \"table\"}]}, \"layout\": {\"annotationdefaults\": {\"arrowcolor\": \"#2a3f5f\", \"arrowhead\": 0, \"arrowwidth\": 1}, \"coloraxis\": {\"colorbar\": {\"outlinewidth\": 0, \"ticks\": \"\"}}, \"colorscale\": {\"diverging\": [[0, \"#8e0152\"], [0.1, \"#c51b7d\"], [0.2, \"#de77ae\"], [0.3, \"#f1b6da\"], [0.4, \"#fde0ef\"], [0.5, \"#f7f7f7\"], [0.6, \"#e6f5d0\"], [0.7, \"#b8e186\"], [0.8, \"#7fbc41\"], [0.9, \"#4d9221\"], [1, \"#276419\"]], \"sequential\": [[0.0, \"#0d0887\"], [0.1111111111111111, \"#46039f\"], [0.2222222222222222, \"#7201a8\"], [0.3333333333333333, \"#9c179e\"], [0.4444444444444444, \"#bd3786\"], [0.5555555555555556, \"#d8576b\"], [0.6666666666666666, \"#ed7953\"], [0.7777777777777778, \"#fb9f3a\"], [0.8888888888888888, \"#fdca26\"], [1.0, \"#f0f921\"]], \"sequentialminus\": [[0.0, \"#0d0887\"], [0.1111111111111111, \"#46039f\"], [0.2222222222222222, \"#7201a8\"], [0.3333333333333333, \"#9c179e\"], [0.4444444444444444, \"#bd3786\"], [0.5555555555555556, \"#d8576b\"], [0.6666666666666666, \"#ed7953\"], [0.7777777777777778, \"#fb9f3a\"], [0.8888888888888888, \"#fdca26\"], [1.0, \"#f0f921\"]]}, \"colorway\": [\"#636efa\", \"#EF553B\", \"#00cc96\", \"#ab63fa\", \"#FFA15A\", \"#19d3f3\", \"#FF6692\", \"#B6E880\", \"#FF97FF\", \"#FECB52\"], \"font\": {\"color\": \"#2a3f5f\"}, \"geo\": {\"bgcolor\": \"white\", \"lakecolor\": \"white\", \"landcolor\": \"#E5ECF6\", \"showlakes\": true, \"showland\": true, \"subunitcolor\": \"white\"}, \"hoverlabel\": {\"align\": \"left\"}, \"hovermode\": \"closest\", \"mapbox\": {\"style\": \"light\"}, \"paper_bgcolor\": \"white\", \"plot_bgcolor\": \"#E5ECF6\", \"polar\": {\"angularaxis\": {\"gridcolor\": \"white\", \"linecolor\": \"white\", \"ticks\": \"\"}, \"bgcolor\": \"#E5ECF6\", \"radialaxis\": {\"gridcolor\": \"white\", \"linecolor\": \"white\", \"ticks\": \"\"}}, \"scene\": {\"xaxis\": {\"backgroundcolor\": \"#E5ECF6\", \"gridcolor\": \"white\", \"gridwidth\": 2, \"linecolor\": \"white\", \"showbackground\": true, \"ticks\": \"\", \"zerolinecolor\": \"white\"}, \"yaxis\": {\"backgroundcolor\": \"#E5ECF6\", \"gridcolor\": \"white\", \"gridwidth\": 2, \"linecolor\": \"white\", \"showbackground\": true, \"ticks\": \"\", \"zerolinecolor\": \"white\"}, \"zaxis\": {\"backgroundcolor\": \"#E5ECF6\", \"gridcolor\": \"white\", \"gridwidth\": 2, \"linecolor\": \"white\", \"showbackground\": true, \"ticks\": \"\", \"zerolinecolor\": \"white\"}}, \"shapedefaults\": {\"line\": {\"color\": \"#2a3f5f\"}}, \"ternary\": {\"aaxis\": {\"gridcolor\": \"white\", \"linecolor\": \"white\", \"ticks\": \"\"}, \"baxis\": {\"gridcolor\": \"white\", \"linecolor\": \"white\", \"ticks\": \"\"}, \"bgcolor\": \"#E5ECF6\", \"caxis\": {\"gridcolor\": \"white\", \"linecolor\": \"white\", \"ticks\": \"\"}}, \"title\": {\"x\": 0.05}, \"xaxis\": {\"automargin\": true, \"gridcolor\": \"white\", \"linecolor\": \"white\", \"ticks\": \"\", \"title\": {\"standoff\": 15}, \"zerolinecolor\": \"white\", \"zerolinewidth\": 2}, \"yaxis\": {\"automargin\": true, \"gridcolor\": \"white\", \"linecolor\": \"white\", \"ticks\": \"\", \"title\": {\"standoff\": 15}, \"zerolinecolor\": \"white\", \"zerolinewidth\": 2}}}},\n",
       "                        {\"responsive\": true}\n",
       "                    ).then(function(){\n",
       "                            \n",
       "var gd = document.getElementById('79901ad8-8d25-4829-9f64-98f42feec5eb');\n",
       "var x = new MutationObserver(function (mutations, observer) {{\n",
       "        var display = window.getComputedStyle(gd).display;\n",
       "        if (!display || display === 'none') {{\n",
       "            console.log([gd, 'removed!']);\n",
       "            Plotly.purge(gd);\n",
       "            observer.disconnect();\n",
       "        }}\n",
       "}});\n",
       "\n",
       "// Listen for the removal of the full notebook cells\n",
       "var notebookContainer = gd.closest('#notebook-container');\n",
       "if (notebookContainer) {{\n",
       "    x.observe(notebookContainer, {childList: true});\n",
       "}}\n",
       "\n",
       "// Listen for the clearing of the current output cell\n",
       "var outputEl = gd.closest('.output');\n",
       "if (outputEl) {{\n",
       "    x.observe(outputEl, {childList: true});\n",
       "}}\n",
       "\n",
       "                        })\n",
       "                };\n",
       "                });\n",
       "            </script>\n",
       "        </div>"
      ]
     },
     "metadata": {},
     "output_type": "display_data"
    }
   ],
   "source": [
    "import plotly.graph_objects as go\n",
    "fig = go.Figure(data=go.Bar(y=[2, 3, 1]))\n",
    "fig.show()\n",
    "\n",
    "# example from the internet"
   ]
  },
  {
   "cell_type": "code",
   "execution_count": 27,
   "metadata": {},
   "outputs": [
    {
     "data": {
      "application/vnd.plotly.v1+json": {
       "config": {
        "linkText": "Export to plot.ly",
        "plotlyServerURL": "https://plot.ly",
        "showLink": true
       },
       "data": [
        {
         "line": {
          "color": "rgba(255, 153, 51, 1.0)",
          "dash": "solid",
          "shape": "linear",
          "width": 1.3
         },
         "mode": "lines",
         "name": "B",
         "text": "",
         "type": "scatter",
         "x": [
          -2.1595551128013284,
          -1.6173242898516864,
          1.0674927611835447,
          0.439513031659266,
          0.36279596254513036,
          0.600173062285224,
          -1.2305524839434807,
          0.8746937230690675,
          0.11640091615535893,
          0.08329582563318474,
          -1.0447940555120276,
          0.2866984367184956,
          -0.7804251491738313,
          0.34032909152602303,
          0.16765058868614027,
          -1.5296597160601109,
          0.5795236318778799,
          0.21113731116682144,
          -0.696442616619319,
          -0.9998392359486835,
          1.329383270272273,
          0.7517844673592072,
          -0.24031730901126605,
          0.6818402629440957,
          -1.4653621224896143,
          1.687649280894785,
          0.9981040537249494,
          0.15861966716117912,
          -0.36282322214130874,
          0.27924717780783115,
          0.28992046088081813,
          -1.3984726905908844,
          1.893976585621253,
          -1.6141235585168021,
          -0.39393868993438785,
          0.3437997112868393,
          -1.173543574871991,
          -0.8838390865195862,
          -0.9355575902731905,
          0.27371354622528726,
          0.05160437312171493,
          -1.8358448571424413,
          -0.8058211780388287,
          -0.732316251321196,
          -0.010386755237048722,
          -1.3849984076183435,
          0.9447522796880747,
          0.08667779165764636,
          -1.7715368550246202,
          -0.8928684210681702,
          -2.737754594551864,
          0.7632387196780179,
          -1.858079865253876,
          0.9382449457982923,
          0.057605652159602484,
          0.35001307742775006,
          1.2975578859253716,
          -1.879629717348173,
          -0.7028013642022829,
          -1.276849241601867,
          -0.7084942780129913,
          0.9603062395086082,
          -0.29122712851705307,
          -0.06626856152534549,
          -0.5890574344828009,
          -1.2176930694033774,
          -1.2688541908453956,
          0.7875845472803842,
          0.01718829550456086,
          0.6754117368612261,
          1.1835223881038262,
          1.143348078480234,
          0.3515601920504283,
          -1.364077246993153,
          -0.2072748954860949,
          -1.4434036675940296,
          1.2610560302052172,
          -1.3207854109660424,
          -1.1331955431274854,
          0.4928363352442773,
          0.3381151543801492,
          2.077740789386813,
          0.6986883191752687,
          0.036166062453457694,
          0.37080693257464536,
          0.058122135506190706,
          0.34072378973502304,
          -0.9859503478488252,
          0.6959107992382784,
          -0.3132716314885966,
          1.1575066319665304,
          -0.640822700603181,
          0.8590011585090338,
          0.26590755576391517,
          -0.40565841874420194,
          -1.3114323899851146,
          -0.4092136632061438,
          -2.443718077463361,
          -0.40323372381243794,
          1.7361820923496287
         ],
         "y": [
          1.4592000208289093,
          0.964198056386624,
          -0.3545365578357637,
          0.4562156461352419,
          -0.35780829304500317,
          0.2923062810269013,
          -0.573725181355843,
          0.8714618853034701,
          0.15748256435182453,
          -2.0153881582947273,
          -1.4423973823876555,
          -0.6957913732505749,
          0.6586112495677865,
          0.2861085912008684,
          0.515959224580303,
          -1.230267203221121,
          0.41276020132790575,
          -0.21690161797783022,
          1.9087584210999025,
          1.7869020876854367,
          1.4943344086087573,
          -1.05350831067552,
          0.1685870131827114,
          1.2749765964185702,
          -1.9927034723818542,
          -0.25512766703461726,
          2.224066184435049,
          0.4531495369022115,
          1.7766607769742329,
          -0.7040569863068262,
          -0.09339300027020869,
          -0.1481268546993301,
          0.017934896786732348,
          0.9245948440993917,
          -0.38335690164848596,
          0.3156975877305662,
          -0.04130995125404242,
          -1.2969585562991228,
          0.8876823442603106,
          1.9467992753764507,
          -0.8694044880254235,
          1.1149036226764923,
          0.06303902996119262,
          -0.7546426748980145,
          -0.10093449120341683,
          0.05872570955082937,
          1.4030489733182951,
          1.5523552011133506,
          -1.7107199735275513,
          0.4806186140463261,
          0.7321791060879436,
          -1.1651253386182734,
          -1.113986670108338,
          -1.434156433332877,
          1.17533818820652,
          -0.4040667742334181,
          0.7874647566080882,
          0.3986027828133385,
          -0.1717075349366136,
          1.6706827228728545,
          1.1441107438259974,
          -0.009941051957703647,
          -1.2601083964921593,
          0.41632531300085235,
          0.9915573868922075,
          1.5757344516704244,
          0.6506313912351971,
          -1.2446155517601565,
          0.9466919275591655,
          -0.14447844121663178,
          -0.3429560008658638,
          0.726744767174271,
          -1.137023908469773,
          0.4659120864493864,
          -0.8612420271527861,
          0.42907710532127724,
          -2.2087974571652773,
          0.11373515913039517,
          1.4138131418823359,
          1.1174159891542308,
          -1.8461061947181268,
          -0.8244927053386425,
          1.382083515344372,
          0.5301551005414858,
          -1.2799227684693713,
          -0.97907695137764,
          -0.3661777733039764,
          -1.3899535648824415,
          0.09902669135632002,
          1.4929791530505998,
          -0.025483633148594916,
          1.134650174116771,
          0.1252055257162927,
          -0.406592778474004,
          0.2506500289936139,
          2.12020624419413,
          0.281816072656867,
          -0.475066104476711,
          -0.5882116783620391,
          0.820717473818895
         ]
        }
       ],
       "layout": {
        "legend": {
         "bgcolor": "#F5F6F9",
         "font": {
          "color": "#4D5663"
         }
        },
        "paper_bgcolor": "#F5F6F9",
        "plot_bgcolor": "#F5F6F9",
        "template": {
         "data": {
          "bar": [
           {
            "error_x": {
             "color": "#2a3f5f"
            },
            "error_y": {
             "color": "#2a3f5f"
            },
            "marker": {
             "line": {
              "color": "#E5ECF6",
              "width": 0.5
             }
            },
            "type": "bar"
           }
          ],
          "barpolar": [
           {
            "marker": {
             "line": {
              "color": "#E5ECF6",
              "width": 0.5
             }
            },
            "type": "barpolar"
           }
          ],
          "carpet": [
           {
            "aaxis": {
             "endlinecolor": "#2a3f5f",
             "gridcolor": "white",
             "linecolor": "white",
             "minorgridcolor": "white",
             "startlinecolor": "#2a3f5f"
            },
            "baxis": {
             "endlinecolor": "#2a3f5f",
             "gridcolor": "white",
             "linecolor": "white",
             "minorgridcolor": "white",
             "startlinecolor": "#2a3f5f"
            },
            "type": "carpet"
           }
          ],
          "choropleth": [
           {
            "colorbar": {
             "outlinewidth": 0,
             "ticks": ""
            },
            "type": "choropleth"
           }
          ],
          "contour": [
           {
            "colorbar": {
             "outlinewidth": 0,
             "ticks": ""
            },
            "colorscale": [
             [
              0,
              "#0d0887"
             ],
             [
              0.1111111111111111,
              "#46039f"
             ],
             [
              0.2222222222222222,
              "#7201a8"
             ],
             [
              0.3333333333333333,
              "#9c179e"
             ],
             [
              0.4444444444444444,
              "#bd3786"
             ],
             [
              0.5555555555555556,
              "#d8576b"
             ],
             [
              0.6666666666666666,
              "#ed7953"
             ],
             [
              0.7777777777777778,
              "#fb9f3a"
             ],
             [
              0.8888888888888888,
              "#fdca26"
             ],
             [
              1,
              "#f0f921"
             ]
            ],
            "type": "contour"
           }
          ],
          "contourcarpet": [
           {
            "colorbar": {
             "outlinewidth": 0,
             "ticks": ""
            },
            "type": "contourcarpet"
           }
          ],
          "heatmap": [
           {
            "colorbar": {
             "outlinewidth": 0,
             "ticks": ""
            },
            "colorscale": [
             [
              0,
              "#0d0887"
             ],
             [
              0.1111111111111111,
              "#46039f"
             ],
             [
              0.2222222222222222,
              "#7201a8"
             ],
             [
              0.3333333333333333,
              "#9c179e"
             ],
             [
              0.4444444444444444,
              "#bd3786"
             ],
             [
              0.5555555555555556,
              "#d8576b"
             ],
             [
              0.6666666666666666,
              "#ed7953"
             ],
             [
              0.7777777777777778,
              "#fb9f3a"
             ],
             [
              0.8888888888888888,
              "#fdca26"
             ],
             [
              1,
              "#f0f921"
             ]
            ],
            "type": "heatmap"
           }
          ],
          "heatmapgl": [
           {
            "colorbar": {
             "outlinewidth": 0,
             "ticks": ""
            },
            "colorscale": [
             [
              0,
              "#0d0887"
             ],
             [
              0.1111111111111111,
              "#46039f"
             ],
             [
              0.2222222222222222,
              "#7201a8"
             ],
             [
              0.3333333333333333,
              "#9c179e"
             ],
             [
              0.4444444444444444,
              "#bd3786"
             ],
             [
              0.5555555555555556,
              "#d8576b"
             ],
             [
              0.6666666666666666,
              "#ed7953"
             ],
             [
              0.7777777777777778,
              "#fb9f3a"
             ],
             [
              0.8888888888888888,
              "#fdca26"
             ],
             [
              1,
              "#f0f921"
             ]
            ],
            "type": "heatmapgl"
           }
          ],
          "histogram": [
           {
            "marker": {
             "colorbar": {
              "outlinewidth": 0,
              "ticks": ""
             }
            },
            "type": "histogram"
           }
          ],
          "histogram2d": [
           {
            "colorbar": {
             "outlinewidth": 0,
             "ticks": ""
            },
            "colorscale": [
             [
              0,
              "#0d0887"
             ],
             [
              0.1111111111111111,
              "#46039f"
             ],
             [
              0.2222222222222222,
              "#7201a8"
             ],
             [
              0.3333333333333333,
              "#9c179e"
             ],
             [
              0.4444444444444444,
              "#bd3786"
             ],
             [
              0.5555555555555556,
              "#d8576b"
             ],
             [
              0.6666666666666666,
              "#ed7953"
             ],
             [
              0.7777777777777778,
              "#fb9f3a"
             ],
             [
              0.8888888888888888,
              "#fdca26"
             ],
             [
              1,
              "#f0f921"
             ]
            ],
            "type": "histogram2d"
           }
          ],
          "histogram2dcontour": [
           {
            "colorbar": {
             "outlinewidth": 0,
             "ticks": ""
            },
            "colorscale": [
             [
              0,
              "#0d0887"
             ],
             [
              0.1111111111111111,
              "#46039f"
             ],
             [
              0.2222222222222222,
              "#7201a8"
             ],
             [
              0.3333333333333333,
              "#9c179e"
             ],
             [
              0.4444444444444444,
              "#bd3786"
             ],
             [
              0.5555555555555556,
              "#d8576b"
             ],
             [
              0.6666666666666666,
              "#ed7953"
             ],
             [
              0.7777777777777778,
              "#fb9f3a"
             ],
             [
              0.8888888888888888,
              "#fdca26"
             ],
             [
              1,
              "#f0f921"
             ]
            ],
            "type": "histogram2dcontour"
           }
          ],
          "mesh3d": [
           {
            "colorbar": {
             "outlinewidth": 0,
             "ticks": ""
            },
            "type": "mesh3d"
           }
          ],
          "parcoords": [
           {
            "line": {
             "colorbar": {
              "outlinewidth": 0,
              "ticks": ""
             }
            },
            "type": "parcoords"
           }
          ],
          "pie": [
           {
            "automargin": true,
            "type": "pie"
           }
          ],
          "scatter": [
           {
            "marker": {
             "colorbar": {
              "outlinewidth": 0,
              "ticks": ""
             }
            },
            "type": "scatter"
           }
          ],
          "scatter3d": [
           {
            "line": {
             "colorbar": {
              "outlinewidth": 0,
              "ticks": ""
             }
            },
            "marker": {
             "colorbar": {
              "outlinewidth": 0,
              "ticks": ""
             }
            },
            "type": "scatter3d"
           }
          ],
          "scattercarpet": [
           {
            "marker": {
             "colorbar": {
              "outlinewidth": 0,
              "ticks": ""
             }
            },
            "type": "scattercarpet"
           }
          ],
          "scattergeo": [
           {
            "marker": {
             "colorbar": {
              "outlinewidth": 0,
              "ticks": ""
             }
            },
            "type": "scattergeo"
           }
          ],
          "scattergl": [
           {
            "marker": {
             "colorbar": {
              "outlinewidth": 0,
              "ticks": ""
             }
            },
            "type": "scattergl"
           }
          ],
          "scattermapbox": [
           {
            "marker": {
             "colorbar": {
              "outlinewidth": 0,
              "ticks": ""
             }
            },
            "type": "scattermapbox"
           }
          ],
          "scatterpolar": [
           {
            "marker": {
             "colorbar": {
              "outlinewidth": 0,
              "ticks": ""
             }
            },
            "type": "scatterpolar"
           }
          ],
          "scatterpolargl": [
           {
            "marker": {
             "colorbar": {
              "outlinewidth": 0,
              "ticks": ""
             }
            },
            "type": "scatterpolargl"
           }
          ],
          "scatterternary": [
           {
            "marker": {
             "colorbar": {
              "outlinewidth": 0,
              "ticks": ""
             }
            },
            "type": "scatterternary"
           }
          ],
          "surface": [
           {
            "colorbar": {
             "outlinewidth": 0,
             "ticks": ""
            },
            "colorscale": [
             [
              0,
              "#0d0887"
             ],
             [
              0.1111111111111111,
              "#46039f"
             ],
             [
              0.2222222222222222,
              "#7201a8"
             ],
             [
              0.3333333333333333,
              "#9c179e"
             ],
             [
              0.4444444444444444,
              "#bd3786"
             ],
             [
              0.5555555555555556,
              "#d8576b"
             ],
             [
              0.6666666666666666,
              "#ed7953"
             ],
             [
              0.7777777777777778,
              "#fb9f3a"
             ],
             [
              0.8888888888888888,
              "#fdca26"
             ],
             [
              1,
              "#f0f921"
             ]
            ],
            "type": "surface"
           }
          ],
          "table": [
           {
            "cells": {
             "fill": {
              "color": "#EBF0F8"
             },
             "line": {
              "color": "white"
             }
            },
            "header": {
             "fill": {
              "color": "#C8D4E3"
             },
             "line": {
              "color": "white"
             }
            },
            "type": "table"
           }
          ]
         },
         "layout": {
          "annotationdefaults": {
           "arrowcolor": "#2a3f5f",
           "arrowhead": 0,
           "arrowwidth": 1
          },
          "coloraxis": {
           "colorbar": {
            "outlinewidth": 0,
            "ticks": ""
           }
          },
          "colorscale": {
           "diverging": [
            [
             0,
             "#8e0152"
            ],
            [
             0.1,
             "#c51b7d"
            ],
            [
             0.2,
             "#de77ae"
            ],
            [
             0.3,
             "#f1b6da"
            ],
            [
             0.4,
             "#fde0ef"
            ],
            [
             0.5,
             "#f7f7f7"
            ],
            [
             0.6,
             "#e6f5d0"
            ],
            [
             0.7,
             "#b8e186"
            ],
            [
             0.8,
             "#7fbc41"
            ],
            [
             0.9,
             "#4d9221"
            ],
            [
             1,
             "#276419"
            ]
           ],
           "sequential": [
            [
             0,
             "#0d0887"
            ],
            [
             0.1111111111111111,
             "#46039f"
            ],
            [
             0.2222222222222222,
             "#7201a8"
            ],
            [
             0.3333333333333333,
             "#9c179e"
            ],
            [
             0.4444444444444444,
             "#bd3786"
            ],
            [
             0.5555555555555556,
             "#d8576b"
            ],
            [
             0.6666666666666666,
             "#ed7953"
            ],
            [
             0.7777777777777778,
             "#fb9f3a"
            ],
            [
             0.8888888888888888,
             "#fdca26"
            ],
            [
             1,
             "#f0f921"
            ]
           ],
           "sequentialminus": [
            [
             0,
             "#0d0887"
            ],
            [
             0.1111111111111111,
             "#46039f"
            ],
            [
             0.2222222222222222,
             "#7201a8"
            ],
            [
             0.3333333333333333,
             "#9c179e"
            ],
            [
             0.4444444444444444,
             "#bd3786"
            ],
            [
             0.5555555555555556,
             "#d8576b"
            ],
            [
             0.6666666666666666,
             "#ed7953"
            ],
            [
             0.7777777777777778,
             "#fb9f3a"
            ],
            [
             0.8888888888888888,
             "#fdca26"
            ],
            [
             1,
             "#f0f921"
            ]
           ]
          },
          "colorway": [
           "#636efa",
           "#EF553B",
           "#00cc96",
           "#ab63fa",
           "#FFA15A",
           "#19d3f3",
           "#FF6692",
           "#B6E880",
           "#FF97FF",
           "#FECB52"
          ],
          "font": {
           "color": "#2a3f5f"
          },
          "geo": {
           "bgcolor": "white",
           "lakecolor": "white",
           "landcolor": "#E5ECF6",
           "showlakes": true,
           "showland": true,
           "subunitcolor": "white"
          },
          "hoverlabel": {
           "align": "left"
          },
          "hovermode": "closest",
          "mapbox": {
           "style": "light"
          },
          "paper_bgcolor": "white",
          "plot_bgcolor": "#E5ECF6",
          "polar": {
           "angularaxis": {
            "gridcolor": "white",
            "linecolor": "white",
            "ticks": ""
           },
           "bgcolor": "#E5ECF6",
           "radialaxis": {
            "gridcolor": "white",
            "linecolor": "white",
            "ticks": ""
           }
          },
          "scene": {
           "xaxis": {
            "backgroundcolor": "#E5ECF6",
            "gridcolor": "white",
            "gridwidth": 2,
            "linecolor": "white",
            "showbackground": true,
            "ticks": "",
            "zerolinecolor": "white"
           },
           "yaxis": {
            "backgroundcolor": "#E5ECF6",
            "gridcolor": "white",
            "gridwidth": 2,
            "linecolor": "white",
            "showbackground": true,
            "ticks": "",
            "zerolinecolor": "white"
           },
           "zaxis": {
            "backgroundcolor": "#E5ECF6",
            "gridcolor": "white",
            "gridwidth": 2,
            "linecolor": "white",
            "showbackground": true,
            "ticks": "",
            "zerolinecolor": "white"
           }
          },
          "shapedefaults": {
           "line": {
            "color": "#2a3f5f"
           }
          },
          "ternary": {
           "aaxis": {
            "gridcolor": "white",
            "linecolor": "white",
            "ticks": ""
           },
           "baxis": {
            "gridcolor": "white",
            "linecolor": "white",
            "ticks": ""
           },
           "bgcolor": "#E5ECF6",
           "caxis": {
            "gridcolor": "white",
            "linecolor": "white",
            "ticks": ""
           }
          },
          "title": {
           "x": 0.05
          },
          "xaxis": {
           "automargin": true,
           "gridcolor": "white",
           "linecolor": "white",
           "ticks": "",
           "title": {
            "standoff": 15
           },
           "zerolinecolor": "white",
           "zerolinewidth": 2
          },
          "yaxis": {
           "automargin": true,
           "gridcolor": "white",
           "linecolor": "white",
           "ticks": "",
           "title": {
            "standoff": 15
           },
           "zerolinecolor": "white",
           "zerolinewidth": 2
          }
         }
        },
        "title": {
         "font": {
          "color": "#4D5663"
         }
        },
        "xaxis": {
         "gridcolor": "#E1E5ED",
         "showgrid": true,
         "tickfont": {
          "color": "#4D5663"
         },
         "title": {
          "font": {
           "color": "#4D5663"
          },
          "text": ""
         },
         "zerolinecolor": "#E1E5ED"
        },
        "yaxis": {
         "gridcolor": "#E1E5ED",
         "showgrid": true,
         "tickfont": {
          "color": "#4D5663"
         },
         "title": {
          "font": {
           "color": "#4D5663"
          },
          "text": ""
         },
         "zerolinecolor": "#E1E5ED"
        }
       }
      },
      "text/html": [
       "<div>\n",
       "        \n",
       "        \n",
       "            <div id=\"2dbc5919-6ac2-4e80-829c-9a1ebd57a7af\" class=\"plotly-graph-div\" style=\"height:525px; width:100%;\"></div>\n",
       "            <script type=\"text/javascript\">\n",
       "                require([\"plotly\"], function(Plotly) {\n",
       "                    window.PLOTLYENV=window.PLOTLYENV || {};\n",
       "                    window.PLOTLYENV.BASE_URL='https://plot.ly';\n",
       "                    \n",
       "                if (document.getElementById(\"2dbc5919-6ac2-4e80-829c-9a1ebd57a7af\")) {\n",
       "                    Plotly.newPlot(\n",
       "                        '2dbc5919-6ac2-4e80-829c-9a1ebd57a7af',\n",
       "                        [{\"line\": {\"color\": \"rgba(255, 153, 51, 1.0)\", \"dash\": \"solid\", \"shape\": \"linear\", \"width\": 1.3}, \"mode\": \"lines\", \"name\": \"B\", \"text\": \"\", \"type\": \"scatter\", \"x\": [-2.1595551128013284, -1.6173242898516864, 1.0674927611835447, 0.439513031659266, 0.36279596254513036, 0.600173062285224, -1.2305524839434807, 0.8746937230690675, 0.11640091615535893, 0.08329582563318474, -1.0447940555120276, 0.2866984367184956, -0.7804251491738313, 0.34032909152602303, 0.16765058868614027, -1.5296597160601109, 0.5795236318778799, 0.21113731116682144, -0.696442616619319, -0.9998392359486835, 1.329383270272273, 0.7517844673592072, -0.24031730901126605, 0.6818402629440957, -1.4653621224896143, 1.687649280894785, 0.9981040537249494, 0.15861966716117912, -0.36282322214130874, 0.27924717780783115, 0.28992046088081813, -1.3984726905908844, 1.893976585621253, -1.6141235585168021, -0.39393868993438785, 0.3437997112868393, -1.173543574871991, -0.8838390865195862, -0.9355575902731905, 0.27371354622528726, 0.05160437312171493, -1.8358448571424413, -0.8058211780388287, -0.732316251321196, -0.010386755237048722, -1.3849984076183435, 0.9447522796880747, 0.08667779165764636, -1.7715368550246202, -0.8928684210681702, -2.737754594551864, 0.7632387196780179, -1.858079865253876, 0.9382449457982923, 0.057605652159602484, 0.35001307742775006, 1.2975578859253716, -1.879629717348173, -0.7028013642022829, -1.276849241601867, -0.7084942780129913, 0.9603062395086082, -0.29122712851705307, -0.06626856152534549, -0.5890574344828009, -1.2176930694033774, -1.2688541908453956, 0.7875845472803842, 0.01718829550456086, 0.6754117368612261, 1.1835223881038262, 1.143348078480234, 0.3515601920504283, -1.364077246993153, -0.2072748954860949, -1.4434036675940296, 1.2610560302052172, -1.3207854109660424, -1.1331955431274854, 0.4928363352442773, 0.3381151543801492, 2.077740789386813, 0.6986883191752687, 0.036166062453457694, 0.37080693257464536, 0.058122135506190706, 0.34072378973502304, -0.9859503478488252, 0.6959107992382784, -0.3132716314885966, 1.1575066319665304, -0.640822700603181, 0.8590011585090338, 0.26590755576391517, -0.40565841874420194, -1.3114323899851146, -0.4092136632061438, -2.443718077463361, -0.40323372381243794, 1.7361820923496287], \"y\": [1.4592000208289093, 0.964198056386624, -0.3545365578357637, 0.4562156461352419, -0.35780829304500317, 0.2923062810269013, -0.573725181355843, 0.8714618853034701, 0.15748256435182453, -2.0153881582947273, -1.4423973823876555, -0.6957913732505749, 0.6586112495677865, 0.2861085912008684, 0.515959224580303, -1.230267203221121, 0.41276020132790575, -0.21690161797783022, 1.9087584210999025, 1.7869020876854367, 1.4943344086087573, -1.05350831067552, 0.1685870131827114, 1.2749765964185702, -1.9927034723818542, -0.25512766703461726, 2.224066184435049, 0.4531495369022115, 1.7766607769742329, -0.7040569863068262, -0.09339300027020869, -0.1481268546993301, 0.017934896786732348, 0.9245948440993917, -0.38335690164848596, 0.3156975877305662, -0.04130995125404242, -1.2969585562991228, 0.8876823442603106, 1.9467992753764507, -0.8694044880254235, 1.1149036226764923, 0.06303902996119262, -0.7546426748980145, -0.10093449120341683, 0.05872570955082937, 1.4030489733182951, 1.5523552011133506, -1.7107199735275513, 0.4806186140463261, 0.7321791060879436, -1.1651253386182734, -1.113986670108338, -1.434156433332877, 1.17533818820652, -0.4040667742334181, 0.7874647566080882, 0.3986027828133385, -0.1717075349366136, 1.6706827228728545, 1.1441107438259974, -0.009941051957703647, -1.2601083964921593, 0.41632531300085235, 0.9915573868922075, 1.5757344516704244, 0.6506313912351971, -1.2446155517601565, 0.9466919275591655, -0.14447844121663178, -0.3429560008658638, 0.726744767174271, -1.137023908469773, 0.4659120864493864, -0.8612420271527861, 0.42907710532127724, -2.2087974571652773, 0.11373515913039517, 1.4138131418823359, 1.1174159891542308, -1.8461061947181268, -0.8244927053386425, 1.382083515344372, 0.5301551005414858, -1.2799227684693713, -0.97907695137764, -0.3661777733039764, -1.3899535648824415, 0.09902669135632002, 1.4929791530505998, -0.025483633148594916, 1.134650174116771, 0.1252055257162927, -0.406592778474004, 0.2506500289936139, 2.12020624419413, 0.281816072656867, -0.475066104476711, -0.5882116783620391, 0.820717473818895]}],\n",
       "                        {\"legend\": {\"bgcolor\": \"#F5F6F9\", \"font\": {\"color\": \"#4D5663\"}}, \"paper_bgcolor\": \"#F5F6F9\", \"plot_bgcolor\": \"#F5F6F9\", \"template\": {\"data\": {\"bar\": [{\"error_x\": {\"color\": \"#2a3f5f\"}, \"error_y\": {\"color\": \"#2a3f5f\"}, \"marker\": {\"line\": {\"color\": \"#E5ECF6\", \"width\": 0.5}}, \"type\": \"bar\"}], \"barpolar\": [{\"marker\": {\"line\": {\"color\": \"#E5ECF6\", \"width\": 0.5}}, \"type\": \"barpolar\"}], \"carpet\": [{\"aaxis\": {\"endlinecolor\": \"#2a3f5f\", \"gridcolor\": \"white\", \"linecolor\": \"white\", \"minorgridcolor\": \"white\", \"startlinecolor\": \"#2a3f5f\"}, \"baxis\": {\"endlinecolor\": \"#2a3f5f\", \"gridcolor\": \"white\", \"linecolor\": \"white\", \"minorgridcolor\": \"white\", \"startlinecolor\": \"#2a3f5f\"}, \"type\": \"carpet\"}], \"choropleth\": [{\"colorbar\": {\"outlinewidth\": 0, \"ticks\": \"\"}, \"type\": \"choropleth\"}], \"contour\": [{\"colorbar\": {\"outlinewidth\": 0, \"ticks\": \"\"}, \"colorscale\": [[0.0, \"#0d0887\"], [0.1111111111111111, \"#46039f\"], [0.2222222222222222, \"#7201a8\"], [0.3333333333333333, \"#9c179e\"], [0.4444444444444444, \"#bd3786\"], [0.5555555555555556, \"#d8576b\"], [0.6666666666666666, \"#ed7953\"], [0.7777777777777778, \"#fb9f3a\"], [0.8888888888888888, \"#fdca26\"], [1.0, \"#f0f921\"]], \"type\": \"contour\"}], \"contourcarpet\": [{\"colorbar\": {\"outlinewidth\": 0, \"ticks\": \"\"}, \"type\": \"contourcarpet\"}], \"heatmap\": [{\"colorbar\": {\"outlinewidth\": 0, \"ticks\": \"\"}, \"colorscale\": [[0.0, \"#0d0887\"], [0.1111111111111111, \"#46039f\"], [0.2222222222222222, \"#7201a8\"], [0.3333333333333333, \"#9c179e\"], [0.4444444444444444, \"#bd3786\"], [0.5555555555555556, \"#d8576b\"], [0.6666666666666666, \"#ed7953\"], [0.7777777777777778, \"#fb9f3a\"], [0.8888888888888888, \"#fdca26\"], [1.0, \"#f0f921\"]], \"type\": \"heatmap\"}], \"heatmapgl\": [{\"colorbar\": {\"outlinewidth\": 0, \"ticks\": \"\"}, \"colorscale\": [[0.0, \"#0d0887\"], [0.1111111111111111, \"#46039f\"], [0.2222222222222222, \"#7201a8\"], [0.3333333333333333, \"#9c179e\"], [0.4444444444444444, \"#bd3786\"], [0.5555555555555556, \"#d8576b\"], [0.6666666666666666, \"#ed7953\"], [0.7777777777777778, \"#fb9f3a\"], [0.8888888888888888, \"#fdca26\"], [1.0, \"#f0f921\"]], \"type\": \"heatmapgl\"}], \"histogram\": [{\"marker\": {\"colorbar\": {\"outlinewidth\": 0, \"ticks\": \"\"}}, \"type\": \"histogram\"}], \"histogram2d\": [{\"colorbar\": {\"outlinewidth\": 0, \"ticks\": \"\"}, \"colorscale\": [[0.0, \"#0d0887\"], [0.1111111111111111, \"#46039f\"], [0.2222222222222222, \"#7201a8\"], [0.3333333333333333, \"#9c179e\"], [0.4444444444444444, \"#bd3786\"], [0.5555555555555556, \"#d8576b\"], [0.6666666666666666, \"#ed7953\"], [0.7777777777777778, \"#fb9f3a\"], [0.8888888888888888, \"#fdca26\"], [1.0, \"#f0f921\"]], \"type\": \"histogram2d\"}], \"histogram2dcontour\": [{\"colorbar\": {\"outlinewidth\": 0, \"ticks\": \"\"}, \"colorscale\": [[0.0, \"#0d0887\"], [0.1111111111111111, \"#46039f\"], [0.2222222222222222, \"#7201a8\"], [0.3333333333333333, \"#9c179e\"], [0.4444444444444444, \"#bd3786\"], [0.5555555555555556, \"#d8576b\"], [0.6666666666666666, \"#ed7953\"], [0.7777777777777778, \"#fb9f3a\"], [0.8888888888888888, \"#fdca26\"], [1.0, \"#f0f921\"]], \"type\": \"histogram2dcontour\"}], \"mesh3d\": [{\"colorbar\": {\"outlinewidth\": 0, \"ticks\": \"\"}, \"type\": \"mesh3d\"}], \"parcoords\": [{\"line\": {\"colorbar\": {\"outlinewidth\": 0, \"ticks\": \"\"}}, \"type\": \"parcoords\"}], \"pie\": [{\"automargin\": true, \"type\": \"pie\"}], \"scatter\": [{\"marker\": {\"colorbar\": {\"outlinewidth\": 0, \"ticks\": \"\"}}, \"type\": \"scatter\"}], \"scatter3d\": [{\"line\": {\"colorbar\": {\"outlinewidth\": 0, \"ticks\": \"\"}}, \"marker\": {\"colorbar\": {\"outlinewidth\": 0, \"ticks\": \"\"}}, \"type\": \"scatter3d\"}], \"scattercarpet\": [{\"marker\": {\"colorbar\": {\"outlinewidth\": 0, \"ticks\": \"\"}}, \"type\": \"scattercarpet\"}], \"scattergeo\": [{\"marker\": {\"colorbar\": {\"outlinewidth\": 0, \"ticks\": \"\"}}, \"type\": \"scattergeo\"}], \"scattergl\": [{\"marker\": {\"colorbar\": {\"outlinewidth\": 0, \"ticks\": \"\"}}, \"type\": \"scattergl\"}], \"scattermapbox\": [{\"marker\": {\"colorbar\": {\"outlinewidth\": 0, \"ticks\": \"\"}}, \"type\": \"scattermapbox\"}], \"scatterpolar\": [{\"marker\": {\"colorbar\": {\"outlinewidth\": 0, \"ticks\": \"\"}}, \"type\": \"scatterpolar\"}], \"scatterpolargl\": [{\"marker\": {\"colorbar\": {\"outlinewidth\": 0, \"ticks\": \"\"}}, \"type\": \"scatterpolargl\"}], \"scatterternary\": [{\"marker\": {\"colorbar\": {\"outlinewidth\": 0, \"ticks\": \"\"}}, \"type\": \"scatterternary\"}], \"surface\": [{\"colorbar\": {\"outlinewidth\": 0, \"ticks\": \"\"}, \"colorscale\": [[0.0, \"#0d0887\"], [0.1111111111111111, \"#46039f\"], [0.2222222222222222, \"#7201a8\"], [0.3333333333333333, \"#9c179e\"], [0.4444444444444444, \"#bd3786\"], [0.5555555555555556, \"#d8576b\"], [0.6666666666666666, \"#ed7953\"], [0.7777777777777778, \"#fb9f3a\"], [0.8888888888888888, \"#fdca26\"], [1.0, \"#f0f921\"]], \"type\": \"surface\"}], \"table\": [{\"cells\": {\"fill\": {\"color\": \"#EBF0F8\"}, \"line\": {\"color\": \"white\"}}, \"header\": {\"fill\": {\"color\": \"#C8D4E3\"}, \"line\": {\"color\": \"white\"}}, \"type\": \"table\"}]}, \"layout\": {\"annotationdefaults\": {\"arrowcolor\": \"#2a3f5f\", \"arrowhead\": 0, \"arrowwidth\": 1}, \"coloraxis\": {\"colorbar\": {\"outlinewidth\": 0, \"ticks\": \"\"}}, \"colorscale\": {\"diverging\": [[0, \"#8e0152\"], [0.1, \"#c51b7d\"], [0.2, \"#de77ae\"], [0.3, \"#f1b6da\"], [0.4, \"#fde0ef\"], [0.5, \"#f7f7f7\"], [0.6, \"#e6f5d0\"], [0.7, \"#b8e186\"], [0.8, \"#7fbc41\"], [0.9, \"#4d9221\"], [1, \"#276419\"]], \"sequential\": [[0.0, \"#0d0887\"], [0.1111111111111111, \"#46039f\"], [0.2222222222222222, \"#7201a8\"], [0.3333333333333333, \"#9c179e\"], [0.4444444444444444, \"#bd3786\"], [0.5555555555555556, \"#d8576b\"], [0.6666666666666666, \"#ed7953\"], [0.7777777777777778, \"#fb9f3a\"], [0.8888888888888888, \"#fdca26\"], [1.0, \"#f0f921\"]], \"sequentialminus\": [[0.0, \"#0d0887\"], [0.1111111111111111, \"#46039f\"], [0.2222222222222222, \"#7201a8\"], [0.3333333333333333, \"#9c179e\"], [0.4444444444444444, \"#bd3786\"], [0.5555555555555556, \"#d8576b\"], [0.6666666666666666, \"#ed7953\"], [0.7777777777777778, \"#fb9f3a\"], [0.8888888888888888, \"#fdca26\"], [1.0, \"#f0f921\"]]}, \"colorway\": [\"#636efa\", \"#EF553B\", \"#00cc96\", \"#ab63fa\", \"#FFA15A\", \"#19d3f3\", \"#FF6692\", \"#B6E880\", \"#FF97FF\", \"#FECB52\"], \"font\": {\"color\": \"#2a3f5f\"}, \"geo\": {\"bgcolor\": \"white\", \"lakecolor\": \"white\", \"landcolor\": \"#E5ECF6\", \"showlakes\": true, \"showland\": true, \"subunitcolor\": \"white\"}, \"hoverlabel\": {\"align\": \"left\"}, \"hovermode\": \"closest\", \"mapbox\": {\"style\": \"light\"}, \"paper_bgcolor\": \"white\", \"plot_bgcolor\": \"#E5ECF6\", \"polar\": {\"angularaxis\": {\"gridcolor\": \"white\", \"linecolor\": \"white\", \"ticks\": \"\"}, \"bgcolor\": \"#E5ECF6\", \"radialaxis\": {\"gridcolor\": \"white\", \"linecolor\": \"white\", \"ticks\": \"\"}}, \"scene\": {\"xaxis\": {\"backgroundcolor\": \"#E5ECF6\", \"gridcolor\": \"white\", \"gridwidth\": 2, \"linecolor\": \"white\", \"showbackground\": true, \"ticks\": \"\", \"zerolinecolor\": \"white\"}, \"yaxis\": {\"backgroundcolor\": \"#E5ECF6\", \"gridcolor\": \"white\", \"gridwidth\": 2, \"linecolor\": \"white\", \"showbackground\": true, \"ticks\": \"\", \"zerolinecolor\": \"white\"}, \"zaxis\": {\"backgroundcolor\": \"#E5ECF6\", \"gridcolor\": \"white\", \"gridwidth\": 2, \"linecolor\": \"white\", \"showbackground\": true, \"ticks\": \"\", \"zerolinecolor\": \"white\"}}, \"shapedefaults\": {\"line\": {\"color\": \"#2a3f5f\"}}, \"ternary\": {\"aaxis\": {\"gridcolor\": \"white\", \"linecolor\": \"white\", \"ticks\": \"\"}, \"baxis\": {\"gridcolor\": \"white\", \"linecolor\": \"white\", \"ticks\": \"\"}, \"bgcolor\": \"#E5ECF6\", \"caxis\": {\"gridcolor\": \"white\", \"linecolor\": \"white\", \"ticks\": \"\"}}, \"title\": {\"x\": 0.05}, \"xaxis\": {\"automargin\": true, \"gridcolor\": \"white\", \"linecolor\": \"white\", \"ticks\": \"\", \"title\": {\"standoff\": 15}, \"zerolinecolor\": \"white\", \"zerolinewidth\": 2}, \"yaxis\": {\"automargin\": true, \"gridcolor\": \"white\", \"linecolor\": \"white\", \"ticks\": \"\", \"title\": {\"standoff\": 15}, \"zerolinecolor\": \"white\", \"zerolinewidth\": 2}}}, \"title\": {\"font\": {\"color\": \"#4D5663\"}}, \"xaxis\": {\"gridcolor\": \"#E1E5ED\", \"showgrid\": true, \"tickfont\": {\"color\": \"#4D5663\"}, \"title\": {\"font\": {\"color\": \"#4D5663\"}, \"text\": \"\"}, \"zerolinecolor\": \"#E1E5ED\"}, \"yaxis\": {\"gridcolor\": \"#E1E5ED\", \"showgrid\": true, \"tickfont\": {\"color\": \"#4D5663\"}, \"title\": {\"font\": {\"color\": \"#4D5663\"}, \"text\": \"\"}, \"zerolinecolor\": \"#E1E5ED\"}},\n",
       "                        {\"showLink\": true, \"linkText\": \"Export to plot.ly\", \"plotlyServerURL\": \"https://plot.ly\", \"responsive\": true}\n",
       "                    ).then(function(){\n",
       "                            \n",
       "var gd = document.getElementById('2dbc5919-6ac2-4e80-829c-9a1ebd57a7af');\n",
       "var x = new MutationObserver(function (mutations, observer) {{\n",
       "        var display = window.getComputedStyle(gd).display;\n",
       "        if (!display || display === 'none') {{\n",
       "            console.log([gd, 'removed!']);\n",
       "            Plotly.purge(gd);\n",
       "            observer.disconnect();\n",
       "        }}\n",
       "}});\n",
       "\n",
       "// Listen for the removal of the full notebook cells\n",
       "var notebookContainer = gd.closest('#notebook-container');\n",
       "if (notebookContainer) {{\n",
       "    x.observe(notebookContainer, {childList: true});\n",
       "}}\n",
       "\n",
       "// Listen for the clearing of the current output cell\n",
       "var outputEl = gd.closest('.output');\n",
       "if (outputEl) {{\n",
       "    x.observe(outputEl, {childList: true});\n",
       "}}\n",
       "\n",
       "                        })\n",
       "                };\n",
       "                });\n",
       "            </script>\n",
       "        </div>"
      ]
     },
     "metadata": {},
     "output_type": "display_data"
    }
   ],
   "source": [
    "#scatter plot\n",
    "# for scatter we need to specify axis\n",
    "\n",
    "df.iplot(kind = 'scatter', x = 'A', y='B')"
   ]
  },
  {
   "cell_type": "code",
   "execution_count": 32,
   "metadata": {},
   "outputs": [
    {
     "data": {
      "application/vnd.plotly.v1+json": {
       "config": {
        "linkText": "Export to plot.ly",
        "plotlyServerURL": "https://plot.ly",
        "showLink": true
       },
       "data": [
        {
         "line": {
          "color": "rgba(255, 153, 51, 1.0)",
          "dash": "solid",
          "shape": "linear",
          "width": 1.3
         },
         "marker": {
          "size": 12,
          "symbol": "circle"
         },
         "mode": "markers",
         "name": "B",
         "text": "",
         "type": "scatter",
         "x": [
          1.204374223794343,
          -0.36906833924077637,
          -0.8122413394730359,
          1.3997697154739082,
          -1.060788107444831,
          0.5515735422646244,
          0.14061940746164717,
          0.16983560391476102,
          -0.5570859045323824,
          1.401481283250656,
          -0.22735734650862433,
          -0.2708226895595077,
          -0.061950652045331865,
          -0.23938387027733657,
          1.108929431106888,
          1.5885217800040747,
          -0.23559972372649096,
          -0.8063452712749882,
          0.13813159002450978,
          -0.6380738291099499,
          -1.3331534209046985,
          -0.1297105180803108,
          -0.10188136335052575,
          -0.30361318214471156,
          0.16497636748164915,
          2.183144065787738,
          -0.7843797606187034,
          -0.7395470414853026,
          -0.527746573443475,
          1.1734247890807368,
          -0.4277744368396613,
          1.586083786095986,
          -0.5946807669553307,
          1.1091000750587032,
          -2.2431426226953897,
          1.0511348504249087,
          -1.7084854938366552,
          0.3848496070527757,
          0.02319587782161051,
          -1.5614243800488814,
          -0.49612500584776853,
          0.36651695375891874,
          -1.9325653893667134,
          -0.009736954747299615,
          0.5770681622022307,
          -1.798736202311587,
          -1.4731317977982321,
          0.9207786842892908,
          -1.4109451145958787,
          1.474614654368594,
          -1.151126450220308,
          1.0959490386459758,
          0.7132001708734125,
          1.5389324759551382,
          -0.3437764307427175,
          -0.1398678689458212,
          -0.5692961334275359,
          -0.3876239117207527,
          2.1646360720109534,
          -0.8575609675505435,
          -0.12246755380214738,
          -0.35793397267560856,
          0.6760702797677335,
          0.6859757866029638,
          1.2172949175056056,
          3.0190435916527885,
          -0.49318883868647506,
          -1.4621624134879483,
          -0.018015512803250384,
          1.0663682852882106,
          0.6097999035722868,
          0.8061363870535981,
          -0.9775765064326202,
          1.9186469222357772,
          -1.3863509250475359,
          -1.729431686804565,
          -0.18184271399933602,
          -0.18613439383574115,
          0.5857466322063433,
          -0.34237696433466347,
          0.3571290493876967,
          0.006789251745769943,
          -3.2125921573829657,
          -0.5584989724527796,
          -0.3753882921486149,
          0.4722926040135994,
          -2.363150670854163,
          -0.6542164839532234,
          0.032211397087431724,
          -1.138463704994325,
          0.16231793129177194,
          0.4166899662658287,
          -0.18051501338281437,
          -0.15668668070654856,
          0.0848144483366338,
          0.6315939404556832,
          0.49811604910354135,
          0.9187915032050765,
          -0.45235784878744706,
          -0.18836177542466803
         ],
         "y": [
          0.28883879264521045,
          -0.9696091384577731,
          0.3240029375457199,
          -2.0275223864420986,
          0.14726848424825328,
          0.678991256631577,
          0.8082635732754649,
          -1.7856463481517608,
          -1.104842817878926,
          -0.46027812161661064,
          -2.1537687431575328,
          0.15945482476116415,
          -1.3018992475704751,
          0.6025453549513595,
          0.2587350592374064,
          0.8027749160485882,
          0.35454868506569975,
          -0.4552450279185263,
          -0.8120909393883892,
          -0.4444774282124728,
          0.36142121866382554,
          1.0066457905843325,
          2.1146963668436967,
          0.3867859557004427,
          0.30976253103714385,
          0.25304790269208116,
          -0.4853018821573321,
          -0.4266472311732564,
          1.0574834426305726,
          0.0727828918106895,
          0.6387061611541429,
          0.35282443058578244,
          1.2613356031803376,
          1.9112868409358335,
          0.35270908010673824,
          0.33830107746460486,
          0.9661583398721716,
          0.7409660674911244,
          -1.0132490082439065,
          1.1381430753784794,
          0.06956837769113201,
          -0.025060573913217636,
          0.5601028658725632,
          1.1067653704904703,
          0.5381067202924643,
          -0.7979118583312437,
          0.6334157782864624,
          -0.5266080026725684,
          0.4833853733012127,
          -0.38299530376008994,
          -0.4357980040855327,
          -0.37062045661239246,
          -1.3414385587779716,
          -0.36590910152001693,
          -0.7034440798878234,
          -1.3876156954916887,
          -1.0926499669857581,
          0.5638637016453981,
          -0.3829013772219426,
          1.9157532042187086,
          0.761887728347791,
          0.8146029084065223,
          0.8231475450342212,
          0.04436894811492774,
          -1.0635463927921698,
          -0.07945247508080461,
          1.882926346755678,
          -0.20579958146507463,
          0.4168470364341955,
          0.36946234527703425,
          1.022023039989263,
          -2.199761127185428,
          0.09350752683525511,
          0.050408117632942985,
          2.190592367226769,
          -0.23747751471779366,
          1.0478758815724036,
          -0.4337413657219337,
          0.20492756400731685,
          2.3831221699587988,
          -0.6802126826044421,
          0.9545186757613414,
          -1.559532703638838,
          -0.2702728387868071,
          0.2237820300585606,
          -0.18639837634820103,
          -0.47969720470485616,
          0.44948289758789267,
          -0.3239630401170654,
          0.12299224412986517,
          -0.2955225352765806,
          -0.06693027092072842,
          -0.3667350661835663,
          -1.1643883307876375,
          0.8995409226274617,
          -1.0630968020526121,
          -2.25782917678505,
          0.17250522033490703,
          -2.0771412668361102,
          -1.498269212529484
         ]
        }
       ],
       "layout": {
        "legend": {
         "bgcolor": "#F5F6F9",
         "font": {
          "color": "#4D5663"
         }
        },
        "paper_bgcolor": "#F5F6F9",
        "plot_bgcolor": "#F5F6F9",
        "template": {
         "data": {
          "bar": [
           {
            "error_x": {
             "color": "#2a3f5f"
            },
            "error_y": {
             "color": "#2a3f5f"
            },
            "marker": {
             "line": {
              "color": "#E5ECF6",
              "width": 0.5
             }
            },
            "type": "bar"
           }
          ],
          "barpolar": [
           {
            "marker": {
             "line": {
              "color": "#E5ECF6",
              "width": 0.5
             }
            },
            "type": "barpolar"
           }
          ],
          "carpet": [
           {
            "aaxis": {
             "endlinecolor": "#2a3f5f",
             "gridcolor": "white",
             "linecolor": "white",
             "minorgridcolor": "white",
             "startlinecolor": "#2a3f5f"
            },
            "baxis": {
             "endlinecolor": "#2a3f5f",
             "gridcolor": "white",
             "linecolor": "white",
             "minorgridcolor": "white",
             "startlinecolor": "#2a3f5f"
            },
            "type": "carpet"
           }
          ],
          "choropleth": [
           {
            "colorbar": {
             "outlinewidth": 0,
             "ticks": ""
            },
            "type": "choropleth"
           }
          ],
          "contour": [
           {
            "colorbar": {
             "outlinewidth": 0,
             "ticks": ""
            },
            "colorscale": [
             [
              0,
              "#0d0887"
             ],
             [
              0.1111111111111111,
              "#46039f"
             ],
             [
              0.2222222222222222,
              "#7201a8"
             ],
             [
              0.3333333333333333,
              "#9c179e"
             ],
             [
              0.4444444444444444,
              "#bd3786"
             ],
             [
              0.5555555555555556,
              "#d8576b"
             ],
             [
              0.6666666666666666,
              "#ed7953"
             ],
             [
              0.7777777777777778,
              "#fb9f3a"
             ],
             [
              0.8888888888888888,
              "#fdca26"
             ],
             [
              1,
              "#f0f921"
             ]
            ],
            "type": "contour"
           }
          ],
          "contourcarpet": [
           {
            "colorbar": {
             "outlinewidth": 0,
             "ticks": ""
            },
            "type": "contourcarpet"
           }
          ],
          "heatmap": [
           {
            "colorbar": {
             "outlinewidth": 0,
             "ticks": ""
            },
            "colorscale": [
             [
              0,
              "#0d0887"
             ],
             [
              0.1111111111111111,
              "#46039f"
             ],
             [
              0.2222222222222222,
              "#7201a8"
             ],
             [
              0.3333333333333333,
              "#9c179e"
             ],
             [
              0.4444444444444444,
              "#bd3786"
             ],
             [
              0.5555555555555556,
              "#d8576b"
             ],
             [
              0.6666666666666666,
              "#ed7953"
             ],
             [
              0.7777777777777778,
              "#fb9f3a"
             ],
             [
              0.8888888888888888,
              "#fdca26"
             ],
             [
              1,
              "#f0f921"
             ]
            ],
            "type": "heatmap"
           }
          ],
          "heatmapgl": [
           {
            "colorbar": {
             "outlinewidth": 0,
             "ticks": ""
            },
            "colorscale": [
             [
              0,
              "#0d0887"
             ],
             [
              0.1111111111111111,
              "#46039f"
             ],
             [
              0.2222222222222222,
              "#7201a8"
             ],
             [
              0.3333333333333333,
              "#9c179e"
             ],
             [
              0.4444444444444444,
              "#bd3786"
             ],
             [
              0.5555555555555556,
              "#d8576b"
             ],
             [
              0.6666666666666666,
              "#ed7953"
             ],
             [
              0.7777777777777778,
              "#fb9f3a"
             ],
             [
              0.8888888888888888,
              "#fdca26"
             ],
             [
              1,
              "#f0f921"
             ]
            ],
            "type": "heatmapgl"
           }
          ],
          "histogram": [
           {
            "marker": {
             "colorbar": {
              "outlinewidth": 0,
              "ticks": ""
             }
            },
            "type": "histogram"
           }
          ],
          "histogram2d": [
           {
            "colorbar": {
             "outlinewidth": 0,
             "ticks": ""
            },
            "colorscale": [
             [
              0,
              "#0d0887"
             ],
             [
              0.1111111111111111,
              "#46039f"
             ],
             [
              0.2222222222222222,
              "#7201a8"
             ],
             [
              0.3333333333333333,
              "#9c179e"
             ],
             [
              0.4444444444444444,
              "#bd3786"
             ],
             [
              0.5555555555555556,
              "#d8576b"
             ],
             [
              0.6666666666666666,
              "#ed7953"
             ],
             [
              0.7777777777777778,
              "#fb9f3a"
             ],
             [
              0.8888888888888888,
              "#fdca26"
             ],
             [
              1,
              "#f0f921"
             ]
            ],
            "type": "histogram2d"
           }
          ],
          "histogram2dcontour": [
           {
            "colorbar": {
             "outlinewidth": 0,
             "ticks": ""
            },
            "colorscale": [
             [
              0,
              "#0d0887"
             ],
             [
              0.1111111111111111,
              "#46039f"
             ],
             [
              0.2222222222222222,
              "#7201a8"
             ],
             [
              0.3333333333333333,
              "#9c179e"
             ],
             [
              0.4444444444444444,
              "#bd3786"
             ],
             [
              0.5555555555555556,
              "#d8576b"
             ],
             [
              0.6666666666666666,
              "#ed7953"
             ],
             [
              0.7777777777777778,
              "#fb9f3a"
             ],
             [
              0.8888888888888888,
              "#fdca26"
             ],
             [
              1,
              "#f0f921"
             ]
            ],
            "type": "histogram2dcontour"
           }
          ],
          "mesh3d": [
           {
            "colorbar": {
             "outlinewidth": 0,
             "ticks": ""
            },
            "type": "mesh3d"
           }
          ],
          "parcoords": [
           {
            "line": {
             "colorbar": {
              "outlinewidth": 0,
              "ticks": ""
             }
            },
            "type": "parcoords"
           }
          ],
          "pie": [
           {
            "automargin": true,
            "type": "pie"
           }
          ],
          "scatter": [
           {
            "marker": {
             "colorbar": {
              "outlinewidth": 0,
              "ticks": ""
             }
            },
            "type": "scatter"
           }
          ],
          "scatter3d": [
           {
            "line": {
             "colorbar": {
              "outlinewidth": 0,
              "ticks": ""
             }
            },
            "marker": {
             "colorbar": {
              "outlinewidth": 0,
              "ticks": ""
             }
            },
            "type": "scatter3d"
           }
          ],
          "scattercarpet": [
           {
            "marker": {
             "colorbar": {
              "outlinewidth": 0,
              "ticks": ""
             }
            },
            "type": "scattercarpet"
           }
          ],
          "scattergeo": [
           {
            "marker": {
             "colorbar": {
              "outlinewidth": 0,
              "ticks": ""
             }
            },
            "type": "scattergeo"
           }
          ],
          "scattergl": [
           {
            "marker": {
             "colorbar": {
              "outlinewidth": 0,
              "ticks": ""
             }
            },
            "type": "scattergl"
           }
          ],
          "scattermapbox": [
           {
            "marker": {
             "colorbar": {
              "outlinewidth": 0,
              "ticks": ""
             }
            },
            "type": "scattermapbox"
           }
          ],
          "scatterpolar": [
           {
            "marker": {
             "colorbar": {
              "outlinewidth": 0,
              "ticks": ""
             }
            },
            "type": "scatterpolar"
           }
          ],
          "scatterpolargl": [
           {
            "marker": {
             "colorbar": {
              "outlinewidth": 0,
              "ticks": ""
             }
            },
            "type": "scatterpolargl"
           }
          ],
          "scatterternary": [
           {
            "marker": {
             "colorbar": {
              "outlinewidth": 0,
              "ticks": ""
             }
            },
            "type": "scatterternary"
           }
          ],
          "surface": [
           {
            "colorbar": {
             "outlinewidth": 0,
             "ticks": ""
            },
            "colorscale": [
             [
              0,
              "#0d0887"
             ],
             [
              0.1111111111111111,
              "#46039f"
             ],
             [
              0.2222222222222222,
              "#7201a8"
             ],
             [
              0.3333333333333333,
              "#9c179e"
             ],
             [
              0.4444444444444444,
              "#bd3786"
             ],
             [
              0.5555555555555556,
              "#d8576b"
             ],
             [
              0.6666666666666666,
              "#ed7953"
             ],
             [
              0.7777777777777778,
              "#fb9f3a"
             ],
             [
              0.8888888888888888,
              "#fdca26"
             ],
             [
              1,
              "#f0f921"
             ]
            ],
            "type": "surface"
           }
          ],
          "table": [
           {
            "cells": {
             "fill": {
              "color": "#EBF0F8"
             },
             "line": {
              "color": "white"
             }
            },
            "header": {
             "fill": {
              "color": "#C8D4E3"
             },
             "line": {
              "color": "white"
             }
            },
            "type": "table"
           }
          ]
         },
         "layout": {
          "annotationdefaults": {
           "arrowcolor": "#2a3f5f",
           "arrowhead": 0,
           "arrowwidth": 1
          },
          "coloraxis": {
           "colorbar": {
            "outlinewidth": 0,
            "ticks": ""
           }
          },
          "colorscale": {
           "diverging": [
            [
             0,
             "#8e0152"
            ],
            [
             0.1,
             "#c51b7d"
            ],
            [
             0.2,
             "#de77ae"
            ],
            [
             0.3,
             "#f1b6da"
            ],
            [
             0.4,
             "#fde0ef"
            ],
            [
             0.5,
             "#f7f7f7"
            ],
            [
             0.6,
             "#e6f5d0"
            ],
            [
             0.7,
             "#b8e186"
            ],
            [
             0.8,
             "#7fbc41"
            ],
            [
             0.9,
             "#4d9221"
            ],
            [
             1,
             "#276419"
            ]
           ],
           "sequential": [
            [
             0,
             "#0d0887"
            ],
            [
             0.1111111111111111,
             "#46039f"
            ],
            [
             0.2222222222222222,
             "#7201a8"
            ],
            [
             0.3333333333333333,
             "#9c179e"
            ],
            [
             0.4444444444444444,
             "#bd3786"
            ],
            [
             0.5555555555555556,
             "#d8576b"
            ],
            [
             0.6666666666666666,
             "#ed7953"
            ],
            [
             0.7777777777777778,
             "#fb9f3a"
            ],
            [
             0.8888888888888888,
             "#fdca26"
            ],
            [
             1,
             "#f0f921"
            ]
           ],
           "sequentialminus": [
            [
             0,
             "#0d0887"
            ],
            [
             0.1111111111111111,
             "#46039f"
            ],
            [
             0.2222222222222222,
             "#7201a8"
            ],
            [
             0.3333333333333333,
             "#9c179e"
            ],
            [
             0.4444444444444444,
             "#bd3786"
            ],
            [
             0.5555555555555556,
             "#d8576b"
            ],
            [
             0.6666666666666666,
             "#ed7953"
            ],
            [
             0.7777777777777778,
             "#fb9f3a"
            ],
            [
             0.8888888888888888,
             "#fdca26"
            ],
            [
             1,
             "#f0f921"
            ]
           ]
          },
          "colorway": [
           "#636efa",
           "#EF553B",
           "#00cc96",
           "#ab63fa",
           "#FFA15A",
           "#19d3f3",
           "#FF6692",
           "#B6E880",
           "#FF97FF",
           "#FECB52"
          ],
          "font": {
           "color": "#2a3f5f"
          },
          "geo": {
           "bgcolor": "white",
           "lakecolor": "white",
           "landcolor": "#E5ECF6",
           "showlakes": true,
           "showland": true,
           "subunitcolor": "white"
          },
          "hoverlabel": {
           "align": "left"
          },
          "hovermode": "closest",
          "mapbox": {
           "style": "light"
          },
          "paper_bgcolor": "white",
          "plot_bgcolor": "#E5ECF6",
          "polar": {
           "angularaxis": {
            "gridcolor": "white",
            "linecolor": "white",
            "ticks": ""
           },
           "bgcolor": "#E5ECF6",
           "radialaxis": {
            "gridcolor": "white",
            "linecolor": "white",
            "ticks": ""
           }
          },
          "scene": {
           "xaxis": {
            "backgroundcolor": "#E5ECF6",
            "gridcolor": "white",
            "gridwidth": 2,
            "linecolor": "white",
            "showbackground": true,
            "ticks": "",
            "zerolinecolor": "white"
           },
           "yaxis": {
            "backgroundcolor": "#E5ECF6",
            "gridcolor": "white",
            "gridwidth": 2,
            "linecolor": "white",
            "showbackground": true,
            "ticks": "",
            "zerolinecolor": "white"
           },
           "zaxis": {
            "backgroundcolor": "#E5ECF6",
            "gridcolor": "white",
            "gridwidth": 2,
            "linecolor": "white",
            "showbackground": true,
            "ticks": "",
            "zerolinecolor": "white"
           }
          },
          "shapedefaults": {
           "line": {
            "color": "#2a3f5f"
           }
          },
          "ternary": {
           "aaxis": {
            "gridcolor": "white",
            "linecolor": "white",
            "ticks": ""
           },
           "baxis": {
            "gridcolor": "white",
            "linecolor": "white",
            "ticks": ""
           },
           "bgcolor": "#E5ECF6",
           "caxis": {
            "gridcolor": "white",
            "linecolor": "white",
            "ticks": ""
           }
          },
          "title": {
           "x": 0.05
          },
          "xaxis": {
           "automargin": true,
           "gridcolor": "white",
           "linecolor": "white",
           "ticks": "",
           "title": {
            "standoff": 15
           },
           "zerolinecolor": "white",
           "zerolinewidth": 2
          },
          "yaxis": {
           "automargin": true,
           "gridcolor": "white",
           "linecolor": "white",
           "ticks": "",
           "title": {
            "standoff": 15
           },
           "zerolinecolor": "white",
           "zerolinewidth": 2
          }
         }
        },
        "title": {
         "font": {
          "color": "#4D5663"
         }
        },
        "xaxis": {
         "gridcolor": "#E1E5ED",
         "showgrid": true,
         "tickfont": {
          "color": "#4D5663"
         },
         "title": {
          "font": {
           "color": "#4D5663"
          },
          "text": ""
         },
         "zerolinecolor": "#E1E5ED"
        },
        "yaxis": {
         "gridcolor": "#E1E5ED",
         "showgrid": true,
         "tickfont": {
          "color": "#4D5663"
         },
         "title": {
          "font": {
           "color": "#4D5663"
          },
          "text": ""
         },
         "zerolinecolor": "#E1E5ED"
        }
       }
      },
      "text/html": [
       "<div>\n",
       "        \n",
       "        \n",
       "            <div id=\"a6fda15d-3745-4798-8fdf-0073e68c817d\" class=\"plotly-graph-div\" style=\"height:525px; width:100%;\"></div>\n",
       "            <script type=\"text/javascript\">\n",
       "                require([\"plotly\"], function(Plotly) {\n",
       "                    window.PLOTLYENV=window.PLOTLYENV || {};\n",
       "                    window.PLOTLYENV.BASE_URL='https://plot.ly';\n",
       "                    \n",
       "                if (document.getElementById(\"a6fda15d-3745-4798-8fdf-0073e68c817d\")) {\n",
       "                    Plotly.newPlot(\n",
       "                        'a6fda15d-3745-4798-8fdf-0073e68c817d',\n",
       "                        [{\"line\": {\"color\": \"rgba(255, 153, 51, 1.0)\", \"dash\": \"solid\", \"shape\": \"linear\", \"width\": 1.3}, \"marker\": {\"size\": 12, \"symbol\": \"circle\"}, \"mode\": \"markers\", \"name\": \"B\", \"text\": \"\", \"type\": \"scatter\", \"x\": [1.204374223794343, -0.36906833924077637, -0.8122413394730359, 1.3997697154739082, -1.060788107444831, 0.5515735422646244, 0.14061940746164717, 0.16983560391476102, -0.5570859045323824, 1.401481283250656, -0.22735734650862433, -0.2708226895595077, -0.061950652045331865, -0.23938387027733657, 1.108929431106888, 1.5885217800040747, -0.23559972372649096, -0.8063452712749882, 0.13813159002450978, -0.6380738291099499, -1.3331534209046985, -0.1297105180803108, -0.10188136335052575, -0.30361318214471156, 0.16497636748164915, 2.183144065787738, -0.7843797606187034, -0.7395470414853026, -0.527746573443475, 1.1734247890807368, -0.4277744368396613, 1.586083786095986, -0.5946807669553307, 1.1091000750587032, -2.2431426226953897, 1.0511348504249087, -1.7084854938366552, 0.3848496070527757, 0.02319587782161051, -1.5614243800488814, -0.49612500584776853, 0.36651695375891874, -1.9325653893667134, -0.009736954747299615, 0.5770681622022307, -1.798736202311587, -1.4731317977982321, 0.9207786842892908, -1.4109451145958787, 1.474614654368594, -1.151126450220308, 1.0959490386459758, 0.7132001708734125, 1.5389324759551382, -0.3437764307427175, -0.1398678689458212, -0.5692961334275359, -0.3876239117207527, 2.1646360720109534, -0.8575609675505435, -0.12246755380214738, -0.35793397267560856, 0.6760702797677335, 0.6859757866029638, 1.2172949175056056, 3.0190435916527885, -0.49318883868647506, -1.4621624134879483, -0.018015512803250384, 1.0663682852882106, 0.6097999035722868, 0.8061363870535981, -0.9775765064326202, 1.9186469222357772, -1.3863509250475359, -1.729431686804565, -0.18184271399933602, -0.18613439383574115, 0.5857466322063433, -0.34237696433466347, 0.3571290493876967, 0.006789251745769943, -3.2125921573829657, -0.5584989724527796, -0.3753882921486149, 0.4722926040135994, -2.363150670854163, -0.6542164839532234, 0.032211397087431724, -1.138463704994325, 0.16231793129177194, 0.4166899662658287, -0.18051501338281437, -0.15668668070654856, 0.0848144483366338, 0.6315939404556832, 0.49811604910354135, 0.9187915032050765, -0.45235784878744706, -0.18836177542466803], \"y\": [0.28883879264521045, -0.9696091384577731, 0.3240029375457199, -2.0275223864420986, 0.14726848424825328, 0.678991256631577, 0.8082635732754649, -1.7856463481517608, -1.104842817878926, -0.46027812161661064, -2.1537687431575328, 0.15945482476116415, -1.3018992475704751, 0.6025453549513595, 0.2587350592374064, 0.8027749160485882, 0.35454868506569975, -0.4552450279185263, -0.8120909393883892, -0.4444774282124728, 0.36142121866382554, 1.0066457905843325, 2.1146963668436967, 0.3867859557004427, 0.30976253103714385, 0.25304790269208116, -0.4853018821573321, -0.4266472311732564, 1.0574834426305726, 0.0727828918106895, 0.6387061611541429, 0.35282443058578244, 1.2613356031803376, 1.9112868409358335, 0.35270908010673824, 0.33830107746460486, 0.9661583398721716, 0.7409660674911244, -1.0132490082439065, 1.1381430753784794, 0.06956837769113201, -0.025060573913217636, 0.5601028658725632, 1.1067653704904703, 0.5381067202924643, -0.7979118583312437, 0.6334157782864624, -0.5266080026725684, 0.4833853733012127, -0.38299530376008994, -0.4357980040855327, -0.37062045661239246, -1.3414385587779716, -0.36590910152001693, -0.7034440798878234, -1.3876156954916887, -1.0926499669857581, 0.5638637016453981, -0.3829013772219426, 1.9157532042187086, 0.761887728347791, 0.8146029084065223, 0.8231475450342212, 0.04436894811492774, -1.0635463927921698, -0.07945247508080461, 1.882926346755678, -0.20579958146507463, 0.4168470364341955, 0.36946234527703425, 1.022023039989263, -2.199761127185428, 0.09350752683525511, 0.050408117632942985, 2.190592367226769, -0.23747751471779366, 1.0478758815724036, -0.4337413657219337, 0.20492756400731685, 2.3831221699587988, -0.6802126826044421, 0.9545186757613414, -1.559532703638838, -0.2702728387868071, 0.2237820300585606, -0.18639837634820103, -0.47969720470485616, 0.44948289758789267, -0.3239630401170654, 0.12299224412986517, -0.2955225352765806, -0.06693027092072842, -0.3667350661835663, -1.1643883307876375, 0.8995409226274617, -1.0630968020526121, -2.25782917678505, 0.17250522033490703, -2.0771412668361102, -1.498269212529484]}],\n",
       "                        {\"legend\": {\"bgcolor\": \"#F5F6F9\", \"font\": {\"color\": \"#4D5663\"}}, \"paper_bgcolor\": \"#F5F6F9\", \"plot_bgcolor\": \"#F5F6F9\", \"template\": {\"data\": {\"bar\": [{\"error_x\": {\"color\": \"#2a3f5f\"}, \"error_y\": {\"color\": \"#2a3f5f\"}, \"marker\": {\"line\": {\"color\": \"#E5ECF6\", \"width\": 0.5}}, \"type\": \"bar\"}], \"barpolar\": [{\"marker\": {\"line\": {\"color\": \"#E5ECF6\", \"width\": 0.5}}, \"type\": \"barpolar\"}], \"carpet\": [{\"aaxis\": {\"endlinecolor\": \"#2a3f5f\", \"gridcolor\": \"white\", \"linecolor\": \"white\", \"minorgridcolor\": \"white\", \"startlinecolor\": \"#2a3f5f\"}, \"baxis\": {\"endlinecolor\": \"#2a3f5f\", \"gridcolor\": \"white\", \"linecolor\": \"white\", \"minorgridcolor\": \"white\", \"startlinecolor\": \"#2a3f5f\"}, \"type\": \"carpet\"}], \"choropleth\": [{\"colorbar\": {\"outlinewidth\": 0, \"ticks\": \"\"}, \"type\": \"choropleth\"}], \"contour\": [{\"colorbar\": {\"outlinewidth\": 0, \"ticks\": \"\"}, \"colorscale\": [[0.0, \"#0d0887\"], [0.1111111111111111, \"#46039f\"], [0.2222222222222222, \"#7201a8\"], [0.3333333333333333, \"#9c179e\"], [0.4444444444444444, \"#bd3786\"], [0.5555555555555556, \"#d8576b\"], [0.6666666666666666, \"#ed7953\"], [0.7777777777777778, \"#fb9f3a\"], [0.8888888888888888, \"#fdca26\"], [1.0, \"#f0f921\"]], \"type\": \"contour\"}], \"contourcarpet\": [{\"colorbar\": {\"outlinewidth\": 0, \"ticks\": \"\"}, \"type\": \"contourcarpet\"}], \"heatmap\": [{\"colorbar\": {\"outlinewidth\": 0, \"ticks\": \"\"}, \"colorscale\": [[0.0, \"#0d0887\"], [0.1111111111111111, \"#46039f\"], [0.2222222222222222, \"#7201a8\"], [0.3333333333333333, \"#9c179e\"], [0.4444444444444444, \"#bd3786\"], [0.5555555555555556, \"#d8576b\"], [0.6666666666666666, \"#ed7953\"], [0.7777777777777778, \"#fb9f3a\"], [0.8888888888888888, \"#fdca26\"], [1.0, \"#f0f921\"]], \"type\": \"heatmap\"}], \"heatmapgl\": [{\"colorbar\": {\"outlinewidth\": 0, \"ticks\": \"\"}, \"colorscale\": [[0.0, \"#0d0887\"], [0.1111111111111111, \"#46039f\"], [0.2222222222222222, \"#7201a8\"], [0.3333333333333333, \"#9c179e\"], [0.4444444444444444, \"#bd3786\"], [0.5555555555555556, \"#d8576b\"], [0.6666666666666666, \"#ed7953\"], [0.7777777777777778, \"#fb9f3a\"], [0.8888888888888888, \"#fdca26\"], [1.0, \"#f0f921\"]], \"type\": \"heatmapgl\"}], \"histogram\": [{\"marker\": {\"colorbar\": {\"outlinewidth\": 0, \"ticks\": \"\"}}, \"type\": \"histogram\"}], \"histogram2d\": [{\"colorbar\": {\"outlinewidth\": 0, \"ticks\": \"\"}, \"colorscale\": [[0.0, \"#0d0887\"], [0.1111111111111111, \"#46039f\"], [0.2222222222222222, \"#7201a8\"], [0.3333333333333333, \"#9c179e\"], [0.4444444444444444, \"#bd3786\"], [0.5555555555555556, \"#d8576b\"], [0.6666666666666666, \"#ed7953\"], [0.7777777777777778, \"#fb9f3a\"], [0.8888888888888888, \"#fdca26\"], [1.0, \"#f0f921\"]], \"type\": \"histogram2d\"}], \"histogram2dcontour\": [{\"colorbar\": {\"outlinewidth\": 0, \"ticks\": \"\"}, \"colorscale\": [[0.0, \"#0d0887\"], [0.1111111111111111, \"#46039f\"], [0.2222222222222222, \"#7201a8\"], [0.3333333333333333, \"#9c179e\"], [0.4444444444444444, \"#bd3786\"], [0.5555555555555556, \"#d8576b\"], [0.6666666666666666, \"#ed7953\"], [0.7777777777777778, \"#fb9f3a\"], [0.8888888888888888, \"#fdca26\"], [1.0, \"#f0f921\"]], \"type\": \"histogram2dcontour\"}], \"mesh3d\": [{\"colorbar\": {\"outlinewidth\": 0, \"ticks\": \"\"}, \"type\": \"mesh3d\"}], \"parcoords\": [{\"line\": {\"colorbar\": {\"outlinewidth\": 0, \"ticks\": \"\"}}, \"type\": \"parcoords\"}], \"pie\": [{\"automargin\": true, \"type\": \"pie\"}], \"scatter\": [{\"marker\": {\"colorbar\": {\"outlinewidth\": 0, \"ticks\": \"\"}}, \"type\": \"scatter\"}], \"scatter3d\": [{\"line\": {\"colorbar\": {\"outlinewidth\": 0, \"ticks\": \"\"}}, \"marker\": {\"colorbar\": {\"outlinewidth\": 0, \"ticks\": \"\"}}, \"type\": \"scatter3d\"}], \"scattercarpet\": [{\"marker\": {\"colorbar\": {\"outlinewidth\": 0, \"ticks\": \"\"}}, \"type\": \"scattercarpet\"}], \"scattergeo\": [{\"marker\": {\"colorbar\": {\"outlinewidth\": 0, \"ticks\": \"\"}}, \"type\": \"scattergeo\"}], \"scattergl\": [{\"marker\": {\"colorbar\": {\"outlinewidth\": 0, \"ticks\": \"\"}}, \"type\": \"scattergl\"}], \"scattermapbox\": [{\"marker\": {\"colorbar\": {\"outlinewidth\": 0, \"ticks\": \"\"}}, \"type\": \"scattermapbox\"}], \"scatterpolar\": [{\"marker\": {\"colorbar\": {\"outlinewidth\": 0, \"ticks\": \"\"}}, \"type\": \"scatterpolar\"}], \"scatterpolargl\": [{\"marker\": {\"colorbar\": {\"outlinewidth\": 0, \"ticks\": \"\"}}, \"type\": \"scatterpolargl\"}], \"scatterternary\": [{\"marker\": {\"colorbar\": {\"outlinewidth\": 0, \"ticks\": \"\"}}, \"type\": \"scatterternary\"}], \"surface\": [{\"colorbar\": {\"outlinewidth\": 0, \"ticks\": \"\"}, \"colorscale\": [[0.0, \"#0d0887\"], [0.1111111111111111, \"#46039f\"], [0.2222222222222222, \"#7201a8\"], [0.3333333333333333, \"#9c179e\"], [0.4444444444444444, \"#bd3786\"], [0.5555555555555556, \"#d8576b\"], [0.6666666666666666, \"#ed7953\"], [0.7777777777777778, \"#fb9f3a\"], [0.8888888888888888, \"#fdca26\"], [1.0, \"#f0f921\"]], \"type\": \"surface\"}], \"table\": [{\"cells\": {\"fill\": {\"color\": \"#EBF0F8\"}, \"line\": {\"color\": \"white\"}}, \"header\": {\"fill\": {\"color\": \"#C8D4E3\"}, \"line\": {\"color\": \"white\"}}, \"type\": \"table\"}]}, \"layout\": {\"annotationdefaults\": {\"arrowcolor\": \"#2a3f5f\", \"arrowhead\": 0, \"arrowwidth\": 1}, \"coloraxis\": {\"colorbar\": {\"outlinewidth\": 0, \"ticks\": \"\"}}, \"colorscale\": {\"diverging\": [[0, \"#8e0152\"], [0.1, \"#c51b7d\"], [0.2, \"#de77ae\"], [0.3, \"#f1b6da\"], [0.4, \"#fde0ef\"], [0.5, \"#f7f7f7\"], [0.6, \"#e6f5d0\"], [0.7, \"#b8e186\"], [0.8, \"#7fbc41\"], [0.9, \"#4d9221\"], [1, \"#276419\"]], \"sequential\": [[0.0, \"#0d0887\"], [0.1111111111111111, \"#46039f\"], [0.2222222222222222, \"#7201a8\"], [0.3333333333333333, \"#9c179e\"], [0.4444444444444444, \"#bd3786\"], [0.5555555555555556, \"#d8576b\"], [0.6666666666666666, \"#ed7953\"], [0.7777777777777778, \"#fb9f3a\"], [0.8888888888888888, \"#fdca26\"], [1.0, \"#f0f921\"]], \"sequentialminus\": [[0.0, \"#0d0887\"], [0.1111111111111111, \"#46039f\"], [0.2222222222222222, \"#7201a8\"], [0.3333333333333333, \"#9c179e\"], [0.4444444444444444, \"#bd3786\"], [0.5555555555555556, \"#d8576b\"], [0.6666666666666666, \"#ed7953\"], [0.7777777777777778, \"#fb9f3a\"], [0.8888888888888888, \"#fdca26\"], [1.0, \"#f0f921\"]]}, \"colorway\": [\"#636efa\", \"#EF553B\", \"#00cc96\", \"#ab63fa\", \"#FFA15A\", \"#19d3f3\", \"#FF6692\", \"#B6E880\", \"#FF97FF\", \"#FECB52\"], \"font\": {\"color\": \"#2a3f5f\"}, \"geo\": {\"bgcolor\": \"white\", \"lakecolor\": \"white\", \"landcolor\": \"#E5ECF6\", \"showlakes\": true, \"showland\": true, \"subunitcolor\": \"white\"}, \"hoverlabel\": {\"align\": \"left\"}, \"hovermode\": \"closest\", \"mapbox\": {\"style\": \"light\"}, \"paper_bgcolor\": \"white\", \"plot_bgcolor\": \"#E5ECF6\", \"polar\": {\"angularaxis\": {\"gridcolor\": \"white\", \"linecolor\": \"white\", \"ticks\": \"\"}, \"bgcolor\": \"#E5ECF6\", \"radialaxis\": {\"gridcolor\": \"white\", \"linecolor\": \"white\", \"ticks\": \"\"}}, \"scene\": {\"xaxis\": {\"backgroundcolor\": \"#E5ECF6\", \"gridcolor\": \"white\", \"gridwidth\": 2, \"linecolor\": \"white\", \"showbackground\": true, \"ticks\": \"\", \"zerolinecolor\": \"white\"}, \"yaxis\": {\"backgroundcolor\": \"#E5ECF6\", \"gridcolor\": \"white\", \"gridwidth\": 2, \"linecolor\": \"white\", \"showbackground\": true, \"ticks\": \"\", \"zerolinecolor\": \"white\"}, \"zaxis\": {\"backgroundcolor\": \"#E5ECF6\", \"gridcolor\": \"white\", \"gridwidth\": 2, \"linecolor\": \"white\", \"showbackground\": true, \"ticks\": \"\", \"zerolinecolor\": \"white\"}}, \"shapedefaults\": {\"line\": {\"color\": \"#2a3f5f\"}}, \"ternary\": {\"aaxis\": {\"gridcolor\": \"white\", \"linecolor\": \"white\", \"ticks\": \"\"}, \"baxis\": {\"gridcolor\": \"white\", \"linecolor\": \"white\", \"ticks\": \"\"}, \"bgcolor\": \"#E5ECF6\", \"caxis\": {\"gridcolor\": \"white\", \"linecolor\": \"white\", \"ticks\": \"\"}}, \"title\": {\"x\": 0.05}, \"xaxis\": {\"automargin\": true, \"gridcolor\": \"white\", \"linecolor\": \"white\", \"ticks\": \"\", \"title\": {\"standoff\": 15}, \"zerolinecolor\": \"white\", \"zerolinewidth\": 2}, \"yaxis\": {\"automargin\": true, \"gridcolor\": \"white\", \"linecolor\": \"white\", \"ticks\": \"\", \"title\": {\"standoff\": 15}, \"zerolinecolor\": \"white\", \"zerolinewidth\": 2}}}, \"title\": {\"font\": {\"color\": \"#4D5663\"}}, \"xaxis\": {\"gridcolor\": \"#E1E5ED\", \"showgrid\": true, \"tickfont\": {\"color\": \"#4D5663\"}, \"title\": {\"font\": {\"color\": \"#4D5663\"}, \"text\": \"\"}, \"zerolinecolor\": \"#E1E5ED\"}, \"yaxis\": {\"gridcolor\": \"#E1E5ED\", \"showgrid\": true, \"tickfont\": {\"color\": \"#4D5663\"}, \"title\": {\"font\": {\"color\": \"#4D5663\"}, \"text\": \"\"}, \"zerolinecolor\": \"#E1E5ED\"}},\n",
       "                        {\"showLink\": true, \"linkText\": \"Export to plot.ly\", \"plotlyServerURL\": \"https://plot.ly\", \"responsive\": true}\n",
       "                    ).then(function(){\n",
       "                            \n",
       "var gd = document.getElementById('a6fda15d-3745-4798-8fdf-0073e68c817d');\n",
       "var x = new MutationObserver(function (mutations, observer) {{\n",
       "        var display = window.getComputedStyle(gd).display;\n",
       "        if (!display || display === 'none') {{\n",
       "            console.log([gd, 'removed!']);\n",
       "            Plotly.purge(gd);\n",
       "            observer.disconnect();\n",
       "        }}\n",
       "}});\n",
       "\n",
       "// Listen for the removal of the full notebook cells\n",
       "var notebookContainer = gd.closest('#notebook-container');\n",
       "if (notebookContainer) {{\n",
       "    x.observe(notebookContainer, {childList: true});\n",
       "}}\n",
       "\n",
       "// Listen for the clearing of the current output cell\n",
       "var outputEl = gd.closest('.output');\n",
       "if (outputEl) {{\n",
       "    x.observe(outputEl, {childList: true});\n",
       "}}\n",
       "\n",
       "                        })\n",
       "                };\n",
       "                });\n",
       "            </script>\n",
       "        </div>"
      ]
     },
     "metadata": {},
     "output_type": "display_data"
    }
   ],
   "source": [
    "#scatter plot\n",
    "# for scatter we need to specify axis\n",
    "\n",
    "df.iplot(kind = 'scatter', x = 'A', y='B', mode = 'markers')"
   ]
  },
  {
   "cell_type": "code",
   "execution_count": 33,
   "metadata": {},
   "outputs": [
    {
     "data": {
      "text/html": [
       "<div>\n",
       "<style scoped>\n",
       "    .dataframe tbody tr th:only-of-type {\n",
       "        vertical-align: middle;\n",
       "    }\n",
       "\n",
       "    .dataframe tbody tr th {\n",
       "        vertical-align: top;\n",
       "    }\n",
       "\n",
       "    .dataframe thead th {\n",
       "        text-align: right;\n",
       "    }\n",
       "</style>\n",
       "<table border=\"1\" class=\"dataframe\">\n",
       "  <thead>\n",
       "    <tr style=\"text-align: right;\">\n",
       "      <th></th>\n",
       "      <th>Category</th>\n",
       "      <th>Values</th>\n",
       "    </tr>\n",
       "  </thead>\n",
       "  <tbody>\n",
       "    <tr>\n",
       "      <th>0</th>\n",
       "      <td>A</td>\n",
       "      <td>32</td>\n",
       "    </tr>\n",
       "    <tr>\n",
       "      <th>1</th>\n",
       "      <td>B</td>\n",
       "      <td>43</td>\n",
       "    </tr>\n",
       "    <tr>\n",
       "      <th>2</th>\n",
       "      <td>C</td>\n",
       "      <td>50</td>\n",
       "    </tr>\n",
       "  </tbody>\n",
       "</table>\n",
       "</div>"
      ],
      "text/plain": [
       "  Category  Values\n",
       "0        A      32\n",
       "1        B      43\n",
       "2        C      50"
      ]
     },
     "execution_count": 33,
     "metadata": {},
     "output_type": "execute_result"
    }
   ],
   "source": [
    "df2.head()"
   ]
  },
  {
   "cell_type": "code",
   "execution_count": 34,
   "metadata": {},
   "outputs": [
    {
     "data": {
      "application/vnd.plotly.v1+json": {
       "config": {
        "linkText": "Export to plot.ly",
        "plotlyServerURL": "https://plot.ly",
        "showLink": true
       },
       "data": [
        {
         "marker": {
          "color": "rgba(255, 153, 51, 0.6)",
          "line": {
           "color": "rgba(255, 153, 51, 1.0)",
           "width": 1
          }
         },
         "name": "Values",
         "orientation": "v",
         "text": "",
         "type": "bar",
         "x": [
          "A",
          "B",
          "C"
         ],
         "y": [
          32,
          43,
          50
         ]
        }
       ],
       "layout": {
        "legend": {
         "bgcolor": "#F5F6F9",
         "font": {
          "color": "#4D5663"
         }
        },
        "paper_bgcolor": "#F5F6F9",
        "plot_bgcolor": "#F5F6F9",
        "template": {
         "data": {
          "bar": [
           {
            "error_x": {
             "color": "#2a3f5f"
            },
            "error_y": {
             "color": "#2a3f5f"
            },
            "marker": {
             "line": {
              "color": "#E5ECF6",
              "width": 0.5
             }
            },
            "type": "bar"
           }
          ],
          "barpolar": [
           {
            "marker": {
             "line": {
              "color": "#E5ECF6",
              "width": 0.5
             }
            },
            "type": "barpolar"
           }
          ],
          "carpet": [
           {
            "aaxis": {
             "endlinecolor": "#2a3f5f",
             "gridcolor": "white",
             "linecolor": "white",
             "minorgridcolor": "white",
             "startlinecolor": "#2a3f5f"
            },
            "baxis": {
             "endlinecolor": "#2a3f5f",
             "gridcolor": "white",
             "linecolor": "white",
             "minorgridcolor": "white",
             "startlinecolor": "#2a3f5f"
            },
            "type": "carpet"
           }
          ],
          "choropleth": [
           {
            "colorbar": {
             "outlinewidth": 0,
             "ticks": ""
            },
            "type": "choropleth"
           }
          ],
          "contour": [
           {
            "colorbar": {
             "outlinewidth": 0,
             "ticks": ""
            },
            "colorscale": [
             [
              0,
              "#0d0887"
             ],
             [
              0.1111111111111111,
              "#46039f"
             ],
             [
              0.2222222222222222,
              "#7201a8"
             ],
             [
              0.3333333333333333,
              "#9c179e"
             ],
             [
              0.4444444444444444,
              "#bd3786"
             ],
             [
              0.5555555555555556,
              "#d8576b"
             ],
             [
              0.6666666666666666,
              "#ed7953"
             ],
             [
              0.7777777777777778,
              "#fb9f3a"
             ],
             [
              0.8888888888888888,
              "#fdca26"
             ],
             [
              1,
              "#f0f921"
             ]
            ],
            "type": "contour"
           }
          ],
          "contourcarpet": [
           {
            "colorbar": {
             "outlinewidth": 0,
             "ticks": ""
            },
            "type": "contourcarpet"
           }
          ],
          "heatmap": [
           {
            "colorbar": {
             "outlinewidth": 0,
             "ticks": ""
            },
            "colorscale": [
             [
              0,
              "#0d0887"
             ],
             [
              0.1111111111111111,
              "#46039f"
             ],
             [
              0.2222222222222222,
              "#7201a8"
             ],
             [
              0.3333333333333333,
              "#9c179e"
             ],
             [
              0.4444444444444444,
              "#bd3786"
             ],
             [
              0.5555555555555556,
              "#d8576b"
             ],
             [
              0.6666666666666666,
              "#ed7953"
             ],
             [
              0.7777777777777778,
              "#fb9f3a"
             ],
             [
              0.8888888888888888,
              "#fdca26"
             ],
             [
              1,
              "#f0f921"
             ]
            ],
            "type": "heatmap"
           }
          ],
          "heatmapgl": [
           {
            "colorbar": {
             "outlinewidth": 0,
             "ticks": ""
            },
            "colorscale": [
             [
              0,
              "#0d0887"
             ],
             [
              0.1111111111111111,
              "#46039f"
             ],
             [
              0.2222222222222222,
              "#7201a8"
             ],
             [
              0.3333333333333333,
              "#9c179e"
             ],
             [
              0.4444444444444444,
              "#bd3786"
             ],
             [
              0.5555555555555556,
              "#d8576b"
             ],
             [
              0.6666666666666666,
              "#ed7953"
             ],
             [
              0.7777777777777778,
              "#fb9f3a"
             ],
             [
              0.8888888888888888,
              "#fdca26"
             ],
             [
              1,
              "#f0f921"
             ]
            ],
            "type": "heatmapgl"
           }
          ],
          "histogram": [
           {
            "marker": {
             "colorbar": {
              "outlinewidth": 0,
              "ticks": ""
             }
            },
            "type": "histogram"
           }
          ],
          "histogram2d": [
           {
            "colorbar": {
             "outlinewidth": 0,
             "ticks": ""
            },
            "colorscale": [
             [
              0,
              "#0d0887"
             ],
             [
              0.1111111111111111,
              "#46039f"
             ],
             [
              0.2222222222222222,
              "#7201a8"
             ],
             [
              0.3333333333333333,
              "#9c179e"
             ],
             [
              0.4444444444444444,
              "#bd3786"
             ],
             [
              0.5555555555555556,
              "#d8576b"
             ],
             [
              0.6666666666666666,
              "#ed7953"
             ],
             [
              0.7777777777777778,
              "#fb9f3a"
             ],
             [
              0.8888888888888888,
              "#fdca26"
             ],
             [
              1,
              "#f0f921"
             ]
            ],
            "type": "histogram2d"
           }
          ],
          "histogram2dcontour": [
           {
            "colorbar": {
             "outlinewidth": 0,
             "ticks": ""
            },
            "colorscale": [
             [
              0,
              "#0d0887"
             ],
             [
              0.1111111111111111,
              "#46039f"
             ],
             [
              0.2222222222222222,
              "#7201a8"
             ],
             [
              0.3333333333333333,
              "#9c179e"
             ],
             [
              0.4444444444444444,
              "#bd3786"
             ],
             [
              0.5555555555555556,
              "#d8576b"
             ],
             [
              0.6666666666666666,
              "#ed7953"
             ],
             [
              0.7777777777777778,
              "#fb9f3a"
             ],
             [
              0.8888888888888888,
              "#fdca26"
             ],
             [
              1,
              "#f0f921"
             ]
            ],
            "type": "histogram2dcontour"
           }
          ],
          "mesh3d": [
           {
            "colorbar": {
             "outlinewidth": 0,
             "ticks": ""
            },
            "type": "mesh3d"
           }
          ],
          "parcoords": [
           {
            "line": {
             "colorbar": {
              "outlinewidth": 0,
              "ticks": ""
             }
            },
            "type": "parcoords"
           }
          ],
          "pie": [
           {
            "automargin": true,
            "type": "pie"
           }
          ],
          "scatter": [
           {
            "marker": {
             "colorbar": {
              "outlinewidth": 0,
              "ticks": ""
             }
            },
            "type": "scatter"
           }
          ],
          "scatter3d": [
           {
            "line": {
             "colorbar": {
              "outlinewidth": 0,
              "ticks": ""
             }
            },
            "marker": {
             "colorbar": {
              "outlinewidth": 0,
              "ticks": ""
             }
            },
            "type": "scatter3d"
           }
          ],
          "scattercarpet": [
           {
            "marker": {
             "colorbar": {
              "outlinewidth": 0,
              "ticks": ""
             }
            },
            "type": "scattercarpet"
           }
          ],
          "scattergeo": [
           {
            "marker": {
             "colorbar": {
              "outlinewidth": 0,
              "ticks": ""
             }
            },
            "type": "scattergeo"
           }
          ],
          "scattergl": [
           {
            "marker": {
             "colorbar": {
              "outlinewidth": 0,
              "ticks": ""
             }
            },
            "type": "scattergl"
           }
          ],
          "scattermapbox": [
           {
            "marker": {
             "colorbar": {
              "outlinewidth": 0,
              "ticks": ""
             }
            },
            "type": "scattermapbox"
           }
          ],
          "scatterpolar": [
           {
            "marker": {
             "colorbar": {
              "outlinewidth": 0,
              "ticks": ""
             }
            },
            "type": "scatterpolar"
           }
          ],
          "scatterpolargl": [
           {
            "marker": {
             "colorbar": {
              "outlinewidth": 0,
              "ticks": ""
             }
            },
            "type": "scatterpolargl"
           }
          ],
          "scatterternary": [
           {
            "marker": {
             "colorbar": {
              "outlinewidth": 0,
              "ticks": ""
             }
            },
            "type": "scatterternary"
           }
          ],
          "surface": [
           {
            "colorbar": {
             "outlinewidth": 0,
             "ticks": ""
            },
            "colorscale": [
             [
              0,
              "#0d0887"
             ],
             [
              0.1111111111111111,
              "#46039f"
             ],
             [
              0.2222222222222222,
              "#7201a8"
             ],
             [
              0.3333333333333333,
              "#9c179e"
             ],
             [
              0.4444444444444444,
              "#bd3786"
             ],
             [
              0.5555555555555556,
              "#d8576b"
             ],
             [
              0.6666666666666666,
              "#ed7953"
             ],
             [
              0.7777777777777778,
              "#fb9f3a"
             ],
             [
              0.8888888888888888,
              "#fdca26"
             ],
             [
              1,
              "#f0f921"
             ]
            ],
            "type": "surface"
           }
          ],
          "table": [
           {
            "cells": {
             "fill": {
              "color": "#EBF0F8"
             },
             "line": {
              "color": "white"
             }
            },
            "header": {
             "fill": {
              "color": "#C8D4E3"
             },
             "line": {
              "color": "white"
             }
            },
            "type": "table"
           }
          ]
         },
         "layout": {
          "annotationdefaults": {
           "arrowcolor": "#2a3f5f",
           "arrowhead": 0,
           "arrowwidth": 1
          },
          "coloraxis": {
           "colorbar": {
            "outlinewidth": 0,
            "ticks": ""
           }
          },
          "colorscale": {
           "diverging": [
            [
             0,
             "#8e0152"
            ],
            [
             0.1,
             "#c51b7d"
            ],
            [
             0.2,
             "#de77ae"
            ],
            [
             0.3,
             "#f1b6da"
            ],
            [
             0.4,
             "#fde0ef"
            ],
            [
             0.5,
             "#f7f7f7"
            ],
            [
             0.6,
             "#e6f5d0"
            ],
            [
             0.7,
             "#b8e186"
            ],
            [
             0.8,
             "#7fbc41"
            ],
            [
             0.9,
             "#4d9221"
            ],
            [
             1,
             "#276419"
            ]
           ],
           "sequential": [
            [
             0,
             "#0d0887"
            ],
            [
             0.1111111111111111,
             "#46039f"
            ],
            [
             0.2222222222222222,
             "#7201a8"
            ],
            [
             0.3333333333333333,
             "#9c179e"
            ],
            [
             0.4444444444444444,
             "#bd3786"
            ],
            [
             0.5555555555555556,
             "#d8576b"
            ],
            [
             0.6666666666666666,
             "#ed7953"
            ],
            [
             0.7777777777777778,
             "#fb9f3a"
            ],
            [
             0.8888888888888888,
             "#fdca26"
            ],
            [
             1,
             "#f0f921"
            ]
           ],
           "sequentialminus": [
            [
             0,
             "#0d0887"
            ],
            [
             0.1111111111111111,
             "#46039f"
            ],
            [
             0.2222222222222222,
             "#7201a8"
            ],
            [
             0.3333333333333333,
             "#9c179e"
            ],
            [
             0.4444444444444444,
             "#bd3786"
            ],
            [
             0.5555555555555556,
             "#d8576b"
            ],
            [
             0.6666666666666666,
             "#ed7953"
            ],
            [
             0.7777777777777778,
             "#fb9f3a"
            ],
            [
             0.8888888888888888,
             "#fdca26"
            ],
            [
             1,
             "#f0f921"
            ]
           ]
          },
          "colorway": [
           "#636efa",
           "#EF553B",
           "#00cc96",
           "#ab63fa",
           "#FFA15A",
           "#19d3f3",
           "#FF6692",
           "#B6E880",
           "#FF97FF",
           "#FECB52"
          ],
          "font": {
           "color": "#2a3f5f"
          },
          "geo": {
           "bgcolor": "white",
           "lakecolor": "white",
           "landcolor": "#E5ECF6",
           "showlakes": true,
           "showland": true,
           "subunitcolor": "white"
          },
          "hoverlabel": {
           "align": "left"
          },
          "hovermode": "closest",
          "mapbox": {
           "style": "light"
          },
          "paper_bgcolor": "white",
          "plot_bgcolor": "#E5ECF6",
          "polar": {
           "angularaxis": {
            "gridcolor": "white",
            "linecolor": "white",
            "ticks": ""
           },
           "bgcolor": "#E5ECF6",
           "radialaxis": {
            "gridcolor": "white",
            "linecolor": "white",
            "ticks": ""
           }
          },
          "scene": {
           "xaxis": {
            "backgroundcolor": "#E5ECF6",
            "gridcolor": "white",
            "gridwidth": 2,
            "linecolor": "white",
            "showbackground": true,
            "ticks": "",
            "zerolinecolor": "white"
           },
           "yaxis": {
            "backgroundcolor": "#E5ECF6",
            "gridcolor": "white",
            "gridwidth": 2,
            "linecolor": "white",
            "showbackground": true,
            "ticks": "",
            "zerolinecolor": "white"
           },
           "zaxis": {
            "backgroundcolor": "#E5ECF6",
            "gridcolor": "white",
            "gridwidth": 2,
            "linecolor": "white",
            "showbackground": true,
            "ticks": "",
            "zerolinecolor": "white"
           }
          },
          "shapedefaults": {
           "line": {
            "color": "#2a3f5f"
           }
          },
          "ternary": {
           "aaxis": {
            "gridcolor": "white",
            "linecolor": "white",
            "ticks": ""
           },
           "baxis": {
            "gridcolor": "white",
            "linecolor": "white",
            "ticks": ""
           },
           "bgcolor": "#E5ECF6",
           "caxis": {
            "gridcolor": "white",
            "linecolor": "white",
            "ticks": ""
           }
          },
          "title": {
           "x": 0.05
          },
          "xaxis": {
           "automargin": true,
           "gridcolor": "white",
           "linecolor": "white",
           "ticks": "",
           "title": {
            "standoff": 15
           },
           "zerolinecolor": "white",
           "zerolinewidth": 2
          },
          "yaxis": {
           "automargin": true,
           "gridcolor": "white",
           "linecolor": "white",
           "ticks": "",
           "title": {
            "standoff": 15
           },
           "zerolinecolor": "white",
           "zerolinewidth": 2
          }
         }
        },
        "title": {
         "font": {
          "color": "#4D5663"
         }
        },
        "xaxis": {
         "gridcolor": "#E1E5ED",
         "showgrid": true,
         "tickfont": {
          "color": "#4D5663"
         },
         "title": {
          "font": {
           "color": "#4D5663"
          },
          "text": ""
         },
         "zerolinecolor": "#E1E5ED"
        },
        "yaxis": {
         "gridcolor": "#E1E5ED",
         "showgrid": true,
         "tickfont": {
          "color": "#4D5663"
         },
         "title": {
          "font": {
           "color": "#4D5663"
          },
          "text": ""
         },
         "zerolinecolor": "#E1E5ED"
        }
       }
      },
      "text/html": [
       "<div>\n",
       "        \n",
       "        \n",
       "            <div id=\"16efcfa2-3039-436d-9f76-25d354f4e159\" class=\"plotly-graph-div\" style=\"height:525px; width:100%;\"></div>\n",
       "            <script type=\"text/javascript\">\n",
       "                require([\"plotly\"], function(Plotly) {\n",
       "                    window.PLOTLYENV=window.PLOTLYENV || {};\n",
       "                    window.PLOTLYENV.BASE_URL='https://plot.ly';\n",
       "                    \n",
       "                if (document.getElementById(\"16efcfa2-3039-436d-9f76-25d354f4e159\")) {\n",
       "                    Plotly.newPlot(\n",
       "                        '16efcfa2-3039-436d-9f76-25d354f4e159',\n",
       "                        [{\"marker\": {\"color\": \"rgba(255, 153, 51, 0.6)\", \"line\": {\"color\": \"rgba(255, 153, 51, 1.0)\", \"width\": 1}}, \"name\": \"Values\", \"orientation\": \"v\", \"text\": \"\", \"type\": \"bar\", \"x\": [\"A\", \"B\", \"C\"], \"y\": [32, 43, 50]}],\n",
       "                        {\"legend\": {\"bgcolor\": \"#F5F6F9\", \"font\": {\"color\": \"#4D5663\"}}, \"paper_bgcolor\": \"#F5F6F9\", \"plot_bgcolor\": \"#F5F6F9\", \"template\": {\"data\": {\"bar\": [{\"error_x\": {\"color\": \"#2a3f5f\"}, \"error_y\": {\"color\": \"#2a3f5f\"}, \"marker\": {\"line\": {\"color\": \"#E5ECF6\", \"width\": 0.5}}, \"type\": \"bar\"}], \"barpolar\": [{\"marker\": {\"line\": {\"color\": \"#E5ECF6\", \"width\": 0.5}}, \"type\": \"barpolar\"}], \"carpet\": [{\"aaxis\": {\"endlinecolor\": \"#2a3f5f\", \"gridcolor\": \"white\", \"linecolor\": \"white\", \"minorgridcolor\": \"white\", \"startlinecolor\": \"#2a3f5f\"}, \"baxis\": {\"endlinecolor\": \"#2a3f5f\", \"gridcolor\": \"white\", \"linecolor\": \"white\", \"minorgridcolor\": \"white\", \"startlinecolor\": \"#2a3f5f\"}, \"type\": \"carpet\"}], \"choropleth\": [{\"colorbar\": {\"outlinewidth\": 0, \"ticks\": \"\"}, \"type\": \"choropleth\"}], \"contour\": [{\"colorbar\": {\"outlinewidth\": 0, \"ticks\": \"\"}, \"colorscale\": [[0.0, \"#0d0887\"], [0.1111111111111111, \"#46039f\"], [0.2222222222222222, \"#7201a8\"], [0.3333333333333333, \"#9c179e\"], [0.4444444444444444, \"#bd3786\"], [0.5555555555555556, \"#d8576b\"], [0.6666666666666666, \"#ed7953\"], [0.7777777777777778, \"#fb9f3a\"], [0.8888888888888888, \"#fdca26\"], [1.0, \"#f0f921\"]], \"type\": \"contour\"}], \"contourcarpet\": [{\"colorbar\": {\"outlinewidth\": 0, \"ticks\": \"\"}, \"type\": \"contourcarpet\"}], \"heatmap\": [{\"colorbar\": {\"outlinewidth\": 0, \"ticks\": \"\"}, \"colorscale\": [[0.0, \"#0d0887\"], [0.1111111111111111, \"#46039f\"], [0.2222222222222222, \"#7201a8\"], [0.3333333333333333, \"#9c179e\"], [0.4444444444444444, \"#bd3786\"], [0.5555555555555556, \"#d8576b\"], [0.6666666666666666, \"#ed7953\"], [0.7777777777777778, \"#fb9f3a\"], [0.8888888888888888, \"#fdca26\"], [1.0, \"#f0f921\"]], \"type\": \"heatmap\"}], \"heatmapgl\": [{\"colorbar\": {\"outlinewidth\": 0, \"ticks\": \"\"}, \"colorscale\": [[0.0, \"#0d0887\"], [0.1111111111111111, \"#46039f\"], [0.2222222222222222, \"#7201a8\"], [0.3333333333333333, \"#9c179e\"], [0.4444444444444444, \"#bd3786\"], [0.5555555555555556, \"#d8576b\"], [0.6666666666666666, \"#ed7953\"], [0.7777777777777778, \"#fb9f3a\"], [0.8888888888888888, \"#fdca26\"], [1.0, \"#f0f921\"]], \"type\": \"heatmapgl\"}], \"histogram\": [{\"marker\": {\"colorbar\": {\"outlinewidth\": 0, \"ticks\": \"\"}}, \"type\": \"histogram\"}], \"histogram2d\": [{\"colorbar\": {\"outlinewidth\": 0, \"ticks\": \"\"}, \"colorscale\": [[0.0, \"#0d0887\"], [0.1111111111111111, \"#46039f\"], [0.2222222222222222, \"#7201a8\"], [0.3333333333333333, \"#9c179e\"], [0.4444444444444444, \"#bd3786\"], [0.5555555555555556, \"#d8576b\"], [0.6666666666666666, \"#ed7953\"], [0.7777777777777778, \"#fb9f3a\"], [0.8888888888888888, \"#fdca26\"], [1.0, \"#f0f921\"]], \"type\": \"histogram2d\"}], \"histogram2dcontour\": [{\"colorbar\": {\"outlinewidth\": 0, \"ticks\": \"\"}, \"colorscale\": [[0.0, \"#0d0887\"], [0.1111111111111111, \"#46039f\"], [0.2222222222222222, \"#7201a8\"], [0.3333333333333333, \"#9c179e\"], [0.4444444444444444, \"#bd3786\"], [0.5555555555555556, \"#d8576b\"], [0.6666666666666666, \"#ed7953\"], [0.7777777777777778, \"#fb9f3a\"], [0.8888888888888888, \"#fdca26\"], [1.0, \"#f0f921\"]], \"type\": \"histogram2dcontour\"}], \"mesh3d\": [{\"colorbar\": {\"outlinewidth\": 0, \"ticks\": \"\"}, \"type\": \"mesh3d\"}], \"parcoords\": [{\"line\": {\"colorbar\": {\"outlinewidth\": 0, \"ticks\": \"\"}}, \"type\": \"parcoords\"}], \"pie\": [{\"automargin\": true, \"type\": \"pie\"}], \"scatter\": [{\"marker\": {\"colorbar\": {\"outlinewidth\": 0, \"ticks\": \"\"}}, \"type\": \"scatter\"}], \"scatter3d\": [{\"line\": {\"colorbar\": {\"outlinewidth\": 0, \"ticks\": \"\"}}, \"marker\": {\"colorbar\": {\"outlinewidth\": 0, \"ticks\": \"\"}}, \"type\": \"scatter3d\"}], \"scattercarpet\": [{\"marker\": {\"colorbar\": {\"outlinewidth\": 0, \"ticks\": \"\"}}, \"type\": \"scattercarpet\"}], \"scattergeo\": [{\"marker\": {\"colorbar\": {\"outlinewidth\": 0, \"ticks\": \"\"}}, \"type\": \"scattergeo\"}], \"scattergl\": [{\"marker\": {\"colorbar\": {\"outlinewidth\": 0, \"ticks\": \"\"}}, \"type\": \"scattergl\"}], \"scattermapbox\": [{\"marker\": {\"colorbar\": {\"outlinewidth\": 0, \"ticks\": \"\"}}, \"type\": \"scattermapbox\"}], \"scatterpolar\": [{\"marker\": {\"colorbar\": {\"outlinewidth\": 0, \"ticks\": \"\"}}, \"type\": \"scatterpolar\"}], \"scatterpolargl\": [{\"marker\": {\"colorbar\": {\"outlinewidth\": 0, \"ticks\": \"\"}}, \"type\": \"scatterpolargl\"}], \"scatterternary\": [{\"marker\": {\"colorbar\": {\"outlinewidth\": 0, \"ticks\": \"\"}}, \"type\": \"scatterternary\"}], \"surface\": [{\"colorbar\": {\"outlinewidth\": 0, \"ticks\": \"\"}, \"colorscale\": [[0.0, \"#0d0887\"], [0.1111111111111111, \"#46039f\"], [0.2222222222222222, \"#7201a8\"], [0.3333333333333333, \"#9c179e\"], [0.4444444444444444, \"#bd3786\"], [0.5555555555555556, \"#d8576b\"], [0.6666666666666666, \"#ed7953\"], [0.7777777777777778, \"#fb9f3a\"], [0.8888888888888888, \"#fdca26\"], [1.0, \"#f0f921\"]], \"type\": \"surface\"}], \"table\": [{\"cells\": {\"fill\": {\"color\": \"#EBF0F8\"}, \"line\": {\"color\": \"white\"}}, \"header\": {\"fill\": {\"color\": \"#C8D4E3\"}, \"line\": {\"color\": \"white\"}}, \"type\": \"table\"}]}, \"layout\": {\"annotationdefaults\": {\"arrowcolor\": \"#2a3f5f\", \"arrowhead\": 0, \"arrowwidth\": 1}, \"coloraxis\": {\"colorbar\": {\"outlinewidth\": 0, \"ticks\": \"\"}}, \"colorscale\": {\"diverging\": [[0, \"#8e0152\"], [0.1, \"#c51b7d\"], [0.2, \"#de77ae\"], [0.3, \"#f1b6da\"], [0.4, \"#fde0ef\"], [0.5, \"#f7f7f7\"], [0.6, \"#e6f5d0\"], [0.7, \"#b8e186\"], [0.8, \"#7fbc41\"], [0.9, \"#4d9221\"], [1, \"#276419\"]], \"sequential\": [[0.0, \"#0d0887\"], [0.1111111111111111, \"#46039f\"], [0.2222222222222222, \"#7201a8\"], [0.3333333333333333, \"#9c179e\"], [0.4444444444444444, \"#bd3786\"], [0.5555555555555556, \"#d8576b\"], [0.6666666666666666, \"#ed7953\"], [0.7777777777777778, \"#fb9f3a\"], [0.8888888888888888, \"#fdca26\"], [1.0, \"#f0f921\"]], \"sequentialminus\": [[0.0, \"#0d0887\"], [0.1111111111111111, \"#46039f\"], [0.2222222222222222, \"#7201a8\"], [0.3333333333333333, \"#9c179e\"], [0.4444444444444444, \"#bd3786\"], [0.5555555555555556, \"#d8576b\"], [0.6666666666666666, \"#ed7953\"], [0.7777777777777778, \"#fb9f3a\"], [0.8888888888888888, \"#fdca26\"], [1.0, \"#f0f921\"]]}, \"colorway\": [\"#636efa\", \"#EF553B\", \"#00cc96\", \"#ab63fa\", \"#FFA15A\", \"#19d3f3\", \"#FF6692\", \"#B6E880\", \"#FF97FF\", \"#FECB52\"], \"font\": {\"color\": \"#2a3f5f\"}, \"geo\": {\"bgcolor\": \"white\", \"lakecolor\": \"white\", \"landcolor\": \"#E5ECF6\", \"showlakes\": true, \"showland\": true, \"subunitcolor\": \"white\"}, \"hoverlabel\": {\"align\": \"left\"}, \"hovermode\": \"closest\", \"mapbox\": {\"style\": \"light\"}, \"paper_bgcolor\": \"white\", \"plot_bgcolor\": \"#E5ECF6\", \"polar\": {\"angularaxis\": {\"gridcolor\": \"white\", \"linecolor\": \"white\", \"ticks\": \"\"}, \"bgcolor\": \"#E5ECF6\", \"radialaxis\": {\"gridcolor\": \"white\", \"linecolor\": \"white\", \"ticks\": \"\"}}, \"scene\": {\"xaxis\": {\"backgroundcolor\": \"#E5ECF6\", \"gridcolor\": \"white\", \"gridwidth\": 2, \"linecolor\": \"white\", \"showbackground\": true, \"ticks\": \"\", \"zerolinecolor\": \"white\"}, \"yaxis\": {\"backgroundcolor\": \"#E5ECF6\", \"gridcolor\": \"white\", \"gridwidth\": 2, \"linecolor\": \"white\", \"showbackground\": true, \"ticks\": \"\", \"zerolinecolor\": \"white\"}, \"zaxis\": {\"backgroundcolor\": \"#E5ECF6\", \"gridcolor\": \"white\", \"gridwidth\": 2, \"linecolor\": \"white\", \"showbackground\": true, \"ticks\": \"\", \"zerolinecolor\": \"white\"}}, \"shapedefaults\": {\"line\": {\"color\": \"#2a3f5f\"}}, \"ternary\": {\"aaxis\": {\"gridcolor\": \"white\", \"linecolor\": \"white\", \"ticks\": \"\"}, \"baxis\": {\"gridcolor\": \"white\", \"linecolor\": \"white\", \"ticks\": \"\"}, \"bgcolor\": \"#E5ECF6\", \"caxis\": {\"gridcolor\": \"white\", \"linecolor\": \"white\", \"ticks\": \"\"}}, \"title\": {\"x\": 0.05}, \"xaxis\": {\"automargin\": true, \"gridcolor\": \"white\", \"linecolor\": \"white\", \"ticks\": \"\", \"title\": {\"standoff\": 15}, \"zerolinecolor\": \"white\", \"zerolinewidth\": 2}, \"yaxis\": {\"automargin\": true, \"gridcolor\": \"white\", \"linecolor\": \"white\", \"ticks\": \"\", \"title\": {\"standoff\": 15}, \"zerolinecolor\": \"white\", \"zerolinewidth\": 2}}}, \"title\": {\"font\": {\"color\": \"#4D5663\"}}, \"xaxis\": {\"gridcolor\": \"#E1E5ED\", \"showgrid\": true, \"tickfont\": {\"color\": \"#4D5663\"}, \"title\": {\"font\": {\"color\": \"#4D5663\"}, \"text\": \"\"}, \"zerolinecolor\": \"#E1E5ED\"}, \"yaxis\": {\"gridcolor\": \"#E1E5ED\", \"showgrid\": true, \"tickfont\": {\"color\": \"#4D5663\"}, \"title\": {\"font\": {\"color\": \"#4D5663\"}, \"text\": \"\"}, \"zerolinecolor\": \"#E1E5ED\"}},\n",
       "                        {\"showLink\": true, \"linkText\": \"Export to plot.ly\", \"plotlyServerURL\": \"https://plot.ly\", \"responsive\": true}\n",
       "                    ).then(function(){\n",
       "                            \n",
       "var gd = document.getElementById('16efcfa2-3039-436d-9f76-25d354f4e159');\n",
       "var x = new MutationObserver(function (mutations, observer) {{\n",
       "        var display = window.getComputedStyle(gd).display;\n",
       "        if (!display || display === 'none') {{\n",
       "            console.log([gd, 'removed!']);\n",
       "            Plotly.purge(gd);\n",
       "            observer.disconnect();\n",
       "        }}\n",
       "}});\n",
       "\n",
       "// Listen for the removal of the full notebook cells\n",
       "var notebookContainer = gd.closest('#notebook-container');\n",
       "if (notebookContainer) {{\n",
       "    x.observe(notebookContainer, {childList: true});\n",
       "}}\n",
       "\n",
       "// Listen for the clearing of the current output cell\n",
       "var outputEl = gd.closest('.output');\n",
       "if (outputEl) {{\n",
       "    x.observe(outputEl, {childList: true});\n",
       "}}\n",
       "\n",
       "                        })\n",
       "                };\n",
       "                });\n",
       "            </script>\n",
       "        </div>"
      ]
     },
     "metadata": {},
     "output_type": "display_data"
    }
   ],
   "source": [
    "#barplot\n",
    "\n",
    "df2.iplot(kind = 'bar', x = 'Category', y = 'Values')"
   ]
  },
  {
   "cell_type": "code",
   "execution_count": 35,
   "metadata": {},
   "outputs": [
    {
     "data": {
      "text/html": [
       "<div>\n",
       "<style scoped>\n",
       "    .dataframe tbody tr th:only-of-type {\n",
       "        vertical-align: middle;\n",
       "    }\n",
       "\n",
       "    .dataframe tbody tr th {\n",
       "        vertical-align: top;\n",
       "    }\n",
       "\n",
       "    .dataframe thead th {\n",
       "        text-align: right;\n",
       "    }\n",
       "</style>\n",
       "<table border=\"1\" class=\"dataframe\">\n",
       "  <thead>\n",
       "    <tr style=\"text-align: right;\">\n",
       "      <th></th>\n",
       "      <th>A</th>\n",
       "      <th>B</th>\n",
       "      <th>C</th>\n",
       "      <th>D</th>\n",
       "    </tr>\n",
       "  </thead>\n",
       "  <tbody>\n",
       "    <tr>\n",
       "      <th>0</th>\n",
       "      <td>1.204374</td>\n",
       "      <td>0.288839</td>\n",
       "      <td>0.934370</td>\n",
       "      <td>-0.805884</td>\n",
       "    </tr>\n",
       "    <tr>\n",
       "      <th>1</th>\n",
       "      <td>-0.369068</td>\n",
       "      <td>-0.969609</td>\n",
       "      <td>0.617318</td>\n",
       "      <td>0.979708</td>\n",
       "    </tr>\n",
       "    <tr>\n",
       "      <th>2</th>\n",
       "      <td>-0.812241</td>\n",
       "      <td>0.324003</td>\n",
       "      <td>-1.063929</td>\n",
       "      <td>0.637964</td>\n",
       "    </tr>\n",
       "    <tr>\n",
       "      <th>3</th>\n",
       "      <td>1.399770</td>\n",
       "      <td>-2.027522</td>\n",
       "      <td>-0.338596</td>\n",
       "      <td>1.454833</td>\n",
       "    </tr>\n",
       "    <tr>\n",
       "      <th>4</th>\n",
       "      <td>-1.060788</td>\n",
       "      <td>0.147268</td>\n",
       "      <td>0.506690</td>\n",
       "      <td>-2.335484</td>\n",
       "    </tr>\n",
       "  </tbody>\n",
       "</table>\n",
       "</div>"
      ],
      "text/plain": [
       "          A         B         C         D\n",
       "0  1.204374  0.288839  0.934370 -0.805884\n",
       "1 -0.369068 -0.969609  0.617318  0.979708\n",
       "2 -0.812241  0.324003 -1.063929  0.637964\n",
       "3  1.399770 -2.027522 -0.338596  1.454833\n",
       "4 -1.060788  0.147268  0.506690 -2.335484"
      ]
     },
     "execution_count": 35,
     "metadata": {},
     "output_type": "execute_result"
    }
   ],
   "source": [
    "df.head()"
   ]
  },
  {
   "cell_type": "code",
   "execution_count": 36,
   "metadata": {},
   "outputs": [
    {
     "data": {
      "application/vnd.plotly.v1+json": {
       "config": {
        "linkText": "Export to plot.ly",
        "plotlyServerURL": "https://plot.ly",
        "showLink": true
       },
       "data": [
        {
         "marker": {
          "color": "rgba(255, 153, 51, 0.6)",
          "line": {
           "color": "rgba(255, 153, 51, 1.0)",
           "width": 1
          }
         },
         "name": "A",
         "orientation": "v",
         "text": "",
         "type": "bar",
         "x": [
          0,
          1,
          2,
          3,
          4,
          5,
          6,
          7,
          8,
          9,
          10,
          11,
          12,
          13,
          14,
          15,
          16,
          17,
          18,
          19,
          20,
          21,
          22,
          23,
          24,
          25,
          26,
          27,
          28,
          29,
          30,
          31,
          32,
          33,
          34,
          35,
          36,
          37,
          38,
          39,
          40,
          41,
          42,
          43,
          44,
          45,
          46,
          47,
          48,
          49,
          50,
          51,
          52,
          53,
          54,
          55,
          56,
          57,
          58,
          59,
          60,
          61,
          62,
          63,
          64,
          65,
          66,
          67,
          68,
          69,
          70,
          71,
          72,
          73,
          74,
          75,
          76,
          77,
          78,
          79,
          80,
          81,
          82,
          83,
          84,
          85,
          86,
          87,
          88,
          89,
          90,
          91,
          92,
          93,
          94,
          95,
          96,
          97,
          98,
          99
         ],
         "y": [
          1.204374223794343,
          -0.36906833924077637,
          -0.8122413394730359,
          1.3997697154739082,
          -1.060788107444831,
          0.5515735422646244,
          0.14061940746164717,
          0.16983560391476102,
          -0.5570859045323824,
          1.401481283250656,
          -0.22735734650862433,
          -0.2708226895595077,
          -0.061950652045331865,
          -0.23938387027733657,
          1.108929431106888,
          1.5885217800040747,
          -0.23559972372649096,
          -0.8063452712749882,
          0.13813159002450978,
          -0.6380738291099499,
          -1.3331534209046985,
          -0.1297105180803108,
          -0.10188136335052575,
          -0.30361318214471156,
          0.16497636748164915,
          2.183144065787738,
          -0.7843797606187034,
          -0.7395470414853026,
          -0.527746573443475,
          1.1734247890807368,
          -0.4277744368396613,
          1.586083786095986,
          -0.5946807669553307,
          1.1091000750587032,
          -2.2431426226953897,
          1.0511348504249087,
          -1.7084854938366552,
          0.3848496070527757,
          0.02319587782161051,
          -1.5614243800488814,
          -0.49612500584776853,
          0.36651695375891874,
          -1.9325653893667134,
          -0.009736954747299615,
          0.5770681622022307,
          -1.798736202311587,
          -1.4731317977982321,
          0.9207786842892908,
          -1.4109451145958787,
          1.474614654368594,
          -1.151126450220308,
          1.0959490386459758,
          0.7132001708734125,
          1.5389324759551382,
          -0.3437764307427175,
          -0.1398678689458212,
          -0.5692961334275359,
          -0.3876239117207527,
          2.1646360720109534,
          -0.8575609675505435,
          -0.12246755380214738,
          -0.35793397267560856,
          0.6760702797677335,
          0.6859757866029638,
          1.2172949175056056,
          3.0190435916527885,
          -0.49318883868647506,
          -1.4621624134879483,
          -0.018015512803250384,
          1.0663682852882106,
          0.6097999035722868,
          0.8061363870535981,
          -0.9775765064326202,
          1.9186469222357772,
          -1.3863509250475359,
          -1.729431686804565,
          -0.18184271399933602,
          -0.18613439383574115,
          0.5857466322063433,
          -0.34237696433466347,
          0.3571290493876967,
          0.006789251745769943,
          -3.2125921573829657,
          -0.5584989724527796,
          -0.3753882921486149,
          0.4722926040135994,
          -2.363150670854163,
          -0.6542164839532234,
          0.032211397087431724,
          -1.138463704994325,
          0.16231793129177194,
          0.4166899662658287,
          -0.18051501338281437,
          -0.15668668070654856,
          0.0848144483366338,
          0.6315939404556832,
          0.49811604910354135,
          0.9187915032050765,
          -0.45235784878744706,
          -0.18836177542466803
         ]
        },
        {
         "marker": {
          "color": "rgba(55, 128, 191, 0.6)",
          "line": {
           "color": "rgba(55, 128, 191, 1.0)",
           "width": 1
          }
         },
         "name": "B",
         "orientation": "v",
         "text": "",
         "type": "bar",
         "x": [
          0,
          1,
          2,
          3,
          4,
          5,
          6,
          7,
          8,
          9,
          10,
          11,
          12,
          13,
          14,
          15,
          16,
          17,
          18,
          19,
          20,
          21,
          22,
          23,
          24,
          25,
          26,
          27,
          28,
          29,
          30,
          31,
          32,
          33,
          34,
          35,
          36,
          37,
          38,
          39,
          40,
          41,
          42,
          43,
          44,
          45,
          46,
          47,
          48,
          49,
          50,
          51,
          52,
          53,
          54,
          55,
          56,
          57,
          58,
          59,
          60,
          61,
          62,
          63,
          64,
          65,
          66,
          67,
          68,
          69,
          70,
          71,
          72,
          73,
          74,
          75,
          76,
          77,
          78,
          79,
          80,
          81,
          82,
          83,
          84,
          85,
          86,
          87,
          88,
          89,
          90,
          91,
          92,
          93,
          94,
          95,
          96,
          97,
          98,
          99
         ],
         "y": [
          0.28883879264521045,
          -0.9696091384577731,
          0.3240029375457199,
          -2.0275223864420986,
          0.14726848424825328,
          0.678991256631577,
          0.8082635732754649,
          -1.7856463481517608,
          -1.104842817878926,
          -0.46027812161661064,
          -2.1537687431575328,
          0.15945482476116415,
          -1.3018992475704751,
          0.6025453549513595,
          0.2587350592374064,
          0.8027749160485882,
          0.35454868506569975,
          -0.4552450279185263,
          -0.8120909393883892,
          -0.4444774282124728,
          0.36142121866382554,
          1.0066457905843325,
          2.1146963668436967,
          0.3867859557004427,
          0.30976253103714385,
          0.25304790269208116,
          -0.4853018821573321,
          -0.4266472311732564,
          1.0574834426305726,
          0.0727828918106895,
          0.6387061611541429,
          0.35282443058578244,
          1.2613356031803376,
          1.9112868409358335,
          0.35270908010673824,
          0.33830107746460486,
          0.9661583398721716,
          0.7409660674911244,
          -1.0132490082439065,
          1.1381430753784794,
          0.06956837769113201,
          -0.025060573913217636,
          0.5601028658725632,
          1.1067653704904703,
          0.5381067202924643,
          -0.7979118583312437,
          0.6334157782864624,
          -0.5266080026725684,
          0.4833853733012127,
          -0.38299530376008994,
          -0.4357980040855327,
          -0.37062045661239246,
          -1.3414385587779716,
          -0.36590910152001693,
          -0.7034440798878234,
          -1.3876156954916887,
          -1.0926499669857581,
          0.5638637016453981,
          -0.3829013772219426,
          1.9157532042187086,
          0.761887728347791,
          0.8146029084065223,
          0.8231475450342212,
          0.04436894811492774,
          -1.0635463927921698,
          -0.07945247508080461,
          1.882926346755678,
          -0.20579958146507463,
          0.4168470364341955,
          0.36946234527703425,
          1.022023039989263,
          -2.199761127185428,
          0.09350752683525511,
          0.050408117632942985,
          2.190592367226769,
          -0.23747751471779366,
          1.0478758815724036,
          -0.4337413657219337,
          0.20492756400731685,
          2.3831221699587988,
          -0.6802126826044421,
          0.9545186757613414,
          -1.559532703638838,
          -0.2702728387868071,
          0.2237820300585606,
          -0.18639837634820103,
          -0.47969720470485616,
          0.44948289758789267,
          -0.3239630401170654,
          0.12299224412986517,
          -0.2955225352765806,
          -0.06693027092072842,
          -0.3667350661835663,
          -1.1643883307876375,
          0.8995409226274617,
          -1.0630968020526121,
          -2.25782917678505,
          0.17250522033490703,
          -2.0771412668361102,
          -1.498269212529484
         ]
        },
        {
         "marker": {
          "color": "rgba(50, 171, 96, 0.6)",
          "line": {
           "color": "rgba(50, 171, 96, 1.0)",
           "width": 1
          }
         },
         "name": "C",
         "orientation": "v",
         "text": "",
         "type": "bar",
         "x": [
          0,
          1,
          2,
          3,
          4,
          5,
          6,
          7,
          8,
          9,
          10,
          11,
          12,
          13,
          14,
          15,
          16,
          17,
          18,
          19,
          20,
          21,
          22,
          23,
          24,
          25,
          26,
          27,
          28,
          29,
          30,
          31,
          32,
          33,
          34,
          35,
          36,
          37,
          38,
          39,
          40,
          41,
          42,
          43,
          44,
          45,
          46,
          47,
          48,
          49,
          50,
          51,
          52,
          53,
          54,
          55,
          56,
          57,
          58,
          59,
          60,
          61,
          62,
          63,
          64,
          65,
          66,
          67,
          68,
          69,
          70,
          71,
          72,
          73,
          74,
          75,
          76,
          77,
          78,
          79,
          80,
          81,
          82,
          83,
          84,
          85,
          86,
          87,
          88,
          89,
          90,
          91,
          92,
          93,
          94,
          95,
          96,
          97,
          98,
          99
         ],
         "y": [
          0.9343696833686856,
          0.6173183922345006,
          -1.0639285999296693,
          -0.33859612376905984,
          0.506690249511028,
          0.2957480725083949,
          0.5263886133671345,
          -0.32276366714443333,
          -0.01792066674395618,
          -1.775083329657011,
          -1.4437741093187602,
          0.07329908144639716,
          1.202571194374941,
          0.5168437647049239,
          -0.09882521510224906,
          1.2444214483260527,
          0.4917821790620534,
          0.1965902827913307,
          0.16855948625243314,
          1.108497197968096,
          -0.5675585086297141,
          -0.3095257147273207,
          -0.7102455459926497,
          1.1671495944265564,
          -0.5284595837443142,
          1.7243424357402708,
          -0.16867574245345937,
          -0.7529943369078369,
          1.4714561614880592,
          -0.3156054085787056,
          1.6318798368170893,
          -1.1814339345772011,
          1.0176216826497526,
          1.2215659458124433,
          0.5550009695494434,
          1.2051994421401777,
          0.12738565982693809,
          -0.349202693458132,
          -1.2226864380171725,
          1.0622710558752908,
          -1.4610410655094517,
          -1.5352515493002508,
          -0.6112654698490414,
          -1.6006436768837422,
          -1.2126704936089923,
          1.51414712452721,
          -0.05326645847836819,
          0.5720140651740735,
          0.30677221656661624,
          -0.8515412861948122,
          -0.2175631127524753,
          -0.6866800691236976,
          -0.2718610220028386,
          -0.4286993360378733,
          -0.008244722026312986,
          -1.134459704124308,
          0.6839925305569563,
          -0.9037393141619001,
          0.8946253754874015,
          -0.9563364923279836,
          -1.8017716095525207,
          1.5529278139958989,
          0.5585114201282104,
          1.1081748287221973,
          0.5786445092709741,
          0.012575418742362943,
          0.31251853048904665,
          0.668992790804777,
          -0.9357642050522706,
          -1.7502352908475747,
          -1.1891899470303575,
          1.3039873876743129,
          -0.9290778024734753,
          1.5949617014816626,
          1.317263804134899,
          -0.7393457254093768,
          -0.2836412501033554,
          0.39500577301382556,
          -0.19878243420856143,
          -0.015156971804573429,
          -1.0233128562001466,
          -0.9044467815425445,
          1.130533978735926,
          0.6647964258955746,
          1.3161641115644949,
          1.5555717667850633,
          0.09260698431106808,
          1.364533716086213,
          -1.2169224255756232,
          -0.703560958600298,
          -0.5226056338222739,
          -1.4403106413817668,
          -0.5082752114604108,
          -0.45246678819824143,
          -0.8994474129369322,
          -0.8038036119855998,
          -1.6685950229652726,
          0.32678600253398316,
          0.5581877526293396,
          1.252591507712197
         ]
        },
        {
         "marker": {
          "color": "rgba(128, 0, 128, 0.6)",
          "line": {
           "color": "rgba(128, 0, 128, 1.0)",
           "width": 1
          }
         },
         "name": "D",
         "orientation": "v",
         "text": "",
         "type": "bar",
         "x": [
          0,
          1,
          2,
          3,
          4,
          5,
          6,
          7,
          8,
          9,
          10,
          11,
          12,
          13,
          14,
          15,
          16,
          17,
          18,
          19,
          20,
          21,
          22,
          23,
          24,
          25,
          26,
          27,
          28,
          29,
          30,
          31,
          32,
          33,
          34,
          35,
          36,
          37,
          38,
          39,
          40,
          41,
          42,
          43,
          44,
          45,
          46,
          47,
          48,
          49,
          50,
          51,
          52,
          53,
          54,
          55,
          56,
          57,
          58,
          59,
          60,
          61,
          62,
          63,
          64,
          65,
          66,
          67,
          68,
          69,
          70,
          71,
          72,
          73,
          74,
          75,
          76,
          77,
          78,
          79,
          80,
          81,
          82,
          83,
          84,
          85,
          86,
          87,
          88,
          89,
          90,
          91,
          92,
          93,
          94,
          95,
          96,
          97,
          98,
          99
         ],
         "y": [
          -0.8058842627615331,
          0.9797082212953491,
          0.6379635383022297,
          1.4548329154127562,
          -2.335484400509173,
          -0.6623770650682406,
          0.7535702956405469,
          -0.6236079353039102,
          1.5863547334142853,
          0.5501662700248987,
          0.5544553984982873,
          -0.8026437001666429,
          -1.3410112046609501,
          -0.15432536507994782,
          0.5869254121772779,
          2.1862014691579392,
          -0.8596447818377434,
          0.22903537802967597,
          -1.9527835306690624,
          -0.7106466834944147,
          0.9879654019609568,
          0.43989617483472826,
          0.8879983605688165,
          0.30101447395780634,
          -1.1269830174872864,
          1.637713689364425,
          2.19484065473828,
          2.1351243435618557,
          0.7410418985039773,
          0.10250422142114304,
          1.0147707958155245,
          1.293569209435536,
          -0.30913414653112375,
          0.9485462047058678,
          0.8621835590849038,
          0.30367158443875586,
          1.553251492944668,
          -1.0866663386699786,
          -0.738456098631491,
          -1.2677923318105067,
          -1.5255450657829206,
          0.5806873056280587,
          -1.2980488960785543,
          1.2749609068257286,
          0.44492001246999946,
          -0.9179560951815965,
          0.7796482114958154,
          -1.6263294936914727,
          0.5701756325323951,
          0.5616757646494824,
          2.0692782403749996,
          -0.6998366536532751,
          1.7451322151939659,
          -0.41932548798157826,
          0.12205020250823236,
          0.5315818152632557,
          0.5427953889005159,
          0.4439151325921603,
          -0.9341713046286217,
          0.178731397553212,
          -2.0905963494997692,
          0.6628433514890515,
          -1.0717854744470323,
          0.6395126809145872,
          -0.5506483770131305,
          -0.13274463767961525,
          -1.1915154310340677,
          -2.0013163307379864,
          0.303189753519302,
          -0.9738683344814172,
          0.2200647357558618,
          0.5528113656617654,
          0.03798789279734366,
          -0.033497342180987676,
          0.6561751895549323,
          -1.296629861664313,
          -0.9939882703168663,
          -2.4811780037000126,
          0.5163737334382271,
          -0.8509505825124314,
          0.18521698690709562,
          0.400969571594376,
          0.09284692825371736,
          0.6662143145592785,
          0.38045010667313794,
          -0.6764269749617707,
          -1.9590494783739336,
          0.0702745069971556,
          -0.9868397186829913,
          0.48576342854090954,
          0.9649650807272201,
          0.018040177384070485,
          0.37114273233268846,
          1.8869512978114056,
          1.333566572763461,
          2.177844651149719,
          -1.4653390081808297,
          -1.5728963693526394,
          -0.1622957734581275,
          -0.7038966086121956
         ]
        }
       ],
       "layout": {
        "legend": {
         "bgcolor": "#F5F6F9",
         "font": {
          "color": "#4D5663"
         }
        },
        "paper_bgcolor": "#F5F6F9",
        "plot_bgcolor": "#F5F6F9",
        "template": {
         "data": {
          "bar": [
           {
            "error_x": {
             "color": "#2a3f5f"
            },
            "error_y": {
             "color": "#2a3f5f"
            },
            "marker": {
             "line": {
              "color": "#E5ECF6",
              "width": 0.5
             }
            },
            "type": "bar"
           }
          ],
          "barpolar": [
           {
            "marker": {
             "line": {
              "color": "#E5ECF6",
              "width": 0.5
             }
            },
            "type": "barpolar"
           }
          ],
          "carpet": [
           {
            "aaxis": {
             "endlinecolor": "#2a3f5f",
             "gridcolor": "white",
             "linecolor": "white",
             "minorgridcolor": "white",
             "startlinecolor": "#2a3f5f"
            },
            "baxis": {
             "endlinecolor": "#2a3f5f",
             "gridcolor": "white",
             "linecolor": "white",
             "minorgridcolor": "white",
             "startlinecolor": "#2a3f5f"
            },
            "type": "carpet"
           }
          ],
          "choropleth": [
           {
            "colorbar": {
             "outlinewidth": 0,
             "ticks": ""
            },
            "type": "choropleth"
           }
          ],
          "contour": [
           {
            "colorbar": {
             "outlinewidth": 0,
             "ticks": ""
            },
            "colorscale": [
             [
              0,
              "#0d0887"
             ],
             [
              0.1111111111111111,
              "#46039f"
             ],
             [
              0.2222222222222222,
              "#7201a8"
             ],
             [
              0.3333333333333333,
              "#9c179e"
             ],
             [
              0.4444444444444444,
              "#bd3786"
             ],
             [
              0.5555555555555556,
              "#d8576b"
             ],
             [
              0.6666666666666666,
              "#ed7953"
             ],
             [
              0.7777777777777778,
              "#fb9f3a"
             ],
             [
              0.8888888888888888,
              "#fdca26"
             ],
             [
              1,
              "#f0f921"
             ]
            ],
            "type": "contour"
           }
          ],
          "contourcarpet": [
           {
            "colorbar": {
             "outlinewidth": 0,
             "ticks": ""
            },
            "type": "contourcarpet"
           }
          ],
          "heatmap": [
           {
            "colorbar": {
             "outlinewidth": 0,
             "ticks": ""
            },
            "colorscale": [
             [
              0,
              "#0d0887"
             ],
             [
              0.1111111111111111,
              "#46039f"
             ],
             [
              0.2222222222222222,
              "#7201a8"
             ],
             [
              0.3333333333333333,
              "#9c179e"
             ],
             [
              0.4444444444444444,
              "#bd3786"
             ],
             [
              0.5555555555555556,
              "#d8576b"
             ],
             [
              0.6666666666666666,
              "#ed7953"
             ],
             [
              0.7777777777777778,
              "#fb9f3a"
             ],
             [
              0.8888888888888888,
              "#fdca26"
             ],
             [
              1,
              "#f0f921"
             ]
            ],
            "type": "heatmap"
           }
          ],
          "heatmapgl": [
           {
            "colorbar": {
             "outlinewidth": 0,
             "ticks": ""
            },
            "colorscale": [
             [
              0,
              "#0d0887"
             ],
             [
              0.1111111111111111,
              "#46039f"
             ],
             [
              0.2222222222222222,
              "#7201a8"
             ],
             [
              0.3333333333333333,
              "#9c179e"
             ],
             [
              0.4444444444444444,
              "#bd3786"
             ],
             [
              0.5555555555555556,
              "#d8576b"
             ],
             [
              0.6666666666666666,
              "#ed7953"
             ],
             [
              0.7777777777777778,
              "#fb9f3a"
             ],
             [
              0.8888888888888888,
              "#fdca26"
             ],
             [
              1,
              "#f0f921"
             ]
            ],
            "type": "heatmapgl"
           }
          ],
          "histogram": [
           {
            "marker": {
             "colorbar": {
              "outlinewidth": 0,
              "ticks": ""
             }
            },
            "type": "histogram"
           }
          ],
          "histogram2d": [
           {
            "colorbar": {
             "outlinewidth": 0,
             "ticks": ""
            },
            "colorscale": [
             [
              0,
              "#0d0887"
             ],
             [
              0.1111111111111111,
              "#46039f"
             ],
             [
              0.2222222222222222,
              "#7201a8"
             ],
             [
              0.3333333333333333,
              "#9c179e"
             ],
             [
              0.4444444444444444,
              "#bd3786"
             ],
             [
              0.5555555555555556,
              "#d8576b"
             ],
             [
              0.6666666666666666,
              "#ed7953"
             ],
             [
              0.7777777777777778,
              "#fb9f3a"
             ],
             [
              0.8888888888888888,
              "#fdca26"
             ],
             [
              1,
              "#f0f921"
             ]
            ],
            "type": "histogram2d"
           }
          ],
          "histogram2dcontour": [
           {
            "colorbar": {
             "outlinewidth": 0,
             "ticks": ""
            },
            "colorscale": [
             [
              0,
              "#0d0887"
             ],
             [
              0.1111111111111111,
              "#46039f"
             ],
             [
              0.2222222222222222,
              "#7201a8"
             ],
             [
              0.3333333333333333,
              "#9c179e"
             ],
             [
              0.4444444444444444,
              "#bd3786"
             ],
             [
              0.5555555555555556,
              "#d8576b"
             ],
             [
              0.6666666666666666,
              "#ed7953"
             ],
             [
              0.7777777777777778,
              "#fb9f3a"
             ],
             [
              0.8888888888888888,
              "#fdca26"
             ],
             [
              1,
              "#f0f921"
             ]
            ],
            "type": "histogram2dcontour"
           }
          ],
          "mesh3d": [
           {
            "colorbar": {
             "outlinewidth": 0,
             "ticks": ""
            },
            "type": "mesh3d"
           }
          ],
          "parcoords": [
           {
            "line": {
             "colorbar": {
              "outlinewidth": 0,
              "ticks": ""
             }
            },
            "type": "parcoords"
           }
          ],
          "pie": [
           {
            "automargin": true,
            "type": "pie"
           }
          ],
          "scatter": [
           {
            "marker": {
             "colorbar": {
              "outlinewidth": 0,
              "ticks": ""
             }
            },
            "type": "scatter"
           }
          ],
          "scatter3d": [
           {
            "line": {
             "colorbar": {
              "outlinewidth": 0,
              "ticks": ""
             }
            },
            "marker": {
             "colorbar": {
              "outlinewidth": 0,
              "ticks": ""
             }
            },
            "type": "scatter3d"
           }
          ],
          "scattercarpet": [
           {
            "marker": {
             "colorbar": {
              "outlinewidth": 0,
              "ticks": ""
             }
            },
            "type": "scattercarpet"
           }
          ],
          "scattergeo": [
           {
            "marker": {
             "colorbar": {
              "outlinewidth": 0,
              "ticks": ""
             }
            },
            "type": "scattergeo"
           }
          ],
          "scattergl": [
           {
            "marker": {
             "colorbar": {
              "outlinewidth": 0,
              "ticks": ""
             }
            },
            "type": "scattergl"
           }
          ],
          "scattermapbox": [
           {
            "marker": {
             "colorbar": {
              "outlinewidth": 0,
              "ticks": ""
             }
            },
            "type": "scattermapbox"
           }
          ],
          "scatterpolar": [
           {
            "marker": {
             "colorbar": {
              "outlinewidth": 0,
              "ticks": ""
             }
            },
            "type": "scatterpolar"
           }
          ],
          "scatterpolargl": [
           {
            "marker": {
             "colorbar": {
              "outlinewidth": 0,
              "ticks": ""
             }
            },
            "type": "scatterpolargl"
           }
          ],
          "scatterternary": [
           {
            "marker": {
             "colorbar": {
              "outlinewidth": 0,
              "ticks": ""
             }
            },
            "type": "scatterternary"
           }
          ],
          "surface": [
           {
            "colorbar": {
             "outlinewidth": 0,
             "ticks": ""
            },
            "colorscale": [
             [
              0,
              "#0d0887"
             ],
             [
              0.1111111111111111,
              "#46039f"
             ],
             [
              0.2222222222222222,
              "#7201a8"
             ],
             [
              0.3333333333333333,
              "#9c179e"
             ],
             [
              0.4444444444444444,
              "#bd3786"
             ],
             [
              0.5555555555555556,
              "#d8576b"
             ],
             [
              0.6666666666666666,
              "#ed7953"
             ],
             [
              0.7777777777777778,
              "#fb9f3a"
             ],
             [
              0.8888888888888888,
              "#fdca26"
             ],
             [
              1,
              "#f0f921"
             ]
            ],
            "type": "surface"
           }
          ],
          "table": [
           {
            "cells": {
             "fill": {
              "color": "#EBF0F8"
             },
             "line": {
              "color": "white"
             }
            },
            "header": {
             "fill": {
              "color": "#C8D4E3"
             },
             "line": {
              "color": "white"
             }
            },
            "type": "table"
           }
          ]
         },
         "layout": {
          "annotationdefaults": {
           "arrowcolor": "#2a3f5f",
           "arrowhead": 0,
           "arrowwidth": 1
          },
          "coloraxis": {
           "colorbar": {
            "outlinewidth": 0,
            "ticks": ""
           }
          },
          "colorscale": {
           "diverging": [
            [
             0,
             "#8e0152"
            ],
            [
             0.1,
             "#c51b7d"
            ],
            [
             0.2,
             "#de77ae"
            ],
            [
             0.3,
             "#f1b6da"
            ],
            [
             0.4,
             "#fde0ef"
            ],
            [
             0.5,
             "#f7f7f7"
            ],
            [
             0.6,
             "#e6f5d0"
            ],
            [
             0.7,
             "#b8e186"
            ],
            [
             0.8,
             "#7fbc41"
            ],
            [
             0.9,
             "#4d9221"
            ],
            [
             1,
             "#276419"
            ]
           ],
           "sequential": [
            [
             0,
             "#0d0887"
            ],
            [
             0.1111111111111111,
             "#46039f"
            ],
            [
             0.2222222222222222,
             "#7201a8"
            ],
            [
             0.3333333333333333,
             "#9c179e"
            ],
            [
             0.4444444444444444,
             "#bd3786"
            ],
            [
             0.5555555555555556,
             "#d8576b"
            ],
            [
             0.6666666666666666,
             "#ed7953"
            ],
            [
             0.7777777777777778,
             "#fb9f3a"
            ],
            [
             0.8888888888888888,
             "#fdca26"
            ],
            [
             1,
             "#f0f921"
            ]
           ],
           "sequentialminus": [
            [
             0,
             "#0d0887"
            ],
            [
             0.1111111111111111,
             "#46039f"
            ],
            [
             0.2222222222222222,
             "#7201a8"
            ],
            [
             0.3333333333333333,
             "#9c179e"
            ],
            [
             0.4444444444444444,
             "#bd3786"
            ],
            [
             0.5555555555555556,
             "#d8576b"
            ],
            [
             0.6666666666666666,
             "#ed7953"
            ],
            [
             0.7777777777777778,
             "#fb9f3a"
            ],
            [
             0.8888888888888888,
             "#fdca26"
            ],
            [
             1,
             "#f0f921"
            ]
           ]
          },
          "colorway": [
           "#636efa",
           "#EF553B",
           "#00cc96",
           "#ab63fa",
           "#FFA15A",
           "#19d3f3",
           "#FF6692",
           "#B6E880",
           "#FF97FF",
           "#FECB52"
          ],
          "font": {
           "color": "#2a3f5f"
          },
          "geo": {
           "bgcolor": "white",
           "lakecolor": "white",
           "landcolor": "#E5ECF6",
           "showlakes": true,
           "showland": true,
           "subunitcolor": "white"
          },
          "hoverlabel": {
           "align": "left"
          },
          "hovermode": "closest",
          "mapbox": {
           "style": "light"
          },
          "paper_bgcolor": "white",
          "plot_bgcolor": "#E5ECF6",
          "polar": {
           "angularaxis": {
            "gridcolor": "white",
            "linecolor": "white",
            "ticks": ""
           },
           "bgcolor": "#E5ECF6",
           "radialaxis": {
            "gridcolor": "white",
            "linecolor": "white",
            "ticks": ""
           }
          },
          "scene": {
           "xaxis": {
            "backgroundcolor": "#E5ECF6",
            "gridcolor": "white",
            "gridwidth": 2,
            "linecolor": "white",
            "showbackground": true,
            "ticks": "",
            "zerolinecolor": "white"
           },
           "yaxis": {
            "backgroundcolor": "#E5ECF6",
            "gridcolor": "white",
            "gridwidth": 2,
            "linecolor": "white",
            "showbackground": true,
            "ticks": "",
            "zerolinecolor": "white"
           },
           "zaxis": {
            "backgroundcolor": "#E5ECF6",
            "gridcolor": "white",
            "gridwidth": 2,
            "linecolor": "white",
            "showbackground": true,
            "ticks": "",
            "zerolinecolor": "white"
           }
          },
          "shapedefaults": {
           "line": {
            "color": "#2a3f5f"
           }
          },
          "ternary": {
           "aaxis": {
            "gridcolor": "white",
            "linecolor": "white",
            "ticks": ""
           },
           "baxis": {
            "gridcolor": "white",
            "linecolor": "white",
            "ticks": ""
           },
           "bgcolor": "#E5ECF6",
           "caxis": {
            "gridcolor": "white",
            "linecolor": "white",
            "ticks": ""
           }
          },
          "title": {
           "x": 0.05
          },
          "xaxis": {
           "automargin": true,
           "gridcolor": "white",
           "linecolor": "white",
           "ticks": "",
           "title": {
            "standoff": 15
           },
           "zerolinecolor": "white",
           "zerolinewidth": 2
          },
          "yaxis": {
           "automargin": true,
           "gridcolor": "white",
           "linecolor": "white",
           "ticks": "",
           "title": {
            "standoff": 15
           },
           "zerolinecolor": "white",
           "zerolinewidth": 2
          }
         }
        },
        "title": {
         "font": {
          "color": "#4D5663"
         }
        },
        "xaxis": {
         "gridcolor": "#E1E5ED",
         "showgrid": true,
         "tickfont": {
          "color": "#4D5663"
         },
         "title": {
          "font": {
           "color": "#4D5663"
          },
          "text": ""
         },
         "zerolinecolor": "#E1E5ED"
        },
        "yaxis": {
         "gridcolor": "#E1E5ED",
         "showgrid": true,
         "tickfont": {
          "color": "#4D5663"
         },
         "title": {
          "font": {
           "color": "#4D5663"
          },
          "text": ""
         },
         "zerolinecolor": "#E1E5ED"
        }
       }
      },
      "text/html": [
       "<div>\n",
       "        \n",
       "        \n",
       "            <div id=\"9e272be7-3d8d-469c-b05a-43523b22d6cd\" class=\"plotly-graph-div\" style=\"height:525px; width:100%;\"></div>\n",
       "            <script type=\"text/javascript\">\n",
       "                require([\"plotly\"], function(Plotly) {\n",
       "                    window.PLOTLYENV=window.PLOTLYENV || {};\n",
       "                    window.PLOTLYENV.BASE_URL='https://plot.ly';\n",
       "                    \n",
       "                if (document.getElementById(\"9e272be7-3d8d-469c-b05a-43523b22d6cd\")) {\n",
       "                    Plotly.newPlot(\n",
       "                        '9e272be7-3d8d-469c-b05a-43523b22d6cd',\n",
       "                        [{\"marker\": {\"color\": \"rgba(255, 153, 51, 0.6)\", \"line\": {\"color\": \"rgba(255, 153, 51, 1.0)\", \"width\": 1}}, \"name\": \"A\", \"orientation\": \"v\", \"text\": \"\", \"type\": \"bar\", \"x\": [0, 1, 2, 3, 4, 5, 6, 7, 8, 9, 10, 11, 12, 13, 14, 15, 16, 17, 18, 19, 20, 21, 22, 23, 24, 25, 26, 27, 28, 29, 30, 31, 32, 33, 34, 35, 36, 37, 38, 39, 40, 41, 42, 43, 44, 45, 46, 47, 48, 49, 50, 51, 52, 53, 54, 55, 56, 57, 58, 59, 60, 61, 62, 63, 64, 65, 66, 67, 68, 69, 70, 71, 72, 73, 74, 75, 76, 77, 78, 79, 80, 81, 82, 83, 84, 85, 86, 87, 88, 89, 90, 91, 92, 93, 94, 95, 96, 97, 98, 99], \"y\": [1.204374223794343, -0.36906833924077637, -0.8122413394730359, 1.3997697154739082, -1.060788107444831, 0.5515735422646244, 0.14061940746164717, 0.16983560391476102, -0.5570859045323824, 1.401481283250656, -0.22735734650862433, -0.2708226895595077, -0.061950652045331865, -0.23938387027733657, 1.108929431106888, 1.5885217800040747, -0.23559972372649096, -0.8063452712749882, 0.13813159002450978, -0.6380738291099499, -1.3331534209046985, -0.1297105180803108, -0.10188136335052575, -0.30361318214471156, 0.16497636748164915, 2.183144065787738, -0.7843797606187034, -0.7395470414853026, -0.527746573443475, 1.1734247890807368, -0.4277744368396613, 1.586083786095986, -0.5946807669553307, 1.1091000750587032, -2.2431426226953897, 1.0511348504249087, -1.7084854938366552, 0.3848496070527757, 0.02319587782161051, -1.5614243800488814, -0.49612500584776853, 0.36651695375891874, -1.9325653893667134, -0.009736954747299615, 0.5770681622022307, -1.798736202311587, -1.4731317977982321, 0.9207786842892908, -1.4109451145958787, 1.474614654368594, -1.151126450220308, 1.0959490386459758, 0.7132001708734125, 1.5389324759551382, -0.3437764307427175, -0.1398678689458212, -0.5692961334275359, -0.3876239117207527, 2.1646360720109534, -0.8575609675505435, -0.12246755380214738, -0.35793397267560856, 0.6760702797677335, 0.6859757866029638, 1.2172949175056056, 3.0190435916527885, -0.49318883868647506, -1.4621624134879483, -0.018015512803250384, 1.0663682852882106, 0.6097999035722868, 0.8061363870535981, -0.9775765064326202, 1.9186469222357772, -1.3863509250475359, -1.729431686804565, -0.18184271399933602, -0.18613439383574115, 0.5857466322063433, -0.34237696433466347, 0.3571290493876967, 0.006789251745769943, -3.2125921573829657, -0.5584989724527796, -0.3753882921486149, 0.4722926040135994, -2.363150670854163, -0.6542164839532234, 0.032211397087431724, -1.138463704994325, 0.16231793129177194, 0.4166899662658287, -0.18051501338281437, -0.15668668070654856, 0.0848144483366338, 0.6315939404556832, 0.49811604910354135, 0.9187915032050765, -0.45235784878744706, -0.18836177542466803]}, {\"marker\": {\"color\": \"rgba(55, 128, 191, 0.6)\", \"line\": {\"color\": \"rgba(55, 128, 191, 1.0)\", \"width\": 1}}, \"name\": \"B\", \"orientation\": \"v\", \"text\": \"\", \"type\": \"bar\", \"x\": [0, 1, 2, 3, 4, 5, 6, 7, 8, 9, 10, 11, 12, 13, 14, 15, 16, 17, 18, 19, 20, 21, 22, 23, 24, 25, 26, 27, 28, 29, 30, 31, 32, 33, 34, 35, 36, 37, 38, 39, 40, 41, 42, 43, 44, 45, 46, 47, 48, 49, 50, 51, 52, 53, 54, 55, 56, 57, 58, 59, 60, 61, 62, 63, 64, 65, 66, 67, 68, 69, 70, 71, 72, 73, 74, 75, 76, 77, 78, 79, 80, 81, 82, 83, 84, 85, 86, 87, 88, 89, 90, 91, 92, 93, 94, 95, 96, 97, 98, 99], \"y\": [0.28883879264521045, -0.9696091384577731, 0.3240029375457199, -2.0275223864420986, 0.14726848424825328, 0.678991256631577, 0.8082635732754649, -1.7856463481517608, -1.104842817878926, -0.46027812161661064, -2.1537687431575328, 0.15945482476116415, -1.3018992475704751, 0.6025453549513595, 0.2587350592374064, 0.8027749160485882, 0.35454868506569975, -0.4552450279185263, -0.8120909393883892, -0.4444774282124728, 0.36142121866382554, 1.0066457905843325, 2.1146963668436967, 0.3867859557004427, 0.30976253103714385, 0.25304790269208116, -0.4853018821573321, -0.4266472311732564, 1.0574834426305726, 0.0727828918106895, 0.6387061611541429, 0.35282443058578244, 1.2613356031803376, 1.9112868409358335, 0.35270908010673824, 0.33830107746460486, 0.9661583398721716, 0.7409660674911244, -1.0132490082439065, 1.1381430753784794, 0.06956837769113201, -0.025060573913217636, 0.5601028658725632, 1.1067653704904703, 0.5381067202924643, -0.7979118583312437, 0.6334157782864624, -0.5266080026725684, 0.4833853733012127, -0.38299530376008994, -0.4357980040855327, -0.37062045661239246, -1.3414385587779716, -0.36590910152001693, -0.7034440798878234, -1.3876156954916887, -1.0926499669857581, 0.5638637016453981, -0.3829013772219426, 1.9157532042187086, 0.761887728347791, 0.8146029084065223, 0.8231475450342212, 0.04436894811492774, -1.0635463927921698, -0.07945247508080461, 1.882926346755678, -0.20579958146507463, 0.4168470364341955, 0.36946234527703425, 1.022023039989263, -2.199761127185428, 0.09350752683525511, 0.050408117632942985, 2.190592367226769, -0.23747751471779366, 1.0478758815724036, -0.4337413657219337, 0.20492756400731685, 2.3831221699587988, -0.6802126826044421, 0.9545186757613414, -1.559532703638838, -0.2702728387868071, 0.2237820300585606, -0.18639837634820103, -0.47969720470485616, 0.44948289758789267, -0.3239630401170654, 0.12299224412986517, -0.2955225352765806, -0.06693027092072842, -0.3667350661835663, -1.1643883307876375, 0.8995409226274617, -1.0630968020526121, -2.25782917678505, 0.17250522033490703, -2.0771412668361102, -1.498269212529484]}, {\"marker\": {\"color\": \"rgba(50, 171, 96, 0.6)\", \"line\": {\"color\": \"rgba(50, 171, 96, 1.0)\", \"width\": 1}}, \"name\": \"C\", \"orientation\": \"v\", \"text\": \"\", \"type\": \"bar\", \"x\": [0, 1, 2, 3, 4, 5, 6, 7, 8, 9, 10, 11, 12, 13, 14, 15, 16, 17, 18, 19, 20, 21, 22, 23, 24, 25, 26, 27, 28, 29, 30, 31, 32, 33, 34, 35, 36, 37, 38, 39, 40, 41, 42, 43, 44, 45, 46, 47, 48, 49, 50, 51, 52, 53, 54, 55, 56, 57, 58, 59, 60, 61, 62, 63, 64, 65, 66, 67, 68, 69, 70, 71, 72, 73, 74, 75, 76, 77, 78, 79, 80, 81, 82, 83, 84, 85, 86, 87, 88, 89, 90, 91, 92, 93, 94, 95, 96, 97, 98, 99], \"y\": [0.9343696833686856, 0.6173183922345006, -1.0639285999296693, -0.33859612376905984, 0.506690249511028, 0.2957480725083949, 0.5263886133671345, -0.32276366714443333, -0.01792066674395618, -1.775083329657011, -1.4437741093187602, 0.07329908144639716, 1.202571194374941, 0.5168437647049239, -0.09882521510224906, 1.2444214483260527, 0.4917821790620534, 0.1965902827913307, 0.16855948625243314, 1.108497197968096, -0.5675585086297141, -0.3095257147273207, -0.7102455459926497, 1.1671495944265564, -0.5284595837443142, 1.7243424357402708, -0.16867574245345937, -0.7529943369078369, 1.4714561614880592, -0.3156054085787056, 1.6318798368170893, -1.1814339345772011, 1.0176216826497526, 1.2215659458124433, 0.5550009695494434, 1.2051994421401777, 0.12738565982693809, -0.349202693458132, -1.2226864380171725, 1.0622710558752908, -1.4610410655094517, -1.5352515493002508, -0.6112654698490414, -1.6006436768837422, -1.2126704936089923, 1.51414712452721, -0.05326645847836819, 0.5720140651740735, 0.30677221656661624, -0.8515412861948122, -0.2175631127524753, -0.6866800691236976, -0.2718610220028386, -0.4286993360378733, -0.008244722026312986, -1.134459704124308, 0.6839925305569563, -0.9037393141619001, 0.8946253754874015, -0.9563364923279836, -1.8017716095525207, 1.5529278139958989, 0.5585114201282104, 1.1081748287221973, 0.5786445092709741, 0.012575418742362943, 0.31251853048904665, 0.668992790804777, -0.9357642050522706, -1.7502352908475747, -1.1891899470303575, 1.3039873876743129, -0.9290778024734753, 1.5949617014816626, 1.317263804134899, -0.7393457254093768, -0.2836412501033554, 0.39500577301382556, -0.19878243420856143, -0.015156971804573429, -1.0233128562001466, -0.9044467815425445, 1.130533978735926, 0.6647964258955746, 1.3161641115644949, 1.5555717667850633, 0.09260698431106808, 1.364533716086213, -1.2169224255756232, -0.703560958600298, -0.5226056338222739, -1.4403106413817668, -0.5082752114604108, -0.45246678819824143, -0.8994474129369322, -0.8038036119855998, -1.6685950229652726, 0.32678600253398316, 0.5581877526293396, 1.252591507712197]}, {\"marker\": {\"color\": \"rgba(128, 0, 128, 0.6)\", \"line\": {\"color\": \"rgba(128, 0, 128, 1.0)\", \"width\": 1}}, \"name\": \"D\", \"orientation\": \"v\", \"text\": \"\", \"type\": \"bar\", \"x\": [0, 1, 2, 3, 4, 5, 6, 7, 8, 9, 10, 11, 12, 13, 14, 15, 16, 17, 18, 19, 20, 21, 22, 23, 24, 25, 26, 27, 28, 29, 30, 31, 32, 33, 34, 35, 36, 37, 38, 39, 40, 41, 42, 43, 44, 45, 46, 47, 48, 49, 50, 51, 52, 53, 54, 55, 56, 57, 58, 59, 60, 61, 62, 63, 64, 65, 66, 67, 68, 69, 70, 71, 72, 73, 74, 75, 76, 77, 78, 79, 80, 81, 82, 83, 84, 85, 86, 87, 88, 89, 90, 91, 92, 93, 94, 95, 96, 97, 98, 99], \"y\": [-0.8058842627615331, 0.9797082212953491, 0.6379635383022297, 1.4548329154127562, -2.335484400509173, -0.6623770650682406, 0.7535702956405469, -0.6236079353039102, 1.5863547334142853, 0.5501662700248987, 0.5544553984982873, -0.8026437001666429, -1.3410112046609501, -0.15432536507994782, 0.5869254121772779, 2.1862014691579392, -0.8596447818377434, 0.22903537802967597, -1.9527835306690624, -0.7106466834944147, 0.9879654019609568, 0.43989617483472826, 0.8879983605688165, 0.30101447395780634, -1.1269830174872864, 1.637713689364425, 2.19484065473828, 2.1351243435618557, 0.7410418985039773, 0.10250422142114304, 1.0147707958155245, 1.293569209435536, -0.30913414653112375, 0.9485462047058678, 0.8621835590849038, 0.30367158443875586, 1.553251492944668, -1.0866663386699786, -0.738456098631491, -1.2677923318105067, -1.5255450657829206, 0.5806873056280587, -1.2980488960785543, 1.2749609068257286, 0.44492001246999946, -0.9179560951815965, 0.7796482114958154, -1.6263294936914727, 0.5701756325323951, 0.5616757646494824, 2.0692782403749996, -0.6998366536532751, 1.7451322151939659, -0.41932548798157826, 0.12205020250823236, 0.5315818152632557, 0.5427953889005159, 0.4439151325921603, -0.9341713046286217, 0.178731397553212, -2.0905963494997692, 0.6628433514890515, -1.0717854744470323, 0.6395126809145872, -0.5506483770131305, -0.13274463767961525, -1.1915154310340677, -2.0013163307379864, 0.303189753519302, -0.9738683344814172, 0.2200647357558618, 0.5528113656617654, 0.03798789279734366, -0.033497342180987676, 0.6561751895549323, -1.296629861664313, -0.9939882703168663, -2.4811780037000126, 0.5163737334382271, -0.8509505825124314, 0.18521698690709562, 0.400969571594376, 0.09284692825371736, 0.6662143145592785, 0.38045010667313794, -0.6764269749617707, -1.9590494783739336, 0.0702745069971556, -0.9868397186829913, 0.48576342854090954, 0.9649650807272201, 0.018040177384070485, 0.37114273233268846, 1.8869512978114056, 1.333566572763461, 2.177844651149719, -1.4653390081808297, -1.5728963693526394, -0.1622957734581275, -0.7038966086121956]}],\n",
       "                        {\"legend\": {\"bgcolor\": \"#F5F6F9\", \"font\": {\"color\": \"#4D5663\"}}, \"paper_bgcolor\": \"#F5F6F9\", \"plot_bgcolor\": \"#F5F6F9\", \"template\": {\"data\": {\"bar\": [{\"error_x\": {\"color\": \"#2a3f5f\"}, \"error_y\": {\"color\": \"#2a3f5f\"}, \"marker\": {\"line\": {\"color\": \"#E5ECF6\", \"width\": 0.5}}, \"type\": \"bar\"}], \"barpolar\": [{\"marker\": {\"line\": {\"color\": \"#E5ECF6\", \"width\": 0.5}}, \"type\": \"barpolar\"}], \"carpet\": [{\"aaxis\": {\"endlinecolor\": \"#2a3f5f\", \"gridcolor\": \"white\", \"linecolor\": \"white\", \"minorgridcolor\": \"white\", \"startlinecolor\": \"#2a3f5f\"}, \"baxis\": {\"endlinecolor\": \"#2a3f5f\", \"gridcolor\": \"white\", \"linecolor\": \"white\", \"minorgridcolor\": \"white\", \"startlinecolor\": \"#2a3f5f\"}, \"type\": \"carpet\"}], \"choropleth\": [{\"colorbar\": {\"outlinewidth\": 0, \"ticks\": \"\"}, \"type\": \"choropleth\"}], \"contour\": [{\"colorbar\": {\"outlinewidth\": 0, \"ticks\": \"\"}, \"colorscale\": [[0.0, \"#0d0887\"], [0.1111111111111111, \"#46039f\"], [0.2222222222222222, \"#7201a8\"], [0.3333333333333333, \"#9c179e\"], [0.4444444444444444, \"#bd3786\"], [0.5555555555555556, \"#d8576b\"], [0.6666666666666666, \"#ed7953\"], [0.7777777777777778, \"#fb9f3a\"], [0.8888888888888888, \"#fdca26\"], [1.0, \"#f0f921\"]], \"type\": \"contour\"}], \"contourcarpet\": [{\"colorbar\": {\"outlinewidth\": 0, \"ticks\": \"\"}, \"type\": \"contourcarpet\"}], \"heatmap\": [{\"colorbar\": {\"outlinewidth\": 0, \"ticks\": \"\"}, \"colorscale\": [[0.0, \"#0d0887\"], [0.1111111111111111, \"#46039f\"], [0.2222222222222222, \"#7201a8\"], [0.3333333333333333, \"#9c179e\"], [0.4444444444444444, \"#bd3786\"], [0.5555555555555556, \"#d8576b\"], [0.6666666666666666, \"#ed7953\"], [0.7777777777777778, \"#fb9f3a\"], [0.8888888888888888, \"#fdca26\"], [1.0, \"#f0f921\"]], \"type\": \"heatmap\"}], \"heatmapgl\": [{\"colorbar\": {\"outlinewidth\": 0, \"ticks\": \"\"}, \"colorscale\": [[0.0, \"#0d0887\"], [0.1111111111111111, \"#46039f\"], [0.2222222222222222, \"#7201a8\"], [0.3333333333333333, \"#9c179e\"], [0.4444444444444444, \"#bd3786\"], [0.5555555555555556, \"#d8576b\"], [0.6666666666666666, \"#ed7953\"], [0.7777777777777778, \"#fb9f3a\"], [0.8888888888888888, \"#fdca26\"], [1.0, \"#f0f921\"]], \"type\": \"heatmapgl\"}], \"histogram\": [{\"marker\": {\"colorbar\": {\"outlinewidth\": 0, \"ticks\": \"\"}}, \"type\": \"histogram\"}], \"histogram2d\": [{\"colorbar\": {\"outlinewidth\": 0, \"ticks\": \"\"}, \"colorscale\": [[0.0, \"#0d0887\"], [0.1111111111111111, \"#46039f\"], [0.2222222222222222, \"#7201a8\"], [0.3333333333333333, \"#9c179e\"], [0.4444444444444444, \"#bd3786\"], [0.5555555555555556, \"#d8576b\"], [0.6666666666666666, \"#ed7953\"], [0.7777777777777778, \"#fb9f3a\"], [0.8888888888888888, \"#fdca26\"], [1.0, \"#f0f921\"]], \"type\": \"histogram2d\"}], \"histogram2dcontour\": [{\"colorbar\": {\"outlinewidth\": 0, \"ticks\": \"\"}, \"colorscale\": [[0.0, \"#0d0887\"], [0.1111111111111111, \"#46039f\"], [0.2222222222222222, \"#7201a8\"], [0.3333333333333333, \"#9c179e\"], [0.4444444444444444, \"#bd3786\"], [0.5555555555555556, \"#d8576b\"], [0.6666666666666666, \"#ed7953\"], [0.7777777777777778, \"#fb9f3a\"], [0.8888888888888888, \"#fdca26\"], [1.0, \"#f0f921\"]], \"type\": \"histogram2dcontour\"}], \"mesh3d\": [{\"colorbar\": {\"outlinewidth\": 0, \"ticks\": \"\"}, \"type\": \"mesh3d\"}], \"parcoords\": [{\"line\": {\"colorbar\": {\"outlinewidth\": 0, \"ticks\": \"\"}}, \"type\": \"parcoords\"}], \"pie\": [{\"automargin\": true, \"type\": \"pie\"}], \"scatter\": [{\"marker\": {\"colorbar\": {\"outlinewidth\": 0, \"ticks\": \"\"}}, \"type\": \"scatter\"}], \"scatter3d\": [{\"line\": {\"colorbar\": {\"outlinewidth\": 0, \"ticks\": \"\"}}, \"marker\": {\"colorbar\": {\"outlinewidth\": 0, \"ticks\": \"\"}}, \"type\": \"scatter3d\"}], \"scattercarpet\": [{\"marker\": {\"colorbar\": {\"outlinewidth\": 0, \"ticks\": \"\"}}, \"type\": \"scattercarpet\"}], \"scattergeo\": [{\"marker\": {\"colorbar\": {\"outlinewidth\": 0, \"ticks\": \"\"}}, \"type\": \"scattergeo\"}], \"scattergl\": [{\"marker\": {\"colorbar\": {\"outlinewidth\": 0, \"ticks\": \"\"}}, \"type\": \"scattergl\"}], \"scattermapbox\": [{\"marker\": {\"colorbar\": {\"outlinewidth\": 0, \"ticks\": \"\"}}, \"type\": \"scattermapbox\"}], \"scatterpolar\": [{\"marker\": {\"colorbar\": {\"outlinewidth\": 0, \"ticks\": \"\"}}, \"type\": \"scatterpolar\"}], \"scatterpolargl\": [{\"marker\": {\"colorbar\": {\"outlinewidth\": 0, \"ticks\": \"\"}}, \"type\": \"scatterpolargl\"}], \"scatterternary\": [{\"marker\": {\"colorbar\": {\"outlinewidth\": 0, \"ticks\": \"\"}}, \"type\": \"scatterternary\"}], \"surface\": [{\"colorbar\": {\"outlinewidth\": 0, \"ticks\": \"\"}, \"colorscale\": [[0.0, \"#0d0887\"], [0.1111111111111111, \"#46039f\"], [0.2222222222222222, \"#7201a8\"], [0.3333333333333333, \"#9c179e\"], [0.4444444444444444, \"#bd3786\"], [0.5555555555555556, \"#d8576b\"], [0.6666666666666666, \"#ed7953\"], [0.7777777777777778, \"#fb9f3a\"], [0.8888888888888888, \"#fdca26\"], [1.0, \"#f0f921\"]], \"type\": \"surface\"}], \"table\": [{\"cells\": {\"fill\": {\"color\": \"#EBF0F8\"}, \"line\": {\"color\": \"white\"}}, \"header\": {\"fill\": {\"color\": \"#C8D4E3\"}, \"line\": {\"color\": \"white\"}}, \"type\": \"table\"}]}, \"layout\": {\"annotationdefaults\": {\"arrowcolor\": \"#2a3f5f\", \"arrowhead\": 0, \"arrowwidth\": 1}, \"coloraxis\": {\"colorbar\": {\"outlinewidth\": 0, \"ticks\": \"\"}}, \"colorscale\": {\"diverging\": [[0, \"#8e0152\"], [0.1, \"#c51b7d\"], [0.2, \"#de77ae\"], [0.3, \"#f1b6da\"], [0.4, \"#fde0ef\"], [0.5, \"#f7f7f7\"], [0.6, \"#e6f5d0\"], [0.7, \"#b8e186\"], [0.8, \"#7fbc41\"], [0.9, \"#4d9221\"], [1, \"#276419\"]], \"sequential\": [[0.0, \"#0d0887\"], [0.1111111111111111, \"#46039f\"], [0.2222222222222222, \"#7201a8\"], [0.3333333333333333, \"#9c179e\"], [0.4444444444444444, \"#bd3786\"], [0.5555555555555556, \"#d8576b\"], [0.6666666666666666, \"#ed7953\"], [0.7777777777777778, \"#fb9f3a\"], [0.8888888888888888, \"#fdca26\"], [1.0, \"#f0f921\"]], \"sequentialminus\": [[0.0, \"#0d0887\"], [0.1111111111111111, \"#46039f\"], [0.2222222222222222, \"#7201a8\"], [0.3333333333333333, \"#9c179e\"], [0.4444444444444444, \"#bd3786\"], [0.5555555555555556, \"#d8576b\"], [0.6666666666666666, \"#ed7953\"], [0.7777777777777778, \"#fb9f3a\"], [0.8888888888888888, \"#fdca26\"], [1.0, \"#f0f921\"]]}, \"colorway\": [\"#636efa\", \"#EF553B\", \"#00cc96\", \"#ab63fa\", \"#FFA15A\", \"#19d3f3\", \"#FF6692\", \"#B6E880\", \"#FF97FF\", \"#FECB52\"], \"font\": {\"color\": \"#2a3f5f\"}, \"geo\": {\"bgcolor\": \"white\", \"lakecolor\": \"white\", \"landcolor\": \"#E5ECF6\", \"showlakes\": true, \"showland\": true, \"subunitcolor\": \"white\"}, \"hoverlabel\": {\"align\": \"left\"}, \"hovermode\": \"closest\", \"mapbox\": {\"style\": \"light\"}, \"paper_bgcolor\": \"white\", \"plot_bgcolor\": \"#E5ECF6\", \"polar\": {\"angularaxis\": {\"gridcolor\": \"white\", \"linecolor\": \"white\", \"ticks\": \"\"}, \"bgcolor\": \"#E5ECF6\", \"radialaxis\": {\"gridcolor\": \"white\", \"linecolor\": \"white\", \"ticks\": \"\"}}, \"scene\": {\"xaxis\": {\"backgroundcolor\": \"#E5ECF6\", \"gridcolor\": \"white\", \"gridwidth\": 2, \"linecolor\": \"white\", \"showbackground\": true, \"ticks\": \"\", \"zerolinecolor\": \"white\"}, \"yaxis\": {\"backgroundcolor\": \"#E5ECF6\", \"gridcolor\": \"white\", \"gridwidth\": 2, \"linecolor\": \"white\", \"showbackground\": true, \"ticks\": \"\", \"zerolinecolor\": \"white\"}, \"zaxis\": {\"backgroundcolor\": \"#E5ECF6\", \"gridcolor\": \"white\", \"gridwidth\": 2, \"linecolor\": \"white\", \"showbackground\": true, \"ticks\": \"\", \"zerolinecolor\": \"white\"}}, \"shapedefaults\": {\"line\": {\"color\": \"#2a3f5f\"}}, \"ternary\": {\"aaxis\": {\"gridcolor\": \"white\", \"linecolor\": \"white\", \"ticks\": \"\"}, \"baxis\": {\"gridcolor\": \"white\", \"linecolor\": \"white\", \"ticks\": \"\"}, \"bgcolor\": \"#E5ECF6\", \"caxis\": {\"gridcolor\": \"white\", \"linecolor\": \"white\", \"ticks\": \"\"}}, \"title\": {\"x\": 0.05}, \"xaxis\": {\"automargin\": true, \"gridcolor\": \"white\", \"linecolor\": \"white\", \"ticks\": \"\", \"title\": {\"standoff\": 15}, \"zerolinecolor\": \"white\", \"zerolinewidth\": 2}, \"yaxis\": {\"automargin\": true, \"gridcolor\": \"white\", \"linecolor\": \"white\", \"ticks\": \"\", \"title\": {\"standoff\": 15}, \"zerolinecolor\": \"white\", \"zerolinewidth\": 2}}}, \"title\": {\"font\": {\"color\": \"#4D5663\"}}, \"xaxis\": {\"gridcolor\": \"#E1E5ED\", \"showgrid\": true, \"tickfont\": {\"color\": \"#4D5663\"}, \"title\": {\"font\": {\"color\": \"#4D5663\"}, \"text\": \"\"}, \"zerolinecolor\": \"#E1E5ED\"}, \"yaxis\": {\"gridcolor\": \"#E1E5ED\", \"showgrid\": true, \"tickfont\": {\"color\": \"#4D5663\"}, \"title\": {\"font\": {\"color\": \"#4D5663\"}, \"text\": \"\"}, \"zerolinecolor\": \"#E1E5ED\"}},\n",
       "                        {\"showLink\": true, \"linkText\": \"Export to plot.ly\", \"plotlyServerURL\": \"https://plot.ly\", \"responsive\": true}\n",
       "                    ).then(function(){\n",
       "                            \n",
       "var gd = document.getElementById('9e272be7-3d8d-469c-b05a-43523b22d6cd');\n",
       "var x = new MutationObserver(function (mutations, observer) {{\n",
       "        var display = window.getComputedStyle(gd).display;\n",
       "        if (!display || display === 'none') {{\n",
       "            console.log([gd, 'removed!']);\n",
       "            Plotly.purge(gd);\n",
       "            observer.disconnect();\n",
       "        }}\n",
       "}});\n",
       "\n",
       "// Listen for the removal of the full notebook cells\n",
       "var notebookContainer = gd.closest('#notebook-container');\n",
       "if (notebookContainer) {{\n",
       "    x.observe(notebookContainer, {childList: true});\n",
       "}}\n",
       "\n",
       "// Listen for the clearing of the current output cell\n",
       "var outputEl = gd.closest('.output');\n",
       "if (outputEl) {{\n",
       "    x.observe(outputEl, {childList: true});\n",
       "}}\n",
       "\n",
       "                        })\n",
       "                };\n",
       "                });\n",
       "            </script>\n",
       "        </div>"
      ]
     },
     "metadata": {},
     "output_type": "display_data"
    }
   ],
   "source": [
    "df.iplot(kind ='bar')"
   ]
  },
  {
   "cell_type": "code",
   "execution_count": 37,
   "metadata": {},
   "outputs": [
    {
     "data": {
      "application/vnd.plotly.v1+json": {
       "config": {
        "linkText": "Export to plot.ly",
        "plotlyServerURL": "https://plot.ly",
        "showLink": true
       },
       "data": [
        {
         "marker": {
          "color": "rgba(255, 153, 51, 0.6)",
          "line": {
           "color": "rgba(255, 153, 51, 1.0)",
           "width": 1
          }
         },
         "name": "None",
         "orientation": "v",
         "text": "",
         "type": "bar",
         "x": [
          "A",
          "B",
          "C",
          "D"
         ],
         "y": [
          100,
          100,
          100,
          100
         ]
        }
       ],
       "layout": {
        "legend": {
         "bgcolor": "#F5F6F9",
         "font": {
          "color": "#4D5663"
         }
        },
        "paper_bgcolor": "#F5F6F9",
        "plot_bgcolor": "#F5F6F9",
        "template": {
         "data": {
          "bar": [
           {
            "error_x": {
             "color": "#2a3f5f"
            },
            "error_y": {
             "color": "#2a3f5f"
            },
            "marker": {
             "line": {
              "color": "#E5ECF6",
              "width": 0.5
             }
            },
            "type": "bar"
           }
          ],
          "barpolar": [
           {
            "marker": {
             "line": {
              "color": "#E5ECF6",
              "width": 0.5
             }
            },
            "type": "barpolar"
           }
          ],
          "carpet": [
           {
            "aaxis": {
             "endlinecolor": "#2a3f5f",
             "gridcolor": "white",
             "linecolor": "white",
             "minorgridcolor": "white",
             "startlinecolor": "#2a3f5f"
            },
            "baxis": {
             "endlinecolor": "#2a3f5f",
             "gridcolor": "white",
             "linecolor": "white",
             "minorgridcolor": "white",
             "startlinecolor": "#2a3f5f"
            },
            "type": "carpet"
           }
          ],
          "choropleth": [
           {
            "colorbar": {
             "outlinewidth": 0,
             "ticks": ""
            },
            "type": "choropleth"
           }
          ],
          "contour": [
           {
            "colorbar": {
             "outlinewidth": 0,
             "ticks": ""
            },
            "colorscale": [
             [
              0,
              "#0d0887"
             ],
             [
              0.1111111111111111,
              "#46039f"
             ],
             [
              0.2222222222222222,
              "#7201a8"
             ],
             [
              0.3333333333333333,
              "#9c179e"
             ],
             [
              0.4444444444444444,
              "#bd3786"
             ],
             [
              0.5555555555555556,
              "#d8576b"
             ],
             [
              0.6666666666666666,
              "#ed7953"
             ],
             [
              0.7777777777777778,
              "#fb9f3a"
             ],
             [
              0.8888888888888888,
              "#fdca26"
             ],
             [
              1,
              "#f0f921"
             ]
            ],
            "type": "contour"
           }
          ],
          "contourcarpet": [
           {
            "colorbar": {
             "outlinewidth": 0,
             "ticks": ""
            },
            "type": "contourcarpet"
           }
          ],
          "heatmap": [
           {
            "colorbar": {
             "outlinewidth": 0,
             "ticks": ""
            },
            "colorscale": [
             [
              0,
              "#0d0887"
             ],
             [
              0.1111111111111111,
              "#46039f"
             ],
             [
              0.2222222222222222,
              "#7201a8"
             ],
             [
              0.3333333333333333,
              "#9c179e"
             ],
             [
              0.4444444444444444,
              "#bd3786"
             ],
             [
              0.5555555555555556,
              "#d8576b"
             ],
             [
              0.6666666666666666,
              "#ed7953"
             ],
             [
              0.7777777777777778,
              "#fb9f3a"
             ],
             [
              0.8888888888888888,
              "#fdca26"
             ],
             [
              1,
              "#f0f921"
             ]
            ],
            "type": "heatmap"
           }
          ],
          "heatmapgl": [
           {
            "colorbar": {
             "outlinewidth": 0,
             "ticks": ""
            },
            "colorscale": [
             [
              0,
              "#0d0887"
             ],
             [
              0.1111111111111111,
              "#46039f"
             ],
             [
              0.2222222222222222,
              "#7201a8"
             ],
             [
              0.3333333333333333,
              "#9c179e"
             ],
             [
              0.4444444444444444,
              "#bd3786"
             ],
             [
              0.5555555555555556,
              "#d8576b"
             ],
             [
              0.6666666666666666,
              "#ed7953"
             ],
             [
              0.7777777777777778,
              "#fb9f3a"
             ],
             [
              0.8888888888888888,
              "#fdca26"
             ],
             [
              1,
              "#f0f921"
             ]
            ],
            "type": "heatmapgl"
           }
          ],
          "histogram": [
           {
            "marker": {
             "colorbar": {
              "outlinewidth": 0,
              "ticks": ""
             }
            },
            "type": "histogram"
           }
          ],
          "histogram2d": [
           {
            "colorbar": {
             "outlinewidth": 0,
             "ticks": ""
            },
            "colorscale": [
             [
              0,
              "#0d0887"
             ],
             [
              0.1111111111111111,
              "#46039f"
             ],
             [
              0.2222222222222222,
              "#7201a8"
             ],
             [
              0.3333333333333333,
              "#9c179e"
             ],
             [
              0.4444444444444444,
              "#bd3786"
             ],
             [
              0.5555555555555556,
              "#d8576b"
             ],
             [
              0.6666666666666666,
              "#ed7953"
             ],
             [
              0.7777777777777778,
              "#fb9f3a"
             ],
             [
              0.8888888888888888,
              "#fdca26"
             ],
             [
              1,
              "#f0f921"
             ]
            ],
            "type": "histogram2d"
           }
          ],
          "histogram2dcontour": [
           {
            "colorbar": {
             "outlinewidth": 0,
             "ticks": ""
            },
            "colorscale": [
             [
              0,
              "#0d0887"
             ],
             [
              0.1111111111111111,
              "#46039f"
             ],
             [
              0.2222222222222222,
              "#7201a8"
             ],
             [
              0.3333333333333333,
              "#9c179e"
             ],
             [
              0.4444444444444444,
              "#bd3786"
             ],
             [
              0.5555555555555556,
              "#d8576b"
             ],
             [
              0.6666666666666666,
              "#ed7953"
             ],
             [
              0.7777777777777778,
              "#fb9f3a"
             ],
             [
              0.8888888888888888,
              "#fdca26"
             ],
             [
              1,
              "#f0f921"
             ]
            ],
            "type": "histogram2dcontour"
           }
          ],
          "mesh3d": [
           {
            "colorbar": {
             "outlinewidth": 0,
             "ticks": ""
            },
            "type": "mesh3d"
           }
          ],
          "parcoords": [
           {
            "line": {
             "colorbar": {
              "outlinewidth": 0,
              "ticks": ""
             }
            },
            "type": "parcoords"
           }
          ],
          "pie": [
           {
            "automargin": true,
            "type": "pie"
           }
          ],
          "scatter": [
           {
            "marker": {
             "colorbar": {
              "outlinewidth": 0,
              "ticks": ""
             }
            },
            "type": "scatter"
           }
          ],
          "scatter3d": [
           {
            "line": {
             "colorbar": {
              "outlinewidth": 0,
              "ticks": ""
             }
            },
            "marker": {
             "colorbar": {
              "outlinewidth": 0,
              "ticks": ""
             }
            },
            "type": "scatter3d"
           }
          ],
          "scattercarpet": [
           {
            "marker": {
             "colorbar": {
              "outlinewidth": 0,
              "ticks": ""
             }
            },
            "type": "scattercarpet"
           }
          ],
          "scattergeo": [
           {
            "marker": {
             "colorbar": {
              "outlinewidth": 0,
              "ticks": ""
             }
            },
            "type": "scattergeo"
           }
          ],
          "scattergl": [
           {
            "marker": {
             "colorbar": {
              "outlinewidth": 0,
              "ticks": ""
             }
            },
            "type": "scattergl"
           }
          ],
          "scattermapbox": [
           {
            "marker": {
             "colorbar": {
              "outlinewidth": 0,
              "ticks": ""
             }
            },
            "type": "scattermapbox"
           }
          ],
          "scatterpolar": [
           {
            "marker": {
             "colorbar": {
              "outlinewidth": 0,
              "ticks": ""
             }
            },
            "type": "scatterpolar"
           }
          ],
          "scatterpolargl": [
           {
            "marker": {
             "colorbar": {
              "outlinewidth": 0,
              "ticks": ""
             }
            },
            "type": "scatterpolargl"
           }
          ],
          "scatterternary": [
           {
            "marker": {
             "colorbar": {
              "outlinewidth": 0,
              "ticks": ""
             }
            },
            "type": "scatterternary"
           }
          ],
          "surface": [
           {
            "colorbar": {
             "outlinewidth": 0,
             "ticks": ""
            },
            "colorscale": [
             [
              0,
              "#0d0887"
             ],
             [
              0.1111111111111111,
              "#46039f"
             ],
             [
              0.2222222222222222,
              "#7201a8"
             ],
             [
              0.3333333333333333,
              "#9c179e"
             ],
             [
              0.4444444444444444,
              "#bd3786"
             ],
             [
              0.5555555555555556,
              "#d8576b"
             ],
             [
              0.6666666666666666,
              "#ed7953"
             ],
             [
              0.7777777777777778,
              "#fb9f3a"
             ],
             [
              0.8888888888888888,
              "#fdca26"
             ],
             [
              1,
              "#f0f921"
             ]
            ],
            "type": "surface"
           }
          ],
          "table": [
           {
            "cells": {
             "fill": {
              "color": "#EBF0F8"
             },
             "line": {
              "color": "white"
             }
            },
            "header": {
             "fill": {
              "color": "#C8D4E3"
             },
             "line": {
              "color": "white"
             }
            },
            "type": "table"
           }
          ]
         },
         "layout": {
          "annotationdefaults": {
           "arrowcolor": "#2a3f5f",
           "arrowhead": 0,
           "arrowwidth": 1
          },
          "coloraxis": {
           "colorbar": {
            "outlinewidth": 0,
            "ticks": ""
           }
          },
          "colorscale": {
           "diverging": [
            [
             0,
             "#8e0152"
            ],
            [
             0.1,
             "#c51b7d"
            ],
            [
             0.2,
             "#de77ae"
            ],
            [
             0.3,
             "#f1b6da"
            ],
            [
             0.4,
             "#fde0ef"
            ],
            [
             0.5,
             "#f7f7f7"
            ],
            [
             0.6,
             "#e6f5d0"
            ],
            [
             0.7,
             "#b8e186"
            ],
            [
             0.8,
             "#7fbc41"
            ],
            [
             0.9,
             "#4d9221"
            ],
            [
             1,
             "#276419"
            ]
           ],
           "sequential": [
            [
             0,
             "#0d0887"
            ],
            [
             0.1111111111111111,
             "#46039f"
            ],
            [
             0.2222222222222222,
             "#7201a8"
            ],
            [
             0.3333333333333333,
             "#9c179e"
            ],
            [
             0.4444444444444444,
             "#bd3786"
            ],
            [
             0.5555555555555556,
             "#d8576b"
            ],
            [
             0.6666666666666666,
             "#ed7953"
            ],
            [
             0.7777777777777778,
             "#fb9f3a"
            ],
            [
             0.8888888888888888,
             "#fdca26"
            ],
            [
             1,
             "#f0f921"
            ]
           ],
           "sequentialminus": [
            [
             0,
             "#0d0887"
            ],
            [
             0.1111111111111111,
             "#46039f"
            ],
            [
             0.2222222222222222,
             "#7201a8"
            ],
            [
             0.3333333333333333,
             "#9c179e"
            ],
            [
             0.4444444444444444,
             "#bd3786"
            ],
            [
             0.5555555555555556,
             "#d8576b"
            ],
            [
             0.6666666666666666,
             "#ed7953"
            ],
            [
             0.7777777777777778,
             "#fb9f3a"
            ],
            [
             0.8888888888888888,
             "#fdca26"
            ],
            [
             1,
             "#f0f921"
            ]
           ]
          },
          "colorway": [
           "#636efa",
           "#EF553B",
           "#00cc96",
           "#ab63fa",
           "#FFA15A",
           "#19d3f3",
           "#FF6692",
           "#B6E880",
           "#FF97FF",
           "#FECB52"
          ],
          "font": {
           "color": "#2a3f5f"
          },
          "geo": {
           "bgcolor": "white",
           "lakecolor": "white",
           "landcolor": "#E5ECF6",
           "showlakes": true,
           "showland": true,
           "subunitcolor": "white"
          },
          "hoverlabel": {
           "align": "left"
          },
          "hovermode": "closest",
          "mapbox": {
           "style": "light"
          },
          "paper_bgcolor": "white",
          "plot_bgcolor": "#E5ECF6",
          "polar": {
           "angularaxis": {
            "gridcolor": "white",
            "linecolor": "white",
            "ticks": ""
           },
           "bgcolor": "#E5ECF6",
           "radialaxis": {
            "gridcolor": "white",
            "linecolor": "white",
            "ticks": ""
           }
          },
          "scene": {
           "xaxis": {
            "backgroundcolor": "#E5ECF6",
            "gridcolor": "white",
            "gridwidth": 2,
            "linecolor": "white",
            "showbackground": true,
            "ticks": "",
            "zerolinecolor": "white"
           },
           "yaxis": {
            "backgroundcolor": "#E5ECF6",
            "gridcolor": "white",
            "gridwidth": 2,
            "linecolor": "white",
            "showbackground": true,
            "ticks": "",
            "zerolinecolor": "white"
           },
           "zaxis": {
            "backgroundcolor": "#E5ECF6",
            "gridcolor": "white",
            "gridwidth": 2,
            "linecolor": "white",
            "showbackground": true,
            "ticks": "",
            "zerolinecolor": "white"
           }
          },
          "shapedefaults": {
           "line": {
            "color": "#2a3f5f"
           }
          },
          "ternary": {
           "aaxis": {
            "gridcolor": "white",
            "linecolor": "white",
            "ticks": ""
           },
           "baxis": {
            "gridcolor": "white",
            "linecolor": "white",
            "ticks": ""
           },
           "bgcolor": "#E5ECF6",
           "caxis": {
            "gridcolor": "white",
            "linecolor": "white",
            "ticks": ""
           }
          },
          "title": {
           "x": 0.05
          },
          "xaxis": {
           "automargin": true,
           "gridcolor": "white",
           "linecolor": "white",
           "ticks": "",
           "title": {
            "standoff": 15
           },
           "zerolinecolor": "white",
           "zerolinewidth": 2
          },
          "yaxis": {
           "automargin": true,
           "gridcolor": "white",
           "linecolor": "white",
           "ticks": "",
           "title": {
            "standoff": 15
           },
           "zerolinecolor": "white",
           "zerolinewidth": 2
          }
         }
        },
        "title": {
         "font": {
          "color": "#4D5663"
         }
        },
        "xaxis": {
         "gridcolor": "#E1E5ED",
         "showgrid": true,
         "tickfont": {
          "color": "#4D5663"
         },
         "title": {
          "font": {
           "color": "#4D5663"
          },
          "text": ""
         },
         "zerolinecolor": "#E1E5ED"
        },
        "yaxis": {
         "gridcolor": "#E1E5ED",
         "showgrid": true,
         "tickfont": {
          "color": "#4D5663"
         },
         "title": {
          "font": {
           "color": "#4D5663"
          },
          "text": ""
         },
         "zerolinecolor": "#E1E5ED"
        }
       }
      },
      "text/html": [
       "<div>\n",
       "        \n",
       "        \n",
       "            <div id=\"2f4c46df-daa5-4120-97e7-bbc8e90f7bd5\" class=\"plotly-graph-div\" style=\"height:525px; width:100%;\"></div>\n",
       "            <script type=\"text/javascript\">\n",
       "                require([\"plotly\"], function(Plotly) {\n",
       "                    window.PLOTLYENV=window.PLOTLYENV || {};\n",
       "                    window.PLOTLYENV.BASE_URL='https://plot.ly';\n",
       "                    \n",
       "                if (document.getElementById(\"2f4c46df-daa5-4120-97e7-bbc8e90f7bd5\")) {\n",
       "                    Plotly.newPlot(\n",
       "                        '2f4c46df-daa5-4120-97e7-bbc8e90f7bd5',\n",
       "                        [{\"marker\": {\"color\": \"rgba(255, 153, 51, 0.6)\", \"line\": {\"color\": \"rgba(255, 153, 51, 1.0)\", \"width\": 1}}, \"name\": \"None\", \"orientation\": \"v\", \"text\": \"\", \"type\": \"bar\", \"x\": [\"A\", \"B\", \"C\", \"D\"], \"y\": [100, 100, 100, 100]}],\n",
       "                        {\"legend\": {\"bgcolor\": \"#F5F6F9\", \"font\": {\"color\": \"#4D5663\"}}, \"paper_bgcolor\": \"#F5F6F9\", \"plot_bgcolor\": \"#F5F6F9\", \"template\": {\"data\": {\"bar\": [{\"error_x\": {\"color\": \"#2a3f5f\"}, \"error_y\": {\"color\": \"#2a3f5f\"}, \"marker\": {\"line\": {\"color\": \"#E5ECF6\", \"width\": 0.5}}, \"type\": \"bar\"}], \"barpolar\": [{\"marker\": {\"line\": {\"color\": \"#E5ECF6\", \"width\": 0.5}}, \"type\": \"barpolar\"}], \"carpet\": [{\"aaxis\": {\"endlinecolor\": \"#2a3f5f\", \"gridcolor\": \"white\", \"linecolor\": \"white\", \"minorgridcolor\": \"white\", \"startlinecolor\": \"#2a3f5f\"}, \"baxis\": {\"endlinecolor\": \"#2a3f5f\", \"gridcolor\": \"white\", \"linecolor\": \"white\", \"minorgridcolor\": \"white\", \"startlinecolor\": \"#2a3f5f\"}, \"type\": \"carpet\"}], \"choropleth\": [{\"colorbar\": {\"outlinewidth\": 0, \"ticks\": \"\"}, \"type\": \"choropleth\"}], \"contour\": [{\"colorbar\": {\"outlinewidth\": 0, \"ticks\": \"\"}, \"colorscale\": [[0.0, \"#0d0887\"], [0.1111111111111111, \"#46039f\"], [0.2222222222222222, \"#7201a8\"], [0.3333333333333333, \"#9c179e\"], [0.4444444444444444, \"#bd3786\"], [0.5555555555555556, \"#d8576b\"], [0.6666666666666666, \"#ed7953\"], [0.7777777777777778, \"#fb9f3a\"], [0.8888888888888888, \"#fdca26\"], [1.0, \"#f0f921\"]], \"type\": \"contour\"}], \"contourcarpet\": [{\"colorbar\": {\"outlinewidth\": 0, \"ticks\": \"\"}, \"type\": \"contourcarpet\"}], \"heatmap\": [{\"colorbar\": {\"outlinewidth\": 0, \"ticks\": \"\"}, \"colorscale\": [[0.0, \"#0d0887\"], [0.1111111111111111, \"#46039f\"], [0.2222222222222222, \"#7201a8\"], [0.3333333333333333, \"#9c179e\"], [0.4444444444444444, \"#bd3786\"], [0.5555555555555556, \"#d8576b\"], [0.6666666666666666, \"#ed7953\"], [0.7777777777777778, \"#fb9f3a\"], [0.8888888888888888, \"#fdca26\"], [1.0, \"#f0f921\"]], \"type\": \"heatmap\"}], \"heatmapgl\": [{\"colorbar\": {\"outlinewidth\": 0, \"ticks\": \"\"}, \"colorscale\": [[0.0, \"#0d0887\"], [0.1111111111111111, \"#46039f\"], [0.2222222222222222, \"#7201a8\"], [0.3333333333333333, \"#9c179e\"], [0.4444444444444444, \"#bd3786\"], [0.5555555555555556, \"#d8576b\"], [0.6666666666666666, \"#ed7953\"], [0.7777777777777778, \"#fb9f3a\"], [0.8888888888888888, \"#fdca26\"], [1.0, \"#f0f921\"]], \"type\": \"heatmapgl\"}], \"histogram\": [{\"marker\": {\"colorbar\": {\"outlinewidth\": 0, \"ticks\": \"\"}}, \"type\": \"histogram\"}], \"histogram2d\": [{\"colorbar\": {\"outlinewidth\": 0, \"ticks\": \"\"}, \"colorscale\": [[0.0, \"#0d0887\"], [0.1111111111111111, \"#46039f\"], [0.2222222222222222, \"#7201a8\"], [0.3333333333333333, \"#9c179e\"], [0.4444444444444444, \"#bd3786\"], [0.5555555555555556, \"#d8576b\"], [0.6666666666666666, \"#ed7953\"], [0.7777777777777778, \"#fb9f3a\"], [0.8888888888888888, \"#fdca26\"], [1.0, \"#f0f921\"]], \"type\": \"histogram2d\"}], \"histogram2dcontour\": [{\"colorbar\": {\"outlinewidth\": 0, \"ticks\": \"\"}, \"colorscale\": [[0.0, \"#0d0887\"], [0.1111111111111111, \"#46039f\"], [0.2222222222222222, \"#7201a8\"], [0.3333333333333333, \"#9c179e\"], [0.4444444444444444, \"#bd3786\"], [0.5555555555555556, \"#d8576b\"], [0.6666666666666666, \"#ed7953\"], [0.7777777777777778, \"#fb9f3a\"], [0.8888888888888888, \"#fdca26\"], [1.0, \"#f0f921\"]], \"type\": \"histogram2dcontour\"}], \"mesh3d\": [{\"colorbar\": {\"outlinewidth\": 0, \"ticks\": \"\"}, \"type\": \"mesh3d\"}], \"parcoords\": [{\"line\": {\"colorbar\": {\"outlinewidth\": 0, \"ticks\": \"\"}}, \"type\": \"parcoords\"}], \"pie\": [{\"automargin\": true, \"type\": \"pie\"}], \"scatter\": [{\"marker\": {\"colorbar\": {\"outlinewidth\": 0, \"ticks\": \"\"}}, \"type\": \"scatter\"}], \"scatter3d\": [{\"line\": {\"colorbar\": {\"outlinewidth\": 0, \"ticks\": \"\"}}, \"marker\": {\"colorbar\": {\"outlinewidth\": 0, \"ticks\": \"\"}}, \"type\": \"scatter3d\"}], \"scattercarpet\": [{\"marker\": {\"colorbar\": {\"outlinewidth\": 0, \"ticks\": \"\"}}, \"type\": \"scattercarpet\"}], \"scattergeo\": [{\"marker\": {\"colorbar\": {\"outlinewidth\": 0, \"ticks\": \"\"}}, \"type\": \"scattergeo\"}], \"scattergl\": [{\"marker\": {\"colorbar\": {\"outlinewidth\": 0, \"ticks\": \"\"}}, \"type\": \"scattergl\"}], \"scattermapbox\": [{\"marker\": {\"colorbar\": {\"outlinewidth\": 0, \"ticks\": \"\"}}, \"type\": \"scattermapbox\"}], \"scatterpolar\": [{\"marker\": {\"colorbar\": {\"outlinewidth\": 0, \"ticks\": \"\"}}, \"type\": \"scatterpolar\"}], \"scatterpolargl\": [{\"marker\": {\"colorbar\": {\"outlinewidth\": 0, \"ticks\": \"\"}}, \"type\": \"scatterpolargl\"}], \"scatterternary\": [{\"marker\": {\"colorbar\": {\"outlinewidth\": 0, \"ticks\": \"\"}}, \"type\": \"scatterternary\"}], \"surface\": [{\"colorbar\": {\"outlinewidth\": 0, \"ticks\": \"\"}, \"colorscale\": [[0.0, \"#0d0887\"], [0.1111111111111111, \"#46039f\"], [0.2222222222222222, \"#7201a8\"], [0.3333333333333333, \"#9c179e\"], [0.4444444444444444, \"#bd3786\"], [0.5555555555555556, \"#d8576b\"], [0.6666666666666666, \"#ed7953\"], [0.7777777777777778, \"#fb9f3a\"], [0.8888888888888888, \"#fdca26\"], [1.0, \"#f0f921\"]], \"type\": \"surface\"}], \"table\": [{\"cells\": {\"fill\": {\"color\": \"#EBF0F8\"}, \"line\": {\"color\": \"white\"}}, \"header\": {\"fill\": {\"color\": \"#C8D4E3\"}, \"line\": {\"color\": \"white\"}}, \"type\": \"table\"}]}, \"layout\": {\"annotationdefaults\": {\"arrowcolor\": \"#2a3f5f\", \"arrowhead\": 0, \"arrowwidth\": 1}, \"coloraxis\": {\"colorbar\": {\"outlinewidth\": 0, \"ticks\": \"\"}}, \"colorscale\": {\"diverging\": [[0, \"#8e0152\"], [0.1, \"#c51b7d\"], [0.2, \"#de77ae\"], [0.3, \"#f1b6da\"], [0.4, \"#fde0ef\"], [0.5, \"#f7f7f7\"], [0.6, \"#e6f5d0\"], [0.7, \"#b8e186\"], [0.8, \"#7fbc41\"], [0.9, \"#4d9221\"], [1, \"#276419\"]], \"sequential\": [[0.0, \"#0d0887\"], [0.1111111111111111, \"#46039f\"], [0.2222222222222222, \"#7201a8\"], [0.3333333333333333, \"#9c179e\"], [0.4444444444444444, \"#bd3786\"], [0.5555555555555556, \"#d8576b\"], [0.6666666666666666, \"#ed7953\"], [0.7777777777777778, \"#fb9f3a\"], [0.8888888888888888, \"#fdca26\"], [1.0, \"#f0f921\"]], \"sequentialminus\": [[0.0, \"#0d0887\"], [0.1111111111111111, \"#46039f\"], [0.2222222222222222, \"#7201a8\"], [0.3333333333333333, \"#9c179e\"], [0.4444444444444444, \"#bd3786\"], [0.5555555555555556, \"#d8576b\"], [0.6666666666666666, \"#ed7953\"], [0.7777777777777778, \"#fb9f3a\"], [0.8888888888888888, \"#fdca26\"], [1.0, \"#f0f921\"]]}, \"colorway\": [\"#636efa\", \"#EF553B\", \"#00cc96\", \"#ab63fa\", \"#FFA15A\", \"#19d3f3\", \"#FF6692\", \"#B6E880\", \"#FF97FF\", \"#FECB52\"], \"font\": {\"color\": \"#2a3f5f\"}, \"geo\": {\"bgcolor\": \"white\", \"lakecolor\": \"white\", \"landcolor\": \"#E5ECF6\", \"showlakes\": true, \"showland\": true, \"subunitcolor\": \"white\"}, \"hoverlabel\": {\"align\": \"left\"}, \"hovermode\": \"closest\", \"mapbox\": {\"style\": \"light\"}, \"paper_bgcolor\": \"white\", \"plot_bgcolor\": \"#E5ECF6\", \"polar\": {\"angularaxis\": {\"gridcolor\": \"white\", \"linecolor\": \"white\", \"ticks\": \"\"}, \"bgcolor\": \"#E5ECF6\", \"radialaxis\": {\"gridcolor\": \"white\", \"linecolor\": \"white\", \"ticks\": \"\"}}, \"scene\": {\"xaxis\": {\"backgroundcolor\": \"#E5ECF6\", \"gridcolor\": \"white\", \"gridwidth\": 2, \"linecolor\": \"white\", \"showbackground\": true, \"ticks\": \"\", \"zerolinecolor\": \"white\"}, \"yaxis\": {\"backgroundcolor\": \"#E5ECF6\", \"gridcolor\": \"white\", \"gridwidth\": 2, \"linecolor\": \"white\", \"showbackground\": true, \"ticks\": \"\", \"zerolinecolor\": \"white\"}, \"zaxis\": {\"backgroundcolor\": \"#E5ECF6\", \"gridcolor\": \"white\", \"gridwidth\": 2, \"linecolor\": \"white\", \"showbackground\": true, \"ticks\": \"\", \"zerolinecolor\": \"white\"}}, \"shapedefaults\": {\"line\": {\"color\": \"#2a3f5f\"}}, \"ternary\": {\"aaxis\": {\"gridcolor\": \"white\", \"linecolor\": \"white\", \"ticks\": \"\"}, \"baxis\": {\"gridcolor\": \"white\", \"linecolor\": \"white\", \"ticks\": \"\"}, \"bgcolor\": \"#E5ECF6\", \"caxis\": {\"gridcolor\": \"white\", \"linecolor\": \"white\", \"ticks\": \"\"}}, \"title\": {\"x\": 0.05}, \"xaxis\": {\"automargin\": true, \"gridcolor\": \"white\", \"linecolor\": \"white\", \"ticks\": \"\", \"title\": {\"standoff\": 15}, \"zerolinecolor\": \"white\", \"zerolinewidth\": 2}, \"yaxis\": {\"automargin\": true, \"gridcolor\": \"white\", \"linecolor\": \"white\", \"ticks\": \"\", \"title\": {\"standoff\": 15}, \"zerolinecolor\": \"white\", \"zerolinewidth\": 2}}}, \"title\": {\"font\": {\"color\": \"#4D5663\"}}, \"xaxis\": {\"gridcolor\": \"#E1E5ED\", \"showgrid\": true, \"tickfont\": {\"color\": \"#4D5663\"}, \"title\": {\"font\": {\"color\": \"#4D5663\"}, \"text\": \"\"}, \"zerolinecolor\": \"#E1E5ED\"}, \"yaxis\": {\"gridcolor\": \"#E1E5ED\", \"showgrid\": true, \"tickfont\": {\"color\": \"#4D5663\"}, \"title\": {\"font\": {\"color\": \"#4D5663\"}, \"text\": \"\"}, \"zerolinecolor\": \"#E1E5ED\"}},\n",
       "                        {\"showLink\": true, \"linkText\": \"Export to plot.ly\", \"plotlyServerURL\": \"https://plot.ly\", \"responsive\": true}\n",
       "                    ).then(function(){\n",
       "                            \n",
       "var gd = document.getElementById('2f4c46df-daa5-4120-97e7-bbc8e90f7bd5');\n",
       "var x = new MutationObserver(function (mutations, observer) {{\n",
       "        var display = window.getComputedStyle(gd).display;\n",
       "        if (!display || display === 'none') {{\n",
       "            console.log([gd, 'removed!']);\n",
       "            Plotly.purge(gd);\n",
       "            observer.disconnect();\n",
       "        }}\n",
       "}});\n",
       "\n",
       "// Listen for the removal of the full notebook cells\n",
       "var notebookContainer = gd.closest('#notebook-container');\n",
       "if (notebookContainer) {{\n",
       "    x.observe(notebookContainer, {childList: true});\n",
       "}}\n",
       "\n",
       "// Listen for the clearing of the current output cell\n",
       "var outputEl = gd.closest('.output');\n",
       "if (outputEl) {{\n",
       "    x.observe(outputEl, {childList: true});\n",
       "}}\n",
       "\n",
       "                        })\n",
       "                };\n",
       "                });\n",
       "            </script>\n",
       "        </div>"
      ]
     },
     "metadata": {},
     "output_type": "display_data"
    }
   ],
   "source": [
    "#we can also use groupby and aggregate function to use a column which has calculations such as \n",
    "# count or sum\n",
    "\n",
    "#sometimes we will not have a column with the total bill or revenue or total sales.\n",
    "#if we want to use such a column we can use groupby and agg to directly make a plot of that column\n",
    "\n",
    "\n",
    "df.count().iplot(kind = 'bar')"
   ]
  },
  {
   "cell_type": "code",
   "execution_count": 39,
   "metadata": {},
   "outputs": [
    {
     "data": {
      "application/vnd.plotly.v1+json": {
       "config": {
        "linkText": "Export to plot.ly",
        "plotlyServerURL": "https://plot.ly",
        "showLink": true
       },
       "data": [
        {
         "marker": {
          "color": "rgba(255, 153, 51, 0.6)",
          "line": {
           "color": "rgba(255, 153, 51, 1.0)",
           "width": 1
          }
         },
         "name": "None",
         "orientation": "v",
         "text": "",
         "type": "bar",
         "x": [
          "A",
          "B",
          "C",
          "D"
         ],
         "y": [
          -4.445790887887124,
          0.7246643042695131,
          -0.3834160050185895,
          3.9979461955334763
         ]
        }
       ],
       "layout": {
        "legend": {
         "bgcolor": "#F5F6F9",
         "font": {
          "color": "#4D5663"
         }
        },
        "paper_bgcolor": "#F5F6F9",
        "plot_bgcolor": "#F5F6F9",
        "template": {
         "data": {
          "bar": [
           {
            "error_x": {
             "color": "#2a3f5f"
            },
            "error_y": {
             "color": "#2a3f5f"
            },
            "marker": {
             "line": {
              "color": "#E5ECF6",
              "width": 0.5
             }
            },
            "type": "bar"
           }
          ],
          "barpolar": [
           {
            "marker": {
             "line": {
              "color": "#E5ECF6",
              "width": 0.5
             }
            },
            "type": "barpolar"
           }
          ],
          "carpet": [
           {
            "aaxis": {
             "endlinecolor": "#2a3f5f",
             "gridcolor": "white",
             "linecolor": "white",
             "minorgridcolor": "white",
             "startlinecolor": "#2a3f5f"
            },
            "baxis": {
             "endlinecolor": "#2a3f5f",
             "gridcolor": "white",
             "linecolor": "white",
             "minorgridcolor": "white",
             "startlinecolor": "#2a3f5f"
            },
            "type": "carpet"
           }
          ],
          "choropleth": [
           {
            "colorbar": {
             "outlinewidth": 0,
             "ticks": ""
            },
            "type": "choropleth"
           }
          ],
          "contour": [
           {
            "colorbar": {
             "outlinewidth": 0,
             "ticks": ""
            },
            "colorscale": [
             [
              0,
              "#0d0887"
             ],
             [
              0.1111111111111111,
              "#46039f"
             ],
             [
              0.2222222222222222,
              "#7201a8"
             ],
             [
              0.3333333333333333,
              "#9c179e"
             ],
             [
              0.4444444444444444,
              "#bd3786"
             ],
             [
              0.5555555555555556,
              "#d8576b"
             ],
             [
              0.6666666666666666,
              "#ed7953"
             ],
             [
              0.7777777777777778,
              "#fb9f3a"
             ],
             [
              0.8888888888888888,
              "#fdca26"
             ],
             [
              1,
              "#f0f921"
             ]
            ],
            "type": "contour"
           }
          ],
          "contourcarpet": [
           {
            "colorbar": {
             "outlinewidth": 0,
             "ticks": ""
            },
            "type": "contourcarpet"
           }
          ],
          "heatmap": [
           {
            "colorbar": {
             "outlinewidth": 0,
             "ticks": ""
            },
            "colorscale": [
             [
              0,
              "#0d0887"
             ],
             [
              0.1111111111111111,
              "#46039f"
             ],
             [
              0.2222222222222222,
              "#7201a8"
             ],
             [
              0.3333333333333333,
              "#9c179e"
             ],
             [
              0.4444444444444444,
              "#bd3786"
             ],
             [
              0.5555555555555556,
              "#d8576b"
             ],
             [
              0.6666666666666666,
              "#ed7953"
             ],
             [
              0.7777777777777778,
              "#fb9f3a"
             ],
             [
              0.8888888888888888,
              "#fdca26"
             ],
             [
              1,
              "#f0f921"
             ]
            ],
            "type": "heatmap"
           }
          ],
          "heatmapgl": [
           {
            "colorbar": {
             "outlinewidth": 0,
             "ticks": ""
            },
            "colorscale": [
             [
              0,
              "#0d0887"
             ],
             [
              0.1111111111111111,
              "#46039f"
             ],
             [
              0.2222222222222222,
              "#7201a8"
             ],
             [
              0.3333333333333333,
              "#9c179e"
             ],
             [
              0.4444444444444444,
              "#bd3786"
             ],
             [
              0.5555555555555556,
              "#d8576b"
             ],
             [
              0.6666666666666666,
              "#ed7953"
             ],
             [
              0.7777777777777778,
              "#fb9f3a"
             ],
             [
              0.8888888888888888,
              "#fdca26"
             ],
             [
              1,
              "#f0f921"
             ]
            ],
            "type": "heatmapgl"
           }
          ],
          "histogram": [
           {
            "marker": {
             "colorbar": {
              "outlinewidth": 0,
              "ticks": ""
             }
            },
            "type": "histogram"
           }
          ],
          "histogram2d": [
           {
            "colorbar": {
             "outlinewidth": 0,
             "ticks": ""
            },
            "colorscale": [
             [
              0,
              "#0d0887"
             ],
             [
              0.1111111111111111,
              "#46039f"
             ],
             [
              0.2222222222222222,
              "#7201a8"
             ],
             [
              0.3333333333333333,
              "#9c179e"
             ],
             [
              0.4444444444444444,
              "#bd3786"
             ],
             [
              0.5555555555555556,
              "#d8576b"
             ],
             [
              0.6666666666666666,
              "#ed7953"
             ],
             [
              0.7777777777777778,
              "#fb9f3a"
             ],
             [
              0.8888888888888888,
              "#fdca26"
             ],
             [
              1,
              "#f0f921"
             ]
            ],
            "type": "histogram2d"
           }
          ],
          "histogram2dcontour": [
           {
            "colorbar": {
             "outlinewidth": 0,
             "ticks": ""
            },
            "colorscale": [
             [
              0,
              "#0d0887"
             ],
             [
              0.1111111111111111,
              "#46039f"
             ],
             [
              0.2222222222222222,
              "#7201a8"
             ],
             [
              0.3333333333333333,
              "#9c179e"
             ],
             [
              0.4444444444444444,
              "#bd3786"
             ],
             [
              0.5555555555555556,
              "#d8576b"
             ],
             [
              0.6666666666666666,
              "#ed7953"
             ],
             [
              0.7777777777777778,
              "#fb9f3a"
             ],
             [
              0.8888888888888888,
              "#fdca26"
             ],
             [
              1,
              "#f0f921"
             ]
            ],
            "type": "histogram2dcontour"
           }
          ],
          "mesh3d": [
           {
            "colorbar": {
             "outlinewidth": 0,
             "ticks": ""
            },
            "type": "mesh3d"
           }
          ],
          "parcoords": [
           {
            "line": {
             "colorbar": {
              "outlinewidth": 0,
              "ticks": ""
             }
            },
            "type": "parcoords"
           }
          ],
          "pie": [
           {
            "automargin": true,
            "type": "pie"
           }
          ],
          "scatter": [
           {
            "marker": {
             "colorbar": {
              "outlinewidth": 0,
              "ticks": ""
             }
            },
            "type": "scatter"
           }
          ],
          "scatter3d": [
           {
            "line": {
             "colorbar": {
              "outlinewidth": 0,
              "ticks": ""
             }
            },
            "marker": {
             "colorbar": {
              "outlinewidth": 0,
              "ticks": ""
             }
            },
            "type": "scatter3d"
           }
          ],
          "scattercarpet": [
           {
            "marker": {
             "colorbar": {
              "outlinewidth": 0,
              "ticks": ""
             }
            },
            "type": "scattercarpet"
           }
          ],
          "scattergeo": [
           {
            "marker": {
             "colorbar": {
              "outlinewidth": 0,
              "ticks": ""
             }
            },
            "type": "scattergeo"
           }
          ],
          "scattergl": [
           {
            "marker": {
             "colorbar": {
              "outlinewidth": 0,
              "ticks": ""
             }
            },
            "type": "scattergl"
           }
          ],
          "scattermapbox": [
           {
            "marker": {
             "colorbar": {
              "outlinewidth": 0,
              "ticks": ""
             }
            },
            "type": "scattermapbox"
           }
          ],
          "scatterpolar": [
           {
            "marker": {
             "colorbar": {
              "outlinewidth": 0,
              "ticks": ""
             }
            },
            "type": "scatterpolar"
           }
          ],
          "scatterpolargl": [
           {
            "marker": {
             "colorbar": {
              "outlinewidth": 0,
              "ticks": ""
             }
            },
            "type": "scatterpolargl"
           }
          ],
          "scatterternary": [
           {
            "marker": {
             "colorbar": {
              "outlinewidth": 0,
              "ticks": ""
             }
            },
            "type": "scatterternary"
           }
          ],
          "surface": [
           {
            "colorbar": {
             "outlinewidth": 0,
             "ticks": ""
            },
            "colorscale": [
             [
              0,
              "#0d0887"
             ],
             [
              0.1111111111111111,
              "#46039f"
             ],
             [
              0.2222222222222222,
              "#7201a8"
             ],
             [
              0.3333333333333333,
              "#9c179e"
             ],
             [
              0.4444444444444444,
              "#bd3786"
             ],
             [
              0.5555555555555556,
              "#d8576b"
             ],
             [
              0.6666666666666666,
              "#ed7953"
             ],
             [
              0.7777777777777778,
              "#fb9f3a"
             ],
             [
              0.8888888888888888,
              "#fdca26"
             ],
             [
              1,
              "#f0f921"
             ]
            ],
            "type": "surface"
           }
          ],
          "table": [
           {
            "cells": {
             "fill": {
              "color": "#EBF0F8"
             },
             "line": {
              "color": "white"
             }
            },
            "header": {
             "fill": {
              "color": "#C8D4E3"
             },
             "line": {
              "color": "white"
             }
            },
            "type": "table"
           }
          ]
         },
         "layout": {
          "annotationdefaults": {
           "arrowcolor": "#2a3f5f",
           "arrowhead": 0,
           "arrowwidth": 1
          },
          "coloraxis": {
           "colorbar": {
            "outlinewidth": 0,
            "ticks": ""
           }
          },
          "colorscale": {
           "diverging": [
            [
             0,
             "#8e0152"
            ],
            [
             0.1,
             "#c51b7d"
            ],
            [
             0.2,
             "#de77ae"
            ],
            [
             0.3,
             "#f1b6da"
            ],
            [
             0.4,
             "#fde0ef"
            ],
            [
             0.5,
             "#f7f7f7"
            ],
            [
             0.6,
             "#e6f5d0"
            ],
            [
             0.7,
             "#b8e186"
            ],
            [
             0.8,
             "#7fbc41"
            ],
            [
             0.9,
             "#4d9221"
            ],
            [
             1,
             "#276419"
            ]
           ],
           "sequential": [
            [
             0,
             "#0d0887"
            ],
            [
             0.1111111111111111,
             "#46039f"
            ],
            [
             0.2222222222222222,
             "#7201a8"
            ],
            [
             0.3333333333333333,
             "#9c179e"
            ],
            [
             0.4444444444444444,
             "#bd3786"
            ],
            [
             0.5555555555555556,
             "#d8576b"
            ],
            [
             0.6666666666666666,
             "#ed7953"
            ],
            [
             0.7777777777777778,
             "#fb9f3a"
            ],
            [
             0.8888888888888888,
             "#fdca26"
            ],
            [
             1,
             "#f0f921"
            ]
           ],
           "sequentialminus": [
            [
             0,
             "#0d0887"
            ],
            [
             0.1111111111111111,
             "#46039f"
            ],
            [
             0.2222222222222222,
             "#7201a8"
            ],
            [
             0.3333333333333333,
             "#9c179e"
            ],
            [
             0.4444444444444444,
             "#bd3786"
            ],
            [
             0.5555555555555556,
             "#d8576b"
            ],
            [
             0.6666666666666666,
             "#ed7953"
            ],
            [
             0.7777777777777778,
             "#fb9f3a"
            ],
            [
             0.8888888888888888,
             "#fdca26"
            ],
            [
             1,
             "#f0f921"
            ]
           ]
          },
          "colorway": [
           "#636efa",
           "#EF553B",
           "#00cc96",
           "#ab63fa",
           "#FFA15A",
           "#19d3f3",
           "#FF6692",
           "#B6E880",
           "#FF97FF",
           "#FECB52"
          ],
          "font": {
           "color": "#2a3f5f"
          },
          "geo": {
           "bgcolor": "white",
           "lakecolor": "white",
           "landcolor": "#E5ECF6",
           "showlakes": true,
           "showland": true,
           "subunitcolor": "white"
          },
          "hoverlabel": {
           "align": "left"
          },
          "hovermode": "closest",
          "mapbox": {
           "style": "light"
          },
          "paper_bgcolor": "white",
          "plot_bgcolor": "#E5ECF6",
          "polar": {
           "angularaxis": {
            "gridcolor": "white",
            "linecolor": "white",
            "ticks": ""
           },
           "bgcolor": "#E5ECF6",
           "radialaxis": {
            "gridcolor": "white",
            "linecolor": "white",
            "ticks": ""
           }
          },
          "scene": {
           "xaxis": {
            "backgroundcolor": "#E5ECF6",
            "gridcolor": "white",
            "gridwidth": 2,
            "linecolor": "white",
            "showbackground": true,
            "ticks": "",
            "zerolinecolor": "white"
           },
           "yaxis": {
            "backgroundcolor": "#E5ECF6",
            "gridcolor": "white",
            "gridwidth": 2,
            "linecolor": "white",
            "showbackground": true,
            "ticks": "",
            "zerolinecolor": "white"
           },
           "zaxis": {
            "backgroundcolor": "#E5ECF6",
            "gridcolor": "white",
            "gridwidth": 2,
            "linecolor": "white",
            "showbackground": true,
            "ticks": "",
            "zerolinecolor": "white"
           }
          },
          "shapedefaults": {
           "line": {
            "color": "#2a3f5f"
           }
          },
          "ternary": {
           "aaxis": {
            "gridcolor": "white",
            "linecolor": "white",
            "ticks": ""
           },
           "baxis": {
            "gridcolor": "white",
            "linecolor": "white",
            "ticks": ""
           },
           "bgcolor": "#E5ECF6",
           "caxis": {
            "gridcolor": "white",
            "linecolor": "white",
            "ticks": ""
           }
          },
          "title": {
           "x": 0.05
          },
          "xaxis": {
           "automargin": true,
           "gridcolor": "white",
           "linecolor": "white",
           "ticks": "",
           "title": {
            "standoff": 15
           },
           "zerolinecolor": "white",
           "zerolinewidth": 2
          },
          "yaxis": {
           "automargin": true,
           "gridcolor": "white",
           "linecolor": "white",
           "ticks": "",
           "title": {
            "standoff": 15
           },
           "zerolinecolor": "white",
           "zerolinewidth": 2
          }
         }
        },
        "title": {
         "font": {
          "color": "#4D5663"
         }
        },
        "xaxis": {
         "gridcolor": "#E1E5ED",
         "showgrid": true,
         "tickfont": {
          "color": "#4D5663"
         },
         "title": {
          "font": {
           "color": "#4D5663"
          },
          "text": ""
         },
         "zerolinecolor": "#E1E5ED"
        },
        "yaxis": {
         "gridcolor": "#E1E5ED",
         "showgrid": true,
         "tickfont": {
          "color": "#4D5663"
         },
         "title": {
          "font": {
           "color": "#4D5663"
          },
          "text": ""
         },
         "zerolinecolor": "#E1E5ED"
        }
       }
      },
      "text/html": [
       "<div>\n",
       "        \n",
       "        \n",
       "            <div id=\"32b6dc16-ff53-486d-80f8-484a1a0f9b86\" class=\"plotly-graph-div\" style=\"height:525px; width:100%;\"></div>\n",
       "            <script type=\"text/javascript\">\n",
       "                require([\"plotly\"], function(Plotly) {\n",
       "                    window.PLOTLYENV=window.PLOTLYENV || {};\n",
       "                    window.PLOTLYENV.BASE_URL='https://plot.ly';\n",
       "                    \n",
       "                if (document.getElementById(\"32b6dc16-ff53-486d-80f8-484a1a0f9b86\")) {\n",
       "                    Plotly.newPlot(\n",
       "                        '32b6dc16-ff53-486d-80f8-484a1a0f9b86',\n",
       "                        [{\"marker\": {\"color\": \"rgba(255, 153, 51, 0.6)\", \"line\": {\"color\": \"rgba(255, 153, 51, 1.0)\", \"width\": 1}}, \"name\": \"None\", \"orientation\": \"v\", \"text\": \"\", \"type\": \"bar\", \"x\": [\"A\", \"B\", \"C\", \"D\"], \"y\": [-4.445790887887124, 0.7246643042695131, -0.3834160050185895, 3.9979461955334763]}],\n",
       "                        {\"legend\": {\"bgcolor\": \"#F5F6F9\", \"font\": {\"color\": \"#4D5663\"}}, \"paper_bgcolor\": \"#F5F6F9\", \"plot_bgcolor\": \"#F5F6F9\", \"template\": {\"data\": {\"bar\": [{\"error_x\": {\"color\": \"#2a3f5f\"}, \"error_y\": {\"color\": \"#2a3f5f\"}, \"marker\": {\"line\": {\"color\": \"#E5ECF6\", \"width\": 0.5}}, \"type\": \"bar\"}], \"barpolar\": [{\"marker\": {\"line\": {\"color\": \"#E5ECF6\", \"width\": 0.5}}, \"type\": \"barpolar\"}], \"carpet\": [{\"aaxis\": {\"endlinecolor\": \"#2a3f5f\", \"gridcolor\": \"white\", \"linecolor\": \"white\", \"minorgridcolor\": \"white\", \"startlinecolor\": \"#2a3f5f\"}, \"baxis\": {\"endlinecolor\": \"#2a3f5f\", \"gridcolor\": \"white\", \"linecolor\": \"white\", \"minorgridcolor\": \"white\", \"startlinecolor\": \"#2a3f5f\"}, \"type\": \"carpet\"}], \"choropleth\": [{\"colorbar\": {\"outlinewidth\": 0, \"ticks\": \"\"}, \"type\": \"choropleth\"}], \"contour\": [{\"colorbar\": {\"outlinewidth\": 0, \"ticks\": \"\"}, \"colorscale\": [[0.0, \"#0d0887\"], [0.1111111111111111, \"#46039f\"], [0.2222222222222222, \"#7201a8\"], [0.3333333333333333, \"#9c179e\"], [0.4444444444444444, \"#bd3786\"], [0.5555555555555556, \"#d8576b\"], [0.6666666666666666, \"#ed7953\"], [0.7777777777777778, \"#fb9f3a\"], [0.8888888888888888, \"#fdca26\"], [1.0, \"#f0f921\"]], \"type\": \"contour\"}], \"contourcarpet\": [{\"colorbar\": {\"outlinewidth\": 0, \"ticks\": \"\"}, \"type\": \"contourcarpet\"}], \"heatmap\": [{\"colorbar\": {\"outlinewidth\": 0, \"ticks\": \"\"}, \"colorscale\": [[0.0, \"#0d0887\"], [0.1111111111111111, \"#46039f\"], [0.2222222222222222, \"#7201a8\"], [0.3333333333333333, \"#9c179e\"], [0.4444444444444444, \"#bd3786\"], [0.5555555555555556, \"#d8576b\"], [0.6666666666666666, \"#ed7953\"], [0.7777777777777778, \"#fb9f3a\"], [0.8888888888888888, \"#fdca26\"], [1.0, \"#f0f921\"]], \"type\": \"heatmap\"}], \"heatmapgl\": [{\"colorbar\": {\"outlinewidth\": 0, \"ticks\": \"\"}, \"colorscale\": [[0.0, \"#0d0887\"], [0.1111111111111111, \"#46039f\"], [0.2222222222222222, \"#7201a8\"], [0.3333333333333333, \"#9c179e\"], [0.4444444444444444, \"#bd3786\"], [0.5555555555555556, \"#d8576b\"], [0.6666666666666666, \"#ed7953\"], [0.7777777777777778, \"#fb9f3a\"], [0.8888888888888888, \"#fdca26\"], [1.0, \"#f0f921\"]], \"type\": \"heatmapgl\"}], \"histogram\": [{\"marker\": {\"colorbar\": {\"outlinewidth\": 0, \"ticks\": \"\"}}, \"type\": \"histogram\"}], \"histogram2d\": [{\"colorbar\": {\"outlinewidth\": 0, \"ticks\": \"\"}, \"colorscale\": [[0.0, \"#0d0887\"], [0.1111111111111111, \"#46039f\"], [0.2222222222222222, \"#7201a8\"], [0.3333333333333333, \"#9c179e\"], [0.4444444444444444, \"#bd3786\"], [0.5555555555555556, \"#d8576b\"], [0.6666666666666666, \"#ed7953\"], [0.7777777777777778, \"#fb9f3a\"], [0.8888888888888888, \"#fdca26\"], [1.0, \"#f0f921\"]], \"type\": \"histogram2d\"}], \"histogram2dcontour\": [{\"colorbar\": {\"outlinewidth\": 0, \"ticks\": \"\"}, \"colorscale\": [[0.0, \"#0d0887\"], [0.1111111111111111, \"#46039f\"], [0.2222222222222222, \"#7201a8\"], [0.3333333333333333, \"#9c179e\"], [0.4444444444444444, \"#bd3786\"], [0.5555555555555556, \"#d8576b\"], [0.6666666666666666, \"#ed7953\"], [0.7777777777777778, \"#fb9f3a\"], [0.8888888888888888, \"#fdca26\"], [1.0, \"#f0f921\"]], \"type\": \"histogram2dcontour\"}], \"mesh3d\": [{\"colorbar\": {\"outlinewidth\": 0, \"ticks\": \"\"}, \"type\": \"mesh3d\"}], \"parcoords\": [{\"line\": {\"colorbar\": {\"outlinewidth\": 0, \"ticks\": \"\"}}, \"type\": \"parcoords\"}], \"pie\": [{\"automargin\": true, \"type\": \"pie\"}], \"scatter\": [{\"marker\": {\"colorbar\": {\"outlinewidth\": 0, \"ticks\": \"\"}}, \"type\": \"scatter\"}], \"scatter3d\": [{\"line\": {\"colorbar\": {\"outlinewidth\": 0, \"ticks\": \"\"}}, \"marker\": {\"colorbar\": {\"outlinewidth\": 0, \"ticks\": \"\"}}, \"type\": \"scatter3d\"}], \"scattercarpet\": [{\"marker\": {\"colorbar\": {\"outlinewidth\": 0, \"ticks\": \"\"}}, \"type\": \"scattercarpet\"}], \"scattergeo\": [{\"marker\": {\"colorbar\": {\"outlinewidth\": 0, \"ticks\": \"\"}}, \"type\": \"scattergeo\"}], \"scattergl\": [{\"marker\": {\"colorbar\": {\"outlinewidth\": 0, \"ticks\": \"\"}}, \"type\": \"scattergl\"}], \"scattermapbox\": [{\"marker\": {\"colorbar\": {\"outlinewidth\": 0, \"ticks\": \"\"}}, \"type\": \"scattermapbox\"}], \"scatterpolar\": [{\"marker\": {\"colorbar\": {\"outlinewidth\": 0, \"ticks\": \"\"}}, \"type\": \"scatterpolar\"}], \"scatterpolargl\": [{\"marker\": {\"colorbar\": {\"outlinewidth\": 0, \"ticks\": \"\"}}, \"type\": \"scatterpolargl\"}], \"scatterternary\": [{\"marker\": {\"colorbar\": {\"outlinewidth\": 0, \"ticks\": \"\"}}, \"type\": \"scatterternary\"}], \"surface\": [{\"colorbar\": {\"outlinewidth\": 0, \"ticks\": \"\"}, \"colorscale\": [[0.0, \"#0d0887\"], [0.1111111111111111, \"#46039f\"], [0.2222222222222222, \"#7201a8\"], [0.3333333333333333, \"#9c179e\"], [0.4444444444444444, \"#bd3786\"], [0.5555555555555556, \"#d8576b\"], [0.6666666666666666, \"#ed7953\"], [0.7777777777777778, \"#fb9f3a\"], [0.8888888888888888, \"#fdca26\"], [1.0, \"#f0f921\"]], \"type\": \"surface\"}], \"table\": [{\"cells\": {\"fill\": {\"color\": \"#EBF0F8\"}, \"line\": {\"color\": \"white\"}}, \"header\": {\"fill\": {\"color\": \"#C8D4E3\"}, \"line\": {\"color\": \"white\"}}, \"type\": \"table\"}]}, \"layout\": {\"annotationdefaults\": {\"arrowcolor\": \"#2a3f5f\", \"arrowhead\": 0, \"arrowwidth\": 1}, \"coloraxis\": {\"colorbar\": {\"outlinewidth\": 0, \"ticks\": \"\"}}, \"colorscale\": {\"diverging\": [[0, \"#8e0152\"], [0.1, \"#c51b7d\"], [0.2, \"#de77ae\"], [0.3, \"#f1b6da\"], [0.4, \"#fde0ef\"], [0.5, \"#f7f7f7\"], [0.6, \"#e6f5d0\"], [0.7, \"#b8e186\"], [0.8, \"#7fbc41\"], [0.9, \"#4d9221\"], [1, \"#276419\"]], \"sequential\": [[0.0, \"#0d0887\"], [0.1111111111111111, \"#46039f\"], [0.2222222222222222, \"#7201a8\"], [0.3333333333333333, \"#9c179e\"], [0.4444444444444444, \"#bd3786\"], [0.5555555555555556, \"#d8576b\"], [0.6666666666666666, \"#ed7953\"], [0.7777777777777778, \"#fb9f3a\"], [0.8888888888888888, \"#fdca26\"], [1.0, \"#f0f921\"]], \"sequentialminus\": [[0.0, \"#0d0887\"], [0.1111111111111111, \"#46039f\"], [0.2222222222222222, \"#7201a8\"], [0.3333333333333333, \"#9c179e\"], [0.4444444444444444, \"#bd3786\"], [0.5555555555555556, \"#d8576b\"], [0.6666666666666666, \"#ed7953\"], [0.7777777777777778, \"#fb9f3a\"], [0.8888888888888888, \"#fdca26\"], [1.0, \"#f0f921\"]]}, \"colorway\": [\"#636efa\", \"#EF553B\", \"#00cc96\", \"#ab63fa\", \"#FFA15A\", \"#19d3f3\", \"#FF6692\", \"#B6E880\", \"#FF97FF\", \"#FECB52\"], \"font\": {\"color\": \"#2a3f5f\"}, \"geo\": {\"bgcolor\": \"white\", \"lakecolor\": \"white\", \"landcolor\": \"#E5ECF6\", \"showlakes\": true, \"showland\": true, \"subunitcolor\": \"white\"}, \"hoverlabel\": {\"align\": \"left\"}, \"hovermode\": \"closest\", \"mapbox\": {\"style\": \"light\"}, \"paper_bgcolor\": \"white\", \"plot_bgcolor\": \"#E5ECF6\", \"polar\": {\"angularaxis\": {\"gridcolor\": \"white\", \"linecolor\": \"white\", \"ticks\": \"\"}, \"bgcolor\": \"#E5ECF6\", \"radialaxis\": {\"gridcolor\": \"white\", \"linecolor\": \"white\", \"ticks\": \"\"}}, \"scene\": {\"xaxis\": {\"backgroundcolor\": \"#E5ECF6\", \"gridcolor\": \"white\", \"gridwidth\": 2, \"linecolor\": \"white\", \"showbackground\": true, \"ticks\": \"\", \"zerolinecolor\": \"white\"}, \"yaxis\": {\"backgroundcolor\": \"#E5ECF6\", \"gridcolor\": \"white\", \"gridwidth\": 2, \"linecolor\": \"white\", \"showbackground\": true, \"ticks\": \"\", \"zerolinecolor\": \"white\"}, \"zaxis\": {\"backgroundcolor\": \"#E5ECF6\", \"gridcolor\": \"white\", \"gridwidth\": 2, \"linecolor\": \"white\", \"showbackground\": true, \"ticks\": \"\", \"zerolinecolor\": \"white\"}}, \"shapedefaults\": {\"line\": {\"color\": \"#2a3f5f\"}}, \"ternary\": {\"aaxis\": {\"gridcolor\": \"white\", \"linecolor\": \"white\", \"ticks\": \"\"}, \"baxis\": {\"gridcolor\": \"white\", \"linecolor\": \"white\", \"ticks\": \"\"}, \"bgcolor\": \"#E5ECF6\", \"caxis\": {\"gridcolor\": \"white\", \"linecolor\": \"white\", \"ticks\": \"\"}}, \"title\": {\"x\": 0.05}, \"xaxis\": {\"automargin\": true, \"gridcolor\": \"white\", \"linecolor\": \"white\", \"ticks\": \"\", \"title\": {\"standoff\": 15}, \"zerolinecolor\": \"white\", \"zerolinewidth\": 2}, \"yaxis\": {\"automargin\": true, \"gridcolor\": \"white\", \"linecolor\": \"white\", \"ticks\": \"\", \"title\": {\"standoff\": 15}, \"zerolinecolor\": \"white\", \"zerolinewidth\": 2}}}, \"title\": {\"font\": {\"color\": \"#4D5663\"}}, \"xaxis\": {\"gridcolor\": \"#E1E5ED\", \"showgrid\": true, \"tickfont\": {\"color\": \"#4D5663\"}, \"title\": {\"font\": {\"color\": \"#4D5663\"}, \"text\": \"\"}, \"zerolinecolor\": \"#E1E5ED\"}, \"yaxis\": {\"gridcolor\": \"#E1E5ED\", \"showgrid\": true, \"tickfont\": {\"color\": \"#4D5663\"}, \"title\": {\"font\": {\"color\": \"#4D5663\"}, \"text\": \"\"}, \"zerolinecolor\": \"#E1E5ED\"}},\n",
       "                        {\"showLink\": true, \"linkText\": \"Export to plot.ly\", \"plotlyServerURL\": \"https://plot.ly\", \"responsive\": true}\n",
       "                    ).then(function(){\n",
       "                            \n",
       "var gd = document.getElementById('32b6dc16-ff53-486d-80f8-484a1a0f9b86');\n",
       "var x = new MutationObserver(function (mutations, observer) {{\n",
       "        var display = window.getComputedStyle(gd).display;\n",
       "        if (!display || display === 'none') {{\n",
       "            console.log([gd, 'removed!']);\n",
       "            Plotly.purge(gd);\n",
       "            observer.disconnect();\n",
       "        }}\n",
       "}});\n",
       "\n",
       "// Listen for the removal of the full notebook cells\n",
       "var notebookContainer = gd.closest('#notebook-container');\n",
       "if (notebookContainer) {{\n",
       "    x.observe(notebookContainer, {childList: true});\n",
       "}}\n",
       "\n",
       "// Listen for the clearing of the current output cell\n",
       "var outputEl = gd.closest('.output');\n",
       "if (outputEl) {{\n",
       "    x.observe(outputEl, {childList: true});\n",
       "}}\n",
       "\n",
       "                        })\n",
       "                };\n",
       "                });\n",
       "            </script>\n",
       "        </div>"
      ]
     },
     "metadata": {},
     "output_type": "display_data"
    }
   ],
   "source": [
    "df.sum().iplot(kind = 'bar')"
   ]
  },
  {
   "cell_type": "code",
   "execution_count": 40,
   "metadata": {
    "scrolled": true
   },
   "outputs": [
    {
     "data": {
      "application/vnd.plotly.v1+json": {
       "config": {
        "linkText": "Export to plot.ly",
        "plotlyServerURL": "https://plot.ly",
        "showLink": true
       },
       "data": [
        {
         "boxpoints": false,
         "line": {
          "width": 1.3
         },
         "marker": {
          "color": "rgba(255, 153, 51, 1.0)"
         },
         "name": "A",
         "orientation": "v",
         "type": "box",
         "y": [
          1.204374223794343,
          -0.36906833924077637,
          -0.8122413394730359,
          1.3997697154739082,
          -1.060788107444831,
          0.5515735422646244,
          0.14061940746164717,
          0.16983560391476102,
          -0.5570859045323824,
          1.401481283250656,
          -0.22735734650862433,
          -0.2708226895595077,
          -0.061950652045331865,
          -0.23938387027733657,
          1.108929431106888,
          1.5885217800040747,
          -0.23559972372649096,
          -0.8063452712749882,
          0.13813159002450978,
          -0.6380738291099499,
          -1.3331534209046985,
          -0.1297105180803108,
          -0.10188136335052575,
          -0.30361318214471156,
          0.16497636748164915,
          2.183144065787738,
          -0.7843797606187034,
          -0.7395470414853026,
          -0.527746573443475,
          1.1734247890807368,
          -0.4277744368396613,
          1.586083786095986,
          -0.5946807669553307,
          1.1091000750587032,
          -2.2431426226953897,
          1.0511348504249087,
          -1.7084854938366552,
          0.3848496070527757,
          0.02319587782161051,
          -1.5614243800488814,
          -0.49612500584776853,
          0.36651695375891874,
          -1.9325653893667134,
          -0.009736954747299615,
          0.5770681622022307,
          -1.798736202311587,
          -1.4731317977982321,
          0.9207786842892908,
          -1.4109451145958787,
          1.474614654368594,
          -1.151126450220308,
          1.0959490386459758,
          0.7132001708734125,
          1.5389324759551382,
          -0.3437764307427175,
          -0.1398678689458212,
          -0.5692961334275359,
          -0.3876239117207527,
          2.1646360720109534,
          -0.8575609675505435,
          -0.12246755380214738,
          -0.35793397267560856,
          0.6760702797677335,
          0.6859757866029638,
          1.2172949175056056,
          3.0190435916527885,
          -0.49318883868647506,
          -1.4621624134879483,
          -0.018015512803250384,
          1.0663682852882106,
          0.6097999035722868,
          0.8061363870535981,
          -0.9775765064326202,
          1.9186469222357772,
          -1.3863509250475359,
          -1.729431686804565,
          -0.18184271399933602,
          -0.18613439383574115,
          0.5857466322063433,
          -0.34237696433466347,
          0.3571290493876967,
          0.006789251745769943,
          -3.2125921573829657,
          -0.5584989724527796,
          -0.3753882921486149,
          0.4722926040135994,
          -2.363150670854163,
          -0.6542164839532234,
          0.032211397087431724,
          -1.138463704994325,
          0.16231793129177194,
          0.4166899662658287,
          -0.18051501338281437,
          -0.15668668070654856,
          0.0848144483366338,
          0.6315939404556832,
          0.49811604910354135,
          0.9187915032050765,
          -0.45235784878744706,
          -0.18836177542466803
         ]
        },
        {
         "boxpoints": false,
         "line": {
          "width": 1.3
         },
         "marker": {
          "color": "rgba(55, 128, 191, 1.0)"
         },
         "name": "B",
         "orientation": "v",
         "type": "box",
         "y": [
          0.28883879264521045,
          -0.9696091384577731,
          0.3240029375457199,
          -2.0275223864420986,
          0.14726848424825328,
          0.678991256631577,
          0.8082635732754649,
          -1.7856463481517608,
          -1.104842817878926,
          -0.46027812161661064,
          -2.1537687431575328,
          0.15945482476116415,
          -1.3018992475704751,
          0.6025453549513595,
          0.2587350592374064,
          0.8027749160485882,
          0.35454868506569975,
          -0.4552450279185263,
          -0.8120909393883892,
          -0.4444774282124728,
          0.36142121866382554,
          1.0066457905843325,
          2.1146963668436967,
          0.3867859557004427,
          0.30976253103714385,
          0.25304790269208116,
          -0.4853018821573321,
          -0.4266472311732564,
          1.0574834426305726,
          0.0727828918106895,
          0.6387061611541429,
          0.35282443058578244,
          1.2613356031803376,
          1.9112868409358335,
          0.35270908010673824,
          0.33830107746460486,
          0.9661583398721716,
          0.7409660674911244,
          -1.0132490082439065,
          1.1381430753784794,
          0.06956837769113201,
          -0.025060573913217636,
          0.5601028658725632,
          1.1067653704904703,
          0.5381067202924643,
          -0.7979118583312437,
          0.6334157782864624,
          -0.5266080026725684,
          0.4833853733012127,
          -0.38299530376008994,
          -0.4357980040855327,
          -0.37062045661239246,
          -1.3414385587779716,
          -0.36590910152001693,
          -0.7034440798878234,
          -1.3876156954916887,
          -1.0926499669857581,
          0.5638637016453981,
          -0.3829013772219426,
          1.9157532042187086,
          0.761887728347791,
          0.8146029084065223,
          0.8231475450342212,
          0.04436894811492774,
          -1.0635463927921698,
          -0.07945247508080461,
          1.882926346755678,
          -0.20579958146507463,
          0.4168470364341955,
          0.36946234527703425,
          1.022023039989263,
          -2.199761127185428,
          0.09350752683525511,
          0.050408117632942985,
          2.190592367226769,
          -0.23747751471779366,
          1.0478758815724036,
          -0.4337413657219337,
          0.20492756400731685,
          2.3831221699587988,
          -0.6802126826044421,
          0.9545186757613414,
          -1.559532703638838,
          -0.2702728387868071,
          0.2237820300585606,
          -0.18639837634820103,
          -0.47969720470485616,
          0.44948289758789267,
          -0.3239630401170654,
          0.12299224412986517,
          -0.2955225352765806,
          -0.06693027092072842,
          -0.3667350661835663,
          -1.1643883307876375,
          0.8995409226274617,
          -1.0630968020526121,
          -2.25782917678505,
          0.17250522033490703,
          -2.0771412668361102,
          -1.498269212529484
         ]
        },
        {
         "boxpoints": false,
         "line": {
          "width": 1.3
         },
         "marker": {
          "color": "rgba(50, 171, 96, 1.0)"
         },
         "name": "C",
         "orientation": "v",
         "type": "box",
         "y": [
          0.9343696833686856,
          0.6173183922345006,
          -1.0639285999296693,
          -0.33859612376905984,
          0.506690249511028,
          0.2957480725083949,
          0.5263886133671345,
          -0.32276366714443333,
          -0.01792066674395618,
          -1.775083329657011,
          -1.4437741093187602,
          0.07329908144639716,
          1.202571194374941,
          0.5168437647049239,
          -0.09882521510224906,
          1.2444214483260527,
          0.4917821790620534,
          0.1965902827913307,
          0.16855948625243314,
          1.108497197968096,
          -0.5675585086297141,
          -0.3095257147273207,
          -0.7102455459926497,
          1.1671495944265564,
          -0.5284595837443142,
          1.7243424357402708,
          -0.16867574245345937,
          -0.7529943369078369,
          1.4714561614880592,
          -0.3156054085787056,
          1.6318798368170893,
          -1.1814339345772011,
          1.0176216826497526,
          1.2215659458124433,
          0.5550009695494434,
          1.2051994421401777,
          0.12738565982693809,
          -0.349202693458132,
          -1.2226864380171725,
          1.0622710558752908,
          -1.4610410655094517,
          -1.5352515493002508,
          -0.6112654698490414,
          -1.6006436768837422,
          -1.2126704936089923,
          1.51414712452721,
          -0.05326645847836819,
          0.5720140651740735,
          0.30677221656661624,
          -0.8515412861948122,
          -0.2175631127524753,
          -0.6866800691236976,
          -0.2718610220028386,
          -0.4286993360378733,
          -0.008244722026312986,
          -1.134459704124308,
          0.6839925305569563,
          -0.9037393141619001,
          0.8946253754874015,
          -0.9563364923279836,
          -1.8017716095525207,
          1.5529278139958989,
          0.5585114201282104,
          1.1081748287221973,
          0.5786445092709741,
          0.012575418742362943,
          0.31251853048904665,
          0.668992790804777,
          -0.9357642050522706,
          -1.7502352908475747,
          -1.1891899470303575,
          1.3039873876743129,
          -0.9290778024734753,
          1.5949617014816626,
          1.317263804134899,
          -0.7393457254093768,
          -0.2836412501033554,
          0.39500577301382556,
          -0.19878243420856143,
          -0.015156971804573429,
          -1.0233128562001466,
          -0.9044467815425445,
          1.130533978735926,
          0.6647964258955746,
          1.3161641115644949,
          1.5555717667850633,
          0.09260698431106808,
          1.364533716086213,
          -1.2169224255756232,
          -0.703560958600298,
          -0.5226056338222739,
          -1.4403106413817668,
          -0.5082752114604108,
          -0.45246678819824143,
          -0.8994474129369322,
          -0.8038036119855998,
          -1.6685950229652726,
          0.32678600253398316,
          0.5581877526293396,
          1.252591507712197
         ]
        },
        {
         "boxpoints": false,
         "line": {
          "width": 1.3
         },
         "marker": {
          "color": "rgba(128, 0, 128, 1.0)"
         },
         "name": "D",
         "orientation": "v",
         "type": "box",
         "y": [
          -0.8058842627615331,
          0.9797082212953491,
          0.6379635383022297,
          1.4548329154127562,
          -2.335484400509173,
          -0.6623770650682406,
          0.7535702956405469,
          -0.6236079353039102,
          1.5863547334142853,
          0.5501662700248987,
          0.5544553984982873,
          -0.8026437001666429,
          -1.3410112046609501,
          -0.15432536507994782,
          0.5869254121772779,
          2.1862014691579392,
          -0.8596447818377434,
          0.22903537802967597,
          -1.9527835306690624,
          -0.7106466834944147,
          0.9879654019609568,
          0.43989617483472826,
          0.8879983605688165,
          0.30101447395780634,
          -1.1269830174872864,
          1.637713689364425,
          2.19484065473828,
          2.1351243435618557,
          0.7410418985039773,
          0.10250422142114304,
          1.0147707958155245,
          1.293569209435536,
          -0.30913414653112375,
          0.9485462047058678,
          0.8621835590849038,
          0.30367158443875586,
          1.553251492944668,
          -1.0866663386699786,
          -0.738456098631491,
          -1.2677923318105067,
          -1.5255450657829206,
          0.5806873056280587,
          -1.2980488960785543,
          1.2749609068257286,
          0.44492001246999946,
          -0.9179560951815965,
          0.7796482114958154,
          -1.6263294936914727,
          0.5701756325323951,
          0.5616757646494824,
          2.0692782403749996,
          -0.6998366536532751,
          1.7451322151939659,
          -0.41932548798157826,
          0.12205020250823236,
          0.5315818152632557,
          0.5427953889005159,
          0.4439151325921603,
          -0.9341713046286217,
          0.178731397553212,
          -2.0905963494997692,
          0.6628433514890515,
          -1.0717854744470323,
          0.6395126809145872,
          -0.5506483770131305,
          -0.13274463767961525,
          -1.1915154310340677,
          -2.0013163307379864,
          0.303189753519302,
          -0.9738683344814172,
          0.2200647357558618,
          0.5528113656617654,
          0.03798789279734366,
          -0.033497342180987676,
          0.6561751895549323,
          -1.296629861664313,
          -0.9939882703168663,
          -2.4811780037000126,
          0.5163737334382271,
          -0.8509505825124314,
          0.18521698690709562,
          0.400969571594376,
          0.09284692825371736,
          0.6662143145592785,
          0.38045010667313794,
          -0.6764269749617707,
          -1.9590494783739336,
          0.0702745069971556,
          -0.9868397186829913,
          0.48576342854090954,
          0.9649650807272201,
          0.018040177384070485,
          0.37114273233268846,
          1.8869512978114056,
          1.333566572763461,
          2.177844651149719,
          -1.4653390081808297,
          -1.5728963693526394,
          -0.1622957734581275,
          -0.7038966086121956
         ]
        }
       ],
       "layout": {
        "legend": {
         "bgcolor": "#F5F6F9",
         "font": {
          "color": "#4D5663"
         }
        },
        "paper_bgcolor": "#F5F6F9",
        "plot_bgcolor": "#F5F6F9",
        "template": {
         "data": {
          "bar": [
           {
            "error_x": {
             "color": "#2a3f5f"
            },
            "error_y": {
             "color": "#2a3f5f"
            },
            "marker": {
             "line": {
              "color": "#E5ECF6",
              "width": 0.5
             }
            },
            "type": "bar"
           }
          ],
          "barpolar": [
           {
            "marker": {
             "line": {
              "color": "#E5ECF6",
              "width": 0.5
             }
            },
            "type": "barpolar"
           }
          ],
          "carpet": [
           {
            "aaxis": {
             "endlinecolor": "#2a3f5f",
             "gridcolor": "white",
             "linecolor": "white",
             "minorgridcolor": "white",
             "startlinecolor": "#2a3f5f"
            },
            "baxis": {
             "endlinecolor": "#2a3f5f",
             "gridcolor": "white",
             "linecolor": "white",
             "minorgridcolor": "white",
             "startlinecolor": "#2a3f5f"
            },
            "type": "carpet"
           }
          ],
          "choropleth": [
           {
            "colorbar": {
             "outlinewidth": 0,
             "ticks": ""
            },
            "type": "choropleth"
           }
          ],
          "contour": [
           {
            "colorbar": {
             "outlinewidth": 0,
             "ticks": ""
            },
            "colorscale": [
             [
              0,
              "#0d0887"
             ],
             [
              0.1111111111111111,
              "#46039f"
             ],
             [
              0.2222222222222222,
              "#7201a8"
             ],
             [
              0.3333333333333333,
              "#9c179e"
             ],
             [
              0.4444444444444444,
              "#bd3786"
             ],
             [
              0.5555555555555556,
              "#d8576b"
             ],
             [
              0.6666666666666666,
              "#ed7953"
             ],
             [
              0.7777777777777778,
              "#fb9f3a"
             ],
             [
              0.8888888888888888,
              "#fdca26"
             ],
             [
              1,
              "#f0f921"
             ]
            ],
            "type": "contour"
           }
          ],
          "contourcarpet": [
           {
            "colorbar": {
             "outlinewidth": 0,
             "ticks": ""
            },
            "type": "contourcarpet"
           }
          ],
          "heatmap": [
           {
            "colorbar": {
             "outlinewidth": 0,
             "ticks": ""
            },
            "colorscale": [
             [
              0,
              "#0d0887"
             ],
             [
              0.1111111111111111,
              "#46039f"
             ],
             [
              0.2222222222222222,
              "#7201a8"
             ],
             [
              0.3333333333333333,
              "#9c179e"
             ],
             [
              0.4444444444444444,
              "#bd3786"
             ],
             [
              0.5555555555555556,
              "#d8576b"
             ],
             [
              0.6666666666666666,
              "#ed7953"
             ],
             [
              0.7777777777777778,
              "#fb9f3a"
             ],
             [
              0.8888888888888888,
              "#fdca26"
             ],
             [
              1,
              "#f0f921"
             ]
            ],
            "type": "heatmap"
           }
          ],
          "heatmapgl": [
           {
            "colorbar": {
             "outlinewidth": 0,
             "ticks": ""
            },
            "colorscale": [
             [
              0,
              "#0d0887"
             ],
             [
              0.1111111111111111,
              "#46039f"
             ],
             [
              0.2222222222222222,
              "#7201a8"
             ],
             [
              0.3333333333333333,
              "#9c179e"
             ],
             [
              0.4444444444444444,
              "#bd3786"
             ],
             [
              0.5555555555555556,
              "#d8576b"
             ],
             [
              0.6666666666666666,
              "#ed7953"
             ],
             [
              0.7777777777777778,
              "#fb9f3a"
             ],
             [
              0.8888888888888888,
              "#fdca26"
             ],
             [
              1,
              "#f0f921"
             ]
            ],
            "type": "heatmapgl"
           }
          ],
          "histogram": [
           {
            "marker": {
             "colorbar": {
              "outlinewidth": 0,
              "ticks": ""
             }
            },
            "type": "histogram"
           }
          ],
          "histogram2d": [
           {
            "colorbar": {
             "outlinewidth": 0,
             "ticks": ""
            },
            "colorscale": [
             [
              0,
              "#0d0887"
             ],
             [
              0.1111111111111111,
              "#46039f"
             ],
             [
              0.2222222222222222,
              "#7201a8"
             ],
             [
              0.3333333333333333,
              "#9c179e"
             ],
             [
              0.4444444444444444,
              "#bd3786"
             ],
             [
              0.5555555555555556,
              "#d8576b"
             ],
             [
              0.6666666666666666,
              "#ed7953"
             ],
             [
              0.7777777777777778,
              "#fb9f3a"
             ],
             [
              0.8888888888888888,
              "#fdca26"
             ],
             [
              1,
              "#f0f921"
             ]
            ],
            "type": "histogram2d"
           }
          ],
          "histogram2dcontour": [
           {
            "colorbar": {
             "outlinewidth": 0,
             "ticks": ""
            },
            "colorscale": [
             [
              0,
              "#0d0887"
             ],
             [
              0.1111111111111111,
              "#46039f"
             ],
             [
              0.2222222222222222,
              "#7201a8"
             ],
             [
              0.3333333333333333,
              "#9c179e"
             ],
             [
              0.4444444444444444,
              "#bd3786"
             ],
             [
              0.5555555555555556,
              "#d8576b"
             ],
             [
              0.6666666666666666,
              "#ed7953"
             ],
             [
              0.7777777777777778,
              "#fb9f3a"
             ],
             [
              0.8888888888888888,
              "#fdca26"
             ],
             [
              1,
              "#f0f921"
             ]
            ],
            "type": "histogram2dcontour"
           }
          ],
          "mesh3d": [
           {
            "colorbar": {
             "outlinewidth": 0,
             "ticks": ""
            },
            "type": "mesh3d"
           }
          ],
          "parcoords": [
           {
            "line": {
             "colorbar": {
              "outlinewidth": 0,
              "ticks": ""
             }
            },
            "type": "parcoords"
           }
          ],
          "pie": [
           {
            "automargin": true,
            "type": "pie"
           }
          ],
          "scatter": [
           {
            "marker": {
             "colorbar": {
              "outlinewidth": 0,
              "ticks": ""
             }
            },
            "type": "scatter"
           }
          ],
          "scatter3d": [
           {
            "line": {
             "colorbar": {
              "outlinewidth": 0,
              "ticks": ""
             }
            },
            "marker": {
             "colorbar": {
              "outlinewidth": 0,
              "ticks": ""
             }
            },
            "type": "scatter3d"
           }
          ],
          "scattercarpet": [
           {
            "marker": {
             "colorbar": {
              "outlinewidth": 0,
              "ticks": ""
             }
            },
            "type": "scattercarpet"
           }
          ],
          "scattergeo": [
           {
            "marker": {
             "colorbar": {
              "outlinewidth": 0,
              "ticks": ""
             }
            },
            "type": "scattergeo"
           }
          ],
          "scattergl": [
           {
            "marker": {
             "colorbar": {
              "outlinewidth": 0,
              "ticks": ""
             }
            },
            "type": "scattergl"
           }
          ],
          "scattermapbox": [
           {
            "marker": {
             "colorbar": {
              "outlinewidth": 0,
              "ticks": ""
             }
            },
            "type": "scattermapbox"
           }
          ],
          "scatterpolar": [
           {
            "marker": {
             "colorbar": {
              "outlinewidth": 0,
              "ticks": ""
             }
            },
            "type": "scatterpolar"
           }
          ],
          "scatterpolargl": [
           {
            "marker": {
             "colorbar": {
              "outlinewidth": 0,
              "ticks": ""
             }
            },
            "type": "scatterpolargl"
           }
          ],
          "scatterternary": [
           {
            "marker": {
             "colorbar": {
              "outlinewidth": 0,
              "ticks": ""
             }
            },
            "type": "scatterternary"
           }
          ],
          "surface": [
           {
            "colorbar": {
             "outlinewidth": 0,
             "ticks": ""
            },
            "colorscale": [
             [
              0,
              "#0d0887"
             ],
             [
              0.1111111111111111,
              "#46039f"
             ],
             [
              0.2222222222222222,
              "#7201a8"
             ],
             [
              0.3333333333333333,
              "#9c179e"
             ],
             [
              0.4444444444444444,
              "#bd3786"
             ],
             [
              0.5555555555555556,
              "#d8576b"
             ],
             [
              0.6666666666666666,
              "#ed7953"
             ],
             [
              0.7777777777777778,
              "#fb9f3a"
             ],
             [
              0.8888888888888888,
              "#fdca26"
             ],
             [
              1,
              "#f0f921"
             ]
            ],
            "type": "surface"
           }
          ],
          "table": [
           {
            "cells": {
             "fill": {
              "color": "#EBF0F8"
             },
             "line": {
              "color": "white"
             }
            },
            "header": {
             "fill": {
              "color": "#C8D4E3"
             },
             "line": {
              "color": "white"
             }
            },
            "type": "table"
           }
          ]
         },
         "layout": {
          "annotationdefaults": {
           "arrowcolor": "#2a3f5f",
           "arrowhead": 0,
           "arrowwidth": 1
          },
          "coloraxis": {
           "colorbar": {
            "outlinewidth": 0,
            "ticks": ""
           }
          },
          "colorscale": {
           "diverging": [
            [
             0,
             "#8e0152"
            ],
            [
             0.1,
             "#c51b7d"
            ],
            [
             0.2,
             "#de77ae"
            ],
            [
             0.3,
             "#f1b6da"
            ],
            [
             0.4,
             "#fde0ef"
            ],
            [
             0.5,
             "#f7f7f7"
            ],
            [
             0.6,
             "#e6f5d0"
            ],
            [
             0.7,
             "#b8e186"
            ],
            [
             0.8,
             "#7fbc41"
            ],
            [
             0.9,
             "#4d9221"
            ],
            [
             1,
             "#276419"
            ]
           ],
           "sequential": [
            [
             0,
             "#0d0887"
            ],
            [
             0.1111111111111111,
             "#46039f"
            ],
            [
             0.2222222222222222,
             "#7201a8"
            ],
            [
             0.3333333333333333,
             "#9c179e"
            ],
            [
             0.4444444444444444,
             "#bd3786"
            ],
            [
             0.5555555555555556,
             "#d8576b"
            ],
            [
             0.6666666666666666,
             "#ed7953"
            ],
            [
             0.7777777777777778,
             "#fb9f3a"
            ],
            [
             0.8888888888888888,
             "#fdca26"
            ],
            [
             1,
             "#f0f921"
            ]
           ],
           "sequentialminus": [
            [
             0,
             "#0d0887"
            ],
            [
             0.1111111111111111,
             "#46039f"
            ],
            [
             0.2222222222222222,
             "#7201a8"
            ],
            [
             0.3333333333333333,
             "#9c179e"
            ],
            [
             0.4444444444444444,
             "#bd3786"
            ],
            [
             0.5555555555555556,
             "#d8576b"
            ],
            [
             0.6666666666666666,
             "#ed7953"
            ],
            [
             0.7777777777777778,
             "#fb9f3a"
            ],
            [
             0.8888888888888888,
             "#fdca26"
            ],
            [
             1,
             "#f0f921"
            ]
           ]
          },
          "colorway": [
           "#636efa",
           "#EF553B",
           "#00cc96",
           "#ab63fa",
           "#FFA15A",
           "#19d3f3",
           "#FF6692",
           "#B6E880",
           "#FF97FF",
           "#FECB52"
          ],
          "font": {
           "color": "#2a3f5f"
          },
          "geo": {
           "bgcolor": "white",
           "lakecolor": "white",
           "landcolor": "#E5ECF6",
           "showlakes": true,
           "showland": true,
           "subunitcolor": "white"
          },
          "hoverlabel": {
           "align": "left"
          },
          "hovermode": "closest",
          "mapbox": {
           "style": "light"
          },
          "paper_bgcolor": "white",
          "plot_bgcolor": "#E5ECF6",
          "polar": {
           "angularaxis": {
            "gridcolor": "white",
            "linecolor": "white",
            "ticks": ""
           },
           "bgcolor": "#E5ECF6",
           "radialaxis": {
            "gridcolor": "white",
            "linecolor": "white",
            "ticks": ""
           }
          },
          "scene": {
           "xaxis": {
            "backgroundcolor": "#E5ECF6",
            "gridcolor": "white",
            "gridwidth": 2,
            "linecolor": "white",
            "showbackground": true,
            "ticks": "",
            "zerolinecolor": "white"
           },
           "yaxis": {
            "backgroundcolor": "#E5ECF6",
            "gridcolor": "white",
            "gridwidth": 2,
            "linecolor": "white",
            "showbackground": true,
            "ticks": "",
            "zerolinecolor": "white"
           },
           "zaxis": {
            "backgroundcolor": "#E5ECF6",
            "gridcolor": "white",
            "gridwidth": 2,
            "linecolor": "white",
            "showbackground": true,
            "ticks": "",
            "zerolinecolor": "white"
           }
          },
          "shapedefaults": {
           "line": {
            "color": "#2a3f5f"
           }
          },
          "ternary": {
           "aaxis": {
            "gridcolor": "white",
            "linecolor": "white",
            "ticks": ""
           },
           "baxis": {
            "gridcolor": "white",
            "linecolor": "white",
            "ticks": ""
           },
           "bgcolor": "#E5ECF6",
           "caxis": {
            "gridcolor": "white",
            "linecolor": "white",
            "ticks": ""
           }
          },
          "title": {
           "x": 0.05
          },
          "xaxis": {
           "automargin": true,
           "gridcolor": "white",
           "linecolor": "white",
           "ticks": "",
           "title": {
            "standoff": 15
           },
           "zerolinecolor": "white",
           "zerolinewidth": 2
          },
          "yaxis": {
           "automargin": true,
           "gridcolor": "white",
           "linecolor": "white",
           "ticks": "",
           "title": {
            "standoff": 15
           },
           "zerolinecolor": "white",
           "zerolinewidth": 2
          }
         }
        },
        "title": {
         "font": {
          "color": "#4D5663"
         }
        },
        "xaxis": {
         "gridcolor": "#E1E5ED",
         "showgrid": true,
         "tickfont": {
          "color": "#4D5663"
         },
         "title": {
          "font": {
           "color": "#4D5663"
          },
          "text": ""
         },
         "zerolinecolor": "#E1E5ED"
        },
        "yaxis": {
         "gridcolor": "#E1E5ED",
         "showgrid": true,
         "tickfont": {
          "color": "#4D5663"
         },
         "title": {
          "font": {
           "color": "#4D5663"
          },
          "text": ""
         },
         "zerolinecolor": "#E1E5ED"
        }
       }
      },
      "text/html": [
       "<div>\n",
       "        \n",
       "        \n",
       "            <div id=\"49e73e66-63cd-436d-af30-df26e48523e4\" class=\"plotly-graph-div\" style=\"height:525px; width:100%;\"></div>\n",
       "            <script type=\"text/javascript\">\n",
       "                require([\"plotly\"], function(Plotly) {\n",
       "                    window.PLOTLYENV=window.PLOTLYENV || {};\n",
       "                    window.PLOTLYENV.BASE_URL='https://plot.ly';\n",
       "                    \n",
       "                if (document.getElementById(\"49e73e66-63cd-436d-af30-df26e48523e4\")) {\n",
       "                    Plotly.newPlot(\n",
       "                        '49e73e66-63cd-436d-af30-df26e48523e4',\n",
       "                        [{\"boxpoints\": false, \"line\": {\"width\": 1.3}, \"marker\": {\"color\": \"rgba(255, 153, 51, 1.0)\"}, \"name\": \"A\", \"orientation\": \"v\", \"type\": \"box\", \"y\": [1.204374223794343, -0.36906833924077637, -0.8122413394730359, 1.3997697154739082, -1.060788107444831, 0.5515735422646244, 0.14061940746164717, 0.16983560391476102, -0.5570859045323824, 1.401481283250656, -0.22735734650862433, -0.2708226895595077, -0.061950652045331865, -0.23938387027733657, 1.108929431106888, 1.5885217800040747, -0.23559972372649096, -0.8063452712749882, 0.13813159002450978, -0.6380738291099499, -1.3331534209046985, -0.1297105180803108, -0.10188136335052575, -0.30361318214471156, 0.16497636748164915, 2.183144065787738, -0.7843797606187034, -0.7395470414853026, -0.527746573443475, 1.1734247890807368, -0.4277744368396613, 1.586083786095986, -0.5946807669553307, 1.1091000750587032, -2.2431426226953897, 1.0511348504249087, -1.7084854938366552, 0.3848496070527757, 0.02319587782161051, -1.5614243800488814, -0.49612500584776853, 0.36651695375891874, -1.9325653893667134, -0.009736954747299615, 0.5770681622022307, -1.798736202311587, -1.4731317977982321, 0.9207786842892908, -1.4109451145958787, 1.474614654368594, -1.151126450220308, 1.0959490386459758, 0.7132001708734125, 1.5389324759551382, -0.3437764307427175, -0.1398678689458212, -0.5692961334275359, -0.3876239117207527, 2.1646360720109534, -0.8575609675505435, -0.12246755380214738, -0.35793397267560856, 0.6760702797677335, 0.6859757866029638, 1.2172949175056056, 3.0190435916527885, -0.49318883868647506, -1.4621624134879483, -0.018015512803250384, 1.0663682852882106, 0.6097999035722868, 0.8061363870535981, -0.9775765064326202, 1.9186469222357772, -1.3863509250475359, -1.729431686804565, -0.18184271399933602, -0.18613439383574115, 0.5857466322063433, -0.34237696433466347, 0.3571290493876967, 0.006789251745769943, -3.2125921573829657, -0.5584989724527796, -0.3753882921486149, 0.4722926040135994, -2.363150670854163, -0.6542164839532234, 0.032211397087431724, -1.138463704994325, 0.16231793129177194, 0.4166899662658287, -0.18051501338281437, -0.15668668070654856, 0.0848144483366338, 0.6315939404556832, 0.49811604910354135, 0.9187915032050765, -0.45235784878744706, -0.18836177542466803]}, {\"boxpoints\": false, \"line\": {\"width\": 1.3}, \"marker\": {\"color\": \"rgba(55, 128, 191, 1.0)\"}, \"name\": \"B\", \"orientation\": \"v\", \"type\": \"box\", \"y\": [0.28883879264521045, -0.9696091384577731, 0.3240029375457199, -2.0275223864420986, 0.14726848424825328, 0.678991256631577, 0.8082635732754649, -1.7856463481517608, -1.104842817878926, -0.46027812161661064, -2.1537687431575328, 0.15945482476116415, -1.3018992475704751, 0.6025453549513595, 0.2587350592374064, 0.8027749160485882, 0.35454868506569975, -0.4552450279185263, -0.8120909393883892, -0.4444774282124728, 0.36142121866382554, 1.0066457905843325, 2.1146963668436967, 0.3867859557004427, 0.30976253103714385, 0.25304790269208116, -0.4853018821573321, -0.4266472311732564, 1.0574834426305726, 0.0727828918106895, 0.6387061611541429, 0.35282443058578244, 1.2613356031803376, 1.9112868409358335, 0.35270908010673824, 0.33830107746460486, 0.9661583398721716, 0.7409660674911244, -1.0132490082439065, 1.1381430753784794, 0.06956837769113201, -0.025060573913217636, 0.5601028658725632, 1.1067653704904703, 0.5381067202924643, -0.7979118583312437, 0.6334157782864624, -0.5266080026725684, 0.4833853733012127, -0.38299530376008994, -0.4357980040855327, -0.37062045661239246, -1.3414385587779716, -0.36590910152001693, -0.7034440798878234, -1.3876156954916887, -1.0926499669857581, 0.5638637016453981, -0.3829013772219426, 1.9157532042187086, 0.761887728347791, 0.8146029084065223, 0.8231475450342212, 0.04436894811492774, -1.0635463927921698, -0.07945247508080461, 1.882926346755678, -0.20579958146507463, 0.4168470364341955, 0.36946234527703425, 1.022023039989263, -2.199761127185428, 0.09350752683525511, 0.050408117632942985, 2.190592367226769, -0.23747751471779366, 1.0478758815724036, -0.4337413657219337, 0.20492756400731685, 2.3831221699587988, -0.6802126826044421, 0.9545186757613414, -1.559532703638838, -0.2702728387868071, 0.2237820300585606, -0.18639837634820103, -0.47969720470485616, 0.44948289758789267, -0.3239630401170654, 0.12299224412986517, -0.2955225352765806, -0.06693027092072842, -0.3667350661835663, -1.1643883307876375, 0.8995409226274617, -1.0630968020526121, -2.25782917678505, 0.17250522033490703, -2.0771412668361102, -1.498269212529484]}, {\"boxpoints\": false, \"line\": {\"width\": 1.3}, \"marker\": {\"color\": \"rgba(50, 171, 96, 1.0)\"}, \"name\": \"C\", \"orientation\": \"v\", \"type\": \"box\", \"y\": [0.9343696833686856, 0.6173183922345006, -1.0639285999296693, -0.33859612376905984, 0.506690249511028, 0.2957480725083949, 0.5263886133671345, -0.32276366714443333, -0.01792066674395618, -1.775083329657011, -1.4437741093187602, 0.07329908144639716, 1.202571194374941, 0.5168437647049239, -0.09882521510224906, 1.2444214483260527, 0.4917821790620534, 0.1965902827913307, 0.16855948625243314, 1.108497197968096, -0.5675585086297141, -0.3095257147273207, -0.7102455459926497, 1.1671495944265564, -0.5284595837443142, 1.7243424357402708, -0.16867574245345937, -0.7529943369078369, 1.4714561614880592, -0.3156054085787056, 1.6318798368170893, -1.1814339345772011, 1.0176216826497526, 1.2215659458124433, 0.5550009695494434, 1.2051994421401777, 0.12738565982693809, -0.349202693458132, -1.2226864380171725, 1.0622710558752908, -1.4610410655094517, -1.5352515493002508, -0.6112654698490414, -1.6006436768837422, -1.2126704936089923, 1.51414712452721, -0.05326645847836819, 0.5720140651740735, 0.30677221656661624, -0.8515412861948122, -0.2175631127524753, -0.6866800691236976, -0.2718610220028386, -0.4286993360378733, -0.008244722026312986, -1.134459704124308, 0.6839925305569563, -0.9037393141619001, 0.8946253754874015, -0.9563364923279836, -1.8017716095525207, 1.5529278139958989, 0.5585114201282104, 1.1081748287221973, 0.5786445092709741, 0.012575418742362943, 0.31251853048904665, 0.668992790804777, -0.9357642050522706, -1.7502352908475747, -1.1891899470303575, 1.3039873876743129, -0.9290778024734753, 1.5949617014816626, 1.317263804134899, -0.7393457254093768, -0.2836412501033554, 0.39500577301382556, -0.19878243420856143, -0.015156971804573429, -1.0233128562001466, -0.9044467815425445, 1.130533978735926, 0.6647964258955746, 1.3161641115644949, 1.5555717667850633, 0.09260698431106808, 1.364533716086213, -1.2169224255756232, -0.703560958600298, -0.5226056338222739, -1.4403106413817668, -0.5082752114604108, -0.45246678819824143, -0.8994474129369322, -0.8038036119855998, -1.6685950229652726, 0.32678600253398316, 0.5581877526293396, 1.252591507712197]}, {\"boxpoints\": false, \"line\": {\"width\": 1.3}, \"marker\": {\"color\": \"rgba(128, 0, 128, 1.0)\"}, \"name\": \"D\", \"orientation\": \"v\", \"type\": \"box\", \"y\": [-0.8058842627615331, 0.9797082212953491, 0.6379635383022297, 1.4548329154127562, -2.335484400509173, -0.6623770650682406, 0.7535702956405469, -0.6236079353039102, 1.5863547334142853, 0.5501662700248987, 0.5544553984982873, -0.8026437001666429, -1.3410112046609501, -0.15432536507994782, 0.5869254121772779, 2.1862014691579392, -0.8596447818377434, 0.22903537802967597, -1.9527835306690624, -0.7106466834944147, 0.9879654019609568, 0.43989617483472826, 0.8879983605688165, 0.30101447395780634, -1.1269830174872864, 1.637713689364425, 2.19484065473828, 2.1351243435618557, 0.7410418985039773, 0.10250422142114304, 1.0147707958155245, 1.293569209435536, -0.30913414653112375, 0.9485462047058678, 0.8621835590849038, 0.30367158443875586, 1.553251492944668, -1.0866663386699786, -0.738456098631491, -1.2677923318105067, -1.5255450657829206, 0.5806873056280587, -1.2980488960785543, 1.2749609068257286, 0.44492001246999946, -0.9179560951815965, 0.7796482114958154, -1.6263294936914727, 0.5701756325323951, 0.5616757646494824, 2.0692782403749996, -0.6998366536532751, 1.7451322151939659, -0.41932548798157826, 0.12205020250823236, 0.5315818152632557, 0.5427953889005159, 0.4439151325921603, -0.9341713046286217, 0.178731397553212, -2.0905963494997692, 0.6628433514890515, -1.0717854744470323, 0.6395126809145872, -0.5506483770131305, -0.13274463767961525, -1.1915154310340677, -2.0013163307379864, 0.303189753519302, -0.9738683344814172, 0.2200647357558618, 0.5528113656617654, 0.03798789279734366, -0.033497342180987676, 0.6561751895549323, -1.296629861664313, -0.9939882703168663, -2.4811780037000126, 0.5163737334382271, -0.8509505825124314, 0.18521698690709562, 0.400969571594376, 0.09284692825371736, 0.6662143145592785, 0.38045010667313794, -0.6764269749617707, -1.9590494783739336, 0.0702745069971556, -0.9868397186829913, 0.48576342854090954, 0.9649650807272201, 0.018040177384070485, 0.37114273233268846, 1.8869512978114056, 1.333566572763461, 2.177844651149719, -1.4653390081808297, -1.5728963693526394, -0.1622957734581275, -0.7038966086121956]}],\n",
       "                        {\"legend\": {\"bgcolor\": \"#F5F6F9\", \"font\": {\"color\": \"#4D5663\"}}, \"paper_bgcolor\": \"#F5F6F9\", \"plot_bgcolor\": \"#F5F6F9\", \"template\": {\"data\": {\"bar\": [{\"error_x\": {\"color\": \"#2a3f5f\"}, \"error_y\": {\"color\": \"#2a3f5f\"}, \"marker\": {\"line\": {\"color\": \"#E5ECF6\", \"width\": 0.5}}, \"type\": \"bar\"}], \"barpolar\": [{\"marker\": {\"line\": {\"color\": \"#E5ECF6\", \"width\": 0.5}}, \"type\": \"barpolar\"}], \"carpet\": [{\"aaxis\": {\"endlinecolor\": \"#2a3f5f\", \"gridcolor\": \"white\", \"linecolor\": \"white\", \"minorgridcolor\": \"white\", \"startlinecolor\": \"#2a3f5f\"}, \"baxis\": {\"endlinecolor\": \"#2a3f5f\", \"gridcolor\": \"white\", \"linecolor\": \"white\", \"minorgridcolor\": \"white\", \"startlinecolor\": \"#2a3f5f\"}, \"type\": \"carpet\"}], \"choropleth\": [{\"colorbar\": {\"outlinewidth\": 0, \"ticks\": \"\"}, \"type\": \"choropleth\"}], \"contour\": [{\"colorbar\": {\"outlinewidth\": 0, \"ticks\": \"\"}, \"colorscale\": [[0.0, \"#0d0887\"], [0.1111111111111111, \"#46039f\"], [0.2222222222222222, \"#7201a8\"], [0.3333333333333333, \"#9c179e\"], [0.4444444444444444, \"#bd3786\"], [0.5555555555555556, \"#d8576b\"], [0.6666666666666666, \"#ed7953\"], [0.7777777777777778, \"#fb9f3a\"], [0.8888888888888888, \"#fdca26\"], [1.0, \"#f0f921\"]], \"type\": \"contour\"}], \"contourcarpet\": [{\"colorbar\": {\"outlinewidth\": 0, \"ticks\": \"\"}, \"type\": \"contourcarpet\"}], \"heatmap\": [{\"colorbar\": {\"outlinewidth\": 0, \"ticks\": \"\"}, \"colorscale\": [[0.0, \"#0d0887\"], [0.1111111111111111, \"#46039f\"], [0.2222222222222222, \"#7201a8\"], [0.3333333333333333, \"#9c179e\"], [0.4444444444444444, \"#bd3786\"], [0.5555555555555556, \"#d8576b\"], [0.6666666666666666, \"#ed7953\"], [0.7777777777777778, \"#fb9f3a\"], [0.8888888888888888, \"#fdca26\"], [1.0, \"#f0f921\"]], \"type\": \"heatmap\"}], \"heatmapgl\": [{\"colorbar\": {\"outlinewidth\": 0, \"ticks\": \"\"}, \"colorscale\": [[0.0, \"#0d0887\"], [0.1111111111111111, \"#46039f\"], [0.2222222222222222, \"#7201a8\"], [0.3333333333333333, \"#9c179e\"], [0.4444444444444444, \"#bd3786\"], [0.5555555555555556, \"#d8576b\"], [0.6666666666666666, \"#ed7953\"], [0.7777777777777778, \"#fb9f3a\"], [0.8888888888888888, \"#fdca26\"], [1.0, \"#f0f921\"]], \"type\": \"heatmapgl\"}], \"histogram\": [{\"marker\": {\"colorbar\": {\"outlinewidth\": 0, \"ticks\": \"\"}}, \"type\": \"histogram\"}], \"histogram2d\": [{\"colorbar\": {\"outlinewidth\": 0, \"ticks\": \"\"}, \"colorscale\": [[0.0, \"#0d0887\"], [0.1111111111111111, \"#46039f\"], [0.2222222222222222, \"#7201a8\"], [0.3333333333333333, \"#9c179e\"], [0.4444444444444444, \"#bd3786\"], [0.5555555555555556, \"#d8576b\"], [0.6666666666666666, \"#ed7953\"], [0.7777777777777778, \"#fb9f3a\"], [0.8888888888888888, \"#fdca26\"], [1.0, \"#f0f921\"]], \"type\": \"histogram2d\"}], \"histogram2dcontour\": [{\"colorbar\": {\"outlinewidth\": 0, \"ticks\": \"\"}, \"colorscale\": [[0.0, \"#0d0887\"], [0.1111111111111111, \"#46039f\"], [0.2222222222222222, \"#7201a8\"], [0.3333333333333333, \"#9c179e\"], [0.4444444444444444, \"#bd3786\"], [0.5555555555555556, \"#d8576b\"], [0.6666666666666666, \"#ed7953\"], [0.7777777777777778, \"#fb9f3a\"], [0.8888888888888888, \"#fdca26\"], [1.0, \"#f0f921\"]], \"type\": \"histogram2dcontour\"}], \"mesh3d\": [{\"colorbar\": {\"outlinewidth\": 0, \"ticks\": \"\"}, \"type\": \"mesh3d\"}], \"parcoords\": [{\"line\": {\"colorbar\": {\"outlinewidth\": 0, \"ticks\": \"\"}}, \"type\": \"parcoords\"}], \"pie\": [{\"automargin\": true, \"type\": \"pie\"}], \"scatter\": [{\"marker\": {\"colorbar\": {\"outlinewidth\": 0, \"ticks\": \"\"}}, \"type\": \"scatter\"}], \"scatter3d\": [{\"line\": {\"colorbar\": {\"outlinewidth\": 0, \"ticks\": \"\"}}, \"marker\": {\"colorbar\": {\"outlinewidth\": 0, \"ticks\": \"\"}}, \"type\": \"scatter3d\"}], \"scattercarpet\": [{\"marker\": {\"colorbar\": {\"outlinewidth\": 0, \"ticks\": \"\"}}, \"type\": \"scattercarpet\"}], \"scattergeo\": [{\"marker\": {\"colorbar\": {\"outlinewidth\": 0, \"ticks\": \"\"}}, \"type\": \"scattergeo\"}], \"scattergl\": [{\"marker\": {\"colorbar\": {\"outlinewidth\": 0, \"ticks\": \"\"}}, \"type\": \"scattergl\"}], \"scattermapbox\": [{\"marker\": {\"colorbar\": {\"outlinewidth\": 0, \"ticks\": \"\"}}, \"type\": \"scattermapbox\"}], \"scatterpolar\": [{\"marker\": {\"colorbar\": {\"outlinewidth\": 0, \"ticks\": \"\"}}, \"type\": \"scatterpolar\"}], \"scatterpolargl\": [{\"marker\": {\"colorbar\": {\"outlinewidth\": 0, \"ticks\": \"\"}}, \"type\": \"scatterpolargl\"}], \"scatterternary\": [{\"marker\": {\"colorbar\": {\"outlinewidth\": 0, \"ticks\": \"\"}}, \"type\": \"scatterternary\"}], \"surface\": [{\"colorbar\": {\"outlinewidth\": 0, \"ticks\": \"\"}, \"colorscale\": [[0.0, \"#0d0887\"], [0.1111111111111111, \"#46039f\"], [0.2222222222222222, \"#7201a8\"], [0.3333333333333333, \"#9c179e\"], [0.4444444444444444, \"#bd3786\"], [0.5555555555555556, \"#d8576b\"], [0.6666666666666666, \"#ed7953\"], [0.7777777777777778, \"#fb9f3a\"], [0.8888888888888888, \"#fdca26\"], [1.0, \"#f0f921\"]], \"type\": \"surface\"}], \"table\": [{\"cells\": {\"fill\": {\"color\": \"#EBF0F8\"}, \"line\": {\"color\": \"white\"}}, \"header\": {\"fill\": {\"color\": \"#C8D4E3\"}, \"line\": {\"color\": \"white\"}}, \"type\": \"table\"}]}, \"layout\": {\"annotationdefaults\": {\"arrowcolor\": \"#2a3f5f\", \"arrowhead\": 0, \"arrowwidth\": 1}, \"coloraxis\": {\"colorbar\": {\"outlinewidth\": 0, \"ticks\": \"\"}}, \"colorscale\": {\"diverging\": [[0, \"#8e0152\"], [0.1, \"#c51b7d\"], [0.2, \"#de77ae\"], [0.3, \"#f1b6da\"], [0.4, \"#fde0ef\"], [0.5, \"#f7f7f7\"], [0.6, \"#e6f5d0\"], [0.7, \"#b8e186\"], [0.8, \"#7fbc41\"], [0.9, \"#4d9221\"], [1, \"#276419\"]], \"sequential\": [[0.0, \"#0d0887\"], [0.1111111111111111, \"#46039f\"], [0.2222222222222222, \"#7201a8\"], [0.3333333333333333, \"#9c179e\"], [0.4444444444444444, \"#bd3786\"], [0.5555555555555556, \"#d8576b\"], [0.6666666666666666, \"#ed7953\"], [0.7777777777777778, \"#fb9f3a\"], [0.8888888888888888, \"#fdca26\"], [1.0, \"#f0f921\"]], \"sequentialminus\": [[0.0, \"#0d0887\"], [0.1111111111111111, \"#46039f\"], [0.2222222222222222, \"#7201a8\"], [0.3333333333333333, \"#9c179e\"], [0.4444444444444444, \"#bd3786\"], [0.5555555555555556, \"#d8576b\"], [0.6666666666666666, \"#ed7953\"], [0.7777777777777778, \"#fb9f3a\"], [0.8888888888888888, \"#fdca26\"], [1.0, \"#f0f921\"]]}, \"colorway\": [\"#636efa\", \"#EF553B\", \"#00cc96\", \"#ab63fa\", \"#FFA15A\", \"#19d3f3\", \"#FF6692\", \"#B6E880\", \"#FF97FF\", \"#FECB52\"], \"font\": {\"color\": \"#2a3f5f\"}, \"geo\": {\"bgcolor\": \"white\", \"lakecolor\": \"white\", \"landcolor\": \"#E5ECF6\", \"showlakes\": true, \"showland\": true, \"subunitcolor\": \"white\"}, \"hoverlabel\": {\"align\": \"left\"}, \"hovermode\": \"closest\", \"mapbox\": {\"style\": \"light\"}, \"paper_bgcolor\": \"white\", \"plot_bgcolor\": \"#E5ECF6\", \"polar\": {\"angularaxis\": {\"gridcolor\": \"white\", \"linecolor\": \"white\", \"ticks\": \"\"}, \"bgcolor\": \"#E5ECF6\", \"radialaxis\": {\"gridcolor\": \"white\", \"linecolor\": \"white\", \"ticks\": \"\"}}, \"scene\": {\"xaxis\": {\"backgroundcolor\": \"#E5ECF6\", \"gridcolor\": \"white\", \"gridwidth\": 2, \"linecolor\": \"white\", \"showbackground\": true, \"ticks\": \"\", \"zerolinecolor\": \"white\"}, \"yaxis\": {\"backgroundcolor\": \"#E5ECF6\", \"gridcolor\": \"white\", \"gridwidth\": 2, \"linecolor\": \"white\", \"showbackground\": true, \"ticks\": \"\", \"zerolinecolor\": \"white\"}, \"zaxis\": {\"backgroundcolor\": \"#E5ECF6\", \"gridcolor\": \"white\", \"gridwidth\": 2, \"linecolor\": \"white\", \"showbackground\": true, \"ticks\": \"\", \"zerolinecolor\": \"white\"}}, \"shapedefaults\": {\"line\": {\"color\": \"#2a3f5f\"}}, \"ternary\": {\"aaxis\": {\"gridcolor\": \"white\", \"linecolor\": \"white\", \"ticks\": \"\"}, \"baxis\": {\"gridcolor\": \"white\", \"linecolor\": \"white\", \"ticks\": \"\"}, \"bgcolor\": \"#E5ECF6\", \"caxis\": {\"gridcolor\": \"white\", \"linecolor\": \"white\", \"ticks\": \"\"}}, \"title\": {\"x\": 0.05}, \"xaxis\": {\"automargin\": true, \"gridcolor\": \"white\", \"linecolor\": \"white\", \"ticks\": \"\", \"title\": {\"standoff\": 15}, \"zerolinecolor\": \"white\", \"zerolinewidth\": 2}, \"yaxis\": {\"automargin\": true, \"gridcolor\": \"white\", \"linecolor\": \"white\", \"ticks\": \"\", \"title\": {\"standoff\": 15}, \"zerolinecolor\": \"white\", \"zerolinewidth\": 2}}}, \"title\": {\"font\": {\"color\": \"#4D5663\"}}, \"xaxis\": {\"gridcolor\": \"#E1E5ED\", \"showgrid\": true, \"tickfont\": {\"color\": \"#4D5663\"}, \"title\": {\"font\": {\"color\": \"#4D5663\"}, \"text\": \"\"}, \"zerolinecolor\": \"#E1E5ED\"}, \"yaxis\": {\"gridcolor\": \"#E1E5ED\", \"showgrid\": true, \"tickfont\": {\"color\": \"#4D5663\"}, \"title\": {\"font\": {\"color\": \"#4D5663\"}, \"text\": \"\"}, \"zerolinecolor\": \"#E1E5ED\"}},\n",
       "                        {\"showLink\": true, \"linkText\": \"Export to plot.ly\", \"plotlyServerURL\": \"https://plot.ly\", \"responsive\": true}\n",
       "                    ).then(function(){\n",
       "                            \n",
       "var gd = document.getElementById('49e73e66-63cd-436d-af30-df26e48523e4');\n",
       "var x = new MutationObserver(function (mutations, observer) {{\n",
       "        var display = window.getComputedStyle(gd).display;\n",
       "        if (!display || display === 'none') {{\n",
       "            console.log([gd, 'removed!']);\n",
       "            Plotly.purge(gd);\n",
       "            observer.disconnect();\n",
       "        }}\n",
       "}});\n",
       "\n",
       "// Listen for the removal of the full notebook cells\n",
       "var notebookContainer = gd.closest('#notebook-container');\n",
       "if (notebookContainer) {{\n",
       "    x.observe(notebookContainer, {childList: true});\n",
       "}}\n",
       "\n",
       "// Listen for the clearing of the current output cell\n",
       "var outputEl = gd.closest('.output');\n",
       "if (outputEl) {{\n",
       "    x.observe(outputEl, {childList: true});\n",
       "}}\n",
       "\n",
       "                        })\n",
       "                };\n",
       "                });\n",
       "            </script>\n",
       "        </div>"
      ]
     },
     "metadata": {},
     "output_type": "display_data"
    }
   ],
   "source": [
    "#boxplot\n",
    "\n",
    "df.iplot(kind ='box')"
   ]
  },
  {
   "cell_type": "code",
   "execution_count": 42,
   "metadata": {},
   "outputs": [],
   "source": [
    "df3 = pd.DataFrame({\"x\": [1,2,3,4,5], \"y\":[10,20,30,20,10],\n",
    "                    \"z\": [500,400,300,200,100]})"
   ]
  },
  {
   "cell_type": "code",
   "execution_count": 43,
   "metadata": {},
   "outputs": [
    {
     "data": {
      "text/html": [
       "<div>\n",
       "<style scoped>\n",
       "    .dataframe tbody tr th:only-of-type {\n",
       "        vertical-align: middle;\n",
       "    }\n",
       "\n",
       "    .dataframe tbody tr th {\n",
       "        vertical-align: top;\n",
       "    }\n",
       "\n",
       "    .dataframe thead th {\n",
       "        text-align: right;\n",
       "    }\n",
       "</style>\n",
       "<table border=\"1\" class=\"dataframe\">\n",
       "  <thead>\n",
       "    <tr style=\"text-align: right;\">\n",
       "      <th></th>\n",
       "      <th>x</th>\n",
       "      <th>y</th>\n",
       "      <th>z</th>\n",
       "    </tr>\n",
       "  </thead>\n",
       "  <tbody>\n",
       "    <tr>\n",
       "      <th>0</th>\n",
       "      <td>1</td>\n",
       "      <td>10</td>\n",
       "      <td>500</td>\n",
       "    </tr>\n",
       "    <tr>\n",
       "      <th>1</th>\n",
       "      <td>2</td>\n",
       "      <td>20</td>\n",
       "      <td>400</td>\n",
       "    </tr>\n",
       "    <tr>\n",
       "      <th>2</th>\n",
       "      <td>3</td>\n",
       "      <td>30</td>\n",
       "      <td>300</td>\n",
       "    </tr>\n",
       "    <tr>\n",
       "      <th>3</th>\n",
       "      <td>4</td>\n",
       "      <td>20</td>\n",
       "      <td>200</td>\n",
       "    </tr>\n",
       "    <tr>\n",
       "      <th>4</th>\n",
       "      <td>5</td>\n",
       "      <td>10</td>\n",
       "      <td>100</td>\n",
       "    </tr>\n",
       "  </tbody>\n",
       "</table>\n",
       "</div>"
      ],
      "text/plain": [
       "   x   y    z\n",
       "0  1  10  500\n",
       "1  2  20  400\n",
       "2  3  30  300\n",
       "3  4  20  200\n",
       "4  5  10  100"
      ]
     },
     "execution_count": 43,
     "metadata": {},
     "output_type": "execute_result"
    }
   ],
   "source": [
    "df3"
   ]
  },
  {
   "cell_type": "code",
   "execution_count": 58,
   "metadata": {},
   "outputs": [
    {
     "data": {
      "application/vnd.plotly.v1+json": {
       "config": {
        "linkText": "Export to plot.ly",
        "plotlyServerURL": "https://plot.ly",
        "showLink": true
       },
       "data": [
        {
         "colorscale": [
          [
           0,
           "rgb(255, 153, 51)"
          ],
          [
           0.1111111111111111,
           "rgb(55, 128, 191)"
          ],
          [
           0.2222222222222222,
           "rgb(50, 171, 96)"
          ],
          [
           0.3333333333333333,
           "rgb(128, 0, 128)"
          ],
          [
           0.4444444444444444,
           "rgb(219, 64, 82)"
          ],
          [
           0.5555555555555556,
           "rgb(0, 128, 128)"
          ],
          [
           0.6666666666666666,
           "rgb(255, 255, 51)"
          ],
          [
           0.7777777777777778,
           "rgb(128, 128, 0)"
          ],
          [
           0.8888888888888888,
           "rgb(251, 128, 114)"
          ],
          [
           1,
           "rgb(128, 177, 211)"
          ]
         ],
         "type": "surface",
         "x": [
          0,
          1,
          2,
          3,
          4
         ],
         "y": [
          "x",
          "y",
          "z"
         ],
         "z": [
          [
           1,
           2,
           3,
           4,
           5
          ],
          [
           10,
           20,
           30,
           20,
           10
          ],
          [
           500,
           400,
           300,
           200,
           100
          ]
         ]
        }
       ],
       "layout": {
        "legend": {
         "bgcolor": "#F5F6F9",
         "font": {
          "color": "#4D5663"
         }
        },
        "paper_bgcolor": "#F5F6F9",
        "plot_bgcolor": "#F5F6F9",
        "template": {
         "data": {
          "bar": [
           {
            "error_x": {
             "color": "#2a3f5f"
            },
            "error_y": {
             "color": "#2a3f5f"
            },
            "marker": {
             "line": {
              "color": "#E5ECF6",
              "width": 0.5
             }
            },
            "type": "bar"
           }
          ],
          "barpolar": [
           {
            "marker": {
             "line": {
              "color": "#E5ECF6",
              "width": 0.5
             }
            },
            "type": "barpolar"
           }
          ],
          "carpet": [
           {
            "aaxis": {
             "endlinecolor": "#2a3f5f",
             "gridcolor": "white",
             "linecolor": "white",
             "minorgridcolor": "white",
             "startlinecolor": "#2a3f5f"
            },
            "baxis": {
             "endlinecolor": "#2a3f5f",
             "gridcolor": "white",
             "linecolor": "white",
             "minorgridcolor": "white",
             "startlinecolor": "#2a3f5f"
            },
            "type": "carpet"
           }
          ],
          "choropleth": [
           {
            "colorbar": {
             "outlinewidth": 0,
             "ticks": ""
            },
            "type": "choropleth"
           }
          ],
          "contour": [
           {
            "colorbar": {
             "outlinewidth": 0,
             "ticks": ""
            },
            "colorscale": [
             [
              0,
              "#0d0887"
             ],
             [
              0.1111111111111111,
              "#46039f"
             ],
             [
              0.2222222222222222,
              "#7201a8"
             ],
             [
              0.3333333333333333,
              "#9c179e"
             ],
             [
              0.4444444444444444,
              "#bd3786"
             ],
             [
              0.5555555555555556,
              "#d8576b"
             ],
             [
              0.6666666666666666,
              "#ed7953"
             ],
             [
              0.7777777777777778,
              "#fb9f3a"
             ],
             [
              0.8888888888888888,
              "#fdca26"
             ],
             [
              1,
              "#f0f921"
             ]
            ],
            "type": "contour"
           }
          ],
          "contourcarpet": [
           {
            "colorbar": {
             "outlinewidth": 0,
             "ticks": ""
            },
            "type": "contourcarpet"
           }
          ],
          "heatmap": [
           {
            "colorbar": {
             "outlinewidth": 0,
             "ticks": ""
            },
            "colorscale": [
             [
              0,
              "#0d0887"
             ],
             [
              0.1111111111111111,
              "#46039f"
             ],
             [
              0.2222222222222222,
              "#7201a8"
             ],
             [
              0.3333333333333333,
              "#9c179e"
             ],
             [
              0.4444444444444444,
              "#bd3786"
             ],
             [
              0.5555555555555556,
              "#d8576b"
             ],
             [
              0.6666666666666666,
              "#ed7953"
             ],
             [
              0.7777777777777778,
              "#fb9f3a"
             ],
             [
              0.8888888888888888,
              "#fdca26"
             ],
             [
              1,
              "#f0f921"
             ]
            ],
            "type": "heatmap"
           }
          ],
          "heatmapgl": [
           {
            "colorbar": {
             "outlinewidth": 0,
             "ticks": ""
            },
            "colorscale": [
             [
              0,
              "#0d0887"
             ],
             [
              0.1111111111111111,
              "#46039f"
             ],
             [
              0.2222222222222222,
              "#7201a8"
             ],
             [
              0.3333333333333333,
              "#9c179e"
             ],
             [
              0.4444444444444444,
              "#bd3786"
             ],
             [
              0.5555555555555556,
              "#d8576b"
             ],
             [
              0.6666666666666666,
              "#ed7953"
             ],
             [
              0.7777777777777778,
              "#fb9f3a"
             ],
             [
              0.8888888888888888,
              "#fdca26"
             ],
             [
              1,
              "#f0f921"
             ]
            ],
            "type": "heatmapgl"
           }
          ],
          "histogram": [
           {
            "marker": {
             "colorbar": {
              "outlinewidth": 0,
              "ticks": ""
             }
            },
            "type": "histogram"
           }
          ],
          "histogram2d": [
           {
            "colorbar": {
             "outlinewidth": 0,
             "ticks": ""
            },
            "colorscale": [
             [
              0,
              "#0d0887"
             ],
             [
              0.1111111111111111,
              "#46039f"
             ],
             [
              0.2222222222222222,
              "#7201a8"
             ],
             [
              0.3333333333333333,
              "#9c179e"
             ],
             [
              0.4444444444444444,
              "#bd3786"
             ],
             [
              0.5555555555555556,
              "#d8576b"
             ],
             [
              0.6666666666666666,
              "#ed7953"
             ],
             [
              0.7777777777777778,
              "#fb9f3a"
             ],
             [
              0.8888888888888888,
              "#fdca26"
             ],
             [
              1,
              "#f0f921"
             ]
            ],
            "type": "histogram2d"
           }
          ],
          "histogram2dcontour": [
           {
            "colorbar": {
             "outlinewidth": 0,
             "ticks": ""
            },
            "colorscale": [
             [
              0,
              "#0d0887"
             ],
             [
              0.1111111111111111,
              "#46039f"
             ],
             [
              0.2222222222222222,
              "#7201a8"
             ],
             [
              0.3333333333333333,
              "#9c179e"
             ],
             [
              0.4444444444444444,
              "#bd3786"
             ],
             [
              0.5555555555555556,
              "#d8576b"
             ],
             [
              0.6666666666666666,
              "#ed7953"
             ],
             [
              0.7777777777777778,
              "#fb9f3a"
             ],
             [
              0.8888888888888888,
              "#fdca26"
             ],
             [
              1,
              "#f0f921"
             ]
            ],
            "type": "histogram2dcontour"
           }
          ],
          "mesh3d": [
           {
            "colorbar": {
             "outlinewidth": 0,
             "ticks": ""
            },
            "type": "mesh3d"
           }
          ],
          "parcoords": [
           {
            "line": {
             "colorbar": {
              "outlinewidth": 0,
              "ticks": ""
             }
            },
            "type": "parcoords"
           }
          ],
          "pie": [
           {
            "automargin": true,
            "type": "pie"
           }
          ],
          "scatter": [
           {
            "marker": {
             "colorbar": {
              "outlinewidth": 0,
              "ticks": ""
             }
            },
            "type": "scatter"
           }
          ],
          "scatter3d": [
           {
            "line": {
             "colorbar": {
              "outlinewidth": 0,
              "ticks": ""
             }
            },
            "marker": {
             "colorbar": {
              "outlinewidth": 0,
              "ticks": ""
             }
            },
            "type": "scatter3d"
           }
          ],
          "scattercarpet": [
           {
            "marker": {
             "colorbar": {
              "outlinewidth": 0,
              "ticks": ""
             }
            },
            "type": "scattercarpet"
           }
          ],
          "scattergeo": [
           {
            "marker": {
             "colorbar": {
              "outlinewidth": 0,
              "ticks": ""
             }
            },
            "type": "scattergeo"
           }
          ],
          "scattergl": [
           {
            "marker": {
             "colorbar": {
              "outlinewidth": 0,
              "ticks": ""
             }
            },
            "type": "scattergl"
           }
          ],
          "scattermapbox": [
           {
            "marker": {
             "colorbar": {
              "outlinewidth": 0,
              "ticks": ""
             }
            },
            "type": "scattermapbox"
           }
          ],
          "scatterpolar": [
           {
            "marker": {
             "colorbar": {
              "outlinewidth": 0,
              "ticks": ""
             }
            },
            "type": "scatterpolar"
           }
          ],
          "scatterpolargl": [
           {
            "marker": {
             "colorbar": {
              "outlinewidth": 0,
              "ticks": ""
             }
            },
            "type": "scatterpolargl"
           }
          ],
          "scatterternary": [
           {
            "marker": {
             "colorbar": {
              "outlinewidth": 0,
              "ticks": ""
             }
            },
            "type": "scatterternary"
           }
          ],
          "surface": [
           {
            "colorbar": {
             "outlinewidth": 0,
             "ticks": ""
            },
            "colorscale": [
             [
              0,
              "#0d0887"
             ],
             [
              0.1111111111111111,
              "#46039f"
             ],
             [
              0.2222222222222222,
              "#7201a8"
             ],
             [
              0.3333333333333333,
              "#9c179e"
             ],
             [
              0.4444444444444444,
              "#bd3786"
             ],
             [
              0.5555555555555556,
              "#d8576b"
             ],
             [
              0.6666666666666666,
              "#ed7953"
             ],
             [
              0.7777777777777778,
              "#fb9f3a"
             ],
             [
              0.8888888888888888,
              "#fdca26"
             ],
             [
              1,
              "#f0f921"
             ]
            ],
            "type": "surface"
           }
          ],
          "table": [
           {
            "cells": {
             "fill": {
              "color": "#EBF0F8"
             },
             "line": {
              "color": "white"
             }
            },
            "header": {
             "fill": {
              "color": "#C8D4E3"
             },
             "line": {
              "color": "white"
             }
            },
            "type": "table"
           }
          ]
         },
         "layout": {
          "annotationdefaults": {
           "arrowcolor": "#2a3f5f",
           "arrowhead": 0,
           "arrowwidth": 1
          },
          "coloraxis": {
           "colorbar": {
            "outlinewidth": 0,
            "ticks": ""
           }
          },
          "colorscale": {
           "diverging": [
            [
             0,
             "#8e0152"
            ],
            [
             0.1,
             "#c51b7d"
            ],
            [
             0.2,
             "#de77ae"
            ],
            [
             0.3,
             "#f1b6da"
            ],
            [
             0.4,
             "#fde0ef"
            ],
            [
             0.5,
             "#f7f7f7"
            ],
            [
             0.6,
             "#e6f5d0"
            ],
            [
             0.7,
             "#b8e186"
            ],
            [
             0.8,
             "#7fbc41"
            ],
            [
             0.9,
             "#4d9221"
            ],
            [
             1,
             "#276419"
            ]
           ],
           "sequential": [
            [
             0,
             "#0d0887"
            ],
            [
             0.1111111111111111,
             "#46039f"
            ],
            [
             0.2222222222222222,
             "#7201a8"
            ],
            [
             0.3333333333333333,
             "#9c179e"
            ],
            [
             0.4444444444444444,
             "#bd3786"
            ],
            [
             0.5555555555555556,
             "#d8576b"
            ],
            [
             0.6666666666666666,
             "#ed7953"
            ],
            [
             0.7777777777777778,
             "#fb9f3a"
            ],
            [
             0.8888888888888888,
             "#fdca26"
            ],
            [
             1,
             "#f0f921"
            ]
           ],
           "sequentialminus": [
            [
             0,
             "#0d0887"
            ],
            [
             0.1111111111111111,
             "#46039f"
            ],
            [
             0.2222222222222222,
             "#7201a8"
            ],
            [
             0.3333333333333333,
             "#9c179e"
            ],
            [
             0.4444444444444444,
             "#bd3786"
            ],
            [
             0.5555555555555556,
             "#d8576b"
            ],
            [
             0.6666666666666666,
             "#ed7953"
            ],
            [
             0.7777777777777778,
             "#fb9f3a"
            ],
            [
             0.8888888888888888,
             "#fdca26"
            ],
            [
             1,
             "#f0f921"
            ]
           ]
          },
          "colorway": [
           "#636efa",
           "#EF553B",
           "#00cc96",
           "#ab63fa",
           "#FFA15A",
           "#19d3f3",
           "#FF6692",
           "#B6E880",
           "#FF97FF",
           "#FECB52"
          ],
          "font": {
           "color": "#2a3f5f"
          },
          "geo": {
           "bgcolor": "white",
           "lakecolor": "white",
           "landcolor": "#E5ECF6",
           "showlakes": true,
           "showland": true,
           "subunitcolor": "white"
          },
          "hoverlabel": {
           "align": "left"
          },
          "hovermode": "closest",
          "mapbox": {
           "style": "light"
          },
          "paper_bgcolor": "white",
          "plot_bgcolor": "#E5ECF6",
          "polar": {
           "angularaxis": {
            "gridcolor": "white",
            "linecolor": "white",
            "ticks": ""
           },
           "bgcolor": "#E5ECF6",
           "radialaxis": {
            "gridcolor": "white",
            "linecolor": "white",
            "ticks": ""
           }
          },
          "scene": {
           "xaxis": {
            "backgroundcolor": "#E5ECF6",
            "gridcolor": "white",
            "gridwidth": 2,
            "linecolor": "white",
            "showbackground": true,
            "ticks": "",
            "zerolinecolor": "white"
           },
           "yaxis": {
            "backgroundcolor": "#E5ECF6",
            "gridcolor": "white",
            "gridwidth": 2,
            "linecolor": "white",
            "showbackground": true,
            "ticks": "",
            "zerolinecolor": "white"
           },
           "zaxis": {
            "backgroundcolor": "#E5ECF6",
            "gridcolor": "white",
            "gridwidth": 2,
            "linecolor": "white",
            "showbackground": true,
            "ticks": "",
            "zerolinecolor": "white"
           }
          },
          "shapedefaults": {
           "line": {
            "color": "#2a3f5f"
           }
          },
          "ternary": {
           "aaxis": {
            "gridcolor": "white",
            "linecolor": "white",
            "ticks": ""
           },
           "baxis": {
            "gridcolor": "white",
            "linecolor": "white",
            "ticks": ""
           },
           "bgcolor": "#E5ECF6",
           "caxis": {
            "gridcolor": "white",
            "linecolor": "white",
            "ticks": ""
           }
          },
          "title": {
           "x": 0.05
          },
          "xaxis": {
           "automargin": true,
           "gridcolor": "white",
           "linecolor": "white",
           "ticks": "",
           "title": {
            "standoff": 15
           },
           "zerolinecolor": "white",
           "zerolinewidth": 2
          },
          "yaxis": {
           "automargin": true,
           "gridcolor": "white",
           "linecolor": "white",
           "ticks": "",
           "title": {
            "standoff": 15
           },
           "zerolinecolor": "white",
           "zerolinewidth": 2
          }
         }
        },
        "title": {
         "font": {
          "color": "#4D5663"
         }
        },
        "xaxis": {
         "gridcolor": "#E1E5ED",
         "showgrid": true,
         "tickfont": {
          "color": "#4D5663"
         },
         "title": {
          "font": {
           "color": "#4D5663"
          },
          "text": ""
         },
         "zerolinecolor": "#E1E5ED"
        },
        "yaxis": {
         "gridcolor": "#E1E5ED",
         "showgrid": true,
         "tickfont": {
          "color": "#4D5663"
         },
         "title": {
          "font": {
           "color": "#4D5663"
          },
          "text": ""
         },
         "zerolinecolor": "#E1E5ED"
        }
       }
      },
      "text/html": [
       "<div>\n",
       "        \n",
       "        \n",
       "            <div id=\"c93880ad-cb74-47bb-9044-40a2bcf65eaa\" class=\"plotly-graph-div\" style=\"height:525px; width:100%;\"></div>\n",
       "            <script type=\"text/javascript\">\n",
       "                require([\"plotly\"], function(Plotly) {\n",
       "                    window.PLOTLYENV=window.PLOTLYENV || {};\n",
       "                    window.PLOTLYENV.BASE_URL='https://plot.ly';\n",
       "                    \n",
       "                if (document.getElementById(\"c93880ad-cb74-47bb-9044-40a2bcf65eaa\")) {\n",
       "                    Plotly.newPlot(\n",
       "                        'c93880ad-cb74-47bb-9044-40a2bcf65eaa',\n",
       "                        [{\"colorscale\": [[0.0, \"rgb(255, 153, 51)\"], [0.1111111111111111, \"rgb(55, 128, 191)\"], [0.2222222222222222, \"rgb(50, 171, 96)\"], [0.3333333333333333, \"rgb(128, 0, 128)\"], [0.4444444444444444, \"rgb(219, 64, 82)\"], [0.5555555555555556, \"rgb(0, 128, 128)\"], [0.6666666666666666, \"rgb(255, 255, 51)\"], [0.7777777777777778, \"rgb(128, 128, 0)\"], [0.8888888888888888, \"rgb(251, 128, 114)\"], [1.0, \"rgb(128, 177, 211)\"]], \"type\": \"surface\", \"x\": [0, 1, 2, 3, 4], \"y\": [\"x\", \"y\", \"z\"], \"z\": [[1, 2, 3, 4, 5], [10, 20, 30, 20, 10], [500, 400, 300, 200, 100]]}],\n",
       "                        {\"legend\": {\"bgcolor\": \"#F5F6F9\", \"font\": {\"color\": \"#4D5663\"}}, \"paper_bgcolor\": \"#F5F6F9\", \"plot_bgcolor\": \"#F5F6F9\", \"template\": {\"data\": {\"bar\": [{\"error_x\": {\"color\": \"#2a3f5f\"}, \"error_y\": {\"color\": \"#2a3f5f\"}, \"marker\": {\"line\": {\"color\": \"#E5ECF6\", \"width\": 0.5}}, \"type\": \"bar\"}], \"barpolar\": [{\"marker\": {\"line\": {\"color\": \"#E5ECF6\", \"width\": 0.5}}, \"type\": \"barpolar\"}], \"carpet\": [{\"aaxis\": {\"endlinecolor\": \"#2a3f5f\", \"gridcolor\": \"white\", \"linecolor\": \"white\", \"minorgridcolor\": \"white\", \"startlinecolor\": \"#2a3f5f\"}, \"baxis\": {\"endlinecolor\": \"#2a3f5f\", \"gridcolor\": \"white\", \"linecolor\": \"white\", \"minorgridcolor\": \"white\", \"startlinecolor\": \"#2a3f5f\"}, \"type\": \"carpet\"}], \"choropleth\": [{\"colorbar\": {\"outlinewidth\": 0, \"ticks\": \"\"}, \"type\": \"choropleth\"}], \"contour\": [{\"colorbar\": {\"outlinewidth\": 0, \"ticks\": \"\"}, \"colorscale\": [[0.0, \"#0d0887\"], [0.1111111111111111, \"#46039f\"], [0.2222222222222222, \"#7201a8\"], [0.3333333333333333, \"#9c179e\"], [0.4444444444444444, \"#bd3786\"], [0.5555555555555556, \"#d8576b\"], [0.6666666666666666, \"#ed7953\"], [0.7777777777777778, \"#fb9f3a\"], [0.8888888888888888, \"#fdca26\"], [1.0, \"#f0f921\"]], \"type\": \"contour\"}], \"contourcarpet\": [{\"colorbar\": {\"outlinewidth\": 0, \"ticks\": \"\"}, \"type\": \"contourcarpet\"}], \"heatmap\": [{\"colorbar\": {\"outlinewidth\": 0, \"ticks\": \"\"}, \"colorscale\": [[0.0, \"#0d0887\"], [0.1111111111111111, \"#46039f\"], [0.2222222222222222, \"#7201a8\"], [0.3333333333333333, \"#9c179e\"], [0.4444444444444444, \"#bd3786\"], [0.5555555555555556, \"#d8576b\"], [0.6666666666666666, \"#ed7953\"], [0.7777777777777778, \"#fb9f3a\"], [0.8888888888888888, \"#fdca26\"], [1.0, \"#f0f921\"]], \"type\": \"heatmap\"}], \"heatmapgl\": [{\"colorbar\": {\"outlinewidth\": 0, \"ticks\": \"\"}, \"colorscale\": [[0.0, \"#0d0887\"], [0.1111111111111111, \"#46039f\"], [0.2222222222222222, \"#7201a8\"], [0.3333333333333333, \"#9c179e\"], [0.4444444444444444, \"#bd3786\"], [0.5555555555555556, \"#d8576b\"], [0.6666666666666666, \"#ed7953\"], [0.7777777777777778, \"#fb9f3a\"], [0.8888888888888888, \"#fdca26\"], [1.0, \"#f0f921\"]], \"type\": \"heatmapgl\"}], \"histogram\": [{\"marker\": {\"colorbar\": {\"outlinewidth\": 0, \"ticks\": \"\"}}, \"type\": \"histogram\"}], \"histogram2d\": [{\"colorbar\": {\"outlinewidth\": 0, \"ticks\": \"\"}, \"colorscale\": [[0.0, \"#0d0887\"], [0.1111111111111111, \"#46039f\"], [0.2222222222222222, \"#7201a8\"], [0.3333333333333333, \"#9c179e\"], [0.4444444444444444, \"#bd3786\"], [0.5555555555555556, \"#d8576b\"], [0.6666666666666666, \"#ed7953\"], [0.7777777777777778, \"#fb9f3a\"], [0.8888888888888888, \"#fdca26\"], [1.0, \"#f0f921\"]], \"type\": \"histogram2d\"}], \"histogram2dcontour\": [{\"colorbar\": {\"outlinewidth\": 0, \"ticks\": \"\"}, \"colorscale\": [[0.0, \"#0d0887\"], [0.1111111111111111, \"#46039f\"], [0.2222222222222222, \"#7201a8\"], [0.3333333333333333, \"#9c179e\"], [0.4444444444444444, \"#bd3786\"], [0.5555555555555556, \"#d8576b\"], [0.6666666666666666, \"#ed7953\"], [0.7777777777777778, \"#fb9f3a\"], [0.8888888888888888, \"#fdca26\"], [1.0, \"#f0f921\"]], \"type\": \"histogram2dcontour\"}], \"mesh3d\": [{\"colorbar\": {\"outlinewidth\": 0, \"ticks\": \"\"}, \"type\": \"mesh3d\"}], \"parcoords\": [{\"line\": {\"colorbar\": {\"outlinewidth\": 0, \"ticks\": \"\"}}, \"type\": \"parcoords\"}], \"pie\": [{\"automargin\": true, \"type\": \"pie\"}], \"scatter\": [{\"marker\": {\"colorbar\": {\"outlinewidth\": 0, \"ticks\": \"\"}}, \"type\": \"scatter\"}], \"scatter3d\": [{\"line\": {\"colorbar\": {\"outlinewidth\": 0, \"ticks\": \"\"}}, \"marker\": {\"colorbar\": {\"outlinewidth\": 0, \"ticks\": \"\"}}, \"type\": \"scatter3d\"}], \"scattercarpet\": [{\"marker\": {\"colorbar\": {\"outlinewidth\": 0, \"ticks\": \"\"}}, \"type\": \"scattercarpet\"}], \"scattergeo\": [{\"marker\": {\"colorbar\": {\"outlinewidth\": 0, \"ticks\": \"\"}}, \"type\": \"scattergeo\"}], \"scattergl\": [{\"marker\": {\"colorbar\": {\"outlinewidth\": 0, \"ticks\": \"\"}}, \"type\": \"scattergl\"}], \"scattermapbox\": [{\"marker\": {\"colorbar\": {\"outlinewidth\": 0, \"ticks\": \"\"}}, \"type\": \"scattermapbox\"}], \"scatterpolar\": [{\"marker\": {\"colorbar\": {\"outlinewidth\": 0, \"ticks\": \"\"}}, \"type\": \"scatterpolar\"}], \"scatterpolargl\": [{\"marker\": {\"colorbar\": {\"outlinewidth\": 0, \"ticks\": \"\"}}, \"type\": \"scatterpolargl\"}], \"scatterternary\": [{\"marker\": {\"colorbar\": {\"outlinewidth\": 0, \"ticks\": \"\"}}, \"type\": \"scatterternary\"}], \"surface\": [{\"colorbar\": {\"outlinewidth\": 0, \"ticks\": \"\"}, \"colorscale\": [[0.0, \"#0d0887\"], [0.1111111111111111, \"#46039f\"], [0.2222222222222222, \"#7201a8\"], [0.3333333333333333, \"#9c179e\"], [0.4444444444444444, \"#bd3786\"], [0.5555555555555556, \"#d8576b\"], [0.6666666666666666, \"#ed7953\"], [0.7777777777777778, \"#fb9f3a\"], [0.8888888888888888, \"#fdca26\"], [1.0, \"#f0f921\"]], \"type\": \"surface\"}], \"table\": [{\"cells\": {\"fill\": {\"color\": \"#EBF0F8\"}, \"line\": {\"color\": \"white\"}}, \"header\": {\"fill\": {\"color\": \"#C8D4E3\"}, \"line\": {\"color\": \"white\"}}, \"type\": \"table\"}]}, \"layout\": {\"annotationdefaults\": {\"arrowcolor\": \"#2a3f5f\", \"arrowhead\": 0, \"arrowwidth\": 1}, \"coloraxis\": {\"colorbar\": {\"outlinewidth\": 0, \"ticks\": \"\"}}, \"colorscale\": {\"diverging\": [[0, \"#8e0152\"], [0.1, \"#c51b7d\"], [0.2, \"#de77ae\"], [0.3, \"#f1b6da\"], [0.4, \"#fde0ef\"], [0.5, \"#f7f7f7\"], [0.6, \"#e6f5d0\"], [0.7, \"#b8e186\"], [0.8, \"#7fbc41\"], [0.9, \"#4d9221\"], [1, \"#276419\"]], \"sequential\": [[0.0, \"#0d0887\"], [0.1111111111111111, \"#46039f\"], [0.2222222222222222, \"#7201a8\"], [0.3333333333333333, \"#9c179e\"], [0.4444444444444444, \"#bd3786\"], [0.5555555555555556, \"#d8576b\"], [0.6666666666666666, \"#ed7953\"], [0.7777777777777778, \"#fb9f3a\"], [0.8888888888888888, \"#fdca26\"], [1.0, \"#f0f921\"]], \"sequentialminus\": [[0.0, \"#0d0887\"], [0.1111111111111111, \"#46039f\"], [0.2222222222222222, \"#7201a8\"], [0.3333333333333333, \"#9c179e\"], [0.4444444444444444, \"#bd3786\"], [0.5555555555555556, \"#d8576b\"], [0.6666666666666666, \"#ed7953\"], [0.7777777777777778, \"#fb9f3a\"], [0.8888888888888888, \"#fdca26\"], [1.0, \"#f0f921\"]]}, \"colorway\": [\"#636efa\", \"#EF553B\", \"#00cc96\", \"#ab63fa\", \"#FFA15A\", \"#19d3f3\", \"#FF6692\", \"#B6E880\", \"#FF97FF\", \"#FECB52\"], \"font\": {\"color\": \"#2a3f5f\"}, \"geo\": {\"bgcolor\": \"white\", \"lakecolor\": \"white\", \"landcolor\": \"#E5ECF6\", \"showlakes\": true, \"showland\": true, \"subunitcolor\": \"white\"}, \"hoverlabel\": {\"align\": \"left\"}, \"hovermode\": \"closest\", \"mapbox\": {\"style\": \"light\"}, \"paper_bgcolor\": \"white\", \"plot_bgcolor\": \"#E5ECF6\", \"polar\": {\"angularaxis\": {\"gridcolor\": \"white\", \"linecolor\": \"white\", \"ticks\": \"\"}, \"bgcolor\": \"#E5ECF6\", \"radialaxis\": {\"gridcolor\": \"white\", \"linecolor\": \"white\", \"ticks\": \"\"}}, \"scene\": {\"xaxis\": {\"backgroundcolor\": \"#E5ECF6\", \"gridcolor\": \"white\", \"gridwidth\": 2, \"linecolor\": \"white\", \"showbackground\": true, \"ticks\": \"\", \"zerolinecolor\": \"white\"}, \"yaxis\": {\"backgroundcolor\": \"#E5ECF6\", \"gridcolor\": \"white\", \"gridwidth\": 2, \"linecolor\": \"white\", \"showbackground\": true, \"ticks\": \"\", \"zerolinecolor\": \"white\"}, \"zaxis\": {\"backgroundcolor\": \"#E5ECF6\", \"gridcolor\": \"white\", \"gridwidth\": 2, \"linecolor\": \"white\", \"showbackground\": true, \"ticks\": \"\", \"zerolinecolor\": \"white\"}}, \"shapedefaults\": {\"line\": {\"color\": \"#2a3f5f\"}}, \"ternary\": {\"aaxis\": {\"gridcolor\": \"white\", \"linecolor\": \"white\", \"ticks\": \"\"}, \"baxis\": {\"gridcolor\": \"white\", \"linecolor\": \"white\", \"ticks\": \"\"}, \"bgcolor\": \"#E5ECF6\", \"caxis\": {\"gridcolor\": \"white\", \"linecolor\": \"white\", \"ticks\": \"\"}}, \"title\": {\"x\": 0.05}, \"xaxis\": {\"automargin\": true, \"gridcolor\": \"white\", \"linecolor\": \"white\", \"ticks\": \"\", \"title\": {\"standoff\": 15}, \"zerolinecolor\": \"white\", \"zerolinewidth\": 2}, \"yaxis\": {\"automargin\": true, \"gridcolor\": \"white\", \"linecolor\": \"white\", \"ticks\": \"\", \"title\": {\"standoff\": 15}, \"zerolinecolor\": \"white\", \"zerolinewidth\": 2}}}, \"title\": {\"font\": {\"color\": \"#4D5663\"}}, \"xaxis\": {\"gridcolor\": \"#E1E5ED\", \"showgrid\": true, \"tickfont\": {\"color\": \"#4D5663\"}, \"title\": {\"font\": {\"color\": \"#4D5663\"}, \"text\": \"\"}, \"zerolinecolor\": \"#E1E5ED\"}, \"yaxis\": {\"gridcolor\": \"#E1E5ED\", \"showgrid\": true, \"tickfont\": {\"color\": \"#4D5663\"}, \"title\": {\"font\": {\"color\": \"#4D5663\"}, \"text\": \"\"}, \"zerolinecolor\": \"#E1E5ED\"}},\n",
       "                        {\"showLink\": true, \"linkText\": \"Export to plot.ly\", \"plotlyServerURL\": \"https://plot.ly\", \"responsive\": true}\n",
       "                    ).then(function(){\n",
       "                            \n",
       "var gd = document.getElementById('c93880ad-cb74-47bb-9044-40a2bcf65eaa');\n",
       "var x = new MutationObserver(function (mutations, observer) {{\n",
       "        var display = window.getComputedStyle(gd).display;\n",
       "        if (!display || display === 'none') {{\n",
       "            console.log([gd, 'removed!']);\n",
       "            Plotly.purge(gd);\n",
       "            observer.disconnect();\n",
       "        }}\n",
       "}});\n",
       "\n",
       "// Listen for the removal of the full notebook cells\n",
       "var notebookContainer = gd.closest('#notebook-container');\n",
       "if (notebookContainer) {{\n",
       "    x.observe(notebookContainer, {childList: true});\n",
       "}}\n",
       "\n",
       "// Listen for the clearing of the current output cell\n",
       "var outputEl = gd.closest('.output');\n",
       "if (outputEl) {{\n",
       "    x.observe(outputEl, {childList: true});\n",
       "}}\n",
       "\n",
       "                        })\n",
       "                };\n",
       "                });\n",
       "            </script>\n",
       "        </div>"
      ]
     },
     "metadata": {},
     "output_type": "display_data"
    }
   ],
   "source": [
    "df3.iplot(kind='surface')"
   ]
  },
  {
   "cell_type": "code",
   "execution_count": 45,
   "metadata": {},
   "outputs": [
    {
     "data": {
      "text/html": [
       "<div>\n",
       "<style scoped>\n",
       "    .dataframe tbody tr th:only-of-type {\n",
       "        vertical-align: middle;\n",
       "    }\n",
       "\n",
       "    .dataframe tbody tr th {\n",
       "        vertical-align: top;\n",
       "    }\n",
       "\n",
       "    .dataframe thead th {\n",
       "        text-align: right;\n",
       "    }\n",
       "</style>\n",
       "<table border=\"1\" class=\"dataframe\">\n",
       "  <thead>\n",
       "    <tr style=\"text-align: right;\">\n",
       "      <th></th>\n",
       "      <th>x</th>\n",
       "      <th>y</th>\n",
       "      <th>z</th>\n",
       "    </tr>\n",
       "  </thead>\n",
       "  <tbody>\n",
       "    <tr>\n",
       "      <th>0</th>\n",
       "      <td>1</td>\n",
       "      <td>10</td>\n",
       "      <td>5</td>\n",
       "    </tr>\n",
       "    <tr>\n",
       "      <th>1</th>\n",
       "      <td>2</td>\n",
       "      <td>20</td>\n",
       "      <td>4</td>\n",
       "    </tr>\n",
       "    <tr>\n",
       "      <th>2</th>\n",
       "      <td>3</td>\n",
       "      <td>30</td>\n",
       "      <td>3</td>\n",
       "    </tr>\n",
       "    <tr>\n",
       "      <th>3</th>\n",
       "      <td>4</td>\n",
       "      <td>20</td>\n",
       "      <td>2</td>\n",
       "    </tr>\n",
       "    <tr>\n",
       "      <th>4</th>\n",
       "      <td>5</td>\n",
       "      <td>10</td>\n",
       "      <td>1</td>\n",
       "    </tr>\n",
       "  </tbody>\n",
       "</table>\n",
       "</div>"
      ],
      "text/plain": [
       "   x   y  z\n",
       "0  1  10  5\n",
       "1  2  20  4\n",
       "2  3  30  3\n",
       "3  4  20  2\n",
       "4  5  10  1"
      ]
     },
     "execution_count": 45,
     "metadata": {},
     "output_type": "execute_result"
    }
   ],
   "source": [
    "df4 = pd.DataFrame({\"x\": [1,2,3,4,5], \"y\":[10,20,30,20,10],\n",
    "                    \"z\": [5,4,3,2,1]})\n",
    "df4"
   ]
  },
  {
   "cell_type": "code",
   "execution_count": 47,
   "metadata": {},
   "outputs": [
    {
     "data": {
      "application/vnd.plotly.v1+json": {
       "config": {
        "linkText": "Export to plot.ly",
        "plotlyServerURL": "https://plot.ly",
        "showLink": true
       },
       "data": [
        {
         "colorscale": [
          [
           0,
           "rgb(255, 153, 51)"
          ],
          [
           0.1111111111111111,
           "rgb(55, 128, 191)"
          ],
          [
           0.2222222222222222,
           "rgb(50, 171, 96)"
          ],
          [
           0.3333333333333333,
           "rgb(128, 0, 128)"
          ],
          [
           0.4444444444444444,
           "rgb(219, 64, 82)"
          ],
          [
           0.5555555555555556,
           "rgb(0, 128, 128)"
          ],
          [
           0.6666666666666666,
           "rgb(255, 255, 51)"
          ],
          [
           0.7777777777777778,
           "rgb(128, 128, 0)"
          ],
          [
           0.8888888888888888,
           "rgb(251, 128, 114)"
          ],
          [
           1,
           "rgb(128, 177, 211)"
          ]
         ],
         "type": "surface",
         "x": [
          0,
          1,
          2,
          3,
          4
         ],
         "y": [
          "x",
          "y",
          "z"
         ],
         "z": [
          [
           1,
           2,
           3,
           4,
           5
          ],
          [
           10,
           20,
           30,
           20,
           10
          ],
          [
           5,
           4,
           3,
           2,
           1
          ]
         ]
        }
       ],
       "layout": {
        "legend": {
         "bgcolor": "#F5F6F9",
         "font": {
          "color": "#4D5663"
         }
        },
        "paper_bgcolor": "#F5F6F9",
        "plot_bgcolor": "#F5F6F9",
        "template": {
         "data": {
          "bar": [
           {
            "error_x": {
             "color": "#2a3f5f"
            },
            "error_y": {
             "color": "#2a3f5f"
            },
            "marker": {
             "line": {
              "color": "#E5ECF6",
              "width": 0.5
             }
            },
            "type": "bar"
           }
          ],
          "barpolar": [
           {
            "marker": {
             "line": {
              "color": "#E5ECF6",
              "width": 0.5
             }
            },
            "type": "barpolar"
           }
          ],
          "carpet": [
           {
            "aaxis": {
             "endlinecolor": "#2a3f5f",
             "gridcolor": "white",
             "linecolor": "white",
             "minorgridcolor": "white",
             "startlinecolor": "#2a3f5f"
            },
            "baxis": {
             "endlinecolor": "#2a3f5f",
             "gridcolor": "white",
             "linecolor": "white",
             "minorgridcolor": "white",
             "startlinecolor": "#2a3f5f"
            },
            "type": "carpet"
           }
          ],
          "choropleth": [
           {
            "colorbar": {
             "outlinewidth": 0,
             "ticks": ""
            },
            "type": "choropleth"
           }
          ],
          "contour": [
           {
            "colorbar": {
             "outlinewidth": 0,
             "ticks": ""
            },
            "colorscale": [
             [
              0,
              "#0d0887"
             ],
             [
              0.1111111111111111,
              "#46039f"
             ],
             [
              0.2222222222222222,
              "#7201a8"
             ],
             [
              0.3333333333333333,
              "#9c179e"
             ],
             [
              0.4444444444444444,
              "#bd3786"
             ],
             [
              0.5555555555555556,
              "#d8576b"
             ],
             [
              0.6666666666666666,
              "#ed7953"
             ],
             [
              0.7777777777777778,
              "#fb9f3a"
             ],
             [
              0.8888888888888888,
              "#fdca26"
             ],
             [
              1,
              "#f0f921"
             ]
            ],
            "type": "contour"
           }
          ],
          "contourcarpet": [
           {
            "colorbar": {
             "outlinewidth": 0,
             "ticks": ""
            },
            "type": "contourcarpet"
           }
          ],
          "heatmap": [
           {
            "colorbar": {
             "outlinewidth": 0,
             "ticks": ""
            },
            "colorscale": [
             [
              0,
              "#0d0887"
             ],
             [
              0.1111111111111111,
              "#46039f"
             ],
             [
              0.2222222222222222,
              "#7201a8"
             ],
             [
              0.3333333333333333,
              "#9c179e"
             ],
             [
              0.4444444444444444,
              "#bd3786"
             ],
             [
              0.5555555555555556,
              "#d8576b"
             ],
             [
              0.6666666666666666,
              "#ed7953"
             ],
             [
              0.7777777777777778,
              "#fb9f3a"
             ],
             [
              0.8888888888888888,
              "#fdca26"
             ],
             [
              1,
              "#f0f921"
             ]
            ],
            "type": "heatmap"
           }
          ],
          "heatmapgl": [
           {
            "colorbar": {
             "outlinewidth": 0,
             "ticks": ""
            },
            "colorscale": [
             [
              0,
              "#0d0887"
             ],
             [
              0.1111111111111111,
              "#46039f"
             ],
             [
              0.2222222222222222,
              "#7201a8"
             ],
             [
              0.3333333333333333,
              "#9c179e"
             ],
             [
              0.4444444444444444,
              "#bd3786"
             ],
             [
              0.5555555555555556,
              "#d8576b"
             ],
             [
              0.6666666666666666,
              "#ed7953"
             ],
             [
              0.7777777777777778,
              "#fb9f3a"
             ],
             [
              0.8888888888888888,
              "#fdca26"
             ],
             [
              1,
              "#f0f921"
             ]
            ],
            "type": "heatmapgl"
           }
          ],
          "histogram": [
           {
            "marker": {
             "colorbar": {
              "outlinewidth": 0,
              "ticks": ""
             }
            },
            "type": "histogram"
           }
          ],
          "histogram2d": [
           {
            "colorbar": {
             "outlinewidth": 0,
             "ticks": ""
            },
            "colorscale": [
             [
              0,
              "#0d0887"
             ],
             [
              0.1111111111111111,
              "#46039f"
             ],
             [
              0.2222222222222222,
              "#7201a8"
             ],
             [
              0.3333333333333333,
              "#9c179e"
             ],
             [
              0.4444444444444444,
              "#bd3786"
             ],
             [
              0.5555555555555556,
              "#d8576b"
             ],
             [
              0.6666666666666666,
              "#ed7953"
             ],
             [
              0.7777777777777778,
              "#fb9f3a"
             ],
             [
              0.8888888888888888,
              "#fdca26"
             ],
             [
              1,
              "#f0f921"
             ]
            ],
            "type": "histogram2d"
           }
          ],
          "histogram2dcontour": [
           {
            "colorbar": {
             "outlinewidth": 0,
             "ticks": ""
            },
            "colorscale": [
             [
              0,
              "#0d0887"
             ],
             [
              0.1111111111111111,
              "#46039f"
             ],
             [
              0.2222222222222222,
              "#7201a8"
             ],
             [
              0.3333333333333333,
              "#9c179e"
             ],
             [
              0.4444444444444444,
              "#bd3786"
             ],
             [
              0.5555555555555556,
              "#d8576b"
             ],
             [
              0.6666666666666666,
              "#ed7953"
             ],
             [
              0.7777777777777778,
              "#fb9f3a"
             ],
             [
              0.8888888888888888,
              "#fdca26"
             ],
             [
              1,
              "#f0f921"
             ]
            ],
            "type": "histogram2dcontour"
           }
          ],
          "mesh3d": [
           {
            "colorbar": {
             "outlinewidth": 0,
             "ticks": ""
            },
            "type": "mesh3d"
           }
          ],
          "parcoords": [
           {
            "line": {
             "colorbar": {
              "outlinewidth": 0,
              "ticks": ""
             }
            },
            "type": "parcoords"
           }
          ],
          "pie": [
           {
            "automargin": true,
            "type": "pie"
           }
          ],
          "scatter": [
           {
            "marker": {
             "colorbar": {
              "outlinewidth": 0,
              "ticks": ""
             }
            },
            "type": "scatter"
           }
          ],
          "scatter3d": [
           {
            "line": {
             "colorbar": {
              "outlinewidth": 0,
              "ticks": ""
             }
            },
            "marker": {
             "colorbar": {
              "outlinewidth": 0,
              "ticks": ""
             }
            },
            "type": "scatter3d"
           }
          ],
          "scattercarpet": [
           {
            "marker": {
             "colorbar": {
              "outlinewidth": 0,
              "ticks": ""
             }
            },
            "type": "scattercarpet"
           }
          ],
          "scattergeo": [
           {
            "marker": {
             "colorbar": {
              "outlinewidth": 0,
              "ticks": ""
             }
            },
            "type": "scattergeo"
           }
          ],
          "scattergl": [
           {
            "marker": {
             "colorbar": {
              "outlinewidth": 0,
              "ticks": ""
             }
            },
            "type": "scattergl"
           }
          ],
          "scattermapbox": [
           {
            "marker": {
             "colorbar": {
              "outlinewidth": 0,
              "ticks": ""
             }
            },
            "type": "scattermapbox"
           }
          ],
          "scatterpolar": [
           {
            "marker": {
             "colorbar": {
              "outlinewidth": 0,
              "ticks": ""
             }
            },
            "type": "scatterpolar"
           }
          ],
          "scatterpolargl": [
           {
            "marker": {
             "colorbar": {
              "outlinewidth": 0,
              "ticks": ""
             }
            },
            "type": "scatterpolargl"
           }
          ],
          "scatterternary": [
           {
            "marker": {
             "colorbar": {
              "outlinewidth": 0,
              "ticks": ""
             }
            },
            "type": "scatterternary"
           }
          ],
          "surface": [
           {
            "colorbar": {
             "outlinewidth": 0,
             "ticks": ""
            },
            "colorscale": [
             [
              0,
              "#0d0887"
             ],
             [
              0.1111111111111111,
              "#46039f"
             ],
             [
              0.2222222222222222,
              "#7201a8"
             ],
             [
              0.3333333333333333,
              "#9c179e"
             ],
             [
              0.4444444444444444,
              "#bd3786"
             ],
             [
              0.5555555555555556,
              "#d8576b"
             ],
             [
              0.6666666666666666,
              "#ed7953"
             ],
             [
              0.7777777777777778,
              "#fb9f3a"
             ],
             [
              0.8888888888888888,
              "#fdca26"
             ],
             [
              1,
              "#f0f921"
             ]
            ],
            "type": "surface"
           }
          ],
          "table": [
           {
            "cells": {
             "fill": {
              "color": "#EBF0F8"
             },
             "line": {
              "color": "white"
             }
            },
            "header": {
             "fill": {
              "color": "#C8D4E3"
             },
             "line": {
              "color": "white"
             }
            },
            "type": "table"
           }
          ]
         },
         "layout": {
          "annotationdefaults": {
           "arrowcolor": "#2a3f5f",
           "arrowhead": 0,
           "arrowwidth": 1
          },
          "coloraxis": {
           "colorbar": {
            "outlinewidth": 0,
            "ticks": ""
           }
          },
          "colorscale": {
           "diverging": [
            [
             0,
             "#8e0152"
            ],
            [
             0.1,
             "#c51b7d"
            ],
            [
             0.2,
             "#de77ae"
            ],
            [
             0.3,
             "#f1b6da"
            ],
            [
             0.4,
             "#fde0ef"
            ],
            [
             0.5,
             "#f7f7f7"
            ],
            [
             0.6,
             "#e6f5d0"
            ],
            [
             0.7,
             "#b8e186"
            ],
            [
             0.8,
             "#7fbc41"
            ],
            [
             0.9,
             "#4d9221"
            ],
            [
             1,
             "#276419"
            ]
           ],
           "sequential": [
            [
             0,
             "#0d0887"
            ],
            [
             0.1111111111111111,
             "#46039f"
            ],
            [
             0.2222222222222222,
             "#7201a8"
            ],
            [
             0.3333333333333333,
             "#9c179e"
            ],
            [
             0.4444444444444444,
             "#bd3786"
            ],
            [
             0.5555555555555556,
             "#d8576b"
            ],
            [
             0.6666666666666666,
             "#ed7953"
            ],
            [
             0.7777777777777778,
             "#fb9f3a"
            ],
            [
             0.8888888888888888,
             "#fdca26"
            ],
            [
             1,
             "#f0f921"
            ]
           ],
           "sequentialminus": [
            [
             0,
             "#0d0887"
            ],
            [
             0.1111111111111111,
             "#46039f"
            ],
            [
             0.2222222222222222,
             "#7201a8"
            ],
            [
             0.3333333333333333,
             "#9c179e"
            ],
            [
             0.4444444444444444,
             "#bd3786"
            ],
            [
             0.5555555555555556,
             "#d8576b"
            ],
            [
             0.6666666666666666,
             "#ed7953"
            ],
            [
             0.7777777777777778,
             "#fb9f3a"
            ],
            [
             0.8888888888888888,
             "#fdca26"
            ],
            [
             1,
             "#f0f921"
            ]
           ]
          },
          "colorway": [
           "#636efa",
           "#EF553B",
           "#00cc96",
           "#ab63fa",
           "#FFA15A",
           "#19d3f3",
           "#FF6692",
           "#B6E880",
           "#FF97FF",
           "#FECB52"
          ],
          "font": {
           "color": "#2a3f5f"
          },
          "geo": {
           "bgcolor": "white",
           "lakecolor": "white",
           "landcolor": "#E5ECF6",
           "showlakes": true,
           "showland": true,
           "subunitcolor": "white"
          },
          "hoverlabel": {
           "align": "left"
          },
          "hovermode": "closest",
          "mapbox": {
           "style": "light"
          },
          "paper_bgcolor": "white",
          "plot_bgcolor": "#E5ECF6",
          "polar": {
           "angularaxis": {
            "gridcolor": "white",
            "linecolor": "white",
            "ticks": ""
           },
           "bgcolor": "#E5ECF6",
           "radialaxis": {
            "gridcolor": "white",
            "linecolor": "white",
            "ticks": ""
           }
          },
          "scene": {
           "xaxis": {
            "backgroundcolor": "#E5ECF6",
            "gridcolor": "white",
            "gridwidth": 2,
            "linecolor": "white",
            "showbackground": true,
            "ticks": "",
            "zerolinecolor": "white"
           },
           "yaxis": {
            "backgroundcolor": "#E5ECF6",
            "gridcolor": "white",
            "gridwidth": 2,
            "linecolor": "white",
            "showbackground": true,
            "ticks": "",
            "zerolinecolor": "white"
           },
           "zaxis": {
            "backgroundcolor": "#E5ECF6",
            "gridcolor": "white",
            "gridwidth": 2,
            "linecolor": "white",
            "showbackground": true,
            "ticks": "",
            "zerolinecolor": "white"
           }
          },
          "shapedefaults": {
           "line": {
            "color": "#2a3f5f"
           }
          },
          "ternary": {
           "aaxis": {
            "gridcolor": "white",
            "linecolor": "white",
            "ticks": ""
           },
           "baxis": {
            "gridcolor": "white",
            "linecolor": "white",
            "ticks": ""
           },
           "bgcolor": "#E5ECF6",
           "caxis": {
            "gridcolor": "white",
            "linecolor": "white",
            "ticks": ""
           }
          },
          "title": {
           "x": 0.05
          },
          "xaxis": {
           "automargin": true,
           "gridcolor": "white",
           "linecolor": "white",
           "ticks": "",
           "title": {
            "standoff": 15
           },
           "zerolinecolor": "white",
           "zerolinewidth": 2
          },
          "yaxis": {
           "automargin": true,
           "gridcolor": "white",
           "linecolor": "white",
           "ticks": "",
           "title": {
            "standoff": 15
           },
           "zerolinecolor": "white",
           "zerolinewidth": 2
          }
         }
        },
        "title": {
         "font": {
          "color": "#4D5663"
         }
        },
        "xaxis": {
         "gridcolor": "#E1E5ED",
         "showgrid": true,
         "tickfont": {
          "color": "#4D5663"
         },
         "title": {
          "font": {
           "color": "#4D5663"
          },
          "text": ""
         },
         "zerolinecolor": "#E1E5ED"
        },
        "yaxis": {
         "gridcolor": "#E1E5ED",
         "showgrid": true,
         "tickfont": {
          "color": "#4D5663"
         },
         "title": {
          "font": {
           "color": "#4D5663"
          },
          "text": ""
         },
         "zerolinecolor": "#E1E5ED"
        }
       }
      },
      "text/html": [
       "<div>\n",
       "        \n",
       "        \n",
       "            <div id=\"6acd4522-7784-4c32-b712-e0376dc6f366\" class=\"plotly-graph-div\" style=\"height:525px; width:100%;\"></div>\n",
       "            <script type=\"text/javascript\">\n",
       "                require([\"plotly\"], function(Plotly) {\n",
       "                    window.PLOTLYENV=window.PLOTLYENV || {};\n",
       "                    window.PLOTLYENV.BASE_URL='https://plot.ly';\n",
       "                    \n",
       "                if (document.getElementById(\"6acd4522-7784-4c32-b712-e0376dc6f366\")) {\n",
       "                    Plotly.newPlot(\n",
       "                        '6acd4522-7784-4c32-b712-e0376dc6f366',\n",
       "                        [{\"colorscale\": [[0.0, \"rgb(255, 153, 51)\"], [0.1111111111111111, \"rgb(55, 128, 191)\"], [0.2222222222222222, \"rgb(50, 171, 96)\"], [0.3333333333333333, \"rgb(128, 0, 128)\"], [0.4444444444444444, \"rgb(219, 64, 82)\"], [0.5555555555555556, \"rgb(0, 128, 128)\"], [0.6666666666666666, \"rgb(255, 255, 51)\"], [0.7777777777777778, \"rgb(128, 128, 0)\"], [0.8888888888888888, \"rgb(251, 128, 114)\"], [1.0, \"rgb(128, 177, 211)\"]], \"type\": \"surface\", \"x\": [0, 1, 2, 3, 4], \"y\": [\"x\", \"y\", \"z\"], \"z\": [[1, 2, 3, 4, 5], [10, 20, 30, 20, 10], [5, 4, 3, 2, 1]]}],\n",
       "                        {\"legend\": {\"bgcolor\": \"#F5F6F9\", \"font\": {\"color\": \"#4D5663\"}}, \"paper_bgcolor\": \"#F5F6F9\", \"plot_bgcolor\": \"#F5F6F9\", \"template\": {\"data\": {\"bar\": [{\"error_x\": {\"color\": \"#2a3f5f\"}, \"error_y\": {\"color\": \"#2a3f5f\"}, \"marker\": {\"line\": {\"color\": \"#E5ECF6\", \"width\": 0.5}}, \"type\": \"bar\"}], \"barpolar\": [{\"marker\": {\"line\": {\"color\": \"#E5ECF6\", \"width\": 0.5}}, \"type\": \"barpolar\"}], \"carpet\": [{\"aaxis\": {\"endlinecolor\": \"#2a3f5f\", \"gridcolor\": \"white\", \"linecolor\": \"white\", \"minorgridcolor\": \"white\", \"startlinecolor\": \"#2a3f5f\"}, \"baxis\": {\"endlinecolor\": \"#2a3f5f\", \"gridcolor\": \"white\", \"linecolor\": \"white\", \"minorgridcolor\": \"white\", \"startlinecolor\": \"#2a3f5f\"}, \"type\": \"carpet\"}], \"choropleth\": [{\"colorbar\": {\"outlinewidth\": 0, \"ticks\": \"\"}, \"type\": \"choropleth\"}], \"contour\": [{\"colorbar\": {\"outlinewidth\": 0, \"ticks\": \"\"}, \"colorscale\": [[0.0, \"#0d0887\"], [0.1111111111111111, \"#46039f\"], [0.2222222222222222, \"#7201a8\"], [0.3333333333333333, \"#9c179e\"], [0.4444444444444444, \"#bd3786\"], [0.5555555555555556, \"#d8576b\"], [0.6666666666666666, \"#ed7953\"], [0.7777777777777778, \"#fb9f3a\"], [0.8888888888888888, \"#fdca26\"], [1.0, \"#f0f921\"]], \"type\": \"contour\"}], \"contourcarpet\": [{\"colorbar\": {\"outlinewidth\": 0, \"ticks\": \"\"}, \"type\": \"contourcarpet\"}], \"heatmap\": [{\"colorbar\": {\"outlinewidth\": 0, \"ticks\": \"\"}, \"colorscale\": [[0.0, \"#0d0887\"], [0.1111111111111111, \"#46039f\"], [0.2222222222222222, \"#7201a8\"], [0.3333333333333333, \"#9c179e\"], [0.4444444444444444, \"#bd3786\"], [0.5555555555555556, \"#d8576b\"], [0.6666666666666666, \"#ed7953\"], [0.7777777777777778, \"#fb9f3a\"], [0.8888888888888888, \"#fdca26\"], [1.0, \"#f0f921\"]], \"type\": \"heatmap\"}], \"heatmapgl\": [{\"colorbar\": {\"outlinewidth\": 0, \"ticks\": \"\"}, \"colorscale\": [[0.0, \"#0d0887\"], [0.1111111111111111, \"#46039f\"], [0.2222222222222222, \"#7201a8\"], [0.3333333333333333, \"#9c179e\"], [0.4444444444444444, \"#bd3786\"], [0.5555555555555556, \"#d8576b\"], [0.6666666666666666, \"#ed7953\"], [0.7777777777777778, \"#fb9f3a\"], [0.8888888888888888, \"#fdca26\"], [1.0, \"#f0f921\"]], \"type\": \"heatmapgl\"}], \"histogram\": [{\"marker\": {\"colorbar\": {\"outlinewidth\": 0, \"ticks\": \"\"}}, \"type\": \"histogram\"}], \"histogram2d\": [{\"colorbar\": {\"outlinewidth\": 0, \"ticks\": \"\"}, \"colorscale\": [[0.0, \"#0d0887\"], [0.1111111111111111, \"#46039f\"], [0.2222222222222222, \"#7201a8\"], [0.3333333333333333, \"#9c179e\"], [0.4444444444444444, \"#bd3786\"], [0.5555555555555556, \"#d8576b\"], [0.6666666666666666, \"#ed7953\"], [0.7777777777777778, \"#fb9f3a\"], [0.8888888888888888, \"#fdca26\"], [1.0, \"#f0f921\"]], \"type\": \"histogram2d\"}], \"histogram2dcontour\": [{\"colorbar\": {\"outlinewidth\": 0, \"ticks\": \"\"}, \"colorscale\": [[0.0, \"#0d0887\"], [0.1111111111111111, \"#46039f\"], [0.2222222222222222, \"#7201a8\"], [0.3333333333333333, \"#9c179e\"], [0.4444444444444444, \"#bd3786\"], [0.5555555555555556, \"#d8576b\"], [0.6666666666666666, \"#ed7953\"], [0.7777777777777778, \"#fb9f3a\"], [0.8888888888888888, \"#fdca26\"], [1.0, \"#f0f921\"]], \"type\": \"histogram2dcontour\"}], \"mesh3d\": [{\"colorbar\": {\"outlinewidth\": 0, \"ticks\": \"\"}, \"type\": \"mesh3d\"}], \"parcoords\": [{\"line\": {\"colorbar\": {\"outlinewidth\": 0, \"ticks\": \"\"}}, \"type\": \"parcoords\"}], \"pie\": [{\"automargin\": true, \"type\": \"pie\"}], \"scatter\": [{\"marker\": {\"colorbar\": {\"outlinewidth\": 0, \"ticks\": \"\"}}, \"type\": \"scatter\"}], \"scatter3d\": [{\"line\": {\"colorbar\": {\"outlinewidth\": 0, \"ticks\": \"\"}}, \"marker\": {\"colorbar\": {\"outlinewidth\": 0, \"ticks\": \"\"}}, \"type\": \"scatter3d\"}], \"scattercarpet\": [{\"marker\": {\"colorbar\": {\"outlinewidth\": 0, \"ticks\": \"\"}}, \"type\": \"scattercarpet\"}], \"scattergeo\": [{\"marker\": {\"colorbar\": {\"outlinewidth\": 0, \"ticks\": \"\"}}, \"type\": \"scattergeo\"}], \"scattergl\": [{\"marker\": {\"colorbar\": {\"outlinewidth\": 0, \"ticks\": \"\"}}, \"type\": \"scattergl\"}], \"scattermapbox\": [{\"marker\": {\"colorbar\": {\"outlinewidth\": 0, \"ticks\": \"\"}}, \"type\": \"scattermapbox\"}], \"scatterpolar\": [{\"marker\": {\"colorbar\": {\"outlinewidth\": 0, \"ticks\": \"\"}}, \"type\": \"scatterpolar\"}], \"scatterpolargl\": [{\"marker\": {\"colorbar\": {\"outlinewidth\": 0, \"ticks\": \"\"}}, \"type\": \"scatterpolargl\"}], \"scatterternary\": [{\"marker\": {\"colorbar\": {\"outlinewidth\": 0, \"ticks\": \"\"}}, \"type\": \"scatterternary\"}], \"surface\": [{\"colorbar\": {\"outlinewidth\": 0, \"ticks\": \"\"}, \"colorscale\": [[0.0, \"#0d0887\"], [0.1111111111111111, \"#46039f\"], [0.2222222222222222, \"#7201a8\"], [0.3333333333333333, \"#9c179e\"], [0.4444444444444444, \"#bd3786\"], [0.5555555555555556, \"#d8576b\"], [0.6666666666666666, \"#ed7953\"], [0.7777777777777778, \"#fb9f3a\"], [0.8888888888888888, \"#fdca26\"], [1.0, \"#f0f921\"]], \"type\": \"surface\"}], \"table\": [{\"cells\": {\"fill\": {\"color\": \"#EBF0F8\"}, \"line\": {\"color\": \"white\"}}, \"header\": {\"fill\": {\"color\": \"#C8D4E3\"}, \"line\": {\"color\": \"white\"}}, \"type\": \"table\"}]}, \"layout\": {\"annotationdefaults\": {\"arrowcolor\": \"#2a3f5f\", \"arrowhead\": 0, \"arrowwidth\": 1}, \"coloraxis\": {\"colorbar\": {\"outlinewidth\": 0, \"ticks\": \"\"}}, \"colorscale\": {\"diverging\": [[0, \"#8e0152\"], [0.1, \"#c51b7d\"], [0.2, \"#de77ae\"], [0.3, \"#f1b6da\"], [0.4, \"#fde0ef\"], [0.5, \"#f7f7f7\"], [0.6, \"#e6f5d0\"], [0.7, \"#b8e186\"], [0.8, \"#7fbc41\"], [0.9, \"#4d9221\"], [1, \"#276419\"]], \"sequential\": [[0.0, \"#0d0887\"], [0.1111111111111111, \"#46039f\"], [0.2222222222222222, \"#7201a8\"], [0.3333333333333333, \"#9c179e\"], [0.4444444444444444, \"#bd3786\"], [0.5555555555555556, \"#d8576b\"], [0.6666666666666666, \"#ed7953\"], [0.7777777777777778, \"#fb9f3a\"], [0.8888888888888888, \"#fdca26\"], [1.0, \"#f0f921\"]], \"sequentialminus\": [[0.0, \"#0d0887\"], [0.1111111111111111, \"#46039f\"], [0.2222222222222222, \"#7201a8\"], [0.3333333333333333, \"#9c179e\"], [0.4444444444444444, \"#bd3786\"], [0.5555555555555556, \"#d8576b\"], [0.6666666666666666, \"#ed7953\"], [0.7777777777777778, \"#fb9f3a\"], [0.8888888888888888, \"#fdca26\"], [1.0, \"#f0f921\"]]}, \"colorway\": [\"#636efa\", \"#EF553B\", \"#00cc96\", \"#ab63fa\", \"#FFA15A\", \"#19d3f3\", \"#FF6692\", \"#B6E880\", \"#FF97FF\", \"#FECB52\"], \"font\": {\"color\": \"#2a3f5f\"}, \"geo\": {\"bgcolor\": \"white\", \"lakecolor\": \"white\", \"landcolor\": \"#E5ECF6\", \"showlakes\": true, \"showland\": true, \"subunitcolor\": \"white\"}, \"hoverlabel\": {\"align\": \"left\"}, \"hovermode\": \"closest\", \"mapbox\": {\"style\": \"light\"}, \"paper_bgcolor\": \"white\", \"plot_bgcolor\": \"#E5ECF6\", \"polar\": {\"angularaxis\": {\"gridcolor\": \"white\", \"linecolor\": \"white\", \"ticks\": \"\"}, \"bgcolor\": \"#E5ECF6\", \"radialaxis\": {\"gridcolor\": \"white\", \"linecolor\": \"white\", \"ticks\": \"\"}}, \"scene\": {\"xaxis\": {\"backgroundcolor\": \"#E5ECF6\", \"gridcolor\": \"white\", \"gridwidth\": 2, \"linecolor\": \"white\", \"showbackground\": true, \"ticks\": \"\", \"zerolinecolor\": \"white\"}, \"yaxis\": {\"backgroundcolor\": \"#E5ECF6\", \"gridcolor\": \"white\", \"gridwidth\": 2, \"linecolor\": \"white\", \"showbackground\": true, \"ticks\": \"\", \"zerolinecolor\": \"white\"}, \"zaxis\": {\"backgroundcolor\": \"#E5ECF6\", \"gridcolor\": \"white\", \"gridwidth\": 2, \"linecolor\": \"white\", \"showbackground\": true, \"ticks\": \"\", \"zerolinecolor\": \"white\"}}, \"shapedefaults\": {\"line\": {\"color\": \"#2a3f5f\"}}, \"ternary\": {\"aaxis\": {\"gridcolor\": \"white\", \"linecolor\": \"white\", \"ticks\": \"\"}, \"baxis\": {\"gridcolor\": \"white\", \"linecolor\": \"white\", \"ticks\": \"\"}, \"bgcolor\": \"#E5ECF6\", \"caxis\": {\"gridcolor\": \"white\", \"linecolor\": \"white\", \"ticks\": \"\"}}, \"title\": {\"x\": 0.05}, \"xaxis\": {\"automargin\": true, \"gridcolor\": \"white\", \"linecolor\": \"white\", \"ticks\": \"\", \"title\": {\"standoff\": 15}, \"zerolinecolor\": \"white\", \"zerolinewidth\": 2}, \"yaxis\": {\"automargin\": true, \"gridcolor\": \"white\", \"linecolor\": \"white\", \"ticks\": \"\", \"title\": {\"standoff\": 15}, \"zerolinecolor\": \"white\", \"zerolinewidth\": 2}}}, \"title\": {\"font\": {\"color\": \"#4D5663\"}}, \"xaxis\": {\"gridcolor\": \"#E1E5ED\", \"showgrid\": true, \"tickfont\": {\"color\": \"#4D5663\"}, \"title\": {\"font\": {\"color\": \"#4D5663\"}, \"text\": \"\"}, \"zerolinecolor\": \"#E1E5ED\"}, \"yaxis\": {\"gridcolor\": \"#E1E5ED\", \"showgrid\": true, \"tickfont\": {\"color\": \"#4D5663\"}, \"title\": {\"font\": {\"color\": \"#4D5663\"}, \"text\": \"\"}, \"zerolinecolor\": \"#E1E5ED\"}},\n",
       "                        {\"showLink\": true, \"linkText\": \"Export to plot.ly\", \"plotlyServerURL\": \"https://plot.ly\", \"responsive\": true}\n",
       "                    ).then(function(){\n",
       "                            \n",
       "var gd = document.getElementById('6acd4522-7784-4c32-b712-e0376dc6f366');\n",
       "var x = new MutationObserver(function (mutations, observer) {{\n",
       "        var display = window.getComputedStyle(gd).display;\n",
       "        if (!display || display === 'none') {{\n",
       "            console.log([gd, 'removed!']);\n",
       "            Plotly.purge(gd);\n",
       "            observer.disconnect();\n",
       "        }}\n",
       "}});\n",
       "\n",
       "// Listen for the removal of the full notebook cells\n",
       "var notebookContainer = gd.closest('#notebook-container');\n",
       "if (notebookContainer) {{\n",
       "    x.observe(notebookContainer, {childList: true});\n",
       "}}\n",
       "\n",
       "// Listen for the clearing of the current output cell\n",
       "var outputEl = gd.closest('.output');\n",
       "if (outputEl) {{\n",
       "    x.observe(outputEl, {childList: true});\n",
       "}}\n",
       "\n",
       "                        })\n",
       "                };\n",
       "                });\n",
       "            </script>\n",
       "        </div>"
      ]
     },
     "metadata": {},
     "output_type": "display_data"
    }
   ],
   "source": [
    "df4.iplot(kind = 'surface')"
   ]
  },
  {
   "cell_type": "code",
   "execution_count": 48,
   "metadata": {},
   "outputs": [
    {
     "data": {
      "application/vnd.plotly.v1+json": {
       "config": {
        "linkText": "Export to plot.ly",
        "plotlyServerURL": "https://plot.ly",
        "showLink": true
       },
       "data": [
        {
         "histfunc": "count",
         "histnorm": "",
         "marker": {
          "color": "rgba(255, 153, 51, 1.0)",
          "line": {
           "color": "#4D5663",
           "width": 1.3
          }
         },
         "name": "A",
         "nbinsx": 50,
         "opacity": 0.8,
         "orientation": "v",
         "type": "histogram",
         "x": [
          1.204374223794343,
          -0.36906833924077637,
          -0.8122413394730359,
          1.3997697154739082,
          -1.060788107444831,
          0.5515735422646244,
          0.14061940746164717,
          0.16983560391476102,
          -0.5570859045323824,
          1.401481283250656,
          -0.22735734650862433,
          -0.2708226895595077,
          -0.061950652045331865,
          -0.23938387027733657,
          1.108929431106888,
          1.5885217800040747,
          -0.23559972372649096,
          -0.8063452712749882,
          0.13813159002450978,
          -0.6380738291099499,
          -1.3331534209046985,
          -0.1297105180803108,
          -0.10188136335052575,
          -0.30361318214471156,
          0.16497636748164915,
          2.183144065787738,
          -0.7843797606187034,
          -0.7395470414853026,
          -0.527746573443475,
          1.1734247890807368,
          -0.4277744368396613,
          1.586083786095986,
          -0.5946807669553307,
          1.1091000750587032,
          -2.2431426226953897,
          1.0511348504249087,
          -1.7084854938366552,
          0.3848496070527757,
          0.02319587782161051,
          -1.5614243800488814,
          -0.49612500584776853,
          0.36651695375891874,
          -1.9325653893667134,
          -0.009736954747299615,
          0.5770681622022307,
          -1.798736202311587,
          -1.4731317977982321,
          0.9207786842892908,
          -1.4109451145958787,
          1.474614654368594,
          -1.151126450220308,
          1.0959490386459758,
          0.7132001708734125,
          1.5389324759551382,
          -0.3437764307427175,
          -0.1398678689458212,
          -0.5692961334275359,
          -0.3876239117207527,
          2.1646360720109534,
          -0.8575609675505435,
          -0.12246755380214738,
          -0.35793397267560856,
          0.6760702797677335,
          0.6859757866029638,
          1.2172949175056056,
          3.0190435916527885,
          -0.49318883868647506,
          -1.4621624134879483,
          -0.018015512803250384,
          1.0663682852882106,
          0.6097999035722868,
          0.8061363870535981,
          -0.9775765064326202,
          1.9186469222357772,
          -1.3863509250475359,
          -1.729431686804565,
          -0.18184271399933602,
          -0.18613439383574115,
          0.5857466322063433,
          -0.34237696433466347,
          0.3571290493876967,
          0.006789251745769943,
          -3.2125921573829657,
          -0.5584989724527796,
          -0.3753882921486149,
          0.4722926040135994,
          -2.363150670854163,
          -0.6542164839532234,
          0.032211397087431724,
          -1.138463704994325,
          0.16231793129177194,
          0.4166899662658287,
          -0.18051501338281437,
          -0.15668668070654856,
          0.0848144483366338,
          0.6315939404556832,
          0.49811604910354135,
          0.9187915032050765,
          -0.45235784878744706,
          -0.18836177542466803
         ]
        }
       ],
       "layout": {
        "barmode": "overlay",
        "legend": {
         "bgcolor": "#F5F6F9",
         "font": {
          "color": "#4D5663"
         }
        },
        "paper_bgcolor": "#F5F6F9",
        "plot_bgcolor": "#F5F6F9",
        "template": {
         "data": {
          "bar": [
           {
            "error_x": {
             "color": "#2a3f5f"
            },
            "error_y": {
             "color": "#2a3f5f"
            },
            "marker": {
             "line": {
              "color": "#E5ECF6",
              "width": 0.5
             }
            },
            "type": "bar"
           }
          ],
          "barpolar": [
           {
            "marker": {
             "line": {
              "color": "#E5ECF6",
              "width": 0.5
             }
            },
            "type": "barpolar"
           }
          ],
          "carpet": [
           {
            "aaxis": {
             "endlinecolor": "#2a3f5f",
             "gridcolor": "white",
             "linecolor": "white",
             "minorgridcolor": "white",
             "startlinecolor": "#2a3f5f"
            },
            "baxis": {
             "endlinecolor": "#2a3f5f",
             "gridcolor": "white",
             "linecolor": "white",
             "minorgridcolor": "white",
             "startlinecolor": "#2a3f5f"
            },
            "type": "carpet"
           }
          ],
          "choropleth": [
           {
            "colorbar": {
             "outlinewidth": 0,
             "ticks": ""
            },
            "type": "choropleth"
           }
          ],
          "contour": [
           {
            "colorbar": {
             "outlinewidth": 0,
             "ticks": ""
            },
            "colorscale": [
             [
              0,
              "#0d0887"
             ],
             [
              0.1111111111111111,
              "#46039f"
             ],
             [
              0.2222222222222222,
              "#7201a8"
             ],
             [
              0.3333333333333333,
              "#9c179e"
             ],
             [
              0.4444444444444444,
              "#bd3786"
             ],
             [
              0.5555555555555556,
              "#d8576b"
             ],
             [
              0.6666666666666666,
              "#ed7953"
             ],
             [
              0.7777777777777778,
              "#fb9f3a"
             ],
             [
              0.8888888888888888,
              "#fdca26"
             ],
             [
              1,
              "#f0f921"
             ]
            ],
            "type": "contour"
           }
          ],
          "contourcarpet": [
           {
            "colorbar": {
             "outlinewidth": 0,
             "ticks": ""
            },
            "type": "contourcarpet"
           }
          ],
          "heatmap": [
           {
            "colorbar": {
             "outlinewidth": 0,
             "ticks": ""
            },
            "colorscale": [
             [
              0,
              "#0d0887"
             ],
             [
              0.1111111111111111,
              "#46039f"
             ],
             [
              0.2222222222222222,
              "#7201a8"
             ],
             [
              0.3333333333333333,
              "#9c179e"
             ],
             [
              0.4444444444444444,
              "#bd3786"
             ],
             [
              0.5555555555555556,
              "#d8576b"
             ],
             [
              0.6666666666666666,
              "#ed7953"
             ],
             [
              0.7777777777777778,
              "#fb9f3a"
             ],
             [
              0.8888888888888888,
              "#fdca26"
             ],
             [
              1,
              "#f0f921"
             ]
            ],
            "type": "heatmap"
           }
          ],
          "heatmapgl": [
           {
            "colorbar": {
             "outlinewidth": 0,
             "ticks": ""
            },
            "colorscale": [
             [
              0,
              "#0d0887"
             ],
             [
              0.1111111111111111,
              "#46039f"
             ],
             [
              0.2222222222222222,
              "#7201a8"
             ],
             [
              0.3333333333333333,
              "#9c179e"
             ],
             [
              0.4444444444444444,
              "#bd3786"
             ],
             [
              0.5555555555555556,
              "#d8576b"
             ],
             [
              0.6666666666666666,
              "#ed7953"
             ],
             [
              0.7777777777777778,
              "#fb9f3a"
             ],
             [
              0.8888888888888888,
              "#fdca26"
             ],
             [
              1,
              "#f0f921"
             ]
            ],
            "type": "heatmapgl"
           }
          ],
          "histogram": [
           {
            "marker": {
             "colorbar": {
              "outlinewidth": 0,
              "ticks": ""
             }
            },
            "type": "histogram"
           }
          ],
          "histogram2d": [
           {
            "colorbar": {
             "outlinewidth": 0,
             "ticks": ""
            },
            "colorscale": [
             [
              0,
              "#0d0887"
             ],
             [
              0.1111111111111111,
              "#46039f"
             ],
             [
              0.2222222222222222,
              "#7201a8"
             ],
             [
              0.3333333333333333,
              "#9c179e"
             ],
             [
              0.4444444444444444,
              "#bd3786"
             ],
             [
              0.5555555555555556,
              "#d8576b"
             ],
             [
              0.6666666666666666,
              "#ed7953"
             ],
             [
              0.7777777777777778,
              "#fb9f3a"
             ],
             [
              0.8888888888888888,
              "#fdca26"
             ],
             [
              1,
              "#f0f921"
             ]
            ],
            "type": "histogram2d"
           }
          ],
          "histogram2dcontour": [
           {
            "colorbar": {
             "outlinewidth": 0,
             "ticks": ""
            },
            "colorscale": [
             [
              0,
              "#0d0887"
             ],
             [
              0.1111111111111111,
              "#46039f"
             ],
             [
              0.2222222222222222,
              "#7201a8"
             ],
             [
              0.3333333333333333,
              "#9c179e"
             ],
             [
              0.4444444444444444,
              "#bd3786"
             ],
             [
              0.5555555555555556,
              "#d8576b"
             ],
             [
              0.6666666666666666,
              "#ed7953"
             ],
             [
              0.7777777777777778,
              "#fb9f3a"
             ],
             [
              0.8888888888888888,
              "#fdca26"
             ],
             [
              1,
              "#f0f921"
             ]
            ],
            "type": "histogram2dcontour"
           }
          ],
          "mesh3d": [
           {
            "colorbar": {
             "outlinewidth": 0,
             "ticks": ""
            },
            "type": "mesh3d"
           }
          ],
          "parcoords": [
           {
            "line": {
             "colorbar": {
              "outlinewidth": 0,
              "ticks": ""
             }
            },
            "type": "parcoords"
           }
          ],
          "pie": [
           {
            "automargin": true,
            "type": "pie"
           }
          ],
          "scatter": [
           {
            "marker": {
             "colorbar": {
              "outlinewidth": 0,
              "ticks": ""
             }
            },
            "type": "scatter"
           }
          ],
          "scatter3d": [
           {
            "line": {
             "colorbar": {
              "outlinewidth": 0,
              "ticks": ""
             }
            },
            "marker": {
             "colorbar": {
              "outlinewidth": 0,
              "ticks": ""
             }
            },
            "type": "scatter3d"
           }
          ],
          "scattercarpet": [
           {
            "marker": {
             "colorbar": {
              "outlinewidth": 0,
              "ticks": ""
             }
            },
            "type": "scattercarpet"
           }
          ],
          "scattergeo": [
           {
            "marker": {
             "colorbar": {
              "outlinewidth": 0,
              "ticks": ""
             }
            },
            "type": "scattergeo"
           }
          ],
          "scattergl": [
           {
            "marker": {
             "colorbar": {
              "outlinewidth": 0,
              "ticks": ""
             }
            },
            "type": "scattergl"
           }
          ],
          "scattermapbox": [
           {
            "marker": {
             "colorbar": {
              "outlinewidth": 0,
              "ticks": ""
             }
            },
            "type": "scattermapbox"
           }
          ],
          "scatterpolar": [
           {
            "marker": {
             "colorbar": {
              "outlinewidth": 0,
              "ticks": ""
             }
            },
            "type": "scatterpolar"
           }
          ],
          "scatterpolargl": [
           {
            "marker": {
             "colorbar": {
              "outlinewidth": 0,
              "ticks": ""
             }
            },
            "type": "scatterpolargl"
           }
          ],
          "scatterternary": [
           {
            "marker": {
             "colorbar": {
              "outlinewidth": 0,
              "ticks": ""
             }
            },
            "type": "scatterternary"
           }
          ],
          "surface": [
           {
            "colorbar": {
             "outlinewidth": 0,
             "ticks": ""
            },
            "colorscale": [
             [
              0,
              "#0d0887"
             ],
             [
              0.1111111111111111,
              "#46039f"
             ],
             [
              0.2222222222222222,
              "#7201a8"
             ],
             [
              0.3333333333333333,
              "#9c179e"
             ],
             [
              0.4444444444444444,
              "#bd3786"
             ],
             [
              0.5555555555555556,
              "#d8576b"
             ],
             [
              0.6666666666666666,
              "#ed7953"
             ],
             [
              0.7777777777777778,
              "#fb9f3a"
             ],
             [
              0.8888888888888888,
              "#fdca26"
             ],
             [
              1,
              "#f0f921"
             ]
            ],
            "type": "surface"
           }
          ],
          "table": [
           {
            "cells": {
             "fill": {
              "color": "#EBF0F8"
             },
             "line": {
              "color": "white"
             }
            },
            "header": {
             "fill": {
              "color": "#C8D4E3"
             },
             "line": {
              "color": "white"
             }
            },
            "type": "table"
           }
          ]
         },
         "layout": {
          "annotationdefaults": {
           "arrowcolor": "#2a3f5f",
           "arrowhead": 0,
           "arrowwidth": 1
          },
          "coloraxis": {
           "colorbar": {
            "outlinewidth": 0,
            "ticks": ""
           }
          },
          "colorscale": {
           "diverging": [
            [
             0,
             "#8e0152"
            ],
            [
             0.1,
             "#c51b7d"
            ],
            [
             0.2,
             "#de77ae"
            ],
            [
             0.3,
             "#f1b6da"
            ],
            [
             0.4,
             "#fde0ef"
            ],
            [
             0.5,
             "#f7f7f7"
            ],
            [
             0.6,
             "#e6f5d0"
            ],
            [
             0.7,
             "#b8e186"
            ],
            [
             0.8,
             "#7fbc41"
            ],
            [
             0.9,
             "#4d9221"
            ],
            [
             1,
             "#276419"
            ]
           ],
           "sequential": [
            [
             0,
             "#0d0887"
            ],
            [
             0.1111111111111111,
             "#46039f"
            ],
            [
             0.2222222222222222,
             "#7201a8"
            ],
            [
             0.3333333333333333,
             "#9c179e"
            ],
            [
             0.4444444444444444,
             "#bd3786"
            ],
            [
             0.5555555555555556,
             "#d8576b"
            ],
            [
             0.6666666666666666,
             "#ed7953"
            ],
            [
             0.7777777777777778,
             "#fb9f3a"
            ],
            [
             0.8888888888888888,
             "#fdca26"
            ],
            [
             1,
             "#f0f921"
            ]
           ],
           "sequentialminus": [
            [
             0,
             "#0d0887"
            ],
            [
             0.1111111111111111,
             "#46039f"
            ],
            [
             0.2222222222222222,
             "#7201a8"
            ],
            [
             0.3333333333333333,
             "#9c179e"
            ],
            [
             0.4444444444444444,
             "#bd3786"
            ],
            [
             0.5555555555555556,
             "#d8576b"
            ],
            [
             0.6666666666666666,
             "#ed7953"
            ],
            [
             0.7777777777777778,
             "#fb9f3a"
            ],
            [
             0.8888888888888888,
             "#fdca26"
            ],
            [
             1,
             "#f0f921"
            ]
           ]
          },
          "colorway": [
           "#636efa",
           "#EF553B",
           "#00cc96",
           "#ab63fa",
           "#FFA15A",
           "#19d3f3",
           "#FF6692",
           "#B6E880",
           "#FF97FF",
           "#FECB52"
          ],
          "font": {
           "color": "#2a3f5f"
          },
          "geo": {
           "bgcolor": "white",
           "lakecolor": "white",
           "landcolor": "#E5ECF6",
           "showlakes": true,
           "showland": true,
           "subunitcolor": "white"
          },
          "hoverlabel": {
           "align": "left"
          },
          "hovermode": "closest",
          "mapbox": {
           "style": "light"
          },
          "paper_bgcolor": "white",
          "plot_bgcolor": "#E5ECF6",
          "polar": {
           "angularaxis": {
            "gridcolor": "white",
            "linecolor": "white",
            "ticks": ""
           },
           "bgcolor": "#E5ECF6",
           "radialaxis": {
            "gridcolor": "white",
            "linecolor": "white",
            "ticks": ""
           }
          },
          "scene": {
           "xaxis": {
            "backgroundcolor": "#E5ECF6",
            "gridcolor": "white",
            "gridwidth": 2,
            "linecolor": "white",
            "showbackground": true,
            "ticks": "",
            "zerolinecolor": "white"
           },
           "yaxis": {
            "backgroundcolor": "#E5ECF6",
            "gridcolor": "white",
            "gridwidth": 2,
            "linecolor": "white",
            "showbackground": true,
            "ticks": "",
            "zerolinecolor": "white"
           },
           "zaxis": {
            "backgroundcolor": "#E5ECF6",
            "gridcolor": "white",
            "gridwidth": 2,
            "linecolor": "white",
            "showbackground": true,
            "ticks": "",
            "zerolinecolor": "white"
           }
          },
          "shapedefaults": {
           "line": {
            "color": "#2a3f5f"
           }
          },
          "ternary": {
           "aaxis": {
            "gridcolor": "white",
            "linecolor": "white",
            "ticks": ""
           },
           "baxis": {
            "gridcolor": "white",
            "linecolor": "white",
            "ticks": ""
           },
           "bgcolor": "#E5ECF6",
           "caxis": {
            "gridcolor": "white",
            "linecolor": "white",
            "ticks": ""
           }
          },
          "title": {
           "x": 0.05
          },
          "xaxis": {
           "automargin": true,
           "gridcolor": "white",
           "linecolor": "white",
           "ticks": "",
           "title": {
            "standoff": 15
           },
           "zerolinecolor": "white",
           "zerolinewidth": 2
          },
          "yaxis": {
           "automargin": true,
           "gridcolor": "white",
           "linecolor": "white",
           "ticks": "",
           "title": {
            "standoff": 15
           },
           "zerolinecolor": "white",
           "zerolinewidth": 2
          }
         }
        },
        "title": {
         "font": {
          "color": "#4D5663"
         }
        },
        "xaxis": {
         "gridcolor": "#E1E5ED",
         "showgrid": true,
         "tickfont": {
          "color": "#4D5663"
         },
         "title": {
          "font": {
           "color": "#4D5663"
          },
          "text": ""
         },
         "zerolinecolor": "#E1E5ED"
        },
        "yaxis": {
         "gridcolor": "#E1E5ED",
         "showgrid": true,
         "tickfont": {
          "color": "#4D5663"
         },
         "title": {
          "font": {
           "color": "#4D5663"
          },
          "text": ""
         },
         "zerolinecolor": "#E1E5ED"
        }
       }
      },
      "text/html": [
       "<div>\n",
       "        \n",
       "        \n",
       "            <div id=\"253aa3c9-4835-4d71-8ed4-8eef63dd0f92\" class=\"plotly-graph-div\" style=\"height:525px; width:100%;\"></div>\n",
       "            <script type=\"text/javascript\">\n",
       "                require([\"plotly\"], function(Plotly) {\n",
       "                    window.PLOTLYENV=window.PLOTLYENV || {};\n",
       "                    window.PLOTLYENV.BASE_URL='https://plot.ly';\n",
       "                    \n",
       "                if (document.getElementById(\"253aa3c9-4835-4d71-8ed4-8eef63dd0f92\")) {\n",
       "                    Plotly.newPlot(\n",
       "                        '253aa3c9-4835-4d71-8ed4-8eef63dd0f92',\n",
       "                        [{\"histfunc\": \"count\", \"histnorm\": \"\", \"marker\": {\"color\": \"rgba(255, 153, 51, 1.0)\", \"line\": {\"color\": \"#4D5663\", \"width\": 1.3}}, \"name\": \"A\", \"nbinsx\": 50, \"opacity\": 0.8, \"orientation\": \"v\", \"type\": \"histogram\", \"x\": [1.204374223794343, -0.36906833924077637, -0.8122413394730359, 1.3997697154739082, -1.060788107444831, 0.5515735422646244, 0.14061940746164717, 0.16983560391476102, -0.5570859045323824, 1.401481283250656, -0.22735734650862433, -0.2708226895595077, -0.061950652045331865, -0.23938387027733657, 1.108929431106888, 1.5885217800040747, -0.23559972372649096, -0.8063452712749882, 0.13813159002450978, -0.6380738291099499, -1.3331534209046985, -0.1297105180803108, -0.10188136335052575, -0.30361318214471156, 0.16497636748164915, 2.183144065787738, -0.7843797606187034, -0.7395470414853026, -0.527746573443475, 1.1734247890807368, -0.4277744368396613, 1.586083786095986, -0.5946807669553307, 1.1091000750587032, -2.2431426226953897, 1.0511348504249087, -1.7084854938366552, 0.3848496070527757, 0.02319587782161051, -1.5614243800488814, -0.49612500584776853, 0.36651695375891874, -1.9325653893667134, -0.009736954747299615, 0.5770681622022307, -1.798736202311587, -1.4731317977982321, 0.9207786842892908, -1.4109451145958787, 1.474614654368594, -1.151126450220308, 1.0959490386459758, 0.7132001708734125, 1.5389324759551382, -0.3437764307427175, -0.1398678689458212, -0.5692961334275359, -0.3876239117207527, 2.1646360720109534, -0.8575609675505435, -0.12246755380214738, -0.35793397267560856, 0.6760702797677335, 0.6859757866029638, 1.2172949175056056, 3.0190435916527885, -0.49318883868647506, -1.4621624134879483, -0.018015512803250384, 1.0663682852882106, 0.6097999035722868, 0.8061363870535981, -0.9775765064326202, 1.9186469222357772, -1.3863509250475359, -1.729431686804565, -0.18184271399933602, -0.18613439383574115, 0.5857466322063433, -0.34237696433466347, 0.3571290493876967, 0.006789251745769943, -3.2125921573829657, -0.5584989724527796, -0.3753882921486149, 0.4722926040135994, -2.363150670854163, -0.6542164839532234, 0.032211397087431724, -1.138463704994325, 0.16231793129177194, 0.4166899662658287, -0.18051501338281437, -0.15668668070654856, 0.0848144483366338, 0.6315939404556832, 0.49811604910354135, 0.9187915032050765, -0.45235784878744706, -0.18836177542466803]}],\n",
       "                        {\"barmode\": \"overlay\", \"legend\": {\"bgcolor\": \"#F5F6F9\", \"font\": {\"color\": \"#4D5663\"}}, \"paper_bgcolor\": \"#F5F6F9\", \"plot_bgcolor\": \"#F5F6F9\", \"template\": {\"data\": {\"bar\": [{\"error_x\": {\"color\": \"#2a3f5f\"}, \"error_y\": {\"color\": \"#2a3f5f\"}, \"marker\": {\"line\": {\"color\": \"#E5ECF6\", \"width\": 0.5}}, \"type\": \"bar\"}], \"barpolar\": [{\"marker\": {\"line\": {\"color\": \"#E5ECF6\", \"width\": 0.5}}, \"type\": \"barpolar\"}], \"carpet\": [{\"aaxis\": {\"endlinecolor\": \"#2a3f5f\", \"gridcolor\": \"white\", \"linecolor\": \"white\", \"minorgridcolor\": \"white\", \"startlinecolor\": \"#2a3f5f\"}, \"baxis\": {\"endlinecolor\": \"#2a3f5f\", \"gridcolor\": \"white\", \"linecolor\": \"white\", \"minorgridcolor\": \"white\", \"startlinecolor\": \"#2a3f5f\"}, \"type\": \"carpet\"}], \"choropleth\": [{\"colorbar\": {\"outlinewidth\": 0, \"ticks\": \"\"}, \"type\": \"choropleth\"}], \"contour\": [{\"colorbar\": {\"outlinewidth\": 0, \"ticks\": \"\"}, \"colorscale\": [[0.0, \"#0d0887\"], [0.1111111111111111, \"#46039f\"], [0.2222222222222222, \"#7201a8\"], [0.3333333333333333, \"#9c179e\"], [0.4444444444444444, \"#bd3786\"], [0.5555555555555556, \"#d8576b\"], [0.6666666666666666, \"#ed7953\"], [0.7777777777777778, \"#fb9f3a\"], [0.8888888888888888, \"#fdca26\"], [1.0, \"#f0f921\"]], \"type\": \"contour\"}], \"contourcarpet\": [{\"colorbar\": {\"outlinewidth\": 0, \"ticks\": \"\"}, \"type\": \"contourcarpet\"}], \"heatmap\": [{\"colorbar\": {\"outlinewidth\": 0, \"ticks\": \"\"}, \"colorscale\": [[0.0, \"#0d0887\"], [0.1111111111111111, \"#46039f\"], [0.2222222222222222, \"#7201a8\"], [0.3333333333333333, \"#9c179e\"], [0.4444444444444444, \"#bd3786\"], [0.5555555555555556, \"#d8576b\"], [0.6666666666666666, \"#ed7953\"], [0.7777777777777778, \"#fb9f3a\"], [0.8888888888888888, \"#fdca26\"], [1.0, \"#f0f921\"]], \"type\": \"heatmap\"}], \"heatmapgl\": [{\"colorbar\": {\"outlinewidth\": 0, \"ticks\": \"\"}, \"colorscale\": [[0.0, \"#0d0887\"], [0.1111111111111111, \"#46039f\"], [0.2222222222222222, \"#7201a8\"], [0.3333333333333333, \"#9c179e\"], [0.4444444444444444, \"#bd3786\"], [0.5555555555555556, \"#d8576b\"], [0.6666666666666666, \"#ed7953\"], [0.7777777777777778, \"#fb9f3a\"], [0.8888888888888888, \"#fdca26\"], [1.0, \"#f0f921\"]], \"type\": \"heatmapgl\"}], \"histogram\": [{\"marker\": {\"colorbar\": {\"outlinewidth\": 0, \"ticks\": \"\"}}, \"type\": \"histogram\"}], \"histogram2d\": [{\"colorbar\": {\"outlinewidth\": 0, \"ticks\": \"\"}, \"colorscale\": [[0.0, \"#0d0887\"], [0.1111111111111111, \"#46039f\"], [0.2222222222222222, \"#7201a8\"], [0.3333333333333333, \"#9c179e\"], [0.4444444444444444, \"#bd3786\"], [0.5555555555555556, \"#d8576b\"], [0.6666666666666666, \"#ed7953\"], [0.7777777777777778, \"#fb9f3a\"], [0.8888888888888888, \"#fdca26\"], [1.0, \"#f0f921\"]], \"type\": \"histogram2d\"}], \"histogram2dcontour\": [{\"colorbar\": {\"outlinewidth\": 0, \"ticks\": \"\"}, \"colorscale\": [[0.0, \"#0d0887\"], [0.1111111111111111, \"#46039f\"], [0.2222222222222222, \"#7201a8\"], [0.3333333333333333, \"#9c179e\"], [0.4444444444444444, \"#bd3786\"], [0.5555555555555556, \"#d8576b\"], [0.6666666666666666, \"#ed7953\"], [0.7777777777777778, \"#fb9f3a\"], [0.8888888888888888, \"#fdca26\"], [1.0, \"#f0f921\"]], \"type\": \"histogram2dcontour\"}], \"mesh3d\": [{\"colorbar\": {\"outlinewidth\": 0, \"ticks\": \"\"}, \"type\": \"mesh3d\"}], \"parcoords\": [{\"line\": {\"colorbar\": {\"outlinewidth\": 0, \"ticks\": \"\"}}, \"type\": \"parcoords\"}], \"pie\": [{\"automargin\": true, \"type\": \"pie\"}], \"scatter\": [{\"marker\": {\"colorbar\": {\"outlinewidth\": 0, \"ticks\": \"\"}}, \"type\": \"scatter\"}], \"scatter3d\": [{\"line\": {\"colorbar\": {\"outlinewidth\": 0, \"ticks\": \"\"}}, \"marker\": {\"colorbar\": {\"outlinewidth\": 0, \"ticks\": \"\"}}, \"type\": \"scatter3d\"}], \"scattercarpet\": [{\"marker\": {\"colorbar\": {\"outlinewidth\": 0, \"ticks\": \"\"}}, \"type\": \"scattercarpet\"}], \"scattergeo\": [{\"marker\": {\"colorbar\": {\"outlinewidth\": 0, \"ticks\": \"\"}}, \"type\": \"scattergeo\"}], \"scattergl\": [{\"marker\": {\"colorbar\": {\"outlinewidth\": 0, \"ticks\": \"\"}}, \"type\": \"scattergl\"}], \"scattermapbox\": [{\"marker\": {\"colorbar\": {\"outlinewidth\": 0, \"ticks\": \"\"}}, \"type\": \"scattermapbox\"}], \"scatterpolar\": [{\"marker\": {\"colorbar\": {\"outlinewidth\": 0, \"ticks\": \"\"}}, \"type\": \"scatterpolar\"}], \"scatterpolargl\": [{\"marker\": {\"colorbar\": {\"outlinewidth\": 0, \"ticks\": \"\"}}, \"type\": \"scatterpolargl\"}], \"scatterternary\": [{\"marker\": {\"colorbar\": {\"outlinewidth\": 0, \"ticks\": \"\"}}, \"type\": \"scatterternary\"}], \"surface\": [{\"colorbar\": {\"outlinewidth\": 0, \"ticks\": \"\"}, \"colorscale\": [[0.0, \"#0d0887\"], [0.1111111111111111, \"#46039f\"], [0.2222222222222222, \"#7201a8\"], [0.3333333333333333, \"#9c179e\"], [0.4444444444444444, \"#bd3786\"], [0.5555555555555556, \"#d8576b\"], [0.6666666666666666, \"#ed7953\"], [0.7777777777777778, \"#fb9f3a\"], [0.8888888888888888, \"#fdca26\"], [1.0, \"#f0f921\"]], \"type\": \"surface\"}], \"table\": [{\"cells\": {\"fill\": {\"color\": \"#EBF0F8\"}, \"line\": {\"color\": \"white\"}}, \"header\": {\"fill\": {\"color\": \"#C8D4E3\"}, \"line\": {\"color\": \"white\"}}, \"type\": \"table\"}]}, \"layout\": {\"annotationdefaults\": {\"arrowcolor\": \"#2a3f5f\", \"arrowhead\": 0, \"arrowwidth\": 1}, \"coloraxis\": {\"colorbar\": {\"outlinewidth\": 0, \"ticks\": \"\"}}, \"colorscale\": {\"diverging\": [[0, \"#8e0152\"], [0.1, \"#c51b7d\"], [0.2, \"#de77ae\"], [0.3, \"#f1b6da\"], [0.4, \"#fde0ef\"], [0.5, \"#f7f7f7\"], [0.6, \"#e6f5d0\"], [0.7, \"#b8e186\"], [0.8, \"#7fbc41\"], [0.9, \"#4d9221\"], [1, \"#276419\"]], \"sequential\": [[0.0, \"#0d0887\"], [0.1111111111111111, \"#46039f\"], [0.2222222222222222, \"#7201a8\"], [0.3333333333333333, \"#9c179e\"], [0.4444444444444444, \"#bd3786\"], [0.5555555555555556, \"#d8576b\"], [0.6666666666666666, \"#ed7953\"], [0.7777777777777778, \"#fb9f3a\"], [0.8888888888888888, \"#fdca26\"], [1.0, \"#f0f921\"]], \"sequentialminus\": [[0.0, \"#0d0887\"], [0.1111111111111111, \"#46039f\"], [0.2222222222222222, \"#7201a8\"], [0.3333333333333333, \"#9c179e\"], [0.4444444444444444, \"#bd3786\"], [0.5555555555555556, \"#d8576b\"], [0.6666666666666666, \"#ed7953\"], [0.7777777777777778, \"#fb9f3a\"], [0.8888888888888888, \"#fdca26\"], [1.0, \"#f0f921\"]]}, \"colorway\": [\"#636efa\", \"#EF553B\", \"#00cc96\", \"#ab63fa\", \"#FFA15A\", \"#19d3f3\", \"#FF6692\", \"#B6E880\", \"#FF97FF\", \"#FECB52\"], \"font\": {\"color\": \"#2a3f5f\"}, \"geo\": {\"bgcolor\": \"white\", \"lakecolor\": \"white\", \"landcolor\": \"#E5ECF6\", \"showlakes\": true, \"showland\": true, \"subunitcolor\": \"white\"}, \"hoverlabel\": {\"align\": \"left\"}, \"hovermode\": \"closest\", \"mapbox\": {\"style\": \"light\"}, \"paper_bgcolor\": \"white\", \"plot_bgcolor\": \"#E5ECF6\", \"polar\": {\"angularaxis\": {\"gridcolor\": \"white\", \"linecolor\": \"white\", \"ticks\": \"\"}, \"bgcolor\": \"#E5ECF6\", \"radialaxis\": {\"gridcolor\": \"white\", \"linecolor\": \"white\", \"ticks\": \"\"}}, \"scene\": {\"xaxis\": {\"backgroundcolor\": \"#E5ECF6\", \"gridcolor\": \"white\", \"gridwidth\": 2, \"linecolor\": \"white\", \"showbackground\": true, \"ticks\": \"\", \"zerolinecolor\": \"white\"}, \"yaxis\": {\"backgroundcolor\": \"#E5ECF6\", \"gridcolor\": \"white\", \"gridwidth\": 2, \"linecolor\": \"white\", \"showbackground\": true, \"ticks\": \"\", \"zerolinecolor\": \"white\"}, \"zaxis\": {\"backgroundcolor\": \"#E5ECF6\", \"gridcolor\": \"white\", \"gridwidth\": 2, \"linecolor\": \"white\", \"showbackground\": true, \"ticks\": \"\", \"zerolinecolor\": \"white\"}}, \"shapedefaults\": {\"line\": {\"color\": \"#2a3f5f\"}}, \"ternary\": {\"aaxis\": {\"gridcolor\": \"white\", \"linecolor\": \"white\", \"ticks\": \"\"}, \"baxis\": {\"gridcolor\": \"white\", \"linecolor\": \"white\", \"ticks\": \"\"}, \"bgcolor\": \"#E5ECF6\", \"caxis\": {\"gridcolor\": \"white\", \"linecolor\": \"white\", \"ticks\": \"\"}}, \"title\": {\"x\": 0.05}, \"xaxis\": {\"automargin\": true, \"gridcolor\": \"white\", \"linecolor\": \"white\", \"ticks\": \"\", \"title\": {\"standoff\": 15}, \"zerolinecolor\": \"white\", \"zerolinewidth\": 2}, \"yaxis\": {\"automargin\": true, \"gridcolor\": \"white\", \"linecolor\": \"white\", \"ticks\": \"\", \"title\": {\"standoff\": 15}, \"zerolinecolor\": \"white\", \"zerolinewidth\": 2}}}, \"title\": {\"font\": {\"color\": \"#4D5663\"}}, \"xaxis\": {\"gridcolor\": \"#E1E5ED\", \"showgrid\": true, \"tickfont\": {\"color\": \"#4D5663\"}, \"title\": {\"font\": {\"color\": \"#4D5663\"}, \"text\": \"\"}, \"zerolinecolor\": \"#E1E5ED\"}, \"yaxis\": {\"gridcolor\": \"#E1E5ED\", \"showgrid\": true, \"tickfont\": {\"color\": \"#4D5663\"}, \"title\": {\"font\": {\"color\": \"#4D5663\"}, \"text\": \"\"}, \"zerolinecolor\": \"#E1E5ED\"}},\n",
       "                        {\"showLink\": true, \"linkText\": \"Export to plot.ly\", \"plotlyServerURL\": \"https://plot.ly\", \"responsive\": true}\n",
       "                    ).then(function(){\n",
       "                            \n",
       "var gd = document.getElementById('253aa3c9-4835-4d71-8ed4-8eef63dd0f92');\n",
       "var x = new MutationObserver(function (mutations, observer) {{\n",
       "        var display = window.getComputedStyle(gd).display;\n",
       "        if (!display || display === 'none') {{\n",
       "            console.log([gd, 'removed!']);\n",
       "            Plotly.purge(gd);\n",
       "            observer.disconnect();\n",
       "        }}\n",
       "}});\n",
       "\n",
       "// Listen for the removal of the full notebook cells\n",
       "var notebookContainer = gd.closest('#notebook-container');\n",
       "if (notebookContainer) {{\n",
       "    x.observe(notebookContainer, {childList: true});\n",
       "}}\n",
       "\n",
       "// Listen for the clearing of the current output cell\n",
       "var outputEl = gd.closest('.output');\n",
       "if (outputEl) {{\n",
       "    x.observe(outputEl, {childList: true});\n",
       "}}\n",
       "\n",
       "                        })\n",
       "                };\n",
       "                });\n",
       "            </script>\n",
       "        </div>"
      ]
     },
     "metadata": {},
     "output_type": "display_data"
    }
   ],
   "source": [
    "df['A'].iplot(kind ='hist', bins = 50)"
   ]
  },
  {
   "cell_type": "code",
   "execution_count": 49,
   "metadata": {},
   "outputs": [
    {
     "data": {
      "application/vnd.plotly.v1+json": {
       "config": {
        "linkText": "Export to plot.ly",
        "plotlyServerURL": "https://plot.ly",
        "showLink": true
       },
       "data": [
        {
         "histfunc": "count",
         "histnorm": "",
         "marker": {
          "color": "rgba(255, 153, 51, 1.0)",
          "line": {
           "color": "#4D5663",
           "width": 1.3
          }
         },
         "name": "A",
         "nbinsx": 50,
         "opacity": 0.8,
         "orientation": "v",
         "type": "histogram",
         "x": [
          1.204374223794343,
          -0.36906833924077637,
          -0.8122413394730359,
          1.3997697154739082,
          -1.060788107444831,
          0.5515735422646244,
          0.14061940746164717,
          0.16983560391476102,
          -0.5570859045323824,
          1.401481283250656,
          -0.22735734650862433,
          -0.2708226895595077,
          -0.061950652045331865,
          -0.23938387027733657,
          1.108929431106888,
          1.5885217800040747,
          -0.23559972372649096,
          -0.8063452712749882,
          0.13813159002450978,
          -0.6380738291099499,
          -1.3331534209046985,
          -0.1297105180803108,
          -0.10188136335052575,
          -0.30361318214471156,
          0.16497636748164915,
          2.183144065787738,
          -0.7843797606187034,
          -0.7395470414853026,
          -0.527746573443475,
          1.1734247890807368,
          -0.4277744368396613,
          1.586083786095986,
          -0.5946807669553307,
          1.1091000750587032,
          -2.2431426226953897,
          1.0511348504249087,
          -1.7084854938366552,
          0.3848496070527757,
          0.02319587782161051,
          -1.5614243800488814,
          -0.49612500584776853,
          0.36651695375891874,
          -1.9325653893667134,
          -0.009736954747299615,
          0.5770681622022307,
          -1.798736202311587,
          -1.4731317977982321,
          0.9207786842892908,
          -1.4109451145958787,
          1.474614654368594,
          -1.151126450220308,
          1.0959490386459758,
          0.7132001708734125,
          1.5389324759551382,
          -0.3437764307427175,
          -0.1398678689458212,
          -0.5692961334275359,
          -0.3876239117207527,
          2.1646360720109534,
          -0.8575609675505435,
          -0.12246755380214738,
          -0.35793397267560856,
          0.6760702797677335,
          0.6859757866029638,
          1.2172949175056056,
          3.0190435916527885,
          -0.49318883868647506,
          -1.4621624134879483,
          -0.018015512803250384,
          1.0663682852882106,
          0.6097999035722868,
          0.8061363870535981,
          -0.9775765064326202,
          1.9186469222357772,
          -1.3863509250475359,
          -1.729431686804565,
          -0.18184271399933602,
          -0.18613439383574115,
          0.5857466322063433,
          -0.34237696433466347,
          0.3571290493876967,
          0.006789251745769943,
          -3.2125921573829657,
          -0.5584989724527796,
          -0.3753882921486149,
          0.4722926040135994,
          -2.363150670854163,
          -0.6542164839532234,
          0.032211397087431724,
          -1.138463704994325,
          0.16231793129177194,
          0.4166899662658287,
          -0.18051501338281437,
          -0.15668668070654856,
          0.0848144483366338,
          0.6315939404556832,
          0.49811604910354135,
          0.9187915032050765,
          -0.45235784878744706,
          -0.18836177542466803
         ]
        },
        {
         "histfunc": "count",
         "histnorm": "",
         "marker": {
          "color": "rgba(55, 128, 191, 1.0)",
          "line": {
           "color": "#4D5663",
           "width": 1.3
          }
         },
         "name": "B",
         "nbinsx": 50,
         "opacity": 0.8,
         "orientation": "v",
         "type": "histogram",
         "x": [
          0.28883879264521045,
          -0.9696091384577731,
          0.3240029375457199,
          -2.0275223864420986,
          0.14726848424825328,
          0.678991256631577,
          0.8082635732754649,
          -1.7856463481517608,
          -1.104842817878926,
          -0.46027812161661064,
          -2.1537687431575328,
          0.15945482476116415,
          -1.3018992475704751,
          0.6025453549513595,
          0.2587350592374064,
          0.8027749160485882,
          0.35454868506569975,
          -0.4552450279185263,
          -0.8120909393883892,
          -0.4444774282124728,
          0.36142121866382554,
          1.0066457905843325,
          2.1146963668436967,
          0.3867859557004427,
          0.30976253103714385,
          0.25304790269208116,
          -0.4853018821573321,
          -0.4266472311732564,
          1.0574834426305726,
          0.0727828918106895,
          0.6387061611541429,
          0.35282443058578244,
          1.2613356031803376,
          1.9112868409358335,
          0.35270908010673824,
          0.33830107746460486,
          0.9661583398721716,
          0.7409660674911244,
          -1.0132490082439065,
          1.1381430753784794,
          0.06956837769113201,
          -0.025060573913217636,
          0.5601028658725632,
          1.1067653704904703,
          0.5381067202924643,
          -0.7979118583312437,
          0.6334157782864624,
          -0.5266080026725684,
          0.4833853733012127,
          -0.38299530376008994,
          -0.4357980040855327,
          -0.37062045661239246,
          -1.3414385587779716,
          -0.36590910152001693,
          -0.7034440798878234,
          -1.3876156954916887,
          -1.0926499669857581,
          0.5638637016453981,
          -0.3829013772219426,
          1.9157532042187086,
          0.761887728347791,
          0.8146029084065223,
          0.8231475450342212,
          0.04436894811492774,
          -1.0635463927921698,
          -0.07945247508080461,
          1.882926346755678,
          -0.20579958146507463,
          0.4168470364341955,
          0.36946234527703425,
          1.022023039989263,
          -2.199761127185428,
          0.09350752683525511,
          0.050408117632942985,
          2.190592367226769,
          -0.23747751471779366,
          1.0478758815724036,
          -0.4337413657219337,
          0.20492756400731685,
          2.3831221699587988,
          -0.6802126826044421,
          0.9545186757613414,
          -1.559532703638838,
          -0.2702728387868071,
          0.2237820300585606,
          -0.18639837634820103,
          -0.47969720470485616,
          0.44948289758789267,
          -0.3239630401170654,
          0.12299224412986517,
          -0.2955225352765806,
          -0.06693027092072842,
          -0.3667350661835663,
          -1.1643883307876375,
          0.8995409226274617,
          -1.0630968020526121,
          -2.25782917678505,
          0.17250522033490703,
          -2.0771412668361102,
          -1.498269212529484
         ]
        },
        {
         "histfunc": "count",
         "histnorm": "",
         "marker": {
          "color": "rgba(50, 171, 96, 1.0)",
          "line": {
           "color": "#4D5663",
           "width": 1.3
          }
         },
         "name": "C",
         "nbinsx": 50,
         "opacity": 0.8,
         "orientation": "v",
         "type": "histogram",
         "x": [
          0.9343696833686856,
          0.6173183922345006,
          -1.0639285999296693,
          -0.33859612376905984,
          0.506690249511028,
          0.2957480725083949,
          0.5263886133671345,
          -0.32276366714443333,
          -0.01792066674395618,
          -1.775083329657011,
          -1.4437741093187602,
          0.07329908144639716,
          1.202571194374941,
          0.5168437647049239,
          -0.09882521510224906,
          1.2444214483260527,
          0.4917821790620534,
          0.1965902827913307,
          0.16855948625243314,
          1.108497197968096,
          -0.5675585086297141,
          -0.3095257147273207,
          -0.7102455459926497,
          1.1671495944265564,
          -0.5284595837443142,
          1.7243424357402708,
          -0.16867574245345937,
          -0.7529943369078369,
          1.4714561614880592,
          -0.3156054085787056,
          1.6318798368170893,
          -1.1814339345772011,
          1.0176216826497526,
          1.2215659458124433,
          0.5550009695494434,
          1.2051994421401777,
          0.12738565982693809,
          -0.349202693458132,
          -1.2226864380171725,
          1.0622710558752908,
          -1.4610410655094517,
          -1.5352515493002508,
          -0.6112654698490414,
          -1.6006436768837422,
          -1.2126704936089923,
          1.51414712452721,
          -0.05326645847836819,
          0.5720140651740735,
          0.30677221656661624,
          -0.8515412861948122,
          -0.2175631127524753,
          -0.6866800691236976,
          -0.2718610220028386,
          -0.4286993360378733,
          -0.008244722026312986,
          -1.134459704124308,
          0.6839925305569563,
          -0.9037393141619001,
          0.8946253754874015,
          -0.9563364923279836,
          -1.8017716095525207,
          1.5529278139958989,
          0.5585114201282104,
          1.1081748287221973,
          0.5786445092709741,
          0.012575418742362943,
          0.31251853048904665,
          0.668992790804777,
          -0.9357642050522706,
          -1.7502352908475747,
          -1.1891899470303575,
          1.3039873876743129,
          -0.9290778024734753,
          1.5949617014816626,
          1.317263804134899,
          -0.7393457254093768,
          -0.2836412501033554,
          0.39500577301382556,
          -0.19878243420856143,
          -0.015156971804573429,
          -1.0233128562001466,
          -0.9044467815425445,
          1.130533978735926,
          0.6647964258955746,
          1.3161641115644949,
          1.5555717667850633,
          0.09260698431106808,
          1.364533716086213,
          -1.2169224255756232,
          -0.703560958600298,
          -0.5226056338222739,
          -1.4403106413817668,
          -0.5082752114604108,
          -0.45246678819824143,
          -0.8994474129369322,
          -0.8038036119855998,
          -1.6685950229652726,
          0.32678600253398316,
          0.5581877526293396,
          1.252591507712197
         ]
        },
        {
         "histfunc": "count",
         "histnorm": "",
         "marker": {
          "color": "rgba(128, 0, 128, 1.0)",
          "line": {
           "color": "#4D5663",
           "width": 1.3
          }
         },
         "name": "D",
         "nbinsx": 50,
         "opacity": 0.8,
         "orientation": "v",
         "type": "histogram",
         "x": [
          -0.8058842627615331,
          0.9797082212953491,
          0.6379635383022297,
          1.4548329154127562,
          -2.335484400509173,
          -0.6623770650682406,
          0.7535702956405469,
          -0.6236079353039102,
          1.5863547334142853,
          0.5501662700248987,
          0.5544553984982873,
          -0.8026437001666429,
          -1.3410112046609501,
          -0.15432536507994782,
          0.5869254121772779,
          2.1862014691579392,
          -0.8596447818377434,
          0.22903537802967597,
          -1.9527835306690624,
          -0.7106466834944147,
          0.9879654019609568,
          0.43989617483472826,
          0.8879983605688165,
          0.30101447395780634,
          -1.1269830174872864,
          1.637713689364425,
          2.19484065473828,
          2.1351243435618557,
          0.7410418985039773,
          0.10250422142114304,
          1.0147707958155245,
          1.293569209435536,
          -0.30913414653112375,
          0.9485462047058678,
          0.8621835590849038,
          0.30367158443875586,
          1.553251492944668,
          -1.0866663386699786,
          -0.738456098631491,
          -1.2677923318105067,
          -1.5255450657829206,
          0.5806873056280587,
          -1.2980488960785543,
          1.2749609068257286,
          0.44492001246999946,
          -0.9179560951815965,
          0.7796482114958154,
          -1.6263294936914727,
          0.5701756325323951,
          0.5616757646494824,
          2.0692782403749996,
          -0.6998366536532751,
          1.7451322151939659,
          -0.41932548798157826,
          0.12205020250823236,
          0.5315818152632557,
          0.5427953889005159,
          0.4439151325921603,
          -0.9341713046286217,
          0.178731397553212,
          -2.0905963494997692,
          0.6628433514890515,
          -1.0717854744470323,
          0.6395126809145872,
          -0.5506483770131305,
          -0.13274463767961525,
          -1.1915154310340677,
          -2.0013163307379864,
          0.303189753519302,
          -0.9738683344814172,
          0.2200647357558618,
          0.5528113656617654,
          0.03798789279734366,
          -0.033497342180987676,
          0.6561751895549323,
          -1.296629861664313,
          -0.9939882703168663,
          -2.4811780037000126,
          0.5163737334382271,
          -0.8509505825124314,
          0.18521698690709562,
          0.400969571594376,
          0.09284692825371736,
          0.6662143145592785,
          0.38045010667313794,
          -0.6764269749617707,
          -1.9590494783739336,
          0.0702745069971556,
          -0.9868397186829913,
          0.48576342854090954,
          0.9649650807272201,
          0.018040177384070485,
          0.37114273233268846,
          1.8869512978114056,
          1.333566572763461,
          2.177844651149719,
          -1.4653390081808297,
          -1.5728963693526394,
          -0.1622957734581275,
          -0.7038966086121956
         ]
        }
       ],
       "layout": {
        "barmode": "overlay",
        "legend": {
         "bgcolor": "#F5F6F9",
         "font": {
          "color": "#4D5663"
         }
        },
        "paper_bgcolor": "#F5F6F9",
        "plot_bgcolor": "#F5F6F9",
        "template": {
         "data": {
          "bar": [
           {
            "error_x": {
             "color": "#2a3f5f"
            },
            "error_y": {
             "color": "#2a3f5f"
            },
            "marker": {
             "line": {
              "color": "#E5ECF6",
              "width": 0.5
             }
            },
            "type": "bar"
           }
          ],
          "barpolar": [
           {
            "marker": {
             "line": {
              "color": "#E5ECF6",
              "width": 0.5
             }
            },
            "type": "barpolar"
           }
          ],
          "carpet": [
           {
            "aaxis": {
             "endlinecolor": "#2a3f5f",
             "gridcolor": "white",
             "linecolor": "white",
             "minorgridcolor": "white",
             "startlinecolor": "#2a3f5f"
            },
            "baxis": {
             "endlinecolor": "#2a3f5f",
             "gridcolor": "white",
             "linecolor": "white",
             "minorgridcolor": "white",
             "startlinecolor": "#2a3f5f"
            },
            "type": "carpet"
           }
          ],
          "choropleth": [
           {
            "colorbar": {
             "outlinewidth": 0,
             "ticks": ""
            },
            "type": "choropleth"
           }
          ],
          "contour": [
           {
            "colorbar": {
             "outlinewidth": 0,
             "ticks": ""
            },
            "colorscale": [
             [
              0,
              "#0d0887"
             ],
             [
              0.1111111111111111,
              "#46039f"
             ],
             [
              0.2222222222222222,
              "#7201a8"
             ],
             [
              0.3333333333333333,
              "#9c179e"
             ],
             [
              0.4444444444444444,
              "#bd3786"
             ],
             [
              0.5555555555555556,
              "#d8576b"
             ],
             [
              0.6666666666666666,
              "#ed7953"
             ],
             [
              0.7777777777777778,
              "#fb9f3a"
             ],
             [
              0.8888888888888888,
              "#fdca26"
             ],
             [
              1,
              "#f0f921"
             ]
            ],
            "type": "contour"
           }
          ],
          "contourcarpet": [
           {
            "colorbar": {
             "outlinewidth": 0,
             "ticks": ""
            },
            "type": "contourcarpet"
           }
          ],
          "heatmap": [
           {
            "colorbar": {
             "outlinewidth": 0,
             "ticks": ""
            },
            "colorscale": [
             [
              0,
              "#0d0887"
             ],
             [
              0.1111111111111111,
              "#46039f"
             ],
             [
              0.2222222222222222,
              "#7201a8"
             ],
             [
              0.3333333333333333,
              "#9c179e"
             ],
             [
              0.4444444444444444,
              "#bd3786"
             ],
             [
              0.5555555555555556,
              "#d8576b"
             ],
             [
              0.6666666666666666,
              "#ed7953"
             ],
             [
              0.7777777777777778,
              "#fb9f3a"
             ],
             [
              0.8888888888888888,
              "#fdca26"
             ],
             [
              1,
              "#f0f921"
             ]
            ],
            "type": "heatmap"
           }
          ],
          "heatmapgl": [
           {
            "colorbar": {
             "outlinewidth": 0,
             "ticks": ""
            },
            "colorscale": [
             [
              0,
              "#0d0887"
             ],
             [
              0.1111111111111111,
              "#46039f"
             ],
             [
              0.2222222222222222,
              "#7201a8"
             ],
             [
              0.3333333333333333,
              "#9c179e"
             ],
             [
              0.4444444444444444,
              "#bd3786"
             ],
             [
              0.5555555555555556,
              "#d8576b"
             ],
             [
              0.6666666666666666,
              "#ed7953"
             ],
             [
              0.7777777777777778,
              "#fb9f3a"
             ],
             [
              0.8888888888888888,
              "#fdca26"
             ],
             [
              1,
              "#f0f921"
             ]
            ],
            "type": "heatmapgl"
           }
          ],
          "histogram": [
           {
            "marker": {
             "colorbar": {
              "outlinewidth": 0,
              "ticks": ""
             }
            },
            "type": "histogram"
           }
          ],
          "histogram2d": [
           {
            "colorbar": {
             "outlinewidth": 0,
             "ticks": ""
            },
            "colorscale": [
             [
              0,
              "#0d0887"
             ],
             [
              0.1111111111111111,
              "#46039f"
             ],
             [
              0.2222222222222222,
              "#7201a8"
             ],
             [
              0.3333333333333333,
              "#9c179e"
             ],
             [
              0.4444444444444444,
              "#bd3786"
             ],
             [
              0.5555555555555556,
              "#d8576b"
             ],
             [
              0.6666666666666666,
              "#ed7953"
             ],
             [
              0.7777777777777778,
              "#fb9f3a"
             ],
             [
              0.8888888888888888,
              "#fdca26"
             ],
             [
              1,
              "#f0f921"
             ]
            ],
            "type": "histogram2d"
           }
          ],
          "histogram2dcontour": [
           {
            "colorbar": {
             "outlinewidth": 0,
             "ticks": ""
            },
            "colorscale": [
             [
              0,
              "#0d0887"
             ],
             [
              0.1111111111111111,
              "#46039f"
             ],
             [
              0.2222222222222222,
              "#7201a8"
             ],
             [
              0.3333333333333333,
              "#9c179e"
             ],
             [
              0.4444444444444444,
              "#bd3786"
             ],
             [
              0.5555555555555556,
              "#d8576b"
             ],
             [
              0.6666666666666666,
              "#ed7953"
             ],
             [
              0.7777777777777778,
              "#fb9f3a"
             ],
             [
              0.8888888888888888,
              "#fdca26"
             ],
             [
              1,
              "#f0f921"
             ]
            ],
            "type": "histogram2dcontour"
           }
          ],
          "mesh3d": [
           {
            "colorbar": {
             "outlinewidth": 0,
             "ticks": ""
            },
            "type": "mesh3d"
           }
          ],
          "parcoords": [
           {
            "line": {
             "colorbar": {
              "outlinewidth": 0,
              "ticks": ""
             }
            },
            "type": "parcoords"
           }
          ],
          "pie": [
           {
            "automargin": true,
            "type": "pie"
           }
          ],
          "scatter": [
           {
            "marker": {
             "colorbar": {
              "outlinewidth": 0,
              "ticks": ""
             }
            },
            "type": "scatter"
           }
          ],
          "scatter3d": [
           {
            "line": {
             "colorbar": {
              "outlinewidth": 0,
              "ticks": ""
             }
            },
            "marker": {
             "colorbar": {
              "outlinewidth": 0,
              "ticks": ""
             }
            },
            "type": "scatter3d"
           }
          ],
          "scattercarpet": [
           {
            "marker": {
             "colorbar": {
              "outlinewidth": 0,
              "ticks": ""
             }
            },
            "type": "scattercarpet"
           }
          ],
          "scattergeo": [
           {
            "marker": {
             "colorbar": {
              "outlinewidth": 0,
              "ticks": ""
             }
            },
            "type": "scattergeo"
           }
          ],
          "scattergl": [
           {
            "marker": {
             "colorbar": {
              "outlinewidth": 0,
              "ticks": ""
             }
            },
            "type": "scattergl"
           }
          ],
          "scattermapbox": [
           {
            "marker": {
             "colorbar": {
              "outlinewidth": 0,
              "ticks": ""
             }
            },
            "type": "scattermapbox"
           }
          ],
          "scatterpolar": [
           {
            "marker": {
             "colorbar": {
              "outlinewidth": 0,
              "ticks": ""
             }
            },
            "type": "scatterpolar"
           }
          ],
          "scatterpolargl": [
           {
            "marker": {
             "colorbar": {
              "outlinewidth": 0,
              "ticks": ""
             }
            },
            "type": "scatterpolargl"
           }
          ],
          "scatterternary": [
           {
            "marker": {
             "colorbar": {
              "outlinewidth": 0,
              "ticks": ""
             }
            },
            "type": "scatterternary"
           }
          ],
          "surface": [
           {
            "colorbar": {
             "outlinewidth": 0,
             "ticks": ""
            },
            "colorscale": [
             [
              0,
              "#0d0887"
             ],
             [
              0.1111111111111111,
              "#46039f"
             ],
             [
              0.2222222222222222,
              "#7201a8"
             ],
             [
              0.3333333333333333,
              "#9c179e"
             ],
             [
              0.4444444444444444,
              "#bd3786"
             ],
             [
              0.5555555555555556,
              "#d8576b"
             ],
             [
              0.6666666666666666,
              "#ed7953"
             ],
             [
              0.7777777777777778,
              "#fb9f3a"
             ],
             [
              0.8888888888888888,
              "#fdca26"
             ],
             [
              1,
              "#f0f921"
             ]
            ],
            "type": "surface"
           }
          ],
          "table": [
           {
            "cells": {
             "fill": {
              "color": "#EBF0F8"
             },
             "line": {
              "color": "white"
             }
            },
            "header": {
             "fill": {
              "color": "#C8D4E3"
             },
             "line": {
              "color": "white"
             }
            },
            "type": "table"
           }
          ]
         },
         "layout": {
          "annotationdefaults": {
           "arrowcolor": "#2a3f5f",
           "arrowhead": 0,
           "arrowwidth": 1
          },
          "coloraxis": {
           "colorbar": {
            "outlinewidth": 0,
            "ticks": ""
           }
          },
          "colorscale": {
           "diverging": [
            [
             0,
             "#8e0152"
            ],
            [
             0.1,
             "#c51b7d"
            ],
            [
             0.2,
             "#de77ae"
            ],
            [
             0.3,
             "#f1b6da"
            ],
            [
             0.4,
             "#fde0ef"
            ],
            [
             0.5,
             "#f7f7f7"
            ],
            [
             0.6,
             "#e6f5d0"
            ],
            [
             0.7,
             "#b8e186"
            ],
            [
             0.8,
             "#7fbc41"
            ],
            [
             0.9,
             "#4d9221"
            ],
            [
             1,
             "#276419"
            ]
           ],
           "sequential": [
            [
             0,
             "#0d0887"
            ],
            [
             0.1111111111111111,
             "#46039f"
            ],
            [
             0.2222222222222222,
             "#7201a8"
            ],
            [
             0.3333333333333333,
             "#9c179e"
            ],
            [
             0.4444444444444444,
             "#bd3786"
            ],
            [
             0.5555555555555556,
             "#d8576b"
            ],
            [
             0.6666666666666666,
             "#ed7953"
            ],
            [
             0.7777777777777778,
             "#fb9f3a"
            ],
            [
             0.8888888888888888,
             "#fdca26"
            ],
            [
             1,
             "#f0f921"
            ]
           ],
           "sequentialminus": [
            [
             0,
             "#0d0887"
            ],
            [
             0.1111111111111111,
             "#46039f"
            ],
            [
             0.2222222222222222,
             "#7201a8"
            ],
            [
             0.3333333333333333,
             "#9c179e"
            ],
            [
             0.4444444444444444,
             "#bd3786"
            ],
            [
             0.5555555555555556,
             "#d8576b"
            ],
            [
             0.6666666666666666,
             "#ed7953"
            ],
            [
             0.7777777777777778,
             "#fb9f3a"
            ],
            [
             0.8888888888888888,
             "#fdca26"
            ],
            [
             1,
             "#f0f921"
            ]
           ]
          },
          "colorway": [
           "#636efa",
           "#EF553B",
           "#00cc96",
           "#ab63fa",
           "#FFA15A",
           "#19d3f3",
           "#FF6692",
           "#B6E880",
           "#FF97FF",
           "#FECB52"
          ],
          "font": {
           "color": "#2a3f5f"
          },
          "geo": {
           "bgcolor": "white",
           "lakecolor": "white",
           "landcolor": "#E5ECF6",
           "showlakes": true,
           "showland": true,
           "subunitcolor": "white"
          },
          "hoverlabel": {
           "align": "left"
          },
          "hovermode": "closest",
          "mapbox": {
           "style": "light"
          },
          "paper_bgcolor": "white",
          "plot_bgcolor": "#E5ECF6",
          "polar": {
           "angularaxis": {
            "gridcolor": "white",
            "linecolor": "white",
            "ticks": ""
           },
           "bgcolor": "#E5ECF6",
           "radialaxis": {
            "gridcolor": "white",
            "linecolor": "white",
            "ticks": ""
           }
          },
          "scene": {
           "xaxis": {
            "backgroundcolor": "#E5ECF6",
            "gridcolor": "white",
            "gridwidth": 2,
            "linecolor": "white",
            "showbackground": true,
            "ticks": "",
            "zerolinecolor": "white"
           },
           "yaxis": {
            "backgroundcolor": "#E5ECF6",
            "gridcolor": "white",
            "gridwidth": 2,
            "linecolor": "white",
            "showbackground": true,
            "ticks": "",
            "zerolinecolor": "white"
           },
           "zaxis": {
            "backgroundcolor": "#E5ECF6",
            "gridcolor": "white",
            "gridwidth": 2,
            "linecolor": "white",
            "showbackground": true,
            "ticks": "",
            "zerolinecolor": "white"
           }
          },
          "shapedefaults": {
           "line": {
            "color": "#2a3f5f"
           }
          },
          "ternary": {
           "aaxis": {
            "gridcolor": "white",
            "linecolor": "white",
            "ticks": ""
           },
           "baxis": {
            "gridcolor": "white",
            "linecolor": "white",
            "ticks": ""
           },
           "bgcolor": "#E5ECF6",
           "caxis": {
            "gridcolor": "white",
            "linecolor": "white",
            "ticks": ""
           }
          },
          "title": {
           "x": 0.05
          },
          "xaxis": {
           "automargin": true,
           "gridcolor": "white",
           "linecolor": "white",
           "ticks": "",
           "title": {
            "standoff": 15
           },
           "zerolinecolor": "white",
           "zerolinewidth": 2
          },
          "yaxis": {
           "automargin": true,
           "gridcolor": "white",
           "linecolor": "white",
           "ticks": "",
           "title": {
            "standoff": 15
           },
           "zerolinecolor": "white",
           "zerolinewidth": 2
          }
         }
        },
        "title": {
         "font": {
          "color": "#4D5663"
         }
        },
        "xaxis": {
         "gridcolor": "#E1E5ED",
         "showgrid": true,
         "tickfont": {
          "color": "#4D5663"
         },
         "title": {
          "font": {
           "color": "#4D5663"
          },
          "text": ""
         },
         "zerolinecolor": "#E1E5ED"
        },
        "yaxis": {
         "gridcolor": "#E1E5ED",
         "showgrid": true,
         "tickfont": {
          "color": "#4D5663"
         },
         "title": {
          "font": {
           "color": "#4D5663"
          },
          "text": ""
         },
         "zerolinecolor": "#E1E5ED"
        }
       }
      },
      "text/html": [
       "<div>\n",
       "        \n",
       "        \n",
       "            <div id=\"5caaa17a-d90f-49a7-a1da-2b78c54ecabc\" class=\"plotly-graph-div\" style=\"height:525px; width:100%;\"></div>\n",
       "            <script type=\"text/javascript\">\n",
       "                require([\"plotly\"], function(Plotly) {\n",
       "                    window.PLOTLYENV=window.PLOTLYENV || {};\n",
       "                    window.PLOTLYENV.BASE_URL='https://plot.ly';\n",
       "                    \n",
       "                if (document.getElementById(\"5caaa17a-d90f-49a7-a1da-2b78c54ecabc\")) {\n",
       "                    Plotly.newPlot(\n",
       "                        '5caaa17a-d90f-49a7-a1da-2b78c54ecabc',\n",
       "                        [{\"histfunc\": \"count\", \"histnorm\": \"\", \"marker\": {\"color\": \"rgba(255, 153, 51, 1.0)\", \"line\": {\"color\": \"#4D5663\", \"width\": 1.3}}, \"name\": \"A\", \"nbinsx\": 50, \"opacity\": 0.8, \"orientation\": \"v\", \"type\": \"histogram\", \"x\": [1.204374223794343, -0.36906833924077637, -0.8122413394730359, 1.3997697154739082, -1.060788107444831, 0.5515735422646244, 0.14061940746164717, 0.16983560391476102, -0.5570859045323824, 1.401481283250656, -0.22735734650862433, -0.2708226895595077, -0.061950652045331865, -0.23938387027733657, 1.108929431106888, 1.5885217800040747, -0.23559972372649096, -0.8063452712749882, 0.13813159002450978, -0.6380738291099499, -1.3331534209046985, -0.1297105180803108, -0.10188136335052575, -0.30361318214471156, 0.16497636748164915, 2.183144065787738, -0.7843797606187034, -0.7395470414853026, -0.527746573443475, 1.1734247890807368, -0.4277744368396613, 1.586083786095986, -0.5946807669553307, 1.1091000750587032, -2.2431426226953897, 1.0511348504249087, -1.7084854938366552, 0.3848496070527757, 0.02319587782161051, -1.5614243800488814, -0.49612500584776853, 0.36651695375891874, -1.9325653893667134, -0.009736954747299615, 0.5770681622022307, -1.798736202311587, -1.4731317977982321, 0.9207786842892908, -1.4109451145958787, 1.474614654368594, -1.151126450220308, 1.0959490386459758, 0.7132001708734125, 1.5389324759551382, -0.3437764307427175, -0.1398678689458212, -0.5692961334275359, -0.3876239117207527, 2.1646360720109534, -0.8575609675505435, -0.12246755380214738, -0.35793397267560856, 0.6760702797677335, 0.6859757866029638, 1.2172949175056056, 3.0190435916527885, -0.49318883868647506, -1.4621624134879483, -0.018015512803250384, 1.0663682852882106, 0.6097999035722868, 0.8061363870535981, -0.9775765064326202, 1.9186469222357772, -1.3863509250475359, -1.729431686804565, -0.18184271399933602, -0.18613439383574115, 0.5857466322063433, -0.34237696433466347, 0.3571290493876967, 0.006789251745769943, -3.2125921573829657, -0.5584989724527796, -0.3753882921486149, 0.4722926040135994, -2.363150670854163, -0.6542164839532234, 0.032211397087431724, -1.138463704994325, 0.16231793129177194, 0.4166899662658287, -0.18051501338281437, -0.15668668070654856, 0.0848144483366338, 0.6315939404556832, 0.49811604910354135, 0.9187915032050765, -0.45235784878744706, -0.18836177542466803]}, {\"histfunc\": \"count\", \"histnorm\": \"\", \"marker\": {\"color\": \"rgba(55, 128, 191, 1.0)\", \"line\": {\"color\": \"#4D5663\", \"width\": 1.3}}, \"name\": \"B\", \"nbinsx\": 50, \"opacity\": 0.8, \"orientation\": \"v\", \"type\": \"histogram\", \"x\": [0.28883879264521045, -0.9696091384577731, 0.3240029375457199, -2.0275223864420986, 0.14726848424825328, 0.678991256631577, 0.8082635732754649, -1.7856463481517608, -1.104842817878926, -0.46027812161661064, -2.1537687431575328, 0.15945482476116415, -1.3018992475704751, 0.6025453549513595, 0.2587350592374064, 0.8027749160485882, 0.35454868506569975, -0.4552450279185263, -0.8120909393883892, -0.4444774282124728, 0.36142121866382554, 1.0066457905843325, 2.1146963668436967, 0.3867859557004427, 0.30976253103714385, 0.25304790269208116, -0.4853018821573321, -0.4266472311732564, 1.0574834426305726, 0.0727828918106895, 0.6387061611541429, 0.35282443058578244, 1.2613356031803376, 1.9112868409358335, 0.35270908010673824, 0.33830107746460486, 0.9661583398721716, 0.7409660674911244, -1.0132490082439065, 1.1381430753784794, 0.06956837769113201, -0.025060573913217636, 0.5601028658725632, 1.1067653704904703, 0.5381067202924643, -0.7979118583312437, 0.6334157782864624, -0.5266080026725684, 0.4833853733012127, -0.38299530376008994, -0.4357980040855327, -0.37062045661239246, -1.3414385587779716, -0.36590910152001693, -0.7034440798878234, -1.3876156954916887, -1.0926499669857581, 0.5638637016453981, -0.3829013772219426, 1.9157532042187086, 0.761887728347791, 0.8146029084065223, 0.8231475450342212, 0.04436894811492774, -1.0635463927921698, -0.07945247508080461, 1.882926346755678, -0.20579958146507463, 0.4168470364341955, 0.36946234527703425, 1.022023039989263, -2.199761127185428, 0.09350752683525511, 0.050408117632942985, 2.190592367226769, -0.23747751471779366, 1.0478758815724036, -0.4337413657219337, 0.20492756400731685, 2.3831221699587988, -0.6802126826044421, 0.9545186757613414, -1.559532703638838, -0.2702728387868071, 0.2237820300585606, -0.18639837634820103, -0.47969720470485616, 0.44948289758789267, -0.3239630401170654, 0.12299224412986517, -0.2955225352765806, -0.06693027092072842, -0.3667350661835663, -1.1643883307876375, 0.8995409226274617, -1.0630968020526121, -2.25782917678505, 0.17250522033490703, -2.0771412668361102, -1.498269212529484]}, {\"histfunc\": \"count\", \"histnorm\": \"\", \"marker\": {\"color\": \"rgba(50, 171, 96, 1.0)\", \"line\": {\"color\": \"#4D5663\", \"width\": 1.3}}, \"name\": \"C\", \"nbinsx\": 50, \"opacity\": 0.8, \"orientation\": \"v\", \"type\": \"histogram\", \"x\": [0.9343696833686856, 0.6173183922345006, -1.0639285999296693, -0.33859612376905984, 0.506690249511028, 0.2957480725083949, 0.5263886133671345, -0.32276366714443333, -0.01792066674395618, -1.775083329657011, -1.4437741093187602, 0.07329908144639716, 1.202571194374941, 0.5168437647049239, -0.09882521510224906, 1.2444214483260527, 0.4917821790620534, 0.1965902827913307, 0.16855948625243314, 1.108497197968096, -0.5675585086297141, -0.3095257147273207, -0.7102455459926497, 1.1671495944265564, -0.5284595837443142, 1.7243424357402708, -0.16867574245345937, -0.7529943369078369, 1.4714561614880592, -0.3156054085787056, 1.6318798368170893, -1.1814339345772011, 1.0176216826497526, 1.2215659458124433, 0.5550009695494434, 1.2051994421401777, 0.12738565982693809, -0.349202693458132, -1.2226864380171725, 1.0622710558752908, -1.4610410655094517, -1.5352515493002508, -0.6112654698490414, -1.6006436768837422, -1.2126704936089923, 1.51414712452721, -0.05326645847836819, 0.5720140651740735, 0.30677221656661624, -0.8515412861948122, -0.2175631127524753, -0.6866800691236976, -0.2718610220028386, -0.4286993360378733, -0.008244722026312986, -1.134459704124308, 0.6839925305569563, -0.9037393141619001, 0.8946253754874015, -0.9563364923279836, -1.8017716095525207, 1.5529278139958989, 0.5585114201282104, 1.1081748287221973, 0.5786445092709741, 0.012575418742362943, 0.31251853048904665, 0.668992790804777, -0.9357642050522706, -1.7502352908475747, -1.1891899470303575, 1.3039873876743129, -0.9290778024734753, 1.5949617014816626, 1.317263804134899, -0.7393457254093768, -0.2836412501033554, 0.39500577301382556, -0.19878243420856143, -0.015156971804573429, -1.0233128562001466, -0.9044467815425445, 1.130533978735926, 0.6647964258955746, 1.3161641115644949, 1.5555717667850633, 0.09260698431106808, 1.364533716086213, -1.2169224255756232, -0.703560958600298, -0.5226056338222739, -1.4403106413817668, -0.5082752114604108, -0.45246678819824143, -0.8994474129369322, -0.8038036119855998, -1.6685950229652726, 0.32678600253398316, 0.5581877526293396, 1.252591507712197]}, {\"histfunc\": \"count\", \"histnorm\": \"\", \"marker\": {\"color\": \"rgba(128, 0, 128, 1.0)\", \"line\": {\"color\": \"#4D5663\", \"width\": 1.3}}, \"name\": \"D\", \"nbinsx\": 50, \"opacity\": 0.8, \"orientation\": \"v\", \"type\": \"histogram\", \"x\": [-0.8058842627615331, 0.9797082212953491, 0.6379635383022297, 1.4548329154127562, -2.335484400509173, -0.6623770650682406, 0.7535702956405469, -0.6236079353039102, 1.5863547334142853, 0.5501662700248987, 0.5544553984982873, -0.8026437001666429, -1.3410112046609501, -0.15432536507994782, 0.5869254121772779, 2.1862014691579392, -0.8596447818377434, 0.22903537802967597, -1.9527835306690624, -0.7106466834944147, 0.9879654019609568, 0.43989617483472826, 0.8879983605688165, 0.30101447395780634, -1.1269830174872864, 1.637713689364425, 2.19484065473828, 2.1351243435618557, 0.7410418985039773, 0.10250422142114304, 1.0147707958155245, 1.293569209435536, -0.30913414653112375, 0.9485462047058678, 0.8621835590849038, 0.30367158443875586, 1.553251492944668, -1.0866663386699786, -0.738456098631491, -1.2677923318105067, -1.5255450657829206, 0.5806873056280587, -1.2980488960785543, 1.2749609068257286, 0.44492001246999946, -0.9179560951815965, 0.7796482114958154, -1.6263294936914727, 0.5701756325323951, 0.5616757646494824, 2.0692782403749996, -0.6998366536532751, 1.7451322151939659, -0.41932548798157826, 0.12205020250823236, 0.5315818152632557, 0.5427953889005159, 0.4439151325921603, -0.9341713046286217, 0.178731397553212, -2.0905963494997692, 0.6628433514890515, -1.0717854744470323, 0.6395126809145872, -0.5506483770131305, -0.13274463767961525, -1.1915154310340677, -2.0013163307379864, 0.303189753519302, -0.9738683344814172, 0.2200647357558618, 0.5528113656617654, 0.03798789279734366, -0.033497342180987676, 0.6561751895549323, -1.296629861664313, -0.9939882703168663, -2.4811780037000126, 0.5163737334382271, -0.8509505825124314, 0.18521698690709562, 0.400969571594376, 0.09284692825371736, 0.6662143145592785, 0.38045010667313794, -0.6764269749617707, -1.9590494783739336, 0.0702745069971556, -0.9868397186829913, 0.48576342854090954, 0.9649650807272201, 0.018040177384070485, 0.37114273233268846, 1.8869512978114056, 1.333566572763461, 2.177844651149719, -1.4653390081808297, -1.5728963693526394, -0.1622957734581275, -0.7038966086121956]}],\n",
       "                        {\"barmode\": \"overlay\", \"legend\": {\"bgcolor\": \"#F5F6F9\", \"font\": {\"color\": \"#4D5663\"}}, \"paper_bgcolor\": \"#F5F6F9\", \"plot_bgcolor\": \"#F5F6F9\", \"template\": {\"data\": {\"bar\": [{\"error_x\": {\"color\": \"#2a3f5f\"}, \"error_y\": {\"color\": \"#2a3f5f\"}, \"marker\": {\"line\": {\"color\": \"#E5ECF6\", \"width\": 0.5}}, \"type\": \"bar\"}], \"barpolar\": [{\"marker\": {\"line\": {\"color\": \"#E5ECF6\", \"width\": 0.5}}, \"type\": \"barpolar\"}], \"carpet\": [{\"aaxis\": {\"endlinecolor\": \"#2a3f5f\", \"gridcolor\": \"white\", \"linecolor\": \"white\", \"minorgridcolor\": \"white\", \"startlinecolor\": \"#2a3f5f\"}, \"baxis\": {\"endlinecolor\": \"#2a3f5f\", \"gridcolor\": \"white\", \"linecolor\": \"white\", \"minorgridcolor\": \"white\", \"startlinecolor\": \"#2a3f5f\"}, \"type\": \"carpet\"}], \"choropleth\": [{\"colorbar\": {\"outlinewidth\": 0, \"ticks\": \"\"}, \"type\": \"choropleth\"}], \"contour\": [{\"colorbar\": {\"outlinewidth\": 0, \"ticks\": \"\"}, \"colorscale\": [[0.0, \"#0d0887\"], [0.1111111111111111, \"#46039f\"], [0.2222222222222222, \"#7201a8\"], [0.3333333333333333, \"#9c179e\"], [0.4444444444444444, \"#bd3786\"], [0.5555555555555556, \"#d8576b\"], [0.6666666666666666, \"#ed7953\"], [0.7777777777777778, \"#fb9f3a\"], [0.8888888888888888, \"#fdca26\"], [1.0, \"#f0f921\"]], \"type\": \"contour\"}], \"contourcarpet\": [{\"colorbar\": {\"outlinewidth\": 0, \"ticks\": \"\"}, \"type\": \"contourcarpet\"}], \"heatmap\": [{\"colorbar\": {\"outlinewidth\": 0, \"ticks\": \"\"}, \"colorscale\": [[0.0, \"#0d0887\"], [0.1111111111111111, \"#46039f\"], [0.2222222222222222, \"#7201a8\"], [0.3333333333333333, \"#9c179e\"], [0.4444444444444444, \"#bd3786\"], [0.5555555555555556, \"#d8576b\"], [0.6666666666666666, \"#ed7953\"], [0.7777777777777778, \"#fb9f3a\"], [0.8888888888888888, \"#fdca26\"], [1.0, \"#f0f921\"]], \"type\": \"heatmap\"}], \"heatmapgl\": [{\"colorbar\": {\"outlinewidth\": 0, \"ticks\": \"\"}, \"colorscale\": [[0.0, \"#0d0887\"], [0.1111111111111111, \"#46039f\"], [0.2222222222222222, \"#7201a8\"], [0.3333333333333333, \"#9c179e\"], [0.4444444444444444, \"#bd3786\"], [0.5555555555555556, \"#d8576b\"], [0.6666666666666666, \"#ed7953\"], [0.7777777777777778, \"#fb9f3a\"], [0.8888888888888888, \"#fdca26\"], [1.0, \"#f0f921\"]], \"type\": \"heatmapgl\"}], \"histogram\": [{\"marker\": {\"colorbar\": {\"outlinewidth\": 0, \"ticks\": \"\"}}, \"type\": \"histogram\"}], \"histogram2d\": [{\"colorbar\": {\"outlinewidth\": 0, \"ticks\": \"\"}, \"colorscale\": [[0.0, \"#0d0887\"], [0.1111111111111111, \"#46039f\"], [0.2222222222222222, \"#7201a8\"], [0.3333333333333333, \"#9c179e\"], [0.4444444444444444, \"#bd3786\"], [0.5555555555555556, \"#d8576b\"], [0.6666666666666666, \"#ed7953\"], [0.7777777777777778, \"#fb9f3a\"], [0.8888888888888888, \"#fdca26\"], [1.0, \"#f0f921\"]], \"type\": \"histogram2d\"}], \"histogram2dcontour\": [{\"colorbar\": {\"outlinewidth\": 0, \"ticks\": \"\"}, \"colorscale\": [[0.0, \"#0d0887\"], [0.1111111111111111, \"#46039f\"], [0.2222222222222222, \"#7201a8\"], [0.3333333333333333, \"#9c179e\"], [0.4444444444444444, \"#bd3786\"], [0.5555555555555556, \"#d8576b\"], [0.6666666666666666, \"#ed7953\"], [0.7777777777777778, \"#fb9f3a\"], [0.8888888888888888, \"#fdca26\"], [1.0, \"#f0f921\"]], \"type\": \"histogram2dcontour\"}], \"mesh3d\": [{\"colorbar\": {\"outlinewidth\": 0, \"ticks\": \"\"}, \"type\": \"mesh3d\"}], \"parcoords\": [{\"line\": {\"colorbar\": {\"outlinewidth\": 0, \"ticks\": \"\"}}, \"type\": \"parcoords\"}], \"pie\": [{\"automargin\": true, \"type\": \"pie\"}], \"scatter\": [{\"marker\": {\"colorbar\": {\"outlinewidth\": 0, \"ticks\": \"\"}}, \"type\": \"scatter\"}], \"scatter3d\": [{\"line\": {\"colorbar\": {\"outlinewidth\": 0, \"ticks\": \"\"}}, \"marker\": {\"colorbar\": {\"outlinewidth\": 0, \"ticks\": \"\"}}, \"type\": \"scatter3d\"}], \"scattercarpet\": [{\"marker\": {\"colorbar\": {\"outlinewidth\": 0, \"ticks\": \"\"}}, \"type\": \"scattercarpet\"}], \"scattergeo\": [{\"marker\": {\"colorbar\": {\"outlinewidth\": 0, \"ticks\": \"\"}}, \"type\": \"scattergeo\"}], \"scattergl\": [{\"marker\": {\"colorbar\": {\"outlinewidth\": 0, \"ticks\": \"\"}}, \"type\": \"scattergl\"}], \"scattermapbox\": [{\"marker\": {\"colorbar\": {\"outlinewidth\": 0, \"ticks\": \"\"}}, \"type\": \"scattermapbox\"}], \"scatterpolar\": [{\"marker\": {\"colorbar\": {\"outlinewidth\": 0, \"ticks\": \"\"}}, \"type\": \"scatterpolar\"}], \"scatterpolargl\": [{\"marker\": {\"colorbar\": {\"outlinewidth\": 0, \"ticks\": \"\"}}, \"type\": \"scatterpolargl\"}], \"scatterternary\": [{\"marker\": {\"colorbar\": {\"outlinewidth\": 0, \"ticks\": \"\"}}, \"type\": \"scatterternary\"}], \"surface\": [{\"colorbar\": {\"outlinewidth\": 0, \"ticks\": \"\"}, \"colorscale\": [[0.0, \"#0d0887\"], [0.1111111111111111, \"#46039f\"], [0.2222222222222222, \"#7201a8\"], [0.3333333333333333, \"#9c179e\"], [0.4444444444444444, \"#bd3786\"], [0.5555555555555556, \"#d8576b\"], [0.6666666666666666, \"#ed7953\"], [0.7777777777777778, \"#fb9f3a\"], [0.8888888888888888, \"#fdca26\"], [1.0, \"#f0f921\"]], \"type\": \"surface\"}], \"table\": [{\"cells\": {\"fill\": {\"color\": \"#EBF0F8\"}, \"line\": {\"color\": \"white\"}}, \"header\": {\"fill\": {\"color\": \"#C8D4E3\"}, \"line\": {\"color\": \"white\"}}, \"type\": \"table\"}]}, \"layout\": {\"annotationdefaults\": {\"arrowcolor\": \"#2a3f5f\", \"arrowhead\": 0, \"arrowwidth\": 1}, \"coloraxis\": {\"colorbar\": {\"outlinewidth\": 0, \"ticks\": \"\"}}, \"colorscale\": {\"diverging\": [[0, \"#8e0152\"], [0.1, \"#c51b7d\"], [0.2, \"#de77ae\"], [0.3, \"#f1b6da\"], [0.4, \"#fde0ef\"], [0.5, \"#f7f7f7\"], [0.6, \"#e6f5d0\"], [0.7, \"#b8e186\"], [0.8, \"#7fbc41\"], [0.9, \"#4d9221\"], [1, \"#276419\"]], \"sequential\": [[0.0, \"#0d0887\"], [0.1111111111111111, \"#46039f\"], [0.2222222222222222, \"#7201a8\"], [0.3333333333333333, \"#9c179e\"], [0.4444444444444444, \"#bd3786\"], [0.5555555555555556, \"#d8576b\"], [0.6666666666666666, \"#ed7953\"], [0.7777777777777778, \"#fb9f3a\"], [0.8888888888888888, \"#fdca26\"], [1.0, \"#f0f921\"]], \"sequentialminus\": [[0.0, \"#0d0887\"], [0.1111111111111111, \"#46039f\"], [0.2222222222222222, \"#7201a8\"], [0.3333333333333333, \"#9c179e\"], [0.4444444444444444, \"#bd3786\"], [0.5555555555555556, \"#d8576b\"], [0.6666666666666666, \"#ed7953\"], [0.7777777777777778, \"#fb9f3a\"], [0.8888888888888888, \"#fdca26\"], [1.0, \"#f0f921\"]]}, \"colorway\": [\"#636efa\", \"#EF553B\", \"#00cc96\", \"#ab63fa\", \"#FFA15A\", \"#19d3f3\", \"#FF6692\", \"#B6E880\", \"#FF97FF\", \"#FECB52\"], \"font\": {\"color\": \"#2a3f5f\"}, \"geo\": {\"bgcolor\": \"white\", \"lakecolor\": \"white\", \"landcolor\": \"#E5ECF6\", \"showlakes\": true, \"showland\": true, \"subunitcolor\": \"white\"}, \"hoverlabel\": {\"align\": \"left\"}, \"hovermode\": \"closest\", \"mapbox\": {\"style\": \"light\"}, \"paper_bgcolor\": \"white\", \"plot_bgcolor\": \"#E5ECF6\", \"polar\": {\"angularaxis\": {\"gridcolor\": \"white\", \"linecolor\": \"white\", \"ticks\": \"\"}, \"bgcolor\": \"#E5ECF6\", \"radialaxis\": {\"gridcolor\": \"white\", \"linecolor\": \"white\", \"ticks\": \"\"}}, \"scene\": {\"xaxis\": {\"backgroundcolor\": \"#E5ECF6\", \"gridcolor\": \"white\", \"gridwidth\": 2, \"linecolor\": \"white\", \"showbackground\": true, \"ticks\": \"\", \"zerolinecolor\": \"white\"}, \"yaxis\": {\"backgroundcolor\": \"#E5ECF6\", \"gridcolor\": \"white\", \"gridwidth\": 2, \"linecolor\": \"white\", \"showbackground\": true, \"ticks\": \"\", \"zerolinecolor\": \"white\"}, \"zaxis\": {\"backgroundcolor\": \"#E5ECF6\", \"gridcolor\": \"white\", \"gridwidth\": 2, \"linecolor\": \"white\", \"showbackground\": true, \"ticks\": \"\", \"zerolinecolor\": \"white\"}}, \"shapedefaults\": {\"line\": {\"color\": \"#2a3f5f\"}}, \"ternary\": {\"aaxis\": {\"gridcolor\": \"white\", \"linecolor\": \"white\", \"ticks\": \"\"}, \"baxis\": {\"gridcolor\": \"white\", \"linecolor\": \"white\", \"ticks\": \"\"}, \"bgcolor\": \"#E5ECF6\", \"caxis\": {\"gridcolor\": \"white\", \"linecolor\": \"white\", \"ticks\": \"\"}}, \"title\": {\"x\": 0.05}, \"xaxis\": {\"automargin\": true, \"gridcolor\": \"white\", \"linecolor\": \"white\", \"ticks\": \"\", \"title\": {\"standoff\": 15}, \"zerolinecolor\": \"white\", \"zerolinewidth\": 2}, \"yaxis\": {\"automargin\": true, \"gridcolor\": \"white\", \"linecolor\": \"white\", \"ticks\": \"\", \"title\": {\"standoff\": 15}, \"zerolinecolor\": \"white\", \"zerolinewidth\": 2}}}, \"title\": {\"font\": {\"color\": \"#4D5663\"}}, \"xaxis\": {\"gridcolor\": \"#E1E5ED\", \"showgrid\": true, \"tickfont\": {\"color\": \"#4D5663\"}, \"title\": {\"font\": {\"color\": \"#4D5663\"}, \"text\": \"\"}, \"zerolinecolor\": \"#E1E5ED\"}, \"yaxis\": {\"gridcolor\": \"#E1E5ED\", \"showgrid\": true, \"tickfont\": {\"color\": \"#4D5663\"}, \"title\": {\"font\": {\"color\": \"#4D5663\"}, \"text\": \"\"}, \"zerolinecolor\": \"#E1E5ED\"}},\n",
       "                        {\"showLink\": true, \"linkText\": \"Export to plot.ly\", \"plotlyServerURL\": \"https://plot.ly\", \"responsive\": true}\n",
       "                    ).then(function(){\n",
       "                            \n",
       "var gd = document.getElementById('5caaa17a-d90f-49a7-a1da-2b78c54ecabc');\n",
       "var x = new MutationObserver(function (mutations, observer) {{\n",
       "        var display = window.getComputedStyle(gd).display;\n",
       "        if (!display || display === 'none') {{\n",
       "            console.log([gd, 'removed!']);\n",
       "            Plotly.purge(gd);\n",
       "            observer.disconnect();\n",
       "        }}\n",
       "}});\n",
       "\n",
       "// Listen for the removal of the full notebook cells\n",
       "var notebookContainer = gd.closest('#notebook-container');\n",
       "if (notebookContainer) {{\n",
       "    x.observe(notebookContainer, {childList: true});\n",
       "}}\n",
       "\n",
       "// Listen for the clearing of the current output cell\n",
       "var outputEl = gd.closest('.output');\n",
       "if (outputEl) {{\n",
       "    x.observe(outputEl, {childList: true});\n",
       "}}\n",
       "\n",
       "                        })\n",
       "                };\n",
       "                });\n",
       "            </script>\n",
       "        </div>"
      ]
     },
     "metadata": {},
     "output_type": "display_data"
    }
   ],
   "source": [
    "#overlapping since we used all of the columns but we can filter out\n",
    "\n",
    "df.iplot(kind ='hist', bins = 50)"
   ]
  },
  {
   "cell_type": "code",
   "execution_count": 51,
   "metadata": {},
   "outputs": [
    {
     "data": {
      "text/html": [
       "<div>\n",
       "<style scoped>\n",
       "    .dataframe tbody tr th:only-of-type {\n",
       "        vertical-align: middle;\n",
       "    }\n",
       "\n",
       "    .dataframe tbody tr th {\n",
       "        vertical-align: top;\n",
       "    }\n",
       "\n",
       "    .dataframe thead th {\n",
       "        text-align: right;\n",
       "    }\n",
       "</style>\n",
       "<table border=\"1\" class=\"dataframe\">\n",
       "  <thead>\n",
       "    <tr style=\"text-align: right;\">\n",
       "      <th></th>\n",
       "      <th>A</th>\n",
       "      <th>B</th>\n",
       "      <th>C</th>\n",
       "      <th>D</th>\n",
       "    </tr>\n",
       "  </thead>\n",
       "  <tbody>\n",
       "    <tr>\n",
       "      <th>0</th>\n",
       "      <td>1.204374</td>\n",
       "      <td>0.288839</td>\n",
       "      <td>0.934370</td>\n",
       "      <td>-0.805884</td>\n",
       "    </tr>\n",
       "    <tr>\n",
       "      <th>1</th>\n",
       "      <td>-0.369068</td>\n",
       "      <td>-0.969609</td>\n",
       "      <td>0.617318</td>\n",
       "      <td>0.979708</td>\n",
       "    </tr>\n",
       "    <tr>\n",
       "      <th>2</th>\n",
       "      <td>-0.812241</td>\n",
       "      <td>0.324003</td>\n",
       "      <td>-1.063929</td>\n",
       "      <td>0.637964</td>\n",
       "    </tr>\n",
       "    <tr>\n",
       "      <th>3</th>\n",
       "      <td>1.399770</td>\n",
       "      <td>-2.027522</td>\n",
       "      <td>-0.338596</td>\n",
       "      <td>1.454833</td>\n",
       "    </tr>\n",
       "    <tr>\n",
       "      <th>4</th>\n",
       "      <td>-1.060788</td>\n",
       "      <td>0.147268</td>\n",
       "      <td>0.506690</td>\n",
       "      <td>-2.335484</td>\n",
       "    </tr>\n",
       "    <tr>\n",
       "      <th>5</th>\n",
       "      <td>0.551574</td>\n",
       "      <td>0.678991</td>\n",
       "      <td>0.295748</td>\n",
       "      <td>-0.662377</td>\n",
       "    </tr>\n",
       "    <tr>\n",
       "      <th>6</th>\n",
       "      <td>0.140619</td>\n",
       "      <td>0.808264</td>\n",
       "      <td>0.526389</td>\n",
       "      <td>0.753570</td>\n",
       "    </tr>\n",
       "    <tr>\n",
       "      <th>7</th>\n",
       "      <td>0.169836</td>\n",
       "      <td>-1.785646</td>\n",
       "      <td>-0.322764</td>\n",
       "      <td>-0.623608</td>\n",
       "    </tr>\n",
       "    <tr>\n",
       "      <th>8</th>\n",
       "      <td>-0.557086</td>\n",
       "      <td>-1.104843</td>\n",
       "      <td>-0.017921</td>\n",
       "      <td>1.586355</td>\n",
       "    </tr>\n",
       "    <tr>\n",
       "      <th>9</th>\n",
       "      <td>1.401481</td>\n",
       "      <td>-0.460278</td>\n",
       "      <td>-1.775083</td>\n",
       "      <td>0.550166</td>\n",
       "    </tr>\n",
       "    <tr>\n",
       "      <th>10</th>\n",
       "      <td>-0.227357</td>\n",
       "      <td>-2.153769</td>\n",
       "      <td>-1.443774</td>\n",
       "      <td>0.554455</td>\n",
       "    </tr>\n",
       "    <tr>\n",
       "      <th>11</th>\n",
       "      <td>-0.270823</td>\n",
       "      <td>0.159455</td>\n",
       "      <td>0.073299</td>\n",
       "      <td>-0.802644</td>\n",
       "    </tr>\n",
       "    <tr>\n",
       "      <th>12</th>\n",
       "      <td>-0.061951</td>\n",
       "      <td>-1.301899</td>\n",
       "      <td>1.202571</td>\n",
       "      <td>-1.341011</td>\n",
       "    </tr>\n",
       "    <tr>\n",
       "      <th>13</th>\n",
       "      <td>-0.239384</td>\n",
       "      <td>0.602545</td>\n",
       "      <td>0.516844</td>\n",
       "      <td>-0.154325</td>\n",
       "    </tr>\n",
       "    <tr>\n",
       "      <th>14</th>\n",
       "      <td>1.108929</td>\n",
       "      <td>0.258735</td>\n",
       "      <td>-0.098825</td>\n",
       "      <td>0.586925</td>\n",
       "    </tr>\n",
       "    <tr>\n",
       "      <th>15</th>\n",
       "      <td>1.588522</td>\n",
       "      <td>0.802775</td>\n",
       "      <td>1.244421</td>\n",
       "      <td>2.186201</td>\n",
       "    </tr>\n",
       "    <tr>\n",
       "      <th>16</th>\n",
       "      <td>-0.235600</td>\n",
       "      <td>0.354549</td>\n",
       "      <td>0.491782</td>\n",
       "      <td>-0.859645</td>\n",
       "    </tr>\n",
       "    <tr>\n",
       "      <th>17</th>\n",
       "      <td>-0.806345</td>\n",
       "      <td>-0.455245</td>\n",
       "      <td>0.196590</td>\n",
       "      <td>0.229035</td>\n",
       "    </tr>\n",
       "    <tr>\n",
       "      <th>18</th>\n",
       "      <td>0.138132</td>\n",
       "      <td>-0.812091</td>\n",
       "      <td>0.168559</td>\n",
       "      <td>-1.952784</td>\n",
       "    </tr>\n",
       "    <tr>\n",
       "      <th>19</th>\n",
       "      <td>-0.638074</td>\n",
       "      <td>-0.444477</td>\n",
       "      <td>1.108497</td>\n",
       "      <td>-0.710647</td>\n",
       "    </tr>\n",
       "    <tr>\n",
       "      <th>20</th>\n",
       "      <td>-1.333153</td>\n",
       "      <td>0.361421</td>\n",
       "      <td>-0.567559</td>\n",
       "      <td>0.987965</td>\n",
       "    </tr>\n",
       "    <tr>\n",
       "      <th>21</th>\n",
       "      <td>-0.129711</td>\n",
       "      <td>1.006646</td>\n",
       "      <td>-0.309526</td>\n",
       "      <td>0.439896</td>\n",
       "    </tr>\n",
       "    <tr>\n",
       "      <th>22</th>\n",
       "      <td>-0.101881</td>\n",
       "      <td>2.114696</td>\n",
       "      <td>-0.710246</td>\n",
       "      <td>0.887998</td>\n",
       "    </tr>\n",
       "    <tr>\n",
       "      <th>23</th>\n",
       "      <td>-0.303613</td>\n",
       "      <td>0.386786</td>\n",
       "      <td>1.167150</td>\n",
       "      <td>0.301014</td>\n",
       "    </tr>\n",
       "    <tr>\n",
       "      <th>24</th>\n",
       "      <td>0.164976</td>\n",
       "      <td>0.309763</td>\n",
       "      <td>-0.528460</td>\n",
       "      <td>-1.126983</td>\n",
       "    </tr>\n",
       "    <tr>\n",
       "      <th>25</th>\n",
       "      <td>2.183144</td>\n",
       "      <td>0.253048</td>\n",
       "      <td>1.724342</td>\n",
       "      <td>1.637714</td>\n",
       "    </tr>\n",
       "    <tr>\n",
       "      <th>26</th>\n",
       "      <td>-0.784380</td>\n",
       "      <td>-0.485302</td>\n",
       "      <td>-0.168676</td>\n",
       "      <td>2.194841</td>\n",
       "    </tr>\n",
       "    <tr>\n",
       "      <th>27</th>\n",
       "      <td>-0.739547</td>\n",
       "      <td>-0.426647</td>\n",
       "      <td>-0.752994</td>\n",
       "      <td>2.135124</td>\n",
       "    </tr>\n",
       "    <tr>\n",
       "      <th>28</th>\n",
       "      <td>-0.527747</td>\n",
       "      <td>1.057483</td>\n",
       "      <td>1.471456</td>\n",
       "      <td>0.741042</td>\n",
       "    </tr>\n",
       "    <tr>\n",
       "      <th>29</th>\n",
       "      <td>1.173425</td>\n",
       "      <td>0.072783</td>\n",
       "      <td>-0.315605</td>\n",
       "      <td>0.102504</td>\n",
       "    </tr>\n",
       "    <tr>\n",
       "      <th>...</th>\n",
       "      <td>...</td>\n",
       "      <td>...</td>\n",
       "      <td>...</td>\n",
       "      <td>...</td>\n",
       "    </tr>\n",
       "    <tr>\n",
       "      <th>70</th>\n",
       "      <td>0.609800</td>\n",
       "      <td>1.022023</td>\n",
       "      <td>-1.189190</td>\n",
       "      <td>0.220065</td>\n",
       "    </tr>\n",
       "    <tr>\n",
       "      <th>71</th>\n",
       "      <td>0.806136</td>\n",
       "      <td>-2.199761</td>\n",
       "      <td>1.303987</td>\n",
       "      <td>0.552811</td>\n",
       "    </tr>\n",
       "    <tr>\n",
       "      <th>72</th>\n",
       "      <td>-0.977577</td>\n",
       "      <td>0.093508</td>\n",
       "      <td>-0.929078</td>\n",
       "      <td>0.037988</td>\n",
       "    </tr>\n",
       "    <tr>\n",
       "      <th>73</th>\n",
       "      <td>1.918647</td>\n",
       "      <td>0.050408</td>\n",
       "      <td>1.594962</td>\n",
       "      <td>-0.033497</td>\n",
       "    </tr>\n",
       "    <tr>\n",
       "      <th>74</th>\n",
       "      <td>-1.386351</td>\n",
       "      <td>2.190592</td>\n",
       "      <td>1.317264</td>\n",
       "      <td>0.656175</td>\n",
       "    </tr>\n",
       "    <tr>\n",
       "      <th>75</th>\n",
       "      <td>-1.729432</td>\n",
       "      <td>-0.237478</td>\n",
       "      <td>-0.739346</td>\n",
       "      <td>-1.296630</td>\n",
       "    </tr>\n",
       "    <tr>\n",
       "      <th>76</th>\n",
       "      <td>-0.181843</td>\n",
       "      <td>1.047876</td>\n",
       "      <td>-0.283641</td>\n",
       "      <td>-0.993988</td>\n",
       "    </tr>\n",
       "    <tr>\n",
       "      <th>77</th>\n",
       "      <td>-0.186134</td>\n",
       "      <td>-0.433741</td>\n",
       "      <td>0.395006</td>\n",
       "      <td>-2.481178</td>\n",
       "    </tr>\n",
       "    <tr>\n",
       "      <th>78</th>\n",
       "      <td>0.585747</td>\n",
       "      <td>0.204928</td>\n",
       "      <td>-0.198782</td>\n",
       "      <td>0.516374</td>\n",
       "    </tr>\n",
       "    <tr>\n",
       "      <th>79</th>\n",
       "      <td>-0.342377</td>\n",
       "      <td>2.383122</td>\n",
       "      <td>-0.015157</td>\n",
       "      <td>-0.850951</td>\n",
       "    </tr>\n",
       "    <tr>\n",
       "      <th>80</th>\n",
       "      <td>0.357129</td>\n",
       "      <td>-0.680213</td>\n",
       "      <td>-1.023313</td>\n",
       "      <td>0.185217</td>\n",
       "    </tr>\n",
       "    <tr>\n",
       "      <th>81</th>\n",
       "      <td>0.006789</td>\n",
       "      <td>0.954519</td>\n",
       "      <td>-0.904447</td>\n",
       "      <td>0.400970</td>\n",
       "    </tr>\n",
       "    <tr>\n",
       "      <th>82</th>\n",
       "      <td>-3.212592</td>\n",
       "      <td>-1.559533</td>\n",
       "      <td>1.130534</td>\n",
       "      <td>0.092847</td>\n",
       "    </tr>\n",
       "    <tr>\n",
       "      <th>83</th>\n",
       "      <td>-0.558499</td>\n",
       "      <td>-0.270273</td>\n",
       "      <td>0.664796</td>\n",
       "      <td>0.666214</td>\n",
       "    </tr>\n",
       "    <tr>\n",
       "      <th>84</th>\n",
       "      <td>-0.375388</td>\n",
       "      <td>0.223782</td>\n",
       "      <td>1.316164</td>\n",
       "      <td>0.380450</td>\n",
       "    </tr>\n",
       "    <tr>\n",
       "      <th>85</th>\n",
       "      <td>0.472293</td>\n",
       "      <td>-0.186398</td>\n",
       "      <td>1.555572</td>\n",
       "      <td>-0.676427</td>\n",
       "    </tr>\n",
       "    <tr>\n",
       "      <th>86</th>\n",
       "      <td>-2.363151</td>\n",
       "      <td>-0.479697</td>\n",
       "      <td>0.092607</td>\n",
       "      <td>-1.959049</td>\n",
       "    </tr>\n",
       "    <tr>\n",
       "      <th>87</th>\n",
       "      <td>-0.654216</td>\n",
       "      <td>0.449483</td>\n",
       "      <td>1.364534</td>\n",
       "      <td>0.070275</td>\n",
       "    </tr>\n",
       "    <tr>\n",
       "      <th>88</th>\n",
       "      <td>0.032211</td>\n",
       "      <td>-0.323963</td>\n",
       "      <td>-1.216922</td>\n",
       "      <td>-0.986840</td>\n",
       "    </tr>\n",
       "    <tr>\n",
       "      <th>89</th>\n",
       "      <td>-1.138464</td>\n",
       "      <td>0.122992</td>\n",
       "      <td>-0.703561</td>\n",
       "      <td>0.485763</td>\n",
       "    </tr>\n",
       "    <tr>\n",
       "      <th>90</th>\n",
       "      <td>0.162318</td>\n",
       "      <td>-0.295523</td>\n",
       "      <td>-0.522606</td>\n",
       "      <td>0.964965</td>\n",
       "    </tr>\n",
       "    <tr>\n",
       "      <th>91</th>\n",
       "      <td>0.416690</td>\n",
       "      <td>-0.066930</td>\n",
       "      <td>-1.440311</td>\n",
       "      <td>0.018040</td>\n",
       "    </tr>\n",
       "    <tr>\n",
       "      <th>92</th>\n",
       "      <td>-0.180515</td>\n",
       "      <td>-0.366735</td>\n",
       "      <td>-0.508275</td>\n",
       "      <td>0.371143</td>\n",
       "    </tr>\n",
       "    <tr>\n",
       "      <th>93</th>\n",
       "      <td>-0.156687</td>\n",
       "      <td>-1.164388</td>\n",
       "      <td>-0.452467</td>\n",
       "      <td>1.886951</td>\n",
       "    </tr>\n",
       "    <tr>\n",
       "      <th>94</th>\n",
       "      <td>0.084814</td>\n",
       "      <td>0.899541</td>\n",
       "      <td>-0.899447</td>\n",
       "      <td>1.333567</td>\n",
       "    </tr>\n",
       "    <tr>\n",
       "      <th>95</th>\n",
       "      <td>0.631594</td>\n",
       "      <td>-1.063097</td>\n",
       "      <td>-0.803804</td>\n",
       "      <td>2.177845</td>\n",
       "    </tr>\n",
       "    <tr>\n",
       "      <th>96</th>\n",
       "      <td>0.498116</td>\n",
       "      <td>-2.257829</td>\n",
       "      <td>-1.668595</td>\n",
       "      <td>-1.465339</td>\n",
       "    </tr>\n",
       "    <tr>\n",
       "      <th>97</th>\n",
       "      <td>0.918792</td>\n",
       "      <td>0.172505</td>\n",
       "      <td>0.326786</td>\n",
       "      <td>-1.572896</td>\n",
       "    </tr>\n",
       "    <tr>\n",
       "      <th>98</th>\n",
       "      <td>-0.452358</td>\n",
       "      <td>-2.077141</td>\n",
       "      <td>0.558188</td>\n",
       "      <td>-0.162296</td>\n",
       "    </tr>\n",
       "    <tr>\n",
       "      <th>99</th>\n",
       "      <td>-0.188362</td>\n",
       "      <td>-1.498269</td>\n",
       "      <td>1.252592</td>\n",
       "      <td>-0.703897</td>\n",
       "    </tr>\n",
       "  </tbody>\n",
       "</table>\n",
       "<p>100 rows × 4 columns</p>\n",
       "</div>"
      ],
      "text/plain": [
       "           A         B         C         D\n",
       "0   1.204374  0.288839  0.934370 -0.805884\n",
       "1  -0.369068 -0.969609  0.617318  0.979708\n",
       "2  -0.812241  0.324003 -1.063929  0.637964\n",
       "3   1.399770 -2.027522 -0.338596  1.454833\n",
       "4  -1.060788  0.147268  0.506690 -2.335484\n",
       "5   0.551574  0.678991  0.295748 -0.662377\n",
       "6   0.140619  0.808264  0.526389  0.753570\n",
       "7   0.169836 -1.785646 -0.322764 -0.623608\n",
       "8  -0.557086 -1.104843 -0.017921  1.586355\n",
       "9   1.401481 -0.460278 -1.775083  0.550166\n",
       "10 -0.227357 -2.153769 -1.443774  0.554455\n",
       "11 -0.270823  0.159455  0.073299 -0.802644\n",
       "12 -0.061951 -1.301899  1.202571 -1.341011\n",
       "13 -0.239384  0.602545  0.516844 -0.154325\n",
       "14  1.108929  0.258735 -0.098825  0.586925\n",
       "15  1.588522  0.802775  1.244421  2.186201\n",
       "16 -0.235600  0.354549  0.491782 -0.859645\n",
       "17 -0.806345 -0.455245  0.196590  0.229035\n",
       "18  0.138132 -0.812091  0.168559 -1.952784\n",
       "19 -0.638074 -0.444477  1.108497 -0.710647\n",
       "20 -1.333153  0.361421 -0.567559  0.987965\n",
       "21 -0.129711  1.006646 -0.309526  0.439896\n",
       "22 -0.101881  2.114696 -0.710246  0.887998\n",
       "23 -0.303613  0.386786  1.167150  0.301014\n",
       "24  0.164976  0.309763 -0.528460 -1.126983\n",
       "25  2.183144  0.253048  1.724342  1.637714\n",
       "26 -0.784380 -0.485302 -0.168676  2.194841\n",
       "27 -0.739547 -0.426647 -0.752994  2.135124\n",
       "28 -0.527747  1.057483  1.471456  0.741042\n",
       "29  1.173425  0.072783 -0.315605  0.102504\n",
       "..       ...       ...       ...       ...\n",
       "70  0.609800  1.022023 -1.189190  0.220065\n",
       "71  0.806136 -2.199761  1.303987  0.552811\n",
       "72 -0.977577  0.093508 -0.929078  0.037988\n",
       "73  1.918647  0.050408  1.594962 -0.033497\n",
       "74 -1.386351  2.190592  1.317264  0.656175\n",
       "75 -1.729432 -0.237478 -0.739346 -1.296630\n",
       "76 -0.181843  1.047876 -0.283641 -0.993988\n",
       "77 -0.186134 -0.433741  0.395006 -2.481178\n",
       "78  0.585747  0.204928 -0.198782  0.516374\n",
       "79 -0.342377  2.383122 -0.015157 -0.850951\n",
       "80  0.357129 -0.680213 -1.023313  0.185217\n",
       "81  0.006789  0.954519 -0.904447  0.400970\n",
       "82 -3.212592 -1.559533  1.130534  0.092847\n",
       "83 -0.558499 -0.270273  0.664796  0.666214\n",
       "84 -0.375388  0.223782  1.316164  0.380450\n",
       "85  0.472293 -0.186398  1.555572 -0.676427\n",
       "86 -2.363151 -0.479697  0.092607 -1.959049\n",
       "87 -0.654216  0.449483  1.364534  0.070275\n",
       "88  0.032211 -0.323963 -1.216922 -0.986840\n",
       "89 -1.138464  0.122992 -0.703561  0.485763\n",
       "90  0.162318 -0.295523 -0.522606  0.964965\n",
       "91  0.416690 -0.066930 -1.440311  0.018040\n",
       "92 -0.180515 -0.366735 -0.508275  0.371143\n",
       "93 -0.156687 -1.164388 -0.452467  1.886951\n",
       "94  0.084814  0.899541 -0.899447  1.333567\n",
       "95  0.631594 -1.063097 -0.803804  2.177845\n",
       "96  0.498116 -2.257829 -1.668595 -1.465339\n",
       "97  0.918792  0.172505  0.326786 -1.572896\n",
       "98 -0.452358 -2.077141  0.558188 -0.162296\n",
       "99 -0.188362 -1.498269  1.252592 -0.703897\n",
       "\n",
       "[100 rows x 4 columns]"
      ]
     },
     "execution_count": 51,
     "metadata": {},
     "output_type": "execute_result"
    }
   ],
   "source": [
    "df"
   ]
  },
  {
   "cell_type": "code",
   "execution_count": 50,
   "metadata": {},
   "outputs": [
    {
     "data": {
      "application/vnd.plotly.v1+json": {
       "config": {
        "linkText": "Export to plot.ly",
        "plotlyServerURL": "https://plot.ly",
        "showLink": true
       },
       "data": [
        {
         "line": {
          "color": "rgba(255, 153, 51, 1.0)",
          "dash": "solid",
          "shape": "linear",
          "width": 1.3
         },
         "mode": "lines",
         "name": "A",
         "text": "",
         "type": "scatter",
         "x": [
          0,
          1,
          2,
          3,
          4,
          5,
          6,
          7,
          8,
          9,
          10,
          11,
          12,
          13,
          14,
          15,
          16,
          17,
          18,
          19,
          20,
          21,
          22,
          23,
          24,
          25,
          26,
          27,
          28,
          29,
          30,
          31,
          32,
          33,
          34,
          35,
          36,
          37,
          38,
          39,
          40,
          41,
          42,
          43,
          44,
          45,
          46,
          47,
          48,
          49,
          50,
          51,
          52,
          53,
          54,
          55,
          56,
          57,
          58,
          59,
          60,
          61,
          62,
          63,
          64,
          65,
          66,
          67,
          68,
          69,
          70,
          71,
          72,
          73,
          74,
          75,
          76,
          77,
          78,
          79,
          80,
          81,
          82,
          83,
          84,
          85,
          86,
          87,
          88,
          89,
          90,
          91,
          92,
          93,
          94,
          95,
          96,
          97,
          98,
          99
         ],
         "y": [
          1.204374223794343,
          -0.36906833924077637,
          -0.8122413394730359,
          1.3997697154739082,
          -1.060788107444831,
          0.5515735422646244,
          0.14061940746164717,
          0.16983560391476102,
          -0.5570859045323824,
          1.401481283250656,
          -0.22735734650862433,
          -0.2708226895595077,
          -0.061950652045331865,
          -0.23938387027733657,
          1.108929431106888,
          1.5885217800040747,
          -0.23559972372649096,
          -0.8063452712749882,
          0.13813159002450978,
          -0.6380738291099499,
          -1.3331534209046985,
          -0.1297105180803108,
          -0.10188136335052575,
          -0.30361318214471156,
          0.16497636748164915,
          2.183144065787738,
          -0.7843797606187034,
          -0.7395470414853026,
          -0.527746573443475,
          1.1734247890807368,
          -0.4277744368396613,
          1.586083786095986,
          -0.5946807669553307,
          1.1091000750587032,
          -2.2431426226953897,
          1.0511348504249087,
          -1.7084854938366552,
          0.3848496070527757,
          0.02319587782161051,
          -1.5614243800488814,
          -0.49612500584776853,
          0.36651695375891874,
          -1.9325653893667134,
          -0.009736954747299615,
          0.5770681622022307,
          -1.798736202311587,
          -1.4731317977982321,
          0.9207786842892908,
          -1.4109451145958787,
          1.474614654368594,
          -1.151126450220308,
          1.0959490386459758,
          0.7132001708734125,
          1.5389324759551382,
          -0.3437764307427175,
          -0.1398678689458212,
          -0.5692961334275359,
          -0.3876239117207527,
          2.1646360720109534,
          -0.8575609675505435,
          -0.12246755380214738,
          -0.35793397267560856,
          0.6760702797677335,
          0.6859757866029638,
          1.2172949175056056,
          3.0190435916527885,
          -0.49318883868647506,
          -1.4621624134879483,
          -0.018015512803250384,
          1.0663682852882106,
          0.6097999035722868,
          0.8061363870535981,
          -0.9775765064326202,
          1.9186469222357772,
          -1.3863509250475359,
          -1.729431686804565,
          -0.18184271399933602,
          -0.18613439383574115,
          0.5857466322063433,
          -0.34237696433466347,
          0.3571290493876967,
          0.006789251745769943,
          -3.2125921573829657,
          -0.5584989724527796,
          -0.3753882921486149,
          0.4722926040135994,
          -2.363150670854163,
          -0.6542164839532234,
          0.032211397087431724,
          -1.138463704994325,
          0.16231793129177194,
          0.4166899662658287,
          -0.18051501338281437,
          -0.15668668070654856,
          0.0848144483366338,
          0.6315939404556832,
          0.49811604910354135,
          0.9187915032050765,
          -0.45235784878744706,
          -0.18836177542466803
         ]
        },
        {
         "line": {
          "color": "rgba(55, 128, 191, 1.0)",
          "dash": "solid",
          "shape": "linear",
          "width": 1.3
         },
         "mode": "lines",
         "name": "B",
         "text": "",
         "type": "scatter",
         "x": [
          0,
          1,
          2,
          3,
          4,
          5,
          6,
          7,
          8,
          9,
          10,
          11,
          12,
          13,
          14,
          15,
          16,
          17,
          18,
          19,
          20,
          21,
          22,
          23,
          24,
          25,
          26,
          27,
          28,
          29,
          30,
          31,
          32,
          33,
          34,
          35,
          36,
          37,
          38,
          39,
          40,
          41,
          42,
          43,
          44,
          45,
          46,
          47,
          48,
          49,
          50,
          51,
          52,
          53,
          54,
          55,
          56,
          57,
          58,
          59,
          60,
          61,
          62,
          63,
          64,
          65,
          66,
          67,
          68,
          69,
          70,
          71,
          72,
          73,
          74,
          75,
          76,
          77,
          78,
          79,
          80,
          81,
          82,
          83,
          84,
          85,
          86,
          87,
          88,
          89,
          90,
          91,
          92,
          93,
          94,
          95,
          96,
          97,
          98,
          99
         ],
         "y": [
          0.28883879264521045,
          -0.9696091384577731,
          0.3240029375457199,
          -2.0275223864420986,
          0.14726848424825328,
          0.678991256631577,
          0.8082635732754649,
          -1.7856463481517608,
          -1.104842817878926,
          -0.46027812161661064,
          -2.1537687431575328,
          0.15945482476116415,
          -1.3018992475704751,
          0.6025453549513595,
          0.2587350592374064,
          0.8027749160485882,
          0.35454868506569975,
          -0.4552450279185263,
          -0.8120909393883892,
          -0.4444774282124728,
          0.36142121866382554,
          1.0066457905843325,
          2.1146963668436967,
          0.3867859557004427,
          0.30976253103714385,
          0.25304790269208116,
          -0.4853018821573321,
          -0.4266472311732564,
          1.0574834426305726,
          0.0727828918106895,
          0.6387061611541429,
          0.35282443058578244,
          1.2613356031803376,
          1.9112868409358335,
          0.35270908010673824,
          0.33830107746460486,
          0.9661583398721716,
          0.7409660674911244,
          -1.0132490082439065,
          1.1381430753784794,
          0.06956837769113201,
          -0.025060573913217636,
          0.5601028658725632,
          1.1067653704904703,
          0.5381067202924643,
          -0.7979118583312437,
          0.6334157782864624,
          -0.5266080026725684,
          0.4833853733012127,
          -0.38299530376008994,
          -0.4357980040855327,
          -0.37062045661239246,
          -1.3414385587779716,
          -0.36590910152001693,
          -0.7034440798878234,
          -1.3876156954916887,
          -1.0926499669857581,
          0.5638637016453981,
          -0.3829013772219426,
          1.9157532042187086,
          0.761887728347791,
          0.8146029084065223,
          0.8231475450342212,
          0.04436894811492774,
          -1.0635463927921698,
          -0.07945247508080461,
          1.882926346755678,
          -0.20579958146507463,
          0.4168470364341955,
          0.36946234527703425,
          1.022023039989263,
          -2.199761127185428,
          0.09350752683525511,
          0.050408117632942985,
          2.190592367226769,
          -0.23747751471779366,
          1.0478758815724036,
          -0.4337413657219337,
          0.20492756400731685,
          2.3831221699587988,
          -0.6802126826044421,
          0.9545186757613414,
          -1.559532703638838,
          -0.2702728387868071,
          0.2237820300585606,
          -0.18639837634820103,
          -0.47969720470485616,
          0.44948289758789267,
          -0.3239630401170654,
          0.12299224412986517,
          -0.2955225352765806,
          -0.06693027092072842,
          -0.3667350661835663,
          -1.1643883307876375,
          0.8995409226274617,
          -1.0630968020526121,
          -2.25782917678505,
          0.17250522033490703,
          -2.0771412668361102,
          -1.498269212529484
         ]
        },
        {
         "connectgaps": false,
         "fill": "tozeroy",
         "line": {
          "color": "green",
          "dash": "solid",
          "shape": "linear",
          "width": 0.5
         },
         "mode": "lines",
         "name": "Spread",
         "showlegend": false,
         "type": "scatter",
         "x": [
          0,
          1,
          2,
          3,
          4,
          5,
          6,
          7,
          8,
          9,
          10,
          11,
          12,
          13,
          14,
          15,
          16,
          17,
          18,
          19,
          20,
          21,
          22,
          23,
          24,
          25,
          26,
          27,
          28,
          29,
          30,
          31,
          32,
          33,
          34,
          35,
          36,
          37,
          38,
          39,
          40,
          41,
          42,
          43,
          44,
          45,
          46,
          47,
          48,
          49,
          50,
          51,
          52,
          53,
          54,
          55,
          56,
          57,
          58,
          59,
          60,
          61,
          62,
          63,
          64,
          65,
          66,
          67,
          68,
          69,
          70,
          71,
          72,
          73,
          74,
          75,
          76,
          77,
          78,
          79,
          80,
          81,
          82,
          83,
          84,
          85,
          86,
          87,
          88,
          89,
          90,
          91,
          92,
          93,
          94,
          95,
          96,
          97,
          98,
          99
         ],
         "xaxis": "x2",
         "y": [
          0.9155354311491324,
          0.6005407992169967,
          "",
          3.4272921019160068,
          "",
          "",
          "",
          1.9554819520665219,
          0.5477569133465436,
          1.8617594048672665,
          1.9264113966489085,
          "",
          1.2399485955251432,
          "",
          0.8501943718694815,
          0.7857468639554865,
          "",
          "",
          0.950222529412899,
          "",
          "",
          "",
          "",
          "",
          "",
          1.9300961630956568,
          "",
          "",
          "",
          1.1006418972700474,
          "",
          1.2332593555102036,
          "",
          "",
          "",
          0.7128337729603038,
          "",
          "",
          1.036444886065517,
          "",
          "",
          0.3915775276721364,
          "",
          "",
          0.03896144190976636,
          "",
          "",
          1.4473866869618592,
          "",
          1.857609958128684,
          "",
          1.4665694952583683,
          2.054638729651384,
          1.904841577475155,
          0.3596676491451059,
          1.2477478265458675,
          0.5233538335582222,
          "",
          2.547537449232896,
          "",
          "",
          "",
          "",
          0.641606838488036,
          2.2808413102977756,
          3.0984960667335932,
          "",
          "",
          "",
          0.6969059400111763,
          "",
          3.005897514239026,
          "",
          1.8682388046028342,
          "",
          "",
          "",
          0.24760697188619257,
          0.38081906819902644,
          "",
          1.0373417319921387,
          "",
          "",
          "",
          "",
          0.6586909803618004,
          "",
          "",
          0.3561744372044971,
          "",
          0.45784046656835253,
          0.4836202371865571,
          0.18622005280075196,
          1.007701650081089,
          "",
          1.6946907425082953,
          2.755945225888591,
          0.7462862828701695,
          1.624783418048663,
          1.309907437104816
         ],
         "yaxis": "y2"
        },
        {
         "connectgaps": false,
         "fill": "tozeroy",
         "line": {
          "color": "red",
          "dash": "solid",
          "shape": "linear",
          "width": 0.5
         },
         "mode": "lines",
         "name": "Spread",
         "showlegend": false,
         "type": "scatter",
         "x": [
          0,
          1,
          2,
          3,
          4,
          5,
          6,
          7,
          8,
          9,
          10,
          11,
          12,
          13,
          14,
          15,
          16,
          17,
          18,
          19,
          20,
          21,
          22,
          23,
          24,
          25,
          26,
          27,
          28,
          29,
          30,
          31,
          32,
          33,
          34,
          35,
          36,
          37,
          38,
          39,
          40,
          41,
          42,
          43,
          44,
          45,
          46,
          47,
          48,
          49,
          50,
          51,
          52,
          53,
          54,
          55,
          56,
          57,
          58,
          59,
          60,
          61,
          62,
          63,
          64,
          65,
          66,
          67,
          68,
          69,
          70,
          71,
          72,
          73,
          74,
          75,
          76,
          77,
          78,
          79,
          80,
          81,
          82,
          83,
          84,
          85,
          86,
          87,
          88,
          89,
          90,
          91,
          92,
          93,
          94,
          95,
          96,
          97,
          98,
          99
         ],
         "xaxis": "x2",
         "y": [
          "",
          "",
          -1.1362442770187557,
          "",
          -1.2080565916930843,
          -0.1274177143669526,
          -0.6676441658138178,
          "",
          "",
          "",
          "",
          -0.43027751432067185,
          "",
          -0.8419292252286961,
          "",
          "",
          -0.5901484087921907,
          -0.35110024335646195,
          "",
          -0.1935964008974771,
          -1.694574639568524,
          -1.1363563086646433,
          -2.2165777301942224,
          -0.6903991378451543,
          -0.1447861635554947,
          "",
          -0.2990778784613713,
          -0.31289981031204617,
          -1.5852300160740476,
          "",
          -1.0664805979938041,
          "",
          -1.8560163701356682,
          -0.8021867658771302,
          -2.5958517028021277,
          "",
          -2.674643833708827,
          -0.35611646043834866,
          "",
          -2.6995674554273608,
          -0.5656933835389005,
          "",
          -2.4926682552392765,
          -1.11650232523777,
          "",
          -1.0008243439803433,
          -2.1065475760846946,
          "",
          -1.8943304878970912,
          "",
          -0.7153284461347753,
          "",
          "",
          "",
          "",
          "",
          "",
          -0.9514876133661508,
          "",
          -2.773314171769252,
          -0.8843552821499383,
          -1.1725368810821308,
          -0.14707726526648768,
          "",
          "",
          "",
          -2.376115185442153,
          -1.2563628320228737,
          -0.4348625492374459,
          "",
          -0.41222313641697617,
          "",
          -1.0710840332678753,
          "",
          -3.576943292274305,
          -1.4919541720867713,
          -1.2297185955717396,
          "",
          "",
          -2.7254991342934622,
          "",
          -0.9477294240155715,
          -1.6530594537441277,
          -0.2882261336659725,
          -0.5991703222071755,
          "",
          -1.8834534661493068,
          -1.103699381541116,
          "",
          -1.2614559491241901,
          "",
          "",
          "",
          "",
          -0.8147264742908279,
          "",
          "",
          "",
          "",
          ""
         ],
         "yaxis": "y2"
        }
       ],
       "layout": {
        "hovermode": "x",
        "legend": {
         "bgcolor": "#F5F6F9",
         "font": {
          "color": "#4D5663"
         }
        },
        "paper_bgcolor": "#F5F6F9",
        "plot_bgcolor": "#F5F6F9",
        "template": {
         "data": {
          "bar": [
           {
            "error_x": {
             "color": "#2a3f5f"
            },
            "error_y": {
             "color": "#2a3f5f"
            },
            "marker": {
             "line": {
              "color": "#E5ECF6",
              "width": 0.5
             }
            },
            "type": "bar"
           }
          ],
          "barpolar": [
           {
            "marker": {
             "line": {
              "color": "#E5ECF6",
              "width": 0.5
             }
            },
            "type": "barpolar"
           }
          ],
          "carpet": [
           {
            "aaxis": {
             "endlinecolor": "#2a3f5f",
             "gridcolor": "white",
             "linecolor": "white",
             "minorgridcolor": "white",
             "startlinecolor": "#2a3f5f"
            },
            "baxis": {
             "endlinecolor": "#2a3f5f",
             "gridcolor": "white",
             "linecolor": "white",
             "minorgridcolor": "white",
             "startlinecolor": "#2a3f5f"
            },
            "type": "carpet"
           }
          ],
          "choropleth": [
           {
            "colorbar": {
             "outlinewidth": 0,
             "ticks": ""
            },
            "type": "choropleth"
           }
          ],
          "contour": [
           {
            "colorbar": {
             "outlinewidth": 0,
             "ticks": ""
            },
            "colorscale": [
             [
              0,
              "#0d0887"
             ],
             [
              0.1111111111111111,
              "#46039f"
             ],
             [
              0.2222222222222222,
              "#7201a8"
             ],
             [
              0.3333333333333333,
              "#9c179e"
             ],
             [
              0.4444444444444444,
              "#bd3786"
             ],
             [
              0.5555555555555556,
              "#d8576b"
             ],
             [
              0.6666666666666666,
              "#ed7953"
             ],
             [
              0.7777777777777778,
              "#fb9f3a"
             ],
             [
              0.8888888888888888,
              "#fdca26"
             ],
             [
              1,
              "#f0f921"
             ]
            ],
            "type": "contour"
           }
          ],
          "contourcarpet": [
           {
            "colorbar": {
             "outlinewidth": 0,
             "ticks": ""
            },
            "type": "contourcarpet"
           }
          ],
          "heatmap": [
           {
            "colorbar": {
             "outlinewidth": 0,
             "ticks": ""
            },
            "colorscale": [
             [
              0,
              "#0d0887"
             ],
             [
              0.1111111111111111,
              "#46039f"
             ],
             [
              0.2222222222222222,
              "#7201a8"
             ],
             [
              0.3333333333333333,
              "#9c179e"
             ],
             [
              0.4444444444444444,
              "#bd3786"
             ],
             [
              0.5555555555555556,
              "#d8576b"
             ],
             [
              0.6666666666666666,
              "#ed7953"
             ],
             [
              0.7777777777777778,
              "#fb9f3a"
             ],
             [
              0.8888888888888888,
              "#fdca26"
             ],
             [
              1,
              "#f0f921"
             ]
            ],
            "type": "heatmap"
           }
          ],
          "heatmapgl": [
           {
            "colorbar": {
             "outlinewidth": 0,
             "ticks": ""
            },
            "colorscale": [
             [
              0,
              "#0d0887"
             ],
             [
              0.1111111111111111,
              "#46039f"
             ],
             [
              0.2222222222222222,
              "#7201a8"
             ],
             [
              0.3333333333333333,
              "#9c179e"
             ],
             [
              0.4444444444444444,
              "#bd3786"
             ],
             [
              0.5555555555555556,
              "#d8576b"
             ],
             [
              0.6666666666666666,
              "#ed7953"
             ],
             [
              0.7777777777777778,
              "#fb9f3a"
             ],
             [
              0.8888888888888888,
              "#fdca26"
             ],
             [
              1,
              "#f0f921"
             ]
            ],
            "type": "heatmapgl"
           }
          ],
          "histogram": [
           {
            "marker": {
             "colorbar": {
              "outlinewidth": 0,
              "ticks": ""
             }
            },
            "type": "histogram"
           }
          ],
          "histogram2d": [
           {
            "colorbar": {
             "outlinewidth": 0,
             "ticks": ""
            },
            "colorscale": [
             [
              0,
              "#0d0887"
             ],
             [
              0.1111111111111111,
              "#46039f"
             ],
             [
              0.2222222222222222,
              "#7201a8"
             ],
             [
              0.3333333333333333,
              "#9c179e"
             ],
             [
              0.4444444444444444,
              "#bd3786"
             ],
             [
              0.5555555555555556,
              "#d8576b"
             ],
             [
              0.6666666666666666,
              "#ed7953"
             ],
             [
              0.7777777777777778,
              "#fb9f3a"
             ],
             [
              0.8888888888888888,
              "#fdca26"
             ],
             [
              1,
              "#f0f921"
             ]
            ],
            "type": "histogram2d"
           }
          ],
          "histogram2dcontour": [
           {
            "colorbar": {
             "outlinewidth": 0,
             "ticks": ""
            },
            "colorscale": [
             [
              0,
              "#0d0887"
             ],
             [
              0.1111111111111111,
              "#46039f"
             ],
             [
              0.2222222222222222,
              "#7201a8"
             ],
             [
              0.3333333333333333,
              "#9c179e"
             ],
             [
              0.4444444444444444,
              "#bd3786"
             ],
             [
              0.5555555555555556,
              "#d8576b"
             ],
             [
              0.6666666666666666,
              "#ed7953"
             ],
             [
              0.7777777777777778,
              "#fb9f3a"
             ],
             [
              0.8888888888888888,
              "#fdca26"
             ],
             [
              1,
              "#f0f921"
             ]
            ],
            "type": "histogram2dcontour"
           }
          ],
          "mesh3d": [
           {
            "colorbar": {
             "outlinewidth": 0,
             "ticks": ""
            },
            "type": "mesh3d"
           }
          ],
          "parcoords": [
           {
            "line": {
             "colorbar": {
              "outlinewidth": 0,
              "ticks": ""
             }
            },
            "type": "parcoords"
           }
          ],
          "pie": [
           {
            "automargin": true,
            "type": "pie"
           }
          ],
          "scatter": [
           {
            "marker": {
             "colorbar": {
              "outlinewidth": 0,
              "ticks": ""
             }
            },
            "type": "scatter"
           }
          ],
          "scatter3d": [
           {
            "line": {
             "colorbar": {
              "outlinewidth": 0,
              "ticks": ""
             }
            },
            "marker": {
             "colorbar": {
              "outlinewidth": 0,
              "ticks": ""
             }
            },
            "type": "scatter3d"
           }
          ],
          "scattercarpet": [
           {
            "marker": {
             "colorbar": {
              "outlinewidth": 0,
              "ticks": ""
             }
            },
            "type": "scattercarpet"
           }
          ],
          "scattergeo": [
           {
            "marker": {
             "colorbar": {
              "outlinewidth": 0,
              "ticks": ""
             }
            },
            "type": "scattergeo"
           }
          ],
          "scattergl": [
           {
            "marker": {
             "colorbar": {
              "outlinewidth": 0,
              "ticks": ""
             }
            },
            "type": "scattergl"
           }
          ],
          "scattermapbox": [
           {
            "marker": {
             "colorbar": {
              "outlinewidth": 0,
              "ticks": ""
             }
            },
            "type": "scattermapbox"
           }
          ],
          "scatterpolar": [
           {
            "marker": {
             "colorbar": {
              "outlinewidth": 0,
              "ticks": ""
             }
            },
            "type": "scatterpolar"
           }
          ],
          "scatterpolargl": [
           {
            "marker": {
             "colorbar": {
              "outlinewidth": 0,
              "ticks": ""
             }
            },
            "type": "scatterpolargl"
           }
          ],
          "scatterternary": [
           {
            "marker": {
             "colorbar": {
              "outlinewidth": 0,
              "ticks": ""
             }
            },
            "type": "scatterternary"
           }
          ],
          "surface": [
           {
            "colorbar": {
             "outlinewidth": 0,
             "ticks": ""
            },
            "colorscale": [
             [
              0,
              "#0d0887"
             ],
             [
              0.1111111111111111,
              "#46039f"
             ],
             [
              0.2222222222222222,
              "#7201a8"
             ],
             [
              0.3333333333333333,
              "#9c179e"
             ],
             [
              0.4444444444444444,
              "#bd3786"
             ],
             [
              0.5555555555555556,
              "#d8576b"
             ],
             [
              0.6666666666666666,
              "#ed7953"
             ],
             [
              0.7777777777777778,
              "#fb9f3a"
             ],
             [
              0.8888888888888888,
              "#fdca26"
             ],
             [
              1,
              "#f0f921"
             ]
            ],
            "type": "surface"
           }
          ],
          "table": [
           {
            "cells": {
             "fill": {
              "color": "#EBF0F8"
             },
             "line": {
              "color": "white"
             }
            },
            "header": {
             "fill": {
              "color": "#C8D4E3"
             },
             "line": {
              "color": "white"
             }
            },
            "type": "table"
           }
          ]
         },
         "layout": {
          "annotationdefaults": {
           "arrowcolor": "#2a3f5f",
           "arrowhead": 0,
           "arrowwidth": 1
          },
          "coloraxis": {
           "colorbar": {
            "outlinewidth": 0,
            "ticks": ""
           }
          },
          "colorscale": {
           "diverging": [
            [
             0,
             "#8e0152"
            ],
            [
             0.1,
             "#c51b7d"
            ],
            [
             0.2,
             "#de77ae"
            ],
            [
             0.3,
             "#f1b6da"
            ],
            [
             0.4,
             "#fde0ef"
            ],
            [
             0.5,
             "#f7f7f7"
            ],
            [
             0.6,
             "#e6f5d0"
            ],
            [
             0.7,
             "#b8e186"
            ],
            [
             0.8,
             "#7fbc41"
            ],
            [
             0.9,
             "#4d9221"
            ],
            [
             1,
             "#276419"
            ]
           ],
           "sequential": [
            [
             0,
             "#0d0887"
            ],
            [
             0.1111111111111111,
             "#46039f"
            ],
            [
             0.2222222222222222,
             "#7201a8"
            ],
            [
             0.3333333333333333,
             "#9c179e"
            ],
            [
             0.4444444444444444,
             "#bd3786"
            ],
            [
             0.5555555555555556,
             "#d8576b"
            ],
            [
             0.6666666666666666,
             "#ed7953"
            ],
            [
             0.7777777777777778,
             "#fb9f3a"
            ],
            [
             0.8888888888888888,
             "#fdca26"
            ],
            [
             1,
             "#f0f921"
            ]
           ],
           "sequentialminus": [
            [
             0,
             "#0d0887"
            ],
            [
             0.1111111111111111,
             "#46039f"
            ],
            [
             0.2222222222222222,
             "#7201a8"
            ],
            [
             0.3333333333333333,
             "#9c179e"
            ],
            [
             0.4444444444444444,
             "#bd3786"
            ],
            [
             0.5555555555555556,
             "#d8576b"
            ],
            [
             0.6666666666666666,
             "#ed7953"
            ],
            [
             0.7777777777777778,
             "#fb9f3a"
            ],
            [
             0.8888888888888888,
             "#fdca26"
            ],
            [
             1,
             "#f0f921"
            ]
           ]
          },
          "colorway": [
           "#636efa",
           "#EF553B",
           "#00cc96",
           "#ab63fa",
           "#FFA15A",
           "#19d3f3",
           "#FF6692",
           "#B6E880",
           "#FF97FF",
           "#FECB52"
          ],
          "font": {
           "color": "#2a3f5f"
          },
          "geo": {
           "bgcolor": "white",
           "lakecolor": "white",
           "landcolor": "#E5ECF6",
           "showlakes": true,
           "showland": true,
           "subunitcolor": "white"
          },
          "hoverlabel": {
           "align": "left"
          },
          "hovermode": "closest",
          "mapbox": {
           "style": "light"
          },
          "paper_bgcolor": "white",
          "plot_bgcolor": "#E5ECF6",
          "polar": {
           "angularaxis": {
            "gridcolor": "white",
            "linecolor": "white",
            "ticks": ""
           },
           "bgcolor": "#E5ECF6",
           "radialaxis": {
            "gridcolor": "white",
            "linecolor": "white",
            "ticks": ""
           }
          },
          "scene": {
           "xaxis": {
            "backgroundcolor": "#E5ECF6",
            "gridcolor": "white",
            "gridwidth": 2,
            "linecolor": "white",
            "showbackground": true,
            "ticks": "",
            "zerolinecolor": "white"
           },
           "yaxis": {
            "backgroundcolor": "#E5ECF6",
            "gridcolor": "white",
            "gridwidth": 2,
            "linecolor": "white",
            "showbackground": true,
            "ticks": "",
            "zerolinecolor": "white"
           },
           "zaxis": {
            "backgroundcolor": "#E5ECF6",
            "gridcolor": "white",
            "gridwidth": 2,
            "linecolor": "white",
            "showbackground": true,
            "ticks": "",
            "zerolinecolor": "white"
           }
          },
          "shapedefaults": {
           "line": {
            "color": "#2a3f5f"
           }
          },
          "ternary": {
           "aaxis": {
            "gridcolor": "white",
            "linecolor": "white",
            "ticks": ""
           },
           "baxis": {
            "gridcolor": "white",
            "linecolor": "white",
            "ticks": ""
           },
           "bgcolor": "#E5ECF6",
           "caxis": {
            "gridcolor": "white",
            "linecolor": "white",
            "ticks": ""
           }
          },
          "title": {
           "x": 0.05
          },
          "xaxis": {
           "automargin": true,
           "gridcolor": "white",
           "linecolor": "white",
           "ticks": "",
           "title": {
            "standoff": 15
           },
           "zerolinecolor": "white",
           "zerolinewidth": 2
          },
          "yaxis": {
           "automargin": true,
           "gridcolor": "white",
           "linecolor": "white",
           "ticks": "",
           "title": {
            "standoff": 15
           },
           "zerolinecolor": "white",
           "zerolinewidth": 2
          }
         }
        },
        "title": {
         "font": {
          "color": "#4D5663"
         }
        },
        "xaxis": {
         "gridcolor": "#E1E5ED",
         "showgrid": true,
         "tickfont": {
          "color": "#4D5663"
         },
         "title": {
          "font": {
           "color": "#4D5663"
          },
          "text": ""
         },
         "zerolinecolor": "#E1E5ED"
        },
        "xaxis2": {
         "anchor": "y2",
         "gridcolor": "#E1E5ED",
         "showgrid": true,
         "showticklabels": false,
         "tickfont": {
          "color": "#4D5663"
         },
         "title": {
          "font": {
           "color": "#4D5663"
          },
          "text": ""
         },
         "zerolinecolor": "#E1E5ED"
        },
        "yaxis": {
         "domain": [
          0.3,
          1
         ],
         "gridcolor": "#E1E5ED",
         "showgrid": true,
         "tickfont": {
          "color": "#4D5663"
         },
         "title": {
          "font": {
           "color": "#4D5663"
          },
          "text": ""
         },
         "zerolinecolor": "#E1E5ED"
        },
        "yaxis2": {
         "domain": [
          0,
          0.25
         ],
         "gridcolor": "#E1E5ED",
         "showgrid": true,
         "tickfont": {
          "color": "#4D5663"
         },
         "title": {
          "font": {
           "color": "#4D5663"
          },
          "text": "Spread"
         },
         "zerolinecolor": "#E1E5ED"
        }
       }
      },
      "text/html": [
       "<div>\n",
       "        \n",
       "        \n",
       "            <div id=\"c4a41510-6794-4d70-9986-5fca11653ec2\" class=\"plotly-graph-div\" style=\"height:525px; width:100%;\"></div>\n",
       "            <script type=\"text/javascript\">\n",
       "                require([\"plotly\"], function(Plotly) {\n",
       "                    window.PLOTLYENV=window.PLOTLYENV || {};\n",
       "                    window.PLOTLYENV.BASE_URL='https://plot.ly';\n",
       "                    \n",
       "                if (document.getElementById(\"c4a41510-6794-4d70-9986-5fca11653ec2\")) {\n",
       "                    Plotly.newPlot(\n",
       "                        'c4a41510-6794-4d70-9986-5fca11653ec2',\n",
       "                        [{\"line\": {\"color\": \"rgba(255, 153, 51, 1.0)\", \"dash\": \"solid\", \"shape\": \"linear\", \"width\": 1.3}, \"mode\": \"lines\", \"name\": \"A\", \"text\": \"\", \"type\": \"scatter\", \"x\": [0, 1, 2, 3, 4, 5, 6, 7, 8, 9, 10, 11, 12, 13, 14, 15, 16, 17, 18, 19, 20, 21, 22, 23, 24, 25, 26, 27, 28, 29, 30, 31, 32, 33, 34, 35, 36, 37, 38, 39, 40, 41, 42, 43, 44, 45, 46, 47, 48, 49, 50, 51, 52, 53, 54, 55, 56, 57, 58, 59, 60, 61, 62, 63, 64, 65, 66, 67, 68, 69, 70, 71, 72, 73, 74, 75, 76, 77, 78, 79, 80, 81, 82, 83, 84, 85, 86, 87, 88, 89, 90, 91, 92, 93, 94, 95, 96, 97, 98, 99], \"y\": [1.204374223794343, -0.36906833924077637, -0.8122413394730359, 1.3997697154739082, -1.060788107444831, 0.5515735422646244, 0.14061940746164717, 0.16983560391476102, -0.5570859045323824, 1.401481283250656, -0.22735734650862433, -0.2708226895595077, -0.061950652045331865, -0.23938387027733657, 1.108929431106888, 1.5885217800040747, -0.23559972372649096, -0.8063452712749882, 0.13813159002450978, -0.6380738291099499, -1.3331534209046985, -0.1297105180803108, -0.10188136335052575, -0.30361318214471156, 0.16497636748164915, 2.183144065787738, -0.7843797606187034, -0.7395470414853026, -0.527746573443475, 1.1734247890807368, -0.4277744368396613, 1.586083786095986, -0.5946807669553307, 1.1091000750587032, -2.2431426226953897, 1.0511348504249087, -1.7084854938366552, 0.3848496070527757, 0.02319587782161051, -1.5614243800488814, -0.49612500584776853, 0.36651695375891874, -1.9325653893667134, -0.009736954747299615, 0.5770681622022307, -1.798736202311587, -1.4731317977982321, 0.9207786842892908, -1.4109451145958787, 1.474614654368594, -1.151126450220308, 1.0959490386459758, 0.7132001708734125, 1.5389324759551382, -0.3437764307427175, -0.1398678689458212, -0.5692961334275359, -0.3876239117207527, 2.1646360720109534, -0.8575609675505435, -0.12246755380214738, -0.35793397267560856, 0.6760702797677335, 0.6859757866029638, 1.2172949175056056, 3.0190435916527885, -0.49318883868647506, -1.4621624134879483, -0.018015512803250384, 1.0663682852882106, 0.6097999035722868, 0.8061363870535981, -0.9775765064326202, 1.9186469222357772, -1.3863509250475359, -1.729431686804565, -0.18184271399933602, -0.18613439383574115, 0.5857466322063433, -0.34237696433466347, 0.3571290493876967, 0.006789251745769943, -3.2125921573829657, -0.5584989724527796, -0.3753882921486149, 0.4722926040135994, -2.363150670854163, -0.6542164839532234, 0.032211397087431724, -1.138463704994325, 0.16231793129177194, 0.4166899662658287, -0.18051501338281437, -0.15668668070654856, 0.0848144483366338, 0.6315939404556832, 0.49811604910354135, 0.9187915032050765, -0.45235784878744706, -0.18836177542466803]}, {\"line\": {\"color\": \"rgba(55, 128, 191, 1.0)\", \"dash\": \"solid\", \"shape\": \"linear\", \"width\": 1.3}, \"mode\": \"lines\", \"name\": \"B\", \"text\": \"\", \"type\": \"scatter\", \"x\": [0, 1, 2, 3, 4, 5, 6, 7, 8, 9, 10, 11, 12, 13, 14, 15, 16, 17, 18, 19, 20, 21, 22, 23, 24, 25, 26, 27, 28, 29, 30, 31, 32, 33, 34, 35, 36, 37, 38, 39, 40, 41, 42, 43, 44, 45, 46, 47, 48, 49, 50, 51, 52, 53, 54, 55, 56, 57, 58, 59, 60, 61, 62, 63, 64, 65, 66, 67, 68, 69, 70, 71, 72, 73, 74, 75, 76, 77, 78, 79, 80, 81, 82, 83, 84, 85, 86, 87, 88, 89, 90, 91, 92, 93, 94, 95, 96, 97, 98, 99], \"y\": [0.28883879264521045, -0.9696091384577731, 0.3240029375457199, -2.0275223864420986, 0.14726848424825328, 0.678991256631577, 0.8082635732754649, -1.7856463481517608, -1.104842817878926, -0.46027812161661064, -2.1537687431575328, 0.15945482476116415, -1.3018992475704751, 0.6025453549513595, 0.2587350592374064, 0.8027749160485882, 0.35454868506569975, -0.4552450279185263, -0.8120909393883892, -0.4444774282124728, 0.36142121866382554, 1.0066457905843325, 2.1146963668436967, 0.3867859557004427, 0.30976253103714385, 0.25304790269208116, -0.4853018821573321, -0.4266472311732564, 1.0574834426305726, 0.0727828918106895, 0.6387061611541429, 0.35282443058578244, 1.2613356031803376, 1.9112868409358335, 0.35270908010673824, 0.33830107746460486, 0.9661583398721716, 0.7409660674911244, -1.0132490082439065, 1.1381430753784794, 0.06956837769113201, -0.025060573913217636, 0.5601028658725632, 1.1067653704904703, 0.5381067202924643, -0.7979118583312437, 0.6334157782864624, -0.5266080026725684, 0.4833853733012127, -0.38299530376008994, -0.4357980040855327, -0.37062045661239246, -1.3414385587779716, -0.36590910152001693, -0.7034440798878234, -1.3876156954916887, -1.0926499669857581, 0.5638637016453981, -0.3829013772219426, 1.9157532042187086, 0.761887728347791, 0.8146029084065223, 0.8231475450342212, 0.04436894811492774, -1.0635463927921698, -0.07945247508080461, 1.882926346755678, -0.20579958146507463, 0.4168470364341955, 0.36946234527703425, 1.022023039989263, -2.199761127185428, 0.09350752683525511, 0.050408117632942985, 2.190592367226769, -0.23747751471779366, 1.0478758815724036, -0.4337413657219337, 0.20492756400731685, 2.3831221699587988, -0.6802126826044421, 0.9545186757613414, -1.559532703638838, -0.2702728387868071, 0.2237820300585606, -0.18639837634820103, -0.47969720470485616, 0.44948289758789267, -0.3239630401170654, 0.12299224412986517, -0.2955225352765806, -0.06693027092072842, -0.3667350661835663, -1.1643883307876375, 0.8995409226274617, -1.0630968020526121, -2.25782917678505, 0.17250522033490703, -2.0771412668361102, -1.498269212529484]}, {\"connectgaps\": false, \"fill\": \"tozeroy\", \"line\": {\"color\": \"green\", \"dash\": \"solid\", \"shape\": \"linear\", \"width\": 0.5}, \"mode\": \"lines\", \"name\": \"Spread\", \"showlegend\": false, \"type\": \"scatter\", \"x\": [0, 1, 2, 3, 4, 5, 6, 7, 8, 9, 10, 11, 12, 13, 14, 15, 16, 17, 18, 19, 20, 21, 22, 23, 24, 25, 26, 27, 28, 29, 30, 31, 32, 33, 34, 35, 36, 37, 38, 39, 40, 41, 42, 43, 44, 45, 46, 47, 48, 49, 50, 51, 52, 53, 54, 55, 56, 57, 58, 59, 60, 61, 62, 63, 64, 65, 66, 67, 68, 69, 70, 71, 72, 73, 74, 75, 76, 77, 78, 79, 80, 81, 82, 83, 84, 85, 86, 87, 88, 89, 90, 91, 92, 93, 94, 95, 96, 97, 98, 99], \"xaxis\": \"x2\", \"y\": [0.9155354311491324, 0.6005407992169967, \"\", 3.4272921019160068, \"\", \"\", \"\", 1.9554819520665219, 0.5477569133465436, 1.8617594048672665, 1.9264113966489085, \"\", 1.2399485955251432, \"\", 0.8501943718694815, 0.7857468639554865, \"\", \"\", 0.950222529412899, \"\", \"\", \"\", \"\", \"\", \"\", 1.9300961630956568, \"\", \"\", \"\", 1.1006418972700474, \"\", 1.2332593555102036, \"\", \"\", \"\", 0.7128337729603038, \"\", \"\", 1.036444886065517, \"\", \"\", 0.3915775276721364, \"\", \"\", 0.03896144190976636, \"\", \"\", 1.4473866869618592, \"\", 1.857609958128684, \"\", 1.4665694952583683, 2.054638729651384, 1.904841577475155, 0.3596676491451059, 1.2477478265458675, 0.5233538335582222, \"\", 2.547537449232896, \"\", \"\", \"\", \"\", 0.641606838488036, 2.2808413102977756, 3.0984960667335932, \"\", \"\", \"\", 0.6969059400111763, \"\", 3.005897514239026, \"\", 1.8682388046028342, \"\", \"\", \"\", 0.24760697188619257, 0.38081906819902644, \"\", 1.0373417319921387, \"\", \"\", \"\", \"\", 0.6586909803618004, \"\", \"\", 0.3561744372044971, \"\", 0.45784046656835253, 0.4836202371865571, 0.18622005280075196, 1.007701650081089, \"\", 1.6946907425082953, 2.755945225888591, 0.7462862828701695, 1.624783418048663, 1.309907437104816], \"yaxis\": \"y2\"}, {\"connectgaps\": false, \"fill\": \"tozeroy\", \"line\": {\"color\": \"red\", \"dash\": \"solid\", \"shape\": \"linear\", \"width\": 0.5}, \"mode\": \"lines\", \"name\": \"Spread\", \"showlegend\": false, \"type\": \"scatter\", \"x\": [0, 1, 2, 3, 4, 5, 6, 7, 8, 9, 10, 11, 12, 13, 14, 15, 16, 17, 18, 19, 20, 21, 22, 23, 24, 25, 26, 27, 28, 29, 30, 31, 32, 33, 34, 35, 36, 37, 38, 39, 40, 41, 42, 43, 44, 45, 46, 47, 48, 49, 50, 51, 52, 53, 54, 55, 56, 57, 58, 59, 60, 61, 62, 63, 64, 65, 66, 67, 68, 69, 70, 71, 72, 73, 74, 75, 76, 77, 78, 79, 80, 81, 82, 83, 84, 85, 86, 87, 88, 89, 90, 91, 92, 93, 94, 95, 96, 97, 98, 99], \"xaxis\": \"x2\", \"y\": [\"\", \"\", -1.1362442770187557, \"\", -1.2080565916930843, -0.1274177143669526, -0.6676441658138178, \"\", \"\", \"\", \"\", -0.43027751432067185, \"\", -0.8419292252286961, \"\", \"\", -0.5901484087921907, -0.35110024335646195, \"\", -0.1935964008974771, -1.694574639568524, -1.1363563086646433, -2.2165777301942224, -0.6903991378451543, -0.1447861635554947, \"\", -0.2990778784613713, -0.31289981031204617, -1.5852300160740476, \"\", -1.0664805979938041, \"\", -1.8560163701356682, -0.8021867658771302, -2.5958517028021277, \"\", -2.674643833708827, -0.35611646043834866, \"\", -2.6995674554273608, -0.5656933835389005, \"\", -2.4926682552392765, -1.11650232523777, \"\", -1.0008243439803433, -2.1065475760846946, \"\", -1.8943304878970912, \"\", -0.7153284461347753, \"\", \"\", \"\", \"\", \"\", \"\", -0.9514876133661508, \"\", -2.773314171769252, -0.8843552821499383, -1.1725368810821308, -0.14707726526648768, \"\", \"\", \"\", -2.376115185442153, -1.2563628320228737, -0.4348625492374459, \"\", -0.41222313641697617, \"\", -1.0710840332678753, \"\", -3.576943292274305, -1.4919541720867713, -1.2297185955717396, \"\", \"\", -2.7254991342934622, \"\", -0.9477294240155715, -1.6530594537441277, -0.2882261336659725, -0.5991703222071755, \"\", -1.8834534661493068, -1.103699381541116, \"\", -1.2614559491241901, \"\", \"\", \"\", \"\", -0.8147264742908279, \"\", \"\", \"\", \"\", \"\"], \"yaxis\": \"y2\"}],\n",
       "                        {\"hovermode\": \"x\", \"legend\": {\"bgcolor\": \"#F5F6F9\", \"font\": {\"color\": \"#4D5663\"}}, \"paper_bgcolor\": \"#F5F6F9\", \"plot_bgcolor\": \"#F5F6F9\", \"template\": {\"data\": {\"bar\": [{\"error_x\": {\"color\": \"#2a3f5f\"}, \"error_y\": {\"color\": \"#2a3f5f\"}, \"marker\": {\"line\": {\"color\": \"#E5ECF6\", \"width\": 0.5}}, \"type\": \"bar\"}], \"barpolar\": [{\"marker\": {\"line\": {\"color\": \"#E5ECF6\", \"width\": 0.5}}, \"type\": \"barpolar\"}], \"carpet\": [{\"aaxis\": {\"endlinecolor\": \"#2a3f5f\", \"gridcolor\": \"white\", \"linecolor\": \"white\", \"minorgridcolor\": \"white\", \"startlinecolor\": \"#2a3f5f\"}, \"baxis\": {\"endlinecolor\": \"#2a3f5f\", \"gridcolor\": \"white\", \"linecolor\": \"white\", \"minorgridcolor\": \"white\", \"startlinecolor\": \"#2a3f5f\"}, \"type\": \"carpet\"}], \"choropleth\": [{\"colorbar\": {\"outlinewidth\": 0, \"ticks\": \"\"}, \"type\": \"choropleth\"}], \"contour\": [{\"colorbar\": {\"outlinewidth\": 0, \"ticks\": \"\"}, \"colorscale\": [[0.0, \"#0d0887\"], [0.1111111111111111, \"#46039f\"], [0.2222222222222222, \"#7201a8\"], [0.3333333333333333, \"#9c179e\"], [0.4444444444444444, \"#bd3786\"], [0.5555555555555556, \"#d8576b\"], [0.6666666666666666, \"#ed7953\"], [0.7777777777777778, \"#fb9f3a\"], [0.8888888888888888, \"#fdca26\"], [1.0, \"#f0f921\"]], \"type\": \"contour\"}], \"contourcarpet\": [{\"colorbar\": {\"outlinewidth\": 0, \"ticks\": \"\"}, \"type\": \"contourcarpet\"}], \"heatmap\": [{\"colorbar\": {\"outlinewidth\": 0, \"ticks\": \"\"}, \"colorscale\": [[0.0, \"#0d0887\"], [0.1111111111111111, \"#46039f\"], [0.2222222222222222, \"#7201a8\"], [0.3333333333333333, \"#9c179e\"], [0.4444444444444444, \"#bd3786\"], [0.5555555555555556, \"#d8576b\"], [0.6666666666666666, \"#ed7953\"], [0.7777777777777778, \"#fb9f3a\"], [0.8888888888888888, \"#fdca26\"], [1.0, \"#f0f921\"]], \"type\": \"heatmap\"}], \"heatmapgl\": [{\"colorbar\": {\"outlinewidth\": 0, \"ticks\": \"\"}, \"colorscale\": [[0.0, \"#0d0887\"], [0.1111111111111111, \"#46039f\"], [0.2222222222222222, \"#7201a8\"], [0.3333333333333333, \"#9c179e\"], [0.4444444444444444, \"#bd3786\"], [0.5555555555555556, \"#d8576b\"], [0.6666666666666666, \"#ed7953\"], [0.7777777777777778, \"#fb9f3a\"], [0.8888888888888888, \"#fdca26\"], [1.0, \"#f0f921\"]], \"type\": \"heatmapgl\"}], \"histogram\": [{\"marker\": {\"colorbar\": {\"outlinewidth\": 0, \"ticks\": \"\"}}, \"type\": \"histogram\"}], \"histogram2d\": [{\"colorbar\": {\"outlinewidth\": 0, \"ticks\": \"\"}, \"colorscale\": [[0.0, \"#0d0887\"], [0.1111111111111111, \"#46039f\"], [0.2222222222222222, \"#7201a8\"], [0.3333333333333333, \"#9c179e\"], [0.4444444444444444, \"#bd3786\"], [0.5555555555555556, \"#d8576b\"], [0.6666666666666666, \"#ed7953\"], [0.7777777777777778, \"#fb9f3a\"], [0.8888888888888888, \"#fdca26\"], [1.0, \"#f0f921\"]], \"type\": \"histogram2d\"}], \"histogram2dcontour\": [{\"colorbar\": {\"outlinewidth\": 0, \"ticks\": \"\"}, \"colorscale\": [[0.0, \"#0d0887\"], [0.1111111111111111, \"#46039f\"], [0.2222222222222222, \"#7201a8\"], [0.3333333333333333, \"#9c179e\"], [0.4444444444444444, \"#bd3786\"], [0.5555555555555556, \"#d8576b\"], [0.6666666666666666, \"#ed7953\"], [0.7777777777777778, \"#fb9f3a\"], [0.8888888888888888, \"#fdca26\"], [1.0, \"#f0f921\"]], \"type\": \"histogram2dcontour\"}], \"mesh3d\": [{\"colorbar\": {\"outlinewidth\": 0, \"ticks\": \"\"}, \"type\": \"mesh3d\"}], \"parcoords\": [{\"line\": {\"colorbar\": {\"outlinewidth\": 0, \"ticks\": \"\"}}, \"type\": \"parcoords\"}], \"pie\": [{\"automargin\": true, \"type\": \"pie\"}], \"scatter\": [{\"marker\": {\"colorbar\": {\"outlinewidth\": 0, \"ticks\": \"\"}}, \"type\": \"scatter\"}], \"scatter3d\": [{\"line\": {\"colorbar\": {\"outlinewidth\": 0, \"ticks\": \"\"}}, \"marker\": {\"colorbar\": {\"outlinewidth\": 0, \"ticks\": \"\"}}, \"type\": \"scatter3d\"}], \"scattercarpet\": [{\"marker\": {\"colorbar\": {\"outlinewidth\": 0, \"ticks\": \"\"}}, \"type\": \"scattercarpet\"}], \"scattergeo\": [{\"marker\": {\"colorbar\": {\"outlinewidth\": 0, \"ticks\": \"\"}}, \"type\": \"scattergeo\"}], \"scattergl\": [{\"marker\": {\"colorbar\": {\"outlinewidth\": 0, \"ticks\": \"\"}}, \"type\": \"scattergl\"}], \"scattermapbox\": [{\"marker\": {\"colorbar\": {\"outlinewidth\": 0, \"ticks\": \"\"}}, \"type\": \"scattermapbox\"}], \"scatterpolar\": [{\"marker\": {\"colorbar\": {\"outlinewidth\": 0, \"ticks\": \"\"}}, \"type\": \"scatterpolar\"}], \"scatterpolargl\": [{\"marker\": {\"colorbar\": {\"outlinewidth\": 0, \"ticks\": \"\"}}, \"type\": \"scatterpolargl\"}], \"scatterternary\": [{\"marker\": {\"colorbar\": {\"outlinewidth\": 0, \"ticks\": \"\"}}, \"type\": \"scatterternary\"}], \"surface\": [{\"colorbar\": {\"outlinewidth\": 0, \"ticks\": \"\"}, \"colorscale\": [[0.0, \"#0d0887\"], [0.1111111111111111, \"#46039f\"], [0.2222222222222222, \"#7201a8\"], [0.3333333333333333, \"#9c179e\"], [0.4444444444444444, \"#bd3786\"], [0.5555555555555556, \"#d8576b\"], [0.6666666666666666, \"#ed7953\"], [0.7777777777777778, \"#fb9f3a\"], [0.8888888888888888, \"#fdca26\"], [1.0, \"#f0f921\"]], \"type\": \"surface\"}], \"table\": [{\"cells\": {\"fill\": {\"color\": \"#EBF0F8\"}, \"line\": {\"color\": \"white\"}}, \"header\": {\"fill\": {\"color\": \"#C8D4E3\"}, \"line\": {\"color\": \"white\"}}, \"type\": \"table\"}]}, \"layout\": {\"annotationdefaults\": {\"arrowcolor\": \"#2a3f5f\", \"arrowhead\": 0, \"arrowwidth\": 1}, \"coloraxis\": {\"colorbar\": {\"outlinewidth\": 0, \"ticks\": \"\"}}, \"colorscale\": {\"diverging\": [[0, \"#8e0152\"], [0.1, \"#c51b7d\"], [0.2, \"#de77ae\"], [0.3, \"#f1b6da\"], [0.4, \"#fde0ef\"], [0.5, \"#f7f7f7\"], [0.6, \"#e6f5d0\"], [0.7, \"#b8e186\"], [0.8, \"#7fbc41\"], [0.9, \"#4d9221\"], [1, \"#276419\"]], \"sequential\": [[0.0, \"#0d0887\"], [0.1111111111111111, \"#46039f\"], [0.2222222222222222, \"#7201a8\"], [0.3333333333333333, \"#9c179e\"], [0.4444444444444444, \"#bd3786\"], [0.5555555555555556, \"#d8576b\"], [0.6666666666666666, \"#ed7953\"], [0.7777777777777778, \"#fb9f3a\"], [0.8888888888888888, \"#fdca26\"], [1.0, \"#f0f921\"]], \"sequentialminus\": [[0.0, \"#0d0887\"], [0.1111111111111111, \"#46039f\"], [0.2222222222222222, \"#7201a8\"], [0.3333333333333333, \"#9c179e\"], [0.4444444444444444, \"#bd3786\"], [0.5555555555555556, \"#d8576b\"], [0.6666666666666666, \"#ed7953\"], [0.7777777777777778, \"#fb9f3a\"], [0.8888888888888888, \"#fdca26\"], [1.0, \"#f0f921\"]]}, \"colorway\": [\"#636efa\", \"#EF553B\", \"#00cc96\", \"#ab63fa\", \"#FFA15A\", \"#19d3f3\", \"#FF6692\", \"#B6E880\", \"#FF97FF\", \"#FECB52\"], \"font\": {\"color\": \"#2a3f5f\"}, \"geo\": {\"bgcolor\": \"white\", \"lakecolor\": \"white\", \"landcolor\": \"#E5ECF6\", \"showlakes\": true, \"showland\": true, \"subunitcolor\": \"white\"}, \"hoverlabel\": {\"align\": \"left\"}, \"hovermode\": \"closest\", \"mapbox\": {\"style\": \"light\"}, \"paper_bgcolor\": \"white\", \"plot_bgcolor\": \"#E5ECF6\", \"polar\": {\"angularaxis\": {\"gridcolor\": \"white\", \"linecolor\": \"white\", \"ticks\": \"\"}, \"bgcolor\": \"#E5ECF6\", \"radialaxis\": {\"gridcolor\": \"white\", \"linecolor\": \"white\", \"ticks\": \"\"}}, \"scene\": {\"xaxis\": {\"backgroundcolor\": \"#E5ECF6\", \"gridcolor\": \"white\", \"gridwidth\": 2, \"linecolor\": \"white\", \"showbackground\": true, \"ticks\": \"\", \"zerolinecolor\": \"white\"}, \"yaxis\": {\"backgroundcolor\": \"#E5ECF6\", \"gridcolor\": \"white\", \"gridwidth\": 2, \"linecolor\": \"white\", \"showbackground\": true, \"ticks\": \"\", \"zerolinecolor\": \"white\"}, \"zaxis\": {\"backgroundcolor\": \"#E5ECF6\", \"gridcolor\": \"white\", \"gridwidth\": 2, \"linecolor\": \"white\", \"showbackground\": true, \"ticks\": \"\", \"zerolinecolor\": \"white\"}}, \"shapedefaults\": {\"line\": {\"color\": \"#2a3f5f\"}}, \"ternary\": {\"aaxis\": {\"gridcolor\": \"white\", \"linecolor\": \"white\", \"ticks\": \"\"}, \"baxis\": {\"gridcolor\": \"white\", \"linecolor\": \"white\", \"ticks\": \"\"}, \"bgcolor\": \"#E5ECF6\", \"caxis\": {\"gridcolor\": \"white\", \"linecolor\": \"white\", \"ticks\": \"\"}}, \"title\": {\"x\": 0.05}, \"xaxis\": {\"automargin\": true, \"gridcolor\": \"white\", \"linecolor\": \"white\", \"ticks\": \"\", \"title\": {\"standoff\": 15}, \"zerolinecolor\": \"white\", \"zerolinewidth\": 2}, \"yaxis\": {\"automargin\": true, \"gridcolor\": \"white\", \"linecolor\": \"white\", \"ticks\": \"\", \"title\": {\"standoff\": 15}, \"zerolinecolor\": \"white\", \"zerolinewidth\": 2}}}, \"title\": {\"font\": {\"color\": \"#4D5663\"}}, \"xaxis\": {\"gridcolor\": \"#E1E5ED\", \"showgrid\": true, \"tickfont\": {\"color\": \"#4D5663\"}, \"title\": {\"font\": {\"color\": \"#4D5663\"}, \"text\": \"\"}, \"zerolinecolor\": \"#E1E5ED\"}, \"xaxis2\": {\"anchor\": \"y2\", \"gridcolor\": \"#E1E5ED\", \"showgrid\": true, \"showticklabels\": false, \"tickfont\": {\"color\": \"#4D5663\"}, \"title\": {\"font\": {\"color\": \"#4D5663\"}, \"text\": \"\"}, \"zerolinecolor\": \"#E1E5ED\"}, \"yaxis\": {\"domain\": [0.3, 1], \"gridcolor\": \"#E1E5ED\", \"showgrid\": true, \"tickfont\": {\"color\": \"#4D5663\"}, \"title\": {\"font\": {\"color\": \"#4D5663\"}, \"text\": \"\"}, \"zerolinecolor\": \"#E1E5ED\"}, \"yaxis2\": {\"domain\": [0, 0.25], \"gridcolor\": \"#E1E5ED\", \"showgrid\": true, \"tickfont\": {\"color\": \"#4D5663\"}, \"title\": {\"font\": {\"color\": \"#4D5663\"}, \"text\": \"Spread\"}, \"zerolinecolor\": \"#E1E5ED\"}},\n",
       "                        {\"showLink\": true, \"linkText\": \"Export to plot.ly\", \"plotlyServerURL\": \"https://plot.ly\", \"responsive\": true}\n",
       "                    ).then(function(){\n",
       "                            \n",
       "var gd = document.getElementById('c4a41510-6794-4d70-9986-5fca11653ec2');\n",
       "var x = new MutationObserver(function (mutations, observer) {{\n",
       "        var display = window.getComputedStyle(gd).display;\n",
       "        if (!display || display === 'none') {{\n",
       "            console.log([gd, 'removed!']);\n",
       "            Plotly.purge(gd);\n",
       "            observer.disconnect();\n",
       "        }}\n",
       "}});\n",
       "\n",
       "// Listen for the removal of the full notebook cells\n",
       "var notebookContainer = gd.closest('#notebook-container');\n",
       "if (notebookContainer) {{\n",
       "    x.observe(notebookContainer, {childList: true});\n",
       "}}\n",
       "\n",
       "// Listen for the clearing of the current output cell\n",
       "var outputEl = gd.closest('.output');\n",
       "if (outputEl) {{\n",
       "    x.observe(outputEl, {childList: true});\n",
       "}}\n",
       "\n",
       "                        })\n",
       "                };\n",
       "                });\n",
       "            </script>\n",
       "        </div>"
      ]
     },
     "metadata": {},
     "output_type": "display_data"
    }
   ],
   "source": [
    "\n",
    "\n",
    "#spread\n",
    "#we have a line plot and a spread plot which shows us the spread between to\n",
    "\n",
    "# we can zoom in on the line chart and then see the spread from the bottom graph accordingly\n",
    "df[['A','B']].iplot(kind = 'spread')"
   ]
  },
  {
   "cell_type": "code",
   "execution_count": 55,
   "metadata": {},
   "outputs": [
    {
     "data": {
      "application/vnd.plotly.v1+json": {
       "config": {
        "linkText": "Export to plot.ly",
        "plotlyServerURL": "https://plot.ly",
        "showLink": true
       },
       "data": [
        {
         "marker": {
          "color": [
           "orange",
           "orange",
           "orange",
           "orange",
           "orange",
           "orange",
           "orange",
           "orange",
           "orange",
           "orange",
           "orange",
           "orange",
           "orange",
           "orange",
           "orange",
           "orange",
           "orange",
           "orange",
           "orange",
           "orange",
           "orange",
           "orange",
           "orange",
           "orange",
           "orange",
           "orange",
           "orange",
           "orange",
           "orange",
           "orange",
           "orange",
           "orange",
           "orange",
           "orange",
           "orange",
           "orange",
           "orange",
           "orange",
           "orange",
           "orange",
           "orange",
           "orange",
           "orange",
           "orange",
           "orange",
           "orange",
           "orange",
           "orange",
           "orange",
           "orange",
           "orange",
           "orange",
           "orange",
           "orange",
           "orange",
           "orange",
           "orange",
           "orange",
           "orange",
           "orange",
           "orange",
           "orange",
           "orange",
           "orange",
           "orange",
           "orange",
           "orange",
           "orange",
           "orange",
           "orange",
           "orange",
           "orange",
           "orange",
           "orange",
           "orange",
           "orange",
           "orange",
           "orange",
           "orange",
           "orange",
           "orange",
           "orange",
           "orange",
           "orange",
           "orange",
           "orange",
           "orange",
           "orange",
           "orange",
           "orange",
           "orange",
           "orange",
           "orange",
           "orange",
           "orange",
           "orange",
           "orange",
           "orange",
           "orange",
           "orange"
          ],
          "line": {
           "width": 1.3
          },
          "size": [
           89,
           80,
           32,
           53,
           77,
           71,
           78,
           53,
           62,
           12,
           22,
           65,
           97,
           77,
           60,
           98,
           77,
           68,
           67,
           94,
           47,
           54,
           42,
           96,
           48,
           112,
           58,
           41,
           104,
           54,
           109,
           29,
           91,
           97,
           78,
           97,
           66,
           53,
           28,
           93,
           21,
           19,
           45,
           17,
           28,
           106,
           61,
           79,
           71,
           38,
           56,
           43,
           55,
           50,
           62,
           30,
           82,
           37,
           88,
           35,
           12,
           107,
           78,
           94,
           79,
           63,
           71,
           82,
           36,
           13,
           29,
           100,
           36,
           108,
           100,
           42,
           55,
           74,
           57,
           62,
           34,
           37,
           95,
           81,
           100,
           107,
           65,
           101,
           28,
           43,
           48,
           22,
           48,
           50,
           37,
           40,
           15,
           72,
           78,
           98
          ],
          "symbol": "circle"
         },
         "mode": "markers",
         "text": "",
         "type": "scatter",
         "x": [
          1.204374223794343,
          -0.36906833924077637,
          -0.8122413394730359,
          1.3997697154739082,
          -1.060788107444831,
          0.5515735422646244,
          0.14061940746164717,
          0.16983560391476102,
          -0.5570859045323824,
          1.401481283250656,
          -0.22735734650862433,
          -0.2708226895595077,
          -0.061950652045331865,
          -0.23938387027733657,
          1.108929431106888,
          1.5885217800040747,
          -0.23559972372649096,
          -0.8063452712749882,
          0.13813159002450978,
          -0.6380738291099499,
          -1.3331534209046985,
          -0.1297105180803108,
          -0.10188136335052575,
          -0.30361318214471156,
          0.16497636748164915,
          2.183144065787738,
          -0.7843797606187034,
          -0.7395470414853026,
          -0.527746573443475,
          1.1734247890807368,
          -0.4277744368396613,
          1.586083786095986,
          -0.5946807669553307,
          1.1091000750587032,
          -2.2431426226953897,
          1.0511348504249087,
          -1.7084854938366552,
          0.3848496070527757,
          0.02319587782161051,
          -1.5614243800488814,
          -0.49612500584776853,
          0.36651695375891874,
          -1.9325653893667134,
          -0.009736954747299615,
          0.5770681622022307,
          -1.798736202311587,
          -1.4731317977982321,
          0.9207786842892908,
          -1.4109451145958787,
          1.474614654368594,
          -1.151126450220308,
          1.0959490386459758,
          0.7132001708734125,
          1.5389324759551382,
          -0.3437764307427175,
          -0.1398678689458212,
          -0.5692961334275359,
          -0.3876239117207527,
          2.1646360720109534,
          -0.8575609675505435,
          -0.12246755380214738,
          -0.35793397267560856,
          0.6760702797677335,
          0.6859757866029638,
          1.2172949175056056,
          3.0190435916527885,
          -0.49318883868647506,
          -1.4621624134879483,
          -0.018015512803250384,
          1.0663682852882106,
          0.6097999035722868,
          0.8061363870535981,
          -0.9775765064326202,
          1.9186469222357772,
          -1.3863509250475359,
          -1.729431686804565,
          -0.18184271399933602,
          -0.18613439383574115,
          0.5857466322063433,
          -0.34237696433466347,
          0.3571290493876967,
          0.006789251745769943,
          -3.2125921573829657,
          -0.5584989724527796,
          -0.3753882921486149,
          0.4722926040135994,
          -2.363150670854163,
          -0.6542164839532234,
          0.032211397087431724,
          -1.138463704994325,
          0.16231793129177194,
          0.4166899662658287,
          -0.18051501338281437,
          -0.15668668070654856,
          0.0848144483366338,
          0.6315939404556832,
          0.49811604910354135,
          0.9187915032050765,
          -0.45235784878744706,
          -0.18836177542466803
         ],
         "y": [
          0.28883879264521045,
          -0.9696091384577731,
          0.3240029375457199,
          -2.0275223864420986,
          0.14726848424825328,
          0.678991256631577,
          0.8082635732754649,
          -1.7856463481517608,
          -1.104842817878926,
          -0.46027812161661064,
          -2.1537687431575328,
          0.15945482476116415,
          -1.3018992475704751,
          0.6025453549513595,
          0.2587350592374064,
          0.8027749160485882,
          0.35454868506569975,
          -0.4552450279185263,
          -0.8120909393883892,
          -0.4444774282124728,
          0.36142121866382554,
          1.0066457905843325,
          2.1146963668436967,
          0.3867859557004427,
          0.30976253103714385,
          0.25304790269208116,
          -0.4853018821573321,
          -0.4266472311732564,
          1.0574834426305726,
          0.0727828918106895,
          0.6387061611541429,
          0.35282443058578244,
          1.2613356031803376,
          1.9112868409358335,
          0.35270908010673824,
          0.33830107746460486,
          0.9661583398721716,
          0.7409660674911244,
          -1.0132490082439065,
          1.1381430753784794,
          0.06956837769113201,
          -0.025060573913217636,
          0.5601028658725632,
          1.1067653704904703,
          0.5381067202924643,
          -0.7979118583312437,
          0.6334157782864624,
          -0.5266080026725684,
          0.4833853733012127,
          -0.38299530376008994,
          -0.4357980040855327,
          -0.37062045661239246,
          -1.3414385587779716,
          -0.36590910152001693,
          -0.7034440798878234,
          -1.3876156954916887,
          -1.0926499669857581,
          0.5638637016453981,
          -0.3829013772219426,
          1.9157532042187086,
          0.761887728347791,
          0.8146029084065223,
          0.8231475450342212,
          0.04436894811492774,
          -1.0635463927921698,
          -0.07945247508080461,
          1.882926346755678,
          -0.20579958146507463,
          0.4168470364341955,
          0.36946234527703425,
          1.022023039989263,
          -2.199761127185428,
          0.09350752683525511,
          0.050408117632942985,
          2.190592367226769,
          -0.23747751471779366,
          1.0478758815724036,
          -0.4337413657219337,
          0.20492756400731685,
          2.3831221699587988,
          -0.6802126826044421,
          0.9545186757613414,
          -1.559532703638838,
          -0.2702728387868071,
          0.2237820300585606,
          -0.18639837634820103,
          -0.47969720470485616,
          0.44948289758789267,
          -0.3239630401170654,
          0.12299224412986517,
          -0.2955225352765806,
          -0.06693027092072842,
          -0.3667350661835663,
          -1.1643883307876375,
          0.8995409226274617,
          -1.0630968020526121,
          -2.25782917678505,
          0.17250522033490703,
          -2.0771412668361102,
          -1.498269212529484
         ]
        }
       ],
       "layout": {
        "legend": {
         "bgcolor": "#F5F6F9",
         "font": {
          "color": "#4D5663"
         }
        },
        "paper_bgcolor": "#F5F6F9",
        "plot_bgcolor": "#F5F6F9",
        "template": {
         "data": {
          "bar": [
           {
            "error_x": {
             "color": "#2a3f5f"
            },
            "error_y": {
             "color": "#2a3f5f"
            },
            "marker": {
             "line": {
              "color": "#E5ECF6",
              "width": 0.5
             }
            },
            "type": "bar"
           }
          ],
          "barpolar": [
           {
            "marker": {
             "line": {
              "color": "#E5ECF6",
              "width": 0.5
             }
            },
            "type": "barpolar"
           }
          ],
          "carpet": [
           {
            "aaxis": {
             "endlinecolor": "#2a3f5f",
             "gridcolor": "white",
             "linecolor": "white",
             "minorgridcolor": "white",
             "startlinecolor": "#2a3f5f"
            },
            "baxis": {
             "endlinecolor": "#2a3f5f",
             "gridcolor": "white",
             "linecolor": "white",
             "minorgridcolor": "white",
             "startlinecolor": "#2a3f5f"
            },
            "type": "carpet"
           }
          ],
          "choropleth": [
           {
            "colorbar": {
             "outlinewidth": 0,
             "ticks": ""
            },
            "type": "choropleth"
           }
          ],
          "contour": [
           {
            "colorbar": {
             "outlinewidth": 0,
             "ticks": ""
            },
            "colorscale": [
             [
              0,
              "#0d0887"
             ],
             [
              0.1111111111111111,
              "#46039f"
             ],
             [
              0.2222222222222222,
              "#7201a8"
             ],
             [
              0.3333333333333333,
              "#9c179e"
             ],
             [
              0.4444444444444444,
              "#bd3786"
             ],
             [
              0.5555555555555556,
              "#d8576b"
             ],
             [
              0.6666666666666666,
              "#ed7953"
             ],
             [
              0.7777777777777778,
              "#fb9f3a"
             ],
             [
              0.8888888888888888,
              "#fdca26"
             ],
             [
              1,
              "#f0f921"
             ]
            ],
            "type": "contour"
           }
          ],
          "contourcarpet": [
           {
            "colorbar": {
             "outlinewidth": 0,
             "ticks": ""
            },
            "type": "contourcarpet"
           }
          ],
          "heatmap": [
           {
            "colorbar": {
             "outlinewidth": 0,
             "ticks": ""
            },
            "colorscale": [
             [
              0,
              "#0d0887"
             ],
             [
              0.1111111111111111,
              "#46039f"
             ],
             [
              0.2222222222222222,
              "#7201a8"
             ],
             [
              0.3333333333333333,
              "#9c179e"
             ],
             [
              0.4444444444444444,
              "#bd3786"
             ],
             [
              0.5555555555555556,
              "#d8576b"
             ],
             [
              0.6666666666666666,
              "#ed7953"
             ],
             [
              0.7777777777777778,
              "#fb9f3a"
             ],
             [
              0.8888888888888888,
              "#fdca26"
             ],
             [
              1,
              "#f0f921"
             ]
            ],
            "type": "heatmap"
           }
          ],
          "heatmapgl": [
           {
            "colorbar": {
             "outlinewidth": 0,
             "ticks": ""
            },
            "colorscale": [
             [
              0,
              "#0d0887"
             ],
             [
              0.1111111111111111,
              "#46039f"
             ],
             [
              0.2222222222222222,
              "#7201a8"
             ],
             [
              0.3333333333333333,
              "#9c179e"
             ],
             [
              0.4444444444444444,
              "#bd3786"
             ],
             [
              0.5555555555555556,
              "#d8576b"
             ],
             [
              0.6666666666666666,
              "#ed7953"
             ],
             [
              0.7777777777777778,
              "#fb9f3a"
             ],
             [
              0.8888888888888888,
              "#fdca26"
             ],
             [
              1,
              "#f0f921"
             ]
            ],
            "type": "heatmapgl"
           }
          ],
          "histogram": [
           {
            "marker": {
             "colorbar": {
              "outlinewidth": 0,
              "ticks": ""
             }
            },
            "type": "histogram"
           }
          ],
          "histogram2d": [
           {
            "colorbar": {
             "outlinewidth": 0,
             "ticks": ""
            },
            "colorscale": [
             [
              0,
              "#0d0887"
             ],
             [
              0.1111111111111111,
              "#46039f"
             ],
             [
              0.2222222222222222,
              "#7201a8"
             ],
             [
              0.3333333333333333,
              "#9c179e"
             ],
             [
              0.4444444444444444,
              "#bd3786"
             ],
             [
              0.5555555555555556,
              "#d8576b"
             ],
             [
              0.6666666666666666,
              "#ed7953"
             ],
             [
              0.7777777777777778,
              "#fb9f3a"
             ],
             [
              0.8888888888888888,
              "#fdca26"
             ],
             [
              1,
              "#f0f921"
             ]
            ],
            "type": "histogram2d"
           }
          ],
          "histogram2dcontour": [
           {
            "colorbar": {
             "outlinewidth": 0,
             "ticks": ""
            },
            "colorscale": [
             [
              0,
              "#0d0887"
             ],
             [
              0.1111111111111111,
              "#46039f"
             ],
             [
              0.2222222222222222,
              "#7201a8"
             ],
             [
              0.3333333333333333,
              "#9c179e"
             ],
             [
              0.4444444444444444,
              "#bd3786"
             ],
             [
              0.5555555555555556,
              "#d8576b"
             ],
             [
              0.6666666666666666,
              "#ed7953"
             ],
             [
              0.7777777777777778,
              "#fb9f3a"
             ],
             [
              0.8888888888888888,
              "#fdca26"
             ],
             [
              1,
              "#f0f921"
             ]
            ],
            "type": "histogram2dcontour"
           }
          ],
          "mesh3d": [
           {
            "colorbar": {
             "outlinewidth": 0,
             "ticks": ""
            },
            "type": "mesh3d"
           }
          ],
          "parcoords": [
           {
            "line": {
             "colorbar": {
              "outlinewidth": 0,
              "ticks": ""
             }
            },
            "type": "parcoords"
           }
          ],
          "pie": [
           {
            "automargin": true,
            "type": "pie"
           }
          ],
          "scatter": [
           {
            "marker": {
             "colorbar": {
              "outlinewidth": 0,
              "ticks": ""
             }
            },
            "type": "scatter"
           }
          ],
          "scatter3d": [
           {
            "line": {
             "colorbar": {
              "outlinewidth": 0,
              "ticks": ""
             }
            },
            "marker": {
             "colorbar": {
              "outlinewidth": 0,
              "ticks": ""
             }
            },
            "type": "scatter3d"
           }
          ],
          "scattercarpet": [
           {
            "marker": {
             "colorbar": {
              "outlinewidth": 0,
              "ticks": ""
             }
            },
            "type": "scattercarpet"
           }
          ],
          "scattergeo": [
           {
            "marker": {
             "colorbar": {
              "outlinewidth": 0,
              "ticks": ""
             }
            },
            "type": "scattergeo"
           }
          ],
          "scattergl": [
           {
            "marker": {
             "colorbar": {
              "outlinewidth": 0,
              "ticks": ""
             }
            },
            "type": "scattergl"
           }
          ],
          "scattermapbox": [
           {
            "marker": {
             "colorbar": {
              "outlinewidth": 0,
              "ticks": ""
             }
            },
            "type": "scattermapbox"
           }
          ],
          "scatterpolar": [
           {
            "marker": {
             "colorbar": {
              "outlinewidth": 0,
              "ticks": ""
             }
            },
            "type": "scatterpolar"
           }
          ],
          "scatterpolargl": [
           {
            "marker": {
             "colorbar": {
              "outlinewidth": 0,
              "ticks": ""
             }
            },
            "type": "scatterpolargl"
           }
          ],
          "scatterternary": [
           {
            "marker": {
             "colorbar": {
              "outlinewidth": 0,
              "ticks": ""
             }
            },
            "type": "scatterternary"
           }
          ],
          "surface": [
           {
            "colorbar": {
             "outlinewidth": 0,
             "ticks": ""
            },
            "colorscale": [
             [
              0,
              "#0d0887"
             ],
             [
              0.1111111111111111,
              "#46039f"
             ],
             [
              0.2222222222222222,
              "#7201a8"
             ],
             [
              0.3333333333333333,
              "#9c179e"
             ],
             [
              0.4444444444444444,
              "#bd3786"
             ],
             [
              0.5555555555555556,
              "#d8576b"
             ],
             [
              0.6666666666666666,
              "#ed7953"
             ],
             [
              0.7777777777777778,
              "#fb9f3a"
             ],
             [
              0.8888888888888888,
              "#fdca26"
             ],
             [
              1,
              "#f0f921"
             ]
            ],
            "type": "surface"
           }
          ],
          "table": [
           {
            "cells": {
             "fill": {
              "color": "#EBF0F8"
             },
             "line": {
              "color": "white"
             }
            },
            "header": {
             "fill": {
              "color": "#C8D4E3"
             },
             "line": {
              "color": "white"
             }
            },
            "type": "table"
           }
          ]
         },
         "layout": {
          "annotationdefaults": {
           "arrowcolor": "#2a3f5f",
           "arrowhead": 0,
           "arrowwidth": 1
          },
          "coloraxis": {
           "colorbar": {
            "outlinewidth": 0,
            "ticks": ""
           }
          },
          "colorscale": {
           "diverging": [
            [
             0,
             "#8e0152"
            ],
            [
             0.1,
             "#c51b7d"
            ],
            [
             0.2,
             "#de77ae"
            ],
            [
             0.3,
             "#f1b6da"
            ],
            [
             0.4,
             "#fde0ef"
            ],
            [
             0.5,
             "#f7f7f7"
            ],
            [
             0.6,
             "#e6f5d0"
            ],
            [
             0.7,
             "#b8e186"
            ],
            [
             0.8,
             "#7fbc41"
            ],
            [
             0.9,
             "#4d9221"
            ],
            [
             1,
             "#276419"
            ]
           ],
           "sequential": [
            [
             0,
             "#0d0887"
            ],
            [
             0.1111111111111111,
             "#46039f"
            ],
            [
             0.2222222222222222,
             "#7201a8"
            ],
            [
             0.3333333333333333,
             "#9c179e"
            ],
            [
             0.4444444444444444,
             "#bd3786"
            ],
            [
             0.5555555555555556,
             "#d8576b"
            ],
            [
             0.6666666666666666,
             "#ed7953"
            ],
            [
             0.7777777777777778,
             "#fb9f3a"
            ],
            [
             0.8888888888888888,
             "#fdca26"
            ],
            [
             1,
             "#f0f921"
            ]
           ],
           "sequentialminus": [
            [
             0,
             "#0d0887"
            ],
            [
             0.1111111111111111,
             "#46039f"
            ],
            [
             0.2222222222222222,
             "#7201a8"
            ],
            [
             0.3333333333333333,
             "#9c179e"
            ],
            [
             0.4444444444444444,
             "#bd3786"
            ],
            [
             0.5555555555555556,
             "#d8576b"
            ],
            [
             0.6666666666666666,
             "#ed7953"
            ],
            [
             0.7777777777777778,
             "#fb9f3a"
            ],
            [
             0.8888888888888888,
             "#fdca26"
            ],
            [
             1,
             "#f0f921"
            ]
           ]
          },
          "colorway": [
           "#636efa",
           "#EF553B",
           "#00cc96",
           "#ab63fa",
           "#FFA15A",
           "#19d3f3",
           "#FF6692",
           "#B6E880",
           "#FF97FF",
           "#FECB52"
          ],
          "font": {
           "color": "#2a3f5f"
          },
          "geo": {
           "bgcolor": "white",
           "lakecolor": "white",
           "landcolor": "#E5ECF6",
           "showlakes": true,
           "showland": true,
           "subunitcolor": "white"
          },
          "hoverlabel": {
           "align": "left"
          },
          "hovermode": "closest",
          "mapbox": {
           "style": "light"
          },
          "paper_bgcolor": "white",
          "plot_bgcolor": "#E5ECF6",
          "polar": {
           "angularaxis": {
            "gridcolor": "white",
            "linecolor": "white",
            "ticks": ""
           },
           "bgcolor": "#E5ECF6",
           "radialaxis": {
            "gridcolor": "white",
            "linecolor": "white",
            "ticks": ""
           }
          },
          "scene": {
           "xaxis": {
            "backgroundcolor": "#E5ECF6",
            "gridcolor": "white",
            "gridwidth": 2,
            "linecolor": "white",
            "showbackground": true,
            "ticks": "",
            "zerolinecolor": "white"
           },
           "yaxis": {
            "backgroundcolor": "#E5ECF6",
            "gridcolor": "white",
            "gridwidth": 2,
            "linecolor": "white",
            "showbackground": true,
            "ticks": "",
            "zerolinecolor": "white"
           },
           "zaxis": {
            "backgroundcolor": "#E5ECF6",
            "gridcolor": "white",
            "gridwidth": 2,
            "linecolor": "white",
            "showbackground": true,
            "ticks": "",
            "zerolinecolor": "white"
           }
          },
          "shapedefaults": {
           "line": {
            "color": "#2a3f5f"
           }
          },
          "ternary": {
           "aaxis": {
            "gridcolor": "white",
            "linecolor": "white",
            "ticks": ""
           },
           "baxis": {
            "gridcolor": "white",
            "linecolor": "white",
            "ticks": ""
           },
           "bgcolor": "#E5ECF6",
           "caxis": {
            "gridcolor": "white",
            "linecolor": "white",
            "ticks": ""
           }
          },
          "title": {
           "x": 0.05
          },
          "xaxis": {
           "automargin": true,
           "gridcolor": "white",
           "linecolor": "white",
           "ticks": "",
           "title": {
            "standoff": 15
           },
           "zerolinecolor": "white",
           "zerolinewidth": 2
          },
          "yaxis": {
           "automargin": true,
           "gridcolor": "white",
           "linecolor": "white",
           "ticks": "",
           "title": {
            "standoff": 15
           },
           "zerolinecolor": "white",
           "zerolinewidth": 2
          }
         }
        },
        "title": {
         "font": {
          "color": "#4D5663"
         }
        },
        "xaxis": {
         "gridcolor": "#E1E5ED",
         "showgrid": true,
         "tickfont": {
          "color": "#4D5663"
         },
         "title": {
          "font": {
           "color": "#4D5663"
          },
          "text": ""
         },
         "zerolinecolor": "#E1E5ED"
        },
        "yaxis": {
         "gridcolor": "#E1E5ED",
         "showgrid": true,
         "tickfont": {
          "color": "#4D5663"
         },
         "title": {
          "font": {
           "color": "#4D5663"
          },
          "text": ""
         },
         "zerolinecolor": "#E1E5ED"
        }
       }
      },
      "text/html": [
       "<div>\n",
       "        \n",
       "        \n",
       "            <div id=\"c59f48bb-2656-4903-ba58-42e30bbd1d2b\" class=\"plotly-graph-div\" style=\"height:525px; width:100%;\"></div>\n",
       "            <script type=\"text/javascript\">\n",
       "                require([\"plotly\"], function(Plotly) {\n",
       "                    window.PLOTLYENV=window.PLOTLYENV || {};\n",
       "                    window.PLOTLYENV.BASE_URL='https://plot.ly';\n",
       "                    \n",
       "                if (document.getElementById(\"c59f48bb-2656-4903-ba58-42e30bbd1d2b\")) {\n",
       "                    Plotly.newPlot(\n",
       "                        'c59f48bb-2656-4903-ba58-42e30bbd1d2b',\n",
       "                        [{\"marker\": {\"color\": [\"orange\", \"orange\", \"orange\", \"orange\", \"orange\", \"orange\", \"orange\", \"orange\", \"orange\", \"orange\", \"orange\", \"orange\", \"orange\", \"orange\", \"orange\", \"orange\", \"orange\", \"orange\", \"orange\", \"orange\", \"orange\", \"orange\", \"orange\", \"orange\", \"orange\", \"orange\", \"orange\", \"orange\", \"orange\", \"orange\", \"orange\", \"orange\", \"orange\", \"orange\", \"orange\", \"orange\", \"orange\", \"orange\", \"orange\", \"orange\", \"orange\", \"orange\", \"orange\", \"orange\", \"orange\", \"orange\", \"orange\", \"orange\", \"orange\", \"orange\", \"orange\", \"orange\", \"orange\", \"orange\", \"orange\", \"orange\", \"orange\", \"orange\", \"orange\", \"orange\", \"orange\", \"orange\", \"orange\", \"orange\", \"orange\", \"orange\", \"orange\", \"orange\", \"orange\", \"orange\", \"orange\", \"orange\", \"orange\", \"orange\", \"orange\", \"orange\", \"orange\", \"orange\", \"orange\", \"orange\", \"orange\", \"orange\", \"orange\", \"orange\", \"orange\", \"orange\", \"orange\", \"orange\", \"orange\", \"orange\", \"orange\", \"orange\", \"orange\", \"orange\", \"orange\", \"orange\", \"orange\", \"orange\", \"orange\", \"orange\"], \"line\": {\"width\": 1.3}, \"size\": [89, 80, 32, 53, 77, 71, 78, 53, 62, 12, 22, 65, 97, 77, 60, 98, 77, 68, 67, 94, 47, 54, 42, 96, 48, 112, 58, 41, 104, 54, 109, 29, 91, 97, 78, 97, 66, 53, 28, 93, 21, 19, 45, 17, 28, 106, 61, 79, 71, 38, 56, 43, 55, 50, 62, 30, 82, 37, 88, 35, 12, 107, 78, 94, 79, 63, 71, 82, 36, 13, 29, 100, 36, 108, 100, 42, 55, 74, 57, 62, 34, 37, 95, 81, 100, 107, 65, 101, 28, 43, 48, 22, 48, 50, 37, 40, 15, 72, 78, 98], \"symbol\": \"circle\"}, \"mode\": \"markers\", \"text\": \"\", \"type\": \"scatter\", \"x\": [1.204374223794343, -0.36906833924077637, -0.8122413394730359, 1.3997697154739082, -1.060788107444831, 0.5515735422646244, 0.14061940746164717, 0.16983560391476102, -0.5570859045323824, 1.401481283250656, -0.22735734650862433, -0.2708226895595077, -0.061950652045331865, -0.23938387027733657, 1.108929431106888, 1.5885217800040747, -0.23559972372649096, -0.8063452712749882, 0.13813159002450978, -0.6380738291099499, -1.3331534209046985, -0.1297105180803108, -0.10188136335052575, -0.30361318214471156, 0.16497636748164915, 2.183144065787738, -0.7843797606187034, -0.7395470414853026, -0.527746573443475, 1.1734247890807368, -0.4277744368396613, 1.586083786095986, -0.5946807669553307, 1.1091000750587032, -2.2431426226953897, 1.0511348504249087, -1.7084854938366552, 0.3848496070527757, 0.02319587782161051, -1.5614243800488814, -0.49612500584776853, 0.36651695375891874, -1.9325653893667134, -0.009736954747299615, 0.5770681622022307, -1.798736202311587, -1.4731317977982321, 0.9207786842892908, -1.4109451145958787, 1.474614654368594, -1.151126450220308, 1.0959490386459758, 0.7132001708734125, 1.5389324759551382, -0.3437764307427175, -0.1398678689458212, -0.5692961334275359, -0.3876239117207527, 2.1646360720109534, -0.8575609675505435, -0.12246755380214738, -0.35793397267560856, 0.6760702797677335, 0.6859757866029638, 1.2172949175056056, 3.0190435916527885, -0.49318883868647506, -1.4621624134879483, -0.018015512803250384, 1.0663682852882106, 0.6097999035722868, 0.8061363870535981, -0.9775765064326202, 1.9186469222357772, -1.3863509250475359, -1.729431686804565, -0.18184271399933602, -0.18613439383574115, 0.5857466322063433, -0.34237696433466347, 0.3571290493876967, 0.006789251745769943, -3.2125921573829657, -0.5584989724527796, -0.3753882921486149, 0.4722926040135994, -2.363150670854163, -0.6542164839532234, 0.032211397087431724, -1.138463704994325, 0.16231793129177194, 0.4166899662658287, -0.18051501338281437, -0.15668668070654856, 0.0848144483366338, 0.6315939404556832, 0.49811604910354135, 0.9187915032050765, -0.45235784878744706, -0.18836177542466803], \"y\": [0.28883879264521045, -0.9696091384577731, 0.3240029375457199, -2.0275223864420986, 0.14726848424825328, 0.678991256631577, 0.8082635732754649, -1.7856463481517608, -1.104842817878926, -0.46027812161661064, -2.1537687431575328, 0.15945482476116415, -1.3018992475704751, 0.6025453549513595, 0.2587350592374064, 0.8027749160485882, 0.35454868506569975, -0.4552450279185263, -0.8120909393883892, -0.4444774282124728, 0.36142121866382554, 1.0066457905843325, 2.1146963668436967, 0.3867859557004427, 0.30976253103714385, 0.25304790269208116, -0.4853018821573321, -0.4266472311732564, 1.0574834426305726, 0.0727828918106895, 0.6387061611541429, 0.35282443058578244, 1.2613356031803376, 1.9112868409358335, 0.35270908010673824, 0.33830107746460486, 0.9661583398721716, 0.7409660674911244, -1.0132490082439065, 1.1381430753784794, 0.06956837769113201, -0.025060573913217636, 0.5601028658725632, 1.1067653704904703, 0.5381067202924643, -0.7979118583312437, 0.6334157782864624, -0.5266080026725684, 0.4833853733012127, -0.38299530376008994, -0.4357980040855327, -0.37062045661239246, -1.3414385587779716, -0.36590910152001693, -0.7034440798878234, -1.3876156954916887, -1.0926499669857581, 0.5638637016453981, -0.3829013772219426, 1.9157532042187086, 0.761887728347791, 0.8146029084065223, 0.8231475450342212, 0.04436894811492774, -1.0635463927921698, -0.07945247508080461, 1.882926346755678, -0.20579958146507463, 0.4168470364341955, 0.36946234527703425, 1.022023039989263, -2.199761127185428, 0.09350752683525511, 0.050408117632942985, 2.190592367226769, -0.23747751471779366, 1.0478758815724036, -0.4337413657219337, 0.20492756400731685, 2.3831221699587988, -0.6802126826044421, 0.9545186757613414, -1.559532703638838, -0.2702728387868071, 0.2237820300585606, -0.18639837634820103, -0.47969720470485616, 0.44948289758789267, -0.3239630401170654, 0.12299224412986517, -0.2955225352765806, -0.06693027092072842, -0.3667350661835663, -1.1643883307876375, 0.8995409226274617, -1.0630968020526121, -2.25782917678505, 0.17250522033490703, -2.0771412668361102, -1.498269212529484]}],\n",
       "                        {\"legend\": {\"bgcolor\": \"#F5F6F9\", \"font\": {\"color\": \"#4D5663\"}}, \"paper_bgcolor\": \"#F5F6F9\", \"plot_bgcolor\": \"#F5F6F9\", \"template\": {\"data\": {\"bar\": [{\"error_x\": {\"color\": \"#2a3f5f\"}, \"error_y\": {\"color\": \"#2a3f5f\"}, \"marker\": {\"line\": {\"color\": \"#E5ECF6\", \"width\": 0.5}}, \"type\": \"bar\"}], \"barpolar\": [{\"marker\": {\"line\": {\"color\": \"#E5ECF6\", \"width\": 0.5}}, \"type\": \"barpolar\"}], \"carpet\": [{\"aaxis\": {\"endlinecolor\": \"#2a3f5f\", \"gridcolor\": \"white\", \"linecolor\": \"white\", \"minorgridcolor\": \"white\", \"startlinecolor\": \"#2a3f5f\"}, \"baxis\": {\"endlinecolor\": \"#2a3f5f\", \"gridcolor\": \"white\", \"linecolor\": \"white\", \"minorgridcolor\": \"white\", \"startlinecolor\": \"#2a3f5f\"}, \"type\": \"carpet\"}], \"choropleth\": [{\"colorbar\": {\"outlinewidth\": 0, \"ticks\": \"\"}, \"type\": \"choropleth\"}], \"contour\": [{\"colorbar\": {\"outlinewidth\": 0, \"ticks\": \"\"}, \"colorscale\": [[0.0, \"#0d0887\"], [0.1111111111111111, \"#46039f\"], [0.2222222222222222, \"#7201a8\"], [0.3333333333333333, \"#9c179e\"], [0.4444444444444444, \"#bd3786\"], [0.5555555555555556, \"#d8576b\"], [0.6666666666666666, \"#ed7953\"], [0.7777777777777778, \"#fb9f3a\"], [0.8888888888888888, \"#fdca26\"], [1.0, \"#f0f921\"]], \"type\": \"contour\"}], \"contourcarpet\": [{\"colorbar\": {\"outlinewidth\": 0, \"ticks\": \"\"}, \"type\": \"contourcarpet\"}], \"heatmap\": [{\"colorbar\": {\"outlinewidth\": 0, \"ticks\": \"\"}, \"colorscale\": [[0.0, \"#0d0887\"], [0.1111111111111111, \"#46039f\"], [0.2222222222222222, \"#7201a8\"], [0.3333333333333333, \"#9c179e\"], [0.4444444444444444, \"#bd3786\"], [0.5555555555555556, \"#d8576b\"], [0.6666666666666666, \"#ed7953\"], [0.7777777777777778, \"#fb9f3a\"], [0.8888888888888888, \"#fdca26\"], [1.0, \"#f0f921\"]], \"type\": \"heatmap\"}], \"heatmapgl\": [{\"colorbar\": {\"outlinewidth\": 0, \"ticks\": \"\"}, \"colorscale\": [[0.0, \"#0d0887\"], [0.1111111111111111, \"#46039f\"], [0.2222222222222222, \"#7201a8\"], [0.3333333333333333, \"#9c179e\"], [0.4444444444444444, \"#bd3786\"], [0.5555555555555556, \"#d8576b\"], [0.6666666666666666, \"#ed7953\"], [0.7777777777777778, \"#fb9f3a\"], [0.8888888888888888, \"#fdca26\"], [1.0, \"#f0f921\"]], \"type\": \"heatmapgl\"}], \"histogram\": [{\"marker\": {\"colorbar\": {\"outlinewidth\": 0, \"ticks\": \"\"}}, \"type\": \"histogram\"}], \"histogram2d\": [{\"colorbar\": {\"outlinewidth\": 0, \"ticks\": \"\"}, \"colorscale\": [[0.0, \"#0d0887\"], [0.1111111111111111, \"#46039f\"], [0.2222222222222222, \"#7201a8\"], [0.3333333333333333, \"#9c179e\"], [0.4444444444444444, \"#bd3786\"], [0.5555555555555556, \"#d8576b\"], [0.6666666666666666, \"#ed7953\"], [0.7777777777777778, \"#fb9f3a\"], [0.8888888888888888, \"#fdca26\"], [1.0, \"#f0f921\"]], \"type\": \"histogram2d\"}], \"histogram2dcontour\": [{\"colorbar\": {\"outlinewidth\": 0, \"ticks\": \"\"}, \"colorscale\": [[0.0, \"#0d0887\"], [0.1111111111111111, \"#46039f\"], [0.2222222222222222, \"#7201a8\"], [0.3333333333333333, \"#9c179e\"], [0.4444444444444444, \"#bd3786\"], [0.5555555555555556, \"#d8576b\"], [0.6666666666666666, \"#ed7953\"], [0.7777777777777778, \"#fb9f3a\"], [0.8888888888888888, \"#fdca26\"], [1.0, \"#f0f921\"]], \"type\": \"histogram2dcontour\"}], \"mesh3d\": [{\"colorbar\": {\"outlinewidth\": 0, \"ticks\": \"\"}, \"type\": \"mesh3d\"}], \"parcoords\": [{\"line\": {\"colorbar\": {\"outlinewidth\": 0, \"ticks\": \"\"}}, \"type\": \"parcoords\"}], \"pie\": [{\"automargin\": true, \"type\": \"pie\"}], \"scatter\": [{\"marker\": {\"colorbar\": {\"outlinewidth\": 0, \"ticks\": \"\"}}, \"type\": \"scatter\"}], \"scatter3d\": [{\"line\": {\"colorbar\": {\"outlinewidth\": 0, \"ticks\": \"\"}}, \"marker\": {\"colorbar\": {\"outlinewidth\": 0, \"ticks\": \"\"}}, \"type\": \"scatter3d\"}], \"scattercarpet\": [{\"marker\": {\"colorbar\": {\"outlinewidth\": 0, \"ticks\": \"\"}}, \"type\": \"scattercarpet\"}], \"scattergeo\": [{\"marker\": {\"colorbar\": {\"outlinewidth\": 0, \"ticks\": \"\"}}, \"type\": \"scattergeo\"}], \"scattergl\": [{\"marker\": {\"colorbar\": {\"outlinewidth\": 0, \"ticks\": \"\"}}, \"type\": \"scattergl\"}], \"scattermapbox\": [{\"marker\": {\"colorbar\": {\"outlinewidth\": 0, \"ticks\": \"\"}}, \"type\": \"scattermapbox\"}], \"scatterpolar\": [{\"marker\": {\"colorbar\": {\"outlinewidth\": 0, \"ticks\": \"\"}}, \"type\": \"scatterpolar\"}], \"scatterpolargl\": [{\"marker\": {\"colorbar\": {\"outlinewidth\": 0, \"ticks\": \"\"}}, \"type\": \"scatterpolargl\"}], \"scatterternary\": [{\"marker\": {\"colorbar\": {\"outlinewidth\": 0, \"ticks\": \"\"}}, \"type\": \"scatterternary\"}], \"surface\": [{\"colorbar\": {\"outlinewidth\": 0, \"ticks\": \"\"}, \"colorscale\": [[0.0, \"#0d0887\"], [0.1111111111111111, \"#46039f\"], [0.2222222222222222, \"#7201a8\"], [0.3333333333333333, \"#9c179e\"], [0.4444444444444444, \"#bd3786\"], [0.5555555555555556, \"#d8576b\"], [0.6666666666666666, \"#ed7953\"], [0.7777777777777778, \"#fb9f3a\"], [0.8888888888888888, \"#fdca26\"], [1.0, \"#f0f921\"]], \"type\": \"surface\"}], \"table\": [{\"cells\": {\"fill\": {\"color\": \"#EBF0F8\"}, \"line\": {\"color\": \"white\"}}, \"header\": {\"fill\": {\"color\": \"#C8D4E3\"}, \"line\": {\"color\": \"white\"}}, \"type\": \"table\"}]}, \"layout\": {\"annotationdefaults\": {\"arrowcolor\": \"#2a3f5f\", \"arrowhead\": 0, \"arrowwidth\": 1}, \"coloraxis\": {\"colorbar\": {\"outlinewidth\": 0, \"ticks\": \"\"}}, \"colorscale\": {\"diverging\": [[0, \"#8e0152\"], [0.1, \"#c51b7d\"], [0.2, \"#de77ae\"], [0.3, \"#f1b6da\"], [0.4, \"#fde0ef\"], [0.5, \"#f7f7f7\"], [0.6, \"#e6f5d0\"], [0.7, \"#b8e186\"], [0.8, \"#7fbc41\"], [0.9, \"#4d9221\"], [1, \"#276419\"]], \"sequential\": [[0.0, \"#0d0887\"], [0.1111111111111111, \"#46039f\"], [0.2222222222222222, \"#7201a8\"], [0.3333333333333333, \"#9c179e\"], [0.4444444444444444, \"#bd3786\"], [0.5555555555555556, \"#d8576b\"], [0.6666666666666666, \"#ed7953\"], [0.7777777777777778, \"#fb9f3a\"], [0.8888888888888888, \"#fdca26\"], [1.0, \"#f0f921\"]], \"sequentialminus\": [[0.0, \"#0d0887\"], [0.1111111111111111, \"#46039f\"], [0.2222222222222222, \"#7201a8\"], [0.3333333333333333, \"#9c179e\"], [0.4444444444444444, \"#bd3786\"], [0.5555555555555556, \"#d8576b\"], [0.6666666666666666, \"#ed7953\"], [0.7777777777777778, \"#fb9f3a\"], [0.8888888888888888, \"#fdca26\"], [1.0, \"#f0f921\"]]}, \"colorway\": [\"#636efa\", \"#EF553B\", \"#00cc96\", \"#ab63fa\", \"#FFA15A\", \"#19d3f3\", \"#FF6692\", \"#B6E880\", \"#FF97FF\", \"#FECB52\"], \"font\": {\"color\": \"#2a3f5f\"}, \"geo\": {\"bgcolor\": \"white\", \"lakecolor\": \"white\", \"landcolor\": \"#E5ECF6\", \"showlakes\": true, \"showland\": true, \"subunitcolor\": \"white\"}, \"hoverlabel\": {\"align\": \"left\"}, \"hovermode\": \"closest\", \"mapbox\": {\"style\": \"light\"}, \"paper_bgcolor\": \"white\", \"plot_bgcolor\": \"#E5ECF6\", \"polar\": {\"angularaxis\": {\"gridcolor\": \"white\", \"linecolor\": \"white\", \"ticks\": \"\"}, \"bgcolor\": \"#E5ECF6\", \"radialaxis\": {\"gridcolor\": \"white\", \"linecolor\": \"white\", \"ticks\": \"\"}}, \"scene\": {\"xaxis\": {\"backgroundcolor\": \"#E5ECF6\", \"gridcolor\": \"white\", \"gridwidth\": 2, \"linecolor\": \"white\", \"showbackground\": true, \"ticks\": \"\", \"zerolinecolor\": \"white\"}, \"yaxis\": {\"backgroundcolor\": \"#E5ECF6\", \"gridcolor\": \"white\", \"gridwidth\": 2, \"linecolor\": \"white\", \"showbackground\": true, \"ticks\": \"\", \"zerolinecolor\": \"white\"}, \"zaxis\": {\"backgroundcolor\": \"#E5ECF6\", \"gridcolor\": \"white\", \"gridwidth\": 2, \"linecolor\": \"white\", \"showbackground\": true, \"ticks\": \"\", \"zerolinecolor\": \"white\"}}, \"shapedefaults\": {\"line\": {\"color\": \"#2a3f5f\"}}, \"ternary\": {\"aaxis\": {\"gridcolor\": \"white\", \"linecolor\": \"white\", \"ticks\": \"\"}, \"baxis\": {\"gridcolor\": \"white\", \"linecolor\": \"white\", \"ticks\": \"\"}, \"bgcolor\": \"#E5ECF6\", \"caxis\": {\"gridcolor\": \"white\", \"linecolor\": \"white\", \"ticks\": \"\"}}, \"title\": {\"x\": 0.05}, \"xaxis\": {\"automargin\": true, \"gridcolor\": \"white\", \"linecolor\": \"white\", \"ticks\": \"\", \"title\": {\"standoff\": 15}, \"zerolinecolor\": \"white\", \"zerolinewidth\": 2}, \"yaxis\": {\"automargin\": true, \"gridcolor\": \"white\", \"linecolor\": \"white\", \"ticks\": \"\", \"title\": {\"standoff\": 15}, \"zerolinecolor\": \"white\", \"zerolinewidth\": 2}}}, \"title\": {\"font\": {\"color\": \"#4D5663\"}}, \"xaxis\": {\"gridcolor\": \"#E1E5ED\", \"showgrid\": true, \"tickfont\": {\"color\": \"#4D5663\"}, \"title\": {\"font\": {\"color\": \"#4D5663\"}, \"text\": \"\"}, \"zerolinecolor\": \"#E1E5ED\"}, \"yaxis\": {\"gridcolor\": \"#E1E5ED\", \"showgrid\": true, \"tickfont\": {\"color\": \"#4D5663\"}, \"title\": {\"font\": {\"color\": \"#4D5663\"}, \"text\": \"\"}, \"zerolinecolor\": \"#E1E5ED\"}},\n",
       "                        {\"showLink\": true, \"linkText\": \"Export to plot.ly\", \"plotlyServerURL\": \"https://plot.ly\", \"responsive\": true}\n",
       "                    ).then(function(){\n",
       "                            \n",
       "var gd = document.getElementById('c59f48bb-2656-4903-ba58-42e30bbd1d2b');\n",
       "var x = new MutationObserver(function (mutations, observer) {{\n",
       "        var display = window.getComputedStyle(gd).display;\n",
       "        if (!display || display === 'none') {{\n",
       "            console.log([gd, 'removed!']);\n",
       "            Plotly.purge(gd);\n",
       "            observer.disconnect();\n",
       "        }}\n",
       "}});\n",
       "\n",
       "// Listen for the removal of the full notebook cells\n",
       "var notebookContainer = gd.closest('#notebook-container');\n",
       "if (notebookContainer) {{\n",
       "    x.observe(notebookContainer, {childList: true});\n",
       "}}\n",
       "\n",
       "// Listen for the clearing of the current output cell\n",
       "var outputEl = gd.closest('.output');\n",
       "if (outputEl) {{\n",
       "    x.observe(outputEl, {childList: true});\n",
       "}}\n",
       "\n",
       "                        })\n",
       "                };\n",
       "                });\n",
       "            </script>\n",
       "        </div>"
      ]
     },
     "metadata": {},
     "output_type": "display_data"
    }
   ],
   "source": [
    "#Bubble plot\n",
    "\n",
    "# similar to scatter plot graph however it will cahnge the size of the bubbles \n",
    "#based on another columns\n",
    "\n",
    "df.iplot(kind = 'bubble', x ='A', y='B', size = 'C', color = 'orange')\n",
    "\n"
   ]
  },
  {
   "cell_type": "code",
   "execution_count": 57,
   "metadata": {},
   "outputs": [
    {
     "data": {
      "application/vnd.plotly.v1+json": {
       "config": {
        "linkText": "Export to plot.ly",
        "plotlyServerURL": "https://plot.ly",
        "showLink": true
       },
       "data": [
        {
         "histfunc": "count",
         "histnorm": "",
         "marker": {
          "color": "rgba(255, 153, 51, 1.0)",
          "line": {
           "color": "#4D5663",
           "width": 1.3
          }
         },
         "name": "A",
         "nbinsx": 10,
         "opacity": 0.8,
         "orientation": "v",
         "type": "histogram",
         "x": [
          1.204374223794343,
          -0.36906833924077637,
          -0.8122413394730359,
          1.3997697154739082,
          -1.060788107444831,
          0.5515735422646244,
          0.14061940746164717,
          0.16983560391476102,
          -0.5570859045323824,
          1.401481283250656,
          -0.22735734650862433,
          -0.2708226895595077,
          -0.061950652045331865,
          -0.23938387027733657,
          1.108929431106888,
          1.5885217800040747,
          -0.23559972372649096,
          -0.8063452712749882,
          0.13813159002450978,
          -0.6380738291099499,
          -1.3331534209046985,
          -0.1297105180803108,
          -0.10188136335052575,
          -0.30361318214471156,
          0.16497636748164915,
          2.183144065787738,
          -0.7843797606187034,
          -0.7395470414853026,
          -0.527746573443475,
          1.1734247890807368,
          -0.4277744368396613,
          1.586083786095986,
          -0.5946807669553307,
          1.1091000750587032,
          -2.2431426226953897,
          1.0511348504249087,
          -1.7084854938366552,
          0.3848496070527757,
          0.02319587782161051,
          -1.5614243800488814,
          -0.49612500584776853,
          0.36651695375891874,
          -1.9325653893667134,
          -0.009736954747299615,
          0.5770681622022307,
          -1.798736202311587,
          -1.4731317977982321,
          0.9207786842892908,
          -1.4109451145958787,
          1.474614654368594,
          -1.151126450220308,
          1.0959490386459758,
          0.7132001708734125,
          1.5389324759551382,
          -0.3437764307427175,
          -0.1398678689458212,
          -0.5692961334275359,
          -0.3876239117207527,
          2.1646360720109534,
          -0.8575609675505435,
          -0.12246755380214738,
          -0.35793397267560856,
          0.6760702797677335,
          0.6859757866029638,
          1.2172949175056056,
          3.0190435916527885,
          -0.49318883868647506,
          -1.4621624134879483,
          -0.018015512803250384,
          1.0663682852882106,
          0.6097999035722868,
          0.8061363870535981,
          -0.9775765064326202,
          1.9186469222357772,
          -1.3863509250475359,
          -1.729431686804565,
          -0.18184271399933602,
          -0.18613439383574115,
          0.5857466322063433,
          -0.34237696433466347,
          0.3571290493876967,
          0.006789251745769943,
          -3.2125921573829657,
          -0.5584989724527796,
          -0.3753882921486149,
          0.4722926040135994,
          -2.363150670854163,
          -0.6542164839532234,
          0.032211397087431724,
          -1.138463704994325,
          0.16231793129177194,
          0.4166899662658287,
          -0.18051501338281437,
          -0.15668668070654856,
          0.0848144483366338,
          0.6315939404556832,
          0.49811604910354135,
          0.9187915032050765,
          -0.45235784878744706,
          -0.18836177542466803
         ],
         "xaxis": "x",
         "yaxis": "y"
        },
        {
         "line": {
          "color": "rgba(128, 128, 128, 1.0)",
          "dash": "solid",
          "shape": "linear",
          "width": 1.3
         },
         "marker": {
          "size": 2,
          "symbol": "circle"
         },
         "mode": "markers",
         "name": "A",
         "text": "",
         "type": "scatter",
         "x": [
          0.28883879264521045,
          -0.9696091384577731,
          0.3240029375457199,
          -2.0275223864420986,
          0.14726848424825328,
          0.678991256631577,
          0.8082635732754649,
          -1.7856463481517608,
          -1.104842817878926,
          -0.46027812161661064,
          -2.1537687431575328,
          0.15945482476116415,
          -1.3018992475704751,
          0.6025453549513595,
          0.2587350592374064,
          0.8027749160485882,
          0.35454868506569975,
          -0.4552450279185263,
          -0.8120909393883892,
          -0.4444774282124728,
          0.36142121866382554,
          1.0066457905843325,
          2.1146963668436967,
          0.3867859557004427,
          0.30976253103714385,
          0.25304790269208116,
          -0.4853018821573321,
          -0.4266472311732564,
          1.0574834426305726,
          0.0727828918106895,
          0.6387061611541429,
          0.35282443058578244,
          1.2613356031803376,
          1.9112868409358335,
          0.35270908010673824,
          0.33830107746460486,
          0.9661583398721716,
          0.7409660674911244,
          -1.0132490082439065,
          1.1381430753784794,
          0.06956837769113201,
          -0.025060573913217636,
          0.5601028658725632,
          1.1067653704904703,
          0.5381067202924643,
          -0.7979118583312437,
          0.6334157782864624,
          -0.5266080026725684,
          0.4833853733012127,
          -0.38299530376008994,
          -0.4357980040855327,
          -0.37062045661239246,
          -1.3414385587779716,
          -0.36590910152001693,
          -0.7034440798878234,
          -1.3876156954916887,
          -1.0926499669857581,
          0.5638637016453981,
          -0.3829013772219426,
          1.9157532042187086,
          0.761887728347791,
          0.8146029084065223,
          0.8231475450342212,
          0.04436894811492774,
          -1.0635463927921698,
          -0.07945247508080461,
          1.882926346755678,
          -0.20579958146507463,
          0.4168470364341955,
          0.36946234527703425,
          1.022023039989263,
          -2.199761127185428,
          0.09350752683525511,
          0.050408117632942985,
          2.190592367226769,
          -0.23747751471779366,
          1.0478758815724036,
          -0.4337413657219337,
          0.20492756400731685,
          2.3831221699587988,
          -0.6802126826044421,
          0.9545186757613414,
          -1.559532703638838,
          -0.2702728387868071,
          0.2237820300585606,
          -0.18639837634820103,
          -0.47969720470485616,
          0.44948289758789267,
          -0.3239630401170654,
          0.12299224412986517,
          -0.2955225352765806,
          -0.06693027092072842,
          -0.3667350661835663,
          -1.1643883307876375,
          0.8995409226274617,
          -1.0630968020526121,
          -2.25782917678505,
          0.17250522033490703,
          -2.0771412668361102,
          -1.498269212529484
         ],
         "xaxis": "x2",
         "y": [
          1.204374223794343,
          -0.36906833924077637,
          -0.8122413394730359,
          1.3997697154739082,
          -1.060788107444831,
          0.5515735422646244,
          0.14061940746164717,
          0.16983560391476102,
          -0.5570859045323824,
          1.401481283250656,
          -0.22735734650862433,
          -0.2708226895595077,
          -0.061950652045331865,
          -0.23938387027733657,
          1.108929431106888,
          1.5885217800040747,
          -0.23559972372649096,
          -0.8063452712749882,
          0.13813159002450978,
          -0.6380738291099499,
          -1.3331534209046985,
          -0.1297105180803108,
          -0.10188136335052575,
          -0.30361318214471156,
          0.16497636748164915,
          2.183144065787738,
          -0.7843797606187034,
          -0.7395470414853026,
          -0.527746573443475,
          1.1734247890807368,
          -0.4277744368396613,
          1.586083786095986,
          -0.5946807669553307,
          1.1091000750587032,
          -2.2431426226953897,
          1.0511348504249087,
          -1.7084854938366552,
          0.3848496070527757,
          0.02319587782161051,
          -1.5614243800488814,
          -0.49612500584776853,
          0.36651695375891874,
          -1.9325653893667134,
          -0.009736954747299615,
          0.5770681622022307,
          -1.798736202311587,
          -1.4731317977982321,
          0.9207786842892908,
          -1.4109451145958787,
          1.474614654368594,
          -1.151126450220308,
          1.0959490386459758,
          0.7132001708734125,
          1.5389324759551382,
          -0.3437764307427175,
          -0.1398678689458212,
          -0.5692961334275359,
          -0.3876239117207527,
          2.1646360720109534,
          -0.8575609675505435,
          -0.12246755380214738,
          -0.35793397267560856,
          0.6760702797677335,
          0.6859757866029638,
          1.2172949175056056,
          3.0190435916527885,
          -0.49318883868647506,
          -1.4621624134879483,
          -0.018015512803250384,
          1.0663682852882106,
          0.6097999035722868,
          0.8061363870535981,
          -0.9775765064326202,
          1.9186469222357772,
          -1.3863509250475359,
          -1.729431686804565,
          -0.18184271399933602,
          -0.18613439383574115,
          0.5857466322063433,
          -0.34237696433466347,
          0.3571290493876967,
          0.006789251745769943,
          -3.2125921573829657,
          -0.5584989724527796,
          -0.3753882921486149,
          0.4722926040135994,
          -2.363150670854163,
          -0.6542164839532234,
          0.032211397087431724,
          -1.138463704994325,
          0.16231793129177194,
          0.4166899662658287,
          -0.18051501338281437,
          -0.15668668070654856,
          0.0848144483366338,
          0.6315939404556832,
          0.49811604910354135,
          0.9187915032050765,
          -0.45235784878744706,
          -0.18836177542466803
         ],
         "yaxis": "y2"
        },
        {
         "line": {
          "color": "rgba(128, 128, 128, 1.0)",
          "dash": "solid",
          "shape": "linear",
          "width": 1.3
         },
         "marker": {
          "size": 2,
          "symbol": "circle"
         },
         "mode": "markers",
         "name": "A",
         "text": "",
         "type": "scatter",
         "x": [
          0.9343696833686856,
          0.6173183922345006,
          -1.0639285999296693,
          -0.33859612376905984,
          0.506690249511028,
          0.2957480725083949,
          0.5263886133671345,
          -0.32276366714443333,
          -0.01792066674395618,
          -1.775083329657011,
          -1.4437741093187602,
          0.07329908144639716,
          1.202571194374941,
          0.5168437647049239,
          -0.09882521510224906,
          1.2444214483260527,
          0.4917821790620534,
          0.1965902827913307,
          0.16855948625243314,
          1.108497197968096,
          -0.5675585086297141,
          -0.3095257147273207,
          -0.7102455459926497,
          1.1671495944265564,
          -0.5284595837443142,
          1.7243424357402708,
          -0.16867574245345937,
          -0.7529943369078369,
          1.4714561614880592,
          -0.3156054085787056,
          1.6318798368170893,
          -1.1814339345772011,
          1.0176216826497526,
          1.2215659458124433,
          0.5550009695494434,
          1.2051994421401777,
          0.12738565982693809,
          -0.349202693458132,
          -1.2226864380171725,
          1.0622710558752908,
          -1.4610410655094517,
          -1.5352515493002508,
          -0.6112654698490414,
          -1.6006436768837422,
          -1.2126704936089923,
          1.51414712452721,
          -0.05326645847836819,
          0.5720140651740735,
          0.30677221656661624,
          -0.8515412861948122,
          -0.2175631127524753,
          -0.6866800691236976,
          -0.2718610220028386,
          -0.4286993360378733,
          -0.008244722026312986,
          -1.134459704124308,
          0.6839925305569563,
          -0.9037393141619001,
          0.8946253754874015,
          -0.9563364923279836,
          -1.8017716095525207,
          1.5529278139958989,
          0.5585114201282104,
          1.1081748287221973,
          0.5786445092709741,
          0.012575418742362943,
          0.31251853048904665,
          0.668992790804777,
          -0.9357642050522706,
          -1.7502352908475747,
          -1.1891899470303575,
          1.3039873876743129,
          -0.9290778024734753,
          1.5949617014816626,
          1.317263804134899,
          -0.7393457254093768,
          -0.2836412501033554,
          0.39500577301382556,
          -0.19878243420856143,
          -0.015156971804573429,
          -1.0233128562001466,
          -0.9044467815425445,
          1.130533978735926,
          0.6647964258955746,
          1.3161641115644949,
          1.5555717667850633,
          0.09260698431106808,
          1.364533716086213,
          -1.2169224255756232,
          -0.703560958600298,
          -0.5226056338222739,
          -1.4403106413817668,
          -0.5082752114604108,
          -0.45246678819824143,
          -0.8994474129369322,
          -0.8038036119855998,
          -1.6685950229652726,
          0.32678600253398316,
          0.5581877526293396,
          1.252591507712197
         ],
         "xaxis": "x3",
         "y": [
          1.204374223794343,
          -0.36906833924077637,
          -0.8122413394730359,
          1.3997697154739082,
          -1.060788107444831,
          0.5515735422646244,
          0.14061940746164717,
          0.16983560391476102,
          -0.5570859045323824,
          1.401481283250656,
          -0.22735734650862433,
          -0.2708226895595077,
          -0.061950652045331865,
          -0.23938387027733657,
          1.108929431106888,
          1.5885217800040747,
          -0.23559972372649096,
          -0.8063452712749882,
          0.13813159002450978,
          -0.6380738291099499,
          -1.3331534209046985,
          -0.1297105180803108,
          -0.10188136335052575,
          -0.30361318214471156,
          0.16497636748164915,
          2.183144065787738,
          -0.7843797606187034,
          -0.7395470414853026,
          -0.527746573443475,
          1.1734247890807368,
          -0.4277744368396613,
          1.586083786095986,
          -0.5946807669553307,
          1.1091000750587032,
          -2.2431426226953897,
          1.0511348504249087,
          -1.7084854938366552,
          0.3848496070527757,
          0.02319587782161051,
          -1.5614243800488814,
          -0.49612500584776853,
          0.36651695375891874,
          -1.9325653893667134,
          -0.009736954747299615,
          0.5770681622022307,
          -1.798736202311587,
          -1.4731317977982321,
          0.9207786842892908,
          -1.4109451145958787,
          1.474614654368594,
          -1.151126450220308,
          1.0959490386459758,
          0.7132001708734125,
          1.5389324759551382,
          -0.3437764307427175,
          -0.1398678689458212,
          -0.5692961334275359,
          -0.3876239117207527,
          2.1646360720109534,
          -0.8575609675505435,
          -0.12246755380214738,
          -0.35793397267560856,
          0.6760702797677335,
          0.6859757866029638,
          1.2172949175056056,
          3.0190435916527885,
          -0.49318883868647506,
          -1.4621624134879483,
          -0.018015512803250384,
          1.0663682852882106,
          0.6097999035722868,
          0.8061363870535981,
          -0.9775765064326202,
          1.9186469222357772,
          -1.3863509250475359,
          -1.729431686804565,
          -0.18184271399933602,
          -0.18613439383574115,
          0.5857466322063433,
          -0.34237696433466347,
          0.3571290493876967,
          0.006789251745769943,
          -3.2125921573829657,
          -0.5584989724527796,
          -0.3753882921486149,
          0.4722926040135994,
          -2.363150670854163,
          -0.6542164839532234,
          0.032211397087431724,
          -1.138463704994325,
          0.16231793129177194,
          0.4166899662658287,
          -0.18051501338281437,
          -0.15668668070654856,
          0.0848144483366338,
          0.6315939404556832,
          0.49811604910354135,
          0.9187915032050765,
          -0.45235784878744706,
          -0.18836177542466803
         ],
         "yaxis": "y3"
        },
        {
         "line": {
          "color": "rgba(128, 128, 128, 1.0)",
          "dash": "solid",
          "shape": "linear",
          "width": 1.3
         },
         "marker": {
          "size": 2,
          "symbol": "circle"
         },
         "mode": "markers",
         "name": "A",
         "text": "",
         "type": "scatter",
         "x": [
          -0.8058842627615331,
          0.9797082212953491,
          0.6379635383022297,
          1.4548329154127562,
          -2.335484400509173,
          -0.6623770650682406,
          0.7535702956405469,
          -0.6236079353039102,
          1.5863547334142853,
          0.5501662700248987,
          0.5544553984982873,
          -0.8026437001666429,
          -1.3410112046609501,
          -0.15432536507994782,
          0.5869254121772779,
          2.1862014691579392,
          -0.8596447818377434,
          0.22903537802967597,
          -1.9527835306690624,
          -0.7106466834944147,
          0.9879654019609568,
          0.43989617483472826,
          0.8879983605688165,
          0.30101447395780634,
          -1.1269830174872864,
          1.637713689364425,
          2.19484065473828,
          2.1351243435618557,
          0.7410418985039773,
          0.10250422142114304,
          1.0147707958155245,
          1.293569209435536,
          -0.30913414653112375,
          0.9485462047058678,
          0.8621835590849038,
          0.30367158443875586,
          1.553251492944668,
          -1.0866663386699786,
          -0.738456098631491,
          -1.2677923318105067,
          -1.5255450657829206,
          0.5806873056280587,
          -1.2980488960785543,
          1.2749609068257286,
          0.44492001246999946,
          -0.9179560951815965,
          0.7796482114958154,
          -1.6263294936914727,
          0.5701756325323951,
          0.5616757646494824,
          2.0692782403749996,
          -0.6998366536532751,
          1.7451322151939659,
          -0.41932548798157826,
          0.12205020250823236,
          0.5315818152632557,
          0.5427953889005159,
          0.4439151325921603,
          -0.9341713046286217,
          0.178731397553212,
          -2.0905963494997692,
          0.6628433514890515,
          -1.0717854744470323,
          0.6395126809145872,
          -0.5506483770131305,
          -0.13274463767961525,
          -1.1915154310340677,
          -2.0013163307379864,
          0.303189753519302,
          -0.9738683344814172,
          0.2200647357558618,
          0.5528113656617654,
          0.03798789279734366,
          -0.033497342180987676,
          0.6561751895549323,
          -1.296629861664313,
          -0.9939882703168663,
          -2.4811780037000126,
          0.5163737334382271,
          -0.8509505825124314,
          0.18521698690709562,
          0.400969571594376,
          0.09284692825371736,
          0.6662143145592785,
          0.38045010667313794,
          -0.6764269749617707,
          -1.9590494783739336,
          0.0702745069971556,
          -0.9868397186829913,
          0.48576342854090954,
          0.9649650807272201,
          0.018040177384070485,
          0.37114273233268846,
          1.8869512978114056,
          1.333566572763461,
          2.177844651149719,
          -1.4653390081808297,
          -1.5728963693526394,
          -0.1622957734581275,
          -0.7038966086121956
         ],
         "xaxis": "x4",
         "y": [
          1.204374223794343,
          -0.36906833924077637,
          -0.8122413394730359,
          1.3997697154739082,
          -1.060788107444831,
          0.5515735422646244,
          0.14061940746164717,
          0.16983560391476102,
          -0.5570859045323824,
          1.401481283250656,
          -0.22735734650862433,
          -0.2708226895595077,
          -0.061950652045331865,
          -0.23938387027733657,
          1.108929431106888,
          1.5885217800040747,
          -0.23559972372649096,
          -0.8063452712749882,
          0.13813159002450978,
          -0.6380738291099499,
          -1.3331534209046985,
          -0.1297105180803108,
          -0.10188136335052575,
          -0.30361318214471156,
          0.16497636748164915,
          2.183144065787738,
          -0.7843797606187034,
          -0.7395470414853026,
          -0.527746573443475,
          1.1734247890807368,
          -0.4277744368396613,
          1.586083786095986,
          -0.5946807669553307,
          1.1091000750587032,
          -2.2431426226953897,
          1.0511348504249087,
          -1.7084854938366552,
          0.3848496070527757,
          0.02319587782161051,
          -1.5614243800488814,
          -0.49612500584776853,
          0.36651695375891874,
          -1.9325653893667134,
          -0.009736954747299615,
          0.5770681622022307,
          -1.798736202311587,
          -1.4731317977982321,
          0.9207786842892908,
          -1.4109451145958787,
          1.474614654368594,
          -1.151126450220308,
          1.0959490386459758,
          0.7132001708734125,
          1.5389324759551382,
          -0.3437764307427175,
          -0.1398678689458212,
          -0.5692961334275359,
          -0.3876239117207527,
          2.1646360720109534,
          -0.8575609675505435,
          -0.12246755380214738,
          -0.35793397267560856,
          0.6760702797677335,
          0.6859757866029638,
          1.2172949175056056,
          3.0190435916527885,
          -0.49318883868647506,
          -1.4621624134879483,
          -0.018015512803250384,
          1.0663682852882106,
          0.6097999035722868,
          0.8061363870535981,
          -0.9775765064326202,
          1.9186469222357772,
          -1.3863509250475359,
          -1.729431686804565,
          -0.18184271399933602,
          -0.18613439383574115,
          0.5857466322063433,
          -0.34237696433466347,
          0.3571290493876967,
          0.006789251745769943,
          -3.2125921573829657,
          -0.5584989724527796,
          -0.3753882921486149,
          0.4722926040135994,
          -2.363150670854163,
          -0.6542164839532234,
          0.032211397087431724,
          -1.138463704994325,
          0.16231793129177194,
          0.4166899662658287,
          -0.18051501338281437,
          -0.15668668070654856,
          0.0848144483366338,
          0.6315939404556832,
          0.49811604910354135,
          0.9187915032050765,
          -0.45235784878744706,
          -0.18836177542466803
         ],
         "yaxis": "y4"
        },
        {
         "line": {
          "color": "rgba(128, 128, 128, 1.0)",
          "dash": "solid",
          "shape": "linear",
          "width": 1.3
         },
         "marker": {
          "size": 2,
          "symbol": "circle"
         },
         "mode": "markers",
         "name": "B",
         "text": "",
         "type": "scatter",
         "x": [
          1.204374223794343,
          -0.36906833924077637,
          -0.8122413394730359,
          1.3997697154739082,
          -1.060788107444831,
          0.5515735422646244,
          0.14061940746164717,
          0.16983560391476102,
          -0.5570859045323824,
          1.401481283250656,
          -0.22735734650862433,
          -0.2708226895595077,
          -0.061950652045331865,
          -0.23938387027733657,
          1.108929431106888,
          1.5885217800040747,
          -0.23559972372649096,
          -0.8063452712749882,
          0.13813159002450978,
          -0.6380738291099499,
          -1.3331534209046985,
          -0.1297105180803108,
          -0.10188136335052575,
          -0.30361318214471156,
          0.16497636748164915,
          2.183144065787738,
          -0.7843797606187034,
          -0.7395470414853026,
          -0.527746573443475,
          1.1734247890807368,
          -0.4277744368396613,
          1.586083786095986,
          -0.5946807669553307,
          1.1091000750587032,
          -2.2431426226953897,
          1.0511348504249087,
          -1.7084854938366552,
          0.3848496070527757,
          0.02319587782161051,
          -1.5614243800488814,
          -0.49612500584776853,
          0.36651695375891874,
          -1.9325653893667134,
          -0.009736954747299615,
          0.5770681622022307,
          -1.798736202311587,
          -1.4731317977982321,
          0.9207786842892908,
          -1.4109451145958787,
          1.474614654368594,
          -1.151126450220308,
          1.0959490386459758,
          0.7132001708734125,
          1.5389324759551382,
          -0.3437764307427175,
          -0.1398678689458212,
          -0.5692961334275359,
          -0.3876239117207527,
          2.1646360720109534,
          -0.8575609675505435,
          -0.12246755380214738,
          -0.35793397267560856,
          0.6760702797677335,
          0.6859757866029638,
          1.2172949175056056,
          3.0190435916527885,
          -0.49318883868647506,
          -1.4621624134879483,
          -0.018015512803250384,
          1.0663682852882106,
          0.6097999035722868,
          0.8061363870535981,
          -0.9775765064326202,
          1.9186469222357772,
          -1.3863509250475359,
          -1.729431686804565,
          -0.18184271399933602,
          -0.18613439383574115,
          0.5857466322063433,
          -0.34237696433466347,
          0.3571290493876967,
          0.006789251745769943,
          -3.2125921573829657,
          -0.5584989724527796,
          -0.3753882921486149,
          0.4722926040135994,
          -2.363150670854163,
          -0.6542164839532234,
          0.032211397087431724,
          -1.138463704994325,
          0.16231793129177194,
          0.4166899662658287,
          -0.18051501338281437,
          -0.15668668070654856,
          0.0848144483366338,
          0.6315939404556832,
          0.49811604910354135,
          0.9187915032050765,
          -0.45235784878744706,
          -0.18836177542466803
         ],
         "xaxis": "x5",
         "y": [
          0.28883879264521045,
          -0.9696091384577731,
          0.3240029375457199,
          -2.0275223864420986,
          0.14726848424825328,
          0.678991256631577,
          0.8082635732754649,
          -1.7856463481517608,
          -1.104842817878926,
          -0.46027812161661064,
          -2.1537687431575328,
          0.15945482476116415,
          -1.3018992475704751,
          0.6025453549513595,
          0.2587350592374064,
          0.8027749160485882,
          0.35454868506569975,
          -0.4552450279185263,
          -0.8120909393883892,
          -0.4444774282124728,
          0.36142121866382554,
          1.0066457905843325,
          2.1146963668436967,
          0.3867859557004427,
          0.30976253103714385,
          0.25304790269208116,
          -0.4853018821573321,
          -0.4266472311732564,
          1.0574834426305726,
          0.0727828918106895,
          0.6387061611541429,
          0.35282443058578244,
          1.2613356031803376,
          1.9112868409358335,
          0.35270908010673824,
          0.33830107746460486,
          0.9661583398721716,
          0.7409660674911244,
          -1.0132490082439065,
          1.1381430753784794,
          0.06956837769113201,
          -0.025060573913217636,
          0.5601028658725632,
          1.1067653704904703,
          0.5381067202924643,
          -0.7979118583312437,
          0.6334157782864624,
          -0.5266080026725684,
          0.4833853733012127,
          -0.38299530376008994,
          -0.4357980040855327,
          -0.37062045661239246,
          -1.3414385587779716,
          -0.36590910152001693,
          -0.7034440798878234,
          -1.3876156954916887,
          -1.0926499669857581,
          0.5638637016453981,
          -0.3829013772219426,
          1.9157532042187086,
          0.761887728347791,
          0.8146029084065223,
          0.8231475450342212,
          0.04436894811492774,
          -1.0635463927921698,
          -0.07945247508080461,
          1.882926346755678,
          -0.20579958146507463,
          0.4168470364341955,
          0.36946234527703425,
          1.022023039989263,
          -2.199761127185428,
          0.09350752683525511,
          0.050408117632942985,
          2.190592367226769,
          -0.23747751471779366,
          1.0478758815724036,
          -0.4337413657219337,
          0.20492756400731685,
          2.3831221699587988,
          -0.6802126826044421,
          0.9545186757613414,
          -1.559532703638838,
          -0.2702728387868071,
          0.2237820300585606,
          -0.18639837634820103,
          -0.47969720470485616,
          0.44948289758789267,
          -0.3239630401170654,
          0.12299224412986517,
          -0.2955225352765806,
          -0.06693027092072842,
          -0.3667350661835663,
          -1.1643883307876375,
          0.8995409226274617,
          -1.0630968020526121,
          -2.25782917678505,
          0.17250522033490703,
          -2.0771412668361102,
          -1.498269212529484
         ],
         "yaxis": "y5"
        },
        {
         "histfunc": "count",
         "histnorm": "",
         "marker": {
          "color": "rgba(55, 128, 191, 1.0)",
          "line": {
           "color": "#4D5663",
           "width": 1.3
          }
         },
         "name": "B",
         "nbinsx": 10,
         "opacity": 0.8,
         "orientation": "v",
         "type": "histogram",
         "x": [
          0.28883879264521045,
          -0.9696091384577731,
          0.3240029375457199,
          -2.0275223864420986,
          0.14726848424825328,
          0.678991256631577,
          0.8082635732754649,
          -1.7856463481517608,
          -1.104842817878926,
          -0.46027812161661064,
          -2.1537687431575328,
          0.15945482476116415,
          -1.3018992475704751,
          0.6025453549513595,
          0.2587350592374064,
          0.8027749160485882,
          0.35454868506569975,
          -0.4552450279185263,
          -0.8120909393883892,
          -0.4444774282124728,
          0.36142121866382554,
          1.0066457905843325,
          2.1146963668436967,
          0.3867859557004427,
          0.30976253103714385,
          0.25304790269208116,
          -0.4853018821573321,
          -0.4266472311732564,
          1.0574834426305726,
          0.0727828918106895,
          0.6387061611541429,
          0.35282443058578244,
          1.2613356031803376,
          1.9112868409358335,
          0.35270908010673824,
          0.33830107746460486,
          0.9661583398721716,
          0.7409660674911244,
          -1.0132490082439065,
          1.1381430753784794,
          0.06956837769113201,
          -0.025060573913217636,
          0.5601028658725632,
          1.1067653704904703,
          0.5381067202924643,
          -0.7979118583312437,
          0.6334157782864624,
          -0.5266080026725684,
          0.4833853733012127,
          -0.38299530376008994,
          -0.4357980040855327,
          -0.37062045661239246,
          -1.3414385587779716,
          -0.36590910152001693,
          -0.7034440798878234,
          -1.3876156954916887,
          -1.0926499669857581,
          0.5638637016453981,
          -0.3829013772219426,
          1.9157532042187086,
          0.761887728347791,
          0.8146029084065223,
          0.8231475450342212,
          0.04436894811492774,
          -1.0635463927921698,
          -0.07945247508080461,
          1.882926346755678,
          -0.20579958146507463,
          0.4168470364341955,
          0.36946234527703425,
          1.022023039989263,
          -2.199761127185428,
          0.09350752683525511,
          0.050408117632942985,
          2.190592367226769,
          -0.23747751471779366,
          1.0478758815724036,
          -0.4337413657219337,
          0.20492756400731685,
          2.3831221699587988,
          -0.6802126826044421,
          0.9545186757613414,
          -1.559532703638838,
          -0.2702728387868071,
          0.2237820300585606,
          -0.18639837634820103,
          -0.47969720470485616,
          0.44948289758789267,
          -0.3239630401170654,
          0.12299224412986517,
          -0.2955225352765806,
          -0.06693027092072842,
          -0.3667350661835663,
          -1.1643883307876375,
          0.8995409226274617,
          -1.0630968020526121,
          -2.25782917678505,
          0.17250522033490703,
          -2.0771412668361102,
          -1.498269212529484
         ],
         "xaxis": "x6",
         "yaxis": "y6"
        },
        {
         "line": {
          "color": "rgba(128, 128, 128, 1.0)",
          "dash": "solid",
          "shape": "linear",
          "width": 1.3
         },
         "marker": {
          "size": 2,
          "symbol": "circle"
         },
         "mode": "markers",
         "name": "B",
         "text": "",
         "type": "scatter",
         "x": [
          0.9343696833686856,
          0.6173183922345006,
          -1.0639285999296693,
          -0.33859612376905984,
          0.506690249511028,
          0.2957480725083949,
          0.5263886133671345,
          -0.32276366714443333,
          -0.01792066674395618,
          -1.775083329657011,
          -1.4437741093187602,
          0.07329908144639716,
          1.202571194374941,
          0.5168437647049239,
          -0.09882521510224906,
          1.2444214483260527,
          0.4917821790620534,
          0.1965902827913307,
          0.16855948625243314,
          1.108497197968096,
          -0.5675585086297141,
          -0.3095257147273207,
          -0.7102455459926497,
          1.1671495944265564,
          -0.5284595837443142,
          1.7243424357402708,
          -0.16867574245345937,
          -0.7529943369078369,
          1.4714561614880592,
          -0.3156054085787056,
          1.6318798368170893,
          -1.1814339345772011,
          1.0176216826497526,
          1.2215659458124433,
          0.5550009695494434,
          1.2051994421401777,
          0.12738565982693809,
          -0.349202693458132,
          -1.2226864380171725,
          1.0622710558752908,
          -1.4610410655094517,
          -1.5352515493002508,
          -0.6112654698490414,
          -1.6006436768837422,
          -1.2126704936089923,
          1.51414712452721,
          -0.05326645847836819,
          0.5720140651740735,
          0.30677221656661624,
          -0.8515412861948122,
          -0.2175631127524753,
          -0.6866800691236976,
          -0.2718610220028386,
          -0.4286993360378733,
          -0.008244722026312986,
          -1.134459704124308,
          0.6839925305569563,
          -0.9037393141619001,
          0.8946253754874015,
          -0.9563364923279836,
          -1.8017716095525207,
          1.5529278139958989,
          0.5585114201282104,
          1.1081748287221973,
          0.5786445092709741,
          0.012575418742362943,
          0.31251853048904665,
          0.668992790804777,
          -0.9357642050522706,
          -1.7502352908475747,
          -1.1891899470303575,
          1.3039873876743129,
          -0.9290778024734753,
          1.5949617014816626,
          1.317263804134899,
          -0.7393457254093768,
          -0.2836412501033554,
          0.39500577301382556,
          -0.19878243420856143,
          -0.015156971804573429,
          -1.0233128562001466,
          -0.9044467815425445,
          1.130533978735926,
          0.6647964258955746,
          1.3161641115644949,
          1.5555717667850633,
          0.09260698431106808,
          1.364533716086213,
          -1.2169224255756232,
          -0.703560958600298,
          -0.5226056338222739,
          -1.4403106413817668,
          -0.5082752114604108,
          -0.45246678819824143,
          -0.8994474129369322,
          -0.8038036119855998,
          -1.6685950229652726,
          0.32678600253398316,
          0.5581877526293396,
          1.252591507712197
         ],
         "xaxis": "x7",
         "y": [
          0.28883879264521045,
          -0.9696091384577731,
          0.3240029375457199,
          -2.0275223864420986,
          0.14726848424825328,
          0.678991256631577,
          0.8082635732754649,
          -1.7856463481517608,
          -1.104842817878926,
          -0.46027812161661064,
          -2.1537687431575328,
          0.15945482476116415,
          -1.3018992475704751,
          0.6025453549513595,
          0.2587350592374064,
          0.8027749160485882,
          0.35454868506569975,
          -0.4552450279185263,
          -0.8120909393883892,
          -0.4444774282124728,
          0.36142121866382554,
          1.0066457905843325,
          2.1146963668436967,
          0.3867859557004427,
          0.30976253103714385,
          0.25304790269208116,
          -0.4853018821573321,
          -0.4266472311732564,
          1.0574834426305726,
          0.0727828918106895,
          0.6387061611541429,
          0.35282443058578244,
          1.2613356031803376,
          1.9112868409358335,
          0.35270908010673824,
          0.33830107746460486,
          0.9661583398721716,
          0.7409660674911244,
          -1.0132490082439065,
          1.1381430753784794,
          0.06956837769113201,
          -0.025060573913217636,
          0.5601028658725632,
          1.1067653704904703,
          0.5381067202924643,
          -0.7979118583312437,
          0.6334157782864624,
          -0.5266080026725684,
          0.4833853733012127,
          -0.38299530376008994,
          -0.4357980040855327,
          -0.37062045661239246,
          -1.3414385587779716,
          -0.36590910152001693,
          -0.7034440798878234,
          -1.3876156954916887,
          -1.0926499669857581,
          0.5638637016453981,
          -0.3829013772219426,
          1.9157532042187086,
          0.761887728347791,
          0.8146029084065223,
          0.8231475450342212,
          0.04436894811492774,
          -1.0635463927921698,
          -0.07945247508080461,
          1.882926346755678,
          -0.20579958146507463,
          0.4168470364341955,
          0.36946234527703425,
          1.022023039989263,
          -2.199761127185428,
          0.09350752683525511,
          0.050408117632942985,
          2.190592367226769,
          -0.23747751471779366,
          1.0478758815724036,
          -0.4337413657219337,
          0.20492756400731685,
          2.3831221699587988,
          -0.6802126826044421,
          0.9545186757613414,
          -1.559532703638838,
          -0.2702728387868071,
          0.2237820300585606,
          -0.18639837634820103,
          -0.47969720470485616,
          0.44948289758789267,
          -0.3239630401170654,
          0.12299224412986517,
          -0.2955225352765806,
          -0.06693027092072842,
          -0.3667350661835663,
          -1.1643883307876375,
          0.8995409226274617,
          -1.0630968020526121,
          -2.25782917678505,
          0.17250522033490703,
          -2.0771412668361102,
          -1.498269212529484
         ],
         "yaxis": "y7"
        },
        {
         "line": {
          "color": "rgba(128, 128, 128, 1.0)",
          "dash": "solid",
          "shape": "linear",
          "width": 1.3
         },
         "marker": {
          "size": 2,
          "symbol": "circle"
         },
         "mode": "markers",
         "name": "B",
         "text": "",
         "type": "scatter",
         "x": [
          -0.8058842627615331,
          0.9797082212953491,
          0.6379635383022297,
          1.4548329154127562,
          -2.335484400509173,
          -0.6623770650682406,
          0.7535702956405469,
          -0.6236079353039102,
          1.5863547334142853,
          0.5501662700248987,
          0.5544553984982873,
          -0.8026437001666429,
          -1.3410112046609501,
          -0.15432536507994782,
          0.5869254121772779,
          2.1862014691579392,
          -0.8596447818377434,
          0.22903537802967597,
          -1.9527835306690624,
          -0.7106466834944147,
          0.9879654019609568,
          0.43989617483472826,
          0.8879983605688165,
          0.30101447395780634,
          -1.1269830174872864,
          1.637713689364425,
          2.19484065473828,
          2.1351243435618557,
          0.7410418985039773,
          0.10250422142114304,
          1.0147707958155245,
          1.293569209435536,
          -0.30913414653112375,
          0.9485462047058678,
          0.8621835590849038,
          0.30367158443875586,
          1.553251492944668,
          -1.0866663386699786,
          -0.738456098631491,
          -1.2677923318105067,
          -1.5255450657829206,
          0.5806873056280587,
          -1.2980488960785543,
          1.2749609068257286,
          0.44492001246999946,
          -0.9179560951815965,
          0.7796482114958154,
          -1.6263294936914727,
          0.5701756325323951,
          0.5616757646494824,
          2.0692782403749996,
          -0.6998366536532751,
          1.7451322151939659,
          -0.41932548798157826,
          0.12205020250823236,
          0.5315818152632557,
          0.5427953889005159,
          0.4439151325921603,
          -0.9341713046286217,
          0.178731397553212,
          -2.0905963494997692,
          0.6628433514890515,
          -1.0717854744470323,
          0.6395126809145872,
          -0.5506483770131305,
          -0.13274463767961525,
          -1.1915154310340677,
          -2.0013163307379864,
          0.303189753519302,
          -0.9738683344814172,
          0.2200647357558618,
          0.5528113656617654,
          0.03798789279734366,
          -0.033497342180987676,
          0.6561751895549323,
          -1.296629861664313,
          -0.9939882703168663,
          -2.4811780037000126,
          0.5163737334382271,
          -0.8509505825124314,
          0.18521698690709562,
          0.400969571594376,
          0.09284692825371736,
          0.6662143145592785,
          0.38045010667313794,
          -0.6764269749617707,
          -1.9590494783739336,
          0.0702745069971556,
          -0.9868397186829913,
          0.48576342854090954,
          0.9649650807272201,
          0.018040177384070485,
          0.37114273233268846,
          1.8869512978114056,
          1.333566572763461,
          2.177844651149719,
          -1.4653390081808297,
          -1.5728963693526394,
          -0.1622957734581275,
          -0.7038966086121956
         ],
         "xaxis": "x8",
         "y": [
          0.28883879264521045,
          -0.9696091384577731,
          0.3240029375457199,
          -2.0275223864420986,
          0.14726848424825328,
          0.678991256631577,
          0.8082635732754649,
          -1.7856463481517608,
          -1.104842817878926,
          -0.46027812161661064,
          -2.1537687431575328,
          0.15945482476116415,
          -1.3018992475704751,
          0.6025453549513595,
          0.2587350592374064,
          0.8027749160485882,
          0.35454868506569975,
          -0.4552450279185263,
          -0.8120909393883892,
          -0.4444774282124728,
          0.36142121866382554,
          1.0066457905843325,
          2.1146963668436967,
          0.3867859557004427,
          0.30976253103714385,
          0.25304790269208116,
          -0.4853018821573321,
          -0.4266472311732564,
          1.0574834426305726,
          0.0727828918106895,
          0.6387061611541429,
          0.35282443058578244,
          1.2613356031803376,
          1.9112868409358335,
          0.35270908010673824,
          0.33830107746460486,
          0.9661583398721716,
          0.7409660674911244,
          -1.0132490082439065,
          1.1381430753784794,
          0.06956837769113201,
          -0.025060573913217636,
          0.5601028658725632,
          1.1067653704904703,
          0.5381067202924643,
          -0.7979118583312437,
          0.6334157782864624,
          -0.5266080026725684,
          0.4833853733012127,
          -0.38299530376008994,
          -0.4357980040855327,
          -0.37062045661239246,
          -1.3414385587779716,
          -0.36590910152001693,
          -0.7034440798878234,
          -1.3876156954916887,
          -1.0926499669857581,
          0.5638637016453981,
          -0.3829013772219426,
          1.9157532042187086,
          0.761887728347791,
          0.8146029084065223,
          0.8231475450342212,
          0.04436894811492774,
          -1.0635463927921698,
          -0.07945247508080461,
          1.882926346755678,
          -0.20579958146507463,
          0.4168470364341955,
          0.36946234527703425,
          1.022023039989263,
          -2.199761127185428,
          0.09350752683525511,
          0.050408117632942985,
          2.190592367226769,
          -0.23747751471779366,
          1.0478758815724036,
          -0.4337413657219337,
          0.20492756400731685,
          2.3831221699587988,
          -0.6802126826044421,
          0.9545186757613414,
          -1.559532703638838,
          -0.2702728387868071,
          0.2237820300585606,
          -0.18639837634820103,
          -0.47969720470485616,
          0.44948289758789267,
          -0.3239630401170654,
          0.12299224412986517,
          -0.2955225352765806,
          -0.06693027092072842,
          -0.3667350661835663,
          -1.1643883307876375,
          0.8995409226274617,
          -1.0630968020526121,
          -2.25782917678505,
          0.17250522033490703,
          -2.0771412668361102,
          -1.498269212529484
         ],
         "yaxis": "y8"
        },
        {
         "line": {
          "color": "rgba(128, 128, 128, 1.0)",
          "dash": "solid",
          "shape": "linear",
          "width": 1.3
         },
         "marker": {
          "size": 2,
          "symbol": "circle"
         },
         "mode": "markers",
         "name": "C",
         "text": "",
         "type": "scatter",
         "x": [
          1.204374223794343,
          -0.36906833924077637,
          -0.8122413394730359,
          1.3997697154739082,
          -1.060788107444831,
          0.5515735422646244,
          0.14061940746164717,
          0.16983560391476102,
          -0.5570859045323824,
          1.401481283250656,
          -0.22735734650862433,
          -0.2708226895595077,
          -0.061950652045331865,
          -0.23938387027733657,
          1.108929431106888,
          1.5885217800040747,
          -0.23559972372649096,
          -0.8063452712749882,
          0.13813159002450978,
          -0.6380738291099499,
          -1.3331534209046985,
          -0.1297105180803108,
          -0.10188136335052575,
          -0.30361318214471156,
          0.16497636748164915,
          2.183144065787738,
          -0.7843797606187034,
          -0.7395470414853026,
          -0.527746573443475,
          1.1734247890807368,
          -0.4277744368396613,
          1.586083786095986,
          -0.5946807669553307,
          1.1091000750587032,
          -2.2431426226953897,
          1.0511348504249087,
          -1.7084854938366552,
          0.3848496070527757,
          0.02319587782161051,
          -1.5614243800488814,
          -0.49612500584776853,
          0.36651695375891874,
          -1.9325653893667134,
          -0.009736954747299615,
          0.5770681622022307,
          -1.798736202311587,
          -1.4731317977982321,
          0.9207786842892908,
          -1.4109451145958787,
          1.474614654368594,
          -1.151126450220308,
          1.0959490386459758,
          0.7132001708734125,
          1.5389324759551382,
          -0.3437764307427175,
          -0.1398678689458212,
          -0.5692961334275359,
          -0.3876239117207527,
          2.1646360720109534,
          -0.8575609675505435,
          -0.12246755380214738,
          -0.35793397267560856,
          0.6760702797677335,
          0.6859757866029638,
          1.2172949175056056,
          3.0190435916527885,
          -0.49318883868647506,
          -1.4621624134879483,
          -0.018015512803250384,
          1.0663682852882106,
          0.6097999035722868,
          0.8061363870535981,
          -0.9775765064326202,
          1.9186469222357772,
          -1.3863509250475359,
          -1.729431686804565,
          -0.18184271399933602,
          -0.18613439383574115,
          0.5857466322063433,
          -0.34237696433466347,
          0.3571290493876967,
          0.006789251745769943,
          -3.2125921573829657,
          -0.5584989724527796,
          -0.3753882921486149,
          0.4722926040135994,
          -2.363150670854163,
          -0.6542164839532234,
          0.032211397087431724,
          -1.138463704994325,
          0.16231793129177194,
          0.4166899662658287,
          -0.18051501338281437,
          -0.15668668070654856,
          0.0848144483366338,
          0.6315939404556832,
          0.49811604910354135,
          0.9187915032050765,
          -0.45235784878744706,
          -0.18836177542466803
         ],
         "xaxis": "x9",
         "y": [
          0.9343696833686856,
          0.6173183922345006,
          -1.0639285999296693,
          -0.33859612376905984,
          0.506690249511028,
          0.2957480725083949,
          0.5263886133671345,
          -0.32276366714443333,
          -0.01792066674395618,
          -1.775083329657011,
          -1.4437741093187602,
          0.07329908144639716,
          1.202571194374941,
          0.5168437647049239,
          -0.09882521510224906,
          1.2444214483260527,
          0.4917821790620534,
          0.1965902827913307,
          0.16855948625243314,
          1.108497197968096,
          -0.5675585086297141,
          -0.3095257147273207,
          -0.7102455459926497,
          1.1671495944265564,
          -0.5284595837443142,
          1.7243424357402708,
          -0.16867574245345937,
          -0.7529943369078369,
          1.4714561614880592,
          -0.3156054085787056,
          1.6318798368170893,
          -1.1814339345772011,
          1.0176216826497526,
          1.2215659458124433,
          0.5550009695494434,
          1.2051994421401777,
          0.12738565982693809,
          -0.349202693458132,
          -1.2226864380171725,
          1.0622710558752908,
          -1.4610410655094517,
          -1.5352515493002508,
          -0.6112654698490414,
          -1.6006436768837422,
          -1.2126704936089923,
          1.51414712452721,
          -0.05326645847836819,
          0.5720140651740735,
          0.30677221656661624,
          -0.8515412861948122,
          -0.2175631127524753,
          -0.6866800691236976,
          -0.2718610220028386,
          -0.4286993360378733,
          -0.008244722026312986,
          -1.134459704124308,
          0.6839925305569563,
          -0.9037393141619001,
          0.8946253754874015,
          -0.9563364923279836,
          -1.8017716095525207,
          1.5529278139958989,
          0.5585114201282104,
          1.1081748287221973,
          0.5786445092709741,
          0.012575418742362943,
          0.31251853048904665,
          0.668992790804777,
          -0.9357642050522706,
          -1.7502352908475747,
          -1.1891899470303575,
          1.3039873876743129,
          -0.9290778024734753,
          1.5949617014816626,
          1.317263804134899,
          -0.7393457254093768,
          -0.2836412501033554,
          0.39500577301382556,
          -0.19878243420856143,
          -0.015156971804573429,
          -1.0233128562001466,
          -0.9044467815425445,
          1.130533978735926,
          0.6647964258955746,
          1.3161641115644949,
          1.5555717667850633,
          0.09260698431106808,
          1.364533716086213,
          -1.2169224255756232,
          -0.703560958600298,
          -0.5226056338222739,
          -1.4403106413817668,
          -0.5082752114604108,
          -0.45246678819824143,
          -0.8994474129369322,
          -0.8038036119855998,
          -1.6685950229652726,
          0.32678600253398316,
          0.5581877526293396,
          1.252591507712197
         ],
         "yaxis": "y9"
        },
        {
         "line": {
          "color": "rgba(128, 128, 128, 1.0)",
          "dash": "solid",
          "shape": "linear",
          "width": 1.3
         },
         "marker": {
          "size": 2,
          "symbol": "circle"
         },
         "mode": "markers",
         "name": "C",
         "text": "",
         "type": "scatter",
         "x": [
          0.28883879264521045,
          -0.9696091384577731,
          0.3240029375457199,
          -2.0275223864420986,
          0.14726848424825328,
          0.678991256631577,
          0.8082635732754649,
          -1.7856463481517608,
          -1.104842817878926,
          -0.46027812161661064,
          -2.1537687431575328,
          0.15945482476116415,
          -1.3018992475704751,
          0.6025453549513595,
          0.2587350592374064,
          0.8027749160485882,
          0.35454868506569975,
          -0.4552450279185263,
          -0.8120909393883892,
          -0.4444774282124728,
          0.36142121866382554,
          1.0066457905843325,
          2.1146963668436967,
          0.3867859557004427,
          0.30976253103714385,
          0.25304790269208116,
          -0.4853018821573321,
          -0.4266472311732564,
          1.0574834426305726,
          0.0727828918106895,
          0.6387061611541429,
          0.35282443058578244,
          1.2613356031803376,
          1.9112868409358335,
          0.35270908010673824,
          0.33830107746460486,
          0.9661583398721716,
          0.7409660674911244,
          -1.0132490082439065,
          1.1381430753784794,
          0.06956837769113201,
          -0.025060573913217636,
          0.5601028658725632,
          1.1067653704904703,
          0.5381067202924643,
          -0.7979118583312437,
          0.6334157782864624,
          -0.5266080026725684,
          0.4833853733012127,
          -0.38299530376008994,
          -0.4357980040855327,
          -0.37062045661239246,
          -1.3414385587779716,
          -0.36590910152001693,
          -0.7034440798878234,
          -1.3876156954916887,
          -1.0926499669857581,
          0.5638637016453981,
          -0.3829013772219426,
          1.9157532042187086,
          0.761887728347791,
          0.8146029084065223,
          0.8231475450342212,
          0.04436894811492774,
          -1.0635463927921698,
          -0.07945247508080461,
          1.882926346755678,
          -0.20579958146507463,
          0.4168470364341955,
          0.36946234527703425,
          1.022023039989263,
          -2.199761127185428,
          0.09350752683525511,
          0.050408117632942985,
          2.190592367226769,
          -0.23747751471779366,
          1.0478758815724036,
          -0.4337413657219337,
          0.20492756400731685,
          2.3831221699587988,
          -0.6802126826044421,
          0.9545186757613414,
          -1.559532703638838,
          -0.2702728387868071,
          0.2237820300585606,
          -0.18639837634820103,
          -0.47969720470485616,
          0.44948289758789267,
          -0.3239630401170654,
          0.12299224412986517,
          -0.2955225352765806,
          -0.06693027092072842,
          -0.3667350661835663,
          -1.1643883307876375,
          0.8995409226274617,
          -1.0630968020526121,
          -2.25782917678505,
          0.17250522033490703,
          -2.0771412668361102,
          -1.498269212529484
         ],
         "xaxis": "x10",
         "y": [
          0.9343696833686856,
          0.6173183922345006,
          -1.0639285999296693,
          -0.33859612376905984,
          0.506690249511028,
          0.2957480725083949,
          0.5263886133671345,
          -0.32276366714443333,
          -0.01792066674395618,
          -1.775083329657011,
          -1.4437741093187602,
          0.07329908144639716,
          1.202571194374941,
          0.5168437647049239,
          -0.09882521510224906,
          1.2444214483260527,
          0.4917821790620534,
          0.1965902827913307,
          0.16855948625243314,
          1.108497197968096,
          -0.5675585086297141,
          -0.3095257147273207,
          -0.7102455459926497,
          1.1671495944265564,
          -0.5284595837443142,
          1.7243424357402708,
          -0.16867574245345937,
          -0.7529943369078369,
          1.4714561614880592,
          -0.3156054085787056,
          1.6318798368170893,
          -1.1814339345772011,
          1.0176216826497526,
          1.2215659458124433,
          0.5550009695494434,
          1.2051994421401777,
          0.12738565982693809,
          -0.349202693458132,
          -1.2226864380171725,
          1.0622710558752908,
          -1.4610410655094517,
          -1.5352515493002508,
          -0.6112654698490414,
          -1.6006436768837422,
          -1.2126704936089923,
          1.51414712452721,
          -0.05326645847836819,
          0.5720140651740735,
          0.30677221656661624,
          -0.8515412861948122,
          -0.2175631127524753,
          -0.6866800691236976,
          -0.2718610220028386,
          -0.4286993360378733,
          -0.008244722026312986,
          -1.134459704124308,
          0.6839925305569563,
          -0.9037393141619001,
          0.8946253754874015,
          -0.9563364923279836,
          -1.8017716095525207,
          1.5529278139958989,
          0.5585114201282104,
          1.1081748287221973,
          0.5786445092709741,
          0.012575418742362943,
          0.31251853048904665,
          0.668992790804777,
          -0.9357642050522706,
          -1.7502352908475747,
          -1.1891899470303575,
          1.3039873876743129,
          -0.9290778024734753,
          1.5949617014816626,
          1.317263804134899,
          -0.7393457254093768,
          -0.2836412501033554,
          0.39500577301382556,
          -0.19878243420856143,
          -0.015156971804573429,
          -1.0233128562001466,
          -0.9044467815425445,
          1.130533978735926,
          0.6647964258955746,
          1.3161641115644949,
          1.5555717667850633,
          0.09260698431106808,
          1.364533716086213,
          -1.2169224255756232,
          -0.703560958600298,
          -0.5226056338222739,
          -1.4403106413817668,
          -0.5082752114604108,
          -0.45246678819824143,
          -0.8994474129369322,
          -0.8038036119855998,
          -1.6685950229652726,
          0.32678600253398316,
          0.5581877526293396,
          1.252591507712197
         ],
         "yaxis": "y10"
        },
        {
         "histfunc": "count",
         "histnorm": "",
         "marker": {
          "color": "rgba(50, 171, 96, 1.0)",
          "line": {
           "color": "#4D5663",
           "width": 1.3
          }
         },
         "name": "C",
         "nbinsx": 10,
         "opacity": 0.8,
         "orientation": "v",
         "type": "histogram",
         "x": [
          0.9343696833686856,
          0.6173183922345006,
          -1.0639285999296693,
          -0.33859612376905984,
          0.506690249511028,
          0.2957480725083949,
          0.5263886133671345,
          -0.32276366714443333,
          -0.01792066674395618,
          -1.775083329657011,
          -1.4437741093187602,
          0.07329908144639716,
          1.202571194374941,
          0.5168437647049239,
          -0.09882521510224906,
          1.2444214483260527,
          0.4917821790620534,
          0.1965902827913307,
          0.16855948625243314,
          1.108497197968096,
          -0.5675585086297141,
          -0.3095257147273207,
          -0.7102455459926497,
          1.1671495944265564,
          -0.5284595837443142,
          1.7243424357402708,
          -0.16867574245345937,
          -0.7529943369078369,
          1.4714561614880592,
          -0.3156054085787056,
          1.6318798368170893,
          -1.1814339345772011,
          1.0176216826497526,
          1.2215659458124433,
          0.5550009695494434,
          1.2051994421401777,
          0.12738565982693809,
          -0.349202693458132,
          -1.2226864380171725,
          1.0622710558752908,
          -1.4610410655094517,
          -1.5352515493002508,
          -0.6112654698490414,
          -1.6006436768837422,
          -1.2126704936089923,
          1.51414712452721,
          -0.05326645847836819,
          0.5720140651740735,
          0.30677221656661624,
          -0.8515412861948122,
          -0.2175631127524753,
          -0.6866800691236976,
          -0.2718610220028386,
          -0.4286993360378733,
          -0.008244722026312986,
          -1.134459704124308,
          0.6839925305569563,
          -0.9037393141619001,
          0.8946253754874015,
          -0.9563364923279836,
          -1.8017716095525207,
          1.5529278139958989,
          0.5585114201282104,
          1.1081748287221973,
          0.5786445092709741,
          0.012575418742362943,
          0.31251853048904665,
          0.668992790804777,
          -0.9357642050522706,
          -1.7502352908475747,
          -1.1891899470303575,
          1.3039873876743129,
          -0.9290778024734753,
          1.5949617014816626,
          1.317263804134899,
          -0.7393457254093768,
          -0.2836412501033554,
          0.39500577301382556,
          -0.19878243420856143,
          -0.015156971804573429,
          -1.0233128562001466,
          -0.9044467815425445,
          1.130533978735926,
          0.6647964258955746,
          1.3161641115644949,
          1.5555717667850633,
          0.09260698431106808,
          1.364533716086213,
          -1.2169224255756232,
          -0.703560958600298,
          -0.5226056338222739,
          -1.4403106413817668,
          -0.5082752114604108,
          -0.45246678819824143,
          -0.8994474129369322,
          -0.8038036119855998,
          -1.6685950229652726,
          0.32678600253398316,
          0.5581877526293396,
          1.252591507712197
         ],
         "xaxis": "x11",
         "yaxis": "y11"
        },
        {
         "line": {
          "color": "rgba(128, 128, 128, 1.0)",
          "dash": "solid",
          "shape": "linear",
          "width": 1.3
         },
         "marker": {
          "size": 2,
          "symbol": "circle"
         },
         "mode": "markers",
         "name": "C",
         "text": "",
         "type": "scatter",
         "x": [
          -0.8058842627615331,
          0.9797082212953491,
          0.6379635383022297,
          1.4548329154127562,
          -2.335484400509173,
          -0.6623770650682406,
          0.7535702956405469,
          -0.6236079353039102,
          1.5863547334142853,
          0.5501662700248987,
          0.5544553984982873,
          -0.8026437001666429,
          -1.3410112046609501,
          -0.15432536507994782,
          0.5869254121772779,
          2.1862014691579392,
          -0.8596447818377434,
          0.22903537802967597,
          -1.9527835306690624,
          -0.7106466834944147,
          0.9879654019609568,
          0.43989617483472826,
          0.8879983605688165,
          0.30101447395780634,
          -1.1269830174872864,
          1.637713689364425,
          2.19484065473828,
          2.1351243435618557,
          0.7410418985039773,
          0.10250422142114304,
          1.0147707958155245,
          1.293569209435536,
          -0.30913414653112375,
          0.9485462047058678,
          0.8621835590849038,
          0.30367158443875586,
          1.553251492944668,
          -1.0866663386699786,
          -0.738456098631491,
          -1.2677923318105067,
          -1.5255450657829206,
          0.5806873056280587,
          -1.2980488960785543,
          1.2749609068257286,
          0.44492001246999946,
          -0.9179560951815965,
          0.7796482114958154,
          -1.6263294936914727,
          0.5701756325323951,
          0.5616757646494824,
          2.0692782403749996,
          -0.6998366536532751,
          1.7451322151939659,
          -0.41932548798157826,
          0.12205020250823236,
          0.5315818152632557,
          0.5427953889005159,
          0.4439151325921603,
          -0.9341713046286217,
          0.178731397553212,
          -2.0905963494997692,
          0.6628433514890515,
          -1.0717854744470323,
          0.6395126809145872,
          -0.5506483770131305,
          -0.13274463767961525,
          -1.1915154310340677,
          -2.0013163307379864,
          0.303189753519302,
          -0.9738683344814172,
          0.2200647357558618,
          0.5528113656617654,
          0.03798789279734366,
          -0.033497342180987676,
          0.6561751895549323,
          -1.296629861664313,
          -0.9939882703168663,
          -2.4811780037000126,
          0.5163737334382271,
          -0.8509505825124314,
          0.18521698690709562,
          0.400969571594376,
          0.09284692825371736,
          0.6662143145592785,
          0.38045010667313794,
          -0.6764269749617707,
          -1.9590494783739336,
          0.0702745069971556,
          -0.9868397186829913,
          0.48576342854090954,
          0.9649650807272201,
          0.018040177384070485,
          0.37114273233268846,
          1.8869512978114056,
          1.333566572763461,
          2.177844651149719,
          -1.4653390081808297,
          -1.5728963693526394,
          -0.1622957734581275,
          -0.7038966086121956
         ],
         "xaxis": "x12",
         "y": [
          0.9343696833686856,
          0.6173183922345006,
          -1.0639285999296693,
          -0.33859612376905984,
          0.506690249511028,
          0.2957480725083949,
          0.5263886133671345,
          -0.32276366714443333,
          -0.01792066674395618,
          -1.775083329657011,
          -1.4437741093187602,
          0.07329908144639716,
          1.202571194374941,
          0.5168437647049239,
          -0.09882521510224906,
          1.2444214483260527,
          0.4917821790620534,
          0.1965902827913307,
          0.16855948625243314,
          1.108497197968096,
          -0.5675585086297141,
          -0.3095257147273207,
          -0.7102455459926497,
          1.1671495944265564,
          -0.5284595837443142,
          1.7243424357402708,
          -0.16867574245345937,
          -0.7529943369078369,
          1.4714561614880592,
          -0.3156054085787056,
          1.6318798368170893,
          -1.1814339345772011,
          1.0176216826497526,
          1.2215659458124433,
          0.5550009695494434,
          1.2051994421401777,
          0.12738565982693809,
          -0.349202693458132,
          -1.2226864380171725,
          1.0622710558752908,
          -1.4610410655094517,
          -1.5352515493002508,
          -0.6112654698490414,
          -1.6006436768837422,
          -1.2126704936089923,
          1.51414712452721,
          -0.05326645847836819,
          0.5720140651740735,
          0.30677221656661624,
          -0.8515412861948122,
          -0.2175631127524753,
          -0.6866800691236976,
          -0.2718610220028386,
          -0.4286993360378733,
          -0.008244722026312986,
          -1.134459704124308,
          0.6839925305569563,
          -0.9037393141619001,
          0.8946253754874015,
          -0.9563364923279836,
          -1.8017716095525207,
          1.5529278139958989,
          0.5585114201282104,
          1.1081748287221973,
          0.5786445092709741,
          0.012575418742362943,
          0.31251853048904665,
          0.668992790804777,
          -0.9357642050522706,
          -1.7502352908475747,
          -1.1891899470303575,
          1.3039873876743129,
          -0.9290778024734753,
          1.5949617014816626,
          1.317263804134899,
          -0.7393457254093768,
          -0.2836412501033554,
          0.39500577301382556,
          -0.19878243420856143,
          -0.015156971804573429,
          -1.0233128562001466,
          -0.9044467815425445,
          1.130533978735926,
          0.6647964258955746,
          1.3161641115644949,
          1.5555717667850633,
          0.09260698431106808,
          1.364533716086213,
          -1.2169224255756232,
          -0.703560958600298,
          -0.5226056338222739,
          -1.4403106413817668,
          -0.5082752114604108,
          -0.45246678819824143,
          -0.8994474129369322,
          -0.8038036119855998,
          -1.6685950229652726,
          0.32678600253398316,
          0.5581877526293396,
          1.252591507712197
         ],
         "yaxis": "y12"
        },
        {
         "line": {
          "color": "rgba(128, 128, 128, 1.0)",
          "dash": "solid",
          "shape": "linear",
          "width": 1.3
         },
         "marker": {
          "size": 2,
          "symbol": "circle"
         },
         "mode": "markers",
         "name": "D",
         "text": "",
         "type": "scatter",
         "x": [
          1.204374223794343,
          -0.36906833924077637,
          -0.8122413394730359,
          1.3997697154739082,
          -1.060788107444831,
          0.5515735422646244,
          0.14061940746164717,
          0.16983560391476102,
          -0.5570859045323824,
          1.401481283250656,
          -0.22735734650862433,
          -0.2708226895595077,
          -0.061950652045331865,
          -0.23938387027733657,
          1.108929431106888,
          1.5885217800040747,
          -0.23559972372649096,
          -0.8063452712749882,
          0.13813159002450978,
          -0.6380738291099499,
          -1.3331534209046985,
          -0.1297105180803108,
          -0.10188136335052575,
          -0.30361318214471156,
          0.16497636748164915,
          2.183144065787738,
          -0.7843797606187034,
          -0.7395470414853026,
          -0.527746573443475,
          1.1734247890807368,
          -0.4277744368396613,
          1.586083786095986,
          -0.5946807669553307,
          1.1091000750587032,
          -2.2431426226953897,
          1.0511348504249087,
          -1.7084854938366552,
          0.3848496070527757,
          0.02319587782161051,
          -1.5614243800488814,
          -0.49612500584776853,
          0.36651695375891874,
          -1.9325653893667134,
          -0.009736954747299615,
          0.5770681622022307,
          -1.798736202311587,
          -1.4731317977982321,
          0.9207786842892908,
          -1.4109451145958787,
          1.474614654368594,
          -1.151126450220308,
          1.0959490386459758,
          0.7132001708734125,
          1.5389324759551382,
          -0.3437764307427175,
          -0.1398678689458212,
          -0.5692961334275359,
          -0.3876239117207527,
          2.1646360720109534,
          -0.8575609675505435,
          -0.12246755380214738,
          -0.35793397267560856,
          0.6760702797677335,
          0.6859757866029638,
          1.2172949175056056,
          3.0190435916527885,
          -0.49318883868647506,
          -1.4621624134879483,
          -0.018015512803250384,
          1.0663682852882106,
          0.6097999035722868,
          0.8061363870535981,
          -0.9775765064326202,
          1.9186469222357772,
          -1.3863509250475359,
          -1.729431686804565,
          -0.18184271399933602,
          -0.18613439383574115,
          0.5857466322063433,
          -0.34237696433466347,
          0.3571290493876967,
          0.006789251745769943,
          -3.2125921573829657,
          -0.5584989724527796,
          -0.3753882921486149,
          0.4722926040135994,
          -2.363150670854163,
          -0.6542164839532234,
          0.032211397087431724,
          -1.138463704994325,
          0.16231793129177194,
          0.4166899662658287,
          -0.18051501338281437,
          -0.15668668070654856,
          0.0848144483366338,
          0.6315939404556832,
          0.49811604910354135,
          0.9187915032050765,
          -0.45235784878744706,
          -0.18836177542466803
         ],
         "xaxis": "x13",
         "y": [
          -0.8058842627615331,
          0.9797082212953491,
          0.6379635383022297,
          1.4548329154127562,
          -2.335484400509173,
          -0.6623770650682406,
          0.7535702956405469,
          -0.6236079353039102,
          1.5863547334142853,
          0.5501662700248987,
          0.5544553984982873,
          -0.8026437001666429,
          -1.3410112046609501,
          -0.15432536507994782,
          0.5869254121772779,
          2.1862014691579392,
          -0.8596447818377434,
          0.22903537802967597,
          -1.9527835306690624,
          -0.7106466834944147,
          0.9879654019609568,
          0.43989617483472826,
          0.8879983605688165,
          0.30101447395780634,
          -1.1269830174872864,
          1.637713689364425,
          2.19484065473828,
          2.1351243435618557,
          0.7410418985039773,
          0.10250422142114304,
          1.0147707958155245,
          1.293569209435536,
          -0.30913414653112375,
          0.9485462047058678,
          0.8621835590849038,
          0.30367158443875586,
          1.553251492944668,
          -1.0866663386699786,
          -0.738456098631491,
          -1.2677923318105067,
          -1.5255450657829206,
          0.5806873056280587,
          -1.2980488960785543,
          1.2749609068257286,
          0.44492001246999946,
          -0.9179560951815965,
          0.7796482114958154,
          -1.6263294936914727,
          0.5701756325323951,
          0.5616757646494824,
          2.0692782403749996,
          -0.6998366536532751,
          1.7451322151939659,
          -0.41932548798157826,
          0.12205020250823236,
          0.5315818152632557,
          0.5427953889005159,
          0.4439151325921603,
          -0.9341713046286217,
          0.178731397553212,
          -2.0905963494997692,
          0.6628433514890515,
          -1.0717854744470323,
          0.6395126809145872,
          -0.5506483770131305,
          -0.13274463767961525,
          -1.1915154310340677,
          -2.0013163307379864,
          0.303189753519302,
          -0.9738683344814172,
          0.2200647357558618,
          0.5528113656617654,
          0.03798789279734366,
          -0.033497342180987676,
          0.6561751895549323,
          -1.296629861664313,
          -0.9939882703168663,
          -2.4811780037000126,
          0.5163737334382271,
          -0.8509505825124314,
          0.18521698690709562,
          0.400969571594376,
          0.09284692825371736,
          0.6662143145592785,
          0.38045010667313794,
          -0.6764269749617707,
          -1.9590494783739336,
          0.0702745069971556,
          -0.9868397186829913,
          0.48576342854090954,
          0.9649650807272201,
          0.018040177384070485,
          0.37114273233268846,
          1.8869512978114056,
          1.333566572763461,
          2.177844651149719,
          -1.4653390081808297,
          -1.5728963693526394,
          -0.1622957734581275,
          -0.7038966086121956
         ],
         "yaxis": "y13"
        },
        {
         "line": {
          "color": "rgba(128, 128, 128, 1.0)",
          "dash": "solid",
          "shape": "linear",
          "width": 1.3
         },
         "marker": {
          "size": 2,
          "symbol": "circle"
         },
         "mode": "markers",
         "name": "D",
         "text": "",
         "type": "scatter",
         "x": [
          0.28883879264521045,
          -0.9696091384577731,
          0.3240029375457199,
          -2.0275223864420986,
          0.14726848424825328,
          0.678991256631577,
          0.8082635732754649,
          -1.7856463481517608,
          -1.104842817878926,
          -0.46027812161661064,
          -2.1537687431575328,
          0.15945482476116415,
          -1.3018992475704751,
          0.6025453549513595,
          0.2587350592374064,
          0.8027749160485882,
          0.35454868506569975,
          -0.4552450279185263,
          -0.8120909393883892,
          -0.4444774282124728,
          0.36142121866382554,
          1.0066457905843325,
          2.1146963668436967,
          0.3867859557004427,
          0.30976253103714385,
          0.25304790269208116,
          -0.4853018821573321,
          -0.4266472311732564,
          1.0574834426305726,
          0.0727828918106895,
          0.6387061611541429,
          0.35282443058578244,
          1.2613356031803376,
          1.9112868409358335,
          0.35270908010673824,
          0.33830107746460486,
          0.9661583398721716,
          0.7409660674911244,
          -1.0132490082439065,
          1.1381430753784794,
          0.06956837769113201,
          -0.025060573913217636,
          0.5601028658725632,
          1.1067653704904703,
          0.5381067202924643,
          -0.7979118583312437,
          0.6334157782864624,
          -0.5266080026725684,
          0.4833853733012127,
          -0.38299530376008994,
          -0.4357980040855327,
          -0.37062045661239246,
          -1.3414385587779716,
          -0.36590910152001693,
          -0.7034440798878234,
          -1.3876156954916887,
          -1.0926499669857581,
          0.5638637016453981,
          -0.3829013772219426,
          1.9157532042187086,
          0.761887728347791,
          0.8146029084065223,
          0.8231475450342212,
          0.04436894811492774,
          -1.0635463927921698,
          -0.07945247508080461,
          1.882926346755678,
          -0.20579958146507463,
          0.4168470364341955,
          0.36946234527703425,
          1.022023039989263,
          -2.199761127185428,
          0.09350752683525511,
          0.050408117632942985,
          2.190592367226769,
          -0.23747751471779366,
          1.0478758815724036,
          -0.4337413657219337,
          0.20492756400731685,
          2.3831221699587988,
          -0.6802126826044421,
          0.9545186757613414,
          -1.559532703638838,
          -0.2702728387868071,
          0.2237820300585606,
          -0.18639837634820103,
          -0.47969720470485616,
          0.44948289758789267,
          -0.3239630401170654,
          0.12299224412986517,
          -0.2955225352765806,
          -0.06693027092072842,
          -0.3667350661835663,
          -1.1643883307876375,
          0.8995409226274617,
          -1.0630968020526121,
          -2.25782917678505,
          0.17250522033490703,
          -2.0771412668361102,
          -1.498269212529484
         ],
         "xaxis": "x14",
         "y": [
          -0.8058842627615331,
          0.9797082212953491,
          0.6379635383022297,
          1.4548329154127562,
          -2.335484400509173,
          -0.6623770650682406,
          0.7535702956405469,
          -0.6236079353039102,
          1.5863547334142853,
          0.5501662700248987,
          0.5544553984982873,
          -0.8026437001666429,
          -1.3410112046609501,
          -0.15432536507994782,
          0.5869254121772779,
          2.1862014691579392,
          -0.8596447818377434,
          0.22903537802967597,
          -1.9527835306690624,
          -0.7106466834944147,
          0.9879654019609568,
          0.43989617483472826,
          0.8879983605688165,
          0.30101447395780634,
          -1.1269830174872864,
          1.637713689364425,
          2.19484065473828,
          2.1351243435618557,
          0.7410418985039773,
          0.10250422142114304,
          1.0147707958155245,
          1.293569209435536,
          -0.30913414653112375,
          0.9485462047058678,
          0.8621835590849038,
          0.30367158443875586,
          1.553251492944668,
          -1.0866663386699786,
          -0.738456098631491,
          -1.2677923318105067,
          -1.5255450657829206,
          0.5806873056280587,
          -1.2980488960785543,
          1.2749609068257286,
          0.44492001246999946,
          -0.9179560951815965,
          0.7796482114958154,
          -1.6263294936914727,
          0.5701756325323951,
          0.5616757646494824,
          2.0692782403749996,
          -0.6998366536532751,
          1.7451322151939659,
          -0.41932548798157826,
          0.12205020250823236,
          0.5315818152632557,
          0.5427953889005159,
          0.4439151325921603,
          -0.9341713046286217,
          0.178731397553212,
          -2.0905963494997692,
          0.6628433514890515,
          -1.0717854744470323,
          0.6395126809145872,
          -0.5506483770131305,
          -0.13274463767961525,
          -1.1915154310340677,
          -2.0013163307379864,
          0.303189753519302,
          -0.9738683344814172,
          0.2200647357558618,
          0.5528113656617654,
          0.03798789279734366,
          -0.033497342180987676,
          0.6561751895549323,
          -1.296629861664313,
          -0.9939882703168663,
          -2.4811780037000126,
          0.5163737334382271,
          -0.8509505825124314,
          0.18521698690709562,
          0.400969571594376,
          0.09284692825371736,
          0.6662143145592785,
          0.38045010667313794,
          -0.6764269749617707,
          -1.9590494783739336,
          0.0702745069971556,
          -0.9868397186829913,
          0.48576342854090954,
          0.9649650807272201,
          0.018040177384070485,
          0.37114273233268846,
          1.8869512978114056,
          1.333566572763461,
          2.177844651149719,
          -1.4653390081808297,
          -1.5728963693526394,
          -0.1622957734581275,
          -0.7038966086121956
         ],
         "yaxis": "y14"
        },
        {
         "line": {
          "color": "rgba(128, 128, 128, 1.0)",
          "dash": "solid",
          "shape": "linear",
          "width": 1.3
         },
         "marker": {
          "size": 2,
          "symbol": "circle"
         },
         "mode": "markers",
         "name": "D",
         "text": "",
         "type": "scatter",
         "x": [
          0.9343696833686856,
          0.6173183922345006,
          -1.0639285999296693,
          -0.33859612376905984,
          0.506690249511028,
          0.2957480725083949,
          0.5263886133671345,
          -0.32276366714443333,
          -0.01792066674395618,
          -1.775083329657011,
          -1.4437741093187602,
          0.07329908144639716,
          1.202571194374941,
          0.5168437647049239,
          -0.09882521510224906,
          1.2444214483260527,
          0.4917821790620534,
          0.1965902827913307,
          0.16855948625243314,
          1.108497197968096,
          -0.5675585086297141,
          -0.3095257147273207,
          -0.7102455459926497,
          1.1671495944265564,
          -0.5284595837443142,
          1.7243424357402708,
          -0.16867574245345937,
          -0.7529943369078369,
          1.4714561614880592,
          -0.3156054085787056,
          1.6318798368170893,
          -1.1814339345772011,
          1.0176216826497526,
          1.2215659458124433,
          0.5550009695494434,
          1.2051994421401777,
          0.12738565982693809,
          -0.349202693458132,
          -1.2226864380171725,
          1.0622710558752908,
          -1.4610410655094517,
          -1.5352515493002508,
          -0.6112654698490414,
          -1.6006436768837422,
          -1.2126704936089923,
          1.51414712452721,
          -0.05326645847836819,
          0.5720140651740735,
          0.30677221656661624,
          -0.8515412861948122,
          -0.2175631127524753,
          -0.6866800691236976,
          -0.2718610220028386,
          -0.4286993360378733,
          -0.008244722026312986,
          -1.134459704124308,
          0.6839925305569563,
          -0.9037393141619001,
          0.8946253754874015,
          -0.9563364923279836,
          -1.8017716095525207,
          1.5529278139958989,
          0.5585114201282104,
          1.1081748287221973,
          0.5786445092709741,
          0.012575418742362943,
          0.31251853048904665,
          0.668992790804777,
          -0.9357642050522706,
          -1.7502352908475747,
          -1.1891899470303575,
          1.3039873876743129,
          -0.9290778024734753,
          1.5949617014816626,
          1.317263804134899,
          -0.7393457254093768,
          -0.2836412501033554,
          0.39500577301382556,
          -0.19878243420856143,
          -0.015156971804573429,
          -1.0233128562001466,
          -0.9044467815425445,
          1.130533978735926,
          0.6647964258955746,
          1.3161641115644949,
          1.5555717667850633,
          0.09260698431106808,
          1.364533716086213,
          -1.2169224255756232,
          -0.703560958600298,
          -0.5226056338222739,
          -1.4403106413817668,
          -0.5082752114604108,
          -0.45246678819824143,
          -0.8994474129369322,
          -0.8038036119855998,
          -1.6685950229652726,
          0.32678600253398316,
          0.5581877526293396,
          1.252591507712197
         ],
         "xaxis": "x15",
         "y": [
          -0.8058842627615331,
          0.9797082212953491,
          0.6379635383022297,
          1.4548329154127562,
          -2.335484400509173,
          -0.6623770650682406,
          0.7535702956405469,
          -0.6236079353039102,
          1.5863547334142853,
          0.5501662700248987,
          0.5544553984982873,
          -0.8026437001666429,
          -1.3410112046609501,
          -0.15432536507994782,
          0.5869254121772779,
          2.1862014691579392,
          -0.8596447818377434,
          0.22903537802967597,
          -1.9527835306690624,
          -0.7106466834944147,
          0.9879654019609568,
          0.43989617483472826,
          0.8879983605688165,
          0.30101447395780634,
          -1.1269830174872864,
          1.637713689364425,
          2.19484065473828,
          2.1351243435618557,
          0.7410418985039773,
          0.10250422142114304,
          1.0147707958155245,
          1.293569209435536,
          -0.30913414653112375,
          0.9485462047058678,
          0.8621835590849038,
          0.30367158443875586,
          1.553251492944668,
          -1.0866663386699786,
          -0.738456098631491,
          -1.2677923318105067,
          -1.5255450657829206,
          0.5806873056280587,
          -1.2980488960785543,
          1.2749609068257286,
          0.44492001246999946,
          -0.9179560951815965,
          0.7796482114958154,
          -1.6263294936914727,
          0.5701756325323951,
          0.5616757646494824,
          2.0692782403749996,
          -0.6998366536532751,
          1.7451322151939659,
          -0.41932548798157826,
          0.12205020250823236,
          0.5315818152632557,
          0.5427953889005159,
          0.4439151325921603,
          -0.9341713046286217,
          0.178731397553212,
          -2.0905963494997692,
          0.6628433514890515,
          -1.0717854744470323,
          0.6395126809145872,
          -0.5506483770131305,
          -0.13274463767961525,
          -1.1915154310340677,
          -2.0013163307379864,
          0.303189753519302,
          -0.9738683344814172,
          0.2200647357558618,
          0.5528113656617654,
          0.03798789279734366,
          -0.033497342180987676,
          0.6561751895549323,
          -1.296629861664313,
          -0.9939882703168663,
          -2.4811780037000126,
          0.5163737334382271,
          -0.8509505825124314,
          0.18521698690709562,
          0.400969571594376,
          0.09284692825371736,
          0.6662143145592785,
          0.38045010667313794,
          -0.6764269749617707,
          -1.9590494783739336,
          0.0702745069971556,
          -0.9868397186829913,
          0.48576342854090954,
          0.9649650807272201,
          0.018040177384070485,
          0.37114273233268846,
          1.8869512978114056,
          1.333566572763461,
          2.177844651149719,
          -1.4653390081808297,
          -1.5728963693526394,
          -0.1622957734581275,
          -0.7038966086121956
         ],
         "yaxis": "y15"
        },
        {
         "histfunc": "count",
         "histnorm": "",
         "marker": {
          "color": "rgba(128, 0, 128, 1.0)",
          "line": {
           "color": "#4D5663",
           "width": 1.3
          }
         },
         "name": "D",
         "nbinsx": 10,
         "opacity": 0.8,
         "orientation": "v",
         "type": "histogram",
         "x": [
          -0.8058842627615331,
          0.9797082212953491,
          0.6379635383022297,
          1.4548329154127562,
          -2.335484400509173,
          -0.6623770650682406,
          0.7535702956405469,
          -0.6236079353039102,
          1.5863547334142853,
          0.5501662700248987,
          0.5544553984982873,
          -0.8026437001666429,
          -1.3410112046609501,
          -0.15432536507994782,
          0.5869254121772779,
          2.1862014691579392,
          -0.8596447818377434,
          0.22903537802967597,
          -1.9527835306690624,
          -0.7106466834944147,
          0.9879654019609568,
          0.43989617483472826,
          0.8879983605688165,
          0.30101447395780634,
          -1.1269830174872864,
          1.637713689364425,
          2.19484065473828,
          2.1351243435618557,
          0.7410418985039773,
          0.10250422142114304,
          1.0147707958155245,
          1.293569209435536,
          -0.30913414653112375,
          0.9485462047058678,
          0.8621835590849038,
          0.30367158443875586,
          1.553251492944668,
          -1.0866663386699786,
          -0.738456098631491,
          -1.2677923318105067,
          -1.5255450657829206,
          0.5806873056280587,
          -1.2980488960785543,
          1.2749609068257286,
          0.44492001246999946,
          -0.9179560951815965,
          0.7796482114958154,
          -1.6263294936914727,
          0.5701756325323951,
          0.5616757646494824,
          2.0692782403749996,
          -0.6998366536532751,
          1.7451322151939659,
          -0.41932548798157826,
          0.12205020250823236,
          0.5315818152632557,
          0.5427953889005159,
          0.4439151325921603,
          -0.9341713046286217,
          0.178731397553212,
          -2.0905963494997692,
          0.6628433514890515,
          -1.0717854744470323,
          0.6395126809145872,
          -0.5506483770131305,
          -0.13274463767961525,
          -1.1915154310340677,
          -2.0013163307379864,
          0.303189753519302,
          -0.9738683344814172,
          0.2200647357558618,
          0.5528113656617654,
          0.03798789279734366,
          -0.033497342180987676,
          0.6561751895549323,
          -1.296629861664313,
          -0.9939882703168663,
          -2.4811780037000126,
          0.5163737334382271,
          -0.8509505825124314,
          0.18521698690709562,
          0.400969571594376,
          0.09284692825371736,
          0.6662143145592785,
          0.38045010667313794,
          -0.6764269749617707,
          -1.9590494783739336,
          0.0702745069971556,
          -0.9868397186829913,
          0.48576342854090954,
          0.9649650807272201,
          0.018040177384070485,
          0.37114273233268846,
          1.8869512978114056,
          1.333566572763461,
          2.177844651149719,
          -1.4653390081808297,
          -1.5728963693526394,
          -0.1622957734581275,
          -0.7038966086121956
         ],
         "xaxis": "x16",
         "yaxis": "y16"
        }
       ],
       "layout": {
        "bargap": 0.02,
        "legend": {
         "bgcolor": "#F5F6F9",
         "font": {
          "color": "#4D5663"
         }
        },
        "paper_bgcolor": "#F5F6F9",
        "plot_bgcolor": "#F5F6F9",
        "showlegend": false,
        "template": {
         "data": {
          "bar": [
           {
            "error_x": {
             "color": "#2a3f5f"
            },
            "error_y": {
             "color": "#2a3f5f"
            },
            "marker": {
             "line": {
              "color": "#E5ECF6",
              "width": 0.5
             }
            },
            "type": "bar"
           }
          ],
          "barpolar": [
           {
            "marker": {
             "line": {
              "color": "#E5ECF6",
              "width": 0.5
             }
            },
            "type": "barpolar"
           }
          ],
          "carpet": [
           {
            "aaxis": {
             "endlinecolor": "#2a3f5f",
             "gridcolor": "white",
             "linecolor": "white",
             "minorgridcolor": "white",
             "startlinecolor": "#2a3f5f"
            },
            "baxis": {
             "endlinecolor": "#2a3f5f",
             "gridcolor": "white",
             "linecolor": "white",
             "minorgridcolor": "white",
             "startlinecolor": "#2a3f5f"
            },
            "type": "carpet"
           }
          ],
          "choropleth": [
           {
            "colorbar": {
             "outlinewidth": 0,
             "ticks": ""
            },
            "type": "choropleth"
           }
          ],
          "contour": [
           {
            "colorbar": {
             "outlinewidth": 0,
             "ticks": ""
            },
            "colorscale": [
             [
              0,
              "#0d0887"
             ],
             [
              0.1111111111111111,
              "#46039f"
             ],
             [
              0.2222222222222222,
              "#7201a8"
             ],
             [
              0.3333333333333333,
              "#9c179e"
             ],
             [
              0.4444444444444444,
              "#bd3786"
             ],
             [
              0.5555555555555556,
              "#d8576b"
             ],
             [
              0.6666666666666666,
              "#ed7953"
             ],
             [
              0.7777777777777778,
              "#fb9f3a"
             ],
             [
              0.8888888888888888,
              "#fdca26"
             ],
             [
              1,
              "#f0f921"
             ]
            ],
            "type": "contour"
           }
          ],
          "contourcarpet": [
           {
            "colorbar": {
             "outlinewidth": 0,
             "ticks": ""
            },
            "type": "contourcarpet"
           }
          ],
          "heatmap": [
           {
            "colorbar": {
             "outlinewidth": 0,
             "ticks": ""
            },
            "colorscale": [
             [
              0,
              "#0d0887"
             ],
             [
              0.1111111111111111,
              "#46039f"
             ],
             [
              0.2222222222222222,
              "#7201a8"
             ],
             [
              0.3333333333333333,
              "#9c179e"
             ],
             [
              0.4444444444444444,
              "#bd3786"
             ],
             [
              0.5555555555555556,
              "#d8576b"
             ],
             [
              0.6666666666666666,
              "#ed7953"
             ],
             [
              0.7777777777777778,
              "#fb9f3a"
             ],
             [
              0.8888888888888888,
              "#fdca26"
             ],
             [
              1,
              "#f0f921"
             ]
            ],
            "type": "heatmap"
           }
          ],
          "heatmapgl": [
           {
            "colorbar": {
             "outlinewidth": 0,
             "ticks": ""
            },
            "colorscale": [
             [
              0,
              "#0d0887"
             ],
             [
              0.1111111111111111,
              "#46039f"
             ],
             [
              0.2222222222222222,
              "#7201a8"
             ],
             [
              0.3333333333333333,
              "#9c179e"
             ],
             [
              0.4444444444444444,
              "#bd3786"
             ],
             [
              0.5555555555555556,
              "#d8576b"
             ],
             [
              0.6666666666666666,
              "#ed7953"
             ],
             [
              0.7777777777777778,
              "#fb9f3a"
             ],
             [
              0.8888888888888888,
              "#fdca26"
             ],
             [
              1,
              "#f0f921"
             ]
            ],
            "type": "heatmapgl"
           }
          ],
          "histogram": [
           {
            "marker": {
             "colorbar": {
              "outlinewidth": 0,
              "ticks": ""
             }
            },
            "type": "histogram"
           }
          ],
          "histogram2d": [
           {
            "colorbar": {
             "outlinewidth": 0,
             "ticks": ""
            },
            "colorscale": [
             [
              0,
              "#0d0887"
             ],
             [
              0.1111111111111111,
              "#46039f"
             ],
             [
              0.2222222222222222,
              "#7201a8"
             ],
             [
              0.3333333333333333,
              "#9c179e"
             ],
             [
              0.4444444444444444,
              "#bd3786"
             ],
             [
              0.5555555555555556,
              "#d8576b"
             ],
             [
              0.6666666666666666,
              "#ed7953"
             ],
             [
              0.7777777777777778,
              "#fb9f3a"
             ],
             [
              0.8888888888888888,
              "#fdca26"
             ],
             [
              1,
              "#f0f921"
             ]
            ],
            "type": "histogram2d"
           }
          ],
          "histogram2dcontour": [
           {
            "colorbar": {
             "outlinewidth": 0,
             "ticks": ""
            },
            "colorscale": [
             [
              0,
              "#0d0887"
             ],
             [
              0.1111111111111111,
              "#46039f"
             ],
             [
              0.2222222222222222,
              "#7201a8"
             ],
             [
              0.3333333333333333,
              "#9c179e"
             ],
             [
              0.4444444444444444,
              "#bd3786"
             ],
             [
              0.5555555555555556,
              "#d8576b"
             ],
             [
              0.6666666666666666,
              "#ed7953"
             ],
             [
              0.7777777777777778,
              "#fb9f3a"
             ],
             [
              0.8888888888888888,
              "#fdca26"
             ],
             [
              1,
              "#f0f921"
             ]
            ],
            "type": "histogram2dcontour"
           }
          ],
          "mesh3d": [
           {
            "colorbar": {
             "outlinewidth": 0,
             "ticks": ""
            },
            "type": "mesh3d"
           }
          ],
          "parcoords": [
           {
            "line": {
             "colorbar": {
              "outlinewidth": 0,
              "ticks": ""
             }
            },
            "type": "parcoords"
           }
          ],
          "pie": [
           {
            "automargin": true,
            "type": "pie"
           }
          ],
          "scatter": [
           {
            "marker": {
             "colorbar": {
              "outlinewidth": 0,
              "ticks": ""
             }
            },
            "type": "scatter"
           }
          ],
          "scatter3d": [
           {
            "line": {
             "colorbar": {
              "outlinewidth": 0,
              "ticks": ""
             }
            },
            "marker": {
             "colorbar": {
              "outlinewidth": 0,
              "ticks": ""
             }
            },
            "type": "scatter3d"
           }
          ],
          "scattercarpet": [
           {
            "marker": {
             "colorbar": {
              "outlinewidth": 0,
              "ticks": ""
             }
            },
            "type": "scattercarpet"
           }
          ],
          "scattergeo": [
           {
            "marker": {
             "colorbar": {
              "outlinewidth": 0,
              "ticks": ""
             }
            },
            "type": "scattergeo"
           }
          ],
          "scattergl": [
           {
            "marker": {
             "colorbar": {
              "outlinewidth": 0,
              "ticks": ""
             }
            },
            "type": "scattergl"
           }
          ],
          "scattermapbox": [
           {
            "marker": {
             "colorbar": {
              "outlinewidth": 0,
              "ticks": ""
             }
            },
            "type": "scattermapbox"
           }
          ],
          "scatterpolar": [
           {
            "marker": {
             "colorbar": {
              "outlinewidth": 0,
              "ticks": ""
             }
            },
            "type": "scatterpolar"
           }
          ],
          "scatterpolargl": [
           {
            "marker": {
             "colorbar": {
              "outlinewidth": 0,
              "ticks": ""
             }
            },
            "type": "scatterpolargl"
           }
          ],
          "scatterternary": [
           {
            "marker": {
             "colorbar": {
              "outlinewidth": 0,
              "ticks": ""
             }
            },
            "type": "scatterternary"
           }
          ],
          "surface": [
           {
            "colorbar": {
             "outlinewidth": 0,
             "ticks": ""
            },
            "colorscale": [
             [
              0,
              "#0d0887"
             ],
             [
              0.1111111111111111,
              "#46039f"
             ],
             [
              0.2222222222222222,
              "#7201a8"
             ],
             [
              0.3333333333333333,
              "#9c179e"
             ],
             [
              0.4444444444444444,
              "#bd3786"
             ],
             [
              0.5555555555555556,
              "#d8576b"
             ],
             [
              0.6666666666666666,
              "#ed7953"
             ],
             [
              0.7777777777777778,
              "#fb9f3a"
             ],
             [
              0.8888888888888888,
              "#fdca26"
             ],
             [
              1,
              "#f0f921"
             ]
            ],
            "type": "surface"
           }
          ],
          "table": [
           {
            "cells": {
             "fill": {
              "color": "#EBF0F8"
             },
             "line": {
              "color": "white"
             }
            },
            "header": {
             "fill": {
              "color": "#C8D4E3"
             },
             "line": {
              "color": "white"
             }
            },
            "type": "table"
           }
          ]
         },
         "layout": {
          "annotationdefaults": {
           "arrowcolor": "#2a3f5f",
           "arrowhead": 0,
           "arrowwidth": 1
          },
          "coloraxis": {
           "colorbar": {
            "outlinewidth": 0,
            "ticks": ""
           }
          },
          "colorscale": {
           "diverging": [
            [
             0,
             "#8e0152"
            ],
            [
             0.1,
             "#c51b7d"
            ],
            [
             0.2,
             "#de77ae"
            ],
            [
             0.3,
             "#f1b6da"
            ],
            [
             0.4,
             "#fde0ef"
            ],
            [
             0.5,
             "#f7f7f7"
            ],
            [
             0.6,
             "#e6f5d0"
            ],
            [
             0.7,
             "#b8e186"
            ],
            [
             0.8,
             "#7fbc41"
            ],
            [
             0.9,
             "#4d9221"
            ],
            [
             1,
             "#276419"
            ]
           ],
           "sequential": [
            [
             0,
             "#0d0887"
            ],
            [
             0.1111111111111111,
             "#46039f"
            ],
            [
             0.2222222222222222,
             "#7201a8"
            ],
            [
             0.3333333333333333,
             "#9c179e"
            ],
            [
             0.4444444444444444,
             "#bd3786"
            ],
            [
             0.5555555555555556,
             "#d8576b"
            ],
            [
             0.6666666666666666,
             "#ed7953"
            ],
            [
             0.7777777777777778,
             "#fb9f3a"
            ],
            [
             0.8888888888888888,
             "#fdca26"
            ],
            [
             1,
             "#f0f921"
            ]
           ],
           "sequentialminus": [
            [
             0,
             "#0d0887"
            ],
            [
             0.1111111111111111,
             "#46039f"
            ],
            [
             0.2222222222222222,
             "#7201a8"
            ],
            [
             0.3333333333333333,
             "#9c179e"
            ],
            [
             0.4444444444444444,
             "#bd3786"
            ],
            [
             0.5555555555555556,
             "#d8576b"
            ],
            [
             0.6666666666666666,
             "#ed7953"
            ],
            [
             0.7777777777777778,
             "#fb9f3a"
            ],
            [
             0.8888888888888888,
             "#fdca26"
            ],
            [
             1,
             "#f0f921"
            ]
           ]
          },
          "colorway": [
           "#636efa",
           "#EF553B",
           "#00cc96",
           "#ab63fa",
           "#FFA15A",
           "#19d3f3",
           "#FF6692",
           "#B6E880",
           "#FF97FF",
           "#FECB52"
          ],
          "font": {
           "color": "#2a3f5f"
          },
          "geo": {
           "bgcolor": "white",
           "lakecolor": "white",
           "landcolor": "#E5ECF6",
           "showlakes": true,
           "showland": true,
           "subunitcolor": "white"
          },
          "hoverlabel": {
           "align": "left"
          },
          "hovermode": "closest",
          "mapbox": {
           "style": "light"
          },
          "paper_bgcolor": "white",
          "plot_bgcolor": "#E5ECF6",
          "polar": {
           "angularaxis": {
            "gridcolor": "white",
            "linecolor": "white",
            "ticks": ""
           },
           "bgcolor": "#E5ECF6",
           "radialaxis": {
            "gridcolor": "white",
            "linecolor": "white",
            "ticks": ""
           }
          },
          "scene": {
           "xaxis": {
            "backgroundcolor": "#E5ECF6",
            "gridcolor": "white",
            "gridwidth": 2,
            "linecolor": "white",
            "showbackground": true,
            "ticks": "",
            "zerolinecolor": "white"
           },
           "yaxis": {
            "backgroundcolor": "#E5ECF6",
            "gridcolor": "white",
            "gridwidth": 2,
            "linecolor": "white",
            "showbackground": true,
            "ticks": "",
            "zerolinecolor": "white"
           },
           "zaxis": {
            "backgroundcolor": "#E5ECF6",
            "gridcolor": "white",
            "gridwidth": 2,
            "linecolor": "white",
            "showbackground": true,
            "ticks": "",
            "zerolinecolor": "white"
           }
          },
          "shapedefaults": {
           "line": {
            "color": "#2a3f5f"
           }
          },
          "ternary": {
           "aaxis": {
            "gridcolor": "white",
            "linecolor": "white",
            "ticks": ""
           },
           "baxis": {
            "gridcolor": "white",
            "linecolor": "white",
            "ticks": ""
           },
           "bgcolor": "#E5ECF6",
           "caxis": {
            "gridcolor": "white",
            "linecolor": "white",
            "ticks": ""
           }
          },
          "title": {
           "x": 0.05
          },
          "xaxis": {
           "automargin": true,
           "gridcolor": "white",
           "linecolor": "white",
           "ticks": "",
           "title": {
            "standoff": 15
           },
           "zerolinecolor": "white",
           "zerolinewidth": 2
          },
          "yaxis": {
           "automargin": true,
           "gridcolor": "white",
           "linecolor": "white",
           "ticks": "",
           "title": {
            "standoff": 15
           },
           "zerolinecolor": "white",
           "zerolinewidth": 2
          }
         }
        },
        "title": {
         "font": {
          "color": "#4D5663"
         }
        },
        "xaxis": {
         "anchor": "y",
         "domain": [
          0,
          0.2125
         ],
         "gridcolor": "#E1E5ED",
         "showgrid": false,
         "tickfont": {
          "color": "#4D5663"
         },
         "title": {
          "font": {
           "color": "#4D5663"
          },
          "text": ""
         },
         "zerolinecolor": "#E1E5ED"
        },
        "xaxis10": {
         "anchor": "y10",
         "domain": [
          0.2625,
          0.475
         ],
         "gridcolor": "#E1E5ED",
         "showgrid": false,
         "tickfont": {
          "color": "#4D5663"
         },
         "title": {
          "font": {
           "color": "#4D5663"
          },
          "text": ""
         },
         "zerolinecolor": "#E1E5ED"
        },
        "xaxis11": {
         "anchor": "y11",
         "domain": [
          0.525,
          0.7375
         ],
         "gridcolor": "#E1E5ED",
         "showgrid": false,
         "tickfont": {
          "color": "#4D5663"
         },
         "title": {
          "font": {
           "color": "#4D5663"
          },
          "text": ""
         },
         "zerolinecolor": "#E1E5ED"
        },
        "xaxis12": {
         "anchor": "y12",
         "domain": [
          0.7875,
          1
         ],
         "gridcolor": "#E1E5ED",
         "showgrid": false,
         "tickfont": {
          "color": "#4D5663"
         },
         "title": {
          "font": {
           "color": "#4D5663"
          },
          "text": ""
         },
         "zerolinecolor": "#E1E5ED"
        },
        "xaxis13": {
         "anchor": "y13",
         "domain": [
          0,
          0.2125
         ],
         "gridcolor": "#E1E5ED",
         "showgrid": false,
         "tickfont": {
          "color": "#4D5663"
         },
         "title": {
          "font": {
           "color": "#4D5663"
          },
          "text": ""
         },
         "zerolinecolor": "#E1E5ED"
        },
        "xaxis14": {
         "anchor": "y14",
         "domain": [
          0.2625,
          0.475
         ],
         "gridcolor": "#E1E5ED",
         "showgrid": false,
         "tickfont": {
          "color": "#4D5663"
         },
         "title": {
          "font": {
           "color": "#4D5663"
          },
          "text": ""
         },
         "zerolinecolor": "#E1E5ED"
        },
        "xaxis15": {
         "anchor": "y15",
         "domain": [
          0.525,
          0.7375
         ],
         "gridcolor": "#E1E5ED",
         "showgrid": false,
         "tickfont": {
          "color": "#4D5663"
         },
         "title": {
          "font": {
           "color": "#4D5663"
          },
          "text": ""
         },
         "zerolinecolor": "#E1E5ED"
        },
        "xaxis16": {
         "anchor": "y16",
         "domain": [
          0.7875,
          1
         ],
         "gridcolor": "#E1E5ED",
         "showgrid": false,
         "tickfont": {
          "color": "#4D5663"
         },
         "title": {
          "font": {
           "color": "#4D5663"
          },
          "text": ""
         },
         "zerolinecolor": "#E1E5ED"
        },
        "xaxis2": {
         "anchor": "y2",
         "domain": [
          0.2625,
          0.475
         ],
         "gridcolor": "#E1E5ED",
         "showgrid": false,
         "tickfont": {
          "color": "#4D5663"
         },
         "title": {
          "font": {
           "color": "#4D5663"
          },
          "text": ""
         },
         "zerolinecolor": "#E1E5ED"
        },
        "xaxis3": {
         "anchor": "y3",
         "domain": [
          0.525,
          0.7375
         ],
         "gridcolor": "#E1E5ED",
         "showgrid": false,
         "tickfont": {
          "color": "#4D5663"
         },
         "title": {
          "font": {
           "color": "#4D5663"
          },
          "text": ""
         },
         "zerolinecolor": "#E1E5ED"
        },
        "xaxis4": {
         "anchor": "y4",
         "domain": [
          0.7875,
          1
         ],
         "gridcolor": "#E1E5ED",
         "showgrid": false,
         "tickfont": {
          "color": "#4D5663"
         },
         "title": {
          "font": {
           "color": "#4D5663"
          },
          "text": ""
         },
         "zerolinecolor": "#E1E5ED"
        },
        "xaxis5": {
         "anchor": "y5",
         "domain": [
          0,
          0.2125
         ],
         "gridcolor": "#E1E5ED",
         "showgrid": false,
         "tickfont": {
          "color": "#4D5663"
         },
         "title": {
          "font": {
           "color": "#4D5663"
          },
          "text": ""
         },
         "zerolinecolor": "#E1E5ED"
        },
        "xaxis6": {
         "anchor": "y6",
         "domain": [
          0.2625,
          0.475
         ],
         "gridcolor": "#E1E5ED",
         "showgrid": false,
         "tickfont": {
          "color": "#4D5663"
         },
         "title": {
          "font": {
           "color": "#4D5663"
          },
          "text": ""
         },
         "zerolinecolor": "#E1E5ED"
        },
        "xaxis7": {
         "anchor": "y7",
         "domain": [
          0.525,
          0.7375
         ],
         "gridcolor": "#E1E5ED",
         "showgrid": false,
         "tickfont": {
          "color": "#4D5663"
         },
         "title": {
          "font": {
           "color": "#4D5663"
          },
          "text": ""
         },
         "zerolinecolor": "#E1E5ED"
        },
        "xaxis8": {
         "anchor": "y8",
         "domain": [
          0.7875,
          1
         ],
         "gridcolor": "#E1E5ED",
         "showgrid": false,
         "tickfont": {
          "color": "#4D5663"
         },
         "title": {
          "font": {
           "color": "#4D5663"
          },
          "text": ""
         },
         "zerolinecolor": "#E1E5ED"
        },
        "xaxis9": {
         "anchor": "y9",
         "domain": [
          0,
          0.2125
         ],
         "gridcolor": "#E1E5ED",
         "showgrid": false,
         "tickfont": {
          "color": "#4D5663"
         },
         "title": {
          "font": {
           "color": "#4D5663"
          },
          "text": ""
         },
         "zerolinecolor": "#E1E5ED"
        },
        "yaxis": {
         "anchor": "x",
         "domain": [
          0.8025,
          1
         ],
         "gridcolor": "#E1E5ED",
         "showgrid": false,
         "tickfont": {
          "color": "#4D5663"
         },
         "title": {
          "font": {
           "color": "#4D5663"
          },
          "text": ""
         },
         "zerolinecolor": "#E1E5ED"
        },
        "yaxis10": {
         "anchor": "x10",
         "domain": [
          0.2675,
          0.465
         ],
         "gridcolor": "#E1E5ED",
         "showgrid": false,
         "tickfont": {
          "color": "#4D5663"
         },
         "title": {
          "font": {
           "color": "#4D5663"
          },
          "text": ""
         },
         "zerolinecolor": "#E1E5ED"
        },
        "yaxis11": {
         "anchor": "x11",
         "domain": [
          0.2675,
          0.465
         ],
         "gridcolor": "#E1E5ED",
         "showgrid": false,
         "tickfont": {
          "color": "#4D5663"
         },
         "title": {
          "font": {
           "color": "#4D5663"
          },
          "text": ""
         },
         "zerolinecolor": "#E1E5ED"
        },
        "yaxis12": {
         "anchor": "x12",
         "domain": [
          0.2675,
          0.465
         ],
         "gridcolor": "#E1E5ED",
         "showgrid": false,
         "tickfont": {
          "color": "#4D5663"
         },
         "title": {
          "font": {
           "color": "#4D5663"
          },
          "text": ""
         },
         "zerolinecolor": "#E1E5ED"
        },
        "yaxis13": {
         "anchor": "x13",
         "domain": [
          0,
          0.1975
         ],
         "gridcolor": "#E1E5ED",
         "showgrid": false,
         "tickfont": {
          "color": "#4D5663"
         },
         "title": {
          "font": {
           "color": "#4D5663"
          },
          "text": ""
         },
         "zerolinecolor": "#E1E5ED"
        },
        "yaxis14": {
         "anchor": "x14",
         "domain": [
          0,
          0.1975
         ],
         "gridcolor": "#E1E5ED",
         "showgrid": false,
         "tickfont": {
          "color": "#4D5663"
         },
         "title": {
          "font": {
           "color": "#4D5663"
          },
          "text": ""
         },
         "zerolinecolor": "#E1E5ED"
        },
        "yaxis15": {
         "anchor": "x15",
         "domain": [
          0,
          0.1975
         ],
         "gridcolor": "#E1E5ED",
         "showgrid": false,
         "tickfont": {
          "color": "#4D5663"
         },
         "title": {
          "font": {
           "color": "#4D5663"
          },
          "text": ""
         },
         "zerolinecolor": "#E1E5ED"
        },
        "yaxis16": {
         "anchor": "x16",
         "domain": [
          0,
          0.1975
         ],
         "gridcolor": "#E1E5ED",
         "showgrid": false,
         "tickfont": {
          "color": "#4D5663"
         },
         "title": {
          "font": {
           "color": "#4D5663"
          },
          "text": ""
         },
         "zerolinecolor": "#E1E5ED"
        },
        "yaxis2": {
         "anchor": "x2",
         "domain": [
          0.8025,
          1
         ],
         "gridcolor": "#E1E5ED",
         "showgrid": false,
         "tickfont": {
          "color": "#4D5663"
         },
         "title": {
          "font": {
           "color": "#4D5663"
          },
          "text": ""
         },
         "zerolinecolor": "#E1E5ED"
        },
        "yaxis3": {
         "anchor": "x3",
         "domain": [
          0.8025,
          1
         ],
         "gridcolor": "#E1E5ED",
         "showgrid": false,
         "tickfont": {
          "color": "#4D5663"
         },
         "title": {
          "font": {
           "color": "#4D5663"
          },
          "text": ""
         },
         "zerolinecolor": "#E1E5ED"
        },
        "yaxis4": {
         "anchor": "x4",
         "domain": [
          0.8025,
          1
         ],
         "gridcolor": "#E1E5ED",
         "showgrid": false,
         "tickfont": {
          "color": "#4D5663"
         },
         "title": {
          "font": {
           "color": "#4D5663"
          },
          "text": ""
         },
         "zerolinecolor": "#E1E5ED"
        },
        "yaxis5": {
         "anchor": "x5",
         "domain": [
          0.535,
          0.7325
         ],
         "gridcolor": "#E1E5ED",
         "showgrid": false,
         "tickfont": {
          "color": "#4D5663"
         },
         "title": {
          "font": {
           "color": "#4D5663"
          },
          "text": ""
         },
         "zerolinecolor": "#E1E5ED"
        },
        "yaxis6": {
         "anchor": "x6",
         "domain": [
          0.535,
          0.7325
         ],
         "gridcolor": "#E1E5ED",
         "showgrid": false,
         "tickfont": {
          "color": "#4D5663"
         },
         "title": {
          "font": {
           "color": "#4D5663"
          },
          "text": ""
         },
         "zerolinecolor": "#E1E5ED"
        },
        "yaxis7": {
         "anchor": "x7",
         "domain": [
          0.535,
          0.7325
         ],
         "gridcolor": "#E1E5ED",
         "showgrid": false,
         "tickfont": {
          "color": "#4D5663"
         },
         "title": {
          "font": {
           "color": "#4D5663"
          },
          "text": ""
         },
         "zerolinecolor": "#E1E5ED"
        },
        "yaxis8": {
         "anchor": "x8",
         "domain": [
          0.535,
          0.7325
         ],
         "gridcolor": "#E1E5ED",
         "showgrid": false,
         "tickfont": {
          "color": "#4D5663"
         },
         "title": {
          "font": {
           "color": "#4D5663"
          },
          "text": ""
         },
         "zerolinecolor": "#E1E5ED"
        },
        "yaxis9": {
         "anchor": "x9",
         "domain": [
          0.2675,
          0.465
         ],
         "gridcolor": "#E1E5ED",
         "showgrid": false,
         "tickfont": {
          "color": "#4D5663"
         },
         "title": {
          "font": {
           "color": "#4D5663"
          },
          "text": ""
         },
         "zerolinecolor": "#E1E5ED"
        }
       }
      },
      "text/html": [
       "<div>\n",
       "        \n",
       "        \n",
       "            <div id=\"ce8348f1-2e49-4b81-8ab0-bc1f5203c0f6\" class=\"plotly-graph-div\" style=\"height:525px; width:100%;\"></div>\n",
       "            <script type=\"text/javascript\">\n",
       "                require([\"plotly\"], function(Plotly) {\n",
       "                    window.PLOTLYENV=window.PLOTLYENV || {};\n",
       "                    window.PLOTLYENV.BASE_URL='https://plot.ly';\n",
       "                    \n",
       "                if (document.getElementById(\"ce8348f1-2e49-4b81-8ab0-bc1f5203c0f6\")) {\n",
       "                    Plotly.newPlot(\n",
       "                        'ce8348f1-2e49-4b81-8ab0-bc1f5203c0f6',\n",
       "                        [{\"histfunc\": \"count\", \"histnorm\": \"\", \"marker\": {\"color\": \"rgba(255, 153, 51, 1.0)\", \"line\": {\"color\": \"#4D5663\", \"width\": 1.3}}, \"name\": \"A\", \"nbinsx\": 10, \"opacity\": 0.8, \"orientation\": \"v\", \"type\": \"histogram\", \"x\": [1.204374223794343, -0.36906833924077637, -0.8122413394730359, 1.3997697154739082, -1.060788107444831, 0.5515735422646244, 0.14061940746164717, 0.16983560391476102, -0.5570859045323824, 1.401481283250656, -0.22735734650862433, -0.2708226895595077, -0.061950652045331865, -0.23938387027733657, 1.108929431106888, 1.5885217800040747, -0.23559972372649096, -0.8063452712749882, 0.13813159002450978, -0.6380738291099499, -1.3331534209046985, -0.1297105180803108, -0.10188136335052575, -0.30361318214471156, 0.16497636748164915, 2.183144065787738, -0.7843797606187034, -0.7395470414853026, -0.527746573443475, 1.1734247890807368, -0.4277744368396613, 1.586083786095986, -0.5946807669553307, 1.1091000750587032, -2.2431426226953897, 1.0511348504249087, -1.7084854938366552, 0.3848496070527757, 0.02319587782161051, -1.5614243800488814, -0.49612500584776853, 0.36651695375891874, -1.9325653893667134, -0.009736954747299615, 0.5770681622022307, -1.798736202311587, -1.4731317977982321, 0.9207786842892908, -1.4109451145958787, 1.474614654368594, -1.151126450220308, 1.0959490386459758, 0.7132001708734125, 1.5389324759551382, -0.3437764307427175, -0.1398678689458212, -0.5692961334275359, -0.3876239117207527, 2.1646360720109534, -0.8575609675505435, -0.12246755380214738, -0.35793397267560856, 0.6760702797677335, 0.6859757866029638, 1.2172949175056056, 3.0190435916527885, -0.49318883868647506, -1.4621624134879483, -0.018015512803250384, 1.0663682852882106, 0.6097999035722868, 0.8061363870535981, -0.9775765064326202, 1.9186469222357772, -1.3863509250475359, -1.729431686804565, -0.18184271399933602, -0.18613439383574115, 0.5857466322063433, -0.34237696433466347, 0.3571290493876967, 0.006789251745769943, -3.2125921573829657, -0.5584989724527796, -0.3753882921486149, 0.4722926040135994, -2.363150670854163, -0.6542164839532234, 0.032211397087431724, -1.138463704994325, 0.16231793129177194, 0.4166899662658287, -0.18051501338281437, -0.15668668070654856, 0.0848144483366338, 0.6315939404556832, 0.49811604910354135, 0.9187915032050765, -0.45235784878744706, -0.18836177542466803], \"xaxis\": \"x\", \"yaxis\": \"y\"}, {\"line\": {\"color\": \"rgba(128, 128, 128, 1.0)\", \"dash\": \"solid\", \"shape\": \"linear\", \"width\": 1.3}, \"marker\": {\"size\": 2, \"symbol\": \"circle\"}, \"mode\": \"markers\", \"name\": \"A\", \"text\": \"\", \"type\": \"scatter\", \"x\": [0.28883879264521045, -0.9696091384577731, 0.3240029375457199, -2.0275223864420986, 0.14726848424825328, 0.678991256631577, 0.8082635732754649, -1.7856463481517608, -1.104842817878926, -0.46027812161661064, -2.1537687431575328, 0.15945482476116415, -1.3018992475704751, 0.6025453549513595, 0.2587350592374064, 0.8027749160485882, 0.35454868506569975, -0.4552450279185263, -0.8120909393883892, -0.4444774282124728, 0.36142121866382554, 1.0066457905843325, 2.1146963668436967, 0.3867859557004427, 0.30976253103714385, 0.25304790269208116, -0.4853018821573321, -0.4266472311732564, 1.0574834426305726, 0.0727828918106895, 0.6387061611541429, 0.35282443058578244, 1.2613356031803376, 1.9112868409358335, 0.35270908010673824, 0.33830107746460486, 0.9661583398721716, 0.7409660674911244, -1.0132490082439065, 1.1381430753784794, 0.06956837769113201, -0.025060573913217636, 0.5601028658725632, 1.1067653704904703, 0.5381067202924643, -0.7979118583312437, 0.6334157782864624, -0.5266080026725684, 0.4833853733012127, -0.38299530376008994, -0.4357980040855327, -0.37062045661239246, -1.3414385587779716, -0.36590910152001693, -0.7034440798878234, -1.3876156954916887, -1.0926499669857581, 0.5638637016453981, -0.3829013772219426, 1.9157532042187086, 0.761887728347791, 0.8146029084065223, 0.8231475450342212, 0.04436894811492774, -1.0635463927921698, -0.07945247508080461, 1.882926346755678, -0.20579958146507463, 0.4168470364341955, 0.36946234527703425, 1.022023039989263, -2.199761127185428, 0.09350752683525511, 0.050408117632942985, 2.190592367226769, -0.23747751471779366, 1.0478758815724036, -0.4337413657219337, 0.20492756400731685, 2.3831221699587988, -0.6802126826044421, 0.9545186757613414, -1.559532703638838, -0.2702728387868071, 0.2237820300585606, -0.18639837634820103, -0.47969720470485616, 0.44948289758789267, -0.3239630401170654, 0.12299224412986517, -0.2955225352765806, -0.06693027092072842, -0.3667350661835663, -1.1643883307876375, 0.8995409226274617, -1.0630968020526121, -2.25782917678505, 0.17250522033490703, -2.0771412668361102, -1.498269212529484], \"xaxis\": \"x2\", \"y\": [1.204374223794343, -0.36906833924077637, -0.8122413394730359, 1.3997697154739082, -1.060788107444831, 0.5515735422646244, 0.14061940746164717, 0.16983560391476102, -0.5570859045323824, 1.401481283250656, -0.22735734650862433, -0.2708226895595077, -0.061950652045331865, -0.23938387027733657, 1.108929431106888, 1.5885217800040747, -0.23559972372649096, -0.8063452712749882, 0.13813159002450978, -0.6380738291099499, -1.3331534209046985, -0.1297105180803108, -0.10188136335052575, -0.30361318214471156, 0.16497636748164915, 2.183144065787738, -0.7843797606187034, -0.7395470414853026, -0.527746573443475, 1.1734247890807368, -0.4277744368396613, 1.586083786095986, -0.5946807669553307, 1.1091000750587032, -2.2431426226953897, 1.0511348504249087, -1.7084854938366552, 0.3848496070527757, 0.02319587782161051, -1.5614243800488814, -0.49612500584776853, 0.36651695375891874, -1.9325653893667134, -0.009736954747299615, 0.5770681622022307, -1.798736202311587, -1.4731317977982321, 0.9207786842892908, -1.4109451145958787, 1.474614654368594, -1.151126450220308, 1.0959490386459758, 0.7132001708734125, 1.5389324759551382, -0.3437764307427175, -0.1398678689458212, -0.5692961334275359, -0.3876239117207527, 2.1646360720109534, -0.8575609675505435, -0.12246755380214738, -0.35793397267560856, 0.6760702797677335, 0.6859757866029638, 1.2172949175056056, 3.0190435916527885, -0.49318883868647506, -1.4621624134879483, -0.018015512803250384, 1.0663682852882106, 0.6097999035722868, 0.8061363870535981, -0.9775765064326202, 1.9186469222357772, -1.3863509250475359, -1.729431686804565, -0.18184271399933602, -0.18613439383574115, 0.5857466322063433, -0.34237696433466347, 0.3571290493876967, 0.006789251745769943, -3.2125921573829657, -0.5584989724527796, -0.3753882921486149, 0.4722926040135994, -2.363150670854163, -0.6542164839532234, 0.032211397087431724, -1.138463704994325, 0.16231793129177194, 0.4166899662658287, -0.18051501338281437, -0.15668668070654856, 0.0848144483366338, 0.6315939404556832, 0.49811604910354135, 0.9187915032050765, -0.45235784878744706, -0.18836177542466803], \"yaxis\": \"y2\"}, {\"line\": {\"color\": \"rgba(128, 128, 128, 1.0)\", \"dash\": \"solid\", \"shape\": \"linear\", \"width\": 1.3}, \"marker\": {\"size\": 2, \"symbol\": \"circle\"}, \"mode\": \"markers\", \"name\": \"A\", \"text\": \"\", \"type\": \"scatter\", \"x\": [0.9343696833686856, 0.6173183922345006, -1.0639285999296693, -0.33859612376905984, 0.506690249511028, 0.2957480725083949, 0.5263886133671345, -0.32276366714443333, -0.01792066674395618, -1.775083329657011, -1.4437741093187602, 0.07329908144639716, 1.202571194374941, 0.5168437647049239, -0.09882521510224906, 1.2444214483260527, 0.4917821790620534, 0.1965902827913307, 0.16855948625243314, 1.108497197968096, -0.5675585086297141, -0.3095257147273207, -0.7102455459926497, 1.1671495944265564, -0.5284595837443142, 1.7243424357402708, -0.16867574245345937, -0.7529943369078369, 1.4714561614880592, -0.3156054085787056, 1.6318798368170893, -1.1814339345772011, 1.0176216826497526, 1.2215659458124433, 0.5550009695494434, 1.2051994421401777, 0.12738565982693809, -0.349202693458132, -1.2226864380171725, 1.0622710558752908, -1.4610410655094517, -1.5352515493002508, -0.6112654698490414, -1.6006436768837422, -1.2126704936089923, 1.51414712452721, -0.05326645847836819, 0.5720140651740735, 0.30677221656661624, -0.8515412861948122, -0.2175631127524753, -0.6866800691236976, -0.2718610220028386, -0.4286993360378733, -0.008244722026312986, -1.134459704124308, 0.6839925305569563, -0.9037393141619001, 0.8946253754874015, -0.9563364923279836, -1.8017716095525207, 1.5529278139958989, 0.5585114201282104, 1.1081748287221973, 0.5786445092709741, 0.012575418742362943, 0.31251853048904665, 0.668992790804777, -0.9357642050522706, -1.7502352908475747, -1.1891899470303575, 1.3039873876743129, -0.9290778024734753, 1.5949617014816626, 1.317263804134899, -0.7393457254093768, -0.2836412501033554, 0.39500577301382556, -0.19878243420856143, -0.015156971804573429, -1.0233128562001466, -0.9044467815425445, 1.130533978735926, 0.6647964258955746, 1.3161641115644949, 1.5555717667850633, 0.09260698431106808, 1.364533716086213, -1.2169224255756232, -0.703560958600298, -0.5226056338222739, -1.4403106413817668, -0.5082752114604108, -0.45246678819824143, -0.8994474129369322, -0.8038036119855998, -1.6685950229652726, 0.32678600253398316, 0.5581877526293396, 1.252591507712197], \"xaxis\": \"x3\", \"y\": [1.204374223794343, -0.36906833924077637, -0.8122413394730359, 1.3997697154739082, -1.060788107444831, 0.5515735422646244, 0.14061940746164717, 0.16983560391476102, -0.5570859045323824, 1.401481283250656, -0.22735734650862433, -0.2708226895595077, -0.061950652045331865, -0.23938387027733657, 1.108929431106888, 1.5885217800040747, -0.23559972372649096, -0.8063452712749882, 0.13813159002450978, -0.6380738291099499, -1.3331534209046985, -0.1297105180803108, -0.10188136335052575, -0.30361318214471156, 0.16497636748164915, 2.183144065787738, -0.7843797606187034, -0.7395470414853026, -0.527746573443475, 1.1734247890807368, -0.4277744368396613, 1.586083786095986, -0.5946807669553307, 1.1091000750587032, -2.2431426226953897, 1.0511348504249087, -1.7084854938366552, 0.3848496070527757, 0.02319587782161051, -1.5614243800488814, -0.49612500584776853, 0.36651695375891874, -1.9325653893667134, -0.009736954747299615, 0.5770681622022307, -1.798736202311587, -1.4731317977982321, 0.9207786842892908, -1.4109451145958787, 1.474614654368594, -1.151126450220308, 1.0959490386459758, 0.7132001708734125, 1.5389324759551382, -0.3437764307427175, -0.1398678689458212, -0.5692961334275359, -0.3876239117207527, 2.1646360720109534, -0.8575609675505435, -0.12246755380214738, -0.35793397267560856, 0.6760702797677335, 0.6859757866029638, 1.2172949175056056, 3.0190435916527885, -0.49318883868647506, -1.4621624134879483, -0.018015512803250384, 1.0663682852882106, 0.6097999035722868, 0.8061363870535981, -0.9775765064326202, 1.9186469222357772, -1.3863509250475359, -1.729431686804565, -0.18184271399933602, -0.18613439383574115, 0.5857466322063433, -0.34237696433466347, 0.3571290493876967, 0.006789251745769943, -3.2125921573829657, -0.5584989724527796, -0.3753882921486149, 0.4722926040135994, -2.363150670854163, -0.6542164839532234, 0.032211397087431724, -1.138463704994325, 0.16231793129177194, 0.4166899662658287, -0.18051501338281437, -0.15668668070654856, 0.0848144483366338, 0.6315939404556832, 0.49811604910354135, 0.9187915032050765, -0.45235784878744706, -0.18836177542466803], \"yaxis\": \"y3\"}, {\"line\": {\"color\": \"rgba(128, 128, 128, 1.0)\", \"dash\": \"solid\", \"shape\": \"linear\", \"width\": 1.3}, \"marker\": {\"size\": 2, \"symbol\": \"circle\"}, \"mode\": \"markers\", \"name\": \"A\", \"text\": \"\", \"type\": \"scatter\", \"x\": [-0.8058842627615331, 0.9797082212953491, 0.6379635383022297, 1.4548329154127562, -2.335484400509173, -0.6623770650682406, 0.7535702956405469, -0.6236079353039102, 1.5863547334142853, 0.5501662700248987, 0.5544553984982873, -0.8026437001666429, -1.3410112046609501, -0.15432536507994782, 0.5869254121772779, 2.1862014691579392, -0.8596447818377434, 0.22903537802967597, -1.9527835306690624, -0.7106466834944147, 0.9879654019609568, 0.43989617483472826, 0.8879983605688165, 0.30101447395780634, -1.1269830174872864, 1.637713689364425, 2.19484065473828, 2.1351243435618557, 0.7410418985039773, 0.10250422142114304, 1.0147707958155245, 1.293569209435536, -0.30913414653112375, 0.9485462047058678, 0.8621835590849038, 0.30367158443875586, 1.553251492944668, -1.0866663386699786, -0.738456098631491, -1.2677923318105067, -1.5255450657829206, 0.5806873056280587, -1.2980488960785543, 1.2749609068257286, 0.44492001246999946, -0.9179560951815965, 0.7796482114958154, -1.6263294936914727, 0.5701756325323951, 0.5616757646494824, 2.0692782403749996, -0.6998366536532751, 1.7451322151939659, -0.41932548798157826, 0.12205020250823236, 0.5315818152632557, 0.5427953889005159, 0.4439151325921603, -0.9341713046286217, 0.178731397553212, -2.0905963494997692, 0.6628433514890515, -1.0717854744470323, 0.6395126809145872, -0.5506483770131305, -0.13274463767961525, -1.1915154310340677, -2.0013163307379864, 0.303189753519302, -0.9738683344814172, 0.2200647357558618, 0.5528113656617654, 0.03798789279734366, -0.033497342180987676, 0.6561751895549323, -1.296629861664313, -0.9939882703168663, -2.4811780037000126, 0.5163737334382271, -0.8509505825124314, 0.18521698690709562, 0.400969571594376, 0.09284692825371736, 0.6662143145592785, 0.38045010667313794, -0.6764269749617707, -1.9590494783739336, 0.0702745069971556, -0.9868397186829913, 0.48576342854090954, 0.9649650807272201, 0.018040177384070485, 0.37114273233268846, 1.8869512978114056, 1.333566572763461, 2.177844651149719, -1.4653390081808297, -1.5728963693526394, -0.1622957734581275, -0.7038966086121956], \"xaxis\": \"x4\", \"y\": [1.204374223794343, -0.36906833924077637, -0.8122413394730359, 1.3997697154739082, -1.060788107444831, 0.5515735422646244, 0.14061940746164717, 0.16983560391476102, -0.5570859045323824, 1.401481283250656, -0.22735734650862433, -0.2708226895595077, -0.061950652045331865, -0.23938387027733657, 1.108929431106888, 1.5885217800040747, -0.23559972372649096, -0.8063452712749882, 0.13813159002450978, -0.6380738291099499, -1.3331534209046985, -0.1297105180803108, -0.10188136335052575, -0.30361318214471156, 0.16497636748164915, 2.183144065787738, -0.7843797606187034, -0.7395470414853026, -0.527746573443475, 1.1734247890807368, -0.4277744368396613, 1.586083786095986, -0.5946807669553307, 1.1091000750587032, -2.2431426226953897, 1.0511348504249087, -1.7084854938366552, 0.3848496070527757, 0.02319587782161051, -1.5614243800488814, -0.49612500584776853, 0.36651695375891874, -1.9325653893667134, -0.009736954747299615, 0.5770681622022307, -1.798736202311587, -1.4731317977982321, 0.9207786842892908, -1.4109451145958787, 1.474614654368594, -1.151126450220308, 1.0959490386459758, 0.7132001708734125, 1.5389324759551382, -0.3437764307427175, -0.1398678689458212, -0.5692961334275359, -0.3876239117207527, 2.1646360720109534, -0.8575609675505435, -0.12246755380214738, -0.35793397267560856, 0.6760702797677335, 0.6859757866029638, 1.2172949175056056, 3.0190435916527885, -0.49318883868647506, -1.4621624134879483, -0.018015512803250384, 1.0663682852882106, 0.6097999035722868, 0.8061363870535981, -0.9775765064326202, 1.9186469222357772, -1.3863509250475359, -1.729431686804565, -0.18184271399933602, -0.18613439383574115, 0.5857466322063433, -0.34237696433466347, 0.3571290493876967, 0.006789251745769943, -3.2125921573829657, -0.5584989724527796, -0.3753882921486149, 0.4722926040135994, -2.363150670854163, -0.6542164839532234, 0.032211397087431724, -1.138463704994325, 0.16231793129177194, 0.4166899662658287, -0.18051501338281437, -0.15668668070654856, 0.0848144483366338, 0.6315939404556832, 0.49811604910354135, 0.9187915032050765, -0.45235784878744706, -0.18836177542466803], \"yaxis\": \"y4\"}, {\"line\": {\"color\": \"rgba(128, 128, 128, 1.0)\", \"dash\": \"solid\", \"shape\": \"linear\", \"width\": 1.3}, \"marker\": {\"size\": 2, \"symbol\": \"circle\"}, \"mode\": \"markers\", \"name\": \"B\", \"text\": \"\", \"type\": \"scatter\", \"x\": [1.204374223794343, -0.36906833924077637, -0.8122413394730359, 1.3997697154739082, -1.060788107444831, 0.5515735422646244, 0.14061940746164717, 0.16983560391476102, -0.5570859045323824, 1.401481283250656, -0.22735734650862433, -0.2708226895595077, -0.061950652045331865, -0.23938387027733657, 1.108929431106888, 1.5885217800040747, -0.23559972372649096, -0.8063452712749882, 0.13813159002450978, -0.6380738291099499, -1.3331534209046985, -0.1297105180803108, -0.10188136335052575, -0.30361318214471156, 0.16497636748164915, 2.183144065787738, -0.7843797606187034, -0.7395470414853026, -0.527746573443475, 1.1734247890807368, -0.4277744368396613, 1.586083786095986, -0.5946807669553307, 1.1091000750587032, -2.2431426226953897, 1.0511348504249087, -1.7084854938366552, 0.3848496070527757, 0.02319587782161051, -1.5614243800488814, -0.49612500584776853, 0.36651695375891874, -1.9325653893667134, -0.009736954747299615, 0.5770681622022307, -1.798736202311587, -1.4731317977982321, 0.9207786842892908, -1.4109451145958787, 1.474614654368594, -1.151126450220308, 1.0959490386459758, 0.7132001708734125, 1.5389324759551382, -0.3437764307427175, -0.1398678689458212, -0.5692961334275359, -0.3876239117207527, 2.1646360720109534, -0.8575609675505435, -0.12246755380214738, -0.35793397267560856, 0.6760702797677335, 0.6859757866029638, 1.2172949175056056, 3.0190435916527885, -0.49318883868647506, -1.4621624134879483, -0.018015512803250384, 1.0663682852882106, 0.6097999035722868, 0.8061363870535981, -0.9775765064326202, 1.9186469222357772, -1.3863509250475359, -1.729431686804565, -0.18184271399933602, -0.18613439383574115, 0.5857466322063433, -0.34237696433466347, 0.3571290493876967, 0.006789251745769943, -3.2125921573829657, -0.5584989724527796, -0.3753882921486149, 0.4722926040135994, -2.363150670854163, -0.6542164839532234, 0.032211397087431724, -1.138463704994325, 0.16231793129177194, 0.4166899662658287, -0.18051501338281437, -0.15668668070654856, 0.0848144483366338, 0.6315939404556832, 0.49811604910354135, 0.9187915032050765, -0.45235784878744706, -0.18836177542466803], \"xaxis\": \"x5\", \"y\": [0.28883879264521045, -0.9696091384577731, 0.3240029375457199, -2.0275223864420986, 0.14726848424825328, 0.678991256631577, 0.8082635732754649, -1.7856463481517608, -1.104842817878926, -0.46027812161661064, -2.1537687431575328, 0.15945482476116415, -1.3018992475704751, 0.6025453549513595, 0.2587350592374064, 0.8027749160485882, 0.35454868506569975, -0.4552450279185263, -0.8120909393883892, -0.4444774282124728, 0.36142121866382554, 1.0066457905843325, 2.1146963668436967, 0.3867859557004427, 0.30976253103714385, 0.25304790269208116, -0.4853018821573321, -0.4266472311732564, 1.0574834426305726, 0.0727828918106895, 0.6387061611541429, 0.35282443058578244, 1.2613356031803376, 1.9112868409358335, 0.35270908010673824, 0.33830107746460486, 0.9661583398721716, 0.7409660674911244, -1.0132490082439065, 1.1381430753784794, 0.06956837769113201, -0.025060573913217636, 0.5601028658725632, 1.1067653704904703, 0.5381067202924643, -0.7979118583312437, 0.6334157782864624, -0.5266080026725684, 0.4833853733012127, -0.38299530376008994, -0.4357980040855327, -0.37062045661239246, -1.3414385587779716, -0.36590910152001693, -0.7034440798878234, -1.3876156954916887, -1.0926499669857581, 0.5638637016453981, -0.3829013772219426, 1.9157532042187086, 0.761887728347791, 0.8146029084065223, 0.8231475450342212, 0.04436894811492774, -1.0635463927921698, -0.07945247508080461, 1.882926346755678, -0.20579958146507463, 0.4168470364341955, 0.36946234527703425, 1.022023039989263, -2.199761127185428, 0.09350752683525511, 0.050408117632942985, 2.190592367226769, -0.23747751471779366, 1.0478758815724036, -0.4337413657219337, 0.20492756400731685, 2.3831221699587988, -0.6802126826044421, 0.9545186757613414, -1.559532703638838, -0.2702728387868071, 0.2237820300585606, -0.18639837634820103, -0.47969720470485616, 0.44948289758789267, -0.3239630401170654, 0.12299224412986517, -0.2955225352765806, -0.06693027092072842, -0.3667350661835663, -1.1643883307876375, 0.8995409226274617, -1.0630968020526121, -2.25782917678505, 0.17250522033490703, -2.0771412668361102, -1.498269212529484], \"yaxis\": \"y5\"}, {\"histfunc\": \"count\", \"histnorm\": \"\", \"marker\": {\"color\": \"rgba(55, 128, 191, 1.0)\", \"line\": {\"color\": \"#4D5663\", \"width\": 1.3}}, \"name\": \"B\", \"nbinsx\": 10, \"opacity\": 0.8, \"orientation\": \"v\", \"type\": \"histogram\", \"x\": [0.28883879264521045, -0.9696091384577731, 0.3240029375457199, -2.0275223864420986, 0.14726848424825328, 0.678991256631577, 0.8082635732754649, -1.7856463481517608, -1.104842817878926, -0.46027812161661064, -2.1537687431575328, 0.15945482476116415, -1.3018992475704751, 0.6025453549513595, 0.2587350592374064, 0.8027749160485882, 0.35454868506569975, -0.4552450279185263, -0.8120909393883892, -0.4444774282124728, 0.36142121866382554, 1.0066457905843325, 2.1146963668436967, 0.3867859557004427, 0.30976253103714385, 0.25304790269208116, -0.4853018821573321, -0.4266472311732564, 1.0574834426305726, 0.0727828918106895, 0.6387061611541429, 0.35282443058578244, 1.2613356031803376, 1.9112868409358335, 0.35270908010673824, 0.33830107746460486, 0.9661583398721716, 0.7409660674911244, -1.0132490082439065, 1.1381430753784794, 0.06956837769113201, -0.025060573913217636, 0.5601028658725632, 1.1067653704904703, 0.5381067202924643, -0.7979118583312437, 0.6334157782864624, -0.5266080026725684, 0.4833853733012127, -0.38299530376008994, -0.4357980040855327, -0.37062045661239246, -1.3414385587779716, -0.36590910152001693, -0.7034440798878234, -1.3876156954916887, -1.0926499669857581, 0.5638637016453981, -0.3829013772219426, 1.9157532042187086, 0.761887728347791, 0.8146029084065223, 0.8231475450342212, 0.04436894811492774, -1.0635463927921698, -0.07945247508080461, 1.882926346755678, -0.20579958146507463, 0.4168470364341955, 0.36946234527703425, 1.022023039989263, -2.199761127185428, 0.09350752683525511, 0.050408117632942985, 2.190592367226769, -0.23747751471779366, 1.0478758815724036, -0.4337413657219337, 0.20492756400731685, 2.3831221699587988, -0.6802126826044421, 0.9545186757613414, -1.559532703638838, -0.2702728387868071, 0.2237820300585606, -0.18639837634820103, -0.47969720470485616, 0.44948289758789267, -0.3239630401170654, 0.12299224412986517, -0.2955225352765806, -0.06693027092072842, -0.3667350661835663, -1.1643883307876375, 0.8995409226274617, -1.0630968020526121, -2.25782917678505, 0.17250522033490703, -2.0771412668361102, -1.498269212529484], \"xaxis\": \"x6\", \"yaxis\": \"y6\"}, {\"line\": {\"color\": \"rgba(128, 128, 128, 1.0)\", \"dash\": \"solid\", \"shape\": \"linear\", \"width\": 1.3}, \"marker\": {\"size\": 2, \"symbol\": \"circle\"}, \"mode\": \"markers\", \"name\": \"B\", \"text\": \"\", \"type\": \"scatter\", \"x\": [0.9343696833686856, 0.6173183922345006, -1.0639285999296693, -0.33859612376905984, 0.506690249511028, 0.2957480725083949, 0.5263886133671345, -0.32276366714443333, -0.01792066674395618, -1.775083329657011, -1.4437741093187602, 0.07329908144639716, 1.202571194374941, 0.5168437647049239, -0.09882521510224906, 1.2444214483260527, 0.4917821790620534, 0.1965902827913307, 0.16855948625243314, 1.108497197968096, -0.5675585086297141, -0.3095257147273207, -0.7102455459926497, 1.1671495944265564, -0.5284595837443142, 1.7243424357402708, -0.16867574245345937, -0.7529943369078369, 1.4714561614880592, -0.3156054085787056, 1.6318798368170893, -1.1814339345772011, 1.0176216826497526, 1.2215659458124433, 0.5550009695494434, 1.2051994421401777, 0.12738565982693809, -0.349202693458132, -1.2226864380171725, 1.0622710558752908, -1.4610410655094517, -1.5352515493002508, -0.6112654698490414, -1.6006436768837422, -1.2126704936089923, 1.51414712452721, -0.05326645847836819, 0.5720140651740735, 0.30677221656661624, -0.8515412861948122, -0.2175631127524753, -0.6866800691236976, -0.2718610220028386, -0.4286993360378733, -0.008244722026312986, -1.134459704124308, 0.6839925305569563, -0.9037393141619001, 0.8946253754874015, -0.9563364923279836, -1.8017716095525207, 1.5529278139958989, 0.5585114201282104, 1.1081748287221973, 0.5786445092709741, 0.012575418742362943, 0.31251853048904665, 0.668992790804777, -0.9357642050522706, -1.7502352908475747, -1.1891899470303575, 1.3039873876743129, -0.9290778024734753, 1.5949617014816626, 1.317263804134899, -0.7393457254093768, -0.2836412501033554, 0.39500577301382556, -0.19878243420856143, -0.015156971804573429, -1.0233128562001466, -0.9044467815425445, 1.130533978735926, 0.6647964258955746, 1.3161641115644949, 1.5555717667850633, 0.09260698431106808, 1.364533716086213, -1.2169224255756232, -0.703560958600298, -0.5226056338222739, -1.4403106413817668, -0.5082752114604108, -0.45246678819824143, -0.8994474129369322, -0.8038036119855998, -1.6685950229652726, 0.32678600253398316, 0.5581877526293396, 1.252591507712197], \"xaxis\": \"x7\", \"y\": [0.28883879264521045, -0.9696091384577731, 0.3240029375457199, -2.0275223864420986, 0.14726848424825328, 0.678991256631577, 0.8082635732754649, -1.7856463481517608, -1.104842817878926, -0.46027812161661064, -2.1537687431575328, 0.15945482476116415, -1.3018992475704751, 0.6025453549513595, 0.2587350592374064, 0.8027749160485882, 0.35454868506569975, -0.4552450279185263, -0.8120909393883892, -0.4444774282124728, 0.36142121866382554, 1.0066457905843325, 2.1146963668436967, 0.3867859557004427, 0.30976253103714385, 0.25304790269208116, -0.4853018821573321, -0.4266472311732564, 1.0574834426305726, 0.0727828918106895, 0.6387061611541429, 0.35282443058578244, 1.2613356031803376, 1.9112868409358335, 0.35270908010673824, 0.33830107746460486, 0.9661583398721716, 0.7409660674911244, -1.0132490082439065, 1.1381430753784794, 0.06956837769113201, -0.025060573913217636, 0.5601028658725632, 1.1067653704904703, 0.5381067202924643, -0.7979118583312437, 0.6334157782864624, -0.5266080026725684, 0.4833853733012127, -0.38299530376008994, -0.4357980040855327, -0.37062045661239246, -1.3414385587779716, -0.36590910152001693, -0.7034440798878234, -1.3876156954916887, -1.0926499669857581, 0.5638637016453981, -0.3829013772219426, 1.9157532042187086, 0.761887728347791, 0.8146029084065223, 0.8231475450342212, 0.04436894811492774, -1.0635463927921698, -0.07945247508080461, 1.882926346755678, -0.20579958146507463, 0.4168470364341955, 0.36946234527703425, 1.022023039989263, -2.199761127185428, 0.09350752683525511, 0.050408117632942985, 2.190592367226769, -0.23747751471779366, 1.0478758815724036, -0.4337413657219337, 0.20492756400731685, 2.3831221699587988, -0.6802126826044421, 0.9545186757613414, -1.559532703638838, -0.2702728387868071, 0.2237820300585606, -0.18639837634820103, -0.47969720470485616, 0.44948289758789267, -0.3239630401170654, 0.12299224412986517, -0.2955225352765806, -0.06693027092072842, -0.3667350661835663, -1.1643883307876375, 0.8995409226274617, -1.0630968020526121, -2.25782917678505, 0.17250522033490703, -2.0771412668361102, -1.498269212529484], \"yaxis\": \"y7\"}, {\"line\": {\"color\": \"rgba(128, 128, 128, 1.0)\", \"dash\": \"solid\", \"shape\": \"linear\", \"width\": 1.3}, \"marker\": {\"size\": 2, \"symbol\": \"circle\"}, \"mode\": \"markers\", \"name\": \"B\", \"text\": \"\", \"type\": \"scatter\", \"x\": [-0.8058842627615331, 0.9797082212953491, 0.6379635383022297, 1.4548329154127562, -2.335484400509173, -0.6623770650682406, 0.7535702956405469, -0.6236079353039102, 1.5863547334142853, 0.5501662700248987, 0.5544553984982873, -0.8026437001666429, -1.3410112046609501, -0.15432536507994782, 0.5869254121772779, 2.1862014691579392, -0.8596447818377434, 0.22903537802967597, -1.9527835306690624, -0.7106466834944147, 0.9879654019609568, 0.43989617483472826, 0.8879983605688165, 0.30101447395780634, -1.1269830174872864, 1.637713689364425, 2.19484065473828, 2.1351243435618557, 0.7410418985039773, 0.10250422142114304, 1.0147707958155245, 1.293569209435536, -0.30913414653112375, 0.9485462047058678, 0.8621835590849038, 0.30367158443875586, 1.553251492944668, -1.0866663386699786, -0.738456098631491, -1.2677923318105067, -1.5255450657829206, 0.5806873056280587, -1.2980488960785543, 1.2749609068257286, 0.44492001246999946, -0.9179560951815965, 0.7796482114958154, -1.6263294936914727, 0.5701756325323951, 0.5616757646494824, 2.0692782403749996, -0.6998366536532751, 1.7451322151939659, -0.41932548798157826, 0.12205020250823236, 0.5315818152632557, 0.5427953889005159, 0.4439151325921603, -0.9341713046286217, 0.178731397553212, -2.0905963494997692, 0.6628433514890515, -1.0717854744470323, 0.6395126809145872, -0.5506483770131305, -0.13274463767961525, -1.1915154310340677, -2.0013163307379864, 0.303189753519302, -0.9738683344814172, 0.2200647357558618, 0.5528113656617654, 0.03798789279734366, -0.033497342180987676, 0.6561751895549323, -1.296629861664313, -0.9939882703168663, -2.4811780037000126, 0.5163737334382271, -0.8509505825124314, 0.18521698690709562, 0.400969571594376, 0.09284692825371736, 0.6662143145592785, 0.38045010667313794, -0.6764269749617707, -1.9590494783739336, 0.0702745069971556, -0.9868397186829913, 0.48576342854090954, 0.9649650807272201, 0.018040177384070485, 0.37114273233268846, 1.8869512978114056, 1.333566572763461, 2.177844651149719, -1.4653390081808297, -1.5728963693526394, -0.1622957734581275, -0.7038966086121956], \"xaxis\": \"x8\", \"y\": [0.28883879264521045, -0.9696091384577731, 0.3240029375457199, -2.0275223864420986, 0.14726848424825328, 0.678991256631577, 0.8082635732754649, -1.7856463481517608, -1.104842817878926, -0.46027812161661064, -2.1537687431575328, 0.15945482476116415, -1.3018992475704751, 0.6025453549513595, 0.2587350592374064, 0.8027749160485882, 0.35454868506569975, -0.4552450279185263, -0.8120909393883892, -0.4444774282124728, 0.36142121866382554, 1.0066457905843325, 2.1146963668436967, 0.3867859557004427, 0.30976253103714385, 0.25304790269208116, -0.4853018821573321, -0.4266472311732564, 1.0574834426305726, 0.0727828918106895, 0.6387061611541429, 0.35282443058578244, 1.2613356031803376, 1.9112868409358335, 0.35270908010673824, 0.33830107746460486, 0.9661583398721716, 0.7409660674911244, -1.0132490082439065, 1.1381430753784794, 0.06956837769113201, -0.025060573913217636, 0.5601028658725632, 1.1067653704904703, 0.5381067202924643, -0.7979118583312437, 0.6334157782864624, -0.5266080026725684, 0.4833853733012127, -0.38299530376008994, -0.4357980040855327, -0.37062045661239246, -1.3414385587779716, -0.36590910152001693, -0.7034440798878234, -1.3876156954916887, -1.0926499669857581, 0.5638637016453981, -0.3829013772219426, 1.9157532042187086, 0.761887728347791, 0.8146029084065223, 0.8231475450342212, 0.04436894811492774, -1.0635463927921698, -0.07945247508080461, 1.882926346755678, -0.20579958146507463, 0.4168470364341955, 0.36946234527703425, 1.022023039989263, -2.199761127185428, 0.09350752683525511, 0.050408117632942985, 2.190592367226769, -0.23747751471779366, 1.0478758815724036, -0.4337413657219337, 0.20492756400731685, 2.3831221699587988, -0.6802126826044421, 0.9545186757613414, -1.559532703638838, -0.2702728387868071, 0.2237820300585606, -0.18639837634820103, -0.47969720470485616, 0.44948289758789267, -0.3239630401170654, 0.12299224412986517, -0.2955225352765806, -0.06693027092072842, -0.3667350661835663, -1.1643883307876375, 0.8995409226274617, -1.0630968020526121, -2.25782917678505, 0.17250522033490703, -2.0771412668361102, -1.498269212529484], \"yaxis\": \"y8\"}, {\"line\": {\"color\": \"rgba(128, 128, 128, 1.0)\", \"dash\": \"solid\", \"shape\": \"linear\", \"width\": 1.3}, \"marker\": {\"size\": 2, \"symbol\": \"circle\"}, \"mode\": \"markers\", \"name\": \"C\", \"text\": \"\", \"type\": \"scatter\", \"x\": [1.204374223794343, -0.36906833924077637, -0.8122413394730359, 1.3997697154739082, -1.060788107444831, 0.5515735422646244, 0.14061940746164717, 0.16983560391476102, -0.5570859045323824, 1.401481283250656, -0.22735734650862433, -0.2708226895595077, -0.061950652045331865, -0.23938387027733657, 1.108929431106888, 1.5885217800040747, -0.23559972372649096, -0.8063452712749882, 0.13813159002450978, -0.6380738291099499, -1.3331534209046985, -0.1297105180803108, -0.10188136335052575, -0.30361318214471156, 0.16497636748164915, 2.183144065787738, -0.7843797606187034, -0.7395470414853026, -0.527746573443475, 1.1734247890807368, -0.4277744368396613, 1.586083786095986, -0.5946807669553307, 1.1091000750587032, -2.2431426226953897, 1.0511348504249087, -1.7084854938366552, 0.3848496070527757, 0.02319587782161051, -1.5614243800488814, -0.49612500584776853, 0.36651695375891874, -1.9325653893667134, -0.009736954747299615, 0.5770681622022307, -1.798736202311587, -1.4731317977982321, 0.9207786842892908, -1.4109451145958787, 1.474614654368594, -1.151126450220308, 1.0959490386459758, 0.7132001708734125, 1.5389324759551382, -0.3437764307427175, -0.1398678689458212, -0.5692961334275359, -0.3876239117207527, 2.1646360720109534, -0.8575609675505435, -0.12246755380214738, -0.35793397267560856, 0.6760702797677335, 0.6859757866029638, 1.2172949175056056, 3.0190435916527885, -0.49318883868647506, -1.4621624134879483, -0.018015512803250384, 1.0663682852882106, 0.6097999035722868, 0.8061363870535981, -0.9775765064326202, 1.9186469222357772, -1.3863509250475359, -1.729431686804565, -0.18184271399933602, -0.18613439383574115, 0.5857466322063433, -0.34237696433466347, 0.3571290493876967, 0.006789251745769943, -3.2125921573829657, -0.5584989724527796, -0.3753882921486149, 0.4722926040135994, -2.363150670854163, -0.6542164839532234, 0.032211397087431724, -1.138463704994325, 0.16231793129177194, 0.4166899662658287, -0.18051501338281437, -0.15668668070654856, 0.0848144483366338, 0.6315939404556832, 0.49811604910354135, 0.9187915032050765, -0.45235784878744706, -0.18836177542466803], \"xaxis\": \"x9\", \"y\": [0.9343696833686856, 0.6173183922345006, -1.0639285999296693, -0.33859612376905984, 0.506690249511028, 0.2957480725083949, 0.5263886133671345, -0.32276366714443333, -0.01792066674395618, -1.775083329657011, -1.4437741093187602, 0.07329908144639716, 1.202571194374941, 0.5168437647049239, -0.09882521510224906, 1.2444214483260527, 0.4917821790620534, 0.1965902827913307, 0.16855948625243314, 1.108497197968096, -0.5675585086297141, -0.3095257147273207, -0.7102455459926497, 1.1671495944265564, -0.5284595837443142, 1.7243424357402708, -0.16867574245345937, -0.7529943369078369, 1.4714561614880592, -0.3156054085787056, 1.6318798368170893, -1.1814339345772011, 1.0176216826497526, 1.2215659458124433, 0.5550009695494434, 1.2051994421401777, 0.12738565982693809, -0.349202693458132, -1.2226864380171725, 1.0622710558752908, -1.4610410655094517, -1.5352515493002508, -0.6112654698490414, -1.6006436768837422, -1.2126704936089923, 1.51414712452721, -0.05326645847836819, 0.5720140651740735, 0.30677221656661624, -0.8515412861948122, -0.2175631127524753, -0.6866800691236976, -0.2718610220028386, -0.4286993360378733, -0.008244722026312986, -1.134459704124308, 0.6839925305569563, -0.9037393141619001, 0.8946253754874015, -0.9563364923279836, -1.8017716095525207, 1.5529278139958989, 0.5585114201282104, 1.1081748287221973, 0.5786445092709741, 0.012575418742362943, 0.31251853048904665, 0.668992790804777, -0.9357642050522706, -1.7502352908475747, -1.1891899470303575, 1.3039873876743129, -0.9290778024734753, 1.5949617014816626, 1.317263804134899, -0.7393457254093768, -0.2836412501033554, 0.39500577301382556, -0.19878243420856143, -0.015156971804573429, -1.0233128562001466, -0.9044467815425445, 1.130533978735926, 0.6647964258955746, 1.3161641115644949, 1.5555717667850633, 0.09260698431106808, 1.364533716086213, -1.2169224255756232, -0.703560958600298, -0.5226056338222739, -1.4403106413817668, -0.5082752114604108, -0.45246678819824143, -0.8994474129369322, -0.8038036119855998, -1.6685950229652726, 0.32678600253398316, 0.5581877526293396, 1.252591507712197], \"yaxis\": \"y9\"}, {\"line\": {\"color\": \"rgba(128, 128, 128, 1.0)\", \"dash\": \"solid\", \"shape\": \"linear\", \"width\": 1.3}, \"marker\": {\"size\": 2, \"symbol\": \"circle\"}, \"mode\": \"markers\", \"name\": \"C\", \"text\": \"\", \"type\": \"scatter\", \"x\": [0.28883879264521045, -0.9696091384577731, 0.3240029375457199, -2.0275223864420986, 0.14726848424825328, 0.678991256631577, 0.8082635732754649, -1.7856463481517608, -1.104842817878926, -0.46027812161661064, -2.1537687431575328, 0.15945482476116415, -1.3018992475704751, 0.6025453549513595, 0.2587350592374064, 0.8027749160485882, 0.35454868506569975, -0.4552450279185263, -0.8120909393883892, -0.4444774282124728, 0.36142121866382554, 1.0066457905843325, 2.1146963668436967, 0.3867859557004427, 0.30976253103714385, 0.25304790269208116, -0.4853018821573321, -0.4266472311732564, 1.0574834426305726, 0.0727828918106895, 0.6387061611541429, 0.35282443058578244, 1.2613356031803376, 1.9112868409358335, 0.35270908010673824, 0.33830107746460486, 0.9661583398721716, 0.7409660674911244, -1.0132490082439065, 1.1381430753784794, 0.06956837769113201, -0.025060573913217636, 0.5601028658725632, 1.1067653704904703, 0.5381067202924643, -0.7979118583312437, 0.6334157782864624, -0.5266080026725684, 0.4833853733012127, -0.38299530376008994, -0.4357980040855327, -0.37062045661239246, -1.3414385587779716, -0.36590910152001693, -0.7034440798878234, -1.3876156954916887, -1.0926499669857581, 0.5638637016453981, -0.3829013772219426, 1.9157532042187086, 0.761887728347791, 0.8146029084065223, 0.8231475450342212, 0.04436894811492774, -1.0635463927921698, -0.07945247508080461, 1.882926346755678, -0.20579958146507463, 0.4168470364341955, 0.36946234527703425, 1.022023039989263, -2.199761127185428, 0.09350752683525511, 0.050408117632942985, 2.190592367226769, -0.23747751471779366, 1.0478758815724036, -0.4337413657219337, 0.20492756400731685, 2.3831221699587988, -0.6802126826044421, 0.9545186757613414, -1.559532703638838, -0.2702728387868071, 0.2237820300585606, -0.18639837634820103, -0.47969720470485616, 0.44948289758789267, -0.3239630401170654, 0.12299224412986517, -0.2955225352765806, -0.06693027092072842, -0.3667350661835663, -1.1643883307876375, 0.8995409226274617, -1.0630968020526121, -2.25782917678505, 0.17250522033490703, -2.0771412668361102, -1.498269212529484], \"xaxis\": \"x10\", \"y\": [0.9343696833686856, 0.6173183922345006, -1.0639285999296693, -0.33859612376905984, 0.506690249511028, 0.2957480725083949, 0.5263886133671345, -0.32276366714443333, -0.01792066674395618, -1.775083329657011, -1.4437741093187602, 0.07329908144639716, 1.202571194374941, 0.5168437647049239, -0.09882521510224906, 1.2444214483260527, 0.4917821790620534, 0.1965902827913307, 0.16855948625243314, 1.108497197968096, -0.5675585086297141, -0.3095257147273207, -0.7102455459926497, 1.1671495944265564, -0.5284595837443142, 1.7243424357402708, -0.16867574245345937, -0.7529943369078369, 1.4714561614880592, -0.3156054085787056, 1.6318798368170893, -1.1814339345772011, 1.0176216826497526, 1.2215659458124433, 0.5550009695494434, 1.2051994421401777, 0.12738565982693809, -0.349202693458132, -1.2226864380171725, 1.0622710558752908, -1.4610410655094517, -1.5352515493002508, -0.6112654698490414, -1.6006436768837422, -1.2126704936089923, 1.51414712452721, -0.05326645847836819, 0.5720140651740735, 0.30677221656661624, -0.8515412861948122, -0.2175631127524753, -0.6866800691236976, -0.2718610220028386, -0.4286993360378733, -0.008244722026312986, -1.134459704124308, 0.6839925305569563, -0.9037393141619001, 0.8946253754874015, -0.9563364923279836, -1.8017716095525207, 1.5529278139958989, 0.5585114201282104, 1.1081748287221973, 0.5786445092709741, 0.012575418742362943, 0.31251853048904665, 0.668992790804777, -0.9357642050522706, -1.7502352908475747, -1.1891899470303575, 1.3039873876743129, -0.9290778024734753, 1.5949617014816626, 1.317263804134899, -0.7393457254093768, -0.2836412501033554, 0.39500577301382556, -0.19878243420856143, -0.015156971804573429, -1.0233128562001466, -0.9044467815425445, 1.130533978735926, 0.6647964258955746, 1.3161641115644949, 1.5555717667850633, 0.09260698431106808, 1.364533716086213, -1.2169224255756232, -0.703560958600298, -0.5226056338222739, -1.4403106413817668, -0.5082752114604108, -0.45246678819824143, -0.8994474129369322, -0.8038036119855998, -1.6685950229652726, 0.32678600253398316, 0.5581877526293396, 1.252591507712197], \"yaxis\": \"y10\"}, {\"histfunc\": \"count\", \"histnorm\": \"\", \"marker\": {\"color\": \"rgba(50, 171, 96, 1.0)\", \"line\": {\"color\": \"#4D5663\", \"width\": 1.3}}, \"name\": \"C\", \"nbinsx\": 10, \"opacity\": 0.8, \"orientation\": \"v\", \"type\": \"histogram\", \"x\": [0.9343696833686856, 0.6173183922345006, -1.0639285999296693, -0.33859612376905984, 0.506690249511028, 0.2957480725083949, 0.5263886133671345, -0.32276366714443333, -0.01792066674395618, -1.775083329657011, -1.4437741093187602, 0.07329908144639716, 1.202571194374941, 0.5168437647049239, -0.09882521510224906, 1.2444214483260527, 0.4917821790620534, 0.1965902827913307, 0.16855948625243314, 1.108497197968096, -0.5675585086297141, -0.3095257147273207, -0.7102455459926497, 1.1671495944265564, -0.5284595837443142, 1.7243424357402708, -0.16867574245345937, -0.7529943369078369, 1.4714561614880592, -0.3156054085787056, 1.6318798368170893, -1.1814339345772011, 1.0176216826497526, 1.2215659458124433, 0.5550009695494434, 1.2051994421401777, 0.12738565982693809, -0.349202693458132, -1.2226864380171725, 1.0622710558752908, -1.4610410655094517, -1.5352515493002508, -0.6112654698490414, -1.6006436768837422, -1.2126704936089923, 1.51414712452721, -0.05326645847836819, 0.5720140651740735, 0.30677221656661624, -0.8515412861948122, -0.2175631127524753, -0.6866800691236976, -0.2718610220028386, -0.4286993360378733, -0.008244722026312986, -1.134459704124308, 0.6839925305569563, -0.9037393141619001, 0.8946253754874015, -0.9563364923279836, -1.8017716095525207, 1.5529278139958989, 0.5585114201282104, 1.1081748287221973, 0.5786445092709741, 0.012575418742362943, 0.31251853048904665, 0.668992790804777, -0.9357642050522706, -1.7502352908475747, -1.1891899470303575, 1.3039873876743129, -0.9290778024734753, 1.5949617014816626, 1.317263804134899, -0.7393457254093768, -0.2836412501033554, 0.39500577301382556, -0.19878243420856143, -0.015156971804573429, -1.0233128562001466, -0.9044467815425445, 1.130533978735926, 0.6647964258955746, 1.3161641115644949, 1.5555717667850633, 0.09260698431106808, 1.364533716086213, -1.2169224255756232, -0.703560958600298, -0.5226056338222739, -1.4403106413817668, -0.5082752114604108, -0.45246678819824143, -0.8994474129369322, -0.8038036119855998, -1.6685950229652726, 0.32678600253398316, 0.5581877526293396, 1.252591507712197], \"xaxis\": \"x11\", \"yaxis\": \"y11\"}, {\"line\": {\"color\": \"rgba(128, 128, 128, 1.0)\", \"dash\": \"solid\", \"shape\": \"linear\", \"width\": 1.3}, \"marker\": {\"size\": 2, \"symbol\": \"circle\"}, \"mode\": \"markers\", \"name\": \"C\", \"text\": \"\", \"type\": \"scatter\", \"x\": [-0.8058842627615331, 0.9797082212953491, 0.6379635383022297, 1.4548329154127562, -2.335484400509173, -0.6623770650682406, 0.7535702956405469, -0.6236079353039102, 1.5863547334142853, 0.5501662700248987, 0.5544553984982873, -0.8026437001666429, -1.3410112046609501, -0.15432536507994782, 0.5869254121772779, 2.1862014691579392, -0.8596447818377434, 0.22903537802967597, -1.9527835306690624, -0.7106466834944147, 0.9879654019609568, 0.43989617483472826, 0.8879983605688165, 0.30101447395780634, -1.1269830174872864, 1.637713689364425, 2.19484065473828, 2.1351243435618557, 0.7410418985039773, 0.10250422142114304, 1.0147707958155245, 1.293569209435536, -0.30913414653112375, 0.9485462047058678, 0.8621835590849038, 0.30367158443875586, 1.553251492944668, -1.0866663386699786, -0.738456098631491, -1.2677923318105067, -1.5255450657829206, 0.5806873056280587, -1.2980488960785543, 1.2749609068257286, 0.44492001246999946, -0.9179560951815965, 0.7796482114958154, -1.6263294936914727, 0.5701756325323951, 0.5616757646494824, 2.0692782403749996, -0.6998366536532751, 1.7451322151939659, -0.41932548798157826, 0.12205020250823236, 0.5315818152632557, 0.5427953889005159, 0.4439151325921603, -0.9341713046286217, 0.178731397553212, -2.0905963494997692, 0.6628433514890515, -1.0717854744470323, 0.6395126809145872, -0.5506483770131305, -0.13274463767961525, -1.1915154310340677, -2.0013163307379864, 0.303189753519302, -0.9738683344814172, 0.2200647357558618, 0.5528113656617654, 0.03798789279734366, -0.033497342180987676, 0.6561751895549323, -1.296629861664313, -0.9939882703168663, -2.4811780037000126, 0.5163737334382271, -0.8509505825124314, 0.18521698690709562, 0.400969571594376, 0.09284692825371736, 0.6662143145592785, 0.38045010667313794, -0.6764269749617707, -1.9590494783739336, 0.0702745069971556, -0.9868397186829913, 0.48576342854090954, 0.9649650807272201, 0.018040177384070485, 0.37114273233268846, 1.8869512978114056, 1.333566572763461, 2.177844651149719, -1.4653390081808297, -1.5728963693526394, -0.1622957734581275, -0.7038966086121956], \"xaxis\": \"x12\", \"y\": [0.9343696833686856, 0.6173183922345006, -1.0639285999296693, -0.33859612376905984, 0.506690249511028, 0.2957480725083949, 0.5263886133671345, -0.32276366714443333, -0.01792066674395618, -1.775083329657011, -1.4437741093187602, 0.07329908144639716, 1.202571194374941, 0.5168437647049239, -0.09882521510224906, 1.2444214483260527, 0.4917821790620534, 0.1965902827913307, 0.16855948625243314, 1.108497197968096, -0.5675585086297141, -0.3095257147273207, -0.7102455459926497, 1.1671495944265564, -0.5284595837443142, 1.7243424357402708, -0.16867574245345937, -0.7529943369078369, 1.4714561614880592, -0.3156054085787056, 1.6318798368170893, -1.1814339345772011, 1.0176216826497526, 1.2215659458124433, 0.5550009695494434, 1.2051994421401777, 0.12738565982693809, -0.349202693458132, -1.2226864380171725, 1.0622710558752908, -1.4610410655094517, -1.5352515493002508, -0.6112654698490414, -1.6006436768837422, -1.2126704936089923, 1.51414712452721, -0.05326645847836819, 0.5720140651740735, 0.30677221656661624, -0.8515412861948122, -0.2175631127524753, -0.6866800691236976, -0.2718610220028386, -0.4286993360378733, -0.008244722026312986, -1.134459704124308, 0.6839925305569563, -0.9037393141619001, 0.8946253754874015, -0.9563364923279836, -1.8017716095525207, 1.5529278139958989, 0.5585114201282104, 1.1081748287221973, 0.5786445092709741, 0.012575418742362943, 0.31251853048904665, 0.668992790804777, -0.9357642050522706, -1.7502352908475747, -1.1891899470303575, 1.3039873876743129, -0.9290778024734753, 1.5949617014816626, 1.317263804134899, -0.7393457254093768, -0.2836412501033554, 0.39500577301382556, -0.19878243420856143, -0.015156971804573429, -1.0233128562001466, -0.9044467815425445, 1.130533978735926, 0.6647964258955746, 1.3161641115644949, 1.5555717667850633, 0.09260698431106808, 1.364533716086213, -1.2169224255756232, -0.703560958600298, -0.5226056338222739, -1.4403106413817668, -0.5082752114604108, -0.45246678819824143, -0.8994474129369322, -0.8038036119855998, -1.6685950229652726, 0.32678600253398316, 0.5581877526293396, 1.252591507712197], \"yaxis\": \"y12\"}, {\"line\": {\"color\": \"rgba(128, 128, 128, 1.0)\", \"dash\": \"solid\", \"shape\": \"linear\", \"width\": 1.3}, \"marker\": {\"size\": 2, \"symbol\": \"circle\"}, \"mode\": \"markers\", \"name\": \"D\", \"text\": \"\", \"type\": \"scatter\", \"x\": [1.204374223794343, -0.36906833924077637, -0.8122413394730359, 1.3997697154739082, -1.060788107444831, 0.5515735422646244, 0.14061940746164717, 0.16983560391476102, -0.5570859045323824, 1.401481283250656, -0.22735734650862433, -0.2708226895595077, -0.061950652045331865, -0.23938387027733657, 1.108929431106888, 1.5885217800040747, -0.23559972372649096, -0.8063452712749882, 0.13813159002450978, -0.6380738291099499, -1.3331534209046985, -0.1297105180803108, -0.10188136335052575, -0.30361318214471156, 0.16497636748164915, 2.183144065787738, -0.7843797606187034, -0.7395470414853026, -0.527746573443475, 1.1734247890807368, -0.4277744368396613, 1.586083786095986, -0.5946807669553307, 1.1091000750587032, -2.2431426226953897, 1.0511348504249087, -1.7084854938366552, 0.3848496070527757, 0.02319587782161051, -1.5614243800488814, -0.49612500584776853, 0.36651695375891874, -1.9325653893667134, -0.009736954747299615, 0.5770681622022307, -1.798736202311587, -1.4731317977982321, 0.9207786842892908, -1.4109451145958787, 1.474614654368594, -1.151126450220308, 1.0959490386459758, 0.7132001708734125, 1.5389324759551382, -0.3437764307427175, -0.1398678689458212, -0.5692961334275359, -0.3876239117207527, 2.1646360720109534, -0.8575609675505435, -0.12246755380214738, -0.35793397267560856, 0.6760702797677335, 0.6859757866029638, 1.2172949175056056, 3.0190435916527885, -0.49318883868647506, -1.4621624134879483, -0.018015512803250384, 1.0663682852882106, 0.6097999035722868, 0.8061363870535981, -0.9775765064326202, 1.9186469222357772, -1.3863509250475359, -1.729431686804565, -0.18184271399933602, -0.18613439383574115, 0.5857466322063433, -0.34237696433466347, 0.3571290493876967, 0.006789251745769943, -3.2125921573829657, -0.5584989724527796, -0.3753882921486149, 0.4722926040135994, -2.363150670854163, -0.6542164839532234, 0.032211397087431724, -1.138463704994325, 0.16231793129177194, 0.4166899662658287, -0.18051501338281437, -0.15668668070654856, 0.0848144483366338, 0.6315939404556832, 0.49811604910354135, 0.9187915032050765, -0.45235784878744706, -0.18836177542466803], \"xaxis\": \"x13\", \"y\": [-0.8058842627615331, 0.9797082212953491, 0.6379635383022297, 1.4548329154127562, -2.335484400509173, -0.6623770650682406, 0.7535702956405469, -0.6236079353039102, 1.5863547334142853, 0.5501662700248987, 0.5544553984982873, -0.8026437001666429, -1.3410112046609501, -0.15432536507994782, 0.5869254121772779, 2.1862014691579392, -0.8596447818377434, 0.22903537802967597, -1.9527835306690624, -0.7106466834944147, 0.9879654019609568, 0.43989617483472826, 0.8879983605688165, 0.30101447395780634, -1.1269830174872864, 1.637713689364425, 2.19484065473828, 2.1351243435618557, 0.7410418985039773, 0.10250422142114304, 1.0147707958155245, 1.293569209435536, -0.30913414653112375, 0.9485462047058678, 0.8621835590849038, 0.30367158443875586, 1.553251492944668, -1.0866663386699786, -0.738456098631491, -1.2677923318105067, -1.5255450657829206, 0.5806873056280587, -1.2980488960785543, 1.2749609068257286, 0.44492001246999946, -0.9179560951815965, 0.7796482114958154, -1.6263294936914727, 0.5701756325323951, 0.5616757646494824, 2.0692782403749996, -0.6998366536532751, 1.7451322151939659, -0.41932548798157826, 0.12205020250823236, 0.5315818152632557, 0.5427953889005159, 0.4439151325921603, -0.9341713046286217, 0.178731397553212, -2.0905963494997692, 0.6628433514890515, -1.0717854744470323, 0.6395126809145872, -0.5506483770131305, -0.13274463767961525, -1.1915154310340677, -2.0013163307379864, 0.303189753519302, -0.9738683344814172, 0.2200647357558618, 0.5528113656617654, 0.03798789279734366, -0.033497342180987676, 0.6561751895549323, -1.296629861664313, -0.9939882703168663, -2.4811780037000126, 0.5163737334382271, -0.8509505825124314, 0.18521698690709562, 0.400969571594376, 0.09284692825371736, 0.6662143145592785, 0.38045010667313794, -0.6764269749617707, -1.9590494783739336, 0.0702745069971556, -0.9868397186829913, 0.48576342854090954, 0.9649650807272201, 0.018040177384070485, 0.37114273233268846, 1.8869512978114056, 1.333566572763461, 2.177844651149719, -1.4653390081808297, -1.5728963693526394, -0.1622957734581275, -0.7038966086121956], \"yaxis\": \"y13\"}, {\"line\": {\"color\": \"rgba(128, 128, 128, 1.0)\", \"dash\": \"solid\", \"shape\": \"linear\", \"width\": 1.3}, \"marker\": {\"size\": 2, \"symbol\": \"circle\"}, \"mode\": \"markers\", \"name\": \"D\", \"text\": \"\", \"type\": \"scatter\", \"x\": [0.28883879264521045, -0.9696091384577731, 0.3240029375457199, -2.0275223864420986, 0.14726848424825328, 0.678991256631577, 0.8082635732754649, -1.7856463481517608, -1.104842817878926, -0.46027812161661064, -2.1537687431575328, 0.15945482476116415, -1.3018992475704751, 0.6025453549513595, 0.2587350592374064, 0.8027749160485882, 0.35454868506569975, -0.4552450279185263, -0.8120909393883892, -0.4444774282124728, 0.36142121866382554, 1.0066457905843325, 2.1146963668436967, 0.3867859557004427, 0.30976253103714385, 0.25304790269208116, -0.4853018821573321, -0.4266472311732564, 1.0574834426305726, 0.0727828918106895, 0.6387061611541429, 0.35282443058578244, 1.2613356031803376, 1.9112868409358335, 0.35270908010673824, 0.33830107746460486, 0.9661583398721716, 0.7409660674911244, -1.0132490082439065, 1.1381430753784794, 0.06956837769113201, -0.025060573913217636, 0.5601028658725632, 1.1067653704904703, 0.5381067202924643, -0.7979118583312437, 0.6334157782864624, -0.5266080026725684, 0.4833853733012127, -0.38299530376008994, -0.4357980040855327, -0.37062045661239246, -1.3414385587779716, -0.36590910152001693, -0.7034440798878234, -1.3876156954916887, -1.0926499669857581, 0.5638637016453981, -0.3829013772219426, 1.9157532042187086, 0.761887728347791, 0.8146029084065223, 0.8231475450342212, 0.04436894811492774, -1.0635463927921698, -0.07945247508080461, 1.882926346755678, -0.20579958146507463, 0.4168470364341955, 0.36946234527703425, 1.022023039989263, -2.199761127185428, 0.09350752683525511, 0.050408117632942985, 2.190592367226769, -0.23747751471779366, 1.0478758815724036, -0.4337413657219337, 0.20492756400731685, 2.3831221699587988, -0.6802126826044421, 0.9545186757613414, -1.559532703638838, -0.2702728387868071, 0.2237820300585606, -0.18639837634820103, -0.47969720470485616, 0.44948289758789267, -0.3239630401170654, 0.12299224412986517, -0.2955225352765806, -0.06693027092072842, -0.3667350661835663, -1.1643883307876375, 0.8995409226274617, -1.0630968020526121, -2.25782917678505, 0.17250522033490703, -2.0771412668361102, -1.498269212529484], \"xaxis\": \"x14\", \"y\": [-0.8058842627615331, 0.9797082212953491, 0.6379635383022297, 1.4548329154127562, -2.335484400509173, -0.6623770650682406, 0.7535702956405469, -0.6236079353039102, 1.5863547334142853, 0.5501662700248987, 0.5544553984982873, -0.8026437001666429, -1.3410112046609501, -0.15432536507994782, 0.5869254121772779, 2.1862014691579392, -0.8596447818377434, 0.22903537802967597, -1.9527835306690624, -0.7106466834944147, 0.9879654019609568, 0.43989617483472826, 0.8879983605688165, 0.30101447395780634, -1.1269830174872864, 1.637713689364425, 2.19484065473828, 2.1351243435618557, 0.7410418985039773, 0.10250422142114304, 1.0147707958155245, 1.293569209435536, -0.30913414653112375, 0.9485462047058678, 0.8621835590849038, 0.30367158443875586, 1.553251492944668, -1.0866663386699786, -0.738456098631491, -1.2677923318105067, -1.5255450657829206, 0.5806873056280587, -1.2980488960785543, 1.2749609068257286, 0.44492001246999946, -0.9179560951815965, 0.7796482114958154, -1.6263294936914727, 0.5701756325323951, 0.5616757646494824, 2.0692782403749996, -0.6998366536532751, 1.7451322151939659, -0.41932548798157826, 0.12205020250823236, 0.5315818152632557, 0.5427953889005159, 0.4439151325921603, -0.9341713046286217, 0.178731397553212, -2.0905963494997692, 0.6628433514890515, -1.0717854744470323, 0.6395126809145872, -0.5506483770131305, -0.13274463767961525, -1.1915154310340677, -2.0013163307379864, 0.303189753519302, -0.9738683344814172, 0.2200647357558618, 0.5528113656617654, 0.03798789279734366, -0.033497342180987676, 0.6561751895549323, -1.296629861664313, -0.9939882703168663, -2.4811780037000126, 0.5163737334382271, -0.8509505825124314, 0.18521698690709562, 0.400969571594376, 0.09284692825371736, 0.6662143145592785, 0.38045010667313794, -0.6764269749617707, -1.9590494783739336, 0.0702745069971556, -0.9868397186829913, 0.48576342854090954, 0.9649650807272201, 0.018040177384070485, 0.37114273233268846, 1.8869512978114056, 1.333566572763461, 2.177844651149719, -1.4653390081808297, -1.5728963693526394, -0.1622957734581275, -0.7038966086121956], \"yaxis\": \"y14\"}, {\"line\": {\"color\": \"rgba(128, 128, 128, 1.0)\", \"dash\": \"solid\", \"shape\": \"linear\", \"width\": 1.3}, \"marker\": {\"size\": 2, \"symbol\": \"circle\"}, \"mode\": \"markers\", \"name\": \"D\", \"text\": \"\", \"type\": \"scatter\", \"x\": [0.9343696833686856, 0.6173183922345006, -1.0639285999296693, -0.33859612376905984, 0.506690249511028, 0.2957480725083949, 0.5263886133671345, -0.32276366714443333, -0.01792066674395618, -1.775083329657011, -1.4437741093187602, 0.07329908144639716, 1.202571194374941, 0.5168437647049239, -0.09882521510224906, 1.2444214483260527, 0.4917821790620534, 0.1965902827913307, 0.16855948625243314, 1.108497197968096, -0.5675585086297141, -0.3095257147273207, -0.7102455459926497, 1.1671495944265564, -0.5284595837443142, 1.7243424357402708, -0.16867574245345937, -0.7529943369078369, 1.4714561614880592, -0.3156054085787056, 1.6318798368170893, -1.1814339345772011, 1.0176216826497526, 1.2215659458124433, 0.5550009695494434, 1.2051994421401777, 0.12738565982693809, -0.349202693458132, -1.2226864380171725, 1.0622710558752908, -1.4610410655094517, -1.5352515493002508, -0.6112654698490414, -1.6006436768837422, -1.2126704936089923, 1.51414712452721, -0.05326645847836819, 0.5720140651740735, 0.30677221656661624, -0.8515412861948122, -0.2175631127524753, -0.6866800691236976, -0.2718610220028386, -0.4286993360378733, -0.008244722026312986, -1.134459704124308, 0.6839925305569563, -0.9037393141619001, 0.8946253754874015, -0.9563364923279836, -1.8017716095525207, 1.5529278139958989, 0.5585114201282104, 1.1081748287221973, 0.5786445092709741, 0.012575418742362943, 0.31251853048904665, 0.668992790804777, -0.9357642050522706, -1.7502352908475747, -1.1891899470303575, 1.3039873876743129, -0.9290778024734753, 1.5949617014816626, 1.317263804134899, -0.7393457254093768, -0.2836412501033554, 0.39500577301382556, -0.19878243420856143, -0.015156971804573429, -1.0233128562001466, -0.9044467815425445, 1.130533978735926, 0.6647964258955746, 1.3161641115644949, 1.5555717667850633, 0.09260698431106808, 1.364533716086213, -1.2169224255756232, -0.703560958600298, -0.5226056338222739, -1.4403106413817668, -0.5082752114604108, -0.45246678819824143, -0.8994474129369322, -0.8038036119855998, -1.6685950229652726, 0.32678600253398316, 0.5581877526293396, 1.252591507712197], \"xaxis\": \"x15\", \"y\": [-0.8058842627615331, 0.9797082212953491, 0.6379635383022297, 1.4548329154127562, -2.335484400509173, -0.6623770650682406, 0.7535702956405469, -0.6236079353039102, 1.5863547334142853, 0.5501662700248987, 0.5544553984982873, -0.8026437001666429, -1.3410112046609501, -0.15432536507994782, 0.5869254121772779, 2.1862014691579392, -0.8596447818377434, 0.22903537802967597, -1.9527835306690624, -0.7106466834944147, 0.9879654019609568, 0.43989617483472826, 0.8879983605688165, 0.30101447395780634, -1.1269830174872864, 1.637713689364425, 2.19484065473828, 2.1351243435618557, 0.7410418985039773, 0.10250422142114304, 1.0147707958155245, 1.293569209435536, -0.30913414653112375, 0.9485462047058678, 0.8621835590849038, 0.30367158443875586, 1.553251492944668, -1.0866663386699786, -0.738456098631491, -1.2677923318105067, -1.5255450657829206, 0.5806873056280587, -1.2980488960785543, 1.2749609068257286, 0.44492001246999946, -0.9179560951815965, 0.7796482114958154, -1.6263294936914727, 0.5701756325323951, 0.5616757646494824, 2.0692782403749996, -0.6998366536532751, 1.7451322151939659, -0.41932548798157826, 0.12205020250823236, 0.5315818152632557, 0.5427953889005159, 0.4439151325921603, -0.9341713046286217, 0.178731397553212, -2.0905963494997692, 0.6628433514890515, -1.0717854744470323, 0.6395126809145872, -0.5506483770131305, -0.13274463767961525, -1.1915154310340677, -2.0013163307379864, 0.303189753519302, -0.9738683344814172, 0.2200647357558618, 0.5528113656617654, 0.03798789279734366, -0.033497342180987676, 0.6561751895549323, -1.296629861664313, -0.9939882703168663, -2.4811780037000126, 0.5163737334382271, -0.8509505825124314, 0.18521698690709562, 0.400969571594376, 0.09284692825371736, 0.6662143145592785, 0.38045010667313794, -0.6764269749617707, -1.9590494783739336, 0.0702745069971556, -0.9868397186829913, 0.48576342854090954, 0.9649650807272201, 0.018040177384070485, 0.37114273233268846, 1.8869512978114056, 1.333566572763461, 2.177844651149719, -1.4653390081808297, -1.5728963693526394, -0.1622957734581275, -0.7038966086121956], \"yaxis\": \"y15\"}, {\"histfunc\": \"count\", \"histnorm\": \"\", \"marker\": {\"color\": \"rgba(128, 0, 128, 1.0)\", \"line\": {\"color\": \"#4D5663\", \"width\": 1.3}}, \"name\": \"D\", \"nbinsx\": 10, \"opacity\": 0.8, \"orientation\": \"v\", \"type\": \"histogram\", \"x\": [-0.8058842627615331, 0.9797082212953491, 0.6379635383022297, 1.4548329154127562, -2.335484400509173, -0.6623770650682406, 0.7535702956405469, -0.6236079353039102, 1.5863547334142853, 0.5501662700248987, 0.5544553984982873, -0.8026437001666429, -1.3410112046609501, -0.15432536507994782, 0.5869254121772779, 2.1862014691579392, -0.8596447818377434, 0.22903537802967597, -1.9527835306690624, -0.7106466834944147, 0.9879654019609568, 0.43989617483472826, 0.8879983605688165, 0.30101447395780634, -1.1269830174872864, 1.637713689364425, 2.19484065473828, 2.1351243435618557, 0.7410418985039773, 0.10250422142114304, 1.0147707958155245, 1.293569209435536, -0.30913414653112375, 0.9485462047058678, 0.8621835590849038, 0.30367158443875586, 1.553251492944668, -1.0866663386699786, -0.738456098631491, -1.2677923318105067, -1.5255450657829206, 0.5806873056280587, -1.2980488960785543, 1.2749609068257286, 0.44492001246999946, -0.9179560951815965, 0.7796482114958154, -1.6263294936914727, 0.5701756325323951, 0.5616757646494824, 2.0692782403749996, -0.6998366536532751, 1.7451322151939659, -0.41932548798157826, 0.12205020250823236, 0.5315818152632557, 0.5427953889005159, 0.4439151325921603, -0.9341713046286217, 0.178731397553212, -2.0905963494997692, 0.6628433514890515, -1.0717854744470323, 0.6395126809145872, -0.5506483770131305, -0.13274463767961525, -1.1915154310340677, -2.0013163307379864, 0.303189753519302, -0.9738683344814172, 0.2200647357558618, 0.5528113656617654, 0.03798789279734366, -0.033497342180987676, 0.6561751895549323, -1.296629861664313, -0.9939882703168663, -2.4811780037000126, 0.5163737334382271, -0.8509505825124314, 0.18521698690709562, 0.400969571594376, 0.09284692825371736, 0.6662143145592785, 0.38045010667313794, -0.6764269749617707, -1.9590494783739336, 0.0702745069971556, -0.9868397186829913, 0.48576342854090954, 0.9649650807272201, 0.018040177384070485, 0.37114273233268846, 1.8869512978114056, 1.333566572763461, 2.177844651149719, -1.4653390081808297, -1.5728963693526394, -0.1622957734581275, -0.7038966086121956], \"xaxis\": \"x16\", \"yaxis\": \"y16\"}],\n",
       "                        {\"bargap\": 0.02, \"legend\": {\"bgcolor\": \"#F5F6F9\", \"font\": {\"color\": \"#4D5663\"}}, \"paper_bgcolor\": \"#F5F6F9\", \"plot_bgcolor\": \"#F5F6F9\", \"showlegend\": false, \"template\": {\"data\": {\"bar\": [{\"error_x\": {\"color\": \"#2a3f5f\"}, \"error_y\": {\"color\": \"#2a3f5f\"}, \"marker\": {\"line\": {\"color\": \"#E5ECF6\", \"width\": 0.5}}, \"type\": \"bar\"}], \"barpolar\": [{\"marker\": {\"line\": {\"color\": \"#E5ECF6\", \"width\": 0.5}}, \"type\": \"barpolar\"}], \"carpet\": [{\"aaxis\": {\"endlinecolor\": \"#2a3f5f\", \"gridcolor\": \"white\", \"linecolor\": \"white\", \"minorgridcolor\": \"white\", \"startlinecolor\": \"#2a3f5f\"}, \"baxis\": {\"endlinecolor\": \"#2a3f5f\", \"gridcolor\": \"white\", \"linecolor\": \"white\", \"minorgridcolor\": \"white\", \"startlinecolor\": \"#2a3f5f\"}, \"type\": \"carpet\"}], \"choropleth\": [{\"colorbar\": {\"outlinewidth\": 0, \"ticks\": \"\"}, \"type\": \"choropleth\"}], \"contour\": [{\"colorbar\": {\"outlinewidth\": 0, \"ticks\": \"\"}, \"colorscale\": [[0.0, \"#0d0887\"], [0.1111111111111111, \"#46039f\"], [0.2222222222222222, \"#7201a8\"], [0.3333333333333333, \"#9c179e\"], [0.4444444444444444, \"#bd3786\"], [0.5555555555555556, \"#d8576b\"], [0.6666666666666666, \"#ed7953\"], [0.7777777777777778, \"#fb9f3a\"], [0.8888888888888888, \"#fdca26\"], [1.0, \"#f0f921\"]], \"type\": \"contour\"}], \"contourcarpet\": [{\"colorbar\": {\"outlinewidth\": 0, \"ticks\": \"\"}, \"type\": \"contourcarpet\"}], \"heatmap\": [{\"colorbar\": {\"outlinewidth\": 0, \"ticks\": \"\"}, \"colorscale\": [[0.0, \"#0d0887\"], [0.1111111111111111, \"#46039f\"], [0.2222222222222222, \"#7201a8\"], [0.3333333333333333, \"#9c179e\"], [0.4444444444444444, \"#bd3786\"], [0.5555555555555556, \"#d8576b\"], [0.6666666666666666, \"#ed7953\"], [0.7777777777777778, \"#fb9f3a\"], [0.8888888888888888, \"#fdca26\"], [1.0, \"#f0f921\"]], \"type\": \"heatmap\"}], \"heatmapgl\": [{\"colorbar\": {\"outlinewidth\": 0, \"ticks\": \"\"}, \"colorscale\": [[0.0, \"#0d0887\"], [0.1111111111111111, \"#46039f\"], [0.2222222222222222, \"#7201a8\"], [0.3333333333333333, \"#9c179e\"], [0.4444444444444444, \"#bd3786\"], [0.5555555555555556, \"#d8576b\"], [0.6666666666666666, \"#ed7953\"], [0.7777777777777778, \"#fb9f3a\"], [0.8888888888888888, \"#fdca26\"], [1.0, \"#f0f921\"]], \"type\": \"heatmapgl\"}], \"histogram\": [{\"marker\": {\"colorbar\": {\"outlinewidth\": 0, \"ticks\": \"\"}}, \"type\": \"histogram\"}], \"histogram2d\": [{\"colorbar\": {\"outlinewidth\": 0, \"ticks\": \"\"}, \"colorscale\": [[0.0, \"#0d0887\"], [0.1111111111111111, \"#46039f\"], [0.2222222222222222, \"#7201a8\"], [0.3333333333333333, \"#9c179e\"], [0.4444444444444444, \"#bd3786\"], [0.5555555555555556, \"#d8576b\"], [0.6666666666666666, \"#ed7953\"], [0.7777777777777778, \"#fb9f3a\"], [0.8888888888888888, \"#fdca26\"], [1.0, \"#f0f921\"]], \"type\": \"histogram2d\"}], \"histogram2dcontour\": [{\"colorbar\": {\"outlinewidth\": 0, \"ticks\": \"\"}, \"colorscale\": [[0.0, \"#0d0887\"], [0.1111111111111111, \"#46039f\"], [0.2222222222222222, \"#7201a8\"], [0.3333333333333333, \"#9c179e\"], [0.4444444444444444, \"#bd3786\"], [0.5555555555555556, \"#d8576b\"], [0.6666666666666666, \"#ed7953\"], [0.7777777777777778, \"#fb9f3a\"], [0.8888888888888888, \"#fdca26\"], [1.0, \"#f0f921\"]], \"type\": \"histogram2dcontour\"}], \"mesh3d\": [{\"colorbar\": {\"outlinewidth\": 0, \"ticks\": \"\"}, \"type\": \"mesh3d\"}], \"parcoords\": [{\"line\": {\"colorbar\": {\"outlinewidth\": 0, \"ticks\": \"\"}}, \"type\": \"parcoords\"}], \"pie\": [{\"automargin\": true, \"type\": \"pie\"}], \"scatter\": [{\"marker\": {\"colorbar\": {\"outlinewidth\": 0, \"ticks\": \"\"}}, \"type\": \"scatter\"}], \"scatter3d\": [{\"line\": {\"colorbar\": {\"outlinewidth\": 0, \"ticks\": \"\"}}, \"marker\": {\"colorbar\": {\"outlinewidth\": 0, \"ticks\": \"\"}}, \"type\": \"scatter3d\"}], \"scattercarpet\": [{\"marker\": {\"colorbar\": {\"outlinewidth\": 0, \"ticks\": \"\"}}, \"type\": \"scattercarpet\"}], \"scattergeo\": [{\"marker\": {\"colorbar\": {\"outlinewidth\": 0, \"ticks\": \"\"}}, \"type\": \"scattergeo\"}], \"scattergl\": [{\"marker\": {\"colorbar\": {\"outlinewidth\": 0, \"ticks\": \"\"}}, \"type\": \"scattergl\"}], \"scattermapbox\": [{\"marker\": {\"colorbar\": {\"outlinewidth\": 0, \"ticks\": \"\"}}, \"type\": \"scattermapbox\"}], \"scatterpolar\": [{\"marker\": {\"colorbar\": {\"outlinewidth\": 0, \"ticks\": \"\"}}, \"type\": \"scatterpolar\"}], \"scatterpolargl\": [{\"marker\": {\"colorbar\": {\"outlinewidth\": 0, \"ticks\": \"\"}}, \"type\": \"scatterpolargl\"}], \"scatterternary\": [{\"marker\": {\"colorbar\": {\"outlinewidth\": 0, \"ticks\": \"\"}}, \"type\": \"scatterternary\"}], \"surface\": [{\"colorbar\": {\"outlinewidth\": 0, \"ticks\": \"\"}, \"colorscale\": [[0.0, \"#0d0887\"], [0.1111111111111111, \"#46039f\"], [0.2222222222222222, \"#7201a8\"], [0.3333333333333333, \"#9c179e\"], [0.4444444444444444, \"#bd3786\"], [0.5555555555555556, \"#d8576b\"], [0.6666666666666666, \"#ed7953\"], [0.7777777777777778, \"#fb9f3a\"], [0.8888888888888888, \"#fdca26\"], [1.0, \"#f0f921\"]], \"type\": \"surface\"}], \"table\": [{\"cells\": {\"fill\": {\"color\": \"#EBF0F8\"}, \"line\": {\"color\": \"white\"}}, \"header\": {\"fill\": {\"color\": \"#C8D4E3\"}, \"line\": {\"color\": \"white\"}}, \"type\": \"table\"}]}, \"layout\": {\"annotationdefaults\": {\"arrowcolor\": \"#2a3f5f\", \"arrowhead\": 0, \"arrowwidth\": 1}, \"coloraxis\": {\"colorbar\": {\"outlinewidth\": 0, \"ticks\": \"\"}}, \"colorscale\": {\"diverging\": [[0, \"#8e0152\"], [0.1, \"#c51b7d\"], [0.2, \"#de77ae\"], [0.3, \"#f1b6da\"], [0.4, \"#fde0ef\"], [0.5, \"#f7f7f7\"], [0.6, \"#e6f5d0\"], [0.7, \"#b8e186\"], [0.8, \"#7fbc41\"], [0.9, \"#4d9221\"], [1, \"#276419\"]], \"sequential\": [[0.0, \"#0d0887\"], [0.1111111111111111, \"#46039f\"], [0.2222222222222222, \"#7201a8\"], [0.3333333333333333, \"#9c179e\"], [0.4444444444444444, \"#bd3786\"], [0.5555555555555556, \"#d8576b\"], [0.6666666666666666, \"#ed7953\"], [0.7777777777777778, \"#fb9f3a\"], [0.8888888888888888, \"#fdca26\"], [1.0, \"#f0f921\"]], \"sequentialminus\": [[0.0, \"#0d0887\"], [0.1111111111111111, \"#46039f\"], [0.2222222222222222, \"#7201a8\"], [0.3333333333333333, \"#9c179e\"], [0.4444444444444444, \"#bd3786\"], [0.5555555555555556, \"#d8576b\"], [0.6666666666666666, \"#ed7953\"], [0.7777777777777778, \"#fb9f3a\"], [0.8888888888888888, \"#fdca26\"], [1.0, \"#f0f921\"]]}, \"colorway\": [\"#636efa\", \"#EF553B\", \"#00cc96\", \"#ab63fa\", \"#FFA15A\", \"#19d3f3\", \"#FF6692\", \"#B6E880\", \"#FF97FF\", \"#FECB52\"], \"font\": {\"color\": \"#2a3f5f\"}, \"geo\": {\"bgcolor\": \"white\", \"lakecolor\": \"white\", \"landcolor\": \"#E5ECF6\", \"showlakes\": true, \"showland\": true, \"subunitcolor\": \"white\"}, \"hoverlabel\": {\"align\": \"left\"}, \"hovermode\": \"closest\", \"mapbox\": {\"style\": \"light\"}, \"paper_bgcolor\": \"white\", \"plot_bgcolor\": \"#E5ECF6\", \"polar\": {\"angularaxis\": {\"gridcolor\": \"white\", \"linecolor\": \"white\", \"ticks\": \"\"}, \"bgcolor\": \"#E5ECF6\", \"radialaxis\": {\"gridcolor\": \"white\", \"linecolor\": \"white\", \"ticks\": \"\"}}, \"scene\": {\"xaxis\": {\"backgroundcolor\": \"#E5ECF6\", \"gridcolor\": \"white\", \"gridwidth\": 2, \"linecolor\": \"white\", \"showbackground\": true, \"ticks\": \"\", \"zerolinecolor\": \"white\"}, \"yaxis\": {\"backgroundcolor\": \"#E5ECF6\", \"gridcolor\": \"white\", \"gridwidth\": 2, \"linecolor\": \"white\", \"showbackground\": true, \"ticks\": \"\", \"zerolinecolor\": \"white\"}, \"zaxis\": {\"backgroundcolor\": \"#E5ECF6\", \"gridcolor\": \"white\", \"gridwidth\": 2, \"linecolor\": \"white\", \"showbackground\": true, \"ticks\": \"\", \"zerolinecolor\": \"white\"}}, \"shapedefaults\": {\"line\": {\"color\": \"#2a3f5f\"}}, \"ternary\": {\"aaxis\": {\"gridcolor\": \"white\", \"linecolor\": \"white\", \"ticks\": \"\"}, \"baxis\": {\"gridcolor\": \"white\", \"linecolor\": \"white\", \"ticks\": \"\"}, \"bgcolor\": \"#E5ECF6\", \"caxis\": {\"gridcolor\": \"white\", \"linecolor\": \"white\", \"ticks\": \"\"}}, \"title\": {\"x\": 0.05}, \"xaxis\": {\"automargin\": true, \"gridcolor\": \"white\", \"linecolor\": \"white\", \"ticks\": \"\", \"title\": {\"standoff\": 15}, \"zerolinecolor\": \"white\", \"zerolinewidth\": 2}, \"yaxis\": {\"automargin\": true, \"gridcolor\": \"white\", \"linecolor\": \"white\", \"ticks\": \"\", \"title\": {\"standoff\": 15}, \"zerolinecolor\": \"white\", \"zerolinewidth\": 2}}}, \"title\": {\"font\": {\"color\": \"#4D5663\"}}, \"xaxis\": {\"anchor\": \"y\", \"domain\": [0.0, 0.2125], \"gridcolor\": \"#E1E5ED\", \"showgrid\": false, \"tickfont\": {\"color\": \"#4D5663\"}, \"title\": {\"font\": {\"color\": \"#4D5663\"}, \"text\": \"\"}, \"zerolinecolor\": \"#E1E5ED\"}, \"xaxis10\": {\"anchor\": \"y10\", \"domain\": [0.2625, 0.475], \"gridcolor\": \"#E1E5ED\", \"showgrid\": false, \"tickfont\": {\"color\": \"#4D5663\"}, \"title\": {\"font\": {\"color\": \"#4D5663\"}, \"text\": \"\"}, \"zerolinecolor\": \"#E1E5ED\"}, \"xaxis11\": {\"anchor\": \"y11\", \"domain\": [0.525, 0.7375], \"gridcolor\": \"#E1E5ED\", \"showgrid\": false, \"tickfont\": {\"color\": \"#4D5663\"}, \"title\": {\"font\": {\"color\": \"#4D5663\"}, \"text\": \"\"}, \"zerolinecolor\": \"#E1E5ED\"}, \"xaxis12\": {\"anchor\": \"y12\", \"domain\": [0.7875, 1.0], \"gridcolor\": \"#E1E5ED\", \"showgrid\": false, \"tickfont\": {\"color\": \"#4D5663\"}, \"title\": {\"font\": {\"color\": \"#4D5663\"}, \"text\": \"\"}, \"zerolinecolor\": \"#E1E5ED\"}, \"xaxis13\": {\"anchor\": \"y13\", \"domain\": [0.0, 0.2125], \"gridcolor\": \"#E1E5ED\", \"showgrid\": false, \"tickfont\": {\"color\": \"#4D5663\"}, \"title\": {\"font\": {\"color\": \"#4D5663\"}, \"text\": \"\"}, \"zerolinecolor\": \"#E1E5ED\"}, \"xaxis14\": {\"anchor\": \"y14\", \"domain\": [0.2625, 0.475], \"gridcolor\": \"#E1E5ED\", \"showgrid\": false, \"tickfont\": {\"color\": \"#4D5663\"}, \"title\": {\"font\": {\"color\": \"#4D5663\"}, \"text\": \"\"}, \"zerolinecolor\": \"#E1E5ED\"}, \"xaxis15\": {\"anchor\": \"y15\", \"domain\": [0.525, 0.7375], \"gridcolor\": \"#E1E5ED\", \"showgrid\": false, \"tickfont\": {\"color\": \"#4D5663\"}, \"title\": {\"font\": {\"color\": \"#4D5663\"}, \"text\": \"\"}, \"zerolinecolor\": \"#E1E5ED\"}, \"xaxis16\": {\"anchor\": \"y16\", \"domain\": [0.7875, 1.0], \"gridcolor\": \"#E1E5ED\", \"showgrid\": false, \"tickfont\": {\"color\": \"#4D5663\"}, \"title\": {\"font\": {\"color\": \"#4D5663\"}, \"text\": \"\"}, \"zerolinecolor\": \"#E1E5ED\"}, \"xaxis2\": {\"anchor\": \"y2\", \"domain\": [0.2625, 0.475], \"gridcolor\": \"#E1E5ED\", \"showgrid\": false, \"tickfont\": {\"color\": \"#4D5663\"}, \"title\": {\"font\": {\"color\": \"#4D5663\"}, \"text\": \"\"}, \"zerolinecolor\": \"#E1E5ED\"}, \"xaxis3\": {\"anchor\": \"y3\", \"domain\": [0.525, 0.7375], \"gridcolor\": \"#E1E5ED\", \"showgrid\": false, \"tickfont\": {\"color\": \"#4D5663\"}, \"title\": {\"font\": {\"color\": \"#4D5663\"}, \"text\": \"\"}, \"zerolinecolor\": \"#E1E5ED\"}, \"xaxis4\": {\"anchor\": \"y4\", \"domain\": [0.7875, 1.0], \"gridcolor\": \"#E1E5ED\", \"showgrid\": false, \"tickfont\": {\"color\": \"#4D5663\"}, \"title\": {\"font\": {\"color\": \"#4D5663\"}, \"text\": \"\"}, \"zerolinecolor\": \"#E1E5ED\"}, \"xaxis5\": {\"anchor\": \"y5\", \"domain\": [0.0, 0.2125], \"gridcolor\": \"#E1E5ED\", \"showgrid\": false, \"tickfont\": {\"color\": \"#4D5663\"}, \"title\": {\"font\": {\"color\": \"#4D5663\"}, \"text\": \"\"}, \"zerolinecolor\": \"#E1E5ED\"}, \"xaxis6\": {\"anchor\": \"y6\", \"domain\": [0.2625, 0.475], \"gridcolor\": \"#E1E5ED\", \"showgrid\": false, \"tickfont\": {\"color\": \"#4D5663\"}, \"title\": {\"font\": {\"color\": \"#4D5663\"}, \"text\": \"\"}, \"zerolinecolor\": \"#E1E5ED\"}, \"xaxis7\": {\"anchor\": \"y7\", \"domain\": [0.525, 0.7375], \"gridcolor\": \"#E1E5ED\", \"showgrid\": false, \"tickfont\": {\"color\": \"#4D5663\"}, \"title\": {\"font\": {\"color\": \"#4D5663\"}, \"text\": \"\"}, \"zerolinecolor\": \"#E1E5ED\"}, \"xaxis8\": {\"anchor\": \"y8\", \"domain\": [0.7875, 1.0], \"gridcolor\": \"#E1E5ED\", \"showgrid\": false, \"tickfont\": {\"color\": \"#4D5663\"}, \"title\": {\"font\": {\"color\": \"#4D5663\"}, \"text\": \"\"}, \"zerolinecolor\": \"#E1E5ED\"}, \"xaxis9\": {\"anchor\": \"y9\", \"domain\": [0.0, 0.2125], \"gridcolor\": \"#E1E5ED\", \"showgrid\": false, \"tickfont\": {\"color\": \"#4D5663\"}, \"title\": {\"font\": {\"color\": \"#4D5663\"}, \"text\": \"\"}, \"zerolinecolor\": \"#E1E5ED\"}, \"yaxis\": {\"anchor\": \"x\", \"domain\": [0.8025, 1.0], \"gridcolor\": \"#E1E5ED\", \"showgrid\": false, \"tickfont\": {\"color\": \"#4D5663\"}, \"title\": {\"font\": {\"color\": \"#4D5663\"}, \"text\": \"\"}, \"zerolinecolor\": \"#E1E5ED\"}, \"yaxis10\": {\"anchor\": \"x10\", \"domain\": [0.2675, 0.465], \"gridcolor\": \"#E1E5ED\", \"showgrid\": false, \"tickfont\": {\"color\": \"#4D5663\"}, \"title\": {\"font\": {\"color\": \"#4D5663\"}, \"text\": \"\"}, \"zerolinecolor\": \"#E1E5ED\"}, \"yaxis11\": {\"anchor\": \"x11\", \"domain\": [0.2675, 0.465], \"gridcolor\": \"#E1E5ED\", \"showgrid\": false, \"tickfont\": {\"color\": \"#4D5663\"}, \"title\": {\"font\": {\"color\": \"#4D5663\"}, \"text\": \"\"}, \"zerolinecolor\": \"#E1E5ED\"}, \"yaxis12\": {\"anchor\": \"x12\", \"domain\": [0.2675, 0.465], \"gridcolor\": \"#E1E5ED\", \"showgrid\": false, \"tickfont\": {\"color\": \"#4D5663\"}, \"title\": {\"font\": {\"color\": \"#4D5663\"}, \"text\": \"\"}, \"zerolinecolor\": \"#E1E5ED\"}, \"yaxis13\": {\"anchor\": \"x13\", \"domain\": [0.0, 0.1975], \"gridcolor\": \"#E1E5ED\", \"showgrid\": false, \"tickfont\": {\"color\": \"#4D5663\"}, \"title\": {\"font\": {\"color\": \"#4D5663\"}, \"text\": \"\"}, \"zerolinecolor\": \"#E1E5ED\"}, \"yaxis14\": {\"anchor\": \"x14\", \"domain\": [0.0, 0.1975], \"gridcolor\": \"#E1E5ED\", \"showgrid\": false, \"tickfont\": {\"color\": \"#4D5663\"}, \"title\": {\"font\": {\"color\": \"#4D5663\"}, \"text\": \"\"}, \"zerolinecolor\": \"#E1E5ED\"}, \"yaxis15\": {\"anchor\": \"x15\", \"domain\": [0.0, 0.1975], \"gridcolor\": \"#E1E5ED\", \"showgrid\": false, \"tickfont\": {\"color\": \"#4D5663\"}, \"title\": {\"font\": {\"color\": \"#4D5663\"}, \"text\": \"\"}, \"zerolinecolor\": \"#E1E5ED\"}, \"yaxis16\": {\"anchor\": \"x16\", \"domain\": [0.0, 0.1975], \"gridcolor\": \"#E1E5ED\", \"showgrid\": false, \"tickfont\": {\"color\": \"#4D5663\"}, \"title\": {\"font\": {\"color\": \"#4D5663\"}, \"text\": \"\"}, \"zerolinecolor\": \"#E1E5ED\"}, \"yaxis2\": {\"anchor\": \"x2\", \"domain\": [0.8025, 1.0], \"gridcolor\": \"#E1E5ED\", \"showgrid\": false, \"tickfont\": {\"color\": \"#4D5663\"}, \"title\": {\"font\": {\"color\": \"#4D5663\"}, \"text\": \"\"}, \"zerolinecolor\": \"#E1E5ED\"}, \"yaxis3\": {\"anchor\": \"x3\", \"domain\": [0.8025, 1.0], \"gridcolor\": \"#E1E5ED\", \"showgrid\": false, \"tickfont\": {\"color\": \"#4D5663\"}, \"title\": {\"font\": {\"color\": \"#4D5663\"}, \"text\": \"\"}, \"zerolinecolor\": \"#E1E5ED\"}, \"yaxis4\": {\"anchor\": \"x4\", \"domain\": [0.8025, 1.0], \"gridcolor\": \"#E1E5ED\", \"showgrid\": false, \"tickfont\": {\"color\": \"#4D5663\"}, \"title\": {\"font\": {\"color\": \"#4D5663\"}, \"text\": \"\"}, \"zerolinecolor\": \"#E1E5ED\"}, \"yaxis5\": {\"anchor\": \"x5\", \"domain\": [0.535, 0.7325], \"gridcolor\": \"#E1E5ED\", \"showgrid\": false, \"tickfont\": {\"color\": \"#4D5663\"}, \"title\": {\"font\": {\"color\": \"#4D5663\"}, \"text\": \"\"}, \"zerolinecolor\": \"#E1E5ED\"}, \"yaxis6\": {\"anchor\": \"x6\", \"domain\": [0.535, 0.7325], \"gridcolor\": \"#E1E5ED\", \"showgrid\": false, \"tickfont\": {\"color\": \"#4D5663\"}, \"title\": {\"font\": {\"color\": \"#4D5663\"}, \"text\": \"\"}, \"zerolinecolor\": \"#E1E5ED\"}, \"yaxis7\": {\"anchor\": \"x7\", \"domain\": [0.535, 0.7325], \"gridcolor\": \"#E1E5ED\", \"showgrid\": false, \"tickfont\": {\"color\": \"#4D5663\"}, \"title\": {\"font\": {\"color\": \"#4D5663\"}, \"text\": \"\"}, \"zerolinecolor\": \"#E1E5ED\"}, \"yaxis8\": {\"anchor\": \"x8\", \"domain\": [0.535, 0.7325], \"gridcolor\": \"#E1E5ED\", \"showgrid\": false, \"tickfont\": {\"color\": \"#4D5663\"}, \"title\": {\"font\": {\"color\": \"#4D5663\"}, \"text\": \"\"}, \"zerolinecolor\": \"#E1E5ED\"}, \"yaxis9\": {\"anchor\": \"x9\", \"domain\": [0.2675, 0.465], \"gridcolor\": \"#E1E5ED\", \"showgrid\": false, \"tickfont\": {\"color\": \"#4D5663\"}, \"title\": {\"font\": {\"color\": \"#4D5663\"}, \"text\": \"\"}, \"zerolinecolor\": \"#E1E5ED\"}},\n",
       "                        {\"showLink\": true, \"linkText\": \"Export to plot.ly\", \"plotlyServerURL\": \"https://plot.ly\", \"responsive\": true}\n",
       "                    ).then(function(){\n",
       "                            \n",
       "var gd = document.getElementById('ce8348f1-2e49-4b81-8ab0-bc1f5203c0f6');\n",
       "var x = new MutationObserver(function (mutations, observer) {{\n",
       "        var display = window.getComputedStyle(gd).display;\n",
       "        if (!display || display === 'none') {{\n",
       "            console.log([gd, 'removed!']);\n",
       "            Plotly.purge(gd);\n",
       "            observer.disconnect();\n",
       "        }}\n",
       "}});\n",
       "\n",
       "// Listen for the removal of the full notebook cells\n",
       "var notebookContainer = gd.closest('#notebook-container');\n",
       "if (notebookContainer) {{\n",
       "    x.observe(notebookContainer, {childList: true});\n",
       "}}\n",
       "\n",
       "// Listen for the clearing of the current output cell\n",
       "var outputEl = gd.closest('.output');\n",
       "if (outputEl) {{\n",
       "    x.observe(outputEl, {childList: true});\n",
       "}}\n",
       "\n",
       "                        })\n",
       "                };\n",
       "                });\n",
       "            </script>\n",
       "        </div>"
      ]
     },
     "metadata": {},
     "output_type": "display_data"
    }
   ],
   "source": [
    "#scatter matrix\n",
    "\n",
    "#only works if all columns in numerical form\n",
    "\n",
    "df.scatter_matrix()"
   ]
  },
  {
   "cell_type": "code",
   "execution_count": null,
   "metadata": {},
   "outputs": [],
   "source": [
    "santosjorge/cufflinks -- githubpage for tutorials on plotty"
   ]
  }
 ],
 "metadata": {
  "kernelspec": {
   "display_name": "Python 3",
   "language": "python",
   "name": "python3"
  },
  "language_info": {
   "codemirror_mode": {
    "name": "ipython",
    "version": 3
   },
   "file_extension": ".py",
   "mimetype": "text/x-python",
   "name": "python",
   "nbconvert_exporter": "python",
   "pygments_lexer": "ipython3",
   "version": "3.7.6"
  }
 },
 "nbformat": 4,
 "nbformat_minor": 4
}
